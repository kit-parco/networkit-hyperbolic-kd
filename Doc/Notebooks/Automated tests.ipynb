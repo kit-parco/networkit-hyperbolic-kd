{
 "cells": [
  {
   "cell_type": "code",
   "execution_count": 30,
   "metadata": {
    "collapsed": false
   },
   "outputs": [],
   "source": [
    "from networkit import *\n",
    "%matplotlib inline\n",
    "import matplotlib.pyplot as plt\n",
    "import time\n",
    "from sklearn import *\n",
    "import numpy as np\n",
    "import random\n",
    "from cython import *\n",
    "from math import isnan"
   ]
  },
  {
   "cell_type": "code",
   "execution_count": 31,
   "metadata": {
    "collapsed": false
   },
   "outputs": [
    {
     "name": "stdout",
     "output_type": "stream",
     "text": [
      "/home/xza/Thesis/NetworKit-Esders\n"
     ]
    }
   ],
   "source": [
    "cd ~/Thesis/NetworKit-Esders"
   ]
  },
  {
   "cell_type": "code",
   "execution_count": 32,
   "metadata": {
    "collapsed": true
   },
   "outputs": [],
   "source": [
    "def initPredictors(featureGraph, trainingGraph):\n",
    "    featureKatzIndex = linkprediction.KatzIndex(featureGraph, 5, 0.005)\n",
    "    featureCommonNeighborsIndex = linkprediction.CommonNeighborsIndex(featureGraph)\n",
    "    featureJaccardIndex = linkprediction.JaccardIndex(featureGraph)\n",
    "    featurePreferentialAttachmentIndex = linkprediction.PreferentialAttachmentIndex(featureGraph)\n",
    "    featureAdamicAdarIndex = linkprediction.AdamicAdarIndex(featureGraph)\n",
    "    featureUDegreeIndex = linkprediction.UDegreeIndex(featureGraph)\n",
    "    featureVDegreeIndex = linkprediction.VDegreeIndex(featureGraph)\n",
    "    featureAlgebraicDistanceIndex = linkprediction.AlgebraicDistanceIndex(featureGraph, 5, 15)\n",
    "    featureAlgebraicDistanceIndex.preprocess()\n",
    "    featureReversedNeighborhoodDistanceIndex = linkprediction.ReversedNeighborhoodDistanceIndex(featureGraph)\n",
    "    featureTotalNeighborsIndex = linkprediction.TotalNeighborsIndex(featureGraph)\n",
    "    featureNeighborsMeasureIndex = linkprediction.NeighborsMeasureIndex(featureGraph)\n",
    "    featureSameCommunityIndex = linkprediction.SameCommunityIndex(featureGraph)\n",
    "    featureAdjustedRandIndex = linkprediction.AdjustedRandIndex(featureGraph)\n",
    "    featureResourceAllocationIndex = linkprediction.ResourceAllocationIndex(featureGraph)\n",
    "\n",
    "    katzIndex = linkprediction.KatzIndex(trainingGraph, 5, 0.005)\n",
    "    commonNeighborsIndex = linkprediction.CommonNeighborsIndex(trainingGraph)\n",
    "    jaccardIndex = linkprediction.JaccardIndex(trainingGraph)\n",
    "    preferentialAttachmentIndex = linkprediction.PreferentialAttachmentIndex(trainingGraph)\n",
    "    adamicAdarIndex = linkprediction.AdamicAdarIndex(trainingGraph)\n",
    "    uDegreeIndex = linkprediction.UDegreeIndex(trainingGraph)\n",
    "    vDegreeIndex = linkprediction.VDegreeIndex(trainingGraph)\n",
    "    algebraicDistanceIndex = linkprediction.AlgebraicDistanceIndex(trainingGraph, 5, 15)\n",
    "    algebraicDistanceIndex.preprocess()\n",
    "    reversedNeighborhoodDistanceIndex = linkprediction.ReversedNeighborhoodDistanceIndex(trainingGraph)\n",
    "    totalNeighborsIndex = linkprediction.TotalNeighborsIndex(trainingGraph)\n",
    "    neighborsMeasureIndex = linkprediction.NeighborsMeasureIndex(trainingGraph)\n",
    "    sameCommunityIndex = linkprediction.SameCommunityIndex(trainingGraph)\n",
    "    adjustedRandIndex = linkprediction.AdjustedRandIndex(trainingGraph)\n",
    "    resourceAllocationIndex = linkprediction.ResourceAllocationIndex(trainingGraph)\n",
    "    \n",
    "    featureLinkPredictors = (featureCommonNeighborsIndex, featureJaccardIndex, featureAdamicAdarIndex, featurePreferentialAttachmentIndex, featureUDegreeIndex, featureVDegreeIndex, featureReversedNeighborhoodDistanceIndex, featureAlgebraicDistanceIndex, featureTotalNeighborsIndex, featureNeighborsMeasureIndex, featureSameCommunityIndex, featureResourceAllocationIndex, featureAdjustedRandIndex)\n",
    "    linkPredictors = (commonNeighborsIndex, jaccardIndex, adamicAdarIndex, preferentialAttachmentIndex, uDegreeIndex, vDegreeIndex, reversedNeighborhoodDistanceIndex, algebraicDistanceIndex, totalNeighborsIndex, neighborsMeasureIndex, sameCommunityIndex, resourceAllocationIndex, adjustedRandIndex)"
   ]
  },
  {
   "cell_type": "code",
   "execution_count": 33,
   "metadata": {
    "collapsed": true
   },
   "outputs": [],
   "source": [
    "testGraph = readGraph(\"input/cond-mat-2005.gml_new\", Format.GML)"
   ]
  },
  {
   "cell_type": "code",
   "execution_count": 34,
   "metadata": {
    "collapsed": true
   },
   "outputs": [],
   "source": [
    "dtc = ensemble.BaggingClassifier(tree.DecisionTreeClassifier(), max_features=0.2, n_jobs=-1)"
   ]
  },
  {
   "cell_type": "code",
   "execution_count": null,
   "metadata": {
    "collapsed": false,
    "scrolled": false
   },
   "outputs": [],
   "source": [
    "iterations = 5\n",
    "counts = [2, 5, 10, 15, 20, 25, 30, 35, 40, 45, 50, 55, 60, 65, 70, 75, 80, 85, 90, 95, 100] # count of all\n",
    "sum = 0\n",
    "for i in range(0, iterations * len(counts)):\n",
    "    countAll = counts[int(i / iterations)]\n",
    "    count = int(countAll / 2)\n",
    "    if i % iterations == 0:\n",
    "        sum = 0\n",
    "    roc = linkprediction.ROCMetric(testGraph)\n",
    "    pr = linkprediction.PrecisionRecallMetric(testGraph)\n",
    "    trainingGraph = linkprediction.TrainingGraphSampler.byCount(testGraph, testGraph.numberOfEdges() - 10000)\n",
    "    featureGraph = linkprediction.TrainingGraphSampler.byCount(trainingGraph, trainingGraph.numberOfEdges() - count)\n",
    "    \n",
    "    featureKatzIndex = linkprediction.KatzIndex(featureGraph, 5, 0.005)\n",
    "    featureCommonNeighborsIndex = linkprediction.CommonNeighborsIndex(featureGraph)\n",
    "    featureJaccardIndex = linkprediction.JaccardIndex(featureGraph)\n",
    "    featurePreferentialAttachmentIndex = linkprediction.PreferentialAttachmentIndex(featureGraph)\n",
    "    featureAdamicAdarIndex = linkprediction.AdamicAdarIndex(featureGraph)\n",
    "    featureUDegreeIndex = linkprediction.UDegreeIndex(featureGraph)\n",
    "    featureVDegreeIndex = linkprediction.VDegreeIndex(featureGraph)\n",
    "    featureAlgebraicDistanceIndex = linkprediction.AlgebraicDistanceIndex(featureGraph, 5, 15)\n",
    "    featureAlgebraicDistanceIndex.preprocess()\n",
    "    featureReversedNeighborhoodDistanceIndex = linkprediction.ReversedNeighborhoodDistanceIndex(featureGraph)\n",
    "    featureTotalNeighborsIndex = linkprediction.TotalNeighborsIndex(featureGraph)\n",
    "    featureNeighborsMeasureIndex = linkprediction.NeighborsMeasureIndex(featureGraph)\n",
    "    featureSameCommunityIndex = linkprediction.SameCommunityIndex(featureGraph)\n",
    "    featureAdjustedRandIndex = linkprediction.AdjustedRandIndex(featureGraph)\n",
    "    featureResourceAllocationIndex = linkprediction.ResourceAllocationIndex(featureGraph)\n",
    "\n",
    "    katzIndex = linkprediction.KatzIndex(trainingGraph, 5, 0.005)\n",
    "    commonNeighborsIndex = linkprediction.CommonNeighborsIndex(trainingGraph)\n",
    "    jaccardIndex = linkprediction.JaccardIndex(trainingGraph)\n",
    "    preferentialAttachmentIndex = linkprediction.PreferentialAttachmentIndex(trainingGraph)\n",
    "    adamicAdarIndex = linkprediction.AdamicAdarIndex(trainingGraph)\n",
    "    uDegreeIndex = linkprediction.UDegreeIndex(trainingGraph)\n",
    "    vDegreeIndex = linkprediction.VDegreeIndex(trainingGraph)\n",
    "    algebraicDistanceIndex = linkprediction.AlgebraicDistanceIndex(trainingGraph, 5, 15)\n",
    "    algebraicDistanceIndex.preprocess()\n",
    "    reversedNeighborhoodDistanceIndex = linkprediction.ReversedNeighborhoodDistanceIndex(trainingGraph)\n",
    "    totalNeighborsIndex = linkprediction.TotalNeighborsIndex(trainingGraph)\n",
    "    neighborsMeasureIndex = linkprediction.NeighborsMeasureIndex(trainingGraph)\n",
    "    sameCommunityIndex = linkprediction.SameCommunityIndex(trainingGraph)\n",
    "    adjustedRandIndex = linkprediction.AdjustedRandIndex(trainingGraph)\n",
    "    resourceAllocationIndex = linkprediction.ResourceAllocationIndex(trainingGraph)\n",
    "    \n",
    "    featureLinkPredictors = (featureCommonNeighborsIndex, featureJaccardIndex, featureAdamicAdarIndex, featurePreferentialAttachmentIndex, featureUDegreeIndex, featureVDegreeIndex, featureReversedNeighborhoodDistanceIndex, featureAlgebraicDistanceIndex, featureTotalNeighborsIndex, featureNeighborsMeasureIndex, featureSameCommunityIndex, featureResourceAllocationIndex, featureAdjustedRandIndex)\n",
    "    linkPredictors = (commonNeighborsIndex, jaccardIndex, adamicAdarIndex, preferentialAttachmentIndex, uDegreeIndex, vDegreeIndex, reversedNeighborhoodDistanceIndex, algebraicDistanceIndex, totalNeighborsIndex, neighborsMeasureIndex, sameCommunityIndex, resourceAllocationIndex, adjustedRandIndex)\n",
    "    \n",
    "    # Positives\n",
    "    featureGraphEdges = featureGraph.edges()\n",
    "    deltaFeatureTrainGraph = Graph(trainingGraph)\n",
    "    for e in featureGraphEdges:\n",
    "        deltaFeatureTrainGraph.removeEdge(e[0], e[1])\n",
    "    positives = deltaFeatureTrainGraph.edges()\n",
    "    # Negatives: Drawn at 2-hop distance\n",
    "    negatives = []\n",
    "    # Just enough so that we can extract 25k negatives\n",
    "    twoHops = linkprediction.MissingLinksFinder(featureGraph).findRandomly(2, count + 20000)\n",
    "    j = 0\n",
    "    while (len(negatives) < count):\n",
    "        e = twoHops[j]\n",
    "        if not trainingGraph.hasEdge(e[0], e[1]):\n",
    "            negatives.append(e)\n",
    "        j += 1\n",
    "    nodePairsTrain = negatives + positives\n",
    "    nodePairsTrain.sort()\n",
    "    #print(len(nodePairsTrain))\n",
    "    if (i % iterations) == 0:\n",
    "        nodePairsTest = linkprediction.MissingLinksFinder(trainingGraph).findAll(2)\n",
    "        labelTest = linkprediction.getClasses(nodePairsTest, testGraph)\n",
    "        featureTest = linkprediction.getSamples(nodePairsTest, *linkPredictors)\n",
    "    labelTrain = linkprediction.getClasses(nodePairsTrain, trainingGraph)\n",
    "    featureTrain = linkprediction.getSamples(nodePairsTrain, *featureLinkPredictors)\n",
    "    #print(len(labelTest))\n",
    "    #print(sum(list(labelTest)))\n",
    "    #print(len(labelTest), \"/\", sum(labelTest), \"positive instances in test\")\n",
    "    dtc.fit(featureTrain, labelTrain)\n",
    "    supPreds = dtc.predict_proba(featureTest)\n",
    "    predLabelTest = [pred[1] for pred in supPreds]\n",
    "    auc = metrics.roc_auc_score(labelTest, predLabelTest)\n",
    "    #print(\"AUC(iteration=\" + str((i % iterations)) + \", count=\" + str(countAll) + \") =\", str(auc))\n",
    "    sum += auc\n",
    "    if (i % iterations) == (iterations - 1):\n",
    "        #print(\"AVG-AUC(count=\" + str(countAll) + \") =\", str((sum / iterations)))\n",
    "        print(str(sum / iterations))"
   ]
  },
  {
   "cell_type": "code",
   "execution_count": null,
   "metadata": {
    "collapsed": true
   },
   "outputs": [],
   "source": []
  },
  {
   "cell_type": "code",
   "execution_count": null,
   "metadata": {
    "collapsed": true
   },
   "outputs": [],
   "source": []
  }
 ],
 "metadata": {
  "kernelspec": {
   "display_name": "Python 3",
   "language": "python",
   "name": "python3"
  },
  "language_info": {
   "codemirror_mode": {
    "name": "ipython",
    "version": 3
   },
   "file_extension": ".py",
   "mimetype": "text/x-python",
   "name": "python",
   "nbconvert_exporter": "python",
   "pygments_lexer": "ipython3",
   "version": "3.4.0"
  }
 },
 "nbformat": 4,
 "nbformat_minor": 0
}

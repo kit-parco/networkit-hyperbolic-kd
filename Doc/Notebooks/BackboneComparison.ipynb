{
 "metadata": {
  "name": "",
  "signature": "sha256:08551423ef4b367065daa43b393b67b902012eaa6509e0d831fe963e28ccbbc9"
 },
 "nbformat": 3,
 "nbformat_minor": 0,
 "worksheets": [
  {
   "cells": [
    {
     "cell_type": "code",
     "collapsed": false,
     "input": [
      "from NetworKit import *"
     ],
     "language": "python",
     "metadata": {},
     "outputs": [],
     "prompt_number": 1
    },
    {
     "cell_type": "code",
     "collapsed": false,
     "input": [
      "G = readGraph(\"../../input/backbones/us_aviation_t100_2013.graphml\", Format.GraphML)"
     ],
     "language": "python",
     "metadata": {},
     "outputs": [
      {
       "output_type": "stream",
       "stream": "stdout",
       "text": [
        "identified graph as weighted\n"
       ]
      }
     ],
     "prompt_number": 2
    },
    {
     "cell_type": "code",
     "collapsed": false,
     "input": [
      "client = gephi.streaming.GephiStreamingClient()"
     ],
     "language": "python",
     "metadata": {},
     "outputs": []
    },
    {
     "cell_type": "code",
     "collapsed": false,
     "input": [
      "client.exportGraph(G)"
     ],
     "language": "python",
     "metadata": {},
     "outputs": []
    },
    {
     "cell_type": "code",
     "collapsed": false,
     "input": [
      "#Simmelian Backbone\n",
      "simmel = backbones.SimmelianBackbone()\n",
      "B_simmel = simmel.calculateParametric(G, 10, 5)\n",
      "\n",
      "#Multiscale Backbone\n",
      "multiscale = backbones.MultiscaleBackbone(G, 0.0001)\n",
      "B_multiscale = multiscale.calculate()"
     ],
     "language": "python",
     "metadata": {},
     "outputs": [],
     "prompt_number": 13
    },
    {
     "cell_type": "code",
     "collapsed": false,
     "input": [
      "client.exportBackboneAttribute(G, B_simmel, \"backbone\")"
     ],
     "language": "python",
     "metadata": {},
     "outputs": []
    },
    {
     "cell_type": "code",
     "collapsed": false,
     "input": [
      "properties.overview(G)"
     ],
     "language": "python",
     "metadata": {},
     "outputs": [
      {
       "output_type": "stream",
       "stream": "stdout",
       "text": [
        "Value 0 in data. Throwing out 0 values\n",
        "Calculating best minimal value for power law fit\n",
        "Value 0 in data. Throwing out 0 values\n",
        "Calculating best minimal value for power law fit\n",
        "<_NetworKit.PLM object at 0x7f8bb7d1c650>\n",
        "\n"
       ]
      },
      {
       "output_type": "stream",
       "stream": "stdout",
       "text": [
        "Network Properties: t100_2013\n",
        "==================\n",
        "Basic Properties\n",
        "-----------------------------  ------------\n",
        "nodes (n)                       1073\n",
        "edges (m)                      13713\n",
        "directed?                          0\n",
        "isolated nodes                     0\n",
        "self-loops                       162\n",
        "density                            0.023843\n",
        "clustering coefficient             0.642621\n",
        "degeneracy (max. core number)     52\n",
        "-----------------------------  ------------\n",
        "Node Degree Properties\n",
        "-------------------------  --------------\n",
        "min. degree                1\n",
        "max. degree                264\n",
        "avg. degree                25.409133\n",
        "degree power law fit?      True, 4.096874\n",
        "degree power law exponent  1.9801\n",
        "degree assortativity       0.0654\n",
        "-------------------------  --------------\n",
        "Path Structure\n",
        "-------------------------  ------\n",
        "connected components       1\n",
        "size of largest component  1073\n",
        "estimated diameter range   (7, 7)\n",
        "-------------------------  ------\n",
        "Community Structure\n",
        "-------------------------------------------  -----------  --------\n",
        "modularity-driven community detection (PLM)\n",
        "                                             communities  7\n",
        "                                             modularity   0.401099\n",
        "-------------------------------------------  -----------  --------\n",
        "Degree Distribution\n",
        "-------------------\n",
        "0-   :  \u2587\u2587\u2587\u2587\u2587\u2587\u2587\u2587\u2587\u2587\u2587\u2587\u2587\u2587\u2587\u2587\u2587\u2587\u2587\u2587\u2587\u2587\u2587\u2587\u2587\u2587\u2587\u2587\u2587\u2587\u2587\u2587\u2587\u2587\u2587\u2587\u2587\u2587\u2587\u2587\u2587\u2587\u2587\u2587\u2587\u2587\u2587\u2587\u2587\u2587 576.00\n",
        "11-  :  \u2587\u2587\u2587\u2587\u2587\u2587\u2587\u2587\u2587\u2587\u2587\u2587\u2587\u2587\u2587 176.00\n",
        "22-  :  \u2587\u2587\u2587\u2587\u2587\u2587\u2587\u2587  99.00\n",
        "33-  :  \u2587\u2587\u2587  41.00\n",
        "44-  :  \u2587\u2587  27.00\n",
        "55-  :  \u2587\u2587  31.00\n",
        "66-  :  \u2587  16.00\n",
        "77-  :  \u2587  16.00\n",
        "88-  :  \u2587  14.00\n",
        "99-  :  \u2587  14.00\n",
        "110- :  |  11.00\n",
        "121- :  |  11.00\n",
        "132- :  |   9.00\n",
        "143- :  |   6.00\n",
        "154- :  |   6.00\n",
        "165- :  |   6.00\n",
        "176- :  |   4.00\n",
        "187- :  |   3.00\n",
        "198- :  |   1.00\n",
        "209- :  |   2.00\n",
        "220- :  |   2.00\n",
        "231- :  |   0.00\n",
        "242- :  |   1.00\n",
        "253- :  |   0.00\n",
        "264- :  |   1.00\n",
        "\n"
       ]
      }
     ],
     "prompt_number": 4
    },
    {
     "cell_type": "code",
     "collapsed": false,
     "input": [
      "properties.overview(B_multiscale)"
     ],
     "language": "python",
     "metadata": {},
     "outputs": [
      {
       "output_type": "stream",
       "stream": "stdout",
       "text": [
        "Value 0 in data. Throwing out 0 values\n",
        "Calculating best minimal value for power law fit\n",
        "Value 0 in data. Throwing out 0 values\n",
        "Calculating best minimal value for power law fit\n",
        "<_NetworKit.PLM object at 0x7f2f25b170d8>\n",
        "\n",
        "Network Properties: G#192\n",
        "==================\n",
        "Basic Properties\n",
        "----------------------  --------\n",
        "nodes (n)               1073\n",
        "edges (m)               5368\n",
        "directed?               False\n",
        "isolated nodes          146\n",
        "self-loops              19\n",
        "density                 0.009334\n",
        "clustering coefficient\n",
        "----------------------  --------\n",
        "Node Degree Properties\n",
        "-------------------------  --------------\n",
        "min. degree                0\n",
        "max. degree                178\n",
        "avg. degree                9.987884\n",
        "degree power law fit?      True, 4.293078\n",
        "degree power law exponent  1.7609\n",
        "degree assortativity       0.2894\n",
        "-------------------------  --------------\n",
        "Path Structure\n",
        "-------------------------  ----\n",
        "connected components       148\n",
        "size of largest component  925\n",
        "estimated diameter range   None\n",
        "-------------------------  ----\n",
        "Community Structure\n",
        "-------------------------------------------  -----------  --------\n",
        "modularity-driven community detection (PLM)\n",
        "                                             communities  162\n",
        "                                             modularity   0.418869\n",
        "-------------------------------------------  -----------  --------\n",
        "Degree Distribution\n",
        "-------------------\n",
        "0-   :  \u2587\u2587\u2587\u2587\u2587\u2587\u2587\u2587\u2587\u2587\u2587\u2587\u2587\u2587\u2587\u2587\u2587\u2587\u2587\u2587\u2587\u2587\u2587\u2587\u2587\u2587\u2587\u2587\u2587\u2587\u2587\u2587\u2587\u2587\u2587\u2587\u2587\u2587\u2587\u2587\u2587\u2587\u2587\u2587\u2587\u2587\u2587\u2587\u2587\u2587 777.00\n",
        "8-   :  \u2587\u2587\u2587\u2587\u2587\u2587\u2587\u2587\u2587 140.00\n",
        "16-  :  \u2587\u2587  44.00\n",
        "24-  :  \u2587\u2587  36.00\n",
        "32-  :  \u2587  16.00\n",
        "40-  :  |   9.00\n",
        "48-  :  |  14.00\n",
        "56-  :  |   7.00\n",
        "64-  :  |   1.00\n",
        "72-  :  |   4.00\n",
        "80-  :  |   4.00\n",
        "88-  :  |   3.00\n",
        "96-  :  |   4.00\n",
        "104- :  |   2.00\n",
        "112- :  |   1.00\n",
        "120- :  |   2.00\n",
        "128- :  |   2.00\n",
        "136- :  |   1.00\n",
        "144- :  |   0.00\n",
        "152- :  |   2.00\n",
        "160- :  |   1.00\n",
        "168- :  |   2.00\n",
        "176- :  |   1.00\n",
        "184- :  |   0.00\n",
        "192- :  |   0.00\n",
        "\n"
       ]
      }
     ],
     "prompt_number": 21
    },
    {
     "cell_type": "code",
     "collapsed": false,
     "input": [
      "ddGraph = properties.degreeDistribution(G)\n",
      "xscale(\"log\")\n",
      "xlabel(\"degree\")\n",
      "yscale(\"log\")\n",
      "ylabel(\"number of nodes\")\n",
      "p = plot(ddGraph)"
     ],
     "language": "python",
     "metadata": {},
     "outputs": [
      {
       "metadata": {},
       "output_type": "display_data",
       "png": "[encoded data removed]",
       "text": [
        "<matplotlib.figure.Figure at 0x7f2f240e17b8>"
       ]
      }
     ],
     "prompt_number": 22
    },
    {
     "cell_type": "code",
     "collapsed": false,
     "input": [
      "ddSimmel = properties.degreeDistribution(B_multiscale)\n",
      "ddSimmel = ddSimmel + [0]*(len(ddGraph) - len(ddSimmel)) \n",
      "xscale(\"log\")\n",
      "xlabel(\"degree\")\n",
      "yscale(\"log\")\n",
      "ylabel(\"number of nodes\")\n",
      "plot(ddSimmel)"
     ],
     "language": "python",
     "metadata": {},
     "outputs": [
      {
       "metadata": {},
       "output_type": "pyout",
       "prompt_number": 23,
       "text": [
        "[<matplotlib.lines.Line2D at 0x7f2f2407f5c0>]"
       ]
      },
      {
       "metadata": {},
       "output_type": "display_data",
       "png": "[encoded data removed]",
       "text": [
        "<matplotlib.figure.Figure at 0x7f2f1ff2b2b0>"
       ]
      }
     ],
     "prompt_number": 23
    },
    {
     "cell_type": "code",
     "collapsed": false,
     "input": [
      "properties.clustering(G)"
     ],
     "language": "python",
     "metadata": {},
     "outputs": [
      {
       "metadata": {},
       "output_type": "pyout",
       "prompt_number": 47,
       "text": [
        "0.6394510553287588"
       ]
      }
     ],
     "prompt_number": 47
    },
    {
     "cell_type": "code",
     "collapsed": false,
     "input": [
      "properties.clustering(B_multiscale)"
     ],
     "language": "python",
     "metadata": {},
     "outputs": [
      {
       "metadata": {},
       "output_type": "pyout",
       "prompt_number": 48,
       "text": [
        "0.6955615391296794"
       ]
      }
     ],
     "prompt_number": 48
    }
   ],
   "metadata": {}
  }
 ]
}
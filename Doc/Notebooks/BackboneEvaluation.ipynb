{
 "metadata": {
  "name": "",
  "signature": "sha256:af8f213572ed53d872c7e5eeb3420847ca16e58346c61c8084086daa40978b85"
 },
 "nbformat": 3,
 "nbformat_minor": 0,
 "worksheets": [
  {
   "cells": [
    {
     "cell_type": "code",
     "collapsed": false,
     "input": [
      "from NetworKit import *"
     ],
     "language": "python",
     "metadata": {},
     "outputs": [],
     "prompt_number": 1
    },
    {
     "cell_type": "code",
     "collapsed": false,
     "input": [
      "def readFromEvalDir(directory, graph, backbone):\n",
      "    return readGraph(directory + graph + \"_\" + backbone + \".txt\", Format.METIS)"
     ],
     "language": "python",
     "metadata": {},
     "outputs": [],
     "prompt_number": 2
    },
    {
     "cell_type": "code",
     "collapsed": false,
     "input": [
      "inDir = \"/home/gerd/workspace/bc/ComplexNetworkBackbones/backboneEvaluation/output/\"\n",
      "inGraph =\"Caltech36.graphml\"\n",
      "inGName = \"Original graph\"\n",
      "inBName = \"SMB_0.3\" #SB_10_1, SB_Jaccard_0.9, SMB_0.5"
     ],
     "language": "python",
     "metadata": {},
     "outputs": [],
     "prompt_number": 8
    },
    {
     "cell_type": "heading",
     "level": 6,
     "metadata": {},
     "source": [
      "Read both original and backbone graph, and export them to gephi:"
     ]
    },
    {
     "cell_type": "code",
     "collapsed": false,
     "input": [
      "client = gephi.streaming.GephiStreamingClient()"
     ],
     "language": "python",
     "metadata": {},
     "outputs": [],
     "prompt_number": 4
    },
    {
     "cell_type": "code",
     "collapsed": false,
     "input": [
      "G = readFromEvalDir(inDir, inGraph, inGName)\n",
      "B = readFromEvalDir(inDir, inGraph, inBName)\n",
      "client.exportGraph(G)\n",
      "client.exportBackboneAttribute(G, B, \"backbone\")"
     ],
     "language": "python",
     "metadata": {},
     "outputs": [],
     "prompt_number": 5
    },
    {
     "cell_type": "heading",
     "level": 6,
     "metadata": {},
     "source": [
      "Use a different backbone, but the same original graph:"
     ]
    },
    {
     "cell_type": "code",
     "collapsed": false,
     "input": [
      "B = readFromEvalDir(inDir, inGraph, inBName)\n",
      "client.exportBackboneAttribute(G, B, \"backbone\")"
     ],
     "language": "python",
     "metadata": {},
     "outputs": [],
     "prompt_number": 9
    },
    {
     "cell_type": "heading",
     "level": 6,
     "metadata": {},
     "source": [
      "\"Fresh\" calculation:"
     ]
    },
    {
     "cell_type": "code",
     "collapsed": false,
     "input": [
      "G = readGraph(\"/home/gerd/workspace/bc/ComplexNetworkBackbones/backboneEvaluation/input/Caltech36.graphml\", Format.GraphML)\n",
      "client = gephi.streaming.GephiStreamingClient()"
     ],
     "language": "python",
     "metadata": {},
     "outputs": [],
     "prompt_number": 2
    },
    {
     "cell_type": "code",
     "collapsed": false,
     "input": [
      "communities = community.detectCommunities(G)"
     ],
     "language": "python",
     "metadata": {},
     "outputs": [
      {
       "output_type": "stream",
       "stream": "stdout",
       "text": [
        "PLM(balanced,) detected communities in 0.05464601516723633 [s]\n",
        "solution properties:\n",
        "-------------------  ----------\n",
        "# communities         10\n",
        "min community size     2\n",
        "max community size   144\n",
        "avg. community size   76.9\n",
        "modularity             0.400267\n",
        "-------------------  ----------\n"
       ]
      }
     ],
     "prompt_number": 3
    },
    {
     "cell_type": "code",
     "collapsed": false,
     "input": [
      "simmel = backbones.SimmelianBackbone(10, 5)\n",
      "B = simmel.calculate(G)"
     ],
     "language": "python",
     "metadata": {},
     "outputs": [],
     "prompt_number": 19
    },
    {
     "cell_type": "code",
     "collapsed": false,
     "input": [
      "simmelMultiscale = backbones.SimmelianMultiscaleBackbone(0.2)\n",
      "B = simmelMultiscale.calculate(G)\n",
      "print(G.numberOfEdges(), \" \", B.numberOfEdges())"
     ],
     "language": "python",
     "metadata": {},
     "outputs": [
      {
       "output_type": "stream",
       "stream": "stdout",
       "text": [
        "16656   2611\n"
       ]
      }
     ],
     "prompt_number": 5
    },
    {
     "cell_type": "code",
     "collapsed": false,
     "input": [
      "client.exportGraph(G)\n",
      "client.exportNodeValues(G, communities, \"community\")\n",
      "client.exportBackboneAttribute(G, B, \"backbone\")"
     ],
     "language": "python",
     "metadata": {},
     "outputs": [],
     "prompt_number": 6
    },
    {
     "cell_type": "heading",
     "level": 6,
     "metadata": {},
     "source": [
      "Recalculation:"
     ]
    },
    {
     "cell_type": "code",
     "collapsed": false,
     "input": [
      "simmelMultiscale = backbones.SimmelianMultiscaleBackbone(0.2)\n",
      "B = simmelMultiscale.calculate(G)\n",
      "print(G.numberOfEdges(), \" \", B.numberOfEdges())\n",
      "client.exportGraph(G)\n",
      "client.exportNodeValues(G, communities, \"community\")\n",
      "client.exportBackboneAttribute(G, B, \"backbone\")"
     ],
     "language": "python",
     "metadata": {},
     "outputs": [
      {
       "output_type": "stream",
       "stream": "stdout",
       "text": [
        "16656   2611\n"
       ]
      }
     ],
     "prompt_number": 11
    },
    {
     "cell_type": "code",
     "collapsed": false,
     "input": [],
     "language": "python",
     "metadata": {},
     "outputs": []
    }
   ],
   "metadata": {}
  }
 ]
}
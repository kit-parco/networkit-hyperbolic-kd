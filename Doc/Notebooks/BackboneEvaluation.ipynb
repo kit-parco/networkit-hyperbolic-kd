{
 "metadata": {
  "name": "",
  "signature": "sha256:00711754f2bbb374fa82c3de5558f7544900a56310a4fac92d83038ccd1ba614"
 },
 "nbformat": 3,
 "nbformat_minor": 0,
 "worksheets": [
  {
   "cells": [
    {
     "cell_type": "code",
     "collapsed": false,
     "input": [
      "from NetworKit import *"
     ],
     "language": "python",
     "metadata": {},
     "outputs": [],
     "prompt_number": 1
    },
    {
     "cell_type": "code",
     "collapsed": false,
     "input": [
      "def readFromEvalDir(directory, graph, backbone):\n",
      "    return readGraph(directory + graph + \"_\" + backbone + \".txt\", Format.METIS)"
     ],
     "language": "python",
     "metadata": {},
     "outputs": [],
     "prompt_number": 2
    },
    {
     "cell_type": "code",
     "collapsed": false,
     "input": [
      "inDir = \"/home/gerd/workspace/bc/ComplexNetworkBackbones/backboneEvaluation/output/\"\n",
      "inGraph =\"Caltech36.graphml\"\n",
      "inGName = \"Original graph\"\n",
      "inBName = \"SMB_0.3\" #SB_10_1, SB_Jaccard_0.9, SMB_0.5"
     ],
     "language": "python",
     "metadata": {},
     "outputs": [],
     "prompt_number": 8
    },
    {
     "cell_type": "heading",
     "level": 6,
     "metadata": {},
     "source": [
      "Read both original and backbone graph, and export them to gephi:"
     ]
    },
    {
     "cell_type": "code",
     "collapsed": false,
     "input": [
      "client = gephi.streaming.GephiStreamingClient()"
     ],
     "language": "python",
     "metadata": {},
     "outputs": [],
     "prompt_number": 4
    },
    {
     "cell_type": "code",
     "collapsed": false,
     "input": [
      "G = readFromEvalDir(inDir, inGraph, inGName)\n",
      "B = readFromEvalDir(inDir, inGraph, inBName)\n",
      "client.exportGraph(G)\n",
      "client.exportBackboneAttribute(G, B, \"backbone\")"
     ],
     "language": "python",
     "metadata": {},
     "outputs": [],
     "prompt_number": 5
    },
    {
     "cell_type": "heading",
     "level": 6,
     "metadata": {},
     "source": [
      "Use a different backbone, but the same original graph:"
     ]
    },
    {
     "cell_type": "code",
     "collapsed": false,
     "input": [
      "B = readFromEvalDir(inDir, inGraph, inBName)\n",
      "client.exportBackboneAttribute(G, B, \"backbone\")"
     ],
     "language": "python",
     "metadata": {},
     "outputs": [],
     "prompt_number": 9
    },
    {
     "cell_type": "code",
     "collapsed": false,
     "input": [],
     "language": "python",
     "metadata": {},
     "outputs": []
    },
    {
     "cell_type": "code",
     "collapsed": false,
     "input": [],
     "language": "python",
     "metadata": {},
     "outputs": []
    }
   ],
   "metadata": {}
  }
 ]
}
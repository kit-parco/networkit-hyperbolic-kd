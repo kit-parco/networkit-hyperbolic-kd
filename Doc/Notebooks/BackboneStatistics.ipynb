{
 "metadata": {
  "name": "",
  "signature": "sha256:89e7baa82fee0b82d7395c7f631c1d962065f37f779d71baf309dffb4849ff30"
 },
 "nbformat": 3,
 "nbformat_minor": 0,
 "worksheets": [
  {
   "cells": [
    {
     "cell_type": "heading",
     "level": 5,
     "metadata": {},
     "source": [
      "Experimentation tools"
     ]
    },
    {
     "cell_type": "code",
     "collapsed": false,
     "input": [
      "from networkit import *\n",
      "import sqlite3\n",
      "from matplotlib import pyplot as plt\n",
      "import numpy as np\n",
      "from scipy.interpolate import interp1d\n",
      "from scipy.spatial import distance\n",
      "from scipy.stats import kendalltau\n",
      "import glob\n",
      "import re"
     ],
     "language": "python",
     "metadata": {},
     "outputs": [],
     "prompt_number": 61
    },
    {
     "cell_type": "code",
     "collapsed": false,
     "input": [
      "conn = sqlite3.connect('../../scripts/BackboneEvaluation/output/backbones2.db')\n",
      "c = conn.cursor()\n",
      "\n",
      "kitColors = {\n",
      "           'kitgreen' : (0, 150/255, 130/255),\n",
      "           'darkkitgreen' : (0, 85/255, 73/255),\n",
      "           'kitblue' : (70/255, 100/255, 170/255),\n",
      "           'darkkitblue' : (23/255, 33/255, 85/255),\n",
      "           'kitmaygreen' : (140/255, 182/255, 60/255),\n",
      "           'darkkitmaygreen' : (65/255, 85/255, 28/255),\n",
      "           'kityellow' : (252/255, 229/255, 0),\n",
      "           'darkkityellow' : (207/255, 188/255, 0),\n",
      "           'kitorange' : (223/255, 155/255, 27/255),\n",
      "           'kitbrown' : (167/255, 130/255, 46/255),\n",
      "           'kitred' : (162/255, 34/255, 35/255),\n",
      "           'lightkitred': (245/255, 91/255, 92/255),\n",
      "           'kitpurple' : (163/255, 16/255, 124/255),\n",
      "           'darkkitpurple' : (85/255, 8/255, 66/255),\n",
      "           'kitcyanblue' : (35/255, 161/255, 224/255),\n",
      "           'darkkitcyanblue' : (13/255, 61/255, 85/255),\n",
      "           'kitgray': (77/255, 77/255, 77/255)\n",
      "           }\n",
      "\n",
      "#colors = [kitColors[key] for key in kitColors]\n",
      "colors = [\"r\", \"k\", \"g\", \"c\", \"m\", \"y\", \"b\", kitColors['kitgreen'], kitColors['kitblue'], kitColors['kitgray']]"
     ],
     "language": "python",
     "metadata": {},
     "outputs": [],
     "prompt_number": 62
    },
    {
     "cell_type": "code",
     "collapsed": false,
     "input": [
      "#Returns a tuple (edgeRatios, values) for the given combination of propery, graph and algorithm.\n",
      "def getPropertyData(prop, graph, algorithm):\n",
      "    query = \"SELECT edgeRatio, \" + prop\n",
      "    query += \" FROM properties\"\n",
      "    query += \" WHERE graph='\" + graph + \"' AND algorithm='\" + algorithm + \"'\"\n",
      "    query += \" ORDER BY edgeRatio\"\n",
      "    c.execute(query)\n",
      "        \n",
      "    data = c.fetchall()\n",
      "    x = list(map(lambda d: d[0], data))\n",
      "    y = list(map(lambda d: d[1], data))\n",
      "    return (x, y)\n",
      "\n",
      "def plot_by_edgeratio(gaPairs, prop, fixed='Graph', showOriginal=True):\n",
      "    plots = []\n",
      "    \n",
      "    cIndex = 0\n",
      "    for (g, a) in gaPairs:\n",
      "        x, y = getPropertyData(prop, g, a)\n",
      "        \n",
      "        #Show a horizontal line for the original value.\n",
      "        if a == 'Original':\n",
      "            _x = np.linspace(0, 1, 10)\n",
      "            _y = [y[0] for __x in _x]\n",
      "            if not showOriginal:\n",
      "                continue\n",
      "        else:\n",
      "            _x = x\n",
      "            _y = y\n",
      "        \n",
      "        plot, = plt.plot(_x, _y, color=colors[cIndex % len(colors)], ls=\"-\", marker='x', label=(a if fixed=='Graph' else g))\n",
      "        plt.tight_layout(pad=1)\n",
      "        plots.append(plot)\n",
      "        \n",
      "        cIndex += 1\n",
      "    \n",
      "    plt.title(prop + \" \" + (g if fixed=='Graph' else a))\n",
      "    plt.xlabel(\"edge ratio\")\n",
      "    plt.ylabel(prop)\n",
      "    return plots"
     ],
     "language": "python",
     "metadata": {},
     "outputs": [],
     "prompt_number": 63
    },
    {
     "cell_type": "code",
     "collapsed": false,
     "input": [
      "algorithms = ['Original', 'Local Similarity', 'Simmelian Multiscale', 'Random 1', 'Simmelian NonParametric', 'Simmelian Parametric', 'Multiscale']\n",
      "graphs = [\"Virginia63\", \"Tennessee95\", \"USAviation\", \"LFR-1000\", \"BTER\", \"Caltech36\", \"KitEmail\", \"Yale4\", \"Karate\", \"PGP\"]\n",
      "propertiesList = [\"nmi\", \"randMeasure\", \"ccGlobal\", \"ccAvgLocal\", \"diameter\", \"degreeDistCoefficient\", \"bcKendallTau\"]"
     ],
     "language": "python",
     "metadata": {},
     "outputs": [],
     "prompt_number": 64
    },
    {
     "cell_type": "heading",
     "level": 5,
     "metadata": {},
     "source": [
      "Convenience functions for drawing by graph or by algorithm"
     ]
    },
    {
     "cell_type": "code",
     "collapsed": false,
     "input": [
      "def stats_per_graph(prop, columns, original='unaltered'):  #original=unaltered | hline | hidden\n",
      "    fig = plt.figure(figsize=(13, 15), dpi=300)\n",
      "    subplotIndex = 0\n",
      "    rows = math.ceil(len(graphs) / columns)\n",
      "    \n",
      "    #We need the set of plots of one of the subplots for the figure legend.\n",
      "    legendData = None\n",
      "    \n",
      "    for g in graphs:\n",
      "        plt.subplot(rows * 100 + columns * 10 + subplotIndex)\n",
      "        \n",
      "        #Get data\n",
      "        ds = []\n",
      "        for a in algorithms:\n",
      "            x, y = getPropertyData(prop, g, a)\n",
      "        \n",
      "            if a == 'Original':\n",
      "                if original == 'hidden':\n",
      "                    x = []\n",
      "                    y = []\n",
      "                elif original == 'hline' and len(x) > 0:\n",
      "                    x = np.linspace(0, 1, 2)\n",
      "                    y = [y[0] for __x in x]\n",
      "                    \n",
      "            ds.append((x, y, a))\n",
      "        \n",
      "        #Plot data\n",
      "        _legendData = []\n",
      "        cIndex = 0\n",
      "        for (x, y, a) in ds:\n",
      "            plot, = plt.plot(x, y, color=colors[cIndex % len(colors)], ls=\"-\", marker='x', label=g)\n",
      "            plt.tight_layout(pad=1)\n",
      "            plt.title(prop + \" \" + g)\n",
      "            plt.xlabel(\"edge ratio\")\n",
      "            plt.ylabel(prop)\n",
      "            _legendData.append((plot, a))\n",
      "            cIndex += 1\n",
      "        \n",
      "        if legendData == None:\n",
      "            legendData = _legendData\n",
      "        \n",
      "        subplotIndex += 1\n",
      "\n",
      "    fig.legend(map(lambda x: x[0], legendData), map(lambda x: x[1], legendData), 'lower left', bbox_to_anchor=(0.04, 0.1))\n",
      "    fig.savefig('/home/gerd/workspace/ComplexNetworkBackbones/figures/per_graph_' + prop + '.pdf', bbox_inches='tight')\n",
      "    plt.show()"
     ],
     "language": "python",
     "metadata": {},
     "outputs": [],
     "prompt_number": 65
    },
    {
     "cell_type": "heading",
     "level": 5,
     "metadata": {},
     "source": [
      "a whole lot of visualizations..."
     ]
    },
    {
     "cell_type": "code",
     "collapsed": false,
     "input": [
      "#stats_per_graph('nmi', 3, original='hidden')\n",
      "#stats_per_graph('ccGlobal', 3, original='hline')\n",
      "#stats_per_graph('ccAvgLocal', 3, original='hline')\n",
      "#stats_per_graph('ccAvgLocal', 3, original='hline')\n",
      "stats_per_graph('diameter', 3, original='hline')\n",
      "#stats_per_graph('degreeDistCoefficient', 3, original='hline')\n",
      "#stats_per_graph('centralityJaccard', 3, original='hline')"
     ],
     "language": "python",
     "metadata": {},
     "outputs": [
      {
       "metadata": {},
       "output_type": "display_data",
       "png": "[encoded data removed]",
       "text": [
        "<matplotlib.figure.Figure at 0x7f192532c278>"
       ]
      }
     ],
     "prompt_number": 67
    },
    {
     "cell_type": "code",
     "collapsed": false,
     "input": [
      "#for p in propertiesList:\n",
      "#stats_per_algorithm(p, 3)"
     ],
     "language": "python",
     "metadata": {},
     "outputs": [],
     "prompt_number": 10
    },
    {
     "cell_type": "heading",
     "level": 6,
     "metadata": {},
     "source": [
      "Visualization per network property"
     ]
    },
    {
     "cell_type": "heading",
     "level": 5,
     "metadata": {},
     "source": [
      "Quality measures"
     ]
    },
    {
     "cell_type": "markdown",
     "metadata": {},
     "source": [
      "Let's try to describe a quality measure in [0,1] for each property."
     ]
    },
    {
     "cell_type": "markdown",
     "metadata": {},
     "source": [
      "Problem: Wanting to \"add up\" different quality measures, we face the problem values were calculated for different edge ratios since calculating backbones for arbitrary ratios is not always possible. That's why, as a first step, the data needs to be interpolated."
     ]
    },
    {
     "cell_type": "code",
     "collapsed": false,
     "input": [
      "def getInterpolation(prop, graph, algorithm):\n",
      "    x,y = getPropertyData(prop, graph, algorithm)\n",
      "    if len(x) > 0 and len(y) > 0:\n",
      "        interpolationF = interp1d(x, y, kind='linear')\n",
      "        return interpolationF, x[0], x[-1] #function with domain\n",
      "    else:\n",
      "        return (lambda x: 0), 1.0, 1.0"
     ],
     "language": "python",
     "metadata": {},
     "outputs": [],
     "prompt_number": 11
    },
    {
     "cell_type": "markdown",
     "metadata": {},
     "source": [
      "Example usage of interpolation:"
     ]
    },
    {
     "cell_type": "code",
     "collapsed": false,
     "input": [
      "exampleGraph = \"LFR-1000\"\n",
      "exampleAlgorithm = \"Simmelian Parametric\"\n",
      "exampleProp = \"nmi\""
     ],
     "language": "python",
     "metadata": {},
     "outputs": [],
     "prompt_number": 12
    },
    {
     "cell_type": "code",
     "collapsed": false,
     "input": [
      "fig = plt.figure(figsize=(5, 3), dpi=300)\n",
      "\n",
      "#Original data\n",
      "xo, yo = getPropertyData(exampleProp, exampleGraph, exampleAlgorithm)\n",
      "plt.plot(xo, yo, \"b\", ls=\"--\", marker='x') \n",
      "\n",
      "#Interpolation\n",
      "f, lb, ub = getInterpolation(exampleProp, exampleGraph, exampleAlgorithm)\n",
      "xLbtoUb = np.linspace(lb, ub, 100)\n",
      "plt.plot(xLbtoUb, [f(v) for v in xLbtoUb], \"r\", ls=\"-\", marker='')\n",
      "\n",
      "plt.show()"
     ],
     "language": "python",
     "metadata": {},
     "outputs": [
      {
       "metadata": {},
       "output_type": "display_data",
       "png": "[encoded data removed]",
       "text": [
        "<matplotlib.figure.Figure at 0x7f192555f828>"
       ]
      }
     ],
     "prompt_number": 13
    },
    {
     "cell_type": "heading",
     "level": 6,
     "metadata": {},
     "source": [
      "Quality measure for properties in a closed interval"
     ]
    },
    {
     "cell_type": "markdown",
     "metadata": {},
     "source": [
      "Now we can define a quality measure that takes into account the value of the original graph. For those properties for which it is true that the values are in [0,1], we can simply use the distance from the original value as quality measure:"
     ]
    },
    {
     "cell_type": "code",
     "collapsed": false,
     "input": [
      "def qualityMeasure_ClosedInterval(prop, graph, algorithm):\n",
      "    originalValue = getPropertyData(prop, graph, 'Original')[1][0]\n",
      "    interpolationF, lb, ub = getInterpolation(prop, graph, algorithm) #with lower and upper bound\n",
      "    fqm = lambda edgeRatio: (1 - abs(originalValue - interpolationF(edgeRatio))) if (lb <= edgeRatio < ub) else 0\n",
      "    return fqm"
     ],
     "language": "python",
     "metadata": {},
     "outputs": [],
     "prompt_number": 14
    },
    {
     "cell_type": "markdown",
     "metadata": {},
     "source": [
      "Example visualization of quality measure for the example from above:"
     ]
    },
    {
     "cell_type": "code",
     "collapsed": false,
     "input": [
      "fig = plt.figure(figsize=(5, 3), dpi=300)\n",
      "\n",
      "#data of original graph\n",
      "yoriginal = getPropertyData(exampleProp, exampleGraph, 'Original')[1][0]\n",
      "print(yoriginal)\n",
      "x0to1 = np.linspace(0.0, 1.0, 100)\n",
      "plt.plot(x0to1, [yoriginal for v in x0to1], \"k\", ls=\"--\", marker='', label='property Graph') \n",
      "\n",
      "#data of backbone graph\n",
      "xo, yo = getPropertyData(exampleProp, exampleGraph, exampleAlgorithm)\n",
      "plt.plot(xo, yo, \"b\", ls=\"--\", marker='x', label='property Backbone') \n",
      "\n",
      "#Quality measure\n",
      "fqm = qualityMeasure_ClosedInterval(exampleProp, exampleGraph, exampleAlgorithm)\n",
      "plt.plot(x0to1, [fqm(v) for v in x0to1], \"r\", ls=\"-\", marker='', label='Quality measure')\n",
      "\n",
      "plt.legend(bbox_to_anchor=(1.05, 1), loc=2, borderaxespad=0.)\n",
      "plt.show()"
     ],
     "language": "python",
     "metadata": {},
     "outputs": [
      {
       "output_type": "stream",
       "stream": "stdout",
       "text": [
        "0.0\n"
       ]
      },
      {
       "metadata": {},
       "output_type": "display_data",
       "png": "[encoded data removed]",
       "text": [
        "<matplotlib.figure.Figure at 0x7f19254ac710>"
       ]
      }
     ],
     "prompt_number": 15
    },
    {
     "cell_type": "markdown",
     "metadata": {},
     "source": [
      "We can use this procedure for the following properties:"
     ]
    },
    {
     "cell_type": "code",
     "collapsed": false,
     "input": [
      "qm_nmi = lambda graph, algorithm: qualityMeasure_ClosedInterval('nmi', graph, algorithm)\n",
      "qm_ccAvgLocal = lambda graph, algorithm: qualityMeasure_ClosedInterval('ccAvgLocal', graph, algorithm)\n",
      "qm_ccGlobal = lambda graph, algorithm: qualityMeasure_ClosedInterval('ccAvgLocal', graph, algorithm)\n",
      "qm_randMeasure = lambda graph, algorithm: qualityMeasure_ClosedInterval('randMeasure', graph, algorithm)\n",
      "qm_bcKendallTau = lambda graph, algorithm: qualityMeasure_ClosedInterval('bcKendallTau', graph, algorithm)"
     ],
     "language": "python",
     "metadata": {},
     "outputs": [],
     "prompt_number": 16
    },
    {
     "cell_type": "heading",
     "level": 6,
     "metadata": {},
     "source": [
      "Quality measures for properties with natural/real numbers as domain:"
     ]
    },
    {
     "cell_type": "markdown",
     "metadata": {},
     "source": [
      "To deal with values from an unlimited domain, the following quality measure can be used. We define a maximum factor MAXF. The quality is scaled linearly from [Original Value] to [MAXF]. Every factor above will be assigned quality 0 aswell."
     ]
    },
    {
     "cell_type": "code",
     "collapsed": false,
     "input": [
      "def qualityMeasure_PositiveReals(prop, graph, algorithm, maxFactor):\n",
      "    originalValue = getPropertyData(prop, graph, 'Original')[1][0]\n",
      "    interpolationF, lb, ub = getInterpolation(prop, graph, algorithm) #with lower and upper bound\n",
      "    \n",
      "    freversed = lambda edgeRatio: (maxFactor - ((abs(originalValue - interpolationF(edgeRatio))) / originalValue)) / maxFactor\n",
      "    fqm = lambda edgeRatio: max(0.0, freversed(edgeRatio)) if (lb <= edgeRatio < ub) else 0\n",
      "    \n",
      "    return fqm"
     ],
     "language": "python",
     "metadata": {},
     "outputs": [],
     "prompt_number": 17
    },
    {
     "cell_type": "markdown",
     "metadata": {},
     "source": [
      "The following example visualizes the procedure."
     ]
    },
    {
     "cell_type": "code",
     "collapsed": false,
     "input": [
      "fig = plt.figure(figsize=(5, 5), dpi=300)\n",
      "\n",
      "exampleProp = 'diameter'\n",
      "\n",
      "plt.subplot(211)\n",
      "#data of original graph\n",
      "yoriginal = getPropertyData(exampleProp, exampleGraph, 'Original')[1][0]\n",
      "x0to1 = np.linspace(0.0, 1.0, 100)\n",
      "plt.plot(x0to1, [yoriginal for v in x0to1], \"k\", ls=\"--\", marker='', label='property Graph') \n",
      "\n",
      "#Interpolation\n",
      "f, lb, ub = getInterpolation(exampleProp, exampleGraph, exampleAlgorithm)\n",
      "xLbtoUb = np.linspace(lb, ub, 100)\n",
      "plt.plot(xLbtoUb, [f(v) for v in xLbtoUb], \"r\", ls=\"-\", marker='', label='Interpolated property')\n",
      "\n",
      "plt.subplot(212)\n",
      "\n",
      "#Quality measure\n",
      "qm = qualityMeasure_PositiveReals(exampleProp, exampleGraph, exampleAlgorithm, 2.0)\n",
      "plt.plot(x0to1, [qm(v) for v in x0to1], \"b\", ls=\"-\", marker='', label='Quality')\n",
      "\n",
      "plt.legend(bbox_to_anchor=(1.05, 1), loc=2, borderaxespad=0.)\n",
      "plt.show()"
     ],
     "language": "python",
     "metadata": {},
     "outputs": [
      {
       "metadata": {},
       "output_type": "display_data",
       "png": "[encoded data removed]",
       "text": [
        "<matplotlib.figure.Figure at 0x7f1925606470>"
       ]
      }
     ],
     "prompt_number": 18
    },
    {
     "cell_type": "markdown",
     "metadata": {},
     "source": [
      "We can use this procedure for the following properties:"
     ]
    },
    {
     "cell_type": "code",
     "collapsed": false,
     "input": [
      "qm_diameter = lambda graph, algorithm: qualityMeasure_PositiveReals('diameter', graph, algorithm, 1.5)\n",
      "#TODO: reasonable max factors for the following two?\n",
      "qm_ddDistCoefficient = lambda graph, algorithm: qualityMeasure_PositiveReals('degreeDistCoefficient', graph, algorithm, 5.0) \n",
      "qm_cpvDistance = lambda graph, algorithm: qualityMeasure_PositiveReals('cpvDistanceNormalized', graph, algorithm, 3.0) "
     ],
     "language": "python",
     "metadata": {},
     "outputs": [],
     "prompt_number": 19
    },
    {
     "cell_type": "heading",
     "level": 5,
     "metadata": {},
     "source": [
      "Combination of different quality measures:"
     ]
    },
    {
     "cell_type": "code",
     "collapsed": false,
     "input": [
      "def getQM(sq, sg, sa):  #sets of quality measures, graphs, algorithms to combine\n",
      "    functions = []\n",
      "    for q in sq:\n",
      "        for g in sg:\n",
      "            for a in sa:\n",
      "                functions = functions + [q(g, a)]\n",
      "    qm_combined = lambda edgeRatio: sum([f(edgeRatio) for f in functions]) / len(functions)\n",
      "    return qm_combined"
     ],
     "language": "python",
     "metadata": {},
     "outputs": [],
     "prompt_number": 20
    },
    {
     "cell_type": "markdown",
     "metadata": {},
     "source": [
      "Combination of some quality measures for each algorithm:"
     ]
    },
    {
     "cell_type": "code",
     "collapsed": false,
     "input": [
      "fig = plt.figure(figsize=(5, 3), dpi=300)\n",
      "\n",
      "qms = [qm_ccAvgLocal, qm_ccGlobal, qm_cpvDistance, qm_ddDistCoefficient, qm_diameter, qm_nmi, qm_randMeasure]\n",
      "\n",
      "aindex = 0\n",
      "for a in algorithms:\n",
      "    if a=='Original':\n",
      "        continue\n",
      "    qm_combined = getQM(qms, graphs, [a])\n",
      "    plt.plot(x0to1, [qm_combined(v) for v in x0to1], colors[aindex%len(colors)], ls=\"-\", marker='', label=a)\n",
      "    aindex += 1\n",
      "\n",
      "plt.legend(bbox_to_anchor=(1.05, 1), loc=2, borderaxespad=0.)\n",
      "plt.show()"
     ],
     "language": "python",
     "metadata": {},
     "outputs": [
      {
       "metadata": {},
       "output_type": "display_data",
       "png": "[encoded data removed]",
       "text": [
        "<matplotlib.figure.Figure at 0x7f1925411748>"
       ]
      }
     ],
     "prompt_number": 21
    },
    {
     "cell_type": "heading",
     "level": 6,
     "metadata": {},
     "source": [
      "Average qm for each property"
     ]
    },
    {
     "cell_type": "code",
     "collapsed": false,
     "input": [
      "fig = plt.figure(figsize=(5, 3), dpi=300)\n",
      "\n",
      "#qms = [qm_ccAvgLocal, qm_ccGlobal, qm_bcKendallTau, qm_ddDistCoefficient, qm_diameter, qm_nmi, qm_randMeasure]\n",
      "\n",
      "#qindex = 0\n",
      "#for qm in qms:\n",
      "#    qm_combined = getQM([qm], graphs, algorithms)\n",
      "#    plt.plot(x0to1, [qm_combined(v) for v in x0to1], colors[qindex%len(colors)], ls=\"-\", marker='', label=qm)\n",
      "#    qindex += 1\n",
      "    \n",
      "plt.legend(bbox_to_anchor=(1.05, 1), loc=2, borderaxespad=0.)\n",
      "plt.show()"
     ],
     "language": "python",
     "metadata": {},
     "outputs": [
      {
       "output_type": "stream",
       "stream": "stderr",
       "text": [
        "/usr/lib/python3.4/site-packages/matplotlib/axes.py:4749: UserWarning: No labeled objects found. Use label='...' kwarg on individual plots.\n",
        "  warnings.warn(\"No labeled objects found. \"\n"
       ]
      },
      {
       "metadata": {},
       "output_type": "display_data",
       "png": "[encoded data removed]",
       "text": [
        "<matplotlib.figure.Figure at 0x7f19252ddc18>"
       ]
      }
     ],
     "prompt_number": 22
    },
    {
     "cell_type": "heading",
     "level": 3,
     "metadata": {},
     "source": [
      "Closer investigations, problem fixing"
     ]
    },
    {
     "cell_type": "heading",
     "level": 6,
     "metadata": {},
     "source": [
      "Why is the nmi of some graphs greater than zero for the original graph?"
     ]
    },
    {
     "cell_type": "markdown",
     "metadata": {},
     "source": [
      "---> nonparallel plm solves the problem."
     ]
    },
    {
     "cell_type": "code",
     "collapsed": false,
     "input": [
      "gc = gephi.streaming.GephiStreamingClient()\n",
      "G = readGraph(\"../../scripts/BackboneEvaluation/input/kitEmail.graphml\", Format.GraphML)\n",
      "G.indexEdges()"
     ],
     "language": "python",
     "metadata": {},
     "outputs": [
      {
       "output_type": "stream",
       "stream": "stdout",
       "text": [
        "identified graph as weighted\n"
       ]
      }
     ],
     "prompt_number": 23
    },
    {
     "cell_type": "code",
     "collapsed": false,
     "input": [
      "c1 = community.detectCommunities(G, algo=community.PLM(refine=False, par='none'))\n",
      "c2 = community.detectCommunities(G, algo=community.PLM(refine=False, par='none'))\n",
      "\n",
      "_nmi = community.NMIDistance()\n",
      "nmi = _nmi.getDissimilarity(G, c1, c2)\n",
      "print(nmi)"
     ],
     "language": "python",
     "metadata": {},
     "outputs": [
      {
       "output_type": "stream",
       "stream": "stdout",
       "text": [
        "PLM(none,,parallel coarsening) detected communities in 0.04443955421447754 [s]\n",
        "solution properties:\n",
        "-------------------  ----------\n",
        "# communities         44\n",
        "min community size     1\n",
        "max community size   287\n",
        "avg. community size   42.9545\n",
        "modularity             0.792731\n",
        "-------------------  ----------\n",
        "PLM(none,,parallel coarsening) detected communities in 0.02543330192565918 [s]\n",
        "solution properties:\n",
        "-------------------  ----------\n",
        "# communities         44\n",
        "min community size     1\n",
        "max community size   287\n",
        "avg. community size   42.9545\n",
        "modularity             0.792731\n",
        "-------------------  ----------\n",
        "0.0\n"
       ]
      }
     ],
     "prompt_number": 24
    },
    {
     "cell_type": "code",
     "collapsed": false,
     "input": [
      "gc.exportGraph(G)"
     ],
     "language": "python",
     "metadata": {},
     "outputs": [
      {
       "output_type": "stream",
       "stream": "stdout",
       "text": [
        "Could not connect to the gephi streaming plugin. Did you start the streaming master server in gephi?\n"
       ]
      }
     ],
     "prompt_number": 25
    },
    {
     "cell_type": "heading",
     "level": 6,
     "metadata": {},
     "source": [
      "Exact diameter calculation fails?"
     ]
    },
    {
     "cell_type": "code",
     "collapsed": false,
     "input": [
      "diameter = properties.Diameter.estimatedDiameterRange(G, 0)[0]\n",
      "print(diameter)"
     ],
     "language": "python",
     "metadata": {},
     "outputs": [
      {
       "output_type": "stream",
       "stream": "stdout",
       "text": [
        "7\n"
       ]
      }
     ],
     "prompt_number": 26
    },
    {
     "cell_type": "markdown",
     "metadata": {},
     "source": [
      "--> failed only for weighted graphs. Now using exact diameter calculation on the largest connected component."
     ]
    },
    {
     "cell_type": "code",
     "collapsed": false,
     "input": [
      "diameter = properties.Diameter.exactDiameter(workflows.extractLargestComponent(G))\n",
      "print(diameter)"
     ],
     "language": "python",
     "metadata": {},
     "outputs": [
      {
       "output_type": "stream",
       "stream": "stdout",
       "text": [
        "7\n"
       ]
      }
     ],
     "prompt_number": 27
    },
    {
     "cell_type": "heading",
     "level": 6,
     "metadata": {},
     "source": [
      "Is centrality position vector distance a meaningfull attribute the way we defined it?"
     ]
    },
    {
     "cell_type": "markdown",
     "metadata": {},
     "source": [
      "--> Obviously this definition is not senseful at all, lets use Kendall's tau as a metric. It considers the number of pairs of nodes that are in a different order."
     ]
    },
    {
     "cell_type": "markdown",
     "metadata": {},
     "source": [
      "consider the following two centrality position vectors. "
     ]
    },
    {
     "cell_type": "code",
     "collapsed": false,
     "input": [
      "def spearmansRho(c1, c2):\n",
      "    n = len(c1)\n",
      "    print(n)\n",
      "    p = math.sqrt(sum(pow(abs(c1[i] - c2[i]), 2) for i in range(0, n)))\n",
      "    return p / math.sqrt(n*(n+1)*((2*n)+1)*(1/3))\n",
      "    #TODO: why does this not return 1 for list and its reverse?\n",
      "    \n",
      "def kendallTauQM(c1, c2):\n",
      "    return (kendalltau(c1, c2)[0] + 1.0) / 2.0\n",
      "\n",
      "#nodes 0 to 9\n",
      "c1 = [0,  1,  2,  3,  4,  5,  6,  7,  8,  9]\n",
      "c2 = [0,  1,  4,  5,  2,  3,  6,  7,  8,  9]\n",
      "cpvd = distance.euclidean(c1, c2)\n",
      "print(\"slightly modified:\", cpvd / len(c1))\n",
      "\n",
      "c2 = [9, 8, 7, 6, 5, 4, 3, 2, 1, 0]\n",
      "cpvd = distance.euclidean(c1, c2)\n",
      "print(\"reversed:\", cpvd / len(c1))\n",
      "\n",
      "for l in [10]:#, 100, 1000, 5000, 10000]:\n",
      "    c1 = list(range(1, l+1))\n",
      "    c2 = list(reversed(c1))\n",
      "    cpvd = distance.euclidean(c1, c2)\n",
      "    print(\"kendallsTau for list and its reverse: \", kendallTauQM(c1, c2))\n",
      "    print(\"kendallsTau for list and list: \", kendallTauQM(c1, c1))\n",
      "    print(\"len \", l, \" dist \", (cpvd / (l*l*0.5)), \" spearmansRho: \", spearmansRho(c1, c2))\n"
     ],
     "language": "python",
     "metadata": {},
     "outputs": [
      {
       "output_type": "stream",
       "stream": "stdout",
       "text": [
        "slightly modified: 0.4\n",
        "reversed: 1.81659021246\n",
        "kendallsTau for list and its reverse:  -1.11022302463e-16\n",
        "kendallsTau for list and list:  1.0\n",
        "10\n",
        "len  10  dist  0.363318042492  spearmansRho:  0.6546536707079771\n"
       ]
      }
     ],
     "prompt_number": 28
    },
    {
     "cell_type": "code",
     "collapsed": false,
     "input": [
      "kendallTauQM([0,1,2,3,4,5,6,7,8,9], [0,8,1,2,3,5,4,6,7,9])"
     ],
     "language": "python",
     "metadata": {},
     "outputs": [
      {
       "metadata": {},
       "output_type": "pyout",
       "prompt_number": 29,
       "text": [
        "0.8222222222222223"
       ]
      }
     ],
     "prompt_number": 29
    },
    {
     "cell_type": "markdown",
     "metadata": {},
     "source": [
      "todo: value should be one for Original graph? Approximating the betweenness is problematic."
     ]
    },
    {
     "cell_type": "markdown",
     "metadata": {},
     "source": [
      "---> Seems like nan values in betweenness scores messed up the ranking, fixed by filtering them out. Now the results are a little better, but now lets consider only the top-k lists..."
     ]
    },
    {
     "cell_type": "markdown",
     "metadata": {},
     "source": [
      "---> The top 3 to 5 nodes with highest betweenness are usually found, also by approximating the betweenness. Lets compare only the similarity of the top three \"hubs\"."
     ]
    },
    {
     "cell_type": "code",
     "collapsed": false,
     "input": [
      "G = readGraph(\"../../scripts/BackboneEvaluation/input/Tennessee95.graphml\", Format.GraphML)\n",
      "G.indexEdges()"
     ],
     "language": "python",
     "metadata": {},
     "outputs": [],
     "prompt_number": 30
    },
    {
     "cell_type": "code",
     "collapsed": false,
     "input": [
      "ba = backbones.LocalSimilarityBackbone(0.1)\n",
      "B = ba.calculate(G)\n",
      "print(B.numberOfEdges() / G.numberOfEdges())"
     ],
     "language": "python",
     "metadata": {},
     "outputs": [
      {
       "output_type": "stream",
       "stream": "stdout",
       "text": [
        "0.018276565900093297\n"
       ]
      }
     ],
     "prompt_number": 43
    },
    {
     "cell_type": "code",
     "collapsed": false,
     "input": [
      "def getCentralityRanking(graph):\n",
      "    bc = centrality.ApproxBetweenness2(graph, 200)\n",
      "    #bc = centrality.ApproxBetweenness(graph, epsilon=0.1, delta=0.1, diameterSamples=100)\n",
      "    bc.run()\n",
      "    ranking = bc.ranking()\n",
      "    ranking.sort(key=lambda x: (x[1] if not math.isnan(x[1]) else 0), reverse=True) #Sort by centrality score\n",
      "    ranking = ranking[:3]\n",
      "    print(ranking)\n",
      "    return list(map(lambda x: x[0], ranking))"
     ],
     "language": "python",
     "metadata": {},
     "outputs": [],
     "prompt_number": 50
    },
    {
     "cell_type": "code",
     "collapsed": false,
     "input": [
      "c1 = getCentralityRanking(G)\n",
      "c2 = getCentralityRanking(B)\n",
      "print((kendalltau(c1, c2)[0] + 1.0) / 2.0)\n",
      "print(distance.jaccard(c1, c2))\n"
     ],
     "language": "python",
     "metadata": {},
     "outputs": [
      {
       "output_type": "stream",
       "stream": "stdout",
       "text": [
        "[(1315, 43493153.136312366), (14519, 20298769.20080447), (10646, 4604051.760569359)]\n",
        "[(3636, 14311.055183982684), (1455, 10645.986129509378), (13308, 9189.203854978354)]"
       ]
      },
      {
       "output_type": "stream",
       "stream": "stdout",
       "text": [
        "\n",
        "0.333333333333\n",
        "1.0\n"
       ]
      }
     ],
     "prompt_number": 51
    },
    {
     "cell_type": "code",
     "collapsed": false,
     "input": [
      "c1 = [7,1,2,3,4,5,7]\n",
      "c2 = [6,5,2,3,4,1,6]\n",
      "print(kendalltau(c1, c2)[0])"
     ],
     "language": "python",
     "metadata": {},
     "outputs": [
      {
       "output_type": "stream",
       "stream": "stdout",
       "text": [
        "0.3\n"
       ]
      }
     ],
     "prompt_number": 33
    },
    {
     "cell_type": "code",
     "collapsed": false,
     "input": [],
     "language": "python",
     "metadata": {},
     "outputs": [],
     "prompt_number": 33
    }
   ],
   "metadata": {}
  }
 ]
}
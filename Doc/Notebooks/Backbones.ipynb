{
 "metadata": {
  "name": "",
  "signature": "sha256:1dd06fdf5c0d0fb43d1e586b7af931b7a34e51c9869b765861aa261506f0325a"
 },
 "nbformat": 3,
 "nbformat_minor": 0,
 "worksheets": [
  {
   "cells": [
    {
     "cell_type": "code",
     "collapsed": false,
     "input": [
      "from NetworKit import *"
     ],
     "language": "python",
     "metadata": {},
     "outputs": [],
     "prompt_number": 1
    },
    {
     "cell_type": "code",
     "collapsed": false,
     "input": [
      "G = readGraph(\"../../input/jazz.graph\")"
     ],
     "language": "python",
     "metadata": {},
     "outputs": [],
     "prompt_number": 2
    },
    {
     "cell_type": "heading",
     "level": 6,
     "metadata": {},
     "source": [
      "Parametric variant (maximum rank, minimum overlap):"
     ]
    },
    {
     "cell_type": "code",
     "collapsed": false,
     "input": [
      "simmel = backbones.SimmelianBackbone()\n",
      "B = simmel.calculateParametric(G, 10, 5)"
     ],
     "language": "python",
     "metadata": {},
     "outputs": [],
     "prompt_number": 3
    },
    {
     "cell_type": "code",
     "collapsed": false,
     "input": [
      "print(B.numberOfEdges())"
     ],
     "language": "python",
     "metadata": {},
     "outputs": [
      {
       "output_type": "stream",
       "stream": "stdout",
       "text": [
        "1630\n"
       ]
      }
     ],
     "prompt_number": 4
    },
    {
     "cell_type": "code",
     "collapsed": false,
     "input": [
      "backbones.writeCsv(\"../../output/backbones/graph.csv\", G, B)"
     ],
     "language": "python",
     "metadata": {},
     "outputs": [],
     "prompt_number": 5
    },
    {
     "cell_type": "heading",
     "level": 6,
     "metadata": {},
     "source": [
      "Non-parametric variant using the best prefix jaccard coefficient:"
     ]
    },
    {
     "cell_type": "code",
     "collapsed": false,
     "input": [
      "simmel = backbones.SimmelianBackbone()"
     ],
     "language": "python",
     "metadata": {},
     "outputs": [],
     "prompt_number": 6
    },
    {
     "cell_type": "code",
     "collapsed": false,
     "input": [
      "B = simmel.calculateNonParametric(G, 0.5)"
     ],
     "language": "python",
     "metadata": {},
     "outputs": [],
     "prompt_number": 7
    },
    {
     "cell_type": "code",
     "collapsed": false,
     "input": [
      "print(B.numberOfEdges())"
     ],
     "language": "python",
     "metadata": {},
     "outputs": [
      {
       "output_type": "stream",
       "stream": "stdout",
       "text": [
        "1608\n"
       ]
      }
     ],
     "prompt_number": 8
    },
    {
     "cell_type": "code",
     "collapsed": false,
     "input": [
      "backbones.writeCsv(\"../../output/backbones/graph.csv\", G, B)"
     ],
     "language": "python",
     "metadata": {},
     "outputs": [],
     "prompt_number": 9
    },
    {
     "cell_type": "heading",
     "level": 6,
     "metadata": {},
     "source": [
      "Gephi import"
     ]
    },
    {
     "cell_type": "markdown",
     "metadata": {},
     "source": [
      "the csv generated above can now be imported into an empty gephi project using the \"import sreadsheet\" function in the data laboratory. The edges have an attribute \"backbone\" that can be used for filtering, partitioning, ..."
     ]
    },
    {
     "cell_type": "code",
     "collapsed": false,
     "input": [],
     "language": "python",
     "metadata": {},
     "outputs": []
    }
   ],
   "metadata": {}
  }
 ]
}
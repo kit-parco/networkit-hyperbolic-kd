{
 "metadata": {
  "name": "",
  "signature": "sha256:8a08e827731bd8dcbe02b2986bb8b22cd691996298b8a8d2fbf2e3b019c0244e"
 },
 "nbformat": 3,
 "nbformat_minor": 0,
 "worksheets": [
  {
   "cells": [
    {
     "cell_type": "code",
     "collapsed": false,
     "input": [
      "from NetworKit import *"
     ],
     "language": "python",
     "metadata": {},
     "outputs": [],
     "prompt_number": 1
    },
    {
     "cell_type": "code",
     "collapsed": false,
     "input": [
      "G = readGraph(\"../../input/backbones/"
     ],
     "language": "python",
     "metadata": {},
     "outputs": [
      {
       "ename": "Exception",
       "evalue": "unrecognized format/format not supported as input: Format.GML",
       "output_type": "pyerr",
       "traceback": [
        "\u001b[1;31m---------------------------------------------------------------------------\u001b[0m\n\u001b[1;31mException\u001b[0m                                 Traceback (most recent call last)",
        "\u001b[1;32m<ipython-input-3-24b4914ad4b5>\u001b[0m in \u001b[0;36m<module>\u001b[1;34m()\u001b[0m\n\u001b[1;32m----> 1\u001b[1;33m \u001b[0mG\u001b[0m \u001b[1;33m=\u001b[0m \u001b[0mreadGraph\u001b[0m\u001b[1;33m(\u001b[0m\u001b[1;34m\"../../input/backbones/lesmis.gml\"\u001b[0m\u001b[1;33m,\u001b[0m \u001b[0mFormat\u001b[0m\u001b[1;33m.\u001b[0m\u001b[0mGML\u001b[0m\u001b[1;33m)\u001b[0m\u001b[1;33m\u001b[0m\u001b[0m\n\u001b[0m",
        "\u001b[1;32m/home/gerd/workspace/NetworKit-glindner/src/python/graphio.py\u001b[0m in \u001b[0;36mreadGraph\u001b[1;34m(path, fileformat, **kwargs)\u001b[0m\n\u001b[0;32m     73\u001b[0m                         \u001b[0mcommentPrefix\u001b[0m \u001b[1;32mand\u001b[0m \u001b[0mcontinuous\u001b[0m \u001b[0mare\u001b[0m \u001b[0moptional\u001b[0m\u001b[1;33m\u001b[0m\u001b[0m\n\u001b[0;32m     74\u001b[0m \t\"\"\"\n\u001b[1;32m---> 75\u001b[1;33m         \u001b[0mreader\u001b[0m \u001b[1;33m=\u001b[0m \u001b[0mgetReader\u001b[0m\u001b[1;33m(\u001b[0m\u001b[0mfileformat\u001b[0m\u001b[1;33m,\u001b[0m\u001b[1;33m**\u001b[0m\u001b[0mkwargs\u001b[0m\u001b[1;33m)\u001b[0m\u001b[1;33m\u001b[0m\u001b[0m\n\u001b[0m\u001b[0;32m     76\u001b[0m \u001b[1;33m\u001b[0m\u001b[0m\n\u001b[0;32m     77\u001b[0m \u001b[1;33m\u001b[0m\u001b[0m\n",
        "\u001b[1;32m/home/gerd/workspace/NetworKit-glindner/src/python/graphio.py\u001b[0m in \u001b[0;36mgetReader\u001b[1;34m(fileformat, **kwargs)\u001b[0m\n\u001b[0;32m     61\u001b[0m                         \u001b[0mreader\u001b[0m \u001b[1;33m=\u001b[0m \u001b[0mreaders\u001b[0m\u001b[1;33m[\u001b[0m\u001b[0mfileformat\u001b[0m\u001b[1;33m]\u001b[0m\u001b[1;31m#(**kwargs)\u001b[0m\u001b[1;33m\u001b[0m\u001b[0m\n\u001b[0;32m     62\u001b[0m         \u001b[1;32mexcept\u001b[0m \u001b[0mException\u001b[0m \u001b[1;32mor\u001b[0m \u001b[0mKeyError\u001b[0m\u001b[1;33m:\u001b[0m\u001b[1;33m\u001b[0m\u001b[0m\n\u001b[1;32m---> 63\u001b[1;33m                 \u001b[1;32mraise\u001b[0m \u001b[0mException\u001b[0m\u001b[1;33m(\u001b[0m\u001b[1;34m\"unrecognized format/format not supported as input: {0}\"\u001b[0m\u001b[1;33m.\u001b[0m\u001b[0mformat\u001b[0m\u001b[1;33m(\u001b[0m\u001b[0mfileformat\u001b[0m\u001b[1;33m)\u001b[0m\u001b[1;33m)\u001b[0m\u001b[1;33m\u001b[0m\u001b[0m\n\u001b[0m\u001b[0;32m     64\u001b[0m         \u001b[1;32mreturn\u001b[0m \u001b[0mreader\u001b[0m\u001b[1;33m\u001b[0m\u001b[0m\n\u001b[0;32m     65\u001b[0m \u001b[1;33m\u001b[0m\u001b[0m\n",
        "\u001b[1;31mException\u001b[0m: unrecognized format/format not supported as input: Format.GML"
       ]
      }
     ],
     "prompt_number": 3
    },
    {
     "cell_type": "code",
     "collapsed": false,
     "input": [],
     "language": "python",
     "metadata": {},
     "outputs": []
    },
    {
     "cell_type": "heading",
     "level": 6,
     "metadata": {},
     "source": [
      "Parametric variant (maximum rank, minimum overlap):"
     ]
    },
    {
     "cell_type": "code",
     "collapsed": false,
     "input": [
      "simmel = backbones.SimmelianBackbone()\n",
      "B = simmel.calculateParametric(G, 10, 5)"
     ],
     "language": "python",
     "metadata": {},
     "outputs": [],
     "prompt_number": 3
    },
    {
     "cell_type": "code",
     "collapsed": false,
     "input": [
      "print(B.numberOfEdges())"
     ],
     "language": "python",
     "metadata": {},
     "outputs": [
      {
       "output_type": "stream",
       "stream": "stdout",
       "text": [
        "7161\n"
       ]
      }
     ],
     "prompt_number": 4
    },
    {
     "cell_type": "code",
     "collapsed": false,
     "input": [
      "backbones.writeCsv(\"../../output/backbones/graph.csv\", G, B)"
     ],
     "language": "python",
     "metadata": {},
     "outputs": [],
     "prompt_number": 6
    },
    {
     "cell_type": "heading",
     "level": 6,
     "metadata": {},
     "source": [
      "Non-parametric variant using the best prefix jaccard coefficient:"
     ]
    },
    {
     "cell_type": "code",
     "collapsed": false,
     "input": [
      "simmel = backbones.SimmelianBackbone()"
     ],
     "language": "python",
     "metadata": {},
     "outputs": [],
     "prompt_number": 6
    },
    {
     "cell_type": "code",
     "collapsed": false,
     "input": [
      "B = simmel.calculateNonParametric(G, 0.5)"
     ],
     "language": "python",
     "metadata": {},
     "outputs": [],
     "prompt_number": 7
    },
    {
     "cell_type": "code",
     "collapsed": false,
     "input": [
      "print(B.numberOfEdges())"
     ],
     "language": "python",
     "metadata": {},
     "outputs": [
      {
       "output_type": "stream",
       "stream": "stdout",
       "text": [
        "1608\n"
       ]
      }
     ],
     "prompt_number": 8
    },
    {
     "cell_type": "code",
     "collapsed": false,
     "input": [
      "backbones.writeCsv(\"../../output/backbones/graph.csv\", G, B)"
     ],
     "language": "python",
     "metadata": {},
     "outputs": [],
     "prompt_number": 9
    },
    {
     "cell_type": "heading",
     "level": 6,
     "metadata": {},
     "source": [
      "Gephi import"
     ]
    },
    {
     "cell_type": "markdown",
     "metadata": {},
     "source": [
      "the csv generated above can now be imported into an empty gephi project using the \"import sreadsheet\" function in the data laboratory. The edges have an attribute \"backbone\" that can be used for filtering, partitioning, ..."
     ]
    },
    {
     "cell_type": "heading",
     "level": 6,
     "metadata": {},
     "source": [
      "Gephi import using Graph Streaming Plugin"
     ]
    },
    {
     "cell_type": "code",
     "collapsed": false,
     "input": [
      "backbones.gephi_exportBackbone(G, B)"
     ],
     "language": "python",
     "metadata": {},
     "outputs": [],
     "prompt_number": 5
    },
    {
     "cell_type": "code",
     "collapsed": false,
     "input": [
      "#Multiscale Backbone\n",
      "multiscale = backbones.MultiscaleBackbone(G, 0.3)\n",
      "B2 = multiscale.calculate()\n",
      "backbones.gephi_exportBackboneAttribute(G, B2, \"backboneMultiscale\")"
     ],
     "language": "python",
     "metadata": {},
     "outputs": [],
     "prompt_number": 19
    },
    {
     "cell_type": "code",
     "collapsed": false,
     "input": [],
     "language": "python",
     "metadata": {},
     "outputs": [],
     "prompt_number": 7
    },
    {
     "cell_type": "code",
     "collapsed": false,
     "input": [],
     "language": "python",
     "metadata": {},
     "outputs": []
    }
   ],
   "metadata": {}
  }
 ]
}
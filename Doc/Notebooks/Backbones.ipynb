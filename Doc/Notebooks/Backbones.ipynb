{
 "metadata": {
  "name": "",
  "signature": "sha256:79d77a6fb17b404a2952c47e0f5a229fb45aff217fd4ca521f952a02b3a8d82b"
 },
 "nbformat": 3,
 "nbformat_minor": 0,
 "worksheets": [
  {
   "cells": [
    {
     "cell_type": "code",
     "collapsed": false,
     "input": [
      "from networkit import *"
     ],
     "language": "python",
     "metadata": {},
     "outputs": [],
     "prompt_number": 24
    },
    {
     "cell_type": "markdown",
     "metadata": {},
     "source": [
      "All considered backbone algorithm implementations rely on edge attributes, so do not forget to call indexEdges() on the graph you want to work on."
     ]
    },
    {
     "cell_type": "code",
     "collapsed": false,
     "input": [
      "G = readGraph(\"../../input/PGPgiantcompo.graph\", Format.METIS)\n",
      "G.indexEdges()\n",
      "properties.size(G)"
     ],
     "language": "python",
     "metadata": {},
     "outputs": [
      {
       "metadata": {},
       "output_type": "pyout",
       "prompt_number": 25,
       "text": [
        "(10680, 24316)"
       ]
      }
     ],
     "prompt_number": 25
    },
    {
     "cell_type": "markdown",
     "metadata": {},
     "source": [
      "Sparsification algorithms that leave the set of nodes intact can be split up into edge attribute calculation and a global filtering step. All backbone algorithm implementations in the backbones-module are based on that insight. The module provides both low-level  attributizers and filters and high-level convenience classes which can be identified by the suffix 'Backbone'."
     ]
    },
    {
     "cell_type": "heading",
     "level": 3,
     "metadata": {},
     "source": [
      "Example 1: Simple calculation of a Backbone"
     ]
    },
    {
     "cell_type": "code",
     "collapsed": false,
     "input": [
      "backboneAlgorithm = backbones.LocalSimilarityBackbone()"
     ],
     "language": "python",
     "metadata": {},
     "outputs": [],
     "prompt_number": 26
    },
    {
     "cell_type": "markdown",
     "metadata": {},
     "source": [
      "In the following code piece, we need to specify a parameter value, which indirectly influences the size of the resulting backbone."
     ]
    },
    {
     "cell_type": "code",
     "collapsed": false,
     "input": [
      "B = backboneAlgorithm.getBackbone(G, 0.5) \n",
      "properties.size(B)"
     ],
     "language": "python",
     "metadata": {},
     "outputs": [
      {
       "metadata": {},
       "output_type": "pyout",
       "prompt_number": 27,
       "text": [
        "(10680, 13154)"
       ]
      }
     ],
     "prompt_number": 27
    },
    {
     "cell_type": "markdown",
     "metadata": {},
     "source": [
      "In order to obtain a backbone of a specific size, we can use the following convenience function which applies an appropriate parameterization algorithm to obtain a parameter value first:"
     ]
    },
    {
     "cell_type": "code",
     "collapsed": false,
     "input": [
      "B = backboneAlgorithm.getBackboneOfSize(G, 0.5)\n",
      "properties.size(B)"
     ],
     "language": "python",
     "metadata": {},
     "outputs": [
      {
       "metadata": {},
       "output_type": "pyout",
       "prompt_number": 28,
       "text": [
        "(10680, 12174)"
       ]
      }
     ],
     "prompt_number": 28
    },
    {
     "cell_type": "markdown",
     "metadata": {},
     "source": [
      "Note that pre-calculated edge attributes can be passed to these functions as well in order to avoid unnecessary recalculations."
     ]
    },
    {
     "cell_type": "heading",
     "level": 3,
     "metadata": {},
     "source": [
      "Example 2: Exporting a backbone attribute to Gephi"
     ]
    },
    {
     "cell_type": "markdown",
     "metadata": {},
     "source": [
      "In order to filter edges within Gephi, we need to calculate the edge attribute:"
     ]
    },
    {
     "cell_type": "code",
     "collapsed": false,
     "input": [
      "backboneAlgorithm = backbones.RandomBackbone()\n",
      "edgeAttribute = backboneAlgorithm.getAttribute(G)"
     ],
     "language": "python",
     "metadata": {},
     "outputs": [],
     "prompt_number": 29
    },
    {
     "cell_type": "markdown",
     "metadata": {},
     "source": [
      "We can now export it to Gephi (start the Gephi Streaming Master server first):"
     ]
    },
    {
     "cell_type": "code",
     "collapsed": false,
     "input": [
      "gephiClient = gephi.streaming.GephiStreamingClient()\n",
      "gephiClient.exportGraph(G)\n",
      "gephiClient.exportEdgeValues(G, edgeAttribute, 'random')"
     ],
     "language": "python",
     "metadata": {},
     "outputs": [],
     "prompt_number": 30
    },
    {
     "cell_type": "heading",
     "level": 3,
     "metadata": {},
     "source": [
      "Example 3: Listing of all implemented Backbone definitions"
     ]
    },
    {
     "cell_type": "markdown",
     "metadata": {},
     "source": [
      "Note that it is important to consider, how the respective edge attributes are to be interpreted (are those edges with attribute values below or above a certain threshold to be kept in the backbone?). A convention to reduce confusion might be introduced here in the future."
     ]
    },
    {
     "cell_type": "code",
     "collapsed": false,
     "input": [
      "backboneAlgorithms = []\n",
      "backboneAlgorithms.append((backbones.ForestFireBackbone(0.15, 5), 'Forest Fire')) #keep edges ABOVE threshold\n",
      "backboneAlgorithms.append((backbones.LocalDegreeBackbone(), 'Local Degree')) #keep edges BELOW threshold\n",
      "backboneAlgorithms.append((backbones.LocalSimilarityBackbone(), 'Local Similarity')) #keep edges BELOW threshold\n",
      "backboneAlgorithms.append((backbones.MultiscaleBackbone(), 'Multiscale')) #keep edges BELOW threshold\n",
      "backboneAlgorithms.append((backbones.RandomBackbone(), 'Random'))\n",
      "backboneAlgorithms.append((backbones.SimmelianBackboneNonParametric(), 'Simmelian NonParametric')) #keep edges ABOVE threshold\n",
      "backboneAlgorithms.append((backbones.SimmelianBackboneParametric(10), 'Simmelian Parametric'))  #keep edges ABOVE threshold"
     ],
     "language": "python",
     "metadata": {},
     "outputs": [],
     "prompt_number": 31
    },
    {
     "cell_type": "markdown",
     "metadata": {},
     "source": [
      "Let's calculate an edge attribute for each of these backbone definitions and export them all to Gephi:"
     ]
    },
    {
     "cell_type": "code",
     "collapsed": false,
     "input": [
      "gephiClient = gephi.streaming.GephiStreamingClient()\n",
      "gephiClient.clearGraph()\n",
      "gephiClient.exportGraph(G)\n",
      "for (algorithm, name) in backboneAlgorithms:\n",
      "    edgeAttribute = algorithm.getAttribute(G)\n",
      "    gephiClient.exportEdgeValues(G, edgeAttribute, name)"
     ],
     "language": "python",
     "metadata": {},
     "outputs": [],
     "prompt_number": 32
    },
    {
     "cell_type": "markdown",
     "metadata": {},
     "source": [
      "For visualization purposes, let's also calculate and export the community structure:"
     ]
    },
    {
     "cell_type": "code",
     "collapsed": false,
     "input": [
      "c = community.detectCommunities(G, community.PLM(G, refine=False, par='none'))\n",
      "gephiClient.exportNodeValues(G, c, 'community')"
     ],
     "language": "python",
     "metadata": {},
     "outputs": [
      {
       "output_type": "stream",
       "stream": "stdout",
       "text": [
        "PLM(none,,parallel coarsening) detected communities in 0.07325100898742676 [s]\n",
        "solution properties:\n",
        "-------------------  ----------\n",
        "# communities         99\n",
        "min community size     6\n",
        "max community size   696\n",
        "avg. community size  107.879\n",
        "modularity             0.883081\n",
        "-------------------  ----------\n"
       ]
      }
     ],
     "prompt_number": 33
    },
    {
     "cell_type": "heading",
     "level": 3,
     "metadata": {},
     "source": [
      "Example 4: Using attributes, filters, and parameterization"
     ]
    },
    {
     "cell_type": "markdown",
     "metadata": {},
     "source": [
      "In the following example, we illustrate possible usage of an attributizer, a filter and a parameterization algorithm. Note that any of these might be exchanged."
     ]
    },
    {
     "cell_type": "code",
     "collapsed": false,
     "input": [
      "#Attribute calculation\n",
      "backboneAlgorithm = backbones.LocalDegreeBackbone()\n",
      "attribute = backboneAlgorithm.getAttribute(G)\n",
      "\n",
      "#Parameterization using binary search with up to 20 steps. The parameter value is in [0,1] and the size of the backbone increases with increasing parameter value.\n",
      "parameterization = backbones.BinarySearchParameterization(True, 0.0, 1.0, 20)\n",
      "parameter = parameterization.parameterize(backboneAlgorithm, G, attribute, 0.3) # We'd like to keep ~30% of edges\n",
      "\n",
      "#Global filtering\n",
      "globalFilter = backbones.GlobalThresholdFilter(parameter, False) #Keep all edges with an edge attribute value below the given parameter\n",
      "B = globalFilter.calculate(G, attribute)\n",
      "properties.size(B)"
     ],
     "language": "python",
     "metadata": {},
     "outputs": [
      {
       "metadata": {},
       "output_type": "pyout",
       "prompt_number": 34,
       "text": [
        "(10680, 10166)"
       ]
      }
     ],
     "prompt_number": 34
    }
   ],
   "metadata": {}
  }
 ]
}
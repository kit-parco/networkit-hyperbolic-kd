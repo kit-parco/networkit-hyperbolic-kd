{
 "metadata": {
  "name": ""
 },
 "nbformat": 3,
 "nbformat_minor": 0,
 "worksheets": [
  {
   "cells": [
    {
     "cell_type": "raw",
     "metadata": {},
     "source": [
      "Go to your NetworKit directory and import NetworKit"
     ]
    },
    {
     "cell_type": "code",
     "collapsed": false,
     "input": [
      "# cd ...\n",
      "from NetworKit import *"
     ],
     "language": "python",
     "metadata": {},
     "outputs": [],
     "prompt_number": 1
    },
    {
     "cell_type": "raw",
     "metadata": {},
     "source": [
      "Read the climate graph with the new METIS graph reader. Don't forget to adapt the path to the graph file"
     ]
    },
    {
     "cell_type": "code",
     "collapsed": false,
     "input": [
      "#g = graphio.FastMETISGraphReaderDouble().read(\"/algoDaten/graphs/climate/climate.graph\") # parco/iti path\n",
      "g = graphio.FastMETISGraphReaderDouble().read(\"../data/climate.graph\") # local path"
     ],
     "language": "python",
     "metadata": {},
     "outputs": [],
     "prompt_number": 2
    },
    {
     "cell_type": "raw",
     "metadata": {},
     "source": [
      "Initialize and run the calculation of the area-weighted connectivity/centrality. Again, don't forget to adapt the paths to the coordinate files."
     ]
    },
    {
     "cell_type": "code",
     "collapsed": false,
     "input": [
      "awc = centrality.AreaWeightedCentrality(g, True)\n",
      "#awc.initCoordinates(\"/algoDaten/graphs/climate/climate.lat\",\"/algoDaten/graphs/climate/climate.lon\")  # parco/iti path\n",
      "awc.initCoordinates(\"../data/climate.lat\",\"../data/climate.lon\") # local path\n",
      "awc.run()\n",
      "ranking = awc.ranking()"
     ],
     "language": "python",
     "metadata": {},
     "outputs": [],
     "prompt_number": 3
    },
    {
     "cell_type": "raw",
     "metadata": {},
     "source": [
      "Scale values to the maximum value of the figure in the attached article."
     ]
    },
    {
     "cell_type": "code",
     "collapsed": false,
     "input": [
      "scale_f = .5 / ranking[0][1]\n",
      "for i in range(0,len(ranking)):\n",
      "    ranking[i] = (ranking[i][0],ranking[i][1]*scale_f)\n",
      "(minval,maxval) = (999999999999,0)\n",
      "for i in range(0,len(ranking)):\n",
      "    minval = min(minval,ranking[i][1])\n",
      "    maxval = max(maxval,ranking[i][1])\n",
      "(minval,maxval)"
     ],
     "language": "python",
     "metadata": {},
     "outputs": [
      {
       "metadata": {},
       "output_type": "pyout",
       "prompt_number": 4,
       "text": [
        "(0.01059514876838652, 0.5)"
       ]
      }
     ],
     "prompt_number": 4
    },
    {
     "cell_type": "raw",
     "metadata": {},
     "source": [
      "NetworKit Community Detection on the climate graph with different algorithms."
     ]
    },
    {
     "cell_type": "code",
     "collapsed": false,
     "input": [
      "community.detectCommunities(g, community.PLP(), True)"
     ],
     "language": "python",
     "metadata": {},
     "outputs": [
      {
       "output_type": "stream",
       "stream": "stdout",
       "text": [
        "PLP(updateThreshold=0) detected communities in 0.6563320159912109 [s]\n",
        "solution properties:\n",
        "-------------------  ------------\n",
        "# communities           2\n",
        "min community size   2518\n",
        "max community size   7994\n",
        "avg. community size  5256\n",
        "modularity              0.0776675\n",
        "-------------------  ------------"
       ]
      },
      {
       "output_type": "stream",
       "stream": "stdout",
       "text": [
        "\n"
       ]
      },
      {
       "metadata": {},
       "output_type": "pyout",
       "prompt_number": 5,
       "text": [
        "<_NetworKit.Partition at 0x7fd38faa5e90>"
       ]
      }
     ],
     "prompt_number": 5
    },
    {
     "cell_type": "code",
     "collapsed": false,
     "input": [
      "community.detectCommunities(g, community.PLM(), True)"
     ],
     "language": "python",
     "metadata": {},
     "outputs": [
      {
       "output_type": "stream",
       "stream": "stdout",
       "text": [
        "PLM(balanced,refinement) detected communities in 2.445019483566284 [s]\n",
        "solution properties:\n",
        "-------------------  -----------\n",
        "# communities         147\n",
        "min community size      1\n",
        "max community size   4019\n",
        "avg. community size    71.5102\n",
        "modularity              0.246044\n",
        "-------------------  -----------"
       ]
      },
      {
       "output_type": "stream",
       "stream": "stdout",
       "text": [
        "\n"
       ]
      },
      {
       "metadata": {},
       "output_type": "pyout",
       "prompt_number": 6,
       "text": [
        "<_NetworKit.Partition at 0x7fd38fab3300>"
       ]
      }
     ],
     "prompt_number": 6
    },
    {
     "cell_type": "code",
     "collapsed": false,
     "input": [
      "ensemble = community.EPPFactory().make(4)\n",
      "community.detectCommunities(g, ensemble, True)"
     ],
     "language": "python",
     "metadata": {},
     "outputs": [
      {
       "output_type": "stream",
       "stream": "stdout",
       "text": [
        "b'EnsemblePreprocessing(base=PLP(updateThreshold=0),ensemble=4,final=PLM(balanced,))' detected communities in 2.028944492340088 [s]\n",
        "solution properties:\n",
        "-------------------  ------------\n",
        "# communities           2\n",
        "min community size   2518\n",
        "max community size   7994\n",
        "avg. community size  5256\n",
        "modularity              0.0776675\n",
        "-------------------  ------------"
       ]
      },
      {
       "output_type": "stream",
       "stream": "stdout",
       "text": [
        "\n"
       ]
      },
      {
       "metadata": {},
       "output_type": "pyout",
       "prompt_number": 7,
       "text": [
        "<_NetworKit.Partition at 0x7fd38fab3260>"
       ]
      }
     ],
     "prompt_number": 7
    },
    {
     "cell_type": "raw",
     "metadata": {},
     "source": [
      "Clustering Coefficients for the climate network."
     ]
    },
    {
     "cell_type": "code",
     "collapsed": false,
     "input": [
      "cc = properties.ClusteringCoefficient()\n",
      "(cc.approxAvgLocal(g,1000),cc.approxGlobal(g,1000))"
     ],
     "language": "python",
     "metadata": {},
     "outputs": [
      {
       "metadata": {},
       "output_type": "pyout",
       "prompt_number": 8,
       "text": [
        "(0.722, 0.902)"
       ]
      }
     ],
     "prompt_number": 8
    },
    {
     "cell_type": "code",
     "collapsed": false,
     "input": [],
     "language": "python",
     "metadata": {},
     "outputs": [],
     "prompt_number": 8
    },
    {
     "cell_type": "code",
     "collapsed": false,
     "input": [],
     "language": "python",
     "metadata": {},
     "outputs": []
    }
   ],
   "metadata": {}
  }
 ]
}
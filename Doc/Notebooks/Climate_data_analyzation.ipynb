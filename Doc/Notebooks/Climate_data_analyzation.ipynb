{
 "metadata": {
  "name": ""
 },
 "nbformat": 3,
 "nbformat_minor": 0,
 "worksheets": [
  {
   "cells": [
    {
     "cell_type": "raw",
     "metadata": {},
     "source": [
      "Go to your NetworKit directory and import NetworKit"
     ]
    },
    {
     "cell_type": "code",
     "collapsed": false,
     "input": [
      "# cd ...\n",
      "from NetworKit import *"
     ],
     "language": "python",
     "metadata": {},
     "outputs": [],
     "prompt_number": 1
    },
    {
     "cell_type": "raw",
     "metadata": {},
     "source": [
      "Read the climate graph with the new METIS graph reader. Don't forget to adapt the path to the graph file"
     ]
    },
    {
     "cell_type": "code",
     "collapsed": false,
     "input": [
      "g = graphio.FastMETISGraphReaderDouble().read(\"../data/climate.graph\")"
     ],
     "language": "python",
     "metadata": {},
     "outputs": [],
     "prompt_number": 2
    },
    {
     "cell_type": "raw",
     "metadata": {},
     "source": [
      "Initialize and run the calculation of the area-weighted connectivity/centrality. Again, don't forget to adapt the paths to the coordinate files."
     ]
    },
    {
     "cell_type": "code",
     "collapsed": false,
     "input": [
      "awc = centrality.AreaWeightedCentrality(g, True)\n",
      "awc.initCoordinates(\"../data/climate.lat\",\"../data/climate.lon\")\n",
      "awc.run()\n",
      "ranking = awc.ranking()"
     ],
     "language": "python",
     "metadata": {},
     "outputs": [],
     "prompt_number": 3
    },
    {
     "cell_type": "raw",
     "metadata": {},
     "source": [
      "Scale values to the maximum value of the figure in the attached article."
     ]
    },
    {
     "cell_type": "code",
     "collapsed": false,
     "input": [
      "scale_f = .5 / ranking[0][1]\n",
      "for i in range(0,len(ranking)):\n",
      "    ranking[i] = (ranking[i][0],ranking[i][1]*scale_f)\n",
      "(minval,maxval) = (999999999999,0)\n",
      "for i in range(0,len(ranking)):\n",
      "    minval = min(minval,ranking[i][1])\n",
      "    maxval = max(maxval,ranking[i][1])\n",
      "(minval,maxval)"
     ],
     "language": "python",
     "metadata": {},
     "outputs": [
      {
       "metadata": {},
       "output_type": "pyout",
       "prompt_number": 4,
       "text": [
        "(0.010595148768386919, 0.5)"
       ]
      }
     ],
     "prompt_number": 4
    },
    {
     "cell_type": "raw",
     "metadata": {},
     "source": [
      "NetworKit Community Detection on the climate graph with different algorithms."
     ]
    },
    {
     "cell_type": "code",
     "collapsed": false,
     "input": [
      "community.detectCommunities(g, community.PLP(), True)"
     ],
     "language": "python",
     "metadata": {},
     "outputs": [
      {
       "output_type": "stream",
       "stream": "stdout",
       "text": [
        "PLP(updateThreshold=0) detected communities in 0.939183235168457 [s]\n",
        "solution properties:\n",
        "-------------------  ------------\n",
        "# communities           2\n",
        "min community size   2488\n",
        "max community size   8024\n",
        "avg. community size  5256\n",
        "modularity              0.0606334\n",
        "-------------------  ------------"
       ]
      },
      {
       "output_type": "stream",
       "stream": "stdout",
       "text": [
        "\n"
       ]
      },
      {
       "metadata": {},
       "output_type": "pyout",
       "prompt_number": 5,
       "text": [
        "<_NetworKit.Partition at 0x7f31411d03f0>"
       ]
      }
     ],
     "prompt_number": 5
    },
    {
     "cell_type": "code",
     "collapsed": false,
     "input": [
      "community.detectCommunities(g, community.PLM(), True)"
     ],
     "language": "python",
     "metadata": {},
     "outputs": [
      {
       "output_type": "stream",
       "stream": "stdout",
       "text": [
        "PLM(balanced,refinement) detected communities in 3.7734768390655518 [s]\n",
        "solution properties:\n",
        "-------------------  -----------\n",
        "# communities           3\n",
        "min community size   2884\n",
        "max community size   4013\n",
        "avg. community size  3504\n",
        "modularity              0.270593\n",
        "-------------------  -----------"
       ]
      },
      {
       "output_type": "stream",
       "stream": "stdout",
       "text": [
        "\n"
       ]
      },
      {
       "metadata": {},
       "output_type": "pyout",
       "prompt_number": 6,
       "text": [
        "<_NetworKit.Partition at 0x7f31411d0350>"
       ]
      }
     ],
     "prompt_number": 6
    },
    {
     "cell_type": "code",
     "collapsed": false,
     "input": [
      "ensemble = community.EPPFactory().make(4)\n",
      "community.detectCommunities(g, ensemble, True)"
     ],
     "language": "python",
     "metadata": {},
     "outputs": [
      {
       "output_type": "stream",
       "stream": "stdout",
       "text": [
        "b'EnsemblePreprocessing(base=PLP(updateThreshold=0),ensemble=4,final=PLM(balanced,))' detected communities in 3.1996142864227295 [s]\n",
        "solution properties:\n",
        "-------------------  ------------\n",
        "# communities           2\n",
        "min community size   2488\n",
        "max community size   8024\n",
        "avg. community size  5256\n",
        "modularity              0.0606334\n",
        "-------------------  ------------"
       ]
      },
      {
       "output_type": "stream",
       "stream": "stdout",
       "text": [
        "\n"
       ]
      },
      {
       "metadata": {},
       "output_type": "pyout",
       "prompt_number": 7,
       "text": [
        "<_NetworKit.Partition at 0x7f31411d0120>"
       ]
      }
     ],
     "prompt_number": 7
    },
    {
     "cell_type": "raw",
     "metadata": {},
     "source": [
      "Clustering Coefficients for the climate network."
     ]
    },
    {
     "cell_type": "code",
     "collapsed": false,
     "input": [
      "cc = properties.ClusteringCoefficient()\n",
      "(cc.approxAvgLocal(g,1000),cc.approxGlobal(g,1000))"
     ],
     "language": "python",
     "metadata": {},
     "outputs": [
      {
       "metadata": {},
       "output_type": "pyout",
       "prompt_number": 8,
       "text": [
        "(0.726, 0.902)"
       ]
      }
     ],
     "prompt_number": 8
    },
    {
     "cell_type": "code",
     "collapsed": false,
     "input": [],
     "language": "python",
     "metadata": {},
     "outputs": [],
     "prompt_number": 8
    }
   ],
   "metadata": {}
  }
 ]
}
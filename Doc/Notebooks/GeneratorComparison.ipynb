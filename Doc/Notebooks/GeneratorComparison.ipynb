{
 "metadata": {
  "name": ""
 },
 "nbformat": 3,
 "nbformat_minor": 0,
 "worksheets": [
  {
   "cells": [
    {
     "cell_type": "code",
     "collapsed": false,
     "input": [
      "from networkit import *\n",
      "import math\n",
      "import random\n",
      "import sys\n",
      "\n",
      "scale=16\n",
      "n = 2**scale\n",
      "targetM = min(n * 60,n*n)\n",
      "initialConnected = max(targetM/n,10)\n",
      "degreeSequenceExponent = 1.35\n",
      "setLogLevel(\"DEBUG\")\n",
      "\n",
      "#prepare degree sequences for chunglu and havel-hakimi\n",
      "\n",
      "frequencies = []\n",
      "for i in range(1,int(n/2)):\n",
      "    frequencies.append((i**(-degreeSequenceExponent)))"
     ],
     "language": "python",
     "metadata": {},
     "outputs": [],
     "prompt_number": 1
    },
    {
     "cell_type": "code",
     "collapsed": false,
     "input": [
      "nodes = sum(frequencies)\n",
      "degrees = []\n",
      "for i in range(0,len(frequencies)):\n",
      "    frequencies[i] *= n / nodes\n",
      "    rest = frequencies[i] - math.floor(frequencies[i])\n",
      "    rest = int(random.random() < rest)\n",
      "    frequencies[i] = math.floor(frequencies[i]) + rest\n",
      "    for k in range(0,int(frequencies[i])):\n",
      "        degrees.append(i)\n",
      "        \n",
      "if (n - frequencies[0]) <= frequencies[len(frequencies)-1]:\n",
      "    print('Not even enough nodes for the highest-degree node to connect to!')\n",
      "\n",
      "edges = sum(degrees)/2\n",
      "factor = targetM / edges\n",
      "for i in range(0,len(degrees)):\n",
      "    degrees[i] = math.floor(factor*degrees[i])\n",
      "    \n",
      "if sum(degrees) % 2 != 0:\n",
      "    degrees[len(degrees)-1] += 1\n",
      "    \n",
      "R = math.acosh(n/(2*math.pi)+1)\n",
      "targetR = 2*math.log(8*n / (math.pi*(targetM/n)*2))\n",
      "print('Stretch:', targetR / R)\n",
      "\n",
      "genlist = []\n",
      "genlist.append(generators.RmatGenerator(scale,targetM / n, 0.7,0.1,0.01,0.3))\n",
      "genlist.append(generators.DorogovtsevMendesGenerator(targetM/2))\n",
      "genlist.append(generators.HyperbolicGenerator(n,1,1,targetR / R))\n",
      "genlist.append(generators.ChungLuGenerator(degrees))\n",
      "genlist.append(generators.BarabasiAlbertGenerator(targetM / n,n,initialConnected)) # too slow\n",
      "#genlist.append(generators.HavelHakimiGenerator(degrees)) # complains about degree Sequence\n"
     ],
     "language": "python",
     "metadata": {},
     "outputs": [
      {
       "output_type": "stream",
       "stream": "stdout",
       "text": [
        "Stretch: 1.4554148254506505\n"
       ]
      }
     ],
     "prompt_number": 2
    },
    {
     "cell_type": "code",
     "collapsed": false,
     "input": [
      "print('Degree sequence implies ', len(degrees), 'nodes and ', sum(degrees)/2, ' edges. TargetM was ', targetM)\n",
      "if generators.HavelHakimiGenerator(degrees).isRealizable():\n",
      "    print(\"HavelHakimi considers it realizable.\")\n",
      "else:\n",
      "    print(\"HavelHakimi considers it not realizable.\")\n"
     ],
     "language": "python",
     "metadata": {},
     "outputs": [
      {
       "output_type": "stream",
       "stream": "stdout",
       "text": [
        "Degree sequence implies  65591 nodes and  3920963.0  edges. TargetM was  3932160\n",
        "HavelHakimi considers it not realizable.\n"
       ]
      }
     ],
     "prompt_number": 3
    },
    {
     "cell_type": "code",
     "collapsed": false,
     "input": [
      "for gen in genlist:\n",
      "    print('Starting run with',gen.__class__, ' and ' ,n,'nodes')\n",
      "    sys.stdout.flush()\n",
      "    %time G = gen.generate()\n",
      "    print(G.numberOfEdges())\n",
      "    %time properties.overview(G)\n"
     ],
     "language": "python",
     "metadata": {},
     "outputs": [
      {
       "output_type": "stream",
       "stream": "stdout",
       "text": [
        "Starting run with <class '_NetworKit.RmatGenerator'>  and  65536 nodes\n"
       ]
      },
      {
       "output_type": "stream",
       "stream": "stdout",
       "text": [
        "CPU times: user 2.7 s, sys: 17.7 ms, total: 2.72 s\n",
        "Wall time: 2.71 s\n",
        "1279934\n",
        "Calculating best minimal value for power law fit\n",
        "Calculating best minimal value for power law fit\n",
        "\n"
       ]
      },
      {
       "output_type": "stream",
       "stream": "stdout",
       "text": [
        "Network Properties: G#2\n",
        "==================\n",
        "Basic Properties\n",
        "-----------------------------  --------\n",
        "nodes (n)                      65536\n",
        "edges (m)                      1279934\n",
        "directed?                      False\n",
        "weighted?                      True\n",
        "isolated nodes                 4634\n",
        "self-loops                     29040\n",
        "density                        0.000596\n",
        "clustering coefficient         0.142317\n",
        "degeneracy (max. core number)  76\n",
        "-----------------------------  --------\n",
        "Node Degree Properties\n",
        "-------------------------  ---------------\n",
        "min. degree                0\n",
        "max. degree                5897\n",
        "avg. degree                38.617371\n",
        "degree power law fit?      True, 11.543501\n",
        "degree power law exponent  1.3861\n",
        "degree assortativity       0.0274\n",
        "-------------------------  ---------------\n",
        "Path Structure\n",
        "-------------------------  -------\n",
        "connected components       4733\n",
        "size of largest component  60752\n",
        "estimated diameter range   (9, 10)\n",
        "-------------------------  -------\n",
        "Community Structure\n",
        "-------------------------------------------  -----------\n",
        "modularity-driven community detection (PLM)\n",
        "                                             communities\n",
        "                                             modularity\n",
        "-------------------------------------------  -----------\n",
        "Degree Distribution\n",
        "-------------------\n",
        "0-   :  \u2587\u2587\u2587\u2587\u2587\u2587\u2587\u2587\u2587\u2587\u2587\u2587\u2587\u2587\u2587\u2587\u2587\u2587\u2587\u2587\u2587\u2587\u2587\u2587\u2587\u2587\u2587\u2587\u2587\u2587\u2587\u2587\u2587\u2587\u2587\u2587\u2587\u2587\u2587\u2587\u2587\u2587\u2587\u2587\u2587\u2587\u2587\u2587\u2587\u258763897.00\n",
        "236- :  | 942.00\n",
        "472- :  | 560.00\n",
        "708- :  |   0.00\n",
        "944- :  |   0.00\n",
        "1180-:  | 120.00\n",
        "1416-:  |   0.00\n",
        "1652-:  |   0.00\n",
        "1888-:  |   0.00\n",
        "2124-:  |   0.00\n",
        "2360-:  |   0.00\n",
        "2596-:  |  10.00\n",
        "2832-:  |   6.00\n",
        "3068-:  |   0.00\n",
        "3304-:  |   0.00\n",
        "3540-:  |   0.00\n",
        "3776-:  |   0.00\n",
        "4012-:  |   0.00\n",
        "4248-:  |   0.00\n",
        "4484-:  |   0.00\n",
        "4720-:  |   0.00\n",
        "4956-:  |   0.00\n",
        "5192-:  |   0.00\n",
        "5428-:  |   0.00\n",
        "5664-:  |   1.00\n",
        "\n",
        "CPU times: user 2.2 s, sys: 35.3 ms, total: 2.23 s\n",
        "Wall time: 2.22 s\n",
        "Starting run with <class '_NetworKit.DorogovtsevMendesGenerator'>  and  65536 nodes\n"
       ]
      },
      {
       "output_type": "stream",
       "stream": "stdout",
       "text": [
        "CPU times: user 1.33 s, sys: 23.7 ms, total: 1.36 s\n",
        "Wall time: 1.36 s\n",
        "3932157\n",
        "Calculating best minimal value for power law fit\n",
        "Calculating best minimal value for power law fit"
       ]
      },
      {
       "output_type": "stream",
       "stream": "stdout",
       "text": [
        "\n",
        "\n"
       ]
      },
      {
       "output_type": "stream",
       "stream": "stdout",
       "text": [
        "Network Properties: G#4\n",
        "==================\n",
        "Basic Properties\n",
        "-----------------------------  --------\n",
        "nodes (n)                      1966080\n",
        "edges (m)                      3932157\n",
        "directed?                      False\n",
        "weighted?                      False\n",
        "isolated nodes                 0\n",
        "self-loops                     0\n",
        "density                        0.000002\n",
        "clustering coefficient         0.688092\n",
        "degeneracy (max. core number)  2\n",
        "-----------------------------  --------\n",
        "Node Degree Properties\n",
        "-------------------------  --------------\n",
        "min. degree                2\n",
        "max. degree                215\n",
        "avg. degree                3.999997\n",
        "degree power law fit?      True, 9.856189\n",
        "degree power law exponent  1.2615\n",
        "degree assortativity       0.0499\n",
        "-------------------------  --------------\n",
        "Path Structure\n",
        "-------------------------  --------\n",
        "connected components       1\n",
        "size of largest component  1966080\n",
        "estimated diameter range   (32, 36)\n",
        "-------------------------  --------\n",
        "Community Structure\n",
        "-------------------------------------------  -----------\n",
        "modularity-driven community detection (PLM)\n",
        "                                             communities\n",
        "                                             modularity\n",
        "-------------------------------------------  -----------\n",
        "Degree Distribution\n",
        "-------------------\n",
        "0-   :  \u2587\u2587\u2587\u2587\u2587\u2587\u2587\u2587\u2587\u2587\u2587\u2587\u2587\u2587\u2587\u2587\u2587\u2587\u2587\u2587\u2587\u2587\u2587\u2587\u2587\u2587\u2587\u2587\u2587\u2587\u2587\u2587\u2587\u2587\u2587\u2587\u2587\u2587\u2587\u2587\u2587\u2587\u2587\u2587\u2587\u2587\u2587\u2587\u2587\u25871822496.00\n",
        "9-   :  \u2587\u2587\u2587121492.00\n",
        "18-  :  |16200.00\n",
        "27-  :  |3798.00\n",
        "36-  :  |1246.00\n",
        "45-  :  | 440.00\n",
        "54-  :  | 210.00\n",
        "63-  :  |  88.00\n",
        "72-  :  |  43.00\n",
        "81-  :  |  22.00\n",
        "90-  :  |  16.00\n",
        "99-  :  |  12.00\n",
        "108- :  |   6.00\n",
        "117- :  |   4.00\n",
        "126- :  |   1.00\n",
        "135- :  |   3.00\n",
        "144- :  |   1.00\n",
        "153- :  |   0.00\n",
        "162- :  |   0.00\n",
        "171- :  |   0.00\n",
        "180- :  |   0.00\n",
        "189- :  |   0.00\n",
        "198- :  |   1.00\n",
        "207- :  |   1.00\n",
        "216- :  |   0.00\n",
        "\n",
        "CPU times: user 3.64 s, sys: 161 ms, total: 3.8 s\n",
        "Wall time: 3.71 s\n",
        "Starting run with <class '_NetworKit.HyperbolicGenerator'>  and  65536 nodes\n"
       ]
      }
     ],
     "prompt_number": "*"
    },
    {
     "cell_type": "code",
     "collapsed": false,
     "input": [
      "\n",
      "deg_sum = 0\n",
      "for j in range(0,len(degrees)):\n",
      "    deg_sum += degrees[j]\n",
      "    min_deg_sum = 0\n",
      "    for i in range(j+1,len(degrees)):\n",
      "        min_deg_sum += min(degrees[i], j+1)\n",
      "    #print(deg_sum, ', ', min_deg_sum)\n",
      "    if (deg_sum > (j+1) * j + min_deg_sum):\n",
      "        print('Not realizable at', j, ', because ', deg_sum, ' > ', j+1,'*',j,' + ', min_deg_sum)"
     ],
     "language": "python",
     "metadata": {},
     "outputs": [],
     "prompt_number": 4
    },
    {
     "cell_type": "code",
     "collapsed": false,
     "input": [],
     "language": "python",
     "metadata": {},
     "outputs": []
    }
   ],
   "metadata": {}
  }
 ]
}
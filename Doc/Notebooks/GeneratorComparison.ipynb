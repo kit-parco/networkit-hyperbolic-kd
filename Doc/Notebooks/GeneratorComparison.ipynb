{
 "metadata": {
  "name": ""
 },
 "nbformat": 3,
 "nbformat_minor": 0,
 "worksheets": [
  {
   "cells": [
    {
     "cell_type": "code",
     "collapsed": false,
     "input": [
      "from NetworKit import *\n",
      "import math\n",
      "import random\n",
      "import sys\n",
      "\n",
      "scale=16\n",
      "n = 2**scale\n",
      "targetM = min(n * 50,n*n)\n",
      "initialConnected = min(n,10)\n",
      "setLogLevel(\"DEBUG\")\n",
      "\n",
      "#prepare degree sequences for chunglu and havel-hakimi\n",
      "\n",
      "frequencies = []\n",
      "for i in range(1,int(n/2)):\n",
      "    frequencies.append((i**(-1.35)))"
     ],
     "language": "python",
     "metadata": {},
     "outputs": [],
     "prompt_number": 2
    },
    {
     "cell_type": "code",
     "collapsed": false,
     "input": [
      "nodes = sum(frequencies)\n",
      "degrees = []\n",
      "for i in range(0,len(frequencies)):\n",
      "    frequencies[i] *= n / nodes\n",
      "    rest = frequencies[i] - floor(frequencies[i])\n",
      "    rest = int(random.random() < rest)\n",
      "    frequencies[i] = floor(frequencies[i]) + rest\n",
      "    for k in range(0,int(frequencies[i])):\n",
      "        degrees.append(i)\n",
      "\n",
      "edges = sum(degrees)/2\n",
      "factor = targetM / edges\n",
      "for i in range(0,len(degrees)):\n",
      "    degrees[i] = floor(factor*degrees[i])\n",
      "    \n",
      "if sum(degrees) % 2 != 0:\n",
      "    degrees[0] += 1\n",
      "    \n",
      "R = math.acosh(n/(2*math.pi)+1)\n",
      "targetR = 2*log(8*n / (math.pi*(targetM/n)*2))\n",
      "print('Stretch:', targetR / R)\n",
      "\n",
      "genlist = []\n",
      "genlist.append(generators.RmatGenerator(scale,targetM / n, 0.7,0.1,0.01,0.3))\n",
      "genlist.append(generators.DorogovtsevMendesGenerator(n))\n",
      "genlist.append(generators.HyperbolicGenerator(n,1,1,targetR / R))\n",
      "genlist.append(generators.ChungLuGenerator(degrees))\n",
      "#genlist.append(generators.BarabasiAlbertGenerator(targetM / n,n,initialConnected)) # too slow\n",
      "#genlist.append(generators.HavelHakimiGenerator(degrees)) # complains about degree Sequence\n"
     ],
     "language": "python",
     "metadata": {},
     "outputs": [
      {
       "output_type": "stream",
       "stream": "stdout",
       "text": [
        "Stretch: 1.4920781421\n"
       ]
      }
     ],
     "prompt_number": 3
    },
    {
     "cell_type": "code",
     "collapsed": false,
     "input": [
      "print('Degree sequence implies ', len(degrees), 'nodes and ', sum(degrees)/2, ' edges.')\n"
     ],
     "language": "python",
     "metadata": {},
     "outputs": [
      {
       "output_type": "stream",
       "stream": "stdout",
       "text": [
        "Degree sequence implies  65472 nodes and  3266169.0  edges.\n"
       ]
      }
     ],
     "prompt_number": 5
    },
    {
     "cell_type": "code",
     "collapsed": false,
     "input": [
      "if generators.HavelHakimiGenerator(degrees).isRealizable():\n",
      "    print(\"Realizable.\")\n",
      "else:\n",
      "    print(\"Not Realizable\")"
     ],
     "language": "python",
     "metadata": {},
     "outputs": [
      {
       "output_type": "stream",
       "stream": "stdout",
       "text": [
        "Not Realizable\n"
       ]
      }
     ],
     "prompt_number": 6
    },
    {
     "cell_type": "code",
     "collapsed": false,
     "input": [
      "targetM"
     ],
     "language": "python",
     "metadata": {},
     "outputs": [
      {
       "metadata": {},
       "output_type": "pyout",
       "prompt_number": 7,
       "text": [
        "3276800"
       ]
      }
     ],
     "prompt_number": 7
    },
    {
     "cell_type": "code",
     "collapsed": false,
     "input": [
      "(n - frequencies[0]) > frequencies[len(frequencies)-1]"
     ],
     "language": "python",
     "metadata": {},
     "outputs": [
      {
       "metadata": {},
       "output_type": "pyout",
       "prompt_number": 8,
       "text": [
        "True"
       ]
      }
     ],
     "prompt_number": 8
    },
    {
     "cell_type": "code",
     "collapsed": false,
     "input": [
      "for gen in genlist:\n",
      "    print('Starting run with',gen.__class__, ' and ' ,n,'nodes')\n",
      "    sys.stdout.flush()\n",
      "    %time G = gen.generate()\n",
      "    print(G.numberOfEdges())\n",
      "    %time properties.overview(G)\n"
     ],
     "language": "python",
     "metadata": {},
     "outputs": [
      {
       "output_type": "stream",
       "stream": "stdout",
       "text": [
        "Starting run with <class '_NetworKit.RmatGenerator'>  and  65536 nodes\n"
       ]
      },
      {
       "output_type": "stream",
       "stream": "stdout",
       "text": [
        "CPU times: user 2.46 s, sys: 22.8 ms, total: 2.48 s\n",
        "Wall time: 2.48 s\n",
        "1125009\n",
        "Calculating best minimal value for power law fit\n",
        "Calculating best minimal value for power law fit"
       ]
      },
      {
       "output_type": "stream",
       "stream": "stdout",
       "text": [
        "\n",
        "\n"
       ]
      },
      {
       "output_type": "stream",
       "stream": "stdout",
       "text": [
        "Network Properties: G#2\n",
        "==================\n",
        "Basic Properties\n",
        "-----------------------------  ---------------\n",
        "nodes (n)                      65536\n",
        "edges (m)                          1.12501e+06\n",
        "directed?                          0\n",
        "isolated nodes                  5422\n",
        "self-loops                     27497\n",
        "density                            0.000524\n",
        "clustering coefficient             0.145227\n",
        "degeneracy (max. core number)     71\n",
        "-----------------------------  ---------------\n",
        "Node Degree Properties\n",
        "-------------------------  --------------\n",
        "min. degree                0\n",
        "max. degree                5482\n",
        "avg. degree                33.912979\n",
        "degree power law fit?      True, 0.869892\n",
        "degree power law exponent  2.0936\n",
        "degree assortativity       0.0274\n",
        "-------------------------  --------------\n",
        "Path Structure\n",
        "-------------------------  ------\n",
        "connected components       5539\n",
        "size of largest component  59939\n",
        "estimated diameter range   (9, 9)\n",
        "-------------------------  ------\n",
        "Community Structure\n",
        "-------------------------------------------  -----------\n",
        "modularity-driven community detection (PLM)\n",
        "                                             communities\n",
        "                                             modularity\n",
        "-------------------------------------------  -----------\n",
        "Degree Distribution\n",
        "-------------------\n",
        "0-   :  \u2587\u2587\u2587\u2587\u2587\u2587\u2587\u2587\u2587\u2587\u2587\u2587\u2587\u2587\u2587\u2587\u2587\u2587\u2587\u2587\u2587\u2587\u2587\u2587\u2587\u2587\u2587\u2587\u2587\u2587\u2587\u2587\u2587\u2587\u2587\u2587\u2587\u2587\u2587\u2587\u2587\u2587\u2587\u2587\u2587\u2587\u2587\u2587\u2587\u258764520.00\n",
        "220- :  | 320.00\n",
        "440- :  | 559.00\n",
        "660- :  |   0.00\n",
        "880- :  |   9.00\n",
        "1100-:  | 111.00\n",
        "1320-:  |   0.00\n",
        "1540-:  |   0.00\n",
        "1760-:  |   0.00\n",
        "1980-:  |   0.00\n",
        "2200-:  |   0.00\n",
        "2420-:  |  16.00\n",
        "2640-:  |   0.00\n",
        "2860-:  |   0.00\n",
        "3080-:  |   0.00\n",
        "3300-:  |   0.00\n",
        "3520-:  |   0.00\n",
        "3740-:  |   0.00\n",
        "3960-:  |   0.00\n",
        "4180-:  |   0.00\n",
        "4400-:  |   0.00\n",
        "4620-:  |   0.00\n",
        "4840-:  |   0.00\n",
        "5060-:  |   0.00\n",
        "5280-:  |   1.00\n",
        "\n",
        "CPU times: user 2.51 s, sys: 49.9 ms, total: 2.56 s\n",
        "Wall time: 2.5 s\n",
        "Starting run with <class '_NetworKit.DorogovtsevMendesGenerator'>  and  65536 nodes\n"
       ]
      },
      {
       "output_type": "stream",
       "stream": "stdout",
       "text": [
        "CPU times: user 52 ms, sys: 363 \u00b5s, total: 52.3 ms\n",
        "Wall time: 52.4 ms\n",
        "131069\n",
        "Calculating best minimal value for power law fit\n",
        "Calculating best minimal value for power law fit"
       ]
      },
      {
       "output_type": "stream",
       "stream": "stdout",
       "text": [
        "\n",
        "\n"
       ]
      },
      {
       "output_type": "stream",
       "stream": "stdout",
       "text": [
        "Network Properties: G#4\n",
        "==================\n",
        "Basic Properties\n",
        "-----------------------------  -------------\n",
        "nodes (n)                       65536\n",
        "edges (m)                      131069\n",
        "directed?                           0\n",
        "isolated nodes                      0\n",
        "self-loops                          0\n",
        "density                             6.1e-05\n",
        "clustering coefficient              0.693738\n",
        "degeneracy (max. core number)       2\n",
        "-----------------------------  -------------\n",
        "Node Degree Properties\n",
        "-------------------------  --------------\n",
        "min. degree                2\n",
        "max. degree                130\n",
        "avg. degree                3.999908\n",
        "degree power law fit?      True, 5.959505\n",
        "degree power law exponent  1.2724\n",
        "degree assortativity       0.0444\n",
        "-------------------------  --------------\n",
        "Path Structure\n",
        "-------------------------  --------\n",
        "connected components       1\n",
        "size of largest component  65536\n",
        "estimated diameter range   (24, 26)\n",
        "-------------------------  --------\n",
        "Community Structure\n",
        "-------------------------------------------  -----------\n",
        "modularity-driven community detection (PLM)\n",
        "                                             communities\n",
        "                                             modularity\n",
        "-------------------------------------------  -----------\n",
        "Degree Distribution\n",
        "-------------------\n",
        "0-   :  \u2587\u2587\u2587\u2587\u2587\u2587\u2587\u2587\u2587\u2587\u2587\u2587\u2587\u2587\u2587\u2587\u2587\u2587\u2587\u2587\u2587\u2587\u2587\u2587\u2587\u2587\u2587\u2587\u2587\u2587\u2587\u2587\u2587\u2587\u2587\u2587\u2587\u2587\u2587\u2587\u2587\u2587\u2587\u2587\u2587\u2587\u2587\u2587\u2587\u258754005.00\n",
        "6-   :  \u2587\u2587\u2587\u2587\u2587\u2587\u2587\u25879132.00\n",
        "12-  :  \u25871699.00\n",
        "18-  :  | 412.00\n",
        "24-  :  | 143.00\n",
        "30-  :  |  70.00\n",
        "36-  :  |  35.00\n",
        "42-  :  |  16.00\n",
        "48-  :  |  11.00\n",
        "54-  :  |   4.00\n",
        "60-  :  |   3.00\n",
        "66-  :  |   3.00\n",
        "72-  :  |   0.00\n",
        "78-  :  |   1.00\n",
        "84-  :  |   1.00\n",
        "90-  :  |   0.00\n",
        "96-  :  |   0.00\n",
        "102- :  |   0.00\n",
        "108- :  |   0.00\n",
        "114- :  |   0.00\n",
        "120- :  |   0.00\n",
        "126- :  |   1.00\n",
        "132- :  |   0.00\n",
        "138- :  |   0.00\n",
        "144- :  |   0.00\n",
        "\n",
        "CPU times: user 284 ms, sys: 4.38 ms, total: 289 ms\n",
        "Wall time: 257 ms\n",
        "Starting run with <class '_NetworKit.HyperbolicGenerator'>  and  65536 nodes\n"
       ]
      },
      {
       "output_type": "stream",
       "stream": "stdout",
       "text": [
        "CPU times: user 1.53 s, sys: 41.4 ms, total: 1.57 s\n",
        "Wall time: 448 ms\n",
        "3244822\n",
        "Calculating best minimal value for power law fit\n",
        "Calculating best minimal value for power law fit"
       ]
      }
     ],
     "prompt_number": "*"
    },
    {
     "cell_type": "code",
     "collapsed": false,
     "input": [
      "deg_sum = 0\n",
      "for j in range(0,len(degrees)):\n",
      "    deg_sum += degrees[j]\n",
      "    min_deg_sum = 0\n",
      "    for i in range(j+1,len(degrees)):\n",
      "        min_deg_sum += min(degrees[i], j+1)\n",
      "    #print(deg_sum, ', ', min_deg_sum)\n",
      "    if (deg_sum > (j+1) * j + min_deg_sum):\n",
      "        print('Not realizable at', j, ', because ', deg_sum, ' > ', j+1,'*',j,' + ', min_deg_sum)"
     ],
     "language": "python",
     "metadata": {},
     "outputs": [],
     "prompt_number": "*"
    },
    {
     "cell_type": "code",
     "collapsed": false,
     "input": [],
     "language": "python",
     "metadata": {},
     "outputs": []
    }
   ],
   "metadata": {}
  }
 ]
}
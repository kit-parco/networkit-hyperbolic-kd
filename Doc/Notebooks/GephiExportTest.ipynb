{
 "metadata": {
  "name": "",
  "signature": "sha256:2abe35cef72fb0260134d95f9ce7bf9f599c8f250cdc3244f01d31e26b36e56d"
 },
 "nbformat": 3,
 "nbformat_minor": 0,
 "worksheets": [
  {
   "cells": [
    {
     "cell_type": "code",
     "collapsed": false,
     "input": [
      "import pygephi"
     ],
     "language": "python",
     "metadata": {},
     "outputs": [],
     "prompt_number": 1
    },
    {
     "cell_type": "markdown",
     "metadata": {},
     "source": [
      "Singleton client providing a json connection to a running gephi instance:"
     ]
    },
    {
     "cell_type": "code",
     "collapsed": false,
     "input": [
      "class NetworKitGephiClient:\n",
      "    \"\"\" A python singleton \"\"\"\n",
      "\n",
      "    # storage for the instance reference\n",
      "    __instance = None\n",
      "\n",
      "    def __init__(self):\n",
      "        if NetworKitGephiClient.__instance is None:\n",
      "            NetworKitGephiClient.__instance = pygephi.GephiClient('http://localhost:8080/workspace0', autoflush=True)\n",
      "\n",
      "        # Store instance reference as the only member in the handle\n",
      "        self.__dict__['_GephiInterface__instance'] = NetworKitGephiClient.__instance\n",
      "\n",
      "        \"\"\" Delegate accesseso implementation \"\"\"\n",
      "    def __getattr__(self, attr):  \n",
      "        return getattr(self.__instance, attr)\n",
      "\n",
      "    def __setattr__(self, attr, value):       \n",
      "        return setattr(self.__instance, attr, value)"
     ],
     "language": "python",
     "metadata": {},
     "outputs": [],
     "prompt_number": 2
    },
    {
     "cell_type": "markdown",
     "metadata": {},
     "source": [
      "Example code for adding some nodes to gephi:"
     ]
    },
    {
     "cell_type": "code",
     "collapsed": false,
     "input": [
      "g = NetworKitGephiClient()\n",
      "\n",
      "#Graph l\u00f6schen\n",
      "g.clean()   \n",
      "\n",
      "#Knoten hinzuf\u00fcgen\n",
      "node_attributes = {\"size\":10, 'r':1.0, 'g':0.0, 'b':0.0}\n",
      "for i in range(0, 100):\n",
      "    g.add_node(str(i), **node_attributes)\n"
     ],
     "language": "python",
     "metadata": {},
     "outputs": [],
     "prompt_number": 3
    },
    {
     "cell_type": "code",
     "collapsed": false,
     "input": [],
     "language": "python",
     "metadata": {},
     "outputs": []
    }
   ],
   "metadata": {}
  }
 ]
}
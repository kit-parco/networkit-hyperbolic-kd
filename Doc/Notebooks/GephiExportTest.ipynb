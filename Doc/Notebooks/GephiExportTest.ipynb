{
 "metadata": {
  "name": "",
  "signature": "sha256:910d9ef3efe3a54ecc96e1de734dc59c2a3113f07d5f4edb8e97c83774cff888"
 },
 "nbformat": 3,
 "nbformat_minor": 0,
 "worksheets": [
  {
   "cells": [
    {
     "cell_type": "code",
     "collapsed": false,
     "input": [
      "import pygephi"
     ],
     "language": "python",
     "metadata": {},
     "outputs": [],
     "prompt_number": 1
    },
    {
     "cell_type": "heading",
     "level": 6,
     "metadata": {},
     "source": [
      "Singleton client providing a json connection to a running gephi instance:"
     ]
    },
    {
     "cell_type": "code",
     "collapsed": false,
     "input": [
      "class NetworKitGephiClient:\n",
      "    \"\"\" A python singleton \"\"\"\n",
      "\n",
      "    # storage for the instance reference\n",
      "    __instance = None\n",
      "\n",
      "    def __init__(self):\n",
      "        if NetworKitGephiClient.__instance is None:\n",
      "            NetworKitGephiClient.__instance = pygephi.GephiClient('http://localhost:8080/workspace0', autoflush=True)\n",
      "\n",
      "        # Store instance reference as the only member in the handle\n",
      "        self.__dict__['_GephiInterface__instance'] = NetworKitGephiClient.__instance\n",
      "        \n",
      "        \"\"\" Delegate accesseso implementation \"\"\"\n",
      "    def __getattr__(self, attr):  \n",
      "        return getattr(self.__instance, attr)\n",
      "\n",
      "    def __setattr__(self, attr, value):       \n",
      "        return setattr(self.__instance, attr, value)"
     ],
     "language": "python",
     "metadata": {},
     "outputs": [],
     "prompt_number": 2
    },
    {
     "cell_type": "heading",
     "level": 6,
     "metadata": {},
     "source": [
      "Example code for adding some nodes to gephi:"
     ]
    },
    {
     "cell_type": "code",
     "collapsed": false,
     "input": [
      "g = NetworKitGephiClient()\n",
      "\n",
      "#Graph l\u00f6schen\n",
      "g.clean()   \n",
      "\n",
      "#Knoten hinzuf\u00fcgen\n",
      "node_attributes = {\"size\":10, 'r':1.0, 'g':0.0, 'b':0.0}\n",
      "for i in range(0, 100):\n",
      "    g.add_node(str(i), **node_attributes)\n"
     ],
     "language": "python",
     "metadata": {},
     "outputs": [],
     "prompt_number": 3
    },
    {
     "cell_type": "code",
     "collapsed": false,
     "input": [
      "g = NetworKitGephiClient()"
     ],
     "language": "python",
     "metadata": {},
     "outputs": [],
     "prompt_number": 12
    },
    {
     "cell_type": "heading",
     "level": 6,
     "metadata": {},
     "source": [
      "TEST code for exporting backbone graphs to gephi:"
     ]
    },
    {
     "cell_type": "code",
     "collapsed": false,
     "input": [
      "from NetworKit import *"
     ],
     "language": "python",
     "metadata": {},
     "outputs": [],
     "prompt_number": 4
    },
    {
     "cell_type": "code",
     "collapsed": false,
     "input": [
      "G = readGraph(\"../../input/jazz.graph\")"
     ],
     "language": "python",
     "metadata": {},
     "outputs": [],
     "prompt_number": 5
    },
    {
     "cell_type": "code",
     "collapsed": false,
     "input": [
      "simmel = backbones.SimmelianBackbone()\n",
      "B = simmel.calculateParametric(G, 10, 5)"
     ],
     "language": "python",
     "metadata": {},
     "outputs": [],
     "prompt_number": 6
    },
    {
     "cell_type": "code",
     "collapsed": false,
     "input": [
      "print(\"Edges in Graph:\", G.numberOfEdges())\n",
      "print(\"Edges in Backbone:\", B.numberOfEdges())"
     ],
     "language": "python",
     "metadata": {},
     "outputs": [
      {
       "output_type": "stream",
       "stream": "stdout",
       "text": [
        "Edges in Graph: 2742\n",
        "Edges in Backbone: 1630\n"
       ]
      }
     ],
     "prompt_number": 7
    },
    {
     "cell_type": "code",
     "collapsed": false,
     "input": [
      "backbones.gephi_exportBackbone(G, B)"
     ],
     "language": "python",
     "metadata": {},
     "outputs": [],
     "prompt_number": 9
    },
    {
     "cell_type": "code",
     "collapsed": false,
     "input": [],
     "language": "python",
     "metadata": {},
     "outputs": []
    }
   ],
   "metadata": {}
  }
 ]
}
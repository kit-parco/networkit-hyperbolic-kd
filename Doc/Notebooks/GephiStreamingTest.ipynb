{
 "metadata": {
  "name": ""
 },
 "nbformat": 3,
 "nbformat_minor": 0,
 "worksheets": [
  {
   "cells": [
    {
     "cell_type": "code",
     "collapsed": false,
     "input": [
      "from networkit import *\n",
      "import time\n",
      "setLogLevel(\"DEBUG\")"
     ],
     "language": "python",
     "metadata": {},
     "outputs": [],
     "prompt_number": 1
    },
    {
     "cell_type": "code",
     "collapsed": false,
     "input": [
      "gen = generators.DynamicHyperbolicGenerator(200,0,1,1.8,1,0.001,1)"
     ],
     "language": "python",
     "metadata": {},
     "outputs": [
      {
       "ename": "TypeError",
       "evalue": "__cinit__() takes exactly 7 positional arguments (1 given)",
       "output_type": "pyerr",
       "traceback": [
        "\u001b[0;31m---------------------------------------------------------------------------\u001b[0m\n\u001b[0;31mTypeError\u001b[0m                                 Traceback (most recent call last)",
        "\u001b[0;32m<ipython-input-12-5c9f4f27ac28>\u001b[0m in \u001b[0;36m<module>\u001b[0;34m()\u001b[0m\n\u001b[0;32m----> 1\u001b[0;31m \u001b[0mgen\u001b[0m \u001b[0;34m=\u001b[0m \u001b[0mgenerators\u001b[0m\u001b[0;34m.\u001b[0m\u001b[0mDynamicHyperbolicGenerator\u001b[0m\u001b[0;34m(\u001b[0m\u001b[0;36m200\u001b[0m\u001b[0;34m)\u001b[0m\u001b[0;34m\u001b[0m\u001b[0m\n\u001b[0m",
        "\u001b[0;32m/home/moritzl/NetworKit/fork/NetworKit-Hyperbolic/_NetworKit.cpython-34m.so\u001b[0m in \u001b[0;36m_NetworKit.DynamicHyperbolicGenerator.__cinit__ (networkit/_NetworKit.cpp:45972)\u001b[0;34m()\u001b[0m\n",
        "\u001b[0;31mTypeError\u001b[0m: __cinit__() takes exactly 7 positional arguments (1 given)"
       ]
      }
     ],
     "prompt_number": 12
    },
    {
     "cell_type": "code",
     "collapsed": false,
     "input": [
      "G = gen.getGraph()\n",
      "G.initCoordinates()"
     ],
     "language": "python",
     "metadata": {},
     "outputs": [],
     "prompt_number": 3
    },
    {
     "cell_type": "code",
     "collapsed": false,
     "input": [
      "client = gephi.streaming.GephiStreamingClient()\n",
      "client.clearGraph()"
     ],
     "language": "python",
     "metadata": {},
     "outputs": [],
     "prompt_number": 7
    },
    {
     "cell_type": "code",
     "collapsed": false,
     "input": [
      "G = generators.HyperbolicGenerator(1000)\n",
      "client.exportGraph(G)"
     ],
     "language": "python",
     "metadata": {},
     "outputs": [
      {
       "ename": "AttributeError",
       "evalue": "'_NetworKit.HyperbolicGenerator' object has no attribute 'indexEdges'",
       "output_type": "pyerr",
       "traceback": [
        "\u001b[0;31m---------------------------------------------------------------------------\u001b[0m\n\u001b[0;31mAttributeError\u001b[0m                            Traceback (most recent call last)",
        "\u001b[0;32m<ipython-input-11-bc294d9a59f8>\u001b[0m in \u001b[0;36m<module>\u001b[0;34m()\u001b[0m\n\u001b[1;32m      1\u001b[0m \u001b[0mG\u001b[0m \u001b[0;34m=\u001b[0m \u001b[0mgenerators\u001b[0m\u001b[0;34m.\u001b[0m\u001b[0mHyperbolicGenerator\u001b[0m\u001b[0;34m(\u001b[0m\u001b[0;36m1000\u001b[0m\u001b[0;34m)\u001b[0m\u001b[0;34m\u001b[0m\u001b[0m\n\u001b[0;32m----> 2\u001b[0;31m \u001b[0mclient\u001b[0m\u001b[0;34m.\u001b[0m\u001b[0mexportGraph\u001b[0m\u001b[0;34m(\u001b[0m\u001b[0mG\u001b[0m\u001b[0;34m)\u001b[0m\u001b[0;34m\u001b[0m\u001b[0m\n\u001b[0m",
        "\u001b[0;32m/home/moritzl/NetworKit/fork/NetworKit-Hyperbolic/networkit/gephi/streaming.py\u001b[0m in \u001b[0;36mexportGraph\u001b[0;34m(self, graph)\u001b[0m\n\u001b[1;32m     36\u001b[0m \u001b[0;34m\u001b[0m\u001b[0m\n\u001b[1;32m     37\u001b[0m             \u001b[0;31m#Index edges if neccessary\u001b[0m\u001b[0;34m\u001b[0m\u001b[0;34m\u001b[0m\u001b[0m\n\u001b[0;32m---> 38\u001b[0;31m             \u001b[0mgraph\u001b[0m\u001b[0;34m.\u001b[0m\u001b[0mindexEdges\u001b[0m\u001b[0;34m(\u001b[0m\u001b[0;34m)\u001b[0m\u001b[0;34m\u001b[0m\u001b[0m\n\u001b[0m\u001b[1;32m     39\u001b[0m             \u001b[0mself\u001b[0m\u001b[0;34m.\u001b[0m\u001b[0mdirected\u001b[0m \u001b[0;34m=\u001b[0m \u001b[0mgraph\u001b[0m\u001b[0;34m.\u001b[0m\u001b[0misDirected\u001b[0m\u001b[0;34m(\u001b[0m\u001b[0;34m)\u001b[0m\u001b[0;34m\u001b[0m\u001b[0m\n\u001b[1;32m     40\u001b[0m \u001b[0;34m\u001b[0m\u001b[0m\n",
        "\u001b[0;31mAttributeError\u001b[0m: '_NetworKit.HyperbolicGenerator' object has no attribute 'indexEdges'"
       ]
      }
     ],
     "prompt_number": 11
    },
    {
     "cell_type": "code",
     "collapsed": false,
     "input": [
      "client.exportGraph(G)\n",
      "scale = 100\n",
      "xcoords = [scale*p[0] for p in gen.getHyperbolicCoordinates()]#gen.getHyperbolicCoordinates()]\n",
      "ycoords = [scale*p[1] for p in gen.getHyperbolicCoordinates()]#gen.getHyperbolicCoordinates()]\n",
      "client.exportNodeValues(G, xcoords, 'x')\n",
      "client.exportNodeValues(G, ycoords, 'y')"
     ],
     "language": "python",
     "metadata": {},
     "outputs": [
      {
       "ename": "AttributeError",
       "evalue": "'_NetworKit.HyperbolicGenerator' object has no attribute 'indexEdges'",
       "output_type": "pyerr",
       "traceback": [
        "\u001b[0;31m---------------------------------------------------------------------------\u001b[0m\n\u001b[0;31mAttributeError\u001b[0m                            Traceback (most recent call last)",
        "\u001b[0;32m<ipython-input-10-544866a7cd18>\u001b[0m in \u001b[0;36m<module>\u001b[0;34m()\u001b[0m\n\u001b[0;32m----> 1\u001b[0;31m \u001b[0mclient\u001b[0m\u001b[0;34m.\u001b[0m\u001b[0mexportGraph\u001b[0m\u001b[0;34m(\u001b[0m\u001b[0mG\u001b[0m\u001b[0;34m)\u001b[0m\u001b[0;34m\u001b[0m\u001b[0m\n\u001b[0m\u001b[1;32m      2\u001b[0m \u001b[0mscale\u001b[0m \u001b[0;34m=\u001b[0m \u001b[0;36m100\u001b[0m\u001b[0;34m\u001b[0m\u001b[0m\n\u001b[1;32m      3\u001b[0m \u001b[0mxcoords\u001b[0m \u001b[0;34m=\u001b[0m \u001b[0;34m[\u001b[0m\u001b[0mscale\u001b[0m\u001b[0;34m*\u001b[0m\u001b[0mp\u001b[0m\u001b[0;34m[\u001b[0m\u001b[0;36m0\u001b[0m\u001b[0;34m]\u001b[0m \u001b[0;32mfor\u001b[0m \u001b[0mp\u001b[0m \u001b[0;32min\u001b[0m \u001b[0mgen\u001b[0m\u001b[0;34m.\u001b[0m\u001b[0mgetHyperbolicCoordinates\u001b[0m\u001b[0;34m(\u001b[0m\u001b[0;34m)\u001b[0m\u001b[0;34m]\u001b[0m\u001b[0;31m#gen.getHyperbolicCoordinates()]\u001b[0m\u001b[0;34m\u001b[0m\u001b[0m\n\u001b[1;32m      4\u001b[0m \u001b[0mycoords\u001b[0m \u001b[0;34m=\u001b[0m \u001b[0;34m[\u001b[0m\u001b[0mscale\u001b[0m\u001b[0;34m*\u001b[0m\u001b[0mp\u001b[0m\u001b[0;34m[\u001b[0m\u001b[0;36m1\u001b[0m\u001b[0;34m]\u001b[0m \u001b[0;32mfor\u001b[0m \u001b[0mp\u001b[0m \u001b[0;32min\u001b[0m \u001b[0mgen\u001b[0m\u001b[0;34m.\u001b[0m\u001b[0mgetHyperbolicCoordinates\u001b[0m\u001b[0;34m(\u001b[0m\u001b[0;34m)\u001b[0m\u001b[0;34m]\u001b[0m\u001b[0;31m#gen.getHyperbolicCoordinates()]\u001b[0m\u001b[0;34m\u001b[0m\u001b[0m\n\u001b[1;32m      5\u001b[0m \u001b[0mclient\u001b[0m\u001b[0;34m.\u001b[0m\u001b[0mexportNodeValues\u001b[0m\u001b[0;34m(\u001b[0m\u001b[0mG\u001b[0m\u001b[0;34m,\u001b[0m \u001b[0mxcoords\u001b[0m\u001b[0;34m,\u001b[0m \u001b[0;34m'x'\u001b[0m\u001b[0;34m)\u001b[0m\u001b[0;34m\u001b[0m\u001b[0m\n",
        "\u001b[0;32m/home/moritzl/NetworKit/fork/NetworKit-Hyperbolic/networkit/gephi/streaming.py\u001b[0m in \u001b[0;36mexportGraph\u001b[0;34m(self, graph)\u001b[0m\n\u001b[1;32m     36\u001b[0m \u001b[0;34m\u001b[0m\u001b[0m\n\u001b[1;32m     37\u001b[0m             \u001b[0;31m#Index edges if neccessary\u001b[0m\u001b[0;34m\u001b[0m\u001b[0;34m\u001b[0m\u001b[0m\n\u001b[0;32m---> 38\u001b[0;31m             \u001b[0mgraph\u001b[0m\u001b[0;34m.\u001b[0m\u001b[0mindexEdges\u001b[0m\u001b[0;34m(\u001b[0m\u001b[0;34m)\u001b[0m\u001b[0;34m\u001b[0m\u001b[0m\n\u001b[0m\u001b[1;32m     39\u001b[0m             \u001b[0mself\u001b[0m\u001b[0;34m.\u001b[0m\u001b[0mdirected\u001b[0m \u001b[0;34m=\u001b[0m \u001b[0mgraph\u001b[0m\u001b[0;34m.\u001b[0m\u001b[0misDirected\u001b[0m\u001b[0;34m(\u001b[0m\u001b[0;34m)\u001b[0m\u001b[0;34m\u001b[0m\u001b[0m\n\u001b[1;32m     40\u001b[0m \u001b[0;34m\u001b[0m\u001b[0m\n",
        "\u001b[0;31mAttributeError\u001b[0m: '_NetworKit.HyperbolicGenerator' object has no attribute 'indexEdges'"
       ]
      }
     ],
     "prompt_number": 10
    },
    {
     "cell_type": "code",
     "collapsed": false,
     "input": [
      "start = time.time()\n",
      "for i in range(0,1000):\n",
      "    stream = gen.generate(1)\n",
      "    coords = gen.getHyperbolicCoordinates()\n",
      "    for j in range(0, len(coords)):\n",
      "        p = coords[j]\n",
      "        G.setCoordinate(j, (scale*p[0], scale*p[1]))\n",
      "    \n",
      "    client.exportCoordinates(G)\n",
      "    client.exportEventStream(stream)\n",
      "    \n",
      "    time.sleep(0.05)\n",
      "print('Elapsed: ', time.time() - start)"
     ],
     "language": "python",
     "metadata": {},
     "outputs": [
      {
       "output_type": "stream",
       "stream": "stdout",
       "text": [
        "Could not connect to the gephi streaming plugin. Did you start the streaming master server in gephi?\n",
        "Could not connect to the gephi streaming plugin. Did you start the streaming master server in gephi?\n",
        "Could not connect to the gephi streaming plugin. Did you start the streaming master server in gephi?\n",
        "Could not connect to the gephi streaming plugin. Did you start the streaming master server in gephi?\n",
        "Could not connect to the gephi streaming plugin. Did you start the streaming master server in gephi?"
       ]
      },
      {
       "output_type": "stream",
       "stream": "stdout",
       "text": [
        "\n",
        "Could not connect to the gephi streaming plugin. Did you start the streaming master server in gephi?\n",
        "Could not connect to the gephi streaming plugin. Did you start the streaming master server in gephi?\n",
        "Could not connect to the gephi streaming plugin. Did you start the streaming master server in gephi?\n",
        "Could not connect to the gephi streaming plugin. Did you start the streaming master server in gephi?"
       ]
      },
      {
       "output_type": "stream",
       "stream": "stdout",
       "text": [
        "\n",
        "Could not connect to the gephi streaming plugin. Did you start the streaming master server in gephi?\n",
        "Could not connect to the gephi streaming plugin. Did you start the streaming master server in gephi?\n",
        "Could not connect to the gephi streaming plugin. Did you start the streaming master server in gephi?\n",
        "Could not connect to the gephi streaming plugin. Did you start the streaming master server in gephi?"
       ]
      },
      {
       "output_type": "stream",
       "stream": "stdout",
       "text": [
        "\n",
        "Could not connect to the gephi streaming plugin. Did you start the streaming master server in gephi?\n",
        "Could not connect to the gephi streaming plugin. Did you start the streaming master server in gephi?\n",
        "Could not connect to the gephi streaming plugin. Did you start the streaming master server in gephi?\n",
        "Could not connect to the gephi streaming plugin. Did you start the streaming master server in gephi?"
       ]
      },
      {
       "output_type": "stream",
       "stream": "stdout",
       "text": [
        "\n",
        "Could not connect to the gephi streaming plugin. Did you start the streaming master server in gephi?\n",
        "Could not connect to the gephi streaming plugin. Did you start the streaming master server in gephi?\n",
        "Could not connect to the gephi streaming plugin. Did you start the streaming master server in gephi?\n",
        "Could not connect to the gephi streaming plugin. Did you start the streaming master server in gephi?"
       ]
      },
      {
       "output_type": "stream",
       "stream": "stdout",
       "text": [
        "\n",
        "Could not connect to the gephi streaming plugin. Did you start the streaming master server in gephi?\n",
        "Could not connect to the gephi streaming plugin. Did you start the streaming master server in gephi?\n",
        "Could not connect to the gephi streaming plugin. Did you start the streaming master server in gephi?\n",
        "Could not connect to the gephi streaming plugin. Did you start the streaming master server in gephi?"
       ]
      },
      {
       "output_type": "stream",
       "stream": "stdout",
       "text": [
        "\n",
        "Could not connect to the gephi streaming plugin. Did you start the streaming master server in gephi?\n",
        "Could not connect to the gephi streaming plugin. Did you start the streaming master server in gephi?\n",
        "Could not connect to the gephi streaming plugin. Did you start the streaming master server in gephi?\n",
        "Could not connect to the gephi streaming plugin. Did you start the streaming master server in gephi?"
       ]
      },
      {
       "output_type": "stream",
       "stream": "stdout",
       "text": [
        "\n",
        "Could not connect to the gephi streaming plugin. Did you start the streaming master server in gephi?\n",
        "Could not connect to the gephi streaming plugin. Did you start the streaming master server in gephi?\n",
        "Could not connect to the gephi streaming plugin. Did you start the streaming master server in gephi?\n",
        "Could not connect to the gephi streaming plugin. Did you start the streaming master server in gephi?"
       ]
      },
      {
       "output_type": "stream",
       "stream": "stdout",
       "text": [
        "\n",
        "Could not connect to the gephi streaming plugin. Did you start the streaming master server in gephi?\n",
        "Could not connect to the gephi streaming plugin. Did you start the streaming master server in gephi?\n",
        "Could not connect to the gephi streaming plugin. Did you start the streaming master server in gephi?\n",
        "Could not connect to the gephi streaming plugin. Did you start the streaming master server in gephi?"
       ]
      },
      {
       "output_type": "stream",
       "stream": "stdout",
       "text": [
        "\n",
        "Could not connect to the gephi streaming plugin. Did you start the streaming master server in gephi?\n",
        "Could not connect to the gephi streaming plugin. Did you start the streaming master server in gephi?\n",
        "Could not connect to the gephi streaming plugin. Did you start the streaming master server in gephi?\n",
        "Could not connect to the gephi streaming plugin. Did you start the streaming master server in gephi?"
       ]
      },
      {
       "output_type": "stream",
       "stream": "stdout",
       "text": [
        "\n",
        "Could not connect to the gephi streaming plugin. Did you start the streaming master server in gephi?\n",
        "Could not connect to the gephi streaming plugin. Did you start the streaming master server in gephi?\n",
        "Could not connect to the gephi streaming plugin. Did you start the streaming master server in gephi?\n",
        "Could not connect to the gephi streaming plugin. Did you start the streaming master server in gephi?"
       ]
      },
      {
       "output_type": "stream",
       "stream": "stdout",
       "text": [
        "\n",
        "Could not connect to the gephi streaming plugin. Did you start the streaming master server in gephi?\n",
        "Could not connect to the gephi streaming plugin. Did you start the streaming master server in gephi?\n",
        "Could not connect to the gephi streaming plugin. Did you start the streaming master server in gephi?\n",
        "Could not connect to the gephi streaming plugin. Did you start the streaming master server in gephi?"
       ]
      },
      {
       "output_type": "stream",
       "stream": "stdout",
       "text": [
        "\n",
        "Could not connect to the gephi streaming plugin. Did you start the streaming master server in gephi?\n",
        "Could not connect to the gephi streaming plugin. Did you start the streaming master server in gephi?\n",
        "Could not connect to the gephi streaming plugin. Did you start the streaming master server in gephi?\n",
        "Could not connect to the gephi streaming plugin. Did you start the streaming master server in gephi?"
       ]
      },
      {
       "output_type": "stream",
       "stream": "stdout",
       "text": [
        "\n",
        "Could not connect to the gephi streaming plugin. Did you start the streaming master server in gephi?\n",
        "Could not connect to the gephi streaming plugin. Did you start the streaming master server in gephi?\n",
        "Could not connect to the gephi streaming plugin. Did you start the streaming master server in gephi?\n",
        "Could not connect to the gephi streaming plugin. Did you start the streaming master server in gephi?"
       ]
      },
      {
       "output_type": "stream",
       "stream": "stdout",
       "text": [
        "\n",
        "Could not connect to the gephi streaming plugin. Did you start the streaming master server in gephi?\n",
        "Could not connect to the gephi streaming plugin. Did you start the streaming master server in gephi?\n",
        "Could not connect to the gephi streaming plugin. Did you start the streaming master server in gephi?\n",
        "Could not connect to the gephi streaming plugin. Did you start the streaming master server in gephi?"
       ]
      },
      {
       "output_type": "stream",
       "stream": "stdout",
       "text": [
        "\n",
        "Could not connect to the gephi streaming plugin. Did you start the streaming master server in gephi?\n",
        "Could not connect to the gephi streaming plugin. Did you start the streaming master server in gephi?\n",
        "Could not connect to the gephi streaming plugin. Did you start the streaming master server in gephi?\n",
        "Could not connect to the gephi streaming plugin. Did you start the streaming master server in gephi?"
       ]
      },
      {
       "output_type": "stream",
       "stream": "stdout",
       "text": [
        "\n",
        "Could not connect to the gephi streaming plugin. Did you start the streaming master server in gephi?\n",
        "Could not connect to the gephi streaming plugin. Did you start the streaming master server in gephi?\n",
        "Could not connect to the gephi streaming plugin. Did you start the streaming master server in gephi?\n",
        "Could not connect to the gephi streaming plugin. Did you start the streaming master server in gephi?"
       ]
      },
      {
       "output_type": "stream",
       "stream": "stdout",
       "text": [
        "\n",
        "Could not connect to the gephi streaming plugin. Did you start the streaming master server in gephi?\n",
        "Could not connect to the gephi streaming plugin. Did you start the streaming master server in gephi?\n",
        "Could not connect to the gephi streaming plugin. Did you start the streaming master server in gephi?\n",
        "Could not connect to the gephi streaming plugin. Did you start the streaming master server in gephi?"
       ]
      },
      {
       "output_type": "stream",
       "stream": "stdout",
       "text": [
        "\n",
        "Could not connect to the gephi streaming plugin. Did you start the streaming master server in gephi?\n",
        "Could not connect to the gephi streaming plugin. Did you start the streaming master server in gephi?\n",
        "Could not connect to the gephi streaming plugin. Did you start the streaming master server in gephi?\n",
        "Could not connect to the gephi streaming plugin. Did you start the streaming master server in gephi?"
       ]
      },
      {
       "output_type": "stream",
       "stream": "stdout",
       "text": [
        "\n",
        "Could not connect to the gephi streaming plugin. Did you start the streaming master server in gephi?\n",
        "Could not connect to the gephi streaming plugin. Did you start the streaming master server in gephi?\n",
        "Could not connect to the gephi streaming plugin. Did you start the streaming master server in gephi?\n",
        "Could not connect to the gephi streaming plugin. Did you start the streaming master server in gephi?"
       ]
      },
      {
       "output_type": "stream",
       "stream": "stdout",
       "text": [
        "\n",
        "Could not connect to the gephi streaming plugin. Did you start the streaming master server in gephi?\n",
        "Could not connect to the gephi streaming plugin. Did you start the streaming master server in gephi?\n",
        "Could not connect to the gephi streaming plugin. Did you start the streaming master server in gephi?\n",
        "Could not connect to the gephi streaming plugin. Did you start the streaming master server in gephi?"
       ]
      },
      {
       "output_type": "stream",
       "stream": "stdout",
       "text": [
        "\n",
        "Could not connect to the gephi streaming plugin. Did you start the streaming master server in gephi?\n",
        "Could not connect to the gephi streaming plugin. Did you start the streaming master server in gephi?\n",
        "Could not connect to the gephi streaming plugin. Did you start the streaming master server in gephi?\n",
        "Could not connect to the gephi streaming plugin. Did you start the streaming master server in gephi?"
       ]
      },
      {
       "output_type": "stream",
       "stream": "stdout",
       "text": [
        "\n",
        "Could not connect to the gephi streaming plugin. Did you start the streaming master server in gephi?\n",
        "Could not connect to the gephi streaming plugin. Did you start the streaming master server in gephi?\n",
        "Could not connect to the gephi streaming plugin. Did you start the streaming master server in gephi?\n",
        "Could not connect to the gephi streaming plugin. Did you start the streaming master server in gephi?"
       ]
      },
      {
       "output_type": "stream",
       "stream": "stdout",
       "text": [
        "\n",
        "Could not connect to the gephi streaming plugin. Did you start the streaming master server in gephi?\n",
        "Could not connect to the gephi streaming plugin. Did you start the streaming master server in gephi?\n",
        "Could not connect to the gephi streaming plugin. Did you start the streaming master server in gephi?\n",
        "Could not connect to the gephi streaming plugin. Did you start the streaming master server in gephi?"
       ]
      },
      {
       "output_type": "stream",
       "stream": "stdout",
       "text": [
        "\n",
        "Could not connect to the gephi streaming plugin. Did you start the streaming master server in gephi?\n",
        "Could not connect to the gephi streaming plugin. Did you start the streaming master server in gephi?\n",
        "Could not connect to the gephi streaming plugin. Did you start the streaming master server in gephi?\n",
        "Could not connect to the gephi streaming plugin. Did you start the streaming master server in gephi?"
       ]
      },
      {
       "output_type": "stream",
       "stream": "stdout",
       "text": [
        "\n",
        "Could not connect to the gephi streaming plugin. Did you start the streaming master server in gephi?\n",
        "Could not connect to the gephi streaming plugin. Did you start the streaming master server in gephi?\n",
        "Could not connect to the gephi streaming plugin. Did you start the streaming master server in gephi?\n",
        "Could not connect to the gephi streaming plugin. Did you start the streaming master server in gephi?"
       ]
      },
      {
       "output_type": "stream",
       "stream": "stdout",
       "text": [
        "\n",
        "Could not connect to the gephi streaming plugin. Did you start the streaming master server in gephi?\n",
        "Could not connect to the gephi streaming plugin. Did you start the streaming master server in gephi?\n",
        "Could not connect to the gephi streaming plugin. Did you start the streaming master server in gephi?\n",
        "Could not connect to the gephi streaming plugin. Did you start the streaming master server in gephi?"
       ]
      },
      {
       "output_type": "stream",
       "stream": "stdout",
       "text": [
        "\n",
        "Could not connect to the gephi streaming plugin. Did you start the streaming master server in gephi?\n",
        "Could not connect to the gephi streaming plugin. Did you start the streaming master server in gephi?\n",
        "Could not connect to the gephi streaming plugin. Did you start the streaming master server in gephi?\n",
        "Could not connect to the gephi streaming plugin. Did you start the streaming master server in gephi?"
       ]
      },
      {
       "output_type": "stream",
       "stream": "stdout",
       "text": [
        "\n",
        "Could not connect to the gephi streaming plugin. Did you start the streaming master server in gephi?\n",
        "Could not connect to the gephi streaming plugin. Did you start the streaming master server in gephi?\n",
        "Could not connect to the gephi streaming plugin. Did you start the streaming master server in gephi?\n",
        "Could not connect to the gephi streaming plugin. Did you start the streaming master server in gephi?"
       ]
      },
      {
       "output_type": "stream",
       "stream": "stdout",
       "text": [
        "\n",
        "Could not connect to the gephi streaming plugin. Did you start the streaming master server in gephi?\n",
        "Could not connect to the gephi streaming plugin. Did you start the streaming master server in gephi?\n",
        "Could not connect to the gephi streaming plugin. Did you start the streaming master server in gephi?\n",
        "Could not connect to the gephi streaming plugin. Did you start the streaming master server in gephi?"
       ]
      },
      {
       "output_type": "stream",
       "stream": "stdout",
       "text": [
        "\n",
        "Could not connect to the gephi streaming plugin. Did you start the streaming master server in gephi?\n",
        "Could not connect to the gephi streaming plugin. Did you start the streaming master server in gephi?\n",
        "Could not connect to the gephi streaming plugin. Did you start the streaming master server in gephi?\n",
        "Could not connect to the gephi streaming plugin. Did you start the streaming master server in gephi?"
       ]
      },
      {
       "output_type": "stream",
       "stream": "stdout",
       "text": [
        "\n",
        "Could not connect to the gephi streaming plugin. Did you start the streaming master server in gephi?\n",
        "Could not connect to the gephi streaming plugin. Did you start the streaming master server in gephi?\n",
        "Could not connect to the gephi streaming plugin. Did you start the streaming master server in gephi?\n",
        "Could not connect to the gephi streaming plugin. Did you start the streaming master server in gephi?"
       ]
      },
      {
       "output_type": "stream",
       "stream": "stdout",
       "text": [
        "\n",
        "Could not connect to the gephi streaming plugin. Did you start the streaming master server in gephi?\n",
        "Could not connect to the gephi streaming plugin. Did you start the streaming master server in gephi?\n",
        "Could not connect to the gephi streaming plugin. Did you start the streaming master server in gephi?\n",
        "Could not connect to the gephi streaming plugin. Did you start the streaming master server in gephi?"
       ]
      },
      {
       "output_type": "stream",
       "stream": "stdout",
       "text": [
        "\n",
        "Could not connect to the gephi streaming plugin. Did you start the streaming master server in gephi?\n",
        "Could not connect to the gephi streaming plugin. Did you start the streaming master server in gephi?\n",
        "Could not connect to the gephi streaming plugin. Did you start the streaming master server in gephi?\n",
        "Could not connect to the gephi streaming plugin. Did you start the streaming master server in gephi?"
       ]
      },
      {
       "output_type": "stream",
       "stream": "stdout",
       "text": [
        "\n",
        "Could not connect to the gephi streaming plugin. Did you start the streaming master server in gephi?\n",
        "Could not connect to the gephi streaming plugin. Did you start the streaming master server in gephi?\n",
        "Could not connect to the gephi streaming plugin. Did you start the streaming master server in gephi?\n",
        "Could not connect to the gephi streaming plugin. Did you start the streaming master server in gephi?"
       ]
      },
      {
       "output_type": "stream",
       "stream": "stdout",
       "text": [
        "\n",
        "Could not connect to the gephi streaming plugin. Did you start the streaming master server in gephi?\n",
        "Could not connect to the gephi streaming plugin. Did you start the streaming master server in gephi?\n",
        "Could not connect to the gephi streaming plugin. Did you start the streaming master server in gephi?\n",
        "Could not connect to the gephi streaming plugin. Did you start the streaming master server in gephi?"
       ]
      },
      {
       "output_type": "stream",
       "stream": "stdout",
       "text": [
        "\n",
        "Could not connect to the gephi streaming plugin. Did you start the streaming master server in gephi?\n",
        "Could not connect to the gephi streaming plugin. Did you start the streaming master server in gephi?\n",
        "Could not connect to the gephi streaming plugin. Did you start the streaming master server in gephi?\n",
        "Could not connect to the gephi streaming plugin. Did you start the streaming master server in gephi?"
       ]
      },
      {
       "output_type": "stream",
       "stream": "stdout",
       "text": [
        "\n",
        "Could not connect to the gephi streaming plugin. Did you start the streaming master server in gephi?\n",
        "Could not connect to the gephi streaming plugin. Did you start the streaming master server in gephi?\n",
        "Could not connect to the gephi streaming plugin. Did you start the streaming master server in gephi?\n",
        "Could not connect to the gephi streaming plugin. Did you start the streaming master server in gephi?"
       ]
      },
      {
       "output_type": "stream",
       "stream": "stdout",
       "text": [
        "\n",
        "Could not connect to the gephi streaming plugin. Did you start the streaming master server in gephi?\n",
        "Could not connect to the gephi streaming plugin. Did you start the streaming master server in gephi?\n",
        "Could not connect to the gephi streaming plugin. Did you start the streaming master server in gephi?\n",
        "Could not connect to the gephi streaming plugin. Did you start the streaming master server in gephi?"
       ]
      },
      {
       "output_type": "stream",
       "stream": "stdout",
       "text": [
        "\n",
        "Could not connect to the gephi streaming plugin. Did you start the streaming master server in gephi?\n",
        "Could not connect to the gephi streaming plugin. Did you start the streaming master server in gephi?\n",
        "Could not connect to the gephi streaming plugin. Did you start the streaming master server in gephi?\n",
        "Could not connect to the gephi streaming plugin. Did you start the streaming master server in gephi?"
       ]
      },
      {
       "output_type": "stream",
       "stream": "stdout",
       "text": [
        "\n",
        "Could not connect to the gephi streaming plugin. Did you start the streaming master server in gephi?\n",
        "Could not connect to the gephi streaming plugin. Did you start the streaming master server in gephi?\n",
        "Could not connect to the gephi streaming plugin. Did you start the streaming master server in gephi?\n",
        "Could not connect to the gephi streaming plugin. Did you start the streaming master server in gephi?"
       ]
      },
      {
       "output_type": "stream",
       "stream": "stdout",
       "text": [
        "\n",
        "Could not connect to the gephi streaming plugin. Did you start the streaming master server in gephi?\n",
        "Could not connect to the gephi streaming plugin. Did you start the streaming master server in gephi?\n",
        "Could not connect to the gephi streaming plugin. Did you start the streaming master server in gephi?\n",
        "Could not connect to the gephi streaming plugin. Did you start the streaming master server in gephi?"
       ]
      },
      {
       "output_type": "stream",
       "stream": "stdout",
       "text": [
        "\n",
        "Could not connect to the gephi streaming plugin. Did you start the streaming master server in gephi?\n",
        "Could not connect to the gephi streaming plugin. Did you start the streaming master server in gephi?\n",
        "Could not connect to the gephi streaming plugin. Did you start the streaming master server in gephi?\n",
        "Could not connect to the gephi streaming plugin. Did you start the streaming master server in gephi?"
       ]
      },
      {
       "output_type": "stream",
       "stream": "stdout",
       "text": [
        "\n",
        "Could not connect to the gephi streaming plugin. Did you start the streaming master server in gephi?\n",
        "Could not connect to the gephi streaming plugin. Did you start the streaming master server in gephi?\n",
        "Could not connect to the gephi streaming plugin. Did you start the streaming master server in gephi?\n",
        "Could not connect to the gephi streaming plugin. Did you start the streaming master server in gephi?"
       ]
      },
      {
       "output_type": "stream",
       "stream": "stdout",
       "text": [
        "\n",
        "Could not connect to the gephi streaming plugin. Did you start the streaming master server in gephi?\n",
        "Could not connect to the gephi streaming plugin. Did you start the streaming master server in gephi?\n",
        "Could not connect to the gephi streaming plugin. Did you start the streaming master server in gephi?\n",
        "Could not connect to the gephi streaming plugin. Did you start the streaming master server in gephi?"
       ]
      },
      {
       "output_type": "stream",
       "stream": "stdout",
       "text": [
        "\n",
        "Could not connect to the gephi streaming plugin. Did you start the streaming master server in gephi?\n",
        "Could not connect to the gephi streaming plugin. Did you start the streaming master server in gephi?\n",
        "Could not connect to the gephi streaming plugin. Did you start the streaming master server in gephi?\n",
        "Could not connect to the gephi streaming plugin. Did you start the streaming master server in gephi?"
       ]
      },
      {
       "output_type": "stream",
       "stream": "stdout",
       "text": [
        "\n",
        "Could not connect to the gephi streaming plugin. Did you start the streaming master server in gephi?\n",
        "Could not connect to the gephi streaming plugin. Did you start the streaming master server in gephi?\n",
        "Could not connect to the gephi streaming plugin. Did you start the streaming master server in gephi?\n",
        "Could not connect to the gephi streaming plugin. Did you start the streaming master server in gephi?"
       ]
      },
      {
       "output_type": "stream",
       "stream": "stdout",
       "text": [
        "\n",
        "Could not connect to the gephi streaming plugin. Did you start the streaming master server in gephi?\n",
        "Could not connect to the gephi streaming plugin. Did you start the streaming master server in gephi?\n",
        "Could not connect to the gephi streaming plugin. Did you start the streaming master server in gephi?\n",
        "Could not connect to the gephi streaming plugin. Did you start the streaming master server in gephi?"
       ]
      },
      {
       "output_type": "stream",
       "stream": "stdout",
       "text": [
        "\n",
        "Could not connect to the gephi streaming plugin. Did you start the streaming master server in gephi?\n",
        "Could not connect to the gephi streaming plugin. Did you start the streaming master server in gephi?\n",
        "Could not connect to the gephi streaming plugin. Did you start the streaming master server in gephi?\n",
        "Could not connect to the gephi streaming plugin. Did you start the streaming master server in gephi?"
       ]
      },
      {
       "output_type": "stream",
       "stream": "stdout",
       "text": [
        "\n",
        "Could not connect to the gephi streaming plugin. Did you start the streaming master server in gephi?\n",
        "Could not connect to the gephi streaming plugin. Did you start the streaming master server in gephi?\n",
        "Could not connect to the gephi streaming plugin. Did you start the streaming master server in gephi?\n",
        "Could not connect to the gephi streaming plugin. Did you start the streaming master server in gephi?"
       ]
      },
      {
       "output_type": "stream",
       "stream": "stdout",
       "text": [
        "\n",
        "Could not connect to the gephi streaming plugin. Did you start the streaming master server in gephi?\n",
        "Could not connect to the gephi streaming plugin. Did you start the streaming master server in gephi?\n",
        "Could not connect to the gephi streaming plugin. Did you start the streaming master server in gephi?\n",
        "Could not connect to the gephi streaming plugin. Did you start the streaming master server in gephi?"
       ]
      },
      {
       "output_type": "stream",
       "stream": "stdout",
       "text": [
        "\n",
        "Could not connect to the gephi streaming plugin. Did you start the streaming master server in gephi?\n",
        "Could not connect to the gephi streaming plugin. Did you start the streaming master server in gephi?\n",
        "Could not connect to the gephi streaming plugin. Did you start the streaming master server in gephi?\n",
        "Could not connect to the gephi streaming plugin. Did you start the streaming master server in gephi?"
       ]
      },
      {
       "output_type": "stream",
       "stream": "stdout",
       "text": [
        "\n",
        "Could not connect to the gephi streaming plugin. Did you start the streaming master server in gephi?\n",
        "Could not connect to the gephi streaming plugin. Did you start the streaming master server in gephi?\n",
        "Could not connect to the gephi streaming plugin. Did you start the streaming master server in gephi?\n",
        "Could not connect to the gephi streaming plugin. Did you start the streaming master server in gephi?"
       ]
      },
      {
       "output_type": "stream",
       "stream": "stdout",
       "text": [
        "\n",
        "Could not connect to the gephi streaming plugin. Did you start the streaming master server in gephi?\n",
        "Could not connect to the gephi streaming plugin. Did you start the streaming master server in gephi?\n",
        "Could not connect to the gephi streaming plugin. Did you start the streaming master server in gephi?\n",
        "Could not connect to the gephi streaming plugin. Did you start the streaming master server in gephi?"
       ]
      },
      {
       "output_type": "stream",
       "stream": "stdout",
       "text": [
        "\n",
        "Could not connect to the gephi streaming plugin. Did you start the streaming master server in gephi?\n",
        "Could not connect to the gephi streaming plugin. Did you start the streaming master server in gephi?\n",
        "Could not connect to the gephi streaming plugin. Did you start the streaming master server in gephi?\n",
        "Could not connect to the gephi streaming plugin. Did you start the streaming master server in gephi?"
       ]
      },
      {
       "output_type": "stream",
       "stream": "stdout",
       "text": [
        "\n",
        "Could not connect to the gephi streaming plugin. Did you start the streaming master server in gephi?\n",
        "Could not connect to the gephi streaming plugin. Did you start the streaming master server in gephi?\n",
        "Could not connect to the gephi streaming plugin. Did you start the streaming master server in gephi?\n",
        "Could not connect to the gephi streaming plugin. Did you start the streaming master server in gephi?"
       ]
      },
      {
       "output_type": "stream",
       "stream": "stdout",
       "text": [
        "\n",
        "Could not connect to the gephi streaming plugin. Did you start the streaming master server in gephi?\n",
        "Could not connect to the gephi streaming plugin. Did you start the streaming master server in gephi?\n",
        "Could not connect to the gephi streaming plugin. Did you start the streaming master server in gephi?\n",
        "Could not connect to the gephi streaming plugin. Did you start the streaming master server in gephi?"
       ]
      },
      {
       "output_type": "stream",
       "stream": "stdout",
       "text": [
        "\n",
        "Could not connect to the gephi streaming plugin. Did you start the streaming master server in gephi?\n",
        "Could not connect to the gephi streaming plugin. Did you start the streaming master server in gephi?\n",
        "Could not connect to the gephi streaming plugin. Did you start the streaming master server in gephi?\n",
        "Could not connect to the gephi streaming plugin. Did you start the streaming master server in gephi?"
       ]
      },
      {
       "output_type": "stream",
       "stream": "stdout",
       "text": [
        "\n",
        "Could not connect to the gephi streaming plugin. Did you start the streaming master server in gephi?\n",
        "Could not connect to the gephi streaming plugin. Did you start the streaming master server in gephi?\n",
        "Could not connect to the gephi streaming plugin. Did you start the streaming master server in gephi?\n",
        "Could not connect to the gephi streaming plugin. Did you start the streaming master server in gephi?"
       ]
      },
      {
       "output_type": "stream",
       "stream": "stdout",
       "text": [
        "\n",
        "Could not connect to the gephi streaming plugin. Did you start the streaming master server in gephi?\n",
        "Could not connect to the gephi streaming plugin. Did you start the streaming master server in gephi?\n",
        "Could not connect to the gephi streaming plugin. Did you start the streaming master server in gephi?\n",
        "Could not connect to the gephi streaming plugin. Did you start the streaming master server in gephi?"
       ]
      },
      {
       "output_type": "stream",
       "stream": "stdout",
       "text": [
        "\n",
        "Could not connect to the gephi streaming plugin. Did you start the streaming master server in gephi?\n",
        "Could not connect to the gephi streaming plugin. Did you start the streaming master server in gephi?\n",
        "Could not connect to the gephi streaming plugin. Did you start the streaming master server in gephi?\n",
        "Could not connect to the gephi streaming plugin. Did you start the streaming master server in gephi?"
       ]
      },
      {
       "output_type": "stream",
       "stream": "stdout",
       "text": [
        "\n",
        "Could not connect to the gephi streaming plugin. Did you start the streaming master server in gephi?\n",
        "Could not connect to the gephi streaming plugin. Did you start the streaming master server in gephi?\n",
        "Could not connect to the gephi streaming plugin. Did you start the streaming master server in gephi?\n",
        "Could not connect to the gephi streaming plugin. Did you start the streaming master server in gephi?"
       ]
      },
      {
       "output_type": "stream",
       "stream": "stdout",
       "text": [
        "\n",
        "Could not connect to the gephi streaming plugin. Did you start the streaming master server in gephi?\n",
        "Could not connect to the gephi streaming plugin. Did you start the streaming master server in gephi?\n",
        "Could not connect to the gephi streaming plugin. Did you start the streaming master server in gephi?\n",
        "Could not connect to the gephi streaming plugin. Did you start the streaming master server in gephi?"
       ]
      },
      {
       "output_type": "stream",
       "stream": "stdout",
       "text": [
        "\n",
        "Could not connect to the gephi streaming plugin. Did you start the streaming master server in gephi?\n",
        "Could not connect to the gephi streaming plugin. Did you start the streaming master server in gephi?\n",
        "Could not connect to the gephi streaming plugin. Did you start the streaming master server in gephi?\n",
        "Could not connect to the gephi streaming plugin. Did you start the streaming master server in gephi?"
       ]
      },
      {
       "output_type": "stream",
       "stream": "stdout",
       "text": [
        "\n",
        "Could not connect to the gephi streaming plugin. Did you start the streaming master server in gephi?\n",
        "Could not connect to the gephi streaming plugin. Did you start the streaming master server in gephi?\n",
        "Could not connect to the gephi streaming plugin. Did you start the streaming master server in gephi?\n",
        "Could not connect to the gephi streaming plugin. Did you start the streaming master server in gephi?"
       ]
      },
      {
       "output_type": "stream",
       "stream": "stdout",
       "text": [
        "\n",
        "Could not connect to the gephi streaming plugin. Did you start the streaming master server in gephi?\n",
        "Could not connect to the gephi streaming plugin. Did you start the streaming master server in gephi?\n",
        "Could not connect to the gephi streaming plugin. Did you start the streaming master server in gephi?\n",
        "Could not connect to the gephi streaming plugin. Did you start the streaming master server in gephi?"
       ]
      },
      {
       "output_type": "stream",
       "stream": "stdout",
       "text": [
        "\n",
        "Could not connect to the gephi streaming plugin. Did you start the streaming master server in gephi?\n",
        "Could not connect to the gephi streaming plugin. Did you start the streaming master server in gephi?\n",
        "Could not connect to the gephi streaming plugin. Did you start the streaming master server in gephi?\n",
        "Could not connect to the gephi streaming plugin. Did you start the streaming master server in gephi?"
       ]
      },
      {
       "output_type": "stream",
       "stream": "stdout",
       "text": [
        "\n",
        "Could not connect to the gephi streaming plugin. Did you start the streaming master server in gephi?\n",
        "Could not connect to the gephi streaming plugin. Did you start the streaming master server in gephi?\n",
        "Could not connect to the gephi streaming plugin. Did you start the streaming master server in gephi?\n",
        "Could not connect to the gephi streaming plugin. Did you start the streaming master server in gephi?"
       ]
      },
      {
       "output_type": "stream",
       "stream": "stdout",
       "text": [
        "\n",
        "Could not connect to the gephi streaming plugin. Did you start the streaming master server in gephi?\n",
        "Could not connect to the gephi streaming plugin. Did you start the streaming master server in gephi?\n",
        "Could not connect to the gephi streaming plugin. Did you start the streaming master server in gephi?\n",
        "Could not connect to the gephi streaming plugin. Did you start the streaming master server in gephi?"
       ]
      },
      {
       "output_type": "stream",
       "stream": "stdout",
       "text": [
        "\n",
        "Could not connect to the gephi streaming plugin. Did you start the streaming master server in gephi?\n",
        "Could not connect to the gephi streaming plugin. Did you start the streaming master server in gephi?\n",
        "Could not connect to the gephi streaming plugin. Did you start the streaming master server in gephi?\n",
        "Could not connect to the gephi streaming plugin. Did you start the streaming master server in gephi?"
       ]
      },
      {
       "output_type": "stream",
       "stream": "stdout",
       "text": [
        "\n",
        "Could not connect to the gephi streaming plugin. Did you start the streaming master server in gephi?\n",
        "Could not connect to the gephi streaming plugin. Did you start the streaming master server in gephi?\n",
        "Could not connect to the gephi streaming plugin. Did you start the streaming master server in gephi?\n",
        "Could not connect to the gephi streaming plugin. Did you start the streaming master server in gephi?"
       ]
      },
      {
       "output_type": "stream",
       "stream": "stdout",
       "text": [
        "\n",
        "Could not connect to the gephi streaming plugin. Did you start the streaming master server in gephi?\n",
        "Could not connect to the gephi streaming plugin. Did you start the streaming master server in gephi?\n",
        "Could not connect to the gephi streaming plugin. Did you start the streaming master server in gephi?\n",
        "Could not connect to the gephi streaming plugin. Did you start the streaming master server in gephi?"
       ]
      },
      {
       "output_type": "stream",
       "stream": "stdout",
       "text": [
        "\n",
        "Could not connect to the gephi streaming plugin. Did you start the streaming master server in gephi?\n",
        "Could not connect to the gephi streaming plugin. Did you start the streaming master server in gephi?\n",
        "Could not connect to the gephi streaming plugin. Did you start the streaming master server in gephi?\n",
        "Could not connect to the gephi streaming plugin. Did you start the streaming master server in gephi?"
       ]
      },
      {
       "output_type": "stream",
       "stream": "stdout",
       "text": [
        "\n",
        "Could not connect to the gephi streaming plugin. Did you start the streaming master server in gephi?\n",
        "Could not connect to the gephi streaming plugin. Did you start the streaming master server in gephi?\n",
        "Could not connect to the gephi streaming plugin. Did you start the streaming master server in gephi?\n",
        "Could not connect to the gephi streaming plugin. Did you start the streaming master server in gephi?"
       ]
      },
      {
       "output_type": "stream",
       "stream": "stdout",
       "text": [
        "\n",
        "Could not connect to the gephi streaming plugin. Did you start the streaming master server in gephi?\n",
        "Could not connect to the gephi streaming plugin. Did you start the streaming master server in gephi?\n",
        "Could not connect to the gephi streaming plugin. Did you start the streaming master server in gephi?\n",
        "Could not connect to the gephi streaming plugin. Did you start the streaming master server in gephi?"
       ]
      },
      {
       "output_type": "stream",
       "stream": "stdout",
       "text": [
        "\n",
        "Could not connect to the gephi streaming plugin. Did you start the streaming master server in gephi?\n",
        "Could not connect to the gephi streaming plugin. Did you start the streaming master server in gephi?\n",
        "Could not connect to the gephi streaming plugin. Did you start the streaming master server in gephi?\n",
        "Could not connect to the gephi streaming plugin. Did you start the streaming master server in gephi?"
       ]
      },
      {
       "output_type": "stream",
       "stream": "stdout",
       "text": [
        "\n",
        "Could not connect to the gephi streaming plugin. Did you start the streaming master server in gephi?\n",
        "Could not connect to the gephi streaming plugin. Did you start the streaming master server in gephi?\n",
        "Could not connect to the gephi streaming plugin. Did you start the streaming master server in gephi?\n",
        "Could not connect to the gephi streaming plugin. Did you start the streaming master server in gephi?"
       ]
      },
      {
       "output_type": "stream",
       "stream": "stdout",
       "text": [
        "\n",
        "Could not connect to the gephi streaming plugin. Did you start the streaming master server in gephi?\n",
        "Could not connect to the gephi streaming plugin. Did you start the streaming master server in gephi?\n",
        "Could not connect to the gephi streaming plugin. Did you start the streaming master server in gephi?\n",
        "Could not connect to the gephi streaming plugin. Did you start the streaming master server in gephi?"
       ]
      },
      {
       "output_type": "stream",
       "stream": "stdout",
       "text": [
        "\n",
        "Could not connect to the gephi streaming plugin. Did you start the streaming master server in gephi?\n",
        "Could not connect to the gephi streaming plugin. Did you start the streaming master server in gephi?\n",
        "Could not connect to the gephi streaming plugin. Did you start the streaming master server in gephi?\n",
        "Could not connect to the gephi streaming plugin. Did you start the streaming master server in gephi?"
       ]
      },
      {
       "output_type": "stream",
       "stream": "stdout",
       "text": [
        "\n",
        "Could not connect to the gephi streaming plugin. Did you start the streaming master server in gephi?\n",
        "Could not connect to the gephi streaming plugin. Did you start the streaming master server in gephi?\n",
        "Could not connect to the gephi streaming plugin. Did you start the streaming master server in gephi?\n",
        "Could not connect to the gephi streaming plugin. Did you start the streaming master server in gephi?"
       ]
      },
      {
       "output_type": "stream",
       "stream": "stdout",
       "text": [
        "\n",
        "Could not connect to the gephi streaming plugin. Did you start the streaming master server in gephi?\n",
        "Could not connect to the gephi streaming plugin. Did you start the streaming master server in gephi?\n",
        "Could not connect to the gephi streaming plugin. Did you start the streaming master server in gephi?\n",
        "Could not connect to the gephi streaming plugin. Did you start the streaming master server in gephi?"
       ]
      },
      {
       "output_type": "stream",
       "stream": "stdout",
       "text": [
        "\n",
        "Could not connect to the gephi streaming plugin. Did you start the streaming master server in gephi?\n",
        "Could not connect to the gephi streaming plugin. Did you start the streaming master server in gephi?\n",
        "Could not connect to the gephi streaming plugin. Did you start the streaming master server in gephi?\n",
        "Could not connect to the gephi streaming plugin. Did you start the streaming master server in gephi?"
       ]
      },
      {
       "output_type": "stream",
       "stream": "stdout",
       "text": [
        "\n",
        "Could not connect to the gephi streaming plugin. Did you start the streaming master server in gephi?\n",
        "Could not connect to the gephi streaming plugin. Did you start the streaming master server in gephi?\n",
        "Could not connect to the gephi streaming plugin. Did you start the streaming master server in gephi?\n",
        "Could not connect to the gephi streaming plugin. Did you start the streaming master server in gephi?"
       ]
      },
      {
       "output_type": "stream",
       "stream": "stdout",
       "text": [
        "\n",
        "Could not connect to the gephi streaming plugin. Did you start the streaming master server in gephi?\n",
        "Could not connect to the gephi streaming plugin. Did you start the streaming master server in gephi?\n",
        "Could not connect to the gephi streaming plugin. Did you start the streaming master server in gephi?\n",
        "Could not connect to the gephi streaming plugin. Did you start the streaming master server in gephi?"
       ]
      },
      {
       "output_type": "stream",
       "stream": "stdout",
       "text": [
        "\n",
        "Could not connect to the gephi streaming plugin. Did you start the streaming master server in gephi?\n",
        "Could not connect to the gephi streaming plugin. Did you start the streaming master server in gephi?\n",
        "Could not connect to the gephi streaming plugin. Did you start the streaming master server in gephi?\n",
        "Could not connect to the gephi streaming plugin. Did you start the streaming master server in gephi?"
       ]
      },
      {
       "output_type": "stream",
       "stream": "stdout",
       "text": [
        "\n",
        "Could not connect to the gephi streaming plugin. Did you start the streaming master server in gephi?\n",
        "Could not connect to the gephi streaming plugin. Did you start the streaming master server in gephi?\n",
        "Could not connect to the gephi streaming plugin. Did you start the streaming master server in gephi?\n",
        "Could not connect to the gephi streaming plugin. Did you start the streaming master server in gephi?"
       ]
      },
      {
       "output_type": "stream",
       "stream": "stdout",
       "text": [
        "\n",
        "Could not connect to the gephi streaming plugin. Did you start the streaming master server in gephi?\n",
        "Could not connect to the gephi streaming plugin. Did you start the streaming master server in gephi?\n",
        "Could not connect to the gephi streaming plugin. Did you start the streaming master server in gephi?\n",
        "Could not connect to the gephi streaming plugin. Did you start the streaming master server in gephi?"
       ]
      },
      {
       "output_type": "stream",
       "stream": "stdout",
       "text": [
        "\n",
        "Could not connect to the gephi streaming plugin. Did you start the streaming master server in gephi?\n",
        "Could not connect to the gephi streaming plugin. Did you start the streaming master server in gephi?\n",
        "Could not connect to the gephi streaming plugin. Did you start the streaming master server in gephi?\n",
        "Could not connect to the gephi streaming plugin. Did you start the streaming master server in gephi?"
       ]
      },
      {
       "output_type": "stream",
       "stream": "stdout",
       "text": [
        "\n",
        "Could not connect to the gephi streaming plugin. Did you start the streaming master server in gephi?\n",
        "Could not connect to the gephi streaming plugin. Did you start the streaming master server in gephi?\n",
        "Could not connect to the gephi streaming plugin. Did you start the streaming master server in gephi?\n",
        "Could not connect to the gephi streaming plugin. Did you start the streaming master server in gephi?"
       ]
      },
      {
       "output_type": "stream",
       "stream": "stdout",
       "text": [
        "\n",
        "Could not connect to the gephi streaming plugin. Did you start the streaming master server in gephi?\n",
        "Could not connect to the gephi streaming plugin. Did you start the streaming master server in gephi?\n",
        "Could not connect to the gephi streaming plugin. Did you start the streaming master server in gephi?\n",
        "Could not connect to the gephi streaming plugin. Did you start the streaming master server in gephi?"
       ]
      },
      {
       "output_type": "stream",
       "stream": "stdout",
       "text": [
        "\n",
        "Could not connect to the gephi streaming plugin. Did you start the streaming master server in gephi?\n",
        "Could not connect to the gephi streaming plugin. Did you start the streaming master server in gephi?\n",
        "Could not connect to the gephi streaming plugin. Did you start the streaming master server in gephi?\n",
        "Could not connect to the gephi streaming plugin. Did you start the streaming master server in gephi?"
       ]
      },
      {
       "output_type": "stream",
       "stream": "stdout",
       "text": [
        "\n",
        "Could not connect to the gephi streaming plugin. Did you start the streaming master server in gephi?\n",
        "Could not connect to the gephi streaming plugin. Did you start the streaming master server in gephi?\n",
        "Could not connect to the gephi streaming plugin. Did you start the streaming master server in gephi?\n",
        "Could not connect to the gephi streaming plugin. Did you start the streaming master server in gephi?"
       ]
      },
      {
       "output_type": "stream",
       "stream": "stdout",
       "text": [
        "\n",
        "Could not connect to the gephi streaming plugin. Did you start the streaming master server in gephi?\n",
        "Could not connect to the gephi streaming plugin. Did you start the streaming master server in gephi?\n",
        "Could not connect to the gephi streaming plugin. Did you start the streaming master server in gephi?\n",
        "Could not connect to the gephi streaming plugin. Did you start the streaming master server in gephi?"
       ]
      },
      {
       "output_type": "stream",
       "stream": "stdout",
       "text": [
        "\n",
        "Could not connect to the gephi streaming plugin. Did you start the streaming master server in gephi?\n",
        "Could not connect to the gephi streaming plugin. Did you start the streaming master server in gephi?\n",
        "Could not connect to the gephi streaming plugin. Did you start the streaming master server in gephi?\n",
        "Could not connect to the gephi streaming plugin. Did you start the streaming master server in gephi?"
       ]
      },
      {
       "output_type": "stream",
       "stream": "stdout",
       "text": [
        "\n",
        "Could not connect to the gephi streaming plugin. Did you start the streaming master server in gephi?\n",
        "Could not connect to the gephi streaming plugin. Did you start the streaming master server in gephi?\n",
        "Could not connect to the gephi streaming plugin. Did you start the streaming master server in gephi?\n",
        "Could not connect to the gephi streaming plugin. Did you start the streaming master server in gephi?"
       ]
      },
      {
       "output_type": "stream",
       "stream": "stdout",
       "text": [
        "\n",
        "Could not connect to the gephi streaming plugin. Did you start the streaming master server in gephi?\n",
        "Could not connect to the gephi streaming plugin. Did you start the streaming master server in gephi?\n",
        "Could not connect to the gephi streaming plugin. Did you start the streaming master server in gephi?\n",
        "Could not connect to the gephi streaming plugin. Did you start the streaming master server in gephi?"
       ]
      },
      {
       "output_type": "stream",
       "stream": "stdout",
       "text": [
        "\n",
        "Could not connect to the gephi streaming plugin. Did you start the streaming master server in gephi?\n",
        "Could not connect to the gephi streaming plugin. Did you start the streaming master server in gephi?\n",
        "Could not connect to the gephi streaming plugin. Did you start the streaming master server in gephi?\n",
        "Could not connect to the gephi streaming plugin. Did you start the streaming master server in gephi?"
       ]
      },
      {
       "output_type": "stream",
       "stream": "stdout",
       "text": [
        "\n",
        "Could not connect to the gephi streaming plugin. Did you start the streaming master server in gephi?\n",
        "Could not connect to the gephi streaming plugin. Did you start the streaming master server in gephi?\n",
        "Could not connect to the gephi streaming plugin. Did you start the streaming master server in gephi?\n",
        "Could not connect to the gephi streaming plugin. Did you start the streaming master server in gephi?"
       ]
      },
      {
       "output_type": "stream",
       "stream": "stdout",
       "text": [
        "\n",
        "Could not connect to the gephi streaming plugin. Did you start the streaming master server in gephi?\n",
        "Could not connect to the gephi streaming plugin. Did you start the streaming master server in gephi?\n",
        "Could not connect to the gephi streaming plugin. Did you start the streaming master server in gephi?\n",
        "Could not connect to the gephi streaming plugin. Did you start the streaming master server in gephi?"
       ]
      },
      {
       "output_type": "stream",
       "stream": "stdout",
       "text": [
        "\n",
        "Could not connect to the gephi streaming plugin. Did you start the streaming master server in gephi?\n",
        "Could not connect to the gephi streaming plugin. Did you start the streaming master server in gephi?\n",
        "Could not connect to the gephi streaming plugin. Did you start the streaming master server in gephi?\n",
        "Could not connect to the gephi streaming plugin. Did you start the streaming master server in gephi?"
       ]
      },
      {
       "output_type": "stream",
       "stream": "stdout",
       "text": [
        "\n",
        "Could not connect to the gephi streaming plugin. Did you start the streaming master server in gephi?\n",
        "Could not connect to the gephi streaming plugin. Did you start the streaming master server in gephi?\n",
        "Could not connect to the gephi streaming plugin. Did you start the streaming master server in gephi?\n",
        "Could not connect to the gephi streaming plugin. Did you start the streaming master server in gephi?"
       ]
      },
      {
       "output_type": "stream",
       "stream": "stdout",
       "text": [
        "\n",
        "Could not connect to the gephi streaming plugin. Did you start the streaming master server in gephi?\n",
        "Could not connect to the gephi streaming plugin. Did you start the streaming master server in gephi?\n",
        "Could not connect to the gephi streaming plugin. Did you start the streaming master server in gephi?\n",
        "Could not connect to the gephi streaming plugin. Did you start the streaming master server in gephi?"
       ]
      },
      {
       "output_type": "stream",
       "stream": "stdout",
       "text": [
        "\n",
        "Could not connect to the gephi streaming plugin. Did you start the streaming master server in gephi?\n",
        "Could not connect to the gephi streaming plugin. Did you start the streaming master server in gephi?\n",
        "Could not connect to the gephi streaming plugin. Did you start the streaming master server in gephi?\n",
        "Could not connect to the gephi streaming plugin. Did you start the streaming master server in gephi?"
       ]
      },
      {
       "output_type": "stream",
       "stream": "stdout",
       "text": [
        "\n",
        "Could not connect to the gephi streaming plugin. Did you start the streaming master server in gephi?\n",
        "Could not connect to the gephi streaming plugin. Did you start the streaming master server in gephi?\n",
        "Could not connect to the gephi streaming plugin. Did you start the streaming master server in gephi?\n",
        "Could not connect to the gephi streaming plugin. Did you start the streaming master server in gephi?"
       ]
      },
      {
       "output_type": "stream",
       "stream": "stdout",
       "text": [
        "\n",
        "Could not connect to the gephi streaming plugin. Did you start the streaming master server in gephi?\n",
        "Could not connect to the gephi streaming plugin. Did you start the streaming master server in gephi?\n",
        "Could not connect to the gephi streaming plugin. Did you start the streaming master server in gephi?\n",
        "Could not connect to the gephi streaming plugin. Did you start the streaming master server in gephi?"
       ]
      },
      {
       "output_type": "stream",
       "stream": "stdout",
       "text": [
        "\n",
        "Could not connect to the gephi streaming plugin. Did you start the streaming master server in gephi?\n",
        "Could not connect to the gephi streaming plugin. Did you start the streaming master server in gephi?\n",
        "Could not connect to the gephi streaming plugin. Did you start the streaming master server in gephi?\n",
        "Could not connect to the gephi streaming plugin. Did you start the streaming master server in gephi?"
       ]
      },
      {
       "output_type": "stream",
       "stream": "stdout",
       "text": [
        "\n",
        "Could not connect to the gephi streaming plugin. Did you start the streaming master server in gephi?\n",
        "Could not connect to the gephi streaming plugin. Did you start the streaming master server in gephi?\n",
        "Could not connect to the gephi streaming plugin. Did you start the streaming master server in gephi?\n",
        "Could not connect to the gephi streaming plugin. Did you start the streaming master server in gephi?"
       ]
      },
      {
       "output_type": "stream",
       "stream": "stdout",
       "text": [
        "\n",
        "Could not connect to the gephi streaming plugin. Did you start the streaming master server in gephi?\n",
        "Could not connect to the gephi streaming plugin. Did you start the streaming master server in gephi?\n",
        "Could not connect to the gephi streaming plugin. Did you start the streaming master server in gephi?\n",
        "Could not connect to the gephi streaming plugin. Did you start the streaming master server in gephi?"
       ]
      },
      {
       "output_type": "stream",
       "stream": "stdout",
       "text": [
        "\n",
        "Could not connect to the gephi streaming plugin. Did you start the streaming master server in gephi?\n",
        "Could not connect to the gephi streaming plugin. Did you start the streaming master server in gephi?\n",
        "Could not connect to the gephi streaming plugin. Did you start the streaming master server in gephi?\n",
        "Could not connect to the gephi streaming plugin. Did you start the streaming master server in gephi?"
       ]
      },
      {
       "output_type": "stream",
       "stream": "stdout",
       "text": [
        "\n",
        "Could not connect to the gephi streaming plugin. Did you start the streaming master server in gephi?\n",
        "Could not connect to the gephi streaming plugin. Did you start the streaming master server in gephi?\n",
        "Could not connect to the gephi streaming plugin. Did you start the streaming master server in gephi?\n",
        "Could not connect to the gephi streaming plugin. Did you start the streaming master server in gephi?"
       ]
      },
      {
       "output_type": "stream",
       "stream": "stdout",
       "text": [
        "\n",
        "Could not connect to the gephi streaming plugin. Did you start the streaming master server in gephi?\n",
        "Could not connect to the gephi streaming plugin. Did you start the streaming master server in gephi?\n",
        "Could not connect to the gephi streaming plugin. Did you start the streaming master server in gephi?\n",
        "Could not connect to the gephi streaming plugin. Did you start the streaming master server in gephi?"
       ]
      },
      {
       "output_type": "stream",
       "stream": "stdout",
       "text": [
        "\n",
        "Could not connect to the gephi streaming plugin. Did you start the streaming master server in gephi?\n",
        "Could not connect to the gephi streaming plugin. Did you start the streaming master server in gephi?\n",
        "Could not connect to the gephi streaming plugin. Did you start the streaming master server in gephi?\n",
        "Could not connect to the gephi streaming plugin. Did you start the streaming master server in gephi?"
       ]
      },
      {
       "output_type": "stream",
       "stream": "stdout",
       "text": [
        "\n",
        "Could not connect to the gephi streaming plugin. Did you start the streaming master server in gephi?\n",
        "Could not connect to the gephi streaming plugin. Did you start the streaming master server in gephi?\n",
        "Could not connect to the gephi streaming plugin. Did you start the streaming master server in gephi?\n",
        "Could not connect to the gephi streaming plugin. Did you start the streaming master server in gephi?"
       ]
      },
      {
       "output_type": "stream",
       "stream": "stdout",
       "text": [
        "\n",
        "Could not connect to the gephi streaming plugin. Did you start the streaming master server in gephi?\n",
        "Could not connect to the gephi streaming plugin. Did you start the streaming master server in gephi?\n",
        "Could not connect to the gephi streaming plugin. Did you start the streaming master server in gephi?\n",
        "Could not connect to the gephi streaming plugin. Did you start the streaming master server in gephi?"
       ]
      },
      {
       "output_type": "stream",
       "stream": "stdout",
       "text": [
        "\n",
        "Could not connect to the gephi streaming plugin. Did you start the streaming master server in gephi?\n",
        "Could not connect to the gephi streaming plugin. Did you start the streaming master server in gephi?\n",
        "Could not connect to the gephi streaming plugin. Did you start the streaming master server in gephi?\n",
        "Could not connect to the gephi streaming plugin. Did you start the streaming master server in gephi?"
       ]
      },
      {
       "output_type": "stream",
       "stream": "stdout",
       "text": [
        "\n",
        "Could not connect to the gephi streaming plugin. Did you start the streaming master server in gephi?\n",
        "Could not connect to the gephi streaming plugin. Did you start the streaming master server in gephi?\n",
        "Could not connect to the gephi streaming plugin. Did you start the streaming master server in gephi?\n",
        "Could not connect to the gephi streaming plugin. Did you start the streaming master server in gephi?"
       ]
      },
      {
       "output_type": "stream",
       "stream": "stdout",
       "text": [
        "\n",
        "Could not connect to the gephi streaming plugin. Did you start the streaming master server in gephi?\n",
        "Could not connect to the gephi streaming plugin. Did you start the streaming master server in gephi?\n",
        "Could not connect to the gephi streaming plugin. Did you start the streaming master server in gephi?\n",
        "Could not connect to the gephi streaming plugin. Did you start the streaming master server in gephi?"
       ]
      },
      {
       "output_type": "stream",
       "stream": "stdout",
       "text": [
        "\n",
        "Could not connect to the gephi streaming plugin. Did you start the streaming master server in gephi?\n",
        "Could not connect to the gephi streaming plugin. Did you start the streaming master server in gephi?\n",
        "Could not connect to the gephi streaming plugin. Did you start the streaming master server in gephi?\n",
        "Could not connect to the gephi streaming plugin. Did you start the streaming master server in gephi?"
       ]
      },
      {
       "output_type": "stream",
       "stream": "stdout",
       "text": [
        "\n",
        "Could not connect to the gephi streaming plugin. Did you start the streaming master server in gephi?\n",
        "Could not connect to the gephi streaming plugin. Did you start the streaming master server in gephi?\n",
        "Could not connect to the gephi streaming plugin. Did you start the streaming master server in gephi?\n",
        "Could not connect to the gephi streaming plugin. Did you start the streaming master server in gephi?"
       ]
      },
      {
       "output_type": "stream",
       "stream": "stdout",
       "text": [
        "\n",
        "Could not connect to the gephi streaming plugin. Did you start the streaming master server in gephi?\n",
        "Could not connect to the gephi streaming plugin. Did you start the streaming master server in gephi?\n",
        "Could not connect to the gephi streaming plugin. Did you start the streaming master server in gephi?\n",
        "Could not connect to the gephi streaming plugin. Did you start the streaming master server in gephi?"
       ]
      },
      {
       "output_type": "stream",
       "stream": "stdout",
       "text": [
        "\n",
        "Could not connect to the gephi streaming plugin. Did you start the streaming master server in gephi?\n",
        "Could not connect to the gephi streaming plugin. Did you start the streaming master server in gephi?\n",
        "Could not connect to the gephi streaming plugin. Did you start the streaming master server in gephi?\n",
        "Could not connect to the gephi streaming plugin. Did you start the streaming master server in gephi?"
       ]
      },
      {
       "output_type": "stream",
       "stream": "stdout",
       "text": [
        "\n",
        "Could not connect to the gephi streaming plugin. Did you start the streaming master server in gephi?\n",
        "Could not connect to the gephi streaming plugin. Did you start the streaming master server in gephi?\n",
        "Could not connect to the gephi streaming plugin. Did you start the streaming master server in gephi?\n",
        "Could not connect to the gephi streaming plugin. Did you start the streaming master server in gephi?"
       ]
      },
      {
       "output_type": "stream",
       "stream": "stdout",
       "text": [
        "\n",
        "Could not connect to the gephi streaming plugin. Did you start the streaming master server in gephi?\n",
        "Could not connect to the gephi streaming plugin. Did you start the streaming master server in gephi?\n",
        "Could not connect to the gephi streaming plugin. Did you start the streaming master server in gephi?\n",
        "Could not connect to the gephi streaming plugin. Did you start the streaming master server in gephi?"
       ]
      },
      {
       "output_type": "stream",
       "stream": "stdout",
       "text": [
        "\n",
        "Could not connect to the gephi streaming plugin. Did you start the streaming master server in gephi?\n",
        "Could not connect to the gephi streaming plugin. Did you start the streaming master server in gephi?\n",
        "Could not connect to the gephi streaming plugin. Did you start the streaming master server in gephi?\n",
        "Could not connect to the gephi streaming plugin. Did you start the streaming master server in gephi?"
       ]
      },
      {
       "output_type": "stream",
       "stream": "stdout",
       "text": [
        "\n",
        "Could not connect to the gephi streaming plugin. Did you start the streaming master server in gephi?\n",
        "Could not connect to the gephi streaming plugin. Did you start the streaming master server in gephi?\n",
        "Could not connect to the gephi streaming plugin. Did you start the streaming master server in gephi?\n",
        "Could not connect to the gephi streaming plugin. Did you start the streaming master server in gephi?"
       ]
      },
      {
       "output_type": "stream",
       "stream": "stdout",
       "text": [
        "\n",
        "Could not connect to the gephi streaming plugin. Did you start the streaming master server in gephi?\n",
        "Could not connect to the gephi streaming plugin. Did you start the streaming master server in gephi?\n",
        "Could not connect to the gephi streaming plugin. Did you start the streaming master server in gephi?\n",
        "Could not connect to the gephi streaming plugin. Did you start the streaming master server in gephi?"
       ]
      },
      {
       "output_type": "stream",
       "stream": "stdout",
       "text": [
        "\n",
        "Could not connect to the gephi streaming plugin. Did you start the streaming master server in gephi?\n",
        "Could not connect to the gephi streaming plugin. Did you start the streaming master server in gephi?\n",
        "Could not connect to the gephi streaming plugin. Did you start the streaming master server in gephi?\n",
        "Could not connect to the gephi streaming plugin. Did you start the streaming master server in gephi?"
       ]
      },
      {
       "output_type": "stream",
       "stream": "stdout",
       "text": [
        "\n",
        "Could not connect to the gephi streaming plugin. Did you start the streaming master server in gephi?\n",
        "Could not connect to the gephi streaming plugin. Did you start the streaming master server in gephi?\n",
        "Could not connect to the gephi streaming plugin. Did you start the streaming master server in gephi?\n",
        "Could not connect to the gephi streaming plugin. Did you start the streaming master server in gephi?"
       ]
      },
      {
       "output_type": "stream",
       "stream": "stdout",
       "text": [
        "\n",
        "Could not connect to the gephi streaming plugin. Did you start the streaming master server in gephi?\n",
        "Could not connect to the gephi streaming plugin. Did you start the streaming master server in gephi?\n",
        "Could not connect to the gephi streaming plugin. Did you start the streaming master server in gephi?\n",
        "Could not connect to the gephi streaming plugin. Did you start the streaming master server in gephi?"
       ]
      },
      {
       "output_type": "stream",
       "stream": "stdout",
       "text": [
        "\n",
        "Could not connect to the gephi streaming plugin. Did you start the streaming master server in gephi?\n",
        "Could not connect to the gephi streaming plugin. Did you start the streaming master server in gephi?\n",
        "Could not connect to the gephi streaming plugin. Did you start the streaming master server in gephi?\n",
        "Could not connect to the gephi streaming plugin. Did you start the streaming master server in gephi?"
       ]
      },
      {
       "output_type": "stream",
       "stream": "stdout",
       "text": [
        "\n",
        "Could not connect to the gephi streaming plugin. Did you start the streaming master server in gephi?\n",
        "Could not connect to the gephi streaming plugin. Did you start the streaming master server in gephi?\n",
        "Could not connect to the gephi streaming plugin. Did you start the streaming master server in gephi?\n",
        "Could not connect to the gephi streaming plugin. Did you start the streaming master server in gephi?"
       ]
      },
      {
       "output_type": "stream",
       "stream": "stdout",
       "text": [
        "\n",
        "Could not connect to the gephi streaming plugin. Did you start the streaming master server in gephi?\n",
        "Could not connect to the gephi streaming plugin. Did you start the streaming master server in gephi?\n",
        "Could not connect to the gephi streaming plugin. Did you start the streaming master server in gephi?\n",
        "Could not connect to the gephi streaming plugin. Did you start the streaming master server in gephi?"
       ]
      },
      {
       "output_type": "stream",
       "stream": "stdout",
       "text": [
        "\n",
        "Could not connect to the gephi streaming plugin. Did you start the streaming master server in gephi?\n",
        "Could not connect to the gephi streaming plugin. Did you start the streaming master server in gephi?\n",
        "Could not connect to the gephi streaming plugin. Did you start the streaming master server in gephi?\n",
        "Could not connect to the gephi streaming plugin. Did you start the streaming master server in gephi?"
       ]
      },
      {
       "output_type": "stream",
       "stream": "stdout",
       "text": [
        "\n",
        "Could not connect to the gephi streaming plugin. Did you start the streaming master server in gephi?\n",
        "Could not connect to the gephi streaming plugin. Did you start the streaming master server in gephi?\n",
        "Could not connect to the gephi streaming plugin. Did you start the streaming master server in gephi?\n",
        "Could not connect to the gephi streaming plugin. Did you start the streaming master server in gephi?"
       ]
      },
      {
       "output_type": "stream",
       "stream": "stdout",
       "text": [
        "\n",
        "Could not connect to the gephi streaming plugin. Did you start the streaming master server in gephi?\n",
        "Could not connect to the gephi streaming plugin. Did you start the streaming master server in gephi?\n",
        "Could not connect to the gephi streaming plugin. Did you start the streaming master server in gephi?\n",
        "Could not connect to the gephi streaming plugin. Did you start the streaming master server in gephi?"
       ]
      },
      {
       "output_type": "stream",
       "stream": "stdout",
       "text": [
        "\n",
        "Could not connect to the gephi streaming plugin. Did you start the streaming master server in gephi?\n",
        "Could not connect to the gephi streaming plugin. Did you start the streaming master server in gephi?\n",
        "Could not connect to the gephi streaming plugin. Did you start the streaming master server in gephi?\n",
        "Could not connect to the gephi streaming plugin. Did you start the streaming master server in gephi?"
       ]
      },
      {
       "output_type": "stream",
       "stream": "stdout",
       "text": [
        "\n",
        "Could not connect to the gephi streaming plugin. Did you start the streaming master server in gephi?\n",
        "Could not connect to the gephi streaming plugin. Did you start the streaming master server in gephi?\n",
        "Could not connect to the gephi streaming plugin. Did you start the streaming master server in gephi?\n",
        "Could not connect to the gephi streaming plugin. Did you start the streaming master server in gephi?"
       ]
      },
      {
       "output_type": "stream",
       "stream": "stdout",
       "text": [
        "\n",
        "Could not connect to the gephi streaming plugin. Did you start the streaming master server in gephi?\n",
        "Could not connect to the gephi streaming plugin. Did you start the streaming master server in gephi?\n",
        "Could not connect to the gephi streaming plugin. Did you start the streaming master server in gephi?\n",
        "Could not connect to the gephi streaming plugin. Did you start the streaming master server in gephi?"
       ]
      },
      {
       "output_type": "stream",
       "stream": "stdout",
       "text": [
        "\n",
        "Could not connect to the gephi streaming plugin. Did you start the streaming master server in gephi?\n",
        "Could not connect to the gephi streaming plugin. Did you start the streaming master server in gephi?\n",
        "Could not connect to the gephi streaming plugin. Did you start the streaming master server in gephi?\n",
        "Could not connect to the gephi streaming plugin. Did you start the streaming master server in gephi?"
       ]
      },
      {
       "output_type": "stream",
       "stream": "stdout",
       "text": [
        "\n",
        "Could not connect to the gephi streaming plugin. Did you start the streaming master server in gephi?\n",
        "Could not connect to the gephi streaming plugin. Did you start the streaming master server in gephi?\n",
        "Could not connect to the gephi streaming plugin. Did you start the streaming master server in gephi?\n",
        "Could not connect to the gephi streaming plugin. Did you start the streaming master server in gephi?"
       ]
      },
      {
       "output_type": "stream",
       "stream": "stdout",
       "text": [
        "\n",
        "Could not connect to the gephi streaming plugin. Did you start the streaming master server in gephi?\n",
        "Could not connect to the gephi streaming plugin. Did you start the streaming master server in gephi?\n",
        "Could not connect to the gephi streaming plugin. Did you start the streaming master server in gephi?\n",
        "Could not connect to the gephi streaming plugin. Did you start the streaming master server in gephi?"
       ]
      },
      {
       "output_type": "stream",
       "stream": "stdout",
       "text": [
        "\n",
        "Could not connect to the gephi streaming plugin. Did you start the streaming master server in gephi?\n",
        "Could not connect to the gephi streaming plugin. Did you start the streaming master server in gephi?\n",
        "Could not connect to the gephi streaming plugin. Did you start the streaming master server in gephi?\n",
        "Could not connect to the gephi streaming plugin. Did you start the streaming master server in gephi?"
       ]
      },
      {
       "output_type": "stream",
       "stream": "stdout",
       "text": [
        "\n",
        "Could not connect to the gephi streaming plugin. Did you start the streaming master server in gephi?\n",
        "Could not connect to the gephi streaming plugin. Did you start the streaming master server in gephi?\n",
        "Could not connect to the gephi streaming plugin. Did you start the streaming master server in gephi?\n",
        "Could not connect to the gephi streaming plugin. Did you start the streaming master server in gephi?"
       ]
      },
      {
       "output_type": "stream",
       "stream": "stdout",
       "text": [
        "\n",
        "Could not connect to the gephi streaming plugin. Did you start the streaming master server in gephi?\n",
        "Could not connect to the gephi streaming plugin. Did you start the streaming master server in gephi?\n",
        "Could not connect to the gephi streaming plugin. Did you start the streaming master server in gephi?\n",
        "Could not connect to the gephi streaming plugin. Did you start the streaming master server in gephi?"
       ]
      },
      {
       "output_type": "stream",
       "stream": "stdout",
       "text": [
        "\n",
        "Could not connect to the gephi streaming plugin. Did you start the streaming master server in gephi?\n",
        "Could not connect to the gephi streaming plugin. Did you start the streaming master server in gephi?\n",
        "Could not connect to the gephi streaming plugin. Did you start the streaming master server in gephi?\n",
        "Could not connect to the gephi streaming plugin. Did you start the streaming master server in gephi?"
       ]
      },
      {
       "output_type": "stream",
       "stream": "stdout",
       "text": [
        "\n",
        "Could not connect to the gephi streaming plugin. Did you start the streaming master server in gephi?\n",
        "Could not connect to the gephi streaming plugin. Did you start the streaming master server in gephi?\n",
        "Could not connect to the gephi streaming plugin. Did you start the streaming master server in gephi?\n",
        "Could not connect to the gephi streaming plugin. Did you start the streaming master server in gephi?"
       ]
      },
      {
       "output_type": "stream",
       "stream": "stdout",
       "text": [
        "\n",
        "Could not connect to the gephi streaming plugin. Did you start the streaming master server in gephi?\n",
        "Could not connect to the gephi streaming plugin. Did you start the streaming master server in gephi?\n",
        "Could not connect to the gephi streaming plugin. Did you start the streaming master server in gephi?\n",
        "Could not connect to the gephi streaming plugin. Did you start the streaming master server in gephi?"
       ]
      },
      {
       "output_type": "stream",
       "stream": "stdout",
       "text": [
        "\n",
        "Could not connect to the gephi streaming plugin. Did you start the streaming master server in gephi?\n",
        "Could not connect to the gephi streaming plugin. Did you start the streaming master server in gephi?\n",
        "Could not connect to the gephi streaming plugin. Did you start the streaming master server in gephi?\n",
        "Could not connect to the gephi streaming plugin. Did you start the streaming master server in gephi?"
       ]
      },
      {
       "output_type": "stream",
       "stream": "stdout",
       "text": [
        "\n",
        "Could not connect to the gephi streaming plugin. Did you start the streaming master server in gephi?\n",
        "Could not connect to the gephi streaming plugin. Did you start the streaming master server in gephi?\n",
        "Could not connect to the gephi streaming plugin. Did you start the streaming master server in gephi?\n",
        "Could not connect to the gephi streaming plugin. Did you start the streaming master server in gephi?"
       ]
      },
      {
       "output_type": "stream",
       "stream": "stdout",
       "text": [
        "\n",
        "Could not connect to the gephi streaming plugin. Did you start the streaming master server in gephi?\n",
        "Could not connect to the gephi streaming plugin. Did you start the streaming master server in gephi?\n",
        "Could not connect to the gephi streaming plugin. Did you start the streaming master server in gephi?\n",
        "Could not connect to the gephi streaming plugin. Did you start the streaming master server in gephi?"
       ]
      },
      {
       "output_type": "stream",
       "stream": "stdout",
       "text": [
        "\n",
        "Could not connect to the gephi streaming plugin. Did you start the streaming master server in gephi?\n",
        "Could not connect to the gephi streaming plugin. Did you start the streaming master server in gephi?\n",
        "Could not connect to the gephi streaming plugin. Did you start the streaming master server in gephi?\n",
        "Could not connect to the gephi streaming plugin. Did you start the streaming master server in gephi?"
       ]
      },
      {
       "output_type": "stream",
       "stream": "stdout",
       "text": [
        "\n",
        "Could not connect to the gephi streaming plugin. Did you start the streaming master server in gephi?\n",
        "Could not connect to the gephi streaming plugin. Did you start the streaming master server in gephi?\n",
        "Could not connect to the gephi streaming plugin. Did you start the streaming master server in gephi?\n",
        "Could not connect to the gephi streaming plugin. Did you start the streaming master server in gephi?"
       ]
      },
      {
       "output_type": "stream",
       "stream": "stdout",
       "text": [
        "\n",
        "Could not connect to the gephi streaming plugin. Did you start the streaming master server in gephi?\n",
        "Could not connect to the gephi streaming plugin. Did you start the streaming master server in gephi?\n",
        "Could not connect to the gephi streaming plugin. Did you start the streaming master server in gephi?\n",
        "Could not connect to the gephi streaming plugin. Did you start the streaming master server in gephi?"
       ]
      },
      {
       "output_type": "stream",
       "stream": "stdout",
       "text": [
        "\n",
        "Could not connect to the gephi streaming plugin. Did you start the streaming master server in gephi?\n",
        "Could not connect to the gephi streaming plugin. Did you start the streaming master server in gephi?\n",
        "Could not connect to the gephi streaming plugin. Did you start the streaming master server in gephi?\n",
        "Could not connect to the gephi streaming plugin. Did you start the streaming master server in gephi?"
       ]
      },
      {
       "output_type": "stream",
       "stream": "stdout",
       "text": [
        "\n",
        "Could not connect to the gephi streaming plugin. Did you start the streaming master server in gephi?\n",
        "Could not connect to the gephi streaming plugin. Did you start the streaming master server in gephi?\n",
        "Could not connect to the gephi streaming plugin. Did you start the streaming master server in gephi?\n",
        "Could not connect to the gephi streaming plugin. Did you start the streaming master server in gephi?"
       ]
      },
      {
       "output_type": "stream",
       "stream": "stdout",
       "text": [
        "\n",
        "Could not connect to the gephi streaming plugin. Did you start the streaming master server in gephi?\n",
        "Could not connect to the gephi streaming plugin. Did you start the streaming master server in gephi?\n",
        "Could not connect to the gephi streaming plugin. Did you start the streaming master server in gephi?\n",
        "Could not connect to the gephi streaming plugin. Did you start the streaming master server in gephi?"
       ]
      },
      {
       "output_type": "stream",
       "stream": "stdout",
       "text": [
        "\n",
        "Could not connect to the gephi streaming plugin. Did you start the streaming master server in gephi?\n",
        "Could not connect to the gephi streaming plugin. Did you start the streaming master server in gephi?\n",
        "Could not connect to the gephi streaming plugin. Did you start the streaming master server in gephi?\n",
        "Could not connect to the gephi streaming plugin. Did you start the streaming master server in gephi?"
       ]
      },
      {
       "output_type": "stream",
       "stream": "stdout",
       "text": [
        "\n",
        "Could not connect to the gephi streaming plugin. Did you start the streaming master server in gephi?\n",
        "Could not connect to the gephi streaming plugin. Did you start the streaming master server in gephi?\n",
        "Could not connect to the gephi streaming plugin. Did you start the streaming master server in gephi?\n",
        "Could not connect to the gephi streaming plugin. Did you start the streaming master server in gephi?"
       ]
      },
      {
       "output_type": "stream",
       "stream": "stdout",
       "text": [
        "\n",
        "Could not connect to the gephi streaming plugin. Did you start the streaming master server in gephi?\n",
        "Could not connect to the gephi streaming plugin. Did you start the streaming master server in gephi?\n",
        "Could not connect to the gephi streaming plugin. Did you start the streaming master server in gephi?\n",
        "Could not connect to the gephi streaming plugin. Did you start the streaming master server in gephi?"
       ]
      },
      {
       "output_type": "stream",
       "stream": "stdout",
       "text": [
        "\n",
        "Could not connect to the gephi streaming plugin. Did you start the streaming master server in gephi?\n",
        "Could not connect to the gephi streaming plugin. Did you start the streaming master server in gephi?\n",
        "Could not connect to the gephi streaming plugin. Did you start the streaming master server in gephi?\n",
        "Could not connect to the gephi streaming plugin. Did you start the streaming master server in gephi?"
       ]
      },
      {
       "output_type": "stream",
       "stream": "stdout",
       "text": [
        "\n",
        "Could not connect to the gephi streaming plugin. Did you start the streaming master server in gephi?\n",
        "Could not connect to the gephi streaming plugin. Did you start the streaming master server in gephi?\n",
        "Could not connect to the gephi streaming plugin. Did you start the streaming master server in gephi?\n",
        "Could not connect to the gephi streaming plugin. Did you start the streaming master server in gephi?"
       ]
      },
      {
       "output_type": "stream",
       "stream": "stdout",
       "text": [
        "\n",
        "Could not connect to the gephi streaming plugin. Did you start the streaming master server in gephi?\n",
        "Could not connect to the gephi streaming plugin. Did you start the streaming master server in gephi?\n",
        "Could not connect to the gephi streaming plugin. Did you start the streaming master server in gephi?\n",
        "Could not connect to the gephi streaming plugin. Did you start the streaming master server in gephi?"
       ]
      },
      {
       "output_type": "stream",
       "stream": "stdout",
       "text": [
        "\n",
        "Could not connect to the gephi streaming plugin. Did you start the streaming master server in gephi?\n",
        "Could not connect to the gephi streaming plugin. Did you start the streaming master server in gephi?\n",
        "Could not connect to the gephi streaming plugin. Did you start the streaming master server in gephi?\n",
        "Could not connect to the gephi streaming plugin. Did you start the streaming master server in gephi?"
       ]
      },
      {
       "output_type": "stream",
       "stream": "stdout",
       "text": [
        "\n",
        "Could not connect to the gephi streaming plugin. Did you start the streaming master server in gephi?\n",
        "Could not connect to the gephi streaming plugin. Did you start the streaming master server in gephi?\n",
        "Could not connect to the gephi streaming plugin. Did you start the streaming master server in gephi?\n",
        "Could not connect to the gephi streaming plugin. Did you start the streaming master server in gephi?"
       ]
      },
      {
       "output_type": "stream",
       "stream": "stdout",
       "text": [
        "\n",
        "Could not connect to the gephi streaming plugin. Did you start the streaming master server in gephi?\n",
        "Could not connect to the gephi streaming plugin. Did you start the streaming master server in gephi?\n",
        "Could not connect to the gephi streaming plugin. Did you start the streaming master server in gephi?\n",
        "Could not connect to the gephi streaming plugin. Did you start the streaming master server in gephi?"
       ]
      },
      {
       "output_type": "stream",
       "stream": "stdout",
       "text": [
        "\n",
        "Could not connect to the gephi streaming plugin. Did you start the streaming master server in gephi?\n",
        "Could not connect to the gephi streaming plugin. Did you start the streaming master server in gephi?\n",
        "Could not connect to the gephi streaming plugin. Did you start the streaming master server in gephi?\n",
        "Could not connect to the gephi streaming plugin. Did you start the streaming master server in gephi?"
       ]
      },
      {
       "output_type": "stream",
       "stream": "stdout",
       "text": [
        "\n",
        "Could not connect to the gephi streaming plugin. Did you start the streaming master server in gephi?\n",
        "Could not connect to the gephi streaming plugin. Did you start the streaming master server in gephi?\n",
        "Could not connect to the gephi streaming plugin. Did you start the streaming master server in gephi?\n",
        "Could not connect to the gephi streaming plugin. Did you start the streaming master server in gephi?"
       ]
      },
      {
       "output_type": "stream",
       "stream": "stdout",
       "text": [
        "\n",
        "Could not connect to the gephi streaming plugin. Did you start the streaming master server in gephi?\n",
        "Could not connect to the gephi streaming plugin. Did you start the streaming master server in gephi?\n",
        "Could not connect to the gephi streaming plugin. Did you start the streaming master server in gephi?\n",
        "Could not connect to the gephi streaming plugin. Did you start the streaming master server in gephi?"
       ]
      },
      {
       "output_type": "stream",
       "stream": "stdout",
       "text": [
        "\n",
        "Could not connect to the gephi streaming plugin. Did you start the streaming master server in gephi?\n",
        "Could not connect to the gephi streaming plugin. Did you start the streaming master server in gephi?\n",
        "Could not connect to the gephi streaming plugin. Did you start the streaming master server in gephi?\n",
        "Could not connect to the gephi streaming plugin. Did you start the streaming master server in gephi?"
       ]
      },
      {
       "output_type": "stream",
       "stream": "stdout",
       "text": [
        "\n",
        "Could not connect to the gephi streaming plugin. Did you start the streaming master server in gephi?\n",
        "Could not connect to the gephi streaming plugin. Did you start the streaming master server in gephi?\n",
        "Could not connect to the gephi streaming plugin. Did you start the streaming master server in gephi?\n",
        "Could not connect to the gephi streaming plugin. Did you start the streaming master server in gephi?"
       ]
      },
      {
       "output_type": "stream",
       "stream": "stdout",
       "text": [
        "\n",
        "Could not connect to the gephi streaming plugin. Did you start the streaming master server in gephi?\n",
        "Could not connect to the gephi streaming plugin. Did you start the streaming master server in gephi?\n",
        "Could not connect to the gephi streaming plugin. Did you start the streaming master server in gephi?\n",
        "Could not connect to the gephi streaming plugin. Did you start the streaming master server in gephi?"
       ]
      },
      {
       "output_type": "stream",
       "stream": "stdout",
       "text": [
        "\n",
        "Could not connect to the gephi streaming plugin. Did you start the streaming master server in gephi?\n",
        "Could not connect to the gephi streaming plugin. Did you start the streaming master server in gephi?\n",
        "Could not connect to the gephi streaming plugin. Did you start the streaming master server in gephi?\n",
        "Could not connect to the gephi streaming plugin. Did you start the streaming master server in gephi?"
       ]
      },
      {
       "output_type": "stream",
       "stream": "stdout",
       "text": [
        "\n",
        "Could not connect to the gephi streaming plugin. Did you start the streaming master server in gephi?\n",
        "Could not connect to the gephi streaming plugin. Did you start the streaming master server in gephi?\n",
        "Could not connect to the gephi streaming plugin. Did you start the streaming master server in gephi?\n",
        "Could not connect to the gephi streaming plugin. Did you start the streaming master server in gephi?"
       ]
      },
      {
       "output_type": "stream",
       "stream": "stdout",
       "text": [
        "\n",
        "Could not connect to the gephi streaming plugin. Did you start the streaming master server in gephi?\n",
        "Could not connect to the gephi streaming plugin. Did you start the streaming master server in gephi?\n",
        "Could not connect to the gephi streaming plugin. Did you start the streaming master server in gephi?\n",
        "Could not connect to the gephi streaming plugin. Did you start the streaming master server in gephi?"
       ]
      },
      {
       "output_type": "stream",
       "stream": "stdout",
       "text": [
        "\n",
        "Could not connect to the gephi streaming plugin. Did you start the streaming master server in gephi?\n",
        "Could not connect to the gephi streaming plugin. Did you start the streaming master server in gephi?\n",
        "Could not connect to the gephi streaming plugin. Did you start the streaming master server in gephi?\n",
        "Could not connect to the gephi streaming plugin. Did you start the streaming master server in gephi?"
       ]
      },
      {
       "output_type": "stream",
       "stream": "stdout",
       "text": [
        "\n",
        "Could not connect to the gephi streaming plugin. Did you start the streaming master server in gephi?\n",
        "Could not connect to the gephi streaming plugin. Did you start the streaming master server in gephi?\n",
        "Could not connect to the gephi streaming plugin. Did you start the streaming master server in gephi?\n",
        "Could not connect to the gephi streaming plugin. Did you start the streaming master server in gephi?"
       ]
      },
      {
       "output_type": "stream",
       "stream": "stdout",
       "text": [
        "\n",
        "Could not connect to the gephi streaming plugin. Did you start the streaming master server in gephi?\n",
        "Could not connect to the gephi streaming plugin. Did you start the streaming master server in gephi?\n",
        "Could not connect to the gephi streaming plugin. Did you start the streaming master server in gephi?\n",
        "Could not connect to the gephi streaming plugin. Did you start the streaming master server in gephi?"
       ]
      },
      {
       "output_type": "stream",
       "stream": "stdout",
       "text": [
        "\n",
        "Could not connect to the gephi streaming plugin. Did you start the streaming master server in gephi?\n",
        "Could not connect to the gephi streaming plugin. Did you start the streaming master server in gephi?\n",
        "Could not connect to the gephi streaming plugin. Did you start the streaming master server in gephi?\n",
        "Could not connect to the gephi streaming plugin. Did you start the streaming master server in gephi?"
       ]
      },
      {
       "output_type": "stream",
       "stream": "stdout",
       "text": [
        "\n",
        "Could not connect to the gephi streaming plugin. Did you start the streaming master server in gephi?\n",
        "Could not connect to the gephi streaming plugin. Did you start the streaming master server in gephi?\n",
        "Could not connect to the gephi streaming plugin. Did you start the streaming master server in gephi?\n",
        "Could not connect to the gephi streaming plugin. Did you start the streaming master server in gephi?"
       ]
      },
      {
       "output_type": "stream",
       "stream": "stdout",
       "text": [
        "\n",
        "Could not connect to the gephi streaming plugin. Did you start the streaming master server in gephi?\n",
        "Could not connect to the gephi streaming plugin. Did you start the streaming master server in gephi?\n",
        "Could not connect to the gephi streaming plugin. Did you start the streaming master server in gephi?\n",
        "Could not connect to the gephi streaming plugin. Did you start the streaming master server in gephi?"
       ]
      },
      {
       "output_type": "stream",
       "stream": "stdout",
       "text": [
        "\n",
        "Could not connect to the gephi streaming plugin. Did you start the streaming master server in gephi?\n",
        "Could not connect to the gephi streaming plugin. Did you start the streaming master server in gephi?\n",
        "Could not connect to the gephi streaming plugin. Did you start the streaming master server in gephi?\n",
        "Could not connect to the gephi streaming plugin. Did you start the streaming master server in gephi?"
       ]
      },
      {
       "output_type": "stream",
       "stream": "stdout",
       "text": [
        "\n",
        "Could not connect to the gephi streaming plugin. Did you start the streaming master server in gephi?\n",
        "Could not connect to the gephi streaming plugin. Did you start the streaming master server in gephi?\n",
        "Could not connect to the gephi streaming plugin. Did you start the streaming master server in gephi?\n",
        "Could not connect to the gephi streaming plugin. Did you start the streaming master server in gephi?"
       ]
      },
      {
       "output_type": "stream",
       "stream": "stdout",
       "text": [
        "\n",
        "Could not connect to the gephi streaming plugin. Did you start the streaming master server in gephi?\n",
        "Could not connect to the gephi streaming plugin. Did you start the streaming master server in gephi?\n",
        "Could not connect to the gephi streaming plugin. Did you start the streaming master server in gephi?\n",
        "Could not connect to the gephi streaming plugin. Did you start the streaming master server in gephi?"
       ]
      },
      {
       "output_type": "stream",
       "stream": "stdout",
       "text": [
        "\n",
        "Could not connect to the gephi streaming plugin. Did you start the streaming master server in gephi?\n",
        "Could not connect to the gephi streaming plugin. Did you start the streaming master server in gephi?\n",
        "Could not connect to the gephi streaming plugin. Did you start the streaming master server in gephi?\n",
        "Could not connect to the gephi streaming plugin. Did you start the streaming master server in gephi?"
       ]
      },
      {
       "output_type": "stream",
       "stream": "stdout",
       "text": [
        "\n",
        "Could not connect to the gephi streaming plugin. Did you start the streaming master server in gephi?\n",
        "Could not connect to the gephi streaming plugin. Did you start the streaming master server in gephi?\n",
        "Could not connect to the gephi streaming plugin. Did you start the streaming master server in gephi?\n",
        "Could not connect to the gephi streaming plugin. Did you start the streaming master server in gephi?"
       ]
      },
      {
       "output_type": "stream",
       "stream": "stdout",
       "text": [
        "\n",
        "Could not connect to the gephi streaming plugin. Did you start the streaming master server in gephi?\n",
        "Could not connect to the gephi streaming plugin. Did you start the streaming master server in gephi?\n",
        "Could not connect to the gephi streaming plugin. Did you start the streaming master server in gephi?\n",
        "Could not connect to the gephi streaming plugin. Did you start the streaming master server in gephi?"
       ]
      },
      {
       "ename": "KeyboardInterrupt",
       "evalue": "",
       "output_type": "pyerr",
       "traceback": [
        "\u001b[0;31m---------------------------------------------------------------------------\u001b[0m\n\u001b[0;31mKeyboardInterrupt\u001b[0m                         Traceback (most recent call last)",
        "\u001b[0;32m<ipython-input-6-bf9031b1b19c>\u001b[0m in \u001b[0;36m<module>\u001b[0;34m()\u001b[0m\n\u001b[1;32m      1\u001b[0m \u001b[0mstart\u001b[0m \u001b[0;34m=\u001b[0m \u001b[0mtime\u001b[0m\u001b[0;34m.\u001b[0m\u001b[0mtime\u001b[0m\u001b[0;34m(\u001b[0m\u001b[0;34m)\u001b[0m\u001b[0;34m\u001b[0m\u001b[0m\n\u001b[1;32m      2\u001b[0m \u001b[0;32mfor\u001b[0m \u001b[0mi\u001b[0m \u001b[0;32min\u001b[0m \u001b[0mrange\u001b[0m\u001b[0;34m(\u001b[0m\u001b[0;36m0\u001b[0m\u001b[0;34m,\u001b[0m\u001b[0;36m1000\u001b[0m\u001b[0;34m)\u001b[0m\u001b[0;34m:\u001b[0m\u001b[0;34m\u001b[0m\u001b[0m\n\u001b[0;32m----> 3\u001b[0;31m     \u001b[0mstream\u001b[0m \u001b[0;34m=\u001b[0m \u001b[0mgen\u001b[0m\u001b[0;34m.\u001b[0m\u001b[0mgenerate\u001b[0m\u001b[0;34m(\u001b[0m\u001b[0;36m1\u001b[0m\u001b[0;34m)\u001b[0m\u001b[0;34m\u001b[0m\u001b[0m\n\u001b[0m\u001b[1;32m      4\u001b[0m     \u001b[0mcoords\u001b[0m \u001b[0;34m=\u001b[0m \u001b[0mgen\u001b[0m\u001b[0;34m.\u001b[0m\u001b[0mgetHyperbolicCoordinates\u001b[0m\u001b[0;34m(\u001b[0m\u001b[0;34m)\u001b[0m\u001b[0;34m\u001b[0m\u001b[0m\n\u001b[1;32m      5\u001b[0m     \u001b[0;32mfor\u001b[0m \u001b[0mj\u001b[0m \u001b[0;32min\u001b[0m \u001b[0mrange\u001b[0m\u001b[0;34m(\u001b[0m\u001b[0;36m0\u001b[0m\u001b[0;34m,\u001b[0m \u001b[0mlen\u001b[0m\u001b[0;34m(\u001b[0m\u001b[0mcoords\u001b[0m\u001b[0;34m)\u001b[0m\u001b[0;34m)\u001b[0m\u001b[0;34m:\u001b[0m\u001b[0;34m\u001b[0m\u001b[0m\n",
        "\u001b[0;31mKeyboardInterrupt\u001b[0m: "
       ]
      },
      {
       "output_type": "stream",
       "stream": "stdout",
       "text": [
        "\n",
        "Could not connect to the gephi streaming plugin. Did you start the streaming master server in gephi?\n",
        "Could not connect to the gephi streaming plugin. Did you start the streaming master server in gephi?\n",
        "Could not connect to the gephi streaming plugin. Did you start the streaming master server in gephi?\n"
       ]
      }
     ],
     "prompt_number": 6
    },
    {
     "cell_type": "code",
     "collapsed": false,
     "input": [],
     "language": "python",
     "metadata": {},
     "outputs": []
    }
   ],
   "metadata": {}
  }
 ]
}
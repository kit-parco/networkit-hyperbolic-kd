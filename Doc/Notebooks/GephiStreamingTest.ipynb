{
 "metadata": {
  "name": ""
 },
 "nbformat": 3,
 "nbformat_minor": 0,
 "worksheets": [
  {
   "cells": [
    {
     "cell_type": "code",
     "collapsed": false,
     "input": [
      "from networkit import *\n",
      "import time\n",
      "setLogLevel(\"DEBUG\")"
     ],
     "language": "python",
     "metadata": {},
     "outputs": [],
     "prompt_number": 1
    },
    {
     "cell_type": "code",
     "collapsed": false,
     "input": [
      "gen = generators.DynamicHyperbolicGenerator(200,0,1,1.8,1,0.001,1)"
     ],
     "language": "python",
     "metadata": {},
     "outputs": [],
     "prompt_number": 2
    },
    {
     "cell_type": "code",
     "collapsed": false,
     "input": [
      "G = gen.getGraph()\n",
      "G.initCoordinates()"
     ],
     "language": "python",
     "metadata": {},
     "outputs": [],
     "prompt_number": 3
    },
    {
     "cell_type": "code",
     "collapsed": false,
     "input": [
      "client = gephi.streaming.GephiStreamingClient()\n",
      "client.clearGraph()"
     ],
     "language": "python",
     "metadata": {},
     "outputs": [],
     "prompt_number": 4
    },
    {
     "cell_type": "code",
     "collapsed": false,
     "input": [
      "client.exportGraph(G)\n",
      "scale = 100\n",
      "xcoords = [scale*p[0] for p in gen.getHyperbolicCoordinates()]#gen.getHyperbolicCoordinates()]\n",
      "ycoords = [scale*p[1] for p in gen.getHyperbolicCoordinates()]#gen.getHyperbolicCoordinates()]\n",
      "client.exportNodeValues(G, xcoords, 'x')\n",
      "client.exportNodeValues(G, ycoords, 'y')"
     ],
     "language": "python",
     "metadata": {},
     "outputs": [],
     "prompt_number": 5
    },
    {
     "cell_type": "code",
     "collapsed": false,
     "input": [
      "start = time.time()\n",
      "for i in range(0,1000):\n",
      "    stream = gen.generate(1)\n",
      "    coords = gen.getHyperbolicCoordinates()\n",
      "    for j in range(0, len(coords)):\n",
      "        p = coords[j]\n",
      "        G.setCoordinate(j, (scale*p[0], scale*p[1]))\n",
      "    \n",
      "    client.exportCoordinates(G)\n",
      "    client.exportEventStream(stream)\n",
      "    \n",
      "    time.sleep(0.05)\n",
      "print('Elapsed: ', time.time() - start)"
     ],
     "language": "python",
     "metadata": {},
     "outputs": [],
     "prompt_number": "*"
    },
    {
     "cell_type": "code",
     "collapsed": false,
     "input": [],
     "language": "python",
     "metadata": {},
     "outputs": []
    }
   ],
   "metadata": {}
  }
 ]
}
{
 "metadata": {
  "name": "",
  "signature": "sha256:8123937250bf21879bda6c35b03a1e15e279a5c42aaf1f9e2366a463000071a7"
 },
 "nbformat": 3,
 "nbformat_minor": 0,
 "worksheets": [
  {
   "cells": [
    {
     "cell_type": "code",
     "collapsed": false,
     "input": [
      "from networkit import *"
     ],
     "language": "python",
     "metadata": {},
     "outputs": [],
     "prompt_number": 2
    },
    {
     "cell_type": "heading",
     "level": 3,
     "metadata": {},
     "source": [
      "Introduction"
     ]
    },
    {
     "cell_type": "markdown",
     "metadata": {},
     "source": [
      "NetworKit provides an easy interface to Gephi that uses the Gephi graph streaming plugin. To be able to use it, install the \"Graph Streaming\" plugin using the Gephi plugin manager. Afterwards, open the \"Streaming\" window by selecting \"Windows/Streaming\" in the menu."
     ]
    },
    {
     "cell_type": "heading",
     "level": 3,
     "metadata": {},
     "source": [
      "Workflow"
     ]
    },
    {
     "cell_type": "markdown",
     "metadata": {},
     "source": [
      "Once the plugin is installed in gephi, create a new project and start the \"Master Server\" in the Streaming tab within gephi. The running server will be indicated by a green dot."
     ]
    },
    {
     "cell_type": "heading",
     "level": 3,
     "metadata": {},
     "source": [
      "Exporting graphs"
     ]
    },
    {
     "cell_type": "markdown",
     "metadata": {},
     "source": [
      "As an example, we generate a random graph..."
     ]
    },
    {
     "cell_type": "code",
     "collapsed": false,
     "input": [
      "G = generators.ErdosRenyiGenerator(300, 0.2).generate()\n",
      "G.addEdge(0, 1) #We want to make sure this specific edge exists, for usage in an example later."
     ],
     "language": "python",
     "metadata": {},
     "outputs": [],
     "prompt_number": 4
    },
    {
     "cell_type": "markdown",
     "metadata": {},
     "source": [
      "... and export it directly export it into the active gephi workspace. After executing the following code, the graph should be available in the first gephi workspace. Attention: Any graph currently contained in that workspace will be overriden."
     ]
    },
    {
     "cell_type": "code",
     "collapsed": false,
     "input": [
      "client = gephi.streaming.GephiStreamingClient()\n",
      "client.exportGraph(G)"
     ],
     "language": "python",
     "metadata": {},
     "outputs": [
      {
       "output_type": "stream",
       "stream": "stdout",
       "text": [
        "Could not connect to the gephi streaming plugin. Did you start the streaming master server in gephi?\n"
       ]
      }
     ],
     "prompt_number": 5
    },
    {
     "cell_type": "heading",
     "level": 3,
     "metadata": {},
     "source": [
      "Exporting node values"
     ]
    },
    {
     "cell_type": "markdown",
     "metadata": {},
     "source": [
      "We now apply a community detection algorithm to the generated random graph and export the community as a node attribute to gephi. Any python list or Partition object can be exported. Please note that only the attribute itself is transfered, so make sure you called exportGraph(graph) first."
     ]
    },
    {
     "cell_type": "code",
     "collapsed": false,
     "input": [
      "communities = community.detectCommunities(G)"
     ],
     "language": "python",
     "metadata": {},
     "outputs": [
      {
       "output_type": "stream",
       "stream": "stdout",
       "text": [
        "PLM(balanced,,parallel coarsening) detected communities in 0.06624603271484375 [s]\n",
        "solution properties:\n",
        "-------------------  ----------\n",
        "# communities         8\n",
        "min community size   23\n",
        "max community size   54\n",
        "avg. community size  37.5\n",
        "modularity            0.0983793\n",
        "-------------------  ----------\n"
       ]
      }
     ],
     "prompt_number": 6
    },
    {
     "cell_type": "code",
     "collapsed": false,
     "input": [
      "client.exportNodeValues(G, communities, \"community\")"
     ],
     "language": "python",
     "metadata": {},
     "outputs": [
      {
       "output_type": "stream",
       "stream": "stdout",
       "text": [
        "Could not connect to the gephi streaming plugin. Did you start the streaming master server in gephi?\n"
       ]
      }
     ],
     "prompt_number": 7
    },
    {
     "cell_type": "markdown",
     "metadata": {},
     "source": [
      "The node attribute \"community\" can now be selected and used in gephi, for partitioning or any other desired scenario."
     ]
    },
    {
     "cell_type": "heading",
     "level": 3,
     "metadata": {},
     "source": [
      "Exporting edges values"
     ]
    },
    {
     "cell_type": "markdown",
     "metadata": {},
     "source": [
      "Just like node values, we can export edge values. After graph creation, each edge is assigned an integer id that is then used to access arbitrary attribute vectors, so any python list can be exported to gephi. In the following example, we assign an even number edge and export that attribute to gephi."
     ]
    },
    {
     "cell_type": "code",
     "collapsed": false,
     "input": [
      "edgeAttribute = [2*x for x in range(0, G.upperEdgeIdBound())]\n",
      "client.exportEdgeValues(G, edgeAttribute, \"myEdgeAttribute\")"
     ],
     "language": "python",
     "metadata": {},
     "outputs": [],
     "prompt_number": 21
    },
    {
     "cell_type": "markdown",
     "metadata": {},
     "source": [
      "Edge ids an easily be retrieved using the edgeId(u, v) method in graph. Let's change of one edge and export the attribute again."
     ]
    },
    {
     "cell_type": "code",
     "collapsed": false,
     "input": [
      "edgeAttribute[G.edgeId(0, 1)] = 1\n",
      "client.exportEdgeValues(G, edgeAttribute, \"myEdgeAttribute\")"
     ],
     "language": "python",
     "metadata": {},
     "outputs": [],
     "prompt_number": 22
    },
    {
     "cell_type": "heading",
     "level": 3,
     "metadata": {},
     "source": [
      "Changing the server URL"
     ]
    },
    {
     "cell_type": "markdown",
     "metadata": {},
     "source": [
      "By default, the streaming client in NetworKit connects to http://localhost:8080/workspace0, i.e. the first workspace of the local gephi instance. One might want to connect to a gephi instance running on a remote host or change the used port (this can be done in gephi by selecting \"Settings\" within the Streaming tab). To change the url in NetworKit, simply pass it upon the creation of the client object:"
     ]
    },
    {
     "cell_type": "code",
     "collapsed": false,
     "input": [
      "client = gephi.streaming.GephiStreamingClient(url='http://localhost:8080/workspace0')"
     ],
     "language": "python",
     "metadata": {},
     "outputs": [],
     "prompt_number": 9
    }
   ],
   "metadata": {}
  }
 ]
}
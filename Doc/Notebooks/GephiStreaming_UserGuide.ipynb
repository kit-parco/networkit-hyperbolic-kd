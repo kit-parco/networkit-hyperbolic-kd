{
 "metadata": {
  "name": "",
  "signature": "sha256:fb50c78d67f128db77d655528b763e6b6391938b7115dcbdf07e18ba9c2c4359"
 },
 "nbformat": 3,
 "nbformat_minor": 0,
 "worksheets": [
  {
   "cells": [
    {
     "cell_type": "code",
     "collapsed": false,
     "input": [
      "from NetworKit import *"
     ],
     "language": "python",
     "metadata": {},
     "outputs": [],
     "prompt_number": 1
    },
    {
     "cell_type": "heading",
     "level": 3,
     "metadata": {},
     "source": [
      "Introduction"
     ]
    },
    {
     "cell_type": "markdown",
     "metadata": {},
     "source": [
      "NetworKit provides an easy interface to Gephi that uses the Gephi graph streaming plugin. To be able to use it, install the \"Graph Streaming\" plugin using the Gephi plugin manager. "
     ]
    },
    {
     "cell_type": "heading",
     "level": 3,
     "metadata": {},
     "source": [
      "Workflow"
     ]
    },
    {
     "cell_type": "markdown",
     "metadata": {},
     "source": [
      "Once the plugin is installed in gephi, create a new project and start the \"Master Server\" in the Streaming tab within gephi. The running server will be indicated by a green dot."
     ]
    },
    {
     "cell_type": "heading",
     "level": 3,
     "metadata": {},
     "source": [
      "Exporting graphs"
     ]
    },
    {
     "cell_type": "markdown",
     "metadata": {},
     "source": [
      "As an example, we generate a random graph..."
     ]
    },
    {
     "cell_type": "code",
     "collapsed": false,
     "input": [
      "G = generators.ErdosRenyiGenerator(300, 0.2).generate()"
     ],
     "language": "python",
     "metadata": {},
     "outputs": [],
     "prompt_number": 2
    },
    {
     "cell_type": "markdown",
     "metadata": {},
     "source": [
      "... and export it directly export it into the active gephi workspace. After executing the following code, the graph should be available in the first gephi workspace. Attention: Any graph currently contained in that workspace will be overriden."
     ]
    },
    {
     "cell_type": "code",
     "collapsed": false,
     "input": [
      "gephi.streaming.exportGraph(G)"
     ],
     "language": "python",
     "metadata": {},
     "outputs": [],
     "prompt_number": 9
    },
    {
     "cell_type": "heading",
     "level": 3,
     "metadata": {},
     "source": [
      "Exporting node values"
     ]
    },
    {
     "cell_type": "markdown",
     "metadata": {},
     "source": [
      "We now apply a community detection algorithm to the generated random graph and export the community as a node attribute to gephi. Any python list or Partition object can be exported. Please note that only the attribute itself is transfered, so make sure you called exportGraph(graph) first."
     ]
    },
    {
     "cell_type": "code",
     "collapsed": false,
     "input": [
      "communities = community.detectCommunities(G)"
     ],
     "language": "python",
     "metadata": {},
     "outputs": [
      {
       "output_type": "stream",
       "stream": "stdout",
       "text": [
        "PLM(balanced,) detected communities in 0.05586504936218262 [s]\n",
        "solution properties:\n",
        "-------------------  ----------\n",
        "# communities         4\n",
        "min community size   63\n",
        "max community size   91\n",
        "avg. community size  75\n",
        "modularity            0.0880338\n",
        "-------------------  ----------\n"
       ]
      }
     ],
     "prompt_number": 10
    },
    {
     "cell_type": "code",
     "collapsed": false,
     "input": [
      "gephi.streaming.exportNodeValues(G, communities, \"community\")"
     ],
     "language": "python",
     "metadata": {},
     "outputs": [],
     "prompt_number": 11
    },
    {
     "cell_type": "markdown",
     "metadata": {},
     "source": [
      "The node attribute \"community\" can now be selected and used in gephi, for partitioning or any other desired scenario."
     ]
    }
   ],
   "metadata": {}
  }
 ]
}
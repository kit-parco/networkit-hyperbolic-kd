{
 "metadata": {
  "name": "",
  "signature": "sha256:67b1fe53b3ae73f05040a8941f737a1aad017e1ec2405510d9202a14e1d87d52"
 },
 "nbformat": 3,
 "nbformat_minor": 0,
 "worksheets": [
  {
   "cells": [
    {
     "cell_type": "code",
     "collapsed": false,
     "input": [
      "from networkit import *\n",
      "from matplotlib import pyplot as plt\n",
      "import time\n",
      "from IPython.display import clear_output"
     ],
     "language": "python",
     "metadata": {},
     "outputs": [],
     "prompt_number": 231
    },
    {
     "cell_type": "code",
     "collapsed": false,
     "input": [
      "#Configuration\n",
      "ego = 708\n",
      "sparsificationAlgorithm = sparsification.LocalDegreeBackbone()"
     ],
     "language": "python",
     "metadata": {},
     "outputs": [],
     "prompt_number": 289
    },
    {
     "cell_type": "code",
     "collapsed": false,
     "input": [
      "#Utility functions\n",
      "def showHideEdges(_graph, _visibleAttributeCurrent, _visibleAttributeTarget):\n",
      "    added = 0\n",
      "    removed = 0\n",
      "    for (x,y) in _graph.edges():\n",
      "        edgeId = _graph.edgeId(x,y)\n",
      "        if _visibleAttributeTarget[edgeId] > _visibleAttributeCurrent[edgeId]:\n",
      "            client.exportAdditionalEdge(x,y)\n",
      "            added = added + 1\n",
      "        elif _visibleAttributeTarget[edgeId] < _visibleAttributeCurrent[edgeId]:\n",
      "            client.removeExportedEdge(x,y)\n",
      "            removed = removed + 1\n",
      "        _visibleAttributeCurrent[edgeId] = _visibleAttributeTarget[edgeId]\n",
      "    #print(added, \" added, \", removed, \" removed\")"
     ],
     "language": "python",
     "metadata": {},
     "outputs": [],
     "prompt_number": 264
    },
    {
     "cell_type": "code",
     "collapsed": false,
     "input": [
      "#Preparations\n",
      "client = gephi.streaming.GephiStreamingClient()\n",
      "G = readGraph(\"/home/gerd/workspace/NetworKit-glindner/scripts/SparsificationEvaluation/input/Caltech36.graphml\", Format.GraphML)\n",
      "G.indexEdges()\n",
      "\n",
      "G_empty = Graph(G.upperNodeIdBound() + 1)\n",
      "client.exportGraph(G)"
     ],
     "language": "python",
     "metadata": {},
     "outputs": [],
     "prompt_number": 252
    },
    {
     "cell_type": "code",
     "collapsed": false,
     "input": [
      "sparsificationAttribute = sparsificationAlgorithm.getAttribute(G)\n",
      "labels = [n for n in G.nodes()]\n",
      "client.exportNodeValues(G, labels, 'Label')\n",
      "visibleAttributeCurrent = [1 for e in G.edges()]\n",
      "triangleCounter = sparsification.ChibaNishizekiTriangleCounter(G)\n",
      "triangles = triangleCounter.getAttribute()"
     ],
     "language": "python",
     "metadata": {},
     "outputs": [],
     "prompt_number": 253
    },
    {
     "cell_type": "code",
     "collapsed": false,
     "input": [
      "def getEgoTriangleAttribute(originalGraph, sparsifiedGraph, ego):\n",
      "    _triangleAttribute = [0 for x in G.edges()]\n",
      "    for v in originalGraph.neighbors(ego):\n",
      "        for u in originalGraph.neighbors(v):\n",
      "            if sparsifiedGraph.hasEdge(u, ego):\n",
      "                _triangleAttribute[originalGraph.edgeId(ego, v)] = 1\n",
      "                _triangleAttribute[originalGraph.edgeId(u, v)] = 1\n",
      "                _triangleAttribute[originalGraph.edgeId(ego, u)] = 1\n",
      "    return _triangleAttribute"
     ],
     "language": "python",
     "metadata": {},
     "outputs": [],
     "prompt_number": 254
    },
    {
     "cell_type": "code",
     "collapsed": false,
     "input": [
      "def highlightEgoTriangleEdges(originalGraph, sparsifiedGraph, ego, _visibleAttributeCurrent):\n",
      "    egoTriangleAttribute = getEgoTriangleAttribute(originalGraph, sparsifiedGraph, ego)\n",
      "    showHideEdges(originalGraph, _visibleAttributeCurrent, egoTriangleAttribute)"
     ],
     "language": "python",
     "metadata": {},
     "outputs": [],
     "prompt_number": 255
    },
    {
     "cell_type": "code",
     "collapsed": false,
     "input": [
      "def highlightHubNodes(originalGraph, sparsifiedGraph, ego):\n",
      "    ccs = properties.ClusteringCoefficient.exactLocal(sparsifiedGraph)\n",
      "    label = list(map(lambda x: (str(x) + \"{:10.2f}\".format(ccs[x])) if ccs[x] > 0.1 else \"\", originalGraph.nodes()))\n",
      "    size = list(map(lambda x: originalGraph.degree(x) * 0.1, originalGraph.nodes()))\n",
      "    client.exportNodeValues(originalGraph, label, 'Label')\n",
      "    client.exportNodeValues(originalGraph, size, 'size')\n",
      "    print(\"Ego has a local CC of \", ccs[ego])\n",
      "    \n",
      "    r = [0] * G.numberOfNodes()\n",
      "    g = [0] * G.numberOfNodes()\n",
      "    b = [0] * G.numberOfNodes()\n",
      "    b[ego] = 1.0\n",
      "    client.exportNodeValues(G, r, 'r')\n",
      "    client.exportNodeValues(G, g, 'g')\n",
      "    client.exportNodeValues(G, b, 'b')"
     ],
     "language": "python",
     "metadata": {},
     "outputs": [],
     "prompt_number": 274
    },
    {
     "cell_type": "code",
     "collapsed": false,
     "input": [
      "def setRatio(originalGraph, ego, ratio, _visibleAttributeCurrent):\n",
      "    S = sparsificationAlgorithm.getSparsifiedGraphOfSize(originalGraph, ratio, sparsificationAttribute)\n",
      "    \n",
      "    highlightHubNodes(originalGraph, S, ego)\n",
      "    highlightEgoTriangleEdges(originalGraph, S, ego, _visibleAttributeCurrent)\n",
      "        \n",
      "    print('avg cc original: ', properties.ClusteringCoefficient.avgLocal(originalGraph))\n",
      "    print('avg cc sparsified: ', properties.ClusteringCoefficient.avgLocal(S))"
     ],
     "language": "python",
     "metadata": {},
     "outputs": [],
     "prompt_number": 257
    },
    {
     "cell_type": "code",
     "collapsed": false,
     "input": [
      "setRatio(G, ego, 1.0, visibleAttributeCurrent)"
     ],
     "language": "python",
     "metadata": {},
     "outputs": [
      {
       "output_type": "stream",
       "stream": "stdout",
       "text": [
        "Ego has a local CC of  0.6183908045977011\n",
        "avg cc original: "
       ]
      },
      {
       "output_type": "stream",
       "stream": "stdout",
       "text": [
        " 0.42881115297424743\n",
        "avg cc sparsified:  0.41519731418513833\n"
       ]
      }
     ],
     "prompt_number": 288
    },
    {
     "cell_type": "heading",
     "level": 5,
     "metadata": {},
     "source": [
      "Some visualizations... "
     ]
    },
    {
     "cell_type": "code",
     "collapsed": false,
     "input": [
      "#plot development of cc of ego\n",
      "print(\"Local CC of ego (\",ego,\"):\")\n",
      "ratios = np.linspace(1.0, 0.0, 10)\n",
      "egoccs = [properties.ClusteringCoefficient.exactLocal(sparsificationAlgorithm.getSparsifiedGraphOfSize(G, e, sparsificationAttribute))[ego] for e in ratios]\n",
      "plt.gca().invert_xaxis()\n",
      "plt.plot(ratios, egoccs)"
     ],
     "language": "python",
     "metadata": {},
     "outputs": [
      {
       "output_type": "stream",
       "stream": "stdout",
       "text": [
        "Local CC of ego ( 708 ):\n"
       ]
      },
      {
       "metadata": {},
       "output_type": "pyout",
       "prompt_number": 290,
       "text": [
        "[<matplotlib.lines.Line2D at 0x7fc4a6baddd8>]"
       ]
      },
      {
       "metadata": {},
       "output_type": "display_data",
       "png": "[encoded data removed]",
       "text": [
        "<matplotlib.figure.Figure at 0x7fc4a6bb5128>"
       ]
      }
     ],
     "prompt_number": 290
    },
    {
     "cell_type": "code",
     "collapsed": false,
     "input": [
      "ratios = [1.0, 0.9, 0.8, 0.7, 0.6, 0.5, 0.4, 0.3, 0.2, 0.1, 0.05, 0.04, 0.03, 0.02, 0.01]\n",
      "for ratio in ratios:\n",
      "    clear_output()\n",
      "    print(ratio, \":\")\n",
      "    setRatio(G, ego, ratio, visibleAttributeCurrent)\n",
      "    sys.stdout.flush()\n",
      "    time.sleep(1)"
     ],
     "language": "python",
     "metadata": {},
     "outputs": [
      {
       "output_type": "stream",
       "stream": "stdout",
       "text": [
        "0.01 :\n",
        "Ego has a local CC of "
       ]
      },
      {
       "output_type": "stream",
       "stream": "stdout",
       "text": [
        " 0.0\n",
        "avg cc original: "
       ]
      },
      {
       "output_type": "stream",
       "stream": "stdout",
       "text": [
        " 0.42881115297424743\n",
        "avg cc sparsified:  0.0\n"
       ]
      }
     ],
     "prompt_number": 291
    },
    {
     "cell_type": "heading",
     "level": 5,
     "metadata": {},
     "source": [
      "Old stuff..."
     ]
    },
    {
     "cell_type": "code",
     "collapsed": false,
     "input": [],
     "language": "python",
     "metadata": {},
     "outputs": [],
     "prompt_number": 114
    },
    {
     "cell_type": "code",
     "collapsed": false,
     "input": [
      "G = readGraph(\"/home/gerd/workspace/NetworKit-glindner/scripts/SparsificationEvaluation/input/us-aviation-t100-2013.graphml\", Format.GraphML)\n",
      "G.indexEdges()"
     ],
     "language": "python",
     "metadata": {},
     "outputs": [
      {
       "output_type": "stream",
       "stream": "stdout",
       "text": [
        "identified graph as weighted\n"
       ]
      }
     ],
     "prompt_number": 2
    },
    {
     "cell_type": "code",
     "collapsed": false,
     "input": [
      "gc = gephi.streaming.GephiStreamingClient()\n",
      "gc.exportGraph(G)"
     ],
     "language": "python",
     "metadata": {},
     "outputs": [],
     "prompt_number": 20
    },
    {
     "cell_type": "code",
     "collapsed": false,
     "input": [
      "sparsificationAlgorithm = sparsification.LocalDegreeBackbone()"
     ],
     "language": "python",
     "metadata": {},
     "outputs": [],
     "prompt_number": 21
    },
    {
     "cell_type": "code",
     "collapsed": false,
     "input": [
      "ldAttribute = sparsificationAlgorithm.getAttribute(G)"
     ],
     "language": "python",
     "metadata": {},
     "outputs": [],
     "prompt_number": 22
    },
    {
     "cell_type": "code",
     "collapsed": false,
     "input": [
      "gc.exportEdgeValues(G, ldAttribute, 'lda')"
     ],
     "language": "python",
     "metadata": {},
     "outputs": [],
     "prompt_number": 23
    },
    {
     "cell_type": "markdown",
     "metadata": {},
     "source": [
      "Let's consider the first n edges that get removed from the graph during sparsification."
     ]
    },
    {
     "cell_type": "code",
     "collapsed": false,
     "input": [
      "def exportNodeColors(colors):\n",
      "    gc.exportNodeValues(G, list(map(lambda c: c[0], colors)), 'r')\n",
      "    gc.exportNodeValues(G, list(map(lambda c: c[1], colors)), 'g')\n",
      "    gc.exportNodeValues(G, list(map(lambda c: c[2], colors)), 'b')"
     ],
     "language": "python",
     "metadata": {},
     "outputs": [],
     "prompt_number": 24
    },
    {
     "cell_type": "code",
     "collapsed": false,
     "input": [
      "def normalizeVector(inputVector):\n",
      "    return [v/max(inputVector) for v in inputVector]"
     ],
     "language": "python",
     "metadata": {},
     "outputs": [],
     "prompt_number": 25
    },
    {
     "cell_type": "code",
     "collapsed": false,
     "input": [
      "colors = [(0,0,0)] * G.upperNodeIdBound()\n",
      "ldRank = sparsification.getRankAttribute(ldAttribute, False)\n",
      "for (a,b) in G.edges():\n",
      "    edgeId = G.edgeId(a, b)\n",
      "    if ldRank[edgeId] < 10:\n",
      "        colors[a] = (1.0,0,0)\n",
      "        colors[b] = (1.0,0,0)\n",
      "exportNodeColors(colors)\n",
      "gc.exportNodeValues(G, [5] * G.upperNodeIdBound(), 'size')"
     ],
     "language": "python",
     "metadata": {},
     "outputs": [],
     "prompt_number": 26
    },
    {
     "cell_type": "code",
     "collapsed": false,
     "input": [
      "exactLocals = normalizeVector(properties.ClusteringCoefficient.exactLocal(G))\n",
      "#print(exactLocals)\n",
      "exportNodeColors([(c,0.0,0.0) for c in exactLocals])"
     ],
     "language": "python",
     "metadata": {},
     "outputs": [],
     "prompt_number": 28
    },
    {
     "cell_type": "code",
     "collapsed": false,
     "input": [],
     "language": "python",
     "metadata": {},
     "outputs": []
    }
   ],
   "metadata": {}
  }
 ]
}
{
 "metadata": {
  "name": "",
  "signature": "sha256:6b7953edd7147bf9b5c0476273500369f6af7c9e7023ce9ffbcb2fa1d8d995d7"
 },
 "nbformat": 3,
 "nbformat_minor": 0,
 "worksheets": [
  {
   "cells": [
    {
     "cell_type": "heading",
     "level": 1,
     "metadata": {},
     "source": [
      "NetworKit User Guide"
     ]
    },
    {
     "cell_type": "heading",
     "level": 2,
     "metadata": {},
     "source": [
      "About NetworKit"
     ]
    },
    {
     "cell_type": "markdown",
     "metadata": {},
     "source": [
      "[NetworKit][networkit] is an open-source toolkit for high-performance\n",
      "network analysis. Its aim is to provide tools for the analysis of large\n",
      "networks in the size range from thousands to billions of edges. For this\n",
      "purpose, it implements efficient graph algorithms, many of them parallel to\n",
      "utilize multicore architectures. These are meant to compute standard measures\n",
      "of network analysis, such as degree sequences, clustering coefficients and\n",
      "centrality. In this respect, NetworKit is comparable\n",
      "to packages such as [NetworkX][networkx], albeit with a focus on parallelism \n",
      "and scalability. NetworKit is also a testbed for algorithm engineering and\n",
      "contains a few novel algorithms from recently published research, especially\n",
      "in the area of community detection.\n",
      "\n",
      "[networkit]: http://parco.iti.kit.edu/software/networkit.shtml \n",
      "[networkx]: http://networkx.github.com/\n",
      "\n"
     ]
    },
    {
     "cell_type": "heading",
     "level": 2,
     "metadata": {},
     "source": [
      "Introduction"
     ]
    },
    {
     "cell_type": "markdown",
     "metadata": {},
     "source": [
      "This notebook provides an interactive introduction to the features of NetworKit, consisting of text and executable code. We assume that you have read the Readme and successfully built the core library and the Python module. Code cells can be run one by one (e.g. by selecting the cell and pressing `shift+enter`), or all at once (via the `Cell->Run All` command). Try running all cells now to verify that NetworKit has been properly built and installed.\n"
     ]
    },
    {
     "cell_type": "heading",
     "level": 2,
     "metadata": {},
     "source": [
      "Preparation"
     ]
    },
    {
     "cell_type": "markdown",
     "metadata": {},
     "source": [
      "NetworKit is a hybrid built from C++ and Python code: Its core functionality is implemented in C++ for performance reasons, and then wrapped for Python using the Cython toolchain. This allows us to expose high-performance parallel code as a normal Python module. On the surface, NetworKit is just that and can be imported accordingly:"
     ]
    },
    {
     "cell_type": "code",
     "collapsed": false,
     "input": [
      "from networkit import * "
     ],
     "language": "python",
     "metadata": {},
     "outputs": [],
     "prompt_number": 1
    },
    {
     "cell_type": "markdown",
     "metadata": {},
     "source": [
      "IPython lets us use familiar shell commands in a Python interpreter. Use one of them now to change into the directory of your NetworKit download:"
     ]
    },
    {
     "cell_type": "code",
     "collapsed": false,
     "input": [
      "cd ../../"
     ],
     "language": "python",
     "metadata": {},
     "outputs": [
      {
       "output_type": "stream",
       "stream": "stdout",
       "text": [
        "/home/mv/workspace/NetworKit\n"
       ]
      }
     ],
     "prompt_number": 2
    },
    {
     "cell_type": "heading",
     "level": 2,
     "metadata": {},
     "source": [
      "Reading and Writing Graphs"
     ]
    },
    {
     "cell_type": "markdown",
     "metadata": {},
     "source": [
      "Let us start by reading a network from a file on disk: [PGPgiantcompo.graph](http://www.cc.gatech.edu/dimacs10/archive/data/clustering/PGPgiantcompo.graph.bz2). In the course of this tutorial, we are going to work on the `PGPgiantcompo` network, a social network/web of trust in which nodes are PGP keys and an edge represents a signature from one key on another. It is distributed with NetworKit as a good starting point.\n",
      "\n",
      "There is a convenient function in the top namespace which tries to guess the input format and select the appropriate reader:"
     ]
    },
    {
     "cell_type": "code",
     "collapsed": false,
     "input": [
      "G = readGraph(\"input/PGPgiantcompo.graph\")\n",
      "# is the same as: G = readGraph(\"input/PGPgiantcompo.graph\", Format.METIS)"
     ],
     "language": "python",
     "metadata": {},
     "outputs": [],
     "prompt_number": 3
    },
    {
     "cell_type": "markdown",
     "metadata": {},
     "source": [
      "There is a large variety of formats for storing graph data in files. For NetworKit, the currently best supported format is the [METIS adjacency format](http://people.sc.fsu.edu/~jburkardt/data/metis_graph/metis_graph.html). Various example graphs in this format can be found [here](http://www.cc.gatech.edu/dimacs10/downloads.shtml).  The `readGraph` function tries to be an intelligent wrapper for various reader classes. In this example, it uses the `METISGraphReader` which is located in the `graphio` submodule, alongside other readers. These classes can also be used explicitly:"
     ]
    },
    {
     "cell_type": "code",
     "collapsed": false,
     "input": [
      "graphio.METISGraphReader().read(\"input/PGPgiantcompo.graph\")\n",
      "# is the same as: readGraph(\"input/PGPgiantcompo.graph\", Format.METIS)"
     ],
     "language": "python",
     "metadata": {},
     "outputs": [
      {
       "metadata": {},
       "output_type": "pyout",
       "prompt_number": 4,
       "text": [
        "<_NetworKit.Graph at 0x7fe9ce8dfc10>"
       ]
      }
     ],
     "prompt_number": 4
    },
    {
     "cell_type": "markdown",
     "metadata": {},
     "source": [
      "It is also possible to specify the format for `readGraph()` and `writeGraph()`. Supported formats can be found via `[graphio.]Format`. However, graph formats are most likely only supported as far as the NetworKit::Graph can hold and use the data. Please note, that not all graph formats are supported for reading and writing.\n",
      "\n",
      "Thus, it is possible to use NetworKit to convert graphs between formats. Let's say I need the previously read PGP graph in the Graphviz format:"
     ]
    },
    {
     "cell_type": "code",
     "collapsed": false,
     "input": [
      "graphio.writeGraph(G,\"output/PGPgiantcompo.graphviz\",Format.GraphViz)"
     ],
     "language": "python",
     "metadata": {},
     "outputs": [],
     "prompt_number": 5
    },
    {
     "cell_type": "markdown",
     "metadata": {},
     "source": [
      "NetworKit also provides a function to convert graphs directly:"
     ]
    },
    {
     "cell_type": "code",
     "collapsed": false,
     "input": [
      "graphio.convertGraph(Format.LFR, Format.GML, \"input/example.edgelist\", \"output/example.gml\")"
     ],
     "language": "python",
     "metadata": {},
     "outputs": [
      {
       "output_type": "stream",
       "stream": "stdout",
       "text": [
        "converted input/example.edgelist to output/example.gml\n"
       ]
      }
     ],
     "prompt_number": 6
    },
    {
     "cell_type": "heading",
     "level": 2,
     "metadata": {},
     "source": [
      "The Graph Object"
     ]
    },
    {
     "cell_type": "markdown",
     "metadata": {},
     "source": [
      "`Graph` is the central class of NetworKit. An object of this type represents an undirected, optionally weighted network. Let us inspect several of the methods which the class provides."
     ]
    },
    {
     "cell_type": "code",
     "collapsed": false,
     "input": [
      "n = G.numberOfNodes()\n",
      "m = G.numberOfEdges()\n",
      "print(n, m)"
     ],
     "language": "python",
     "metadata": {},
     "outputs": [
      {
       "output_type": "stream",
       "stream": "stdout",
       "text": [
        "10680 24316\n"
       ]
      }
     ],
     "prompt_number": 7
    },
    {
     "cell_type": "code",
     "collapsed": false,
     "input": [
      "G.toString()"
     ],
     "language": "python",
     "metadata": {},
     "outputs": [
      {
       "metadata": {},
       "output_type": "pyout",
       "prompt_number": 8,
       "text": [
        "b'Graph(name=PGPgiantcompo, n=10680, m=24316)'"
       ]
      }
     ],
     "prompt_number": 8
    },
    {
     "cell_type": "markdown",
     "metadata": {},
     "source": [
      "Nodes are simply integer indices, and edges are pairs of such indices."
     ]
    },
    {
     "cell_type": "code",
     "collapsed": false,
     "input": [
      "V = G.nodes()\n",
      "print(V[:10])\n",
      "E = G.edges()\n",
      "print(E[:10])"
     ],
     "language": "python",
     "metadata": {},
     "outputs": [
      {
       "output_type": "stream",
       "stream": "stdout",
       "text": [
        "[0, 1, 2, 3, 4, 5, 6, 7, 8, 9]\n",
        "[(42, 11), (101, 28), (111, 92), (128, 87), (141, 0), (165, 125), (169, 111), (176, 143), (187, 38), (192, 105)]\n"
       ]
      }
     ],
     "prompt_number": 9
    },
    {
     "cell_type": "code",
     "collapsed": false,
     "input": [
      "G.hasEdge(42,11)"
     ],
     "language": "python",
     "metadata": {},
     "outputs": [
      {
       "metadata": {},
       "output_type": "pyout",
       "prompt_number": 10,
       "text": [
        "True"
       ]
      }
     ],
     "prompt_number": 10
    },
    {
     "cell_type": "markdown",
     "metadata": {},
     "source": [
      "This network is unweighted, meaning that each edge has the default weight of 1."
     ]
    },
    {
     "cell_type": "code",
     "collapsed": false,
     "input": [
      "G.weight(42,11)"
     ],
     "language": "python",
     "metadata": {},
     "outputs": [
      {
       "metadata": {},
       "output_type": "pyout",
       "prompt_number": 11,
       "text": [
        "1.0"
       ]
      }
     ],
     "prompt_number": 11
    },
    {
     "cell_type": "heading",
     "level": 2,
     "metadata": {},
     "source": [
      "Drawing Graphs"
     ]
    },
    {
     "cell_type": "heading",
     "level": 2,
     "metadata": {},
     "source": [
      "Network Properties Overview"
     ]
    },
    {
     "cell_type": "markdown",
     "metadata": {},
     "source": [
      "We now demonstrate the `properties` module, which contains tools that will give you an overview of standard properties of a network.\n",
      "\n",
      "For a quick overview of the most frequently used properties, call the following function:"
     ]
    },
    {
     "cell_type": "code",
     "collapsed": false,
     "input": [
      "properties.overview(G)"
     ],
     "language": "python",
     "metadata": {},
     "outputs": [
      {
       "output_type": "stream",
       "stream": "stdout",
       "text": [
        "Value 0 in data. Throwing out 0 values\n",
        "Calculating best minimal value for power law fit\n",
        "Value 0 in data. Throwing out 0 values\n",
        "Calculating best minimal value for power law fit\n",
        "<_NetworKit.PLM object at 0x7fe9db7c8d30>\n",
       ]
      },
      {
       "output_type": "stream",
       "stream": "stdout",
       "text": [
        "\n",
        "\n"
       ]
      },
      {
       "output_type": "stream",
       "stream": "stdout",
       "text": [
        "Network Properties: PGPgiantcompo\n",
        "==================\n",
        "Basic Properties\n",
        "-----------------------------  ------------\n",
        "nodes (n)                      10680\n",
        "edges (m)                      24316\n",
        "directed?                          0\n",
        "isolated nodes                     0\n",
        "self-loops                         0\n",
        "density                            0.000426\n",
        "clustering coefficient             0.44389\n",
        "degeneracy (max. core number)     31\n",
        "-----------------------------  ------------\n",
        "Node Degree Properties\n",
        "-------------------------  --------------\n",
        "min. degree                1\n",
        "max. degree                205\n",
        "avg. degree                4.553558\n",
        "degree power law fit?      True, 2.101144\n",
        "degree power law exponent  1.6997\n",
        "degree assortativity       0.2382\n",
        "-------------------------  --------------\n",
        "Path Structure\n",
        "-------------------------  --------\n",
        "connected components       1\n",
        "size of largest component  10680\n",
        "estimated diameter range   (24, 24)\n",
        "-------------------------  --------\n",
        "Community Structure\n",
        "-------------------------------------------  -----------  --------\n",
        "modularity-driven community detection (PLM)\n",
        "                                             communities  102\n",
        "                                             modularity   0.883198\n",
        "-------------------------------------------  -----------  --------\n",
        "Degree Distribution\n",
        "-------------------\n",
        "0-   :  \u2587\u2587\u2587\u2587\u2587\u2587\u2587\u2587\u2587\u2587\u2587\u2587\u2587\u2587\u2587\u2587\u2587\u2587\u2587\u2587\u2587\u2587\u2587\u2587\u2587\u2587\u2587\u2587\u2587\u2587\u2587\u2587\u2587\u2587\u2587\u2587\u2587\u2587\u2587\u2587\u2587\u2587\u2587\u2587\u2587\u2587\u2587\u2587\u2587\u25879394.00\n",
        "9-   :  \u2587\u2587\u2587\u2587 781.00\n",
        "18-  :  \u2587 240.00\n",
        "27-  :  | 101.00\n",
        "36-  :  |  91.00\n",
        "45-  :  |  28.00\n",
        "54-  :  |  17.00\n",
        "63-  :  |  12.00\n",
        "72-  :  |   5.00\n",
        "81-  :  |   3.00\n",
        "90-  :  |   2.00\n",
        "99-  :  |   1.00\n",
        "108- :  |   2.00\n",
        "117- :  |   0.00\n",
        "126- :  |   1.00\n",
        "135- :  |   0.00\n",
        "144- :  |   0.00\n",
        "153- :  |   0.00\n",
        "162- :  |   1.00\n",
        "171- :  |   0.00\n",
        "180- :  |   0.00\n",
        "189- :  |   0.00\n",
        "198- :  |   1.00\n",
        "207- :  |   0.00\n",
        "216- :  |   0.00\n",
        "\n"
       ]
      }
     ],
     "prompt_number": 12
    },
    {
     "cell_type": "markdown",
     "metadata": {},
     "source": [
      "Some values are missing because it was decided that calculation would take too long for this particular graph. We are working on adding efficient algorithms so that even large networks can be profiled in seconds."
     ]
    },
    {
     "cell_type": "heading",
     "level": 2,
     "metadata": {},
     "source": [
      "Connected Components"
     ]
    },
    {
     "cell_type": "markdown",
     "metadata": {},
     "source": [
      "A connected component is a set of nodes in which each pair of nodes is connected by a path. The following function determines the connected components of a graph and returns the number of components as well as a map from component index to component size:"
     ]
    },
    {
     "cell_type": "code",
     "collapsed": false,
     "input": [
      "properties.components(G)"
     ],
     "language": "python",
     "metadata": {},
     "outputs": [
      {
       "metadata": {},
       "output_type": "pyout",
       "prompt_number": 13,
       "text": [
        "(1, {0: 10680})"
       ]
      }
     ],
     "prompt_number": 13
    },
    {
     "cell_type": "markdown",
     "metadata": {},
     "source": [
      "For more fine-grained access, one can use the connected component algorithm class directly, i.e. the wrapper around the underlying C++ implementation. This is a recurring pattern throughout NetworKit."
     ]
    },
    {
     "cell_type": "code",
     "collapsed": false,
     "input": [
      "cc = properties.ConnectedComponents(G)\n",
      "cc.run()\n",
      "print(\"number of components \", cc.numberOfComponents())\n",
      "v = 0\n",
      "print(\"component of node \", v , \": \" , cc.componentOfNode(0))\n",
      "#print(\"map of component sizes: \", cc.getComponentSizes())"
     ],
     "language": "python",
     "metadata": {},
     "outputs": [
      {
       "output_type": "stream",
       "stream": "stdout",
       "text": [
        "number of components  1\n",
        "component of node  0 :  0\n"
       ]
      }
     ],
     "prompt_number": 14
    },
    {
     "cell_type": "heading",
     "level": 2,
     "metadata": {},
     "source": [
      "Degree Distribution"
     ]
    },
    {
     "cell_type": "markdown",
     "metadata": {},
     "source": [
      "Node degree, the number of edges connected to a node, is one of the most studied properties of networks. Types of networks are often characterized in terms of their distribution of node degrees. We obtain and visualize the degree distribution of our example network as follows.  "
     ]
    },
    {
     "cell_type": "code",
     "collapsed": false,
     "input": [
      "dd = properties.degreeDistribution(G)\n",
      "xscale(\"log\")\n",
      "xlabel(\"degree\")\n",
      "yscale(\"log\")\n",
      "ylabel(\"number of nodes\")\n",
      "plot(dd)"
     ],
     "language": "python",
     "metadata": {},
     "outputs": [
      {
       "metadata": {},
       "output_type": "pyout",
       "prompt_number": 15,
       "text": [
        "[<matplotlib.lines.Line2D at 0x7fe9cc0b6f98>]"
       ]
      },
      {
       "metadata": {},
       "output_type": "display_data",
       "png": "iVBORw0KGgoAAAANSUhEUgAAAYwAAAEYCAYAAABPzsEfAAAABHNCSVQICAgIfAhkiAAAAAlwSFlz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\n",
       "text": [
        "<matplotlib.figure.Figure at 0x7fe9cded3828>"
       ]
      }
     ],
     "prompt_number": 15
    },
    {
     "cell_type": "markdown",
     "metadata": {},
     "source": [
      "We choose a logarithmic scale on both axes because a *powerlaw degree distribution*, a characteristic feature of complex networks, would show up as a straight line from the top left to the bottom right on such a plot. As we see, the degree distribution of the `PGPgiantcompo` network is definitely skewed, with few high-degree nodes and many low-degree nodes. But does the distribution actually obey a power law? In order to study this, we need to apply the `powerlaw` module."
     ]
    },
    {
     "cell_type": "code",
     "collapsed": false,
     "input": [
      "fit = properties.powerlaw.Fit(dd)"
     ],
     "language": "python",
     "metadata": {},
     "outputs": [
      {
       "output_type": "stream",
       "stream": "stdout",
       "text": [
        "Value 0 in data. Throwing out 0 values\n",
        "Calculating best minimal value for power law fit\n"
       ]
      }
     ],
     "prompt_number": 16
    },
    {
     "cell_type": "markdown",
     "metadata": {},
     "source": [
      "We use the `powerlaw` module to test whether a powerlaw is a better fit to the degree distribution than other candidate distributions. From the documentation of the module:\n",
      "\n",
      "> \"`R` is the loglikelihood ratio between the two candidate distributions. This number will be positive\n",
      "if the data is more likely in the first distribution, and negative if the data is more likely in the second\n",
      "distribution. The exponential distribution is the absolute minimum alternative candidate for evaluating the heavy- tailedness of the distribution. The reason is definitional: the typical quantitative definition of a \u201dheavy- tail\u201d is that it is not exponentially bounded. Thus if a power law is not a better fit than an exponential distribution (as in the above example) there is scarce ground for considering the distribution to be heavy-tailed at all, let alone a power law.\""
     ]
    },
    {
     "cell_type": "code",
     "collapsed": false,
     "input": [
      "R, p = fit.distribution_compare(\"power_law\", \"exponential\", normalized_ratio=True)\n",
      "print(R, p)"
     ],
     "language": "python",
     "metadata": {},
     "outputs": [
      {
       "output_type": "stream",
       "stream": "stdout",
       "text": [
        "2.10114439172 0.0356282930896\n"
       ]
      }
     ],
     "prompt_number": 17
    },
    {
     "cell_type": "markdown",
     "metadata": {},
     "source": [
      "Supposing that a powerlaw is a good fit for the degree distribution, a characteristic attribute of the network is the exponent of the distribution:"
     ]
    },
    {
     "cell_type": "code",
     "collapsed": false,
     "input": [
      "properties.powerLawExponent(G)"
     ],
     "language": "python",
     "metadata": {},
     "outputs": [
      {
       "output_type": "stream",
       "stream": "stdout",
       "text": [
        "Value 0 in data. Throwing out 0 values\n",
        "Calculating best minimal value for power law fit\n"
       ]
      },
      {
       "metadata": {},
       "output_type": "pyout",
       "prompt_number": 18,
       "text": [
        "1.6996685513645837"
       ]
      }
     ],
     "prompt_number": 18
    },
    {
     "cell_type": "heading",
     "level": 2,
     "metadata": {},
     "source": [
      "Transitivity / Clustering Coefficients "
     ]
    },
    {
     "cell_type": "markdown",
     "metadata": {},
     "source": [
      "In the most general sense, transitivity measures quantify how likely it is that the relations out of which the network is built are transitive. The clustering coefficient is the most prominent of such measures. We need to distinguish between global and local clustering coefficient: The global clustering coefficient for a network gives the fraction of closed triads. The local clustering coefficient focuses on a single node and counts how many of the possible edges between neighbors of the node exist. The average of this value over all nodes is a good indicator for the degreee of transitivity and the presence of community structures in a network, and this is what the following function returns:"
     ]
    },
    {
     "cell_type": "code",
     "collapsed": false,
     "input": [
      "properties.clustering(G)"
     ],
     "language": "python",
     "metadata": {},
     "outputs": [
      {
       "metadata": {},
       "output_type": "pyout",
       "prompt_number": 19,
       "text": [
        "0.44397637453313643"
       ]
      }
     ],
     "prompt_number": 19
    },
    {
     "cell_type": "heading",
     "level": 2,
     "metadata": {},
     "source": [
      "Search and Shortest Paths"
     ]
    },
    {
     "cell_type": "markdown",
     "metadata": {},
     "source": [
      "A simple breadth-first search from a starting node can be performed as follows:"
     ]
    },
    {
     "cell_type": "code",
     "collapsed": false,
     "input": [
      "v = 0\n",
      "bfs = graph.BFS(G, v)\n",
      "bfs.run()\n",
      "\n",
      "bfsdist = bfs.getDistances()"
     ],
     "language": "python",
     "metadata": {},
     "outputs": [],
     "prompt_number": 20
    },
    {
     "cell_type": "markdown",
     "metadata": {},
     "source": [
      "The return value is a list of distances from `v` to other nodes - indexed by node id. For example, we can now calculate the mean distance from the starting node to all other nodes:"
     ]
    },
    {
     "cell_type": "code",
     "collapsed": false,
     "input": [
      "sum(bfsdist) / len(bfsdist)"
     ],
     "language": "python",
     "metadata": {},
     "outputs": [
      {
       "metadata": {},
       "output_type": "pyout",
       "prompt_number": 21,
       "text": [
        "11.339044943820225"
       ]
      }
     ],
     "prompt_number": 21
    },
    {
     "cell_type": "markdown",
     "metadata": {},
     "source": [
      "Similarly, Dijkstra's algorithm yields shortest path distances from a starting node to all other nodes in a weighted graph. Because `PGPgiantcompo` is an unweighted graph, the result is the same here:"
     ]
    },
    {
     "cell_type": "code",
     "collapsed": false,
     "input": [
      "dijkstra = graph.Dijkstra(G, v)\n",
      "dijkstra.run()\n",
      "spdist = dijkstra.getDistances()\n",
      "sum(spdist) / len(spdist)"
     ],
     "language": "python",
     "metadata": {},
     "outputs": [
      {
       "metadata": {},
       "output_type": "pyout",
       "prompt_number": 22,
       "text": [
        "11.339044943820225"
       ]
      }
     ],
     "prompt_number": 22
    },
    {
     "cell_type": "heading",
     "level": 2,
     "metadata": {},
     "source": [
      "Core Decomposition"
     ]
    },
    {
     "cell_type": "markdown",
     "metadata": {},
     "source": [
      "A $k$-core decomposition of a graph is performed by successicely peeling away nodes with degree less than $k$. The remaining nodes form the $k$-core of the graph."
     ]
    },
    {
     "cell_type": "code",
     "collapsed": false,
     "input": [
      "K = readGraph(\"input/karate.graph\",Format.METIS)\n",
      "coreDec = properties.CoreDecomposition(K)\n",
      "coreDec.run()"
     ],
     "language": "python",
     "metadata": {},
     "outputs": [],
     "prompt_number": 23
    },
    {
     "cell_type": "markdown",
     "metadata": {},
     "source": [
      "Core decomposition assigns a core number to each node, being the maximum $k$ for which a node is contained in the $k$-core. For this small graph, core numbers have the following range:"
     ]
    },
    {
     "cell_type": "code",
     "collapsed": false,
     "input": [
      "set(coreDec.coreNumbers())"
     ],
     "language": "python",
     "metadata": {},
     "outputs": [
      {
       "metadata": {},
       "output_type": "pyout",
       "prompt_number": 24,
       "text": [
        "{1, 2, 3, 4}"
       ]
      }
     ],
     "prompt_number": 24
    },
    {
     "cell_type": "markdown",
     "metadata": {},
     "source": [
      "The $k$-shell is the set of nodes with core number $k$."
     ]
    },
    {
     "cell_type": "code",
     "collapsed": false,
     "input": [
      "coreDec.shells()"
     ],
     "language": "python",
     "metadata": {},
     "outputs": [
      {
       "metadata": {},
       "output_type": "pyout",
       "prompt_number": 25,
       "text": [
        "[set(),\n",
        " {11},\n",
        " {9, 12, 14, 15, 16, 17, 18, 20, 21, 22, 26},\n",
        " {4, 5, 6, 10, 19, 23, 24, 25, 27, 28, 29, 31},\n",
        " {0, 1, 2, 3, 7, 8, 13, 30, 32, 33}]"
       ]
      }
     ],
     "prompt_number": 25
    },
    {
     "cell_type": "markdown",
     "metadata": {},
     "source": [
      "In this drawing of the Karate club graph, node size corresponds to core number."
     ]
    },
    {
     "cell_type": "code",
     "collapsed": false,
     "input": [
      "viztasks.drawGraph(K, nodeSizes=[(k**2)*20 for k in coreDec.coreNumbers()])"
     ],
     "language": "python",
     "metadata": {},
     "outputs": [
      {
       "metadata": {},
       "output_type": "display_data",
       "png": "iVBORw0KGgoAAAANSUhEUgAAAbYAAAGoCAYAAAAq1cCbAAAABHNCSVQICAgIfAhkiAAAAAlwSFlz\nAAALEgAACxIB0t1+/AAAIABJREFUeJzsnXmcjXX7x98zZ445s5GtFIlCez2lVWVNWkSyXKSSNkml\nElKRtFAUPWlRKhVyhUJliSztRVpp0aJHqfi1MLsxc35/fO/JGLOcbWbE9X69vNI59/29v+eYua/7\n2j4XGIZhGIZhGIZhGIZhGIZhGIZhGIZhGIZhGIZhGIZhGIZhGIZhGIZhGIZhGIZhGIZhGIZhGIZh\nGIZhGIZhGIZhGIZhGIZhGIZhGIZhGIZhGIZhGIZhGIZhGIZhGIZhGIZhGIZhGIZhGIZhGIZhGIZh\nGIZhGIZhGIZhGIZhGIZhGIZhGIZhGIZhGIZhGIZhGIZhGIZhGIZhGIZhGIZhGIZhGIZhGIZhGIZh\nGIZhGIZhGIZhGIZhGIZhGIZhGIZhGIZhGIZhGIZhGIZhGIZhGIZhGIZhGIZhGIZhGIZhGIZhGIZh\nGIZhGIZhGIZhGIZhGIZhGIZhGIZhGIZhGIZhGIZhGIZhGIZhGIZhGIZhGIZhGIZhGIZhGIZhGIZh\nGIZhGIZhGIZhGIZhGIZhGIZhGIZhGIZhGIZhGIZhGIZhGIZhGIZhGIZhGIZhGIZhGIZhGIZhGIZh\nGIZhGIZhGIZhGIZhGIZhGIZhGIZhGIZhGIZhGIZhGIZhGIZhGIZhGIZhGIZhGIZhGIZhGIZhGIZh\nGIZhGIZhGIZhGIZhGIZhGIZhGIZhGIZhGIZhGIZhGIZhGIZhGLsNcVW9AcMwdnuqAz2rVat2WF5e\n3t/BYPAl4Ouq3pRhlIYZNsMwSsXn813p8/n+e8oppxQcf/zxKZs3b94+d+7cPGBZRkZGDyCzqvdo\nGIZhGCHh8/l61KxZM3PevHnBL7744p8/H3/8cfDss8/OTk1NfbOq92gYJWEem2EYJRGXkpKy4ZFH\nHql/4okn7vJmXl4e7du3z/zjjz/aACsrf3uGUTrxVb0BwzB2S45PSUmpccIJJ5T4pt/vp1evXklJ\nSUmXV/K+DKNczLAZhlEStffbb7/8uLjSgzoHHHBAfLVq1favxD0ZRkgkVPUGDMPYLdnwv//9z799\n+3YSEkq+TXzzzTd5OTk531XAtQ/3/mQBK4DsCriGsQdjHpthGCXxVX5+/g9Lliwp8c309HRmzZq1\nPTc398kYXvPotLS01dWrV1/VokWLZw8//HBNTEzcnJSUdC92rzIMwzBiwOlJSUmZjzzySPDzzz//\npypy8eLFwSOOOCIjOTk5lkbtiEAgsHXkyJEFq1ev/uda8+fPDx511FEZycnJz8XwWsYejlVFGoZR\nFq1TUlKeq169eq2jjz6av//+O2nt2rW+fffdd8oPP/xwBVAQi4ukpaUt7t+/f7tLLrlkl3tSZmYm\nHTp0yNqyZctpwKexuJ6xZ2OGzTCM8ogDWgBNe/bsef5ZZ51VPSUlJV1ELozR+vUCgcCPK1asCCQn\nJ5d4wGOPPZb/3HPPTcnKyroyRtc09mAsbm0YRnkEgXeBKV26dHk8JSUlBWihqkfEaP2G9erVyy3N\nqAEcccQRvmrVqh0ao+sZezhm2AzDCIf3gGOAx4FhMVrzrz///NNfUFB6VHPTpk3k5+f/X4yuZ+zh\nmGEzDCNkRCQL+Bj4AjhHVQ+OwbLfBYPBn995550S3wwGg0ybNi09PT19cgyuZewFmGEzDCNclgKn\nAE8AQ2OwXjA9PX3wHXfckbV+/fqd3igoKODBBx/M++233/4HLIzBtYy9ACseMQwjLFT1DGA8cDbw\nLXC0iPwS7bo+n+8Kn8/3SMuWLQtOOumklC1btjBz5syMzMzMbzMzM88GNkd7DWPvwJRHDMMIlw+B\nQ4F8YAowCLg52kXz8/Ofzs/Pn7106dJL4+Pjx8fFxaVv2rTpXOB9XAGLYYSEeWyGYYSNqi7CFZB8\nBHwJNBORmBR3qGo1nJzWdiBZRGLSK2fsPViOzTCMSFgKtBWRjcBLwI0xXDsFyAD+Akxk2QgbM2yG\nYUTCUqCt9/cHgGtUtUaM1k7BTeb+CWgUozUBkoA+aWlpmpaWNhO40ruWsYdhhs0wjEj4BGigqvuJ\nyA/AAmBAjNZOxXls64mdYTs1MTFx44knnjjx5ptv7jFo0KBup5566vjExMRfgdYxuoaxm2CGzTCM\nsBGR7biRMm28l0YDA1U1Fh5QYShyPXBQDNY7KBAIvDF+/Ph9nnnmmdRu3brRtWtXnnzyydTHHnss\nLRAIvIYrhjH2EMywGYYRKf+EI0VkLfAOLrwXLam4UOR6YuCxBQKBm3r06JF4xhln7PLeSSedRJ8+\nfRKTk5OHRHsdY/fBDJthGJFSNM8GcB9wi6omRrluTEORcXFxF3ft2tVf2vtdu3ZN2L59u0R7HWP3\nwQybYRiRsgaorqoHAYjIx95rl0a5bkyLR7Zv355cu3btUt+vVasW27dvD0R7HWP3wQybYRgR4fWX\nLWNHng3gXuBWVY1G/KHQY/sJOFBVo7pPBQKB/61Zs6bU99esWUNSUtLGaK5h7F6YYTMMIxp2CkeK\nyNvAL0A0ob0UIMMTXN4K7BfNBjMyMh584oknMkuaHhAMBnnyySdzcnJyxkdzDWP3wgybYRjRsBRo\nq6pFVYzuBW6LwtMqLB6BGOTZgsHg899+++3XQ4cOzdm8eYfc5B9//MGIESO2//rrr74RI0YsjeYa\nxu6FaUUahhEN3+F0HJviBJEB3gCygU7AnAjWLAxFwo482/tR7DE3MzOz1ccff/x0p06d5MADD9wa\nFxcX/O677xL9fv/s0aNHv7fffvvNV9X2XnWn8S/HPDbDMCJGRILsGo4M4ry224t5cqFSWDwCsWvS\nzpw4ceKX48aNe+arr77qsnbt2q7btm07IDMz8+IbbrjhMWAI8Kaq/icG1zKqGDNshmFES/Gyf4C5\nQDLQPoL1inps64lBk7ZnYC+rWbPmJNx+38RpUQIgItOA64BFqnpitNczqhYzbIZhRMsyoE3RnJpX\nMTkauD2C9QqVRyB2HtsZQA6wsrQDRGQ2rsH8dVU9LQbXNKoIM2yGYUSFiPwP+Bs4qthbM3B6kqeH\nuWRMi0c8+gLPemHSUhGRV4FLgDmq2qasY43dFzNshmHEgqXs3M9WqCd5P+F7bcWLRw6KMFcHgKqm\nAhcAU0M5XkQWAd2Bl1T17Eiva1QdZtgMw4gFJeXZAJ4DjlbV48NY65/iERHJxBm5aHrZugNvicjv\noZ4gIsuBzsDzqtopimsbVYAZNsMwYsFyoGVxxRERyQXGAbeFsVZRjw2iLyC5HHg23JNE5D3gXOBJ\nVe0exfWNSsYMm2HsXjQCugCXAb1ws8J2+35Tzxv6GTiuhLefAs5Q1cNDXK4kw9Yokn2palOgGfB6\nJOeLyCqgA/BfVb04kjWMyscMm2FUPT7gvLS0tBXJyclfnXzyyVM6dOjwSKtWrSY1btx4blJS0u9+\nv38ksH8V77M8SgxHeuHE/wLDQlynaB8bRCeGfBkwVUTyIjwfEfkMaAeMUdVYjOUxKpjd/knQMPZw\nGiYnJy+tV6/evn379k07++yzCQQCOynNf/PNN0ybNm3o/PnzhxYUFAzLy8ubUFWbLYelwLW4gpHi\nPAp8p6oHexO3y6Ikj+3IcDejqj6gDxB1AYiIrPWqJJeoaqKIPBrtmkbFYR6bYVQdTQKBwCcDBgxo\nNHfu3LQLLriAYjYNgEMPPZRRo0YF5s6dG6hbt+69SUlJJRmO3YEVQAtVrVb8DRH5G5gEDC5rAVX1\n4x64c4u8vJ7IPLYzgV9F5MsIzt0FEVkHtAIGqeotRd7az+/3D09LS/shKSnpr5SUlE1paWlLcAbV\n7rFVgH3phlE11ExKSlo+ePDgfS699FJfKCfUr1+fGTNmJFevXv26hISEfhW9wXDxjNfXwMmlHDIB\nEFU9oIxlCpX9i/abrSey4pG+RFA0UhYish5oCVw9ffr04UlJSWMTExPXn3POOcMeffTRxvPmzdvn\npZdeqnvLLbe0a9So0UtJSUk/AUfHcg9G+ZhhM4wqwO/3X9e6devaPXr0COt3sGbNmkyaNCnZ5/ON\nBXbH4Zillf0jIptx5f+Dyji/eBgSvBxbOL1sqloL5zG9GOo5oSIiP+fm5rZ64oknbj7kkEMGvvHG\nG4F777036bjjjqNevXo0bNiQCy+8kHnz5qXdeeed9QOBwHvAsbHeh1E6ZtgMo/LxJSQkDLz88ssj\nMkyHHHIIRx11FLj+rN2NUg2bx4NAX1WtU8r7xQtHEJF03LSAumHsoxewUET+KvfICLj00kvb/vTT\nT9UmT57sr1WrVonHxMXFcd5558WNGjUqJSkpaSFW01BpmGEzjMqn44EHHljtsMMOi3iBPn36pKWm\npt4awz3FineA5qqaXNKbIvIzMAsYWMr5JXlsEH6eLeZhyKKkpaXdMWTIkOSUlJRyjz3nnHPiGjZs\nmAJ0rKj9GDtjhs0wKpmUlJRuF154YVo0a7Rs2ZK8vLwmQO0YbSsmeKX9nwBliQjfD/RX1RolvLeL\nx+axnhANm6oejVMqWRLK8RHQ3O/3H3jaaaHrJF922WVpaWlpQytoP0YxzLAZRiXj9/vr1a0bTlRt\nV3w+H2lpaduAkuNgVUuZ4UgR+R5YCPQv4e2yPLZQC0j6As+JSH6Ix4dL81NPPTXO5wup5geAU089\nlW3bthUXiTYqCDNshlHJBIPB+Li4iDV9d1qK3fN3uLw8G7iRNjeWELIszbCF1KTttQv0BqaUu8vI\nCSQnJ4f1vQcCAfLz83dpgzAqht3xl8Iw9mgKCgo2/fVXdDUNwWCQjIyMahQZlrkb8QFwRCmhRgBE\nZA3wPm7+WVGiDUWeB3wjIt+FtNPI+GPjxo1hKZn8/vvvVKtWLb2iNmTsjBk2w6hk0tPTX3311Vej\nusl9+OGH+Hy+X4HNMdpWzPCEjz/A9XuVxb3A4GIN3dEWj0QkeBwmC1etWuUP5+Fk7ty5ecFgUCtw\nT0YRzLAZRuUz++uvvw7++OOPES8wffr04KmnnvppWV5RFVNuONITGF4LXFrk5dI8tnJ72VS1Hm5S\n9sywdxsefyQkJMydOXNmQSgHZ2dno6rbs7Oz/1vB+zI8zLAZRuWTGwwGn5g6deq2SE7euHEj77//\nfq6IZAM/qOqDqnpgjPcYLaHk2cB5bbcWGXdToscmIltwMltlVYFeDLwiIiV5fDGlfv36Y5977jk+\n+uijMo/Ly8tj0KBB2cCrwDcVvS/DYYbNMKqA3NzcCfPmzctcsiS8ivSsrCwGDhwYbNiw4dSrrrrq\nInYoWnymqs97pe67Ax/jJl+XWf4pIm8Bv7Kj2by0UCSUUUDieXIV2rtW5Fr17777bh04cGDe9ddf\nnzNlypTg1q1bdzomGAzyxRdf0Ldv36zVq1e/l5mZeWkpyxkVgHXCG0YVoKq/ffzxxwvuvPPOntu2\nbYs799xzyy2T/Pvvv+nXr19mTk7OR2PGjOkcFxf3rohMwYny3gNcA7yhqp8AY4HlxTQXKw0R2a6q\n7+DmyZUXGrwXGKuqSumhSNiRZ1tVwnsnAtVwDeIVhqoeheuPSz3qqKPOycrK2jRp0qTREydObN+q\nVauChg0bBnJycvJXrlzp27hx45asrKzR+fn544HtFbkvY2fMsBlGJaOq8cAjzZs3b1KvXr0z7rzz\nzjlz585N6tOnT+opp5xCfPzOgZTNmzczc+bM7VOnTs3bvn37k9nZ2bfExcUdCszzPLQhnnTUaFUd\njwvJPQFsVdUHgJcrsKerLArDkeUZtkU443Y+ZXts6ym9gKQvMKUiDbk3tuZlXKTrPBFZAZCRkdEJ\nqPfGG290xsl+5fbp0+c/HTp0+OWiiy4aW1H7MUonJs00hmGEhmfUngCOAs7xckcpcXFxF6WkpAxN\nSkqqd/rpp8fXrFkzkJOTU/Djjz9mrV69OsHn82lWVtZ44PMia9UCFOcN9PLU9YtepxMwBNgXp9E4\nxcvLVdZn/Q+gInJoCMd2BYYCvwFPi8jcEo4ZCDQRkeuLvZ4E/AIcKyIbYrL5Xa/dG5jo/W9nL4Ra\n1vHH4/5tmlWV17w3Yzk2w6gkvMGXk4HDgA6eUQPIDAaDT2VkZDTdvHlz+1deeWXwV199teS3335b\n8f777/fPzc2tl5WV1ZciRg1ARP4EzgHWAR+oarMi7xWIyBwRacGOYZvrVXWEqlaWDNfnQB1VbRDC\nsa/gvLUDCT/H1gVYWRFGTVXjVHUY8BBQAJxfnlHz+AQXGj081nsyyscMm7GnEQAuqV69+vx99tnn\nwxo1aixNSEi4jfCU4WOOZ9Sexd2Yz/EU64sTxDUtP3rjjTcu7Nev32fANGBrCccCLpclIjfgPLK3\nVbV9Cce8KyKdcfmuhsA6VX1EVRtH+bHKREQKgGVAmxCPHQ0cQvihyL7AMxFtsgy8Ss3HgSsAH9BJ\nRELK4Xle2hzggljvyygfM2zGnkJcYmLi0MTExE3Nmzd/dOjQoeeMHj36pDvvvLNNhw4d7qhWrdqG\nlJSUabjihErFu0FOBeoBHT2h4PLIIYx5ayLyFK6y8HlVvaGkfi8R+UpErgSOxBmPVar6ohc2qyhC\nLfsHNzstADQt5f31FOtlU9WGwHHALqHLaFDVFJwXeSJQA+epvRvmMnNw3qRRyZhhM/YE4pKTk5+o\nX7/+8FmzZqVNmTIlrVOnTpx++um0b9+eMWPGJC1dujSxZcuWF6akpLyPC3lVCp524QxgH9wTf1aI\np4Zl2OCf0vlTcTJVTxVT9Ch63K8iMgxojKswnKeqS1T1rHCGeYbIUqBtKOuKyHYgHaceUtL7fwP5\n7Cz83AeXx8uJwV4BUNX9gOW47/9AnFF7P4Kl3gYO3g17DPd4zLD9u6iNy8/sjoruVYbP57uqTp06\nvadNm5bSqFGjEo+pUaMG999/f6BNmzZNU1NTX6iMfXmG5SVcruWCMG++uUQwIVtE1uNGxtQB3lTV\nfcs4dquIPAgcDDyPyyN9oqq9PYMcC74B/N41QiEIHK6qx5Xy/no8lX+vQOYyYti7pqqH4sLB64Bj\ncB72B5Gs5Rnq13BFPEYlYobt38EJaWlpyxITE3+pW7fuR9WqVduYlpa2CPeLt7cTHwgERt57770p\nqallO2JxcXEMHz48kJ+ffzahj0CJCFUN4ErDg0A3Tz8xHML22Arx8ncXAiuAD1X12HKO3yYizwNH\nA7fhPL7vVHWgqkbl3Xq5pnDCkanAeG8fJVG0gKQlkIVrBo8aVT0N9529DrTDlfSXLS1SPpZnqwLM\nsO3+tElKSlpx0003tX777bcTly5dmvbWW28lDhgwoH0gEHgPOKWqN1jFtKtdu3bqsceWee/+h+Tk\nZDp37hyfmJh4bUVtyCs/n4O76YqIRCKdlQMkRroHryryDmAYsERVy831iEhQROaLSBtcvu504EdV\nvccLz0VKSIbNy0X6gUeBVqpaUkXhenYYtr7As7Eop1fVbric2iSgB3Cup2UZLW8AJ6lqzRisZYSI\nGbbdG19SUtJLEyZMSO7evTtJSUkApKSk0Lt377jRo0enJCcnv8Re3I/o8/nanHfeeanhzDc766yz\nqgUCgfMqYj/efLF5wJ/ARSIS1niTIkTssRVFRGbgWgL+q6rDQ82hichHItIdl7OrBXytqk+oammF\nHWURap4tBcj0imv+i+trK856XAFJGtAZV5QTFap6EzABN9m7H3C2iMTEC/Q+yzLg3BLeTomLi7um\nevXqa5KTkzdXr159bVxcXH+qoMBpT8MM2+7NOfXr109s0aJFiW+2a9eOmjVr1gRaVe62dh+qVatW\nKy0tLSzDnpaWRkFBQcwLSLyw3es47cNLvBxLpMTEsME/Kvon4WaVzShhuGdZ534nItcChwKbgPdU\ndbaqnhzGGutxMllHlHNoUdWRiUBHVW1U7Jj1OI+tB7BMRDaFuo/iqKpPVSfgQq/3AoNxRu2TSNcs\nhZKqI/dLTk7+/NRTTx03duzYI2bPnl1n7Nixh5966qljk5OTvwCi8ZD3esyw7d4cfcYZZ5R6E4qL\ni6NFixYJ7MW5tm3btv2xZcuWsEJRW7duxefzxVQB3vMgFgA/AH1jIGEVUfFIaYjIr7g+tlxcv1tY\nlXoisklERuCMynJAVfUtVe3oFXGURyjhyH90Ir0KyCdxyilF+QmXH41K8NgLF78E/AfXAzgC1zT/\naaRrlsFrQHvvmgCkpqbO7tWr14FPPPFESosWLWjQoAEtWrRg0qRJKb17926Qmpr6SgXsY6/BDNvu\nTe7WrVvLfOrfunVrPu7pfq8kPz//jXnz5mUGg6HbtgULFhS0a9euiarOU9WrVHX/aPbgzUR7A1gD\nXBUjXcaYeWyFeFWZfXBSTx+oatj5WRHJFJFHgCbAY8Ao4AtVvay09gKPUAxbcZ3ICUDPYv8+63EV\nlk1wDxJho6p1cELGucDTOG/tLBH5LJL1ykNE/g+nRNLOe+mIuLi44wcMGOAvKYTev39/f1xc3H9w\n/YZGBJhh2715feHChQXbtpVce5CVlcWKFSt8wPzK3dZuxVtbt279Y+XKlSEdnJGRwauvvpr3xx9/\nHI/rL2sDrFHVlap6p6oeH04vl1cUsBjXD9bfU9CIBVEVj5SGVyDyAHA1rn8tonEqnuLJDKA5MBDo\nhZsNN7iU4afLcAUhvjKW3cmweWHGF4BBRY75C9c+MTOS/KWqHgy8C7yF+725H2gvIl+Eu1aYFK2O\nbN++ffs4v7/kjgq/389ZZ50VD+yiImOEhhm23Ztv4uLi3rnvvvtyCwp2vl/m5+dz9913Bxs2bPg1\n8HPVbG+3IJidnX37bbfdlvXnn3+WeWB+fj7Dhg3L9vv9s5YvX75WRKaLyEW4fMZgoDrO2G3wCiU6\nFg0fFcfTXFyCG5VyQ4zFbmPusRVFRF7HhSZHqOrYcgxOWesERWSJiHQAOuJCez+o6gOqWr/Icb/i\nBI7/U8ZyJY2sGQtcXkTfMt77szzcvarqSbh/qwm4yd0P4Izal+GuFQFzgPNVNblZs2ZNqlWrVmaf\nYGJiYhxOxsuIADNsuzkZGRk9Fi5cuLZr164Zr7zyCqtWrWLWrFn06NEjuGrVqnXDhg1LUtXxkd6Y\n9gQKCgqmbd269eGePXtmffllyfeo3377jeuuuy575cqVn2RkZFxR9D0RyROR5SIySESa4UJG64Bb\ngN9LClmqG6C5FGfYBlWAgnuFGjYAEVkLnIzzuuaV4mmFs96nItIbOB7nVX2hqs+oamHRSHnhyF1G\n1ojIz8Bs4AbvpbO8Y8LyjFX1fFxhzzW4NowxQDsRWRPOOuGiqjVU9Rych5wC/F+PHj06vvPOO/HF\nH1YLCQaDvPnmm3nAhxW5tz2ZvbZM/F+GDzivevXqA+Li4g4oKCj4X9u2bdf07NmzbXx8fAdcEjwD\n6C0iMS2K+Dfh9/uvSE5OnnDAAQekdOrUKa527dpkZWWxePHijJUrV/oSEhImZ2Vl3QKE3FfmjYY5\nGzcrrAPwPS6sdiHOuxteEWNJvGKUX0WkwuW/PJWR8Tij00lEvovRurWB/sB1wErgA+B0ETmnlOMv\nA9qISJ9irzfBqYEcAkwOBoN1//jjj4UDBgyYDBTKbJW1j/7AcFwo8EjgbuBMEfk6io9X2rX2A84o\n8qcZLkz9Nq4v8NBgMJh7/fXXp15//fW1u3Tpsss9eO7cucHRo0f/kJmZ2RTX4G+EiRm2fyleHugd\nXGXY8zgV8uNwuna/VOXeqgpVjcvPz1+zevXqg6ZMmTI/Ly8vpaCgID0jI2NpMBicRumq8aGu78cZ\nuKdwN5wcXMXbq8DSWM46866VLSKVNgxYVa8B7sL1370Zw3WTgEtxFY4HARcBs4sX2ajqdcDhIjKg\n+Bovvvji9BUrVuR8/vnnF3/00Ue+hIQEgLzc3NxqqampX6Wnp9+Pe8DLKbJePK4wpCuul681MBJn\n1L6JweeKw+ltFhqxlrgpEu/iDNnbwFdAb+BGnKe4L9BARA4NBALv9urVK+Wiiy5KqFevHr/99hsv\nvvji9unTp2fm5OScDlRGiHSPxAzbvxhPlX0+Tj9yC3Ar7gm5UwWVLe/WqGpr3PiSDBGJeQuEurli\nS3EDO+/zdAU74ozd8bi8z6vAa15OKZprxeEGiCZG2Q8X7nVb4zzRe4GJsfRGvXD5OiAbpzAyDni+\nUENTVW8FaopI8cbsVjVq1JhWvXr1+r169Qp26tQprkYNFzXdvn07b7/9Ns8991zGl19+SVxc3Oic\nnJzRXoXmMzjD0wnXRzYCaCsi6yLcfzxuQGxRjyyOHUbsbeBLEcn3wtbX4UKQb+NaCt7DtYN08opV\nDkpOTr49Ly/vkmAwmBAXF7fd7/dPzcrKuhdX/WlEiBm2fzmqOgn3ZH+j9//dcZJEfb0Cgb0GVX0J\nl6f5XERujfHaDXFGbZKIjC3h/ZJClq/iPLpPIjEQqpoJ7BvimJuY4VUOzsPdiK+LUBKstLXH4R7C\nVuAKdk4EHsFFHG4C8kRkVOHxPp+vZ2Ji4jOjR49OatOmDWUpzPz000/ceOONmZs3b174+OOP1/b5\nfH8CF+O8xdtxRi3kMKtnHJuzw4idBvyBq6gsNGQ/FP23VdWjgZtxYc/pwISihlRVxwN/isjdRS4V\nDyThDH6sqmr3asyw/cvxihjWAq0LE+Fef9LLwBgR+W9V7q+yUNUDcH1kPwI3SmhTjkNduzHOqD0s\nIhNCON6Puwme7/1JJoKQpar+ATQTkT8i3XukqGp1nFxVDZyI8+YYrXsucIuItPX+/0hckU5nnJfy\nmtcIDtA+JSVl7vPPP5/UrFmzEtcrTlZWFtdcc03Q7/d/MWjQoONxHtOtOKP2fTl7S8VprxaGFU8A\nvmOHEXunJE/c867b49oSjsGppjxR0r+bqrYCHhKR5iF9ICMizLDtAajqDbhwS/vCp0fvZvw6rmrv\nphg1De+2qOqduLBTZ5yXE6lGY/F1mwBvAg+IyKMRrnEozsB1JIyQpar+ApxUVTlTL/R2D65HrbOI\nfB6DNdODdFvuAAAgAElEQVRwkmN1ixp4rzXgdVzj9Zzff/99wuDBgxc//vjj+5x44olhXWPr1q10\n7tw589xzz33qvPPO64Izaj+UsJc6uIKOQo/sCOBTnBF7C3hPRLaU8VkScd/NzTiv60FgupQxyUGd\n0POvwAki8lNYH8wIGTNsewCeh/AJrkLvlSKv7wPMwiXUe4kbZ7LH4X3+9bhw1jEi0iNG6zbDGbW7\nReTJGK0ZcshSVX/APayU6WlUNKp6EfAwcKWIRD2pWlXfA+4QkaXFXp+O84xrLV++/NaPPvqo+pQp\nUyJqY5k+fXrwzTffzBk0aNCRIvKjt35Dds6PNcBVWxZ6ZB9JCDPzvH/DfsD1uAKPB4E3Qg03q+oz\nwKd7SzSlKqi0iiuj4hCRPFUdCExW1YWFT8Ii8rfXQ/MYTh+wo9cXtKfRCWcgjiFGKizqRqYsBkaI\nyDOxWBNARP7E5V6mFwtZzgCSVfWfkCWV0MsWCiIyXVXXAa+o6lHAfVEWlRT2sy0t9noqsFlEJlev\nXr33XXfdFXEB0Pnnnx83YcKEhHXr1nVTN4/uDFweq9CIPQV8Fk5hjqoegqtu7I37NzonQhmuOd46\nZtgqCGvQ3kPwyrM/xuUrir6eh8szTMPpAx5fBduraAbg5mi1BxZGu5h3834TGBZLo1acUhrDv8OV\nxf8OHMCuWolVgoisxE0I6IwzyiFPCCiB0hq1C5VHGhcUFDRt3bp1xBdIS0ujQ4cOCe+//34PXOj3\nLGA/EekqIhNE5ONQjZqqtlDV2biG6QzgKBHpE6FRA/fA1LyImooRYywUuQehbsTHx8BxIvK/Et7v\nCjwBXCEi8yp5exWC51ktw/VGPSAiJ0S53rE443iziLwYgy1Guo9auIbmn3CVeVFXWcZoX0nAZNwY\nm86R5P+8NTYD+xcNj6vqh8BAEUlo2rTpay+//HJUSijPPvssjz766MO5ubk3RrBHH65FYBBOcm08\nbqhpTAQQVPVlYI64yeVGjDGPbQ9C3NyrR3D6eiW9Pxs3k+sJVb1JwxD73Y3pj7vRnkWUYUjPm12E\n032sMqMG/4QsfwZG426sQ3AVikW1LM/TMrQsK2hf2bgS+lnAhxrGXLZia3yECw8WpdBjSw4Eoo/A\nBgIBEhISqodzjqqmqur1uH67m3G9dk1F5JEYq/oUFUU2Yozl2PY8HgC+UtXWIrK8+Jsi8pGqnoqr\nQGuqqjdUZgNwLPHKsy8GjsV9nqujWOsknEfUT0TmxGaHUZMLBLxw8jLvz6AiVZZDcGHB5ThPLurG\n8FDwvMUxqroGeE1VbxKRcCdZF4Yj53sPWAcAdYCugwYNOua1116Leop0RkYGOTk5IbUpeO0i1wNX\n4XrsLhaR96LdQxm8BjyiqskiklWB19kr2ROe2I1ieE3adwDNSzNa6gRvX8I1hIqIbK3ELcYEVe2H\nqzC8AVgN1IukrcEz9HOBy0XktdjuMiKOBDqdccYZV/z+++/fffvtt+/jbrYrKKYdWEaV5au4yrsK\nDVl6+ch5wEzgtrK+fy+81wg4HCdx1ROXUzwM15xcC3hh48aNXw8bNuyeJUuWVCtUGImEvn37pq9a\ntao/Lr9c2p6OwYUbO+H69iZUVhWqqr4J/DcWlabGzphh2wPxnoCX4mZWPVbGcQm4ZtIWQMeS8nK7\nK95n/BRXLNMYaCkiF0ewzhk49fhLRSTqwpMo8ANd0tLShgKHd+rUyV+vXr2E+Ph4/vrrr+D8+fMz\nt2zZ8ld2dvbYgoKC54BdHkS8KsvT2dEYnkQFaVkWu24dnGHLxOU6c3D9aEfgjNjh3t+b4XJra4Fv\ncCXzFwIfisifqpoN1BaRrNTU1NnXXHNNlz59+kR0j9qwYQM9evTIGz58+H+GDh26tth+43APAYNw\nDxGP4BRlyp57FGO8kOfxItK3Mq+7N2CGbQ/Fk/Z5EycqW6pyhfdLfrP3p7OIrKqkLUaFqp6GE4A+\nDKey8pKITA9zjdY4r/UiEVkS802Gzj4pKSkLGzRocORVV12V2rZtW4oPoQwGg6xatYrnnnsu66OP\nPtqSnZ3dGvi2rEWLhCzPx81BW04MQ5ZeZeRhOMN1JM4DK5zBth4nALzW++9XwNdF81SqOh+YLCIv\ne97cNiBBRIJ16tRpHQgElr3++uvEx4dfCvDAAw/w+++/b77iiit8OFHih3Gi4b1xP+sFuP6zGWU1\nVFckXl/dx7gimn9lOmB3xQzbHoyqPgL4ROTaEI69ANfbc3XRJu/dFVWdhhuF8jiwCTg4HOkpVT0T\neBHoXlIushJJS05OXnn++ec3GjZsWKLPV34/8uzZswvGjBmTnpOTcyKuyKFcoglZeo3+RT2vwv/W\n865f1IAdjct19iregF3CurcAjUTkOk/C6xcRSQN48cUXew8bNuzx888/P+nqq68OqxZgzZo19O3b\nN+uOO+6Y1qRJk664Mv0TgJo4T/FW4PWqqiwtiqp+jKvAXVHVe9mTsOKRPZs7cYUkT0o5av8iMkdV\nNwBzvUbUB3eHX/ySUDfz6lycevoZwJowjdrZuFE/F4rI2xWzy9BITU195cwzzzzo9ttvTyxL4Lco\nXbt2jS8oKEgdO3bsiuzs7GaEMI6nhMbwwpDlS0CS1xj+Ni5U2ISdDVka8DU7jNeT3t9/LMHTeElV\nlwEvqupdZYXCceHywqKTnYaMxsfH97300ksHjxs37t60tLTavXr1Ku8jAvD1119z7bXXFsTHx/dp\n0qTJp7gG955AHi7XVhun+j9ZVR+tKrmyIhRWR5phiyHmse3heAUWvYFWoRgqLzzyGk7Z/fpYaS7G\nElW9DeehXamqD+HU0u8J8dyOuBvbBRVc9RYKx9esWfPtpUuXJnvzxcLi6quvzvjggw8GBYPBkOW+\nvNDzgezsfTXHhRSr4e4JP+O8nDm4MN7PIhLuxOpDcEUlb+HaJ3b5OTrggANqnnnmmT/Pnz9/NVCn\nbt26jTdu3LgiLS1t8X333XdrYmJisw0bNix/8MEHjzzppJMKrrjiioTGjRuXeL2tW7cyZ86cgokT\nJ+b07t37+/bt29fFPbg/icsjN8SV7tfA9aQdh6uoXYQTt/4gnM8XK7zim9eAxrvrg+S/ETNsezhe\n7mIVTulfQzynOqC4PsceZQnBVjbe5/kRZ5hWq+rXuBzZ6hDOvQCnUHK+iHxUwVstl5SUlKl9+/bt\n2a9fv4j0EN977z0GDRr0Q0ZGRhN2rZZMwBXVFA0dHo4zYOnsnPsq/PsmXLjuHJxgc1RVlt7P0TSc\nx9dNRP7Pe6tJSkrK8Ly8vO6tWrWq1qFDB1/NmjUJBoNs3ryZuXPnbvviiy/imzdvvkFEtsfHx3/7\n/PPP11mzZs2JhxxyyLbu3bsH9ttvPxISEtiyZQtLlizJXrRoUdz+++//Zd++fQOHHXZYEq6Q5Qdc\nqHm7t584nHLKA7ifobtwaio3eJ/9YWBWZT7MeXta530/e90MxYrCDNtegFf5Nw1XSBLSbC/vxvgw\n0ApXMbm+4nYYOqraCVdWfornFbwD1C/Po1DVbrgn93NDMYKVwD7VqlX7ddGiRYE6depEtEBBQQHt\n27fPPOyww/oPGDAgl52rEJsCv7HDaP1jyETk71DWj0WVpfcgch/QHTdgs04gEJjXp0+f5J49e/pK\n++wbNmxg6tSpwUWLFgX79es349hjjz3is88+O/f777+fsnr16oM2b96cEwwG/T6fb2vTpk3/uuyy\ny46qVavWBpxXNg/nrc3FzU+7tGgbgve5+gHDvc8zEjd1YSCucvMx4MkihrhCUTejLkNERlbG9fYG\nzLDtJXjK6d+LyPAwzonDPc0OxXlIVe7lqOoiYKqIvKCq1+HKpS8v55yeuPDT2VHo+8Wa1oceeuic\nWbNmRSUbdf/995OTk7Ope/fu77KzAfsm1IeYUCmlyvJVXCFGmVWWqnrxV1999cjYsWOTHn744cST\nTw5NsGT+/Pncd999BY0bNz7l008/XamqnwNXAhtxDdVX4BrXHyweTvSqNl/H9cr1K/7w4/VyDsM1\nZT+KU+w5GPczfyFOXeVhEfkypM1GiKqejptW/p+KvM7ehBm2vQRVbQB8BpwoJcymKufcTsDTQH8R\nmVUR+wtxH01xOZ+GIpLjlYs/U9aeVPUS4H7grIq+QYXJhaeccsqzTz31VFiST8V58sknefzxx+/f\nvn17TCeGl4dXZRlOyLJmUlLShgcffDDljDOKK2mVzezZswvuv//+X0eOHHlco0aNfsTl/s4FXsAZ\nnlJ/ntXNf1uEC8cPLCmUqqoHAffilFBG4nKwNXFe3bW4B4UJOAMe8wnXnlf7K3CyeCN2jOgww7YX\n4RVdnCgiXSI493hciOcRnNhwpSe6VfVBYLuIDPWexn8DDiwtB6iqlwN3A2eKyFeVuNVQOP/EE098\n4ZlnnonKY3v00Uf55Zdftlx88cXf4SoaNwP/V+Tvxf9sifW/XSghy/j4+Jvatm17z/jx4yOaCiAi\n2W3atPm9ZcuW++OqfZ8Ukb9C3N8+uJ7OJcCtpX1+VT0BF8qsCwwGFuAa57vjwpS1cKNmpsRaqUdV\nJwNfSggT2o3yMcO2F6GqAWANzvN6I4LzG+BuWKu8NSozyZ4M/A9nmH9U1XOBISLSupTjr8blUM4U\nkW8qa59hcEqDBg3eWLBgQVo0i9x22205K1euvP/hhx9+HXdDLu9PgJINX2nG8M9wZMq88HUzioQs\nCwoKll977bUtJ0yYsM/xx0c2Nen111/n2Wef/XvUqFHjRWRUuOerGxGzHKfGU+r53v474sKSPwOD\nReQT7/VTcHPUzsR5i4/ESn5LVc/D/Ty3isV6eztm2PYyvLDiGODYSAyTJzw8A3eD7BZqIUK0eN7X\nhSLS0fv/icD/ROSBEo4dgBMIbici31XG/iIgISkpadMLL7xQ89BDD41ogaysLFq3bp2TnZ19GG68\nTbmoaiJObDgUI1gXVx7/FyUbvRINpIhsK3K9WrNnz7555cqVQ+fOnZsQaq9ecbZt20a7du2CF154\nYe9nnnkmoskLqloP1y82WURKnIBR5Fg/Lpd3Jy6UeYeIbPDeOxAXorwS1xbzMLAsGk/Ye+j8HWgi\nIiEJNxulY4ZtL8N78lwILIg07OHlBB7CDfY8r6LzAt6eVwHDRaRQDf4HXNn+l8WOvREXNmq7u+cr\n/H7/yI4dOw4dNWpURDNaZs+ezYMPPrg0PT29Xaz3VohXHVub0I1hbVyp/T/G7vnnn6+bkpJy4vDh\nw6MShLj22mv5+OOPe2RlZc2M4vM0wPXWPSgij4ZwfHVc8dQ1uFmG9xeGIb0owsW4n7d8nIGbHkq1\naCnXmgnMF5FnIznf2IEZtr0QdcM53wKOFJFNUaxzPXAbzpN6P1b7K+E6J+G8xKYikq+qhwFvAAcV\nfUpW1cG4hH9b+XcIOu+fmJj4w4IFCwJ169YN68Rt27ZxwQUXZGzYsKE7MZgaHitUNR7YB2fk6gB1\nx4wZc1nz5s07DRw4MKr7zZAhQ/IXLFhwBfBclHtsjPPcRkqIE9I9L+1unCzZXTivL897Lw4XnhyI\n64t7CngsXFUTVe2N6xvtHM55xq6YYdtL8QoxaojIlVGucx4wBRggIi/FYm8lXGMKsLYw7KiqNwPN\nROSaIsfcBlyGM2o/V8Q+Yo2qJj/99NMfrF+//sjnnnsuPjU1NaTzCgoKGDx4cM677767IjMz81yc\noO/uzKDevXvfd+utt1aLZpGBAwcGDz744C/bt2//MS7f+j9gQ+F/w2lvUNVmuDaBwRKGeLaqHocr\nMDkA58m9WuzhqhmuDaE37oFjQqhtMmPGjKmzadOm/z3zzDMLgFrBYDArIyNjRX5+/tO4fjwjRMyw\n7aV4PTxf45pmV0a51rG4CrgngNGxrLpTNxLlO1zu4f+815bg5ljN856WR+D0ANuW10+1u+BJl80p\nKChY269fv7xatWp1nzx5csp+++1X5nnZ2dkMGTIke+XKlWsyMzNbAf+GIZW9TjrppElPP/10xIUy\nwWCQCy64oKBjx44vn3baaZ/i5L8OxEllNfT+nkUxY8fOBnBjUW1LT85qCXCtiLwc6l68n7lzcAUm\nm4FbpNhUDO/363JcT9xvuDDl7NLy2n6//4qEhIT7Dz744H26dOniq1OnDjk5OSxfvjxr2bJl8X6/\nf1ZGRsY1uDCvUQ5m2PZiVLUvTon9tGj7c1S1Ps64fYZrht1WzimhrjsYOEpE+nj/n4Zrzt0f90t+\nN05Etp2I/B6La1Y0qtoSJ1k2DnhIREhMTLwDuO3MM88MXnLJJUlHHnnkTuf8/PPPzJgxY9usWbMK\ngNcyMzMvwc092+0ZPXr0affcc8/yOXPmJNSrVy+iNT7//HMGDBiw9bHHHnvZ5/O1xRm2ZTgh5WW4\nnGsddjV2Rf++L87IFDV8Bbj82R24aQ9/hvpg5uUf++JCk0uB20Xkp2LH+HDVoTcCh7BD1eQfDywp\nKWlUjRo1Bk2YMCG5+L87wF9//cX999+fs2zZsu+zsrJaUMIsPmNnzLDtxXj5kA9wqgfPx2C9VJyC\nfCrQNdQ+o3L29x1uBMqH3msX4CrSOuCqO8/GlfTv9pVk3pP+tTgP85ISWi7qJiQkXOn3+2+qXr16\noE6dOgWJiYmBv//+m19++SUvPj7+2ezs7EcIcVRNVaKqNXFDR68E9hk9evTmE0444biBAwdGVEBy\n6623Bt94441b8/LyHvC+x8ZAG1xTdRucev8y78/SwgrGYnvy40KIxQ3f0cCpuCne8ZTu8RWGPLOL\nrZuK63u7DpdfG11Sb6Wq/gfnwXXBDWb9r4gcWrdu3ednzpyZXLt27VI/fzAYZMSIETlLlixZnpGR\ncU4o39nejBm2yiEOODklJaW/3+9vBpCXl/dNZmbmY7iZYlWm6q2qJ+MGdR4mIukxWM+HC9Gci6uY\njLjPR1XPAe4BTih8ilbVwpEpDYHWQHsJY2RNVeGV2T+K64XqXM734sPdbGv37NmzS4MGDeqNGzfu\nEtyNd7fFMzitcMasIy7HNBlnaA5NTU39ZO7cuYn77rtvWOt+//339O7dO/jQQw99uc8++1wjxaYy\nFOmdKzRybYAt7PDmlonIb+XsvRVOQusi4Bd2NnxFPb8GOBHpkgxfFtALaIf7uZ1UUuRCVffFFTn1\nHzJkSI0hQ4Ykt2zZstzvYdu2bbRs2TI7MzPzP5QzZHZvxwxbxXNiamrq1EAgUL93795JzZo1iwf4\n9ttvC6ZOnZqdm5v7c0ZGRm/cJN0qwSvO+F1EhsZwzf44z6SbiLwb4RqvAS8XVq55N7ANuJvVoUCH\naL3CykBV9wdm48JgfcJ5gFDVLt45F1TU/qLF+3yX4XJKOThjNrXoA4eqHjpz5sxVq1evTnj++ecD\nNWqEJrjy22+/cfHFFxc0adLk4RtuuGEl7qFpCTC0tNCz5+kfyQ6PriXuuy8MXa6QEgSOVbUDrvH6\nvNLyzt7adSk75FkHV/4fxD24vs+unt/fV1555SmBQGDZ4sWLQxowC/DQQw/lzZgx46ns7OwBIZ2w\nl2KGrWJpHQgEXh81alRyhw4ddhlxX1BQwIIFCxg5cmRWTk7O2bhBj5WOd2P6AmghIjF7EvQ8rudx\n87hKa6oN4HJkTfx+/z55eXlbgB+HDx+++qijjnoLpwuZ5a13LK5NYS1O0Hi3GadTGp5HPAs3F+ze\ncHOZXqvDRBE5qSL2FylefulcnAhxS1xobTKwsniOymuMfq+goOCeyy+//NiaNWteOXHixOSmTZuW\neY1PPvmEG264Iev888/3dezYcX8R+cvLsY7AGdJ7gEdl12Gnxffqw4k2F3pzpwPr2eHRvVUoNOAJ\nGDyFiwR8Hvo3stP1qgH1ga640GMBsBr3s15oBH2qmpmSklJ3yJAhId+H16xZw1VXXfVTenp6o0j2\ntrdghq3iqBcIBL6dOHFiWnlK5u+//z433HDD1pycnKa4uVCVjqreArQRkfNivO4xuKKSycA9RW56\nBwcCgeuDweCVRx55ZPD4449PSUlJic/Kyir47LPPMr/88svAkUceuXblypUCfOPdnD7A5UgOj7VW\nX0WgqpfhZn9dKSLzIlyjAfChiNSP5d4iRVWb4Dyzy3AzzSbjZKpKnOLt5Z+W48ri7wLw+/39fT7f\n6KZNm8b36dMnrW3btvj9fsBVfS5cuJCpU6fm/fHHHwWNGzceOXjw4J5STPne68V8BFcQcp2IvBXG\nZ/DjhqsWhi5PwVUIFxq6ujjh7LYi8nWo65ZyLR/QB1fk9DYwzJOEqzFw4MBx3bp1u7Jfv34hr7dh\nwwa6deu2OSsrK7x47l6GGbYKwu/339WxY8choapK3H777dkLFiwYnZeXd3dF760kvKfML4CbReT1\nGK+9P864rQWu6tWrV49q1apN6tatm69Xr17VGjZsuMs5v/zyC6qaN2PGjO35+fmDX3jhhZOBTsBl\nIjInlvuLNd6NcxyuJLxzNALM3lqZQFI4mo2xRFWTcGNcrsSF+F4AnhaRteWcl4ATzv4VZ9yLenLV\ngAvS0tJuzczMPC4lJYW8vLxt27ZtS2jYsOEPHTp0+LlVq1ZNfD7fHCAoIjeUsH4c0A14EGc0BovI\nxgg+XyJwMjtCl81xlbf74Yp9Xo5UTaTINVKAm3HVkc/ivPerL7744nuGDh0ackGNeWyhYYatYghb\nB3Dt2rVcdtllf2RnZ9cDygytVBSqejbuKfgoEcmN8dopwAtz5sw5atGiRQ2efvrppCZNmpR73oYN\nG7jqqqvyTzrppJ969uxZF9gv2ptMReL13b0E5OKqOaPW0lTV34DjKrtHz6viuxLXI7gK553NC6WV\nwzM6T+KKLTqVpUs6bdq0dZmZmQ2mTJnS7L333tvofYff4Gal3Q1cI2WPJkoBbse1rozGVRtGLNDt\nSWW1wBmitrh82Up2eHQfRtrO4oVl7wK6rFixYqqqXv3mm2+mWI4ttphhqxgOrV279qrly5eHJiXh\n0bJly8y//vrrP7gS9ypBVecB74rI/bFe2+fznZmWlrZg2rRpCSV5aaXx22+/ISLbunfv/vmkSZNO\njPW+YoVnCF7B9ajdHisPS1VXA1eJSIUXGHmNxRfhcmd1cbPJng1XokxVh+Nyp61KC1N6x/lw1YR+\nIKEwB6mqC3CtI1OA3iIyI4RrNsONlWkIXC8ib4az51LWvBFXxn8nO/J0h+IKQgqLUT4uL89XwrpH\nAg8MGzas/aBBg/xWFRlbzLBVDM0bNmz45uuvvx7WrK1zzjln688//9wa+KRitlU+Xg7lA+CYSMI6\nZZGWlvbxiBEjjj/77LPDPvftt99m5MiRmzdt2rQfVdgeURqqKsBEXL5HY7z2a7jS8VdjuW6R9eOA\nM3DGrDNOh/NpYEkkxtnLLY7AFSOVV2Z/EE4hv5aIJBV5vTeucboxTt2jeSiFN95n6YwbDPoRMKik\nnrZw8OTaLsYZ6c1ej15LdoQuD8KFQgv76D4L9Xs77bTTRv7www/Dp0+fHl+nTp1Sj7M+tvCISm3b\nKJWt6enpYX23wWAQ75wqrfQTke9U9Slc8/OlMVz6SODwdu0iE6I/7bTTAFJwuZAPYret6PA8jntw\n4br2IvJpBVxmI65oJqZ4YbFLcQZtOy7UeEs0ze5eyfwYnBEo06h5NMaVvycWe30OrjpxFs5DEpwy\nSJl4ebw5qvoGTsvxE1UdB4yPNLwuIvd54cnFqtrGazGZ6/1BVevi+vfa4kK3+6nqCnZ4dGtKUzN5\n9913RyYlJfkuuuiiIePHj68WgvJIj0g+w96GeWwVQ3xycvKvkydP3vfoo48O6YRPP/2Ufv36/ZqV\nldWAKha19SrZvsYpjb9X3vGhkJyc/NQll1xy2XXXXRfxw9Rzzz1X8Pjjj7+SmZnZLRZ7ihZ1k5mn\n4yZG96go9RNVHQnEicidMVgrAafaciWuwf1lnEH7IFqNT08geBHQJdTeRXVz9s4FThKRhsXe+wlX\nUTkFZ+SOCDe3paqHAONxxvEGEVkUzvlF1onDFamchnuAKbUqV1UPwH23hR5dGju8uWXAt8W/a7/f\nf2ViYuK4Ro0a1ejcuTN169YlOzu7qFbk7MzMzGuAUsO6xg7MsFUQPp/v1rPOOmvEAw88kFT+0TB4\n8ODtK1asGJ6dnT2movcWCl4o6Cbg5FjkitLS0n56+umnGx5++OERr+GVOv+ZlZVVuvZQJeGVm88F\nFuC8nAqbJq5uGviJInJVFGsczI4y/Z9xxkxjoTbjrX8Q8C4wUERmh3HePbhhpmeKyOFFXo/DDTj9\nQUSOV9VFwFwReSzC/Z2Hy799DtwkIusjWCMOp/V4JHCOhDhNwPtuCnvo2uJku/7RuRRvbuDUqVMf\nfe2112ouXrw4uWHDhmclJSX54+PjF6Wnp1/92WefFU8LHBsXF3eh3+9P27Zt2xe4giUTSPYww1Zx\n1A4EAuvGjBlTs7zw2+LFixk1atS2sWPHbqhevXpfEamSRu2ieL/E7+AKByZHu15SUtKf8+bNqxmp\nCC5Aeno6LVu2zN2+fXtEgzljhdfEOxmnflHhQyFVtSPQP9weQ3VTmbvgQo3HAlNxZfpflnli+Pur\nhTNqj4vIf8M8dxquArKziDQv8vphOEmuJFxDdRrwGm4mX0Q3cO/7GIwruZ8AjBWRsISkPeWRZ3AN\n2OdHcH4cTgy5qM5lDm4+3IU4Me+PVHUybir6CcAxuApRFZEaqamp83w+X/MuXbok7rPPPr4PPvgg\nY/Xq1XF5eXlXBIPBmOZ3/62YYatYTggEAktvuumm1K5du8YlJu6cRsjNzWXmzJkFDz/8cEZOTk5r\nVW2E0xN8GdfIGZOn6UhR1eOB+TgdyajK1pOTk//v5Zdfrl2/fuR9xlu2bKFt27bZ27ZtS45mL5Hi\n3dQKy8q7iSfMXAnXPR5nkI4L8fhjcMasN07x4mlgTqxbOLxrBYDFuBL4WyI4/32cwe0pImcUef1q\nnJOQNcoAACAASURBVEH7C6e4f5eqzgA+F5H7otxzI9wE+GNwHmZYfZteXnUaTuz7wkhL/7214oDD\ngCG4vscE4E9gG674ZRhwODCuoKAg/7rrrtunbdu2B912222JCQk7ovrffPMNffv2zU5PT++CCwfv\n1Zhhq3gOT0tLe7qgoOC4bt26+Zs1a+YD+Prrr/Nefvnl7fHx8Z+kp6dfgctpFaqiP4R7krtadlWA\nr1RUdRKQLSI3RrNO9erV102cOLHJcceFdG8ukXXr1nHJJZf8npmZGbnbFyGelNMUXBHHhZXZU+YV\neXwmIqUOa1PV6rgClitxI32exXnbP1bgvuJxrQ0FuJ69sHPDXo/ezcClInJ2kden4vJrn+HymM2A\nJrgy+0MlBsLXXqHLIziP8UYJQ7Dba5yfiZsq0Cvccv8S1nsTN89wNk4AewJOVaU+LnS8bPHixfVX\nrFhxwaxZs+KKy/MBvPnmmwwfPvzL9PT00BL7ezC7fjtGrPkqPT29RWZm5jHffPPNh9OnT/9mwYIF\nea+++urjmZmZx6Snp5+GZ9QAROQvEemLU/9+SlWf8YxdVXEH0FtVj4hmkezs7Olz5syJan7Y3Llz\ntxcUFFTIlO6y8AoQ3sd5D60ru1EaV+5e07uZFt1XnKqepqrP4ioLO+D6rRqJyIiKNGoe43A33z4R\nGrUUXH5tG0UGpuqOKQFv4RrDg7gc4zqcMbk1+q2DV0hyNC6M+qGqjvKqH0M5Nw9XqVkdeNYz8hHh\n/XwdjWt+LxCRz3CVv9Nwgsp9gQ2ffvppix49epRo1ABatWoFLsx5cKR72VMww1Z5rLvpppv+N2LE\niHuuv/769ZMmTXqcMhqxvV+6o3CjSr5Q1c6VtdFi+9iMU3/4r3fDiYgTTjhh+sKFC/0ZGZEVdeXm\n5jJnzhzfPffcc56qXud5KBWOqrbH9Vk9hmuSjnk4rzy84p1NQD1vT/uq0/ZciwszrsF5MV1FZEFl\nSG+p6k24WXgXhJtnKkJjnBhxEjtPAj8IF5Jb51UPTsX1kYH7WbxcVQ+M8Jo7ISK5IjIGOA5XOblG\nVS8I5Wfd+1noghM2fiKK34++wLRiP1u5QKKIbBeRlSLywHfffff9/vvvX+oiCQkJ1K5dextQ5cVV\nVY0ZtsqlKc6YbcKpOpSJiKSLyABcrmScqs7wemYqm8dxN9WwR6eoaoqqDr3xxhvfPvjgg3+dOXNm\nRK0Mr776Kg0aNMhq0KBBLk41fb2qPqKqoWmWhYnnDQ3CTSfoISKPRVsOHyUbgW6qOgunOnEkcBVO\nEHqcVOL0cFXtDgzCVQZGMzaoMW7ydTI7V/S1xCnuF37f0wFRVb8nGjAJ55nGDBHZICKCC+XeB8z3\nlEzKOy8LNyH7aGBCuMbNy9ddhntAKUouxXr78vLy1q1bt67U35/s7Gx+//33RNw8ub0aM2yVhPcD\n3wQ3/XgzIRi2QkRkBa6qbQPOe+sVjfcULl7YZSDwkDpB3HJR1URVvR73eZsDrb788sszH3vsscz3\n338/rOt/+umnPPDAA5nffvvtGbhm6Ea4+XV+4C1VfUNVz/duElHjfcbncQ8UJ3vff5Wgqo1U9S6c\n934trlDjIBHpKyLvVLaxVdUzcAVOHUXkpyiXOxg3ISCFnT22lrgwJOBEA3AG8EzvpQeATl7lZEwR\nJ8N1LG7m23uqOtoLmZZ1Tjqu8OMMYHSYv5sdgJ9LqFTdxbBlZmY+9sILL2Tn5JTsIM+bNy+YkJDw\nEe4haK/GDFvlUQeXK/iTMA0buCdDERmMU7i/HZirqpU2ysT7hf8YKLPyTVUTVPVKnFfRATe0sYc4\nhftvcnJyOt5www2ZS5YsCemG/M4773D11VdnZWdnd8/Ly/tERKbjqsjm48qj5+PKwO8A1qnqLV75\neUSoakNcm4MPOF3C1EiMBd5DQQ9PPWMVUBOnkv+wiEySKppD5/XuzcJpN8ZCYaWox1bUsBXm14oy\nDS8c6VXojgXujcEedkFE8kTkQVzVZEPgK1XtXpbB8vZ0Fm5y+B1hXO5KdvXWoATDBnyUm5u7sH//\n/ln/93875qQWznUcN25cVnp6+sAwrr3HYoat8mgCfOc9YYdt2AoRkY9wHtAnwKeqekUlem+3ADd6\nN/+dUNV4Vb0I+AonottTRDqKSHHdy7dycnJaDhs2bLOIpC9YsIC8vJ17m7dv386SJUu4/PLLgzfe\neOPf2dnZZ+EaoYF/8iLjcZVyv+PCUm/iStyPAb5X1afUDSYNGc8b+QAn3dTbCzMV4sM9nByMG2fi\n33WF6FDVo1R1PK4Krh+usrGBuJEtX1ABslph7G1/3EPEYBFZHKNlD6ZYKNJT7aiNyxvutAXgPHWq\nOOB0OU9WN4i1QhCRjSLSG2dQh+MktUpVGBA3lftM4GIvB1omqrofrvq5pN6zkgwbmZmZvb766qun\nO3TokH355ZdvvfnmmzPatWuXedddd63LyclpA1SEpNu/Div3ryRU9RJcTuIidYrhjUUkqqcr78b9\nDM4LvLoSquAK5Z0OE5Ge3v8Xis7ejZP7uV1EloawlB/olJaWNjQYDB59+OGHJyYnJwe3bNmS+dNP\nPyXVqlUrq0WLFmteeOGFNrhf8rL2dCAwCifNdB/Oq7gM6I+7cU4EXpFS1EG8z3ANMBJXdl60D6hR\nYmLidcBV8fHx1QKBQH5ubq4vLy8Pv98/IysrazxOzSIivDaCwtzOgewo0/++2HF9cfqLl0V6rSj3\nuAKYLSIx85JU9UtcuPdy4EcRmaBOTPoiEdmlWEqdGPQMEZnq/f9VQC9cU3OFhmTVSZFdizNwU4BR\npfWZqhsO+xYwTspQSvGM3xEicnkJ710CdBCRi3c9E3DVpO1xDwVfsaN61MBEkCuTwsIRcB5b2WO1\nQ0BEPlPVk3Ge1EovF/NoJKXXYfAA/8/edYc3WXbvO2mbpouyRWQjn6AgqCwBWSJ7CAqnCAoyFVki\nU2UIiCDIEARBNjIOSwVk/WRvREHGx0aGgGyhTZo0afP74zyBENI2sy1+ua8rF9C+ed4nIXnv95xz\nn/tIaqYG5I5yJGRo5CAAP3twgbEAWBEfH7+iU6dOLbNlyzbcaDTqjhw5MrFJkyY3GjVq9C2Abxcs\nWJCuCpHEvf1d1Zg8GkBPSLq2GCR12wNSH5wOYIaj0IJlyORkiAdgVVXPAYCc0dHRi5KTk2s0b95c\n27p1a12RIkXun/P69etYvnx520WLFrVKTk4+mZCQ8CaERNOFItLKkAjzDUi/1kgA69PohwqIEXJ6\ncOjX+hVy0+CvdTWQVOSfeDgV+VB9zQkLIabN36t/z4F89l+DTCQIGNT/y9fMzJDp2seZuT+Axc6f\neSL6i5lfBbCNmRPJhTuNev0dITc0ruAyYnPAXcgNXBAuEExFZhzswhHAh1SkM5QceDTEpSEO8mUK\niFJQnc8IsZP6GeK9Nw7Ai0S0xtu75tdee01fqVKlg7Vq1bres2fP3xo1avQDpD/oDw/3dpiIGkLU\ngn0h/Um3iKgGJJorCOAEM3/PzJVYGp83Q/4vKjuQWoHIyMiDzZo1q7Vt2zb9oEGDHiI1AMibNy+6\ndesWumXLlsj333+/rF6v/w0iGU8VzJyHmfsAOAoRp5yGqBqbq/cvrSbfDCc2fjAs1ArgAz9HRXkB\nGEnMhB1VkWkR208AKqsUnp1sPgEw2pc+Mk9ARNdU1NwK8hnbysyPNESr7EkdACOZubWLpapAMmap\nmYynR2xBpIEgsWUcnsbDEZtfZftEdAJyUVgGYBczD1DpE7+Bmcsz83pI6ugSgClEtNQPEaL9zt0C\nSVG+DGmG9qp+olKhFSFu7LOYeS0AGxF1gURxByG2ZRcgNbrWDmml2MjIyK0dO3bMP3DgQF1ERNoi\n0LCwMLzzzjvakSNHZtfr9Zsgis37ULXHusy8FEJk5SAp0v8Q0Rhyb7QLkDkR2zCIGpPSIV1vYFdE\nAkoVycy5ID1sLucRqpuq1ZAbODtWQCZct/Tz/tIEydSLCpD62CZmnsgypNXxGLuAagIzN3daoiPE\nJi21m4UgsfmAILFlANSdr3Mq0u/9aESUTGJCWwGSntmr0nM+gZmfY+aVkDvmVZBG1lYAhqiLka9w\nJLZQSHS1DSKh9gokDg5LID57GwD8wuLQEQ3gJoRAv4RcVC8w8+fMXECv1w+tVatWgc6dO3t0U1Cv\nXj106dIlW0xMzHeAqCuZeah6XV9A3NyLENE7RLTdi+jnNoBId9stfIVStraFyPoD4RpvV0QCD1KR\n1QDsSYdEv4fU5QDcn782EBIZ+V3QkxbU983u9h8FyQa0c4welYy/IYDpzNwAuF+zbA6J2lNDkNh8\nQJDYMgY5IWkHu0b3BoDcgVIzqjTIaxDvuU3M/Bkz6zxdh5mfZvHs2wxJmZRQjcpJRHQEcrc6wg9b\ntqvjrBDCaaj2XtubfTtCKSgnQRSUf0PaECZAnNkHE1E9SKQbk5SUdDgsLKxHt27dwjUaz/9r2rRp\nE5KcnFxj/PjxWyFRRx6IM8dLRDSNfDCSVhfwqxAfyICCmRtCan4NKHCN344Rmz0VmVYa0o7NAAqy\nQ/O0akU5D4mCMhxEdINkpFAzAN0B7GDmcg6//139bj4z14aIhbak894Gic0HBIktsHgaQItRo0Z1\n279//3Ui0gH3rXhMEGVTQEBENpJxM+UAvAjgN2au4M5zmbkgM8+ASN9PQQhtnJP8HRCZ/Rueyupd\nwDFiyw+pv/wCMaet5uPadoRB0pN7IPXB1cz8ITOHE9FJIurZrVu3ASVLlkwuVOiRbga3EBkZiWbN\nmoXMmTMnHiLT7+6i3cEXBDwdyczlAcyDDAs9FcBTOUZs9gbt6pBIPVWoaG4JHKI2hUEABrObXo+B\ngGrFqQRRTW5g5imsfF6JaA8kXcqQsTmuetccYQaQqeOZHmcEiS0waBoTE7MnKirq8MsvvzwnV65c\nH69fv75IeHj4jfDw8C8h9lQBSUc6g4guQ5SBXwBYw8xjU0tnMfMTzDwR0gtzC1IHGk6pTAsmotsA\nhsAHH0kVkT0BqdlZIOSzXtXt1kKiN5+giPdXiCT6NSJ6GzIL61VI+ugtZtZqtdp34+LifLpLfvPN\nN7Vnz56tRESJvu7bBQJKbCzDSFdBPDE9s4fxHPYoHZCIDZC08a9uPPd7SK/Y/c8cER2AGnTqz016\nCpUC/w7yWrQQ9WRHZtYS0VaI2KUUHmRvUkMwYvMBQWLzLzQRERHT8uXLt+jTTz+tvH379ogZM2Zk\nmzRpkn7JkiVhy5Yti2natGkvvV5/9MyZMwnIAGID7kdviyB+doUA/KGakQHIoEhm/gJiqqsB8BwR\nDVLElR5mQhSMrbzcXmEAl9WduAUyWHGt+p3PxMbMrSDR38dENICUQTARHSWixpB+t94Afg0NDS3m\nbbRmR8GCBWE2mwM1jSFgxKZqpesAfE5EPwbiHE5wTkWWAnCA3DOZ/h3yWans9PNPAfRhH5xn/AUi\nuk1E3SCf304A9qhouCRE8PJTOvXvILH5gCCx+RF6vf7zAgUKvL1ixYqohg0bQqd7uDxUtGhRDBky\nRDd06NCcY8eOLXXw4EG/e92lBSK6TkQEGWq4hJmnM/MISLoxN4AXiKiXB0o9u/N8TwBjOR1PvVRg\nT0MCom57Fg96kn6D1CKLeLooM4cw8yiIQKQuES12dRyJD2QlAGN0Ol1u52GwniI8PBzJycmhCMx3\n6wpkPpdfoSL4VZBhpN/4e30X59NBshaX1I+iIDc06dXXANyvNz4kIlE/PwVRuw7w22Z9hKqvVYUY\nia+GKGK/hESW6/mB32UYgJqQ7MqzCBKbTwgSm//wJIAPv/vuu6hs2dKeqNK4cWNNs2bNQletWtUu\nY7b2CDZAvmjvAPgQQF8i6kxe+iIS0Q6Iv6I3c7Icay25IIawt9W6KZAowiN1pJJd/wTpFaqQXp1L\nRbRLjUbjuXv3XGZd3UZCQgLCwsJMkOGb/obfIzZ+MA36PKROlREoBInS7U4wkZCbC7eITWERgFYu\nlJCfAeik3D+yBFR6ci7k+3ETkonIAeBjm832f4ULFx6p1+uvFy1a9KcKFSrMj42N/bVLly7rTp8+\n7c2NYhAIEpvfEBYW9l7Dhg2RK5d76ve2bdtq/vzzz5ch8vMMATPrmPl9SD/Vi5C2gDcADGPfB5r2\nB9BN1Wk8gWNKKj+kedkRHqUj1R3wfrXmayTz5NyC1Wrdv3//fp9mme3fvx96vf6kL2ukAb8Sm6pR\nTQCQHUAHP/Qjuov7UboiVh3EUd/tuh4RnYN8jus6/fwKgO8gtd+shtYQcqsDiTZ7TJky5a+wsLCP\nv//+++yrVq3KNnv27NitW7dGDhgw4NmxY8dmh0SyQXiIILH5CTqdrmOrVq3cVjHly5cPZcuWtQFo\nFMBtAbjvuN8OMqm7GUSC3kLVmexThBMBHGVmj2euAWIjBGmI/srDpzqmIgvAYZq4wkYANZg53feW\nmRtD7vrHEFEPSsUbMjU8//zzvHjxYltysvfcNnfu3Pj4+PgvvV4gbfg7YvsIYsLbws3alr/gLBwx\nAzjiRb+c4wBSR4wB0DyQDjyegsU4vAKAlUR0GED1Q4cOzfvjjz8qz5w5U/PMMw+2GhoaiiZNmqBv\n376IiYmZnll7fpwRJDY/ISkpKWeBAp5lP4oUKRICNRU5EFCuF60gzvAdAbQnovpKQXYf9GCgaWtI\nrczbgabjATzPMnXaXRQDcI6ZS0Casx/q7SEZZHkYMsrEJViGgn4K6X1rSkSzPdm0clTh3r17z9Hp\ndHd37tzpydPv49y5czh58qQNIg4IBPxGbMwcB6nzNPSlv85LOAtHkuFZGtKOZQAaqobn+1CfmXGQ\nXrysgnchvpKJgKS/x40bl6dBgwbm1LI8jRo1AkRsku7A0yAeRpDY/AStVptstXrmOmS1WjVardbf\nVkX2C31jiPiiP0T1V4OI0rx4qN87DjR9yxMZPxGZIDW7SR64QNgjtgbqT1eOH6mmI1nGmCyDzMGq\nSER73TmpIv2GzLwFIjjYB6Do5cuXuw4fPtx4+7Y7gtAHSEpKwtChQ5Pr169vZDcmL3uJewA0zhdy\nT8HMNSE+nw1JDKQzGs6uIyHwgthIxsRsg7h4OGMygJfd7d0MJJQTybtw6l2LiIh4tkyZMqkKRMLC\nwlC8eHEL5EYgCA8QJDY/QafTnT10yP1RSDabDYcOHdIOGjRoDDOvY+aPmfkVd1JuaUE5G+yCuNwP\nh4gnNrhr4UQPDzT9GJ4PNF0NIcYP3NhrLET5dQNCXGfges6ZS2JT9bzdkAt+TVVfSe+c4SwjYI5A\n3OpnAihORONJ/CJX3Lt3b2rHjh0THYc5poXExET07Nkz8fTp0+tbtmz5KYDNLANP/TLR2w71f+hT\n1MbMzwFYCpmXd8Rfe/MQjqnIWEiNbZeXa7lMRyozgeGQ/s3MxqsAbjuLmCwWy42bN2+mWde8efOm\nFuLkH4QHCBKbnxAfHz9u/vz5LuczucIff/wBg8GQUrhw4WIQB/XckFTeLWbeyTKSviEzZ3dnPWZ+\nmZk3qbW+AVCWiH5wl9CcQY8ONO3kTvSmztcbwCfMnDedwx3HllSFiAFcEdsfAKJUuhIAwMx1IGKD\nGQA6qmgxVTBzdmYeALmg2tNwLxDRQuda3LRp0z4vVapUIhGZf/zxR5hMrpe2Wq3YtGkT2rRpYz1x\n4sRWg8HQok2bNrMgTeZNIQRXNJ33wFN4TWzqBmUtgA/JvZl5gYJjKvJFAGaVPvQGqwFUYBmE6ow5\nAAqpz0pmoiNcOI0kJiZ+v3jx4sSUFNfcdvToUdy5c8cMEUMF4QGCg0b9B314ePjfU6dOja1YMW1T\neqvVig4dOhhLly6ta9y4sc6RfFRqrTKAV9SjAoCzEDn9DgA7HCMT5Uk3EjI5egSAuZ6KJtKDcu6Y\nBXHcd2ugKTN/BSCWiFKbNwUWx/N3IeTUB5JWCiGiRxRtzDwTUmubDCHO/hBX/q3p7KOQOr49xEpr\nHBGlOg5HRVmrIdPO18TExHySnJxcsUWLFtpy5crpoqOjYTQacfr06eTFixebbTbbn7Vr1z5JRDU1\nGs1cSIPzbbXOh5CeqgGQ4aE+j31h5kWQuXcLPXxeNsjnZzHJmKNMgbpRuwQgGxHZmPlbiNGy1/J8\nFnPrwyRT1Z1/1wryWamYgapPx/Pngnx/i7ogb01UVNTu+vXrvzB48ODwkJAHAf61a9fQsWNHW3Jy\n8sC//vorUGKkfy2Cg0b9B5PZbG7Ro0eP1d98801k+fKuVbpJSUkYMGBA4qlTp37r27fvSxC5//1I\nj4gSIE4ZvwD3m1lfhHgmvgVgKjP/A7nIF4A4d3wO4M30ohZvQTLQtDJERefuQNPhELuqCkSUmk2S\nPWJrCIkkdEjdH28tZMp1eYiKszIRXUjt5Irw+0Jqd3MgEaw79aTP1R4+AmCJj4/fCKDY8uXL31u9\nenU5jUYTa7PZEpKSkk4lJiZOB3Dohx9+QFxc3JMQ78yTzDwWwGQiGsfMGwAsANCUmbsQ0XU39pAW\nPI7Y1GdoBSTdN8bH8/uKogDOOZD8i3ASDHmBhZDX9QixQYZx9oe0tSzz8TzeoC2ANalEpDaDwdBg\nw4YNa7dv3/58y5YtI3Lnzq09fPiwad26dWjatGnim2++uUI8FYLwBMGIzf+oEx4e/kOlSpU077zz\nTlT58uWh1Wpx69Yt/Pjjj7YFCxYYzWbzFoPB0IqZjwOorXpy3IKqK42H5O3PQFKYOjhEdAD+IP/P\nz7Kf/xk8SKt0JKJUe7ZULasLZDL1IyTIzFMg6ccPIeTWGEAeVeNzPrYUpMdtBUTd6WzIbO/Leg1A\nP4h7wyQA04nIrRoFy0DIUZC6pHsFtkfXKAmp67wEYDCkBhQKmW3WHsB7RPSTN2ur9fsAKEhEH7p5\nvAZiahwLkfX71KfnK5i5BYB3iOh1FdXehTjdN/FhzRBIFPgqER138fvXIOn55/ydzUhnXxpIGr0X\nEW1J41ANgIp6vb5taGhoLpPJdNRqtc5WwqY3iOi/GbLhfxGCEZv/8YvZbM6/Y8eOtr///ns/g8FQ\nRKPR2EJCQpIrVapk/ueff2qnpKTYIxi7EXK6xMbM+SFeeAT5kra3y7RVus2euuwMGeuxFw+Ibh/5\nyZSXiE4yc3WIOGSXik6+SoVI50EshNpAohZAFHA5AMTcunXrmejo6JPKxuo4ZCjjIzU2Zq4GETz8\nCWC+M6kpBWYcJELTQqTei4koyd3XxcwvQJSCdbwlNeD+wNfmzFwVwFhI5NcfIsRZAxld0gxAb0rF\nXDodXIG4dLiLkRC5eO3MJjUFR+HI8xDhj2cSVCcQUbJK0baBfEecf/9/zHwRD9LeGYXyELuwNCcW\nALAB2GcymfY5/Txoq+UlgsQWGMTbbLZpCQkJ0wCE2Gy2sMWLF5sBnOvRo4fJIbWQrsM/M+eGuBV0\nADAbQElnNw1lhbVQPex5/aoQohsNoAwz/wEhuZ0AdpF7BscuoaKvycy8BuLy0JKZO6jG04eOY+Ye\nAFaWLFny8Pnz5zvYbLaOWq02RK/XJw8YMCAyOTm5ZpkyZU7u27fvP8xsn6Dt+Pq7QtKa7SApyIYQ\ngrDXjTpDamin1Pu03tNalhK5/ACgW1r1N09ARLsUub0OiRz/ghBcOUgT+x/M3C69FgwXcNsvkpnf\ng5hTV3EV4WYSikFuYgAZU3MWMrLGVywEsJKZB6fy/z8IwA/M/H0GvhedIFOyva3tBYnNSwSJLfBI\nBpBMRGDmHyEXOrvMOlViU0X2PpDIiAGUdkfODgBEdAtiartKrRUFucuvBjEsXsjMF/AgotuhnEM8\nAhH9qdI8HSADTadCxBNJjseULFlSe+XKlQMknnm6ggUL3l/j6tWroUuXLi157Nixg3379r3Su3fv\nvWrPOohQ5BUA1YjoNDNfgozeeUq9jo4A/g/ipPKbp/t3OM9yAN8TkV9rMOoC+4O6AegIEaVshYwu\nWQUxol4IYLAH9VG3amzM3ARS86vmfCOUySgKEfEAQmwX4R9iO6TWqQIXrQNE9Csz7wHQAxlQZ1Tf\nuZaQmzFvESQ2LxEktozFj5ACt33q9CPEpr4QPSGktgZAeXdUiGmBxKpos3rYU3flIKTRCjJPzQAH\nogNwwp3IRx0zi5nXQ4yVf1fR234AxSIiInZVrVo11/vvvx/qyjn/ySefRK9evUK6desWMXv27CIj\nRowoUKlSpemQOtUtiEjEnrLTQN6vY5A0Z3kiOu/t+6IwEcA/CKC3oKrrfMsyjfwjyFy4+RA39y8g\ngpy26USLGgBVunTp8kGxYsWKxMbG/qHRaO6ZTKbfTSbTVMhQVgAAM1eERPeNiOhsgF6Wt7A7zWgg\nxDYPfiA2pbBcCElHptYT9ymAncw8w4f2AnfxJoDdJPMQvUWQ2LxEkNgyFrsg9a/CStF3n9hUY3ZX\nSDptO4BXVL3G71AX2l/VY7y6yDyDB3W6QQCimXknHohSDqZVeCeiy6p2FAdg9ddff71s4MCBzXv2\n7Jm3TZs26fZLhoWFoWvXriF58+YNmTx58tYLFy5MKFy4cH8ANtV03g9CxscArCYin+2SmLkLxCux\nUkZIwZXi9TMlcR8KaS4fB4lg/o+ZxwMY61QLC9FoNB2ioqIGRkREPPH2229HFC9eXBMREfF8QkIC\nDh48WGnp0qWdtVrtH/Hx8SOZ+SRksoH95iLLgMWBoxBkkkBJAAmQjIa/UoOLrl+//ntYWNgxi8Wi\ng4iNNkFNWlD14R8h7RfeTKLwBB3hWqXpCYLE5iWCqsjAonx0dPRHGo2mskajsZjN5pWff/550YIF\nC+4moknM3AHigbgToqD7A5KWct/CJEBgGftRDQ/IrijEdspep9tLqZjWMnPe8ePH7y1atGiRTz75\nxOPP2Pjx45OXL1/+08yZM5dBCC0SQgALIW7uvYjoVS9eluMeq0LqatVI5nhlOFist0ZB0sQTnri3\nzwAAIABJREFUIYbY4RDV4FkAkVFRUSsLFSpUrXfv3lGVK1eGVvvoPUJSUhI2btyI8ePHGytVqmRu\n06bNoNatW2c581z1mdpPRPlV7bQKRDxymoi+9nH56Ojo6PkajabZK6+8YsmWLZtm9+7dSTdv3rxn\nNBrjIJ9b+x7+APC8j9FUqlDK4W0Q9arXKkxmXgERQS332+b+RxAktgBBr9ePCA8P79O+ffvwqlWr\nhpjNZqxZs8a8evVqdOrU6WTVqlVfhAg7ugHYC+BTInJ7bEdGg2WkjV2QUg0SPR3Fg9TlTlXbA4Bs\nOp3u73Xr1kXkzZue+cij+Oeff1C/fn3bV199tTdHjhxfQBqSU9Q+ogFcBfCUl6pCMHNBCEl3IKL1\n3qzhTzDzy5Dhk9khUVwLs9k8+P3334+rUqVKxTFjxkSEhaVvvXn79m107tzZcvHixUkmk+mRlonM\nhlLTjiKiaiptuBlCbruJ6BFnDg+gjYqK2l69evWXhg0bpo+MjAQgtnXbt29H3759jSaT6RXI5G0w\n85cQ84Cuvr0i12DmMQA0RNTfx3W8asYPIkhsgcIb+fLlm7dkyZIoZ+fuQ4cOoXv37hg+fPiZfPny\nmQCEElGpzNmm92CZulwRDyK6yhDl384JEybow8PD35wyZUqkt+sPHDjQvGHDhmFWq/URlwxm3ghg\nGhH94OW+dwBYSkRZxtFBpYObQm527s2fP//pmzdvxk6bNi3EHVKz4/bt22jZsqXx+vXrb0PMnbMM\nWEYn1YEMuL0ESQOPAPATpTLh3E3UK1So0PJVq1ZFO7p3OJwXkyZN2hIfH19b/TsnpCZZ1d/Ruqpf\nXwRQy9dSgnJU2UEeTqsIIugVGRDExMQMHThw4COkBgDlypVDw4YNsXTp0n8gs9F8Mj3OLBBRIhFt\nI6KRRFQPMv36bQD//fvvv19v3bq116QGAHFxceF6vT61O+q18HCqNnCfPGZAWgPG+rA9v4NkivdP\nAMrcvn17wfbt23MMHz7cI1IDgJw5c+Ljjz+OjImJGRaQjfoGew9bEUg/4xlImtmnGltMTMwH7dq1\nc0lqANCkSRMkJSVVgapnq1aX8Xgg4vInGgE466f6eLDG5iWC4hH/I5vJZCpZo0aq48PQqFEjfPLJ\nJ2Ugd6xPMvNbkCZNOP2Z2t8D/Xtf1vr11q1bKYUKFXL10t1GgQIFYLFYcqfy67UA+jKzxsOetT4A\nnoPU1Xz2bQwEVKN7YuXKlQ358+f3arp6jRo1oNVqi0PSxZler3VAMYhVXHU8aFqOBhDKzEUgzczR\n6s8oN/4dDSBqyJAhlYoUKZLqSSMjI5E9e/aka9eu5YUItgBpxj/FzC952yqSCjpCJkb4A0Fi8xJB\nYvM/wkJCQlJCQ1N/a/V6PSAf2NcgDcmvQ9Rh9tSwJo2/+/p7f67l8vchISExrqT9nkCv10Oj0UQz\n81XIF9ykHva/5wSwhZmvO/zM1XH2P0tAGmb7AqjOzOkdbw6ULVl6iImJ6deuXTuvSA2QCcxt27bV\nzZ07t7fBYGjv635Ur98jhOLFv5+H3MzlhGSLrJDPzIsQay2DeiQ4/N353zecfxcfH//ZxYsXq6Zm\nPp6YmIh//vlHhwekBiIyMPMISLtFXR/fIgD33YGqQpTB/kCQ2LxEkNj8jzsajebu0aNH85YuXdrl\nAbt370554oknbkAar6sC6EdpGPo+boiOjr6ckJCQ3xvhiB0JCQmIiIhIhggM/oTULS5BJgyEQ/wl\n70J6/fTqEe70Zzb197yQtO8eSB3L+ThXz9Uzsw2uSc/dn3l8fFJSkqldu3ZPp2ai7S4qVKgQumzZ\nsuqzZ8+uhzSiHTf/DaRNNs7/vpLK73+AXPQXqD9/U492PiqBw+fNm8fNmzd3mY78+eefodPp9pnN\nZmcD6lkAPmLmV4lokw/nt6MdgOWpqYW9QJDYvESQ2PyPFIvFMnHixImDp0+fHuH8Rbtz5w5mz55t\nIqIFkEjN3sv2ryE2jUZzcN++fU8WK1bMa3HSvn37oNfrj0GEHqUgDa+lIHf7pyBN1eUgbh6/QyTj\nj3hDskyb3guZQfatJ3tg5lC4QYDp/CxS7dnt5yrLMU+2+giio6MRFhb2FKQh3BX53IT0k6VLVp54\nbqYGJdrJps6ZDcCvynItSp3LF6y/cePGf4cMGVJ28ODB4Y7v3e7du/Hll18aExMT+zo/iYgszPwp\ngNHMXNGX9LTq0esIaRD3F8wAIvy43v8MgsQWAFit1vFHjx5t8t5775Xr3bt3xHPPPYfk5GTs2LED\no0aNMpjN5sm1a9eeCql//IZ0/CIfNzzxxBOzv//++7pxcXFhGo133DZ37tz4q1evfkJEaxx/roiq\nJCStNRVibPs0gMLKJuy4w+MExFFkp6ekBtyvdyWoR0ZBq9FoLFarVZtWOjs9mM1mxMfHXyAiv6TZ\n/IAikJu3ahCln70h3mfxCIAUg8FQZ/PmzYt/+eWXV+vWrYvY2NjQXbt2JV6+fNmUmJhIEDMCV1gG\nadhuAZkc4S2qA0iEf4eCmiEtIEF4iCCxBQZmg8FQ68CBAx+9++67vQHEJCcnh4SHh5+Kj48fDpGa\ng5nP4YFN1GMPlgnXfW02W6sePXqYDxw4EFahQgWP1zl27BguX75sBrDO+XdEFA/lmqJGoMwlomXM\nHA4huFLqUR/iCZgXwBXVInDc6XEjC4pIUvR6/d2LFy/mKFasmNeLXLhwASVKlCjcv3//VZCevf2Q\nKOkff23UQ9gVkdUhzjp2+IPYACA+ISGhMYBiP/74YxNI9HsUwHpI/dolVNQ4CMAkZv7Jh7pqR4jh\nsT8/T8FUpJcIElvgYLZaraNUH1YuAJakpCTni8qPkBTbY01szFwB4lxfE8C3Go3mmVu3bjUZOnTo\n18wcGRMT4/ZaRqMRn376qcFqtY5EGhckhbUQt/9lRGSG2G0dU3tqAYkOnoKkc+yEVx7SllAKYtfl\nTHbHAVzMCIstZ6ipDG/OnDnTsHz58hz9+3vf3/v999/HG43GvpCRMBUhPokvMvNlCMnthxDeYfXe\nBRr2obLVIT6WdvgjFemIc5BpCp5gI6Qu2B5eKBqVYXkTSN3XnwgSm5cIElvgkQIHNZYTfoBYRj12\nxKZ6wupC0jglIH1B7yo/RCxYsGDTnDlzLF27drVMmzYtLDY2Nt01DQYDevXqZbty5coai8XijsXS\nOgCDmVnrSETMXAbAdAANiOhv9eM/IUTouP+8eEB4pSC9caUA5FCei86Ed8Yf9SZHKCeVZpDp6NUA\nrHv++eeHT5069esePXroIyI8L7GcPn0a586dSzaZTHOUpdNyda5QyOurBCG7zgCeZuYjeJjszgQg\nki0G4G+IV+QhtZ8wSMYiw4Z/uoIyUB4EYDkzLyTPZxe+BWAj+TDHLxUEic1LBIktc3EcooYrmdkb\ncRfq4tgSEqHpIFZQDw31ZObSANZ37NhxSN++fSu99dZbb33wwQeoU6cOdDrdI2taLBZs2bIFU6ZM\nSSlcuHCi0Whsiwd9camCiM4x8z8AXoDUKu1Rz4+QQZ4H0niuDcA19djq9BqzQf5P7IT3jvqzEDOf\nx6OEd8JO6O5ApU3rA2gNIdOdABYBiFOpVsTExLy1cOHCVzp16uS66zgV2Gw2TJ482ZSSkjIFToSh\n0mxH1GOm2ksURG5fCaIYHQkgGzPbiW4/xN/RWVHoKYpC3D52O6T7IgEYs0I6mIj2qdfcHZ4373eE\nGIf7G0Fi8xJBYstEqDvF3ZCm4SwNZo6ECDU+gqRthsDBw9HhuCqQSLR3aGjo8okTJ769ZMmSb0eO\nHPniiBEjyrRq1Sq0dOnSYVFRUTAYDDhx4gSWLFliBHCqbdu2OatXrx67detWT+oc9nTkb4p0GcBK\nX/z1lAel/aLu+NrCIdGpnfAaQt6P/zDzTTxKeMfts9CYOQRieP0WgOaQ+s9iAN1d3em3b99+5oIF\nC2oULFgQ9erVc2vfNpsNEydOTN63b9+ZpKSkL9x8rY7jiuyvMx+AChCy6wmggrqBsEd0+wH8Tp4N\n7CwGEeE41tf8nYb0FZ8C2MbM37lbi2TmcgByQxrP/Y0gsXmJILFlPtYDcO/KlQlQvnofQO5k9wJ4\nm4hczrti5oYA5kLc6derBtgbcXFx3X744QcbgJKLFi16T6/Xl7bZbLGFCxcuWqBAgWzFixdvcPDg\nwe01atR4FTK+5QkiuubmFtdCrJFGQKLHZARoJImqRR1Vj/tQpFUYDwivIqSnqZRKeRog6rbbkP/v\nRpAoyGUdj5k7Axhx7dq1Tp9++ulXV69ejWnTpk2a9lrx8fEYM2aM+dChQ9qhQ4fOHzBggNeCDJW+\nXa0edil7CfW6KkF60J5j5lN4mOyOO43csb8eDYTYUiApYjv8JRzxC4joODOvgmQjPnbzaR0BzAlQ\nTTZIbF4iSGyZj20Awpn5aSI6k9mbsUM54PeBXKB/gpi6/jeN49tCRss0JaK9yrG+M4AXHFJNJ0wm\nU2+TSYZFf/LJJ5MgpJ6diADpR0uCFP/ddW/YAeBZZv4AUsCv6OriGkio851Tj5+Z+VlImtHeob4T\n0r+VC0J8KwDEuqjjnYBMI28K4JWlS5eeBrBl+vTpS2bMmFGGiMJatWoV+uSTT94/94kTJ7Bw4ULT\nunXrNGFhYWu6d+/+WZEiRdYz8yUiWuKn15cCSSOehDRX26PXchCyqwW5mcjHzL/hAdHtJ5nMnguS\nFi2Bh2X3WYrYFD4DcIiZJxPR1bQOVL15b0FSuYFAkNi8RJDYMh/XIFHG6xBiyFQw83OQO9YmAOZA\n5lb9lc5zekNIsDYR/VcJIhYAeD+di8NZAPEAXgawCnLxSwZQnpmbENHq9PZLRGZmPgixRqpMgZ+M\n7BLMXBhCxm9BLuRLABAkZfdIDYmZY/FwHa8jJFUZCTEHHuOg2OzWv39/26JFi7rOmzfvbY1GE6rT\n6Swmk0kXFhZ2z2q1fm2xWKabzea/R48eDWauD+AXZv4nUGN5VPS6Tz3sryknJIVZEZK2/paZLQBO\nQ6K105ALtV2FmdVSkSCiS8pVfwiA99M5vDmAAwF0DQoSm5cIElvm4y7EN685MpHYmLkaROFYAcBk\nAMXTIwmVYhoJaVl4xeELPgHAdjfGypyBqOJeVv+2QLwzuwCYx8zb0pu5xsxPQpq1f08rogwEmDkv\nREjTGkJSyyE1qR3ppaaI6C4UMSiPwVWQSK4HHk5rNgbQ78svvywB4EZKSsr2u3fvnr1x48b5qKio\nQzlz5jzYvn37m05rH2Hm5gB+YuZmRLTbn687jdd0G8AG9UB4eHjuMmXKvFK5cuW3ihYtGvLUU0/l\n1Gg0V1Qj/X6ozz4zh5EPAzkDgC8AnGTm8UR0Oo3jOuLh1Kq/ESQ2LxGcx5YFwMxXIHfqz3hQW/LH\nebWQyKw/gHwQYp3rjtxZ1ZWmQtIwDR1EEk0h06DLuUFK/4FcBHMDyAG5q0+GEP1MACYi+iCN54dD\nFI07IRHCE4FOQyrFZHMImVUG8DNE0fh/3rQCMHNZCKnNgAzhdKkQVO93ETzcnmB/WOBCuALgWQDz\nALxGRIc93ZsPqBodHd3fYrHUfeqpp8wRERHh169fD09JSbly9+7dEWPGjDlUoECBcgDegLyHWshU\na8eWgz8zUy3JzJ8AKENELlPizFwMss8CgeoDVJ+NBUT0fCDW/zcjGLFlDdyAKA2bAvgu0CdTbu1t\nID10JohDxwp3XRcUoSyECCJq2yXqzPwE5A62ZXqkpnAeQH5I5PY8Ef2ujIe1EBf+Y8y8yJVYRUWL\n30DetwEQ+XwFiMDFr2BmPUTw0RoykWErJE37hi+Gtw5imx5ExGkdqwj7rHrctxlT70M+PEx0TdSf\n2SCp7r3MPBXALgjhnQ1QhKSJiIj4Qq/X9+jSpUtE06ZNNdmyZdMDQEpKCvbs2fPUzJkzvxoyZMhF\ng8FQi5nvQkytOwF4CSJMeRMiAtK7aDm45fq0AcFEAKeZ+UUi+t3F7zsAWBjg5vZgxOYlgsSWNXAD\n0ofVHAEkNuWz2AXikHACQC8Av3hyZ6wilh8gCr9G9i+2usDOhCjEdrqzFhElqWj1GCQd+TtUOpKI\n7jBzTwAzmbmciwvIB5AL4cvKFsku+/cLsanWgdqQmllTAAch8vzO/qjjMXN3AJ8AaEZEe7xdR/3f\nXVWPzU7nyA5JkXaDpM2eh6gTC7DYuTlHeCd9Ierw8PAhTzzxRPd58+ZF5syZ86HfabVaVK1aFVWq\nVImaNGnS04sXL95+8+bNiblz5zaqG6OtcOgnVOlZuwqzL6TuegMPqzAPEpHJ2/2mBZKxNiMBjALQ\nT6/XdwgPDy9ms9mSTSbT0evXr3fMmzdvoH04g8TmJYLEljVwAxK99GTmbG5GO25DRVI9AXSFXPya\nkRfDFVVNaR3kotLdKe3XCWJf9YaHy54FcBlCbN/gQZ3NBKk5tYVIr4c67KMmpOeoikNj9FpIKnWI\nh+e/D0XOL0Mis1aQ/5PFAD4moiverut0jhBIDbIOZP9/+mNdV1C9WHshEdunEDFLBYhZ73/wIMJr\nCuUgw8zX4LofL71oqaBGoxk4Z84cvTOpOUKj0aBXr15hZ8+eLTR//vwGffr0uZTK3q9AGu1/BO6n\nzUviAdm9A6CkEtg4kt1Jf0nvO3fu/Hu+fPkmZM+e/deWLVuGFi1aNCQlJQWHDx9uPGjQoFCNRjMO\ncsOQprjKBwSJzUsEiS1r4AZk/tVOSEptqT8WZebikLvdOIhKr7K3LQUsE443qnWGOkZ5zPw05M62\nhhd1pjOQxt2m6t92YrM3sH8AkV8vI6Kjah9LALQhonMO6+yG2EN50gNn338ZSGQWB7noLwJQ1d/t\nFypiXgy5WFVxtwnYT/gcotb8GQ9qbg/V3RTpFsUDwqsCuXCXYmYzXNfx/iIiW3h4eLdmzZppcudO\nbej5A2g0Grz33nv69957r7bVap3mzuYVWf1XPeaq/UZAXGcqQtpGhgDIxcwH4EB26cn2U8GrSUlJ\nq9q1a6dr0KABHHsImzVrFvbRRx9h3rx5tWfPnn3IZDJVhnyO/Y0gsXmJoHgkC4CZB0PcyC9A+sVa\n+7jei5A78FchNa+vfRGlsFhkrQMwloi+dvpdKJQllPPv3Fy7H6TO1t5kMj0D4Ojt27fLffjhh1cc\njnkPYlD7mjrXbCJ6xOiWmZcBWENE89w4bzFIZNYagJ1wFkNMgf0uWlB9gWsgF9sPMkMFqKKe2QCe\ngETtbt2EqEj2SbgWrkQDOPHee++VmTVrVniJEiXc3k/z5s2TatasuXjmzJntPXohae81N4To7I9K\nkF45e0S3D8BvlLYFWhG9Xn9k6tSp0elNp1i6dGnKuHHjriYmJhbHgzYGv0C1zVwjoqh0Dw7iIQQj\ntqyBGxB14WRI/1K4p0VpdfF5FUJopSDprk52YYe34AcWWR8S0SIXh3wM6UWb4s369+7dO79jx464\nnTt3hpw/f/5qSEiI1mq1/qXT6YyhoaFLjEbjRIhi8C1IM/tBAKkRqL3O5pLYWKyiWqm1ikFmcXUF\nsCdAzhH285aHpNQmAvgqs9R+qhbZCZLincfMbd1Rkar9XlGPhyZNM3OOpKSkUv/8888uT8fsFC9e\nHFevXvVtoqoTSOzJ1qqHo+uJ3fj5CwBlVY3RkeyO2cVTer2+d6tWrcLdGbnUqlUr7erVq2MPHTr0\nJkRQ5U8EIzYvEYzYsgDGjRv3ttVqfXvgwIGdFixYsESn031GRBvcea5KH70BIbRIiKJsoTfScxdr\nNwAwH2KR9chsNJZxNT9D3EUue7i8Rq/Xf6zRaAaVKVMmok2bNtoqVapAr9cjJSUF165dw8qVK62L\nFi1KstlsJ7p3736sXLlyrQE8R0SnUtnvk5BUVR77RUoJKFpAyOwliLR+EYBN7qpAfQEzvw4RBHVx\no68vQ6BUnush79UHfiBarUajsfz222/atGy/nNGnTx9LSEjIwvXr17/r4/k9glIFl8GDiK4iZOrA\nQYPB8Fv37t27Ll++XF+wYEG31tu0aRMGDx58JD4+3q+yfEXKyRAxVYa66TzuCBJb5iEEQIOYmJj+\nZrP55Vy5cmmMRqPJarWGlS1b9uTu3bubQ4QVLqHqC+0hNbS/IZL9Nf6KPJi5DWQUzeuuVHssrvC/\nAxhMRJ7WBEMjIyOXFCxYsP64ceOiihQpkuqBFosFq1atsk2YMAGtWrXiOnXqxELUmKn1e/0O6cvL\nCUkz1oYY1C6GmDZ7OpLEK6iL0kcAesNLsU4godStWwCsJaLBvq4XFRV1debMmflKly7t1vE2mw1N\nmjSxxcXF7X7xxRcHAdibmU3aygmm/KZNm1pu27at4/Lly93OZlmtVlSoUMFqtVpzwM/T1pk5EUAu\n8sxw+n8ewVRk5iBbVFTUurx58z7fsWPH6Hr16kGv1wNA1KVLl7B06dIyBw8ePGKxWD5yLq4zcw6I\nfLsHxHevnbvyenfBzL0ghFmbiI6lcthYSGHeU1LTREZGzipVqlSDb7/9NlK97lQRFhaGN954Q1Oo\nUCF069atacGCBS8/88wzrSFRl+OewyBKw1BILWsbhMzaK5ePDIPayxRI8/HLRORS+ZeZIKJ7KiLf\nwcy3iGiiL+uZzebJCxcu/PSLL75wa4DcgQMHkJSUlPTCCy9ch6RoizPzJkgkuYGILvqyH0+hPiOb\nAIS/8MILcQDSHyCoEBoaCr1eb0lISMgGPxMbHqQjg8TmAYIRW8YjPCoqamfdunXLDB06NDwkxPW4\nrYsXL6Jdu3bGO3fu9ExOTp7FzAUg/WfvQlzXxxLRUZdP9hIqyhgBsYmqm5oHnrogfgugrBfKvib5\n8+dfvHLlyqioKM9q4uvXr7eNGDHi+owZM6DRaEpDeumqQtKMb0C8CPcCqEdE7oUOfoZKfS6DmDnf\nn6+WVcHMhSCCnE+JaL4PS+UNDw+/sGLFCn3hwoXTPDA5ORkdOnQwFi1a9M9WrVoNJKI1qiWlLkQV\nXBdSd16vHtsD1a/mAq+UKFFi9cqVK90mtpSUFJQvX95qsVhyQurNfoNqvyhLDwbmBuEGtJm9gf81\nhISEfPDss88+O2zYsFRJDQAKFSqE2bNnR4aGhn7zzTffLIJIs7UQq6p2ASC1EADTIBeWammQWm5I\nI3Y7b+TqMTExAz744AOPSQ0A6tWrp8mWLVvUzp07j0Kaec9Det8uQFz9q0LSkE8y81Men8BHMHNR\nPHD3aJbVSQ0AVGRUD8CXyg7NW1y3Wq0927dvb7x0KfUA1Wq1YsiQISknT548/Prrr9+EikSI6BoR\nLSCiNhAnlXYQV5KhAK4z81pm7snM/1E3YIHCwYsXL4b9/bf7PLJnzx6Eh4efh59JTSEoIPECwYgt\nY6GNjIy8NH369PzlypVz6wkDBw60JSQk/F+3bt1ak5jM+h3KIut7SF3q9dQuyOqCsgJiydTPi1M9\nHRkZeWT79u368HDvvqtLlizBhg0bEvv165cEoD8RzXCxz0UANhPRTK9O4gVYxvSsAPAFEU3OqPP6\nC0q5uRZAKyLa6u06oaGh3cLCwsa1bNkyNC4uLswuwEhMTMS6deswa9ashOjo6JRevXp9mz179poA\nehLRvrTWVOn3VyE3XfUh0bA9mtvi7xuIyMjI79q2bdu+R48ebpVqOnfunLB3794PoaaS+xPMfBpS\nU3YpmArCNYIRW8aiWs6cOWPKli3r9hPi4uI0Bw4ceC6ApBYDuaBpIGbGaV0k2gF4GuL64THCwsLa\nN2/ePMRbUgOAJk2a4PDhw9qzZ892BDBI9fo4Yx1E9p8hYGaCzKzr/DiSGgAQ0QFIg/pSZn7J23Ws\nVuvUxMTE55cuXTq1efPmCVWrVjXWqlXLVL16ddu4ceO2XLx4sWXv3r3/kz179paQ/sV0a0dEdIeI\nlhNRJwAFIc385yBuOleYeTMzD2Dmsv6I5oxG47gFCxYk/fe/6Q+LWLdune3QoUMmSD03EAhGbF4g\nSGwZi2LPPfecRqNx/7tXsmRJJCYm5kMAomtmzgNRxp0BQGn1zqk021iI44dXjagRERFPlyhRwn09\nuAtERUUhe/bsSR9//PF/IUNGR7g4bAOAV5WsO2BgZg2LC/yXEDePnwN5vkCDiDZDvETXMPMzPix1\nxmQy9Tabzbnu3bv3TM2aNZtNnTr1z/j4+NoA1nfp0uUaxKg5P8Qmy5M92ojoKBGNI6I6kMbx8RDC\nWwHgMjPPYWZimQ/nDU6aTKa2HTp0SNy+fTtstkcFuBaLBUuWLEkZMmRIgslkqoPAzZULEpsXCBJb\nxkLrEatBzGNtNlsgSK0wRDSwDsB7afXJqPrbAgCjieiIt+fUaDQx6akg3UFEREQKZEhlHwCtmbmS\n4++J6DrE5LmazydLBSp9OxdiXF2ZiP4I1LkyEkT0I6TpfqNyS/EFSQD+atmy5daoqKin1HtmP88x\nyDy2Kcomzdv9JhDRGiLqTkRPA6gO4ADEY/Q8M+9h5qHMXEl9jt2CzWb7wWAwNOnfv//F+vXrJyxY\nsMC2Y8cObNu2DVOmTEmuWbNm4qRJkw6bTKYKkJE7gYIZ4koUhAcIElvG4tKpU6c86jM7d+4cIiIi\nbgHwm1sFy5TsnQC+IaLBbjTo9oN4OE7w5bzJycm3DQbfb2wNBkMIgHvKZaIPgO9cRGdrATTw+WQu\nwMy5IL6ZMRB/TG+8CLMsiGgOxN1loxIL+bpeEoCLAIo7/SoMYly9RvXV+QwiOkNE3xBREwB5IGnz\naEj96xozL2bm9qqZPz1sMhgMRa5cudJk6tSp/MUXX5z+5ptvbi5YsGDWvXv3KickJLwA4KQ/9p0G\nghGbFwgSW8Ziy9WrV5OOHz/u9hOWLFlitVgs3/prA0rksBnAQHe8HZn5BQh5tPO1+dtkMh369ddf\nffLTu3btGu7duxeCB47qi9XfncUsdnstv4KZSwDYA7FhepN8GPOSlUFEX0Gs1NapOqyhYEcNAAAg\nAElEQVSvOAHgfnpT1cIioaatA1iifEf9BiIyE9EmIupHRGUAlIM06zeCzPo7xMyjmblmGmlrG4Ct\nCQkJrceNG9dv2LBhu41GY1c4GUgHEEFi8wJBYstYWK1W69fTp083ucrbO+PatWtYv3691l/Exsz1\nIZZS7YkoXV875W6yEOIT6VXDrKpDvczMX0+bNq3fjh07dHfueD/ObNmyZdbQ0NBFeCATtwF4D8CH\nzOxYr/kNQG5f0lzOYObqkLreWCLqH0h/ySyCTyDv40/KhssXnMTD9TQdAKuyNesFaawf5+M50gQR\n/UVEs4ioJYC8EKODJEiN9AYz/8jM76l6siskAnCrAd2PCBKbFwgSWwbDYrFM2LNnz6Wvv/7amha5\n3bx5Ex06dDA2adLEomx1fAIzvwUxB27myvcxFXwBuTN1ZX6c1rk0zPw8M38BUa/NAnAjW7ZsrwBY\n9sMPP3hFCBaLBYsXL05Sxsj3oUj3M0hKUqt+lgIRkfglHcnM7wBYDqAtEQV8ynlWgLpp+ADSLL3Y\nx4jqoYgNUiO135xYIObU9VgmOQQcRGQlot1ENISIKkLUvksho3r2MvMJZp7IzPXVDR4QJLbHBkFi\ny3jEG43G6osWLTrTsWNHw65du5CS8uA6f/fuXcyfPx8tW7a03bx5c9Lrr7++AZI68Rosk6jHAHiV\niHa7+ZzXIG4e3dw1yWXm4iwDLY9CIkMNgNchxsUjiOi0wWAYM2PGDNPFi54HgN9++y1iYmIuq/Wd\nMRVy19/F4Wc+pyMVSQ8HMAxATSL6xZf1HjcoUdHbkLThDB/k9M4RWyQcpP6q2b8xgGHMXMfLc3gN\nIrpBRIuI6B2I0vItANcADII0iG+ACIVyBLhB3BlBYvMCwQbtzEMEgDbR0dEDQkJC8ufNm9disVhw\n9erV8PLly2tq1KhxvGzZsgwxOG5MRG96egL1BRwOmZxcl4jOu/m8nBCl17vpXciZOb9avzXEIX0Z\npO61JzVCDA0N7ZYjR46x8+fPjyxQoIBbr2X+/PnJ06ZNuzNu3Li7OXLk2ASgl7PNkhLFbIW4s1xW\nr+M8gLzeWDKp9NscAIUhjevXPV3j3wJlev0LxFmln7s3Ow7Pzw2xPMtJMkD2PxDT7v84HVcd8hmq\nQUQn/LN736AMkmtDPuPNIeN77A3im8jPE++dzj0T4sn6iBFBEKkjSGyZDw2AEpDhj2YAZ1WEVQyS\nRqsPMWfNRx440ytp8zcAKgBo4O5FWZHhEgBXiah3KsfkgkRzrQGUhcwaWwxxgXBrFExYWFhPvV4/\neuDAgRH16tVDak3b58+fx4wZM8ybNm3622g01mTm25AxMCUAtCSihyYgMPNnEJHA6+oCuhPAcCLa\n6M6+HNbJA2m6vgAh+IzyKsyyUDcK2yBDZb/w4vm3ADxLRNeUKGkOET1iwcPM70JaDioT0S1f9+0v\nsAyn3QTJAthdUKpAplzYie4PP9ReNQCqREdH98qVK1cdi8ViSUhIOHzv3r1vIZmQTJuC8Lgg6O6f\n+bABOKUedkyD+A2Oh9S5DkKc61e7s6CTRVYtD+8o3wJQGjISx3HNaADNIGRWDVK/mgRgvTcXfYvF\n8rXFYjkyevTo4aNGjXrpjTfeCKlevbouW7ZsSEpKwpUrV7B48eL448ePw2azfWc2m0cCuENEYOY4\nSO1nDzN3pYfnnI2CvF9vAFhusVjWbd68uRuAiuHh4XmsVqshOTn5KqSZ94rzvtRrfRYyIeB7AMP+\nB0QiboGIbjNzPQA7mfk2EU33cAl7ne0anFKRTueZo4RAK5n5NfLDbEE/IRFABBEdh3w/JzBzJIAa\nEJJbDElVboCQ3P8R0Q0Pz1E2KipqeVRU1JPt2rWLKFOmjFar1eLChQt1Fi5cWOncuXNWs9nc2Waz\nrfDnC/u3IRixZVEw83wAxyA2R0cBJBFRRzeeFwORad+FuIS4TTosTu8HIO74BxVBNoCQWX1I79si\nAKv87M/3tF6v7164cOEuN27cuJOcnBwP4O+7d+9+BxFsuGwRYOaKkIL/SgADlAgBzFzl7t27K/v1\n6zcjOTm5e4ECBWKrVq2K2NhYrdlsxvnz5xN/+eUXrU6n2xwfHz8Wkr60qefWUa+xL/nmdv+vBTM/\nDYncPiQPxhYx82zI3LUZqobbn4heS+VYLeTm4zZkEnymTB13hEpJXiSiVJ3/laKyHuT7UgtSW7RH\nc/vTyWhU0Ov1mwcPHhzVuHFjjVb7qATi8OHD6NatW2JCQkKP5OTkWb68nn8zgsSWRcHi17cSohZb\nA/m/ypfWF0Olz9ZCIpb303ITcfFcLSTNshEy581eTzgMuRNdHui0EDOvAMAeXixzQqZ854TYgl0C\nUCkmJmZ79erVtW3btg11NfwyISEBa9assX333XfGhISEn4xGY3tmbg+x6GpFRNv98qL+pWDm5wH8\nH2S6urvT3vsDeIKIPmKZLP4uETVL4/hoSHvFIiIa6499+wLV65ZARG5Ztanjq+BB2rIQpE5pnznn\nOHU+Sq/XXxozZkyO2rVrp7nu+fPnERcXZzQYDNUg3/UgnBBURWZRkExcvgjxwFsAlXdP7XgVbe2A\nEFNXD0lNAxn2+B9IT9EXkGixDBHVJKLpGVTrOAORXbsNEnPoppDaw68tWrTordfrN48ePVo3evRo\nl6QGANHR0YiLi9OsXr06qkyZMq8/88wzJ5OTk/sBeCVIaumDiA4DaAHge9X07w4clZGppiIdzpEA\n8ZTsxcypEmAGwgIgxF1rLiJKIqKtRDRQ1RJLQ248XwNwmJmPMPNYZn5Vp9O1e+mll8LSIzUAKFKk\nCDp37hweFRU1wJcX829GsMaWtTEJQG/I3V4HyNTsRy66qia0HsB4cnMSsiKzMpDI7G3IDKxJAL4l\notN+2b3nOAuZOu0RVA1sdK9evc5s3rx56YQJEzTVqrlnExkZGYlp06ZFdu7cuXCPHj1m3Lp1K7Ne\n+2MHItql+vt+ZOZXKf0ZgY69bJFwwziYiP5i5uYA1jLzBSI65NuuvYcSI9l72TyelE1EVyD+onMV\nOZaHfLdH5s+fv+I777zjdqDRokWLkGnTpjUDkAtAlhHYZBUEI7asjR8hEVtJiAvE6w7NogAAZq4M\ncej/2B1Sc9FrFgq5c+5ERB9lIqkBErE5+wm6jenTp1dt2LCh1V1SsyMsLAxfffWVNj4+vj3kQhGE\nm1DN/r0BrFeqwbRwDkABVbu936Dtxjl+hbiErGL3PB4DiUQIKfsEIkomon1E9BkRvXrp0iVb5cru\n39PlyJEDxYsXN0MUwEE4IUhsWRiqnjYFkh6cChFR3J/3pSyyVkNqFd+ntg4z52fmD5l5P6QP6QkA\nnQHYrYOOQFxJMhsepyIdEGGz2Tq1adPGq7E4uXLlQq1atVJCQkI6eHn+/1kQ0WKIGnUjM+dL4zgL\npK/wabiRinR67jIAMyD2Xhnt/uGIQLiPROl0OosrsUhaiI6OBuQGIQgnBIkt62MmxJEhH6TWFsfM\nZZi5NYSMXieitc5PYuZczNyFmbdAorMykKivABH1UA4kNSDy/q5ZQXUG4DKAXEpC7Slali5dGoUK\nFfL65G3bto0MDw/vg+D3wmMQ0VTI53EDM2dP41B7nc2tVKQTPoe0xcyzW6dlAgJBbPfMZrMuKcmz\nroZbt25pIOrnIJwQrLFlXeTT6XQfdOjQ4V2tVhsVGxv7R86cOWf369fvjk6nWwUZ+VGHHOajpdFr\nto6choOqi888SAryZka9qLRARMnM/CekOT29es1DiImJqdegQQNX07TdRtmyZaHRaGIhNxEue9yC\nSBMjIancNcxcl4hcRWT2OlsUgH88WVzVuDpB1LvDAAzxbbteIRDEZo6Kitq3cePGlxs3buzWEy5e\nvIi//vpLC5kyEYQTgnemWRPP6/X6440bN+47a9asp3766aewjz/+OE9ISEj3kSNH5lcTtacT0RFm\nDmfm15mZIeNbWkPk+QVJ8KMzqSlMhlgauWuInFE4Cy/SkVqtNk9sbKrtRW5Bo9EgJibGCiCHTwv9\nj0JF/X0gtbTl7HoUjGPE5nYq0uEcJkgbytvM3MaH7XoLIwJghBwfH//lnDlz4t2Z+gEAixYtStJo\nNDMB/M874rhCkNiyHkIjIiI2DBs2LPazzz7TP/fcc8iTJw9eeeUVzJ07N6pUqVLaiRMnXgTwETMv\nAXAVUoPbBKA4ETUmooVpNVAzcysAFfHoDLOsAG8FJBZHM2lvkZycDABu2YIF8SiUQrUj5D2c6yJl\naI/YvElF2s9xHdIGMIGZU22BCRAC5fC/5q+//royY8aMdD97u3fvxooVK8wmk8mnwb//ZgSJLeuh\ncaFChaIaNWr0SPO8VqvFRx99hDNnzvzn7t27iQCehfSa1SKiGe70mjHzU5BorW0qqaLMhlcRm8Vi\nuXLt2jWf6oRWqxX37t0LR1A+7ROUSIQAPAVgsqMb/pAhQ8JXrlxZdtq0aRVHjBhRD9Kb6bFRhGot\naA+JDIv4ZePuIVDEZjUaja/Onj37+qhRo3Dr1qMfwcTERCxevNjWq1evBJPJ1BDS5xqECwSJLYsh\nMjKyQZMmTVKdWJw9e3aUKVMGo0aNGgQZ1ljR3bXV3fNcAFOUhDorwquIzWg08rJlywzupnJcYevW\nrdDpdMcBZIma4+MMZdjdFMDLkFl5TWNiYo5dv359jU6nCy9TpswzL730UlzevHk3RkdHn9FoNB6n\nFZVoagyA1cyczb+vIFX4Re6fCi6PGTNm/cmTJ8/VrVvX1KdPH+OCBQuwaNEifP7550k1atQwTZ48\neYfJZKoCsbcLIhUExSNZDBqNRpue7Fej0VhKly79IoCuEOcHd0dndAcQDXEWyarwVvK/+fbt2/cO\nHjwY/eKLL3p14jlz5sTHx8eP8erJQTwCIrrLzPWXL19+LE+ePLGDBw8Oq169OkJC7ht3aPv06RO1\nd+/eYsOGDZtx9+7d8kajsQ+Ub6eb+BpSs1vMzE09cdzxEgEbNsrMtQHUHTBgQBki0vzyyy9tdu7c\n+ZxWq9UlJib+mZKSshDAn4E4978NwYgti8FgMGzduHFjqvUxg8GAQ4cOaerUqVOSiLZBHEdGpbeu\ncicZDOBtd0fLZBIuAHgqFeFBWkgxmUzjvvvuu0Rvorbjx4/j1KlTNog/ZxB+wltvvVVny5YtUUuW\nLAmrVauWI6kBkPR6lSpVsGzZsshcuXJ11ul0vTxZXwlWekKGcY7z385TRUCITZmXzwLQhWTo6h2b\nzTYlMTHxfYPB0DElJWUkgqTmNoLElvWw/Pjx48m7du1y+ctp06alFClS5PKTTz5ZWcn7+wNokZZf\nnyKJhRB3kjMB2bWfoEaUXIYM9/QIycnJ3/3+++9/TZ8+3SPivnbtGrp27WpMSkrqhlQmCQThFbTh\n4eHjvvrqq4i8efOmeWBsbCwmT54cpdFoPoOHE6NVTa8lgAbM3NX77bqFQEVsYyFDS7OaSvmxRJDY\nsh7MZrO5Se/evQ3ffPON9dq1a0hJScGJEyfQr18/04oVK6727t07G8SBvx4R3YFIrGcwc2quG8MA\nXII0ez8O8EpAAiDBaDTWnD179vXx48cnuaOSPHv2LIjImJiYOEKleoLwH+rkyZMn+oUXXnDr4OLF\ni6NkyZIaiLmyR1Dfg8YAPlOjhwIFv8v91QifBgA+8ue6/8sIElvWxE6TyfTS/PnzFzZo0MBUtmxZ\nvPPOOzc3bdo0OiEhoXRsbOxmiMDhdXU8Q4irr/NCzFwNwLsAOmcRdxF34Itn5JXExMSyS5cuPVyn\nTh3DnDlzUv755+E+YJvNhl9//RU9e/Y0tGrVKvHOnTsfmEym0T7vOoiHEBkZ2erNN9+M1mjcFz22\nbNkyJlu2bG97cz6VjSAAC5n5mfSO9xJ+jdiU6GUm5PsZdBHxE4LikayLk0ajsT1E0qxNTEx0DD8m\nQmaQZWfmMCKyMHM3AAeYebndyFh9aeZD8vbXMnb7PsEXz0gAuGkwGCoaDIZKM2bM+GjKlClNihQp\nYoqNjYXJZMLVq1dDEhMT7yQmJo5NSUmZj6AtUUAQFhaWL0+ePB5J+XPnzg2tVpvb23MS0TZmHgRx\nP6kcgHFLiQDSsgzzFF9BptBv9OOa//MIRmyPB5xzarsA3AFwA+L3CCI6DxGRfOvQNzQRwC9EtDqD\n9ukvnIUPLv8KNgB7ExISWiYlJT116tSpJr/++uvbR44caXXz5s1qBoOhcEpKymQESS1gSElJSTCZ\nPDPGUMf71F9JRLMhU+RXeCFCSg9+i9iYuR5kNltWNEp4rBEktscQKqU40Wq1ateuXfuhRqP5TKfT\nfdW6devwCxcuPAHgHWZuAaA6pP72uMHXiM0ZtyBDWFdDBrH+Ac8k5UF4gYSEhO1btmzxyF1k27Zt\nJoPBsNUPpx8EuWmZ5tgg7gf4hdiUV+t3EK9Wd1p1gvAAwVTk44nQ9u3bF4mMjCyeP3/+4l26dGmo\n1+vx999/Jw0fPtxWtGjRmS1atIh/9tlnG6kpxI8bzgEoyswhGdCXFESAYLPZvt+7d++469evIz1V\nJADEx8dj7dq1GovFMt3XcytD7TaQRuaP4L9WAH9FbOMhXq2/+GGtIJwQJLbHD7qoqKifS5QoUeWT\nTz7RlCxZ8qHf9e/fH+vXr8fYsWOzx8fHFwSwJ5P26TWIyMjMtyCWTEHboMcX90JCQuZ9/vnn7SZM\nmBCRlvGAzWbDuHHjzGFhYWvNZvNVf5yciBKYuQmAvcx8iohW+WFZn4mNmRsCqAngeT/sJwgXCKYi\nHzNERUV9V7Zs2SqzZ8+OdCI1AIBOp0PTpk0xc+ZMTURExHwA7o/lzVrwVvIfRBaC0Wj8cN++ff/t\n379/Ymr1NovFgs8//9y8fv36iwkJCe39eX4iugSZBjCLmf0xbdonuT8z54AMTO34mGZTHgsEie3x\nQuGUlJRW48ePjwwLS3tQ9DPPPIO+ffuGx8bGPq4WUb5I/oPIOjAZDIbqu3btWl+jRg3T6NGjkw4f\nPoyLFy/i2LFjmDhxoqV69eqJP//88y6j0VgRgN/rTUS0H8AHkOnbT/q4nK8R20QAPxDRFh/3EUQa\nCKYiHyP8f3v3HhxVecZx/LcblhCSJa0YpFQRqEMEtDjGtFOl1qLDIFZgLOOrQimKMop2pjKMd6tA\nBC+0VkRqIIhYpX2h4KUjqOOFKVSkasdKtbQMcRAYrHJpsns2u5vNnv6xiwOSyyaye3bJ9/PnZk/2\n+Sf57fue5zxvcXHxzAkTJvhKSzM7DX7cuHFauHDh+ZIGq/DG8RzvBhJ4JxIOh6+QNGTt2rW3vPTS\nSxOSyWTQ7/c7iUTi1aampsck/SubBRhjVqefbXvBWntRekhzV3R5CHJ6W3SU2ILMOlZsBSQQCFw1\nceLEjMcNlZSU6JJLLikaNGjQjGzWlSVsRZ546qPR6KxQKPQdx3H6hUKhwU1NTTcqy6F2hBqlvjC1\ndk5cprq0YrPWniTpSUnXGmO6dA4dMkewFZCWlpY+ffv27dQ1FRUVGjFixM+stUUdvzuvsBWJ4yr9\nmMx0SadJuq+Lv6arW5GLJK0xxvyli5+LTiDYCojf7481NXVuB8VxnEQgEIhJmpmdqrJmp6QzjvMz\nSOjmjDFRpZpJfm6tvaYLv6LTwWatnSjp+5Lu6sLnoQsItgLi8/m2bN68uePJvmmu6+qtt96K7du3\n7z5J91lrT8tiecdV+uiOqKSOH4ACOiE9Xu5ySb9t71SMNnQq2Ky1J0taotQWZD6eWH9CItgKSDgc\n/vXKlSsjmZ439t5776mxsfHA1q1bn5P0uKTFBbYCooEEWWGM2abUcPC11trOHJHU2RXb45L+YIzh\nxOscItgKy1/D4fDuZ555psNpHJFIRDU1NU5TU9MDSo2PelDSUKW2YQoFDSTIGmPMy5IeVmpgcp8M\nL4tLKrLWdthRbq39qaRzJd3T9SrRFQRbYXEdx7l08eLF/1uxYkVLS0vr+bZ//37dcMMNruu6f0sm\nk3WSZIyJSZohaZG1tjyHNX8dNJAg2x6T9LakVZk0WKUbUDpctVlrKyQtljTtazxagC4i2ArPrmg0\nem5tbe1Ho0ePdurq6lo+/vhj1dfXa8uWLZo9e3Zk7Nix0XA4/Oz8+fPPttZ+7/CFxphNktZLWuBd\n+Z3Cig1ZlQ6qW5QKqkcyvCyT7cgnJD1rjCm4kXYnAoKtMH3qOM7IgwcP/riurm7N9ddf/8nkyZP3\nzZ49+6PXX399TiwWO7W+vn6q3++fptQDqUOPuPZ2SROttRd4U3qnsGJD1hljmiVNknSZtTaTZz7b\nDTZr7ZWSzpb0q+NTITqLYCts7zqOc3UoFBoSDocHNDY2ntXS0vKwUse0HL6HcI+kDdbaU9KvHZL0\nS0lLs3BW1fFG8whyIv138RNJ86y1F3fw9jaDLf13tkhsQXqKYDvBGWOWS1opab21Nph+eY1SI7by\n/YDDLyT1TA+OBbIqffK8Uep+W2U7b2012NIdx0skPW2M2ZqdKpEJgq17mCfpfUlrrLWB9H2FmyXd\n+pVtyrySrpPtSOSMMWajpLuV6pRsa8xPWys2I+lMSfdnpThkjGDrBtIBMVNSs6Rl1lqfMWaXpAck\n1eb5s200kCCnjDF1kl6U9Kc2tusj+sogZGttf6U6LKelp5vAQwRbN2GMSUi6SqlvlPPSLz8uKShp\nmkdlZYIVG7xwu6SQpCVHfPHrIWmctfaU+fPnXynpCkm90j9/UlKdMeZdb8rFkQi2biQ9VfxySVda\na29Kh90Nkh601ubr6CpWbMg5Y0yLpGskVTc0NNweCATuLykp+Xzo0KF/LCoqGlZZWTlt5MiRTxcX\nF38xd+7clxsaGoZKmutx2UjL5y0oZIm1doikzZJmGmNesNY+IulbxpgpHpd2DGvtjyXNMcZc6HUt\n6H5mzJhx9htvvPH3gQMHJm+++eaelZVH95Ts2rVLK1as0GuvvfZ5KBSqlvSpN5XiSARbN2WtrZK0\nQdJESf+Q9E9JNxpjXvW0sK9ID27eaowZ4HUt6HZ6lJaWvjN+/Pjv3nnnnQGfr+1/l0899VRLbW3t\nnkgkcpakcO5KRGvYiuymjDHvS5oqaZ1S51PNlPQ7a21mx3Pnzl5J38zDunDiu6x///6Vd9xxR7uh\nJknXXXddUVVVVUV6KAI8RrB1Y8aYV5S6Sb5B0geS3lHXD2DMCmNMUqln7oZ4XQu6l2AweNv06dPL\n/P7M/k1ee+21vUtKSm4TO2GeI9i6OWPMSknLlJohea+kadbac7yt6hg0kCDXyqPR6HljxozJ+ILz\nzjtPxcXFJ0kanr2ykAmCDVJqKPIWSbVKjeBalsmk8xyi5R+51resrCxeXFyc8QU+n0/9+vVLSDo5\ne2UhEwQbDj/A/Qulntu5UJKj1MTzfMHMSORarLm5udNf7mKxmJQ6+R0eItgg6ajndgZL2iHpXmvt\nQG+r+hJbkci1/yYSiXh9fX3GFxw6dEh79+4tVurvBx4i2PCl9DTy8ZJ+KGmrpCcmTZrkk3SOpNHy\nbjuQrUjkWsJ13SdXrVoVy/SC559/PhkIBP4s6WAW60IGCDYcxRhzQNJYSSM3bdr0gzfffPOLioqK\nTcOHD19XVla2LRgMviupOsdl7ZI0oACO2cEJJBaLLXnxxReTO3Z0vAD77LPPtHz58qjjOJkeVoos\noi0VraqsrKxpbGy8u6amRtXV1fL5fGpubtb69etVU1MTiUajFyv1eEBOWGt3SrrUGPOfXH0m4Pf7\nJweDwaXLli3rPWzYsFbfs3v3bk2fPj1y4MCBefF4/MEcl4hW9PC6AOSlb3zyySez1q1bp9NPP/3L\nFwOBgCZMmKDi4uLec+bMWRkOh8+U5OaopsMNJAQbciaZTD7X2NgYnzJlytPV1dXJqVOnllVWVsrv\n96u+vl6rVq2KbNy40e+67p3Nzc2LvK4XKQQbjuHz+SaPGjXKPTLUjjRmzBg99NBD3w6Hw+cqdc5b\nLuwU99ngAdd118Tj8Q1vv/325A8//PDWeDx+quu6vp49e34eiUSeSCaTK5Q+tR75gXtsOEavXr3O\nqqqq6t3Wz/1+v0aMGJGUlMtDSmn5h5fCruvWhkKhM2OxWFk8Hi8Nh8ODk8nkQhFqeYdgwzGam5sP\nHTx4sKW99xw4cMBV6rm3XKHlH0BGCDYcI5FIrF67dm0skUi0+vM9e/Zox44dRZLezGFZtPwDyAjB\nhtZ8kEgk3p07d26speXohVsoFNKsWbMcv9//G0mRHNZUL2lQno36ApCHaPdHW8pLS0tfCQaDZ119\n9dWl/fv3923fvr159erVCdd1fx+JRG6SlMxlQdbaPZIuMMbsyuXnAigsdEWiLQ2O45zvOM6opUuX\nXtejR49+sVjs39FodKmk7R7VdLiBhGAD0CaCDe1xJW1yHGeT14WkHW4gecPrQgDkL+6xoZDQQAKg\nQwQbCgkt/wA6RLChkLBiA9Ahgg2FZKekM6y1dPMCaBPBhoJhjGlQ6tm5/l7XAiB/EWwoNGxHAmgX\nwYZCQwMJgHYRbCg0rNgAtItgQ6FhxQagXQQbCg0rNgDtIthQaDhwFEC7CDYUmv2SelhrT/K6EAAA\njoeLqqqqGgYMGLBV0niviwEA4OsY1bt3b2fOnDnuggUL3PLyckfSFV4XBQBAlwSDwdV33XWXu23b\nNnfbtm3uo48+6paXl7/jdV0A8gv32AAAADzCViQA4ITzoz59+mwoLy9/XTSPAAAAAAAAAAAAAAAA\nAAAAAAAAAAAAAAAAAAAAAAAAAAAAAAAAAAAAAAAAAAAAAAAAAAAAAAAAAAAAAAAAAAAAAAAAAAAA\nAAAAAAAAAAAAAAAAAAAAAAAAAAAAAAAAAAAAAAAAAAAAAAAAAAAAAAAAAAAAAAAAAAAAAAAAAAAA\nAAAAAAAAAAAAAAAAAAAAAAAAAAAAAAAAAAAAAAAAAAAAAAAAAAAAAAAAAAAAAHjBmawAAAAZSURB\nVAAAAAAAAAAAAAAAAAAAAAAA4IT3fxq8vE1sxJe7AAAAAElFTkSuQmCC\n",
       "text": [
        "<matplotlib.figure.Figure at 0x7fe9c7dcef60>"
       ]
      }
     ],
     "prompt_number": 26
    },
    {
     "cell_type": "heading",
     "level": 2,
     "metadata": {},
     "source": [
      "Community Detection"
     ]
    },
    {
     "cell_type": "markdown",
     "metadata": {},
     "source": [
      "This section demonstrates the community detection capabilities of NetworKit. Community detection is concerned with identifying groups of nodes which are significantly more densely connected to eachother than to the rest of the network."
     ]
    },
    {
     "cell_type": "markdown",
     "metadata": {},
     "source": [
      "Code for community detection is contained in the `community` module. The module provides a top-level function to quickly perform community detection with a suitable algorithm and print some stats about the result."
     ]
    },
    {
     "cell_type": "code",
     "collapsed": false,
     "input": [
      "community.detectCommunities(G)"
     ],
     "language": "python",
     "metadata": {},
     "outputs": [
      {
       "output_type": "stream",
       "stream": "stdout",
       "text": [
        "PLM(balanced,,parallel coarsening) detected communities in 0.08013749122619629 [s]\n",
        "solution properties:\n",
        "-------------------  ----------\n",
        "# communities        102\n",
        "min community size     6\n",
        "max community size   684\n",
        "avg. community size  104.706\n",
        "modularity             0.881295\n",
        "-------------------  ----------\n"
       ]
      },
      {
       "metadata": {},
       "output_type": "pyout",
       "prompt_number": 27,
       "text": [
        "<_NetworKit.Partition at 0x7fe9c79d4300>"
       ]
      }
     ],
     "prompt_number": 27
    },
    {
     "cell_type": "markdown",
     "metadata": {},
     "source": [
      "The function prints some statistics and returns the partition object representing the communities in the network as an assignment of node to community label. Let's capture this result of the last function call."
     ]
    },
    {
     "cell_type": "code",
     "collapsed": false,
     "input": [
      "communities = community.detectCommunities(G)"
     ],
     "language": "python",
     "metadata": {},
     "outputs": [
      {
       "output_type": "stream",
       "stream": "stdout",
       "text": [
        "PLM(balanced,,parallel coarsening) detected communities in 0.06953310966491699 [s]\n",
        "solution properties:\n",
        "-------------------  ----------\n",
        "# communities        101\n",
        "min community size     6\n",
        "max community size   689\n",
        "avg. community size  105.743\n",
        "modularity             0.883106\n",
        "-------------------  ----------\n"
       ]
      }
     ],
     "prompt_number": 28
    },
    {
     "cell_type": "markdown",
     "metadata": {},
     "source": [
      "*Modularity* is the primary measure for the quality of a community detection solution. The value is in the range `[-0.5,1]` and usually depends both on the performance of the algorithm and the presence of distinctive community structures in the network."
     ]
    },
    {
     "cell_type": "code",
     "collapsed": false,
     "input": [
      "community.Modularity().getQuality(communities, G)"
     ],
     "language": "python",
     "metadata": {},
     "outputs": [
      {
       "metadata": {},
       "output_type": "pyout",
       "prompt_number": 30,
       "text": [
        "0.8831056114438935"
       ]
      }
     ],
     "prompt_number": 30
    },
    {
     "cell_type": "heading",
     "level": 3,
     "metadata": {},
     "source": [
      "The Partition Data Structure"
     ]
    },
    {
     "cell_type": "markdown",
     "metadata": {},
     "source": [
      "The result of community detection is a partition of the node set into disjoint subsets. It is represented by the `Partition` data strucure, which provides several methods for inspecting and manipulating a partition of a set of elements (which need not be the nodes of a graph)."
     ]
    },
    {
     "cell_type": "code",
     "collapsed": false,
     "input": [
      "type(communities)"
     ],
     "language": "python",
     "metadata": {},
     "outputs": [
      {
       "metadata": {},
       "output_type": "pyout",
       "prompt_number": 31,
       "text": [
        "_NetworKit.Partition"
       ]
      }
     ],
     "prompt_number": 31
    },
    {
     "cell_type": "code",
     "collapsed": false,
     "input": [
      "print(\"{0} elements assigned to {1} subsets\".format(communities.numberOfElements(), communities.numberOfSubsets()))\n"
     ],
     "language": "python",
     "metadata": {},
     "outputs": [
      {
       "output_type": "stream",
       "stream": "stdout",
       "text": [
        "10680 elements assigned to 101 subsets\n"
       ]
      }
     ],
     "prompt_number": 32
    },
    {
     "cell_type": "code",
     "collapsed": false,
     "input": [
      "print(\"the biggest subset has size {0}\".format(max(communities.subsetSizes())))"
     ],
     "language": "python",
     "metadata": {},
     "outputs": [
      {
       "output_type": "stream",
       "stream": "stdout",
       "text": [
        "the biggest subset has size 689\n"
       ]
      }
     ],
     "prompt_number": 33
    },
    {
     "cell_type": "markdown",
     "metadata": {},
     "source": [
      "The contents of a partition object can be written to file in a simple format, in which each line *i* contains the subset id of node *i*."
     ]
    },
    {
     "cell_type": "code",
     "collapsed": false,
     "input": [
      "community.writeCommunities(communities, \"output/communties.partition\")"
     ],
     "language": "python",
     "metadata": {},
     "outputs": [
      {
       "output_type": "stream",
       "stream": "stdout",
       "text": [
        "wrote communities to: output/communties.partition\n"
       ]
      }
     ],
     "prompt_number": 34
    },
    {
     "cell_type": "heading",
     "level": 3,
     "metadata": {},
     "source": [
      "Choice of Algorithm"
     ]
    },
    {
     "cell_type": "markdown",
     "metadata": {},
     "source": [
      "The community detection function used a good default choice for an algorithm: *PLM*, our parallel implementation of the well-known Louvain method. It yields a high-quality solution at reasonably fast running times. Let us now apply a variation of this algorithm."
     ]
    },
    {
     "cell_type": "code",
     "collapsed": false,
     "input": [
      "community.detectCommunities(G, algo=community.PLM(refine=True))"
     ],
     "language": "python",
     "metadata": {},
     "outputs": [
      {
       "output_type": "stream",
       "stream": "stdout",
       "text": [
        "PLP(updateThreshold=0) detected communities in 0.03531503677368164 [s]\n",
        "solution properties:\n",
        "-------------------  ----------\n",
        "# communities        965\n",
        "min community size     6\n",
        "max community size   393\n",
        "avg. community size   11.0674\n",
        "modularity             0.801686\n",
        "-------------------  ----------\n"
       ]
      },
      {
       "metadata": {},
       "output_type": "pyout",
       "prompt_number": 35,
       "text": [
        "<_NetworKit.Partition at 0x7fe9c7f079e0>"
       ]
      }
     ],
     "prompt_number": 35
    },
    {
     "cell_type": "markdown",
     "metadata": {},
     "source": [
      "We have switched on refinement, and we can see how modularity is slightly improved. For a small network like this, this takes only marginally longer."
     ]
    },
    {
     "cell_type": "heading",
     "level": 3,
     "metadata": {},
     "source": [
      "Visualizing the Result"
     ]
    },
    {
     "cell_type": "markdown",
     "metadata": {},
     "source": [
      "We can easily plot the distribution of community sizes as follows. While the distribution is skewed, it does not seem to fit a power-law, as shown by a log-log plot."
     ]
    },
    {
     "cell_type": "code",
     "collapsed": false,
     "input": [
      "sizes = communities.subsetSizes()\n",
      "sizes.sort(reverse=True)\n",
      "ax1 = subplot(2,1,1)\n",
      "ax1.set_ylabel(\"size\")\n",
      "ax1.plot(sizes)\n",
      "\n",
      "ax2 = subplot(2,1,2)\n",
      "ax2.set_xscale(\"log\")\n",
      "ax2.set_yscale(\"log\")\n",
      "ax2.set_ylabel(\"size\")\n",
      "ax2.plot(sizes)"
     ],
     "language": "python",
     "metadata": {},
     "outputs": [
      {
       "metadata": {},
       "output_type": "pyout",
       "prompt_number": 36,
       "text": [
        "[<matplotlib.lines.Line2D at 0x7fe9c778d9b0>]"
       ]
      },
      {
       "metadata": {},
       "output_type": "display_data",
       "png": "iVBORw0KGgoAAAANSUhEUgAAAYwAAAEGCAYAAAB2EqL0AAAABHNCSVQICAgIfAhkiAAAAAlwSFlz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\nYII=\n",
       "text": [
        "<matplotlib.figure.Figure at 0x7fe9cc0d4048>"
       ]
      }
     ],
     "prompt_number": 36
    },
    {
     "cell_type": "markdown",
     "metadata": {},
     "source": [
      "The visualization module provides a function which draws the community graph for a community detection solution: Communities are contracted into single nodes whose size corresponds to the community size."
     ]
    },
    {
     "cell_type": "code",
     "collapsed": false,
     "input": [
      "viztasks.drawCommunityGraph(G, communities)"
     ],
     "language": "python",
     "metadata": {},
     "outputs": [
      {
       "metadata": {},
       "output_type": "display_data",
       "png": "iVBORw0KGgoAAAANSUhEUgAAAbYAAAGoCAYAAAAq1cCbAAAABHNCSVQICAgIfAhkiAAAAAlwSFlz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\n",
       "text": [
        "<matplotlib.figure.Figure at 0x7fe9c7b7c208>"
       ]
      }
     ],
     "prompt_number": 37
    },
    {
     "cell_type": "heading",
     "level": 2,
     "metadata": {},
     "source": [
      "Subgraph"
     ]
    },
    {
     "cell_type": "markdown",
     "metadata": {},
     "source": [
      "NetworKit supports the creation of Subgraphs depending on an original graph and a set of nodes. This might be useful in case you want to analyze certain communities of a graph. Let's say that community 2 of the above result is of further interest, so we want a new graph that consists of nodes and intra cluster edges of community 2."
     ]
    },
    {
     "cell_type": "code",
     "collapsed": false,
     "input": [
      "from networkit.graph import Subgraph\n",
      "c2 = communities.getMembers(2)\n",
      "sg = Subgraph()\n",
      "g2 = sg.fromNodes(G,c2)"
     ],
     "language": "python",
     "metadata": {},
     "outputs": [],
     "prompt_number": 40
    },
    {
     "cell_type": "code",
     "collapsed": false,
     "input": [
      "communities.subsetSizeMap()[2]"
     ],
     "language": "python",
     "metadata": {},
     "outputs": [
      {
       "metadata": {},
       "output_type": "pyout",
       "prompt_number": 41,
       "text": [
        "425"
       ]
      }
     ],
     "prompt_number": 41
    },
    {
     "cell_type": "code",
     "collapsed": false,
     "input": [
      "g2.numberOfNodes()"
     ],
     "language": "python",
     "metadata": {},
     "outputs": [
      {
       "metadata": {},
       "output_type": "pyout",
       "prompt_number": 42,
       "text": [
        "425"
       ]
      }
     ],
     "prompt_number": 42
    },
    {
     "cell_type": "markdown",
     "metadata": {},
     "source": [
      "As we can see, the number of nodes in our subgraph matches the number of nodes of community 2. The subgraph can be used like any other graph object, e.g. further community analysis:"
     ]
    },
    {
     "cell_type": "code",
     "collapsed": false,
     "input": [
      "communities2 = community.detectCommunities(g2)"
     ],
     "language": "python",
     "metadata": {},
     "outputs": [
      {
       "output_type": "stream",
       "stream": "stdout",
       "text": [
        "PLM(balanced,,parallel coarsening) detected communities in 0.0790700912475586 [s]\n",
        "solution properties:\n",
        "-------------------  --------\n",
        "# communities        19\n",
        "min community size    3\n",
        "max community size   54\n",
        "avg. community size  22.3684\n",
        "modularity            0.74628\n",
        "-------------------  --------\n"
       ]
      }
     ],
     "prompt_number": 43
    },
    {
     "cell_type": "code",
     "collapsed": false,
     "input": [
      "viztasks.drawCommunityGraph(g2,communities2)"
     ],
     "language": "python",
     "metadata": {},
     "outputs": [
      {
       "metadata": {},
       "output_type": "display_data",
       "png": "iVBORw0KGgoAAAANSUhEUgAAAbYAAAGoCAYAAAAq1cCbAAAABHNCSVQICAgIfAhkiAAAAAlwSFlz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\nAAAAFIf/A2GG0HlHLKgyAAAAAElFTkSuQmCC\n",
       "text": [
        "<matplotlib.figure.Figure at 0x7fe9c7b7ec18>"
       ]
      }
     ],
     "prompt_number": 44
    },
    {
     "cell_type": "heading",
     "level": 2,
     "metadata": {},
     "source": [
      "Centrality"
     ]
    },
    {
     "cell_type": "markdown",
     "metadata": {},
     "source": [
      "[Centrality](http://en.wikipedia.org/wiki/Centrality) measures the relative importance of a node within a graph. Code for centrality analysis is grouped into the `centrality` module."
     ]
    },
    {
     "cell_type": "heading",
     "level": 3,
     "metadata": {},
     "source": [
      "Betweenness Centrality"
     ]
    },
    {
     "cell_type": "markdown",
     "metadata": {},
     "source": [
      "We implement Brandes' algorithm for the exact calculation of betweenness centrality. While the algorithm is efficient, it still needs to calculate shortest paths between all pairs of nodes, so its scalability is limited. We demonstrate it here on the small Karate club graph.  "
     ]
    },
    {
     "cell_type": "code",
     "collapsed": false,
     "input": [
      "K = readGraph(\"input/karate.graph\")"
     ],
     "language": "python",
     "metadata": {},
     "outputs": [],
     "prompt_number": 45
    },
    {
     "cell_type": "code",
     "collapsed": false,
     "input": [
      "bc = centrality.Betweenness(K)\n",
      "bc.run()"
     ],
     "language": "python",
     "metadata": {},
     "outputs": [],
     "prompt_number": 46
    },
    {
     "cell_type": "markdown",
     "metadata": {},
     "source": [
      "We have now calculated centrality values for the given graph, and can retrieve them either as an ordered ranking of nodes or as a list of values indexed by node id. "
     ]
    },
    {
     "cell_type": "code",
     "collapsed": false,
     "input": [
      "bc.ranking()[:10] # the 10 most central nodes"
     ],
     "language": "python",
     "metadata": {},
     "outputs": [
      {
       "metadata": {},
       "output_type": "pyout",
       "prompt_number": 47,
       "text": [
        "[(0, 462.1428571428572),\n",
        " (33, 321.1031746031746),\n",
        " (32, 153.38095238095238),\n",
        " (2, 151.70158730158732),\n",
        " (31, 146.0190476190476),\n",
        " (8, 59.058730158730164),\n",
        " (1, 56.95714285714285),\n",
        " (13, 48.43174603174603),\n",
        " (19, 34.2936507936508),\n",
        " (5, 31.666666666666668)]"
       ]
      }
     ],
     "prompt_number": 47
    },
    {
     "cell_type": "code",
     "collapsed": false,
     "input": [
      "viztasks.drawGraph(K, nodeSizes=bc.scores()) # the more central the node, the bigger it is drawn"
     ],
     "language": "python",
     "metadata": {},
     "outputs": [
      {
       "metadata": {},
       "output_type": "display_data",
       "png": "iVBORw0KGgoAAAANSUhEUgAAAbYAAAGoCAYAAAAq1cCbAAAABHNCSVQICAgIfAhkiAAAAAlwSFlz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\nAAAAAElFTkSuQmCC\n",
       "text": [
        "<matplotlib.figure.Figure at 0x7fe9c7c85518>"
       ]
      }
     ],
     "prompt_number": 48
    },
    {
     "cell_type": "heading",
     "level": 3,
     "metadata": {},
     "source": [
      "Approximation of Betweenness"
     ]
    },
    {
     "cell_type": "markdown",
     "metadata": {},
     "source": [
      "Since exact calculation of betweenness scores is often out of reach, NetworKit provides an approximation algorithm based on path sampling. Here we estimate betweenness centrality in `PGPgiantcompo`, with a probabilistic guarantee that the error is no larger than an additive constant $\\epsilon$."
     ]
    },
    {
     "cell_type": "code",
     "collapsed": false,
     "input": [
      "abc = centrality.ApproxBetweenness(G, epsilon=0.1)\n",
      "abc.run()"
     ],
     "language": "python",
     "metadata": {},
     "outputs": [],
     "prompt_number": 49
    },
    {
     "cell_type": "markdown",
     "metadata": {},
     "source": [
      "The 10 most central nodes according to betweenness are then"
     ]
    },
    {
     "cell_type": "code",
     "collapsed": false,
     "input": [
      "abc.ranking()[:10]"
     ],
     "language": "python",
     "metadata": {},
     "outputs": [
      {
       "metadata": {},
       "output_type": "pyout",
       "prompt_number": 50,
       "text": [
        "[(1143, 0.14556962025316458),\n",
        " (6555, 0.10126582278481013),\n",
        " (7297, 0.09810126582278483),\n",
        " (6655, 0.0949367088607595),\n",
        " (6932, 0.08860759493670886),\n",
        " (6744, 0.08227848101265824),\n",
        " (6098, 0.07278481012658228),\n",
        " (3156, 0.06645569620253165),\n",
        " (604, 0.06645569620253165),\n",
        " (5165, 0.06329113924050633)]"
       ]
      }
     ],
     "prompt_number": 50
    },
    {
     "cell_type": "heading",
     "level": 3,
     "metadata": {},
     "source": [
      "Eigenvector Centrality and PageRank"
     ]
    },
    {
     "cell_type": "markdown",
     "metadata": {},
     "source": [
      "Eigenvector centrality and its variant PageRank assign relative importance to nodes according to their connections, incorporating the idea that edges to high-scoring nodes contribute more. PageRank is a version of eigenvector centrality which introduces a damping factor, modeling a random web surfer which at some point stops following links and jumps to a random page. In PageRank theory, centrality is understood as the probability of such a web surfer to arrive on a certain page. Our implementation of both measures is based on parallel power iteration, a relatively simple eigensolver."
     ]
    },
    {
     "cell_type": "code",
     "collapsed": false,
     "input": [
      "# Eigenvector centrality\n",
      "ec = centrality.EigenvectorCentrality(K)\n",
      "ec.run()\n",
      "ec.ranking()[:10] # the 10 most central nodes"
     ],
     "language": "python",
     "metadata": {},
     "outputs": [
      {
       "metadata": {},
       "output_type": "pyout",
       "prompt_number": 51,
       "text": [
        "[(33, 0.37337121301323506),\n",
        " (0, 0.35548349418519426),\n",
        " (2, 0.3171893899684447),\n",
        " (32, 0.3086510477336959),\n",
        " (1, 0.2659538704545024),\n",
        " (8, 0.22740509147166046),\n",
        " (13, 0.22646969838808145),\n",
        " (3, 0.21117407832057056),\n",
        " (31, 0.19103626979791702),\n",
        " (30, 0.17476027834493088)]"
       ]
      }
     ],
     "prompt_number": 51
    },
    {
     "cell_type": "code",
     "collapsed": false,
     "input": [
      "# PageRank\n",
      "pr = centrality.PageRank(K, 1e-6)\n",
      "pr.run()\n",
      "pr.ranking()[:10] # the 10 most central nodes"
     ],
     "language": "python",
     "metadata": {},
     "outputs": [
      {
       "metadata": {},
       "output_type": "pyout",
       "prompt_number": 52,
       "text": [
        "[(33, 0.02941190490185556),\n",
        " (0, 0.029411888071820155),\n",
        " (32, 0.02941184486730034),\n",
        " (1, 0.02941180477938106),\n",
        " (2, 0.02941179873364914),\n",
        " (3, 0.029411771282676906),\n",
        " (31, 0.029411770725212477),\n",
        " (5, 0.029411768995095993),\n",
        " (6, 0.029411768995095993),\n",
        " (23, 0.029411763985014328)]"
       ]
      }
     ],
     "prompt_number": 52
    },
    {
     "cell_type": "heading",
     "level": 2,
     "metadata": {},
     "source": [
      "NetworkX Compatibility"
     ]
    },
    {
     "cell_type": "markdown",
     "metadata": {},
     "source": [
      "[NetworkX](http://en.wikipedia.org/wiki/Centrality) is a popular Python package for network analysis. It is currently much richer in features than NetworKit, but unlike NetworkX, NetworKit is able to process graphs with millions to billions of edges. To let both packages complement eachother, and to enable the adaptation of existing NetworkX-based code, we support the conversion of the respective graph data structures."
     ]
    },
    {
     "cell_type": "code",
     "collapsed": false,
     "input": [
      "import networkx as nx\n",
      "nxG = nk2nx(G) # convert from NetworKit.Graph to networkx.Graph\n",
      "print(nx.degree_assortativity_coefficient(nxG))"
     ],
     "language": "python",
     "metadata": {},
     "outputs": [
      {
       "output_type": "stream",
       "stream": "stdout",
       "text": [
        "0.238211371708\n"
       ]
      }
     ],
     "prompt_number": 53
    },
    {
     "cell_type": "code",
     "collapsed": false,
     "input": [
      "nxG = nx.generators.watts_strogatz_graph(42, 2, 0.01)\n",
      "nkG = nx2nk(nxG)\n",
      "viztasks.drawGraph(nkG)"
     ],
     "language": "python",
     "metadata": {},
     "outputs": [
      {
       "metadata": {},
       "output_type": "display_data",
       "png": "iVBORw0KGgoAAAANSUhEUgAAAbYAAAGoCAYAAAAq1cCbAAAABHNCSVQICAgIfAhkiAAAAAlwSFlz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\nMcYYY4wxxhhjjDHGGGOMSYL/B8UoeMXYsnlbAAAAAElFTkSuQmCC\n",
       "text": [
        "<matplotlib.figure.Figure at 0x7fe9cc34f518>"
       ]
      }
     ],
     "prompt_number": 54
    },
    {
     "cell_type": "heading",
     "level": 2,
     "metadata": {},
     "source": [
      "Generating Graphs"
     ]
    },
    {
     "cell_type": "markdown",
     "metadata": {},
     "source": [
      "An important subfield of network science is the design and analysis of generative models. A variety of generative models have been proposed with the aim of reproducing one or several of the properties we find in real-world complex networks. NetworKit includes generator algorithms for several of them."
     ]
    },
    {
     "cell_type": "markdown",
     "metadata": {},
     "source": [
      "The **Erd\u00f6s-Renyi model** is the most basic random graph model, in which each edge exists with the same uniform probability. NetworKit provides an efficient generator:"
     ]
    },
    {
     "cell_type": "code",
     "collapsed": false,
     "input": [
      "ERG = generators.ErdosRenyiGenerator(1000, 0.1).generate()"
     ],
     "language": "python",
     "metadata": {},
     "outputs": [],
     "prompt_number": 55
    },
    {
     "cell_type": "code",
     "collapsed": false,
     "input": [
      "properties.overview(ERG)"
     ],
     "language": "python",
     "metadata": {},
     "outputs": [
      {
       "output_type": "stream",
       "stream": "stdout",
       "text": [
        "Value 0 in data. Throwing out 0 values\n",
        "Calculating best minimal value for power law fit\n",
        "Value 0 in data. Throwing out 0 values\n",
        "Calculating best minimal value for power law fit\n",
        "<_NetworKit.PLM object at 0x7fe9cc02eab0>"
       ]
      },
      {
       "output_type": "stream",
       "stream": "stdout",
       "text": [
        "\n",
        "\n"
       ]
      },
      {
       "output_type": "stream",
       "stream": "stdout",
       "text": [
        "Network Properties: G#70\n",
        "==================\n",
        "Basic Properties\n",
        "-----------------------------  ------------\n",
        "nodes (n)                       1000\n",
        "edges (m)                      49877\n",
        "directed?                          0\n",
        "isolated nodes                     0\n",
        "self-loops                         0\n",
        "density                            0.099854\n",
        "clustering coefficient             0.097151\n",
        "degeneracy (max. core number)     81\n",
        "-----------------------------  ------------\n",
        "Node Degree Properties\n",
        "-------------------------  --------------\n",
        "min. degree                66\n",
        "max. degree                133\n",
        "avg. degree                99.754000\n",
        "degree power law fit?      False, -0.345162\n",
        "degree power law exponent  13.8855\n",
        "degree assortativity       -0.0027\n",
        "-------------------------  --------------\n",
        "Path Structure\n",
        "-------------------------  ------\n",
        "connected components       1\n",
        "size of largest component  1000\n",
        "estimated diameter range   (3, 3)\n",
        "-------------------------  ------\n",
        "Community Structure\n",
        "-------------------------------------------  -----------  --------\n",
        "modularity-driven community detection (PLM)\n",
        "                                             communities  11\n",
        "                                             modularity   0.078689\n",
        "-------------------------------------------  -----------  --------\n",
        "Degree Distribution\n",
        "-------------------\n",
        "0-   :  |   0.00\n",
        "6-   :  |   0.00\n",
        "12-  :  |   0.00\n",
        "18-  :  |   0.00\n",
        "24-  :  |   0.00\n",
        "30-  :  |   0.00\n",
        "36-  :  |   0.00\n",
        "42-  :  |   0.00\n",
        "48-  :  |   0.00\n",
        "54-  :  |   0.00\n",
        "60-  :  |   0.00\n",
        "66-  :  |   1.00\n",
        "72-  :  \u2587   6.00\n",
        "78-  :  \u2587\u2587\u2587\u2587\u2587\u2587  32.00\n",
        "84-  :  \u2587\u2587\u2587\u2587\u2587\u2587\u2587\u2587\u2587\u2587\u2587\u2587\u2587\u2587\u2587\u2587\u2587\u2587\u2587 100.00\n",
        "90-  :  \u2587\u2587\u2587\u2587\u2587\u2587\u2587\u2587\u2587\u2587\u2587\u2587\u2587\u2587\u2587\u2587\u2587\u2587\u2587\u2587\u2587\u2587\u2587\u2587\u2587\u2587\u2587\u2587\u2587\u2587\u2587\u2587\u2587\u2587\u2587\u2587 189.00\n",
        "96-  :  \u2587\u2587\u2587\u2587\u2587\u2587\u2587\u2587\u2587\u2587\u2587\u2587\u2587\u2587\u2587\u2587\u2587\u2587\u2587\u2587\u2587\u2587\u2587\u2587\u2587\u2587\u2587\u2587\u2587\u2587\u2587\u2587\u2587\u2587\u2587\u2587\u2587\u2587\u2587\u2587\u2587\u2587\u2587\u2587\u2587\u2587\u2587\u2587\u2587\u2587 258.00\n",
        "102- :  \u2587\u2587\u2587\u2587\u2587\u2587\u2587\u2587\u2587\u2587\u2587\u2587\u2587\u2587\u2587\u2587\u2587\u2587\u2587\u2587\u2587\u2587\u2587\u2587\u2587\u2587\u2587\u2587\u2587\u2587\u2587\u2587\u2587\u2587\u2587\u2587\u2587\u2587\u2587\u2587\u2587\u2587\u2587\u2587 230.00\n",
        "108- :  \u2587\u2587\u2587\u2587\u2587\u2587\u2587\u2587\u2587\u2587\u2587\u2587\u2587\u2587\u2587\u2587\u2587\u2587\u2587\u2587\u2587\u2587 114.00\n",
        "114- :  \u2587\u2587\u2587\u2587\u2587\u2587\u2587\u2587\u2587  48.00\n",
        "120- :  \u2587\u2587  14.00\n",
        "126- :  \u2587   6.00\n",
        "132- :  |   2.00\n",
        "138- :  |   0.00\n",
        "144- :  |   0.00\n",
        "\n"
       ]
      }
     ],
     "prompt_number": 56
    },
    {
     "cell_type": "markdown",
     "metadata": {},
     "source": [
      "A simple way to generate a **random graph with community structure** is to use the `ClusteredRandomGraphGenerator`. It uses a simple variant of the Erd\u00f6s-Renyi model: The node set is partitioned into a given number of subsets. Nodes within the same subset have a higher edge probability."
     ]
    },
    {
     "cell_type": "code",
     "collapsed": false,
     "input": [
      "CRG = generators.ClusteredRandomGraphGenerator(200, 4, 0.2, 0.002).generate()"
     ],
     "language": "python",
     "metadata": {},
     "outputs": [],
     "prompt_number": 57
    },
    {
     "cell_type": "code",
     "collapsed": false,
     "input": [
      "community.detectCommunities(CRG)"
     ],
     "language": "python",
     "metadata": {},
     "outputs": [
      {
       "output_type": "stream",
       "stream": "stdout",
       "text": [
        "PLM(balanced,,parallel coarsening) detected communities in 0.04145526885986328 [s]\n",
        "solution properties:\n",
        "-------------------  ---------\n",
        "# communities         4\n",
        "min community size   47\n",
        "max community size   55\n",
        "avg. community size  50\n",
        "modularity            0.717599\n",
        "-------------------  ---------\n"
       ]
      },
      {
       "metadata": {},
       "output_type": "pyout",
       "prompt_number": 58,
       "text": [
        "<_NetworKit.Partition at 0x7fe9c797f620>"
       ]
      }
     ],
     "prompt_number": 58
    },
    {
     "cell_type": "markdown",
     "metadata": {},
     "source": [
      "The **Chung-Lu model** (also called **configuration model**) generates a random graph which corresponds to a given degree sequence, i.e. has the same expected degree sequence. It can therefore be used to replicate some of the properties of a given real networks, while others are not retained, such as high clustering and the specific community structure."
     ]
    },
    {
     "cell_type": "code",
     "collapsed": false,
     "input": [
      "degreeSequence = [G.degree(v) for v in G.nodes()]\n",
      "clgen = generators.ChungLuGenerator(degreeSequence)\n",
      "properties.overview(clgen.generate())\n"
     ],
     "language": "python",
     "metadata": {},
     "outputs": [
      {
       "output_type": "stream",
       "stream": "stdout",
       "text": [
        "Value 0 in data. Throwing out 0 values\n",
        "Calculating best minimal value for power law fit\n",
        "Value 0 in data. Throwing out 0 values\n",
        "Calculating best minimal value for power law fit\n",
        "<_NetworKit.PLM object at 0x7fe9cc02d770>\n",
        "\n"
       ]
      },
      {
       "output_type": "stream",
       "stream": "stdout",
       "text": [
        "Network Properties: G#86\n",
        "==================\n",
        "Basic Properties\n",
        "-----------------------------  ------------\n",
        "nodes (n)                      10680\n",
        "edges (m)                      24391\n",
        "directed?                          0\n",
        "isolated nodes                  1853\n",
        "self-loops                         0\n",
        "density                            0.000428\n",
        "clustering coefficient             0.007426\n",
        "degeneracy (max. core number)      7\n",
        "-----------------------------  ------------\n",
        "Node Degree Properties\n",
        "-------------------------  --------------\n",
        "min. degree                0\n",
        "max. degree                219\n",
        "avg. degree                4.567603\n",
        "degree power law fit?      True, 4.727778\n",
        "degree power law exponent  1.5388\n",
        "degree assortativity       -0.0083\n",
        "-------------------------  --------------\n",
        "Path Structure\n",
        "-------------------------  --------\n",
        "connected components       1905\n",
        "size of largest component  8723\n",
        "estimated diameter range   (12, 12)\n",
        "-------------------------  --------\n",
        "Community Structure\n",
        "-------------------------------------------  -----------  --------\n",
        "modularity-driven community detection (PLM)\n",
        "                                             communities  1934\n",
        "                                             modularity   0.408263\n",
        "-------------------------------------------  -----------  --------\n",
        "Degree Distribution\n",
        "-------------------\n",
        "0-   :  \u2587\u2587\u2587\u2587\u2587\u2587\u2587\u2587\u2587\u2587\u2587\u2587\u2587\u2587\u2587\u2587\u2587\u2587\u2587\u2587\u2587\u2587\u2587\u2587\u2587\u2587\u2587\u2587\u2587\u2587\u2587\u2587\u2587\u2587\u2587\u2587\u2587\u2587\u2587\u2587\u2587\u2587\u2587\u2587\u2587\u2587\u2587\u2587\u2587\u25879267.00\n",
        "9-   :  \u2587\u2587\u2587\u2587 872.00\n",
        "18-  :  \u2587 261.00\n",
        "27-  :  | 116.00\n",
        "36-  :  |  74.00\n",
        "45-  :  |  46.00\n",
        "54-  :  |  18.00\n",
        "63-  :  |   6.00\n",
        "72-  :  |   9.00\n",
        "81-  :  |   5.00\n",
        "90-  :  |   1.00\n",
        "99-  :  |   0.00\n",
        "96-  :  |   1.00\n",
        "104- :  |   2.00\n",
        "112- :  |   0.00\n",
        "135- :  |   1.00\n",
        "128- :  |   0.00\n",
        "136- :  |   1.00\n",
        "144- :  |   0.00\n",
        "152- :  |   0.00\n",
        "162- :  |   0.00\n",
        "168- :  |   0.00\n",
        "176- :  |   0.00\n",
        "184- :  |   0.00\n",
        "198- :  |   0.00\n",
        "216- :  |   1.00\n",
        "\n"
       ]
      }
     ],
     "prompt_number": 59
    },
    {
     "cell_type": "heading",
     "level": 2,
     "metadata": {},
     "source": [
      "Settings"
     ]
    },
    {
     "cell_type": "markdown",
     "metadata": {},
     "source": [
      "In this section we discuss global settings."
     ]
    },
    {
     "cell_type": "heading",
     "level": 3,
     "metadata": {},
     "source": [
      "Logging"
     ]
    },
    {
     "cell_type": "markdown",
     "metadata": {},
     "source": [
      "When using NetworKit from the command line, the verbosity of console output can be controlled via several loglevels, from least to most verbose: `FATAL`, `ERROR`, `WARN`, `INFO`, `DEBUG` and `TRACE`. (Currently, logging is only available on the console and not visible in the IPython Notebook). "
     ]
    },
    {
     "cell_type": "code",
     "collapsed": false,
     "input": [
      "getLogLevel() # the default loglevel"
     ],
     "language": "python",
     "metadata": {},
     "outputs": [
      {
       "metadata": {},
       "output_type": "pyout",
       "prompt_number": 60,
       "text": [
        "'ERROR'"
       ]
      }
     ],
     "prompt_number": 60
    },
    {
     "cell_type": "code",
     "collapsed": false,
     "input": [
      "setLogLevel(\"TRACE\") # set to most verbose mode\n",
      "setLogLevel(\"ERROR\") # set back to default"
     ],
     "language": "python",
     "metadata": {},
     "outputs": [],
     "prompt_number": 61
    },
    {
     "cell_type": "markdown",
     "metadata": {},
     "source": [
      "Please note, that the default build setting is optimized (`--optimize=Opt`) and thus, every LOG statement below INFO is removed. If you need DEBUG and TRACE statements, please build the extension module by appending `--optimize=Dbg` when calling the setup script."
     ]
    },
    {
     "cell_type": "heading",
     "level": 3,
     "metadata": {},
     "source": [
      "Parallelism"
     ]
    },
    {
     "cell_type": "markdown",
     "metadata": {},
     "source": [
      "The degree of parallelism can be controlled and monitored in the following way:"
     ]
    },
    {
     "cell_type": "code",
     "collapsed": false,
     "input": [
      "setNumberOfThreads(4) # set the maximum number of available threads"
     ],
     "language": "python",
     "metadata": {},
     "outputs": [],
     "prompt_number": 62
    },
    {
     "cell_type": "code",
     "collapsed": false,
     "input": [
      "getMaxNumberOfThreads() # see maximum number of available threads"
     ],
     "language": "python",
     "metadata": {},
     "outputs": [
      {
       "metadata": {},
       "output_type": "pyout",
       "prompt_number": 63,
       "text": [
        "4"
       ]
      }
     ],
     "prompt_number": 63
    },
    {
     "cell_type": "code",
     "collapsed": false,
     "input": [
      "getCurrentNumberOfThreads() # the number of threads currently executing"
     ],
     "language": "python",
     "metadata": {},
     "outputs": [
      {
       "metadata": {},
       "output_type": "pyout",
       "prompt_number": 64,
       "text": [
        "1"
       ]
      }
     ],
     "prompt_number": 64
    },
    {
     "cell_type": "heading",
     "level": 2,
     "metadata": {},
     "source": [
      "Support"
     ]
    },
    {
     "cell_type": "markdown",
     "metadata": {},
     "source": [
      "NetworKit is an open-source project that improves with suggestions and contributions from its users. The email list `networkit@ira.uni-karlsruhe.de` is the place for general discussion and questions. Also feel free to contact the authors with questions on how NetworKit can be applied to your research.\n",
      "\n",
      "-- Christian L. Staudt and Henning Meyerhenke"
     ]
    },
    {
     "cell_type": "code",
     "collapsed": false,
     "input": [],
     "language": "python",
     "metadata": {},
     "outputs": []
    },
    {
     "cell_type": "code",
     "collapsed": false,
     "input": [],
     "language": "python",
     "metadata": {},
     "outputs": []
    }
   ],
   "metadata": {}
  }
 ]
}
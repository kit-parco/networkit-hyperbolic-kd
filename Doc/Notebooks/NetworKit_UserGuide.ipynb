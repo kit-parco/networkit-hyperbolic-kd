{
 "metadata": {
  "name": ""
 },
 "nbformat": 3,
 "nbformat_minor": 0,
 "worksheets": [
  {
   "cells": [
    {
     "cell_type": "heading",
     "level": 1,
     "metadata": {},
     "source": [
      "NetworKit User Guide"
     ]
    },
    {
     "cell_type": "heading",
     "level": 2,
     "metadata": {},
     "source": [
      "About NetworKit"
     ]
    },
    {
     "cell_type": "markdown",
     "metadata": {},
     "source": [
      "[NetworKit][networkit] is an open-source toolkit for high-performance\n",
      "network analysis. Its aim is to provide tools for the analysis of large\n",
      "networks in the size range from thousands to billions of edges. For this\n",
      "purpose, it implements efficient graph algorithms, many of them parallel to\n",
      "utilize multicore architectures. These are meant to compute standard measures\n",
      "of network analysis, such as degree sequences, clustering coefficients and\n",
      "centrality. In this respect, NetworKit is comparable\n",
      "to packages such as [NetworkX][networkx], albeit with a focus on parallelism \n",
      "and scalability. NetworKit is also a testbed for algorithm engineering and\n",
      "contains a few novel algorithms from recently published research, especially\n",
      "in the area of community detection.\n",
      "\n",
      "[networkit]: http://parco.iti.kit.edu/software/networkit.shtml \n",
      "[networkx]: http://networkx.github.com/\n",
      "\n"
     ]
    },
    {
     "cell_type": "heading",
     "level": 2,
     "metadata": {},
     "source": [
      "Introduction"
     ]
    },
    {
     "cell_type": "markdown",
     "metadata": {},
     "source": [
      "This notebook provides an interactive introduction to the features of NetworKit, consisting of text and executable code. We assume that you have read the Readme and successfully built the core library and the Python module. Code cells can be run one by one (e.g. by selecting the cell and pressing `shift+enter`), or all at once (via the `Cell->Run All` command). Try running all cells now to verify that NetworKit has been properly built and installed.\n"
     ]
    },
    {
     "cell_type": "heading",
     "level": 2,
     "metadata": {},
     "source": [
      "Preparation"
     ]
    },
    {
     "cell_type": "markdown",
     "metadata": {},
     "source": [
      "NetworKit is a hybrid built from C++ and Python code: Its core functionality is implemented in C++ for performance reasons, and then wrapped for Python using the Cython toolchain. This allows us to expose high-performance parallel code as a normal Python module. On the surface, NetworKit is just that and can be imported accordingly:"
     ]
    },
    {
     "cell_type": "code",
     "collapsed": false,
     "input": [
      "from NetworKit import *"
     ],
     "language": "python",
     "metadata": {},
     "outputs": [],
     "prompt_number": 57
    },
    {
     "cell_type": "markdown",
     "metadata": {},
     "source": [
      "IPython lets us use familiar shell commands in a Python interpreter. Use one of them now to change into the directory of your NetworKit download:"
     ]
    },
    {
     "cell_type": "code",
     "collapsed": false,
     "input": [
      "cd ~/workspace/NetworKit/"
     ],
     "language": "python",
     "metadata": {},
     "outputs": [
      {
       "output_type": "stream",
       "stream": "stdout",
       "text": [
        "/Users/cls/workspace/NetworKit\n"
       ]
      }
     ],
     "prompt_number": 58
    },
    {
     "cell_type": "heading",
     "level": 2,
     "metadata": {},
     "source": [
      "Reading and Writing Graphs"
     ]
    },
    {
     "cell_type": "markdown",
     "metadata": {},
     "source": [
      "Let us start by reading a network from a file on disk: [PGPgiantcompo.graph](http://www.cc.gatech.edu/dimacs10/archive/data/clustering/PGPgiantcompo.graph.bz2). In the course of this tutorial, we are going to work on the `PGPgiantcompo` network, a social network/web of trust in which nodes are PGP keys and an edge represents a signature from one key on another. It is distributed with NetworKit as a good starting point.\n",
      "\n",
      "There is a convenient function in the top namespace which tries to guess the input format and select the appropriate reader:"
     ]
    },
    {
     "cell_type": "code",
     "collapsed": false,
     "input": [
      "G = readGraph(\"input/PGPgiantcompo.graph\")"
     ],
     "language": "python",
     "metadata": {},
     "outputs": [],
     "prompt_number": 59
    },
    {
     "cell_type": "markdown",
     "metadata": {},
     "source": [
      "There is a large variety of formats for storing graph data in files. For NetworKit, the currently best supported format is the [METIS adjacency format](http://people.sc.fsu.edu/~jburkardt/data/metis_graph/metis_graph.html). Various example graphs in this format can be found [here](http://www.cc.gatech.edu/dimacs10/downloads.shtml).  The `readGraph` function tries to be an intelligent wrapper for various reader classes. In this example, it uses the `METISGraphReader` which is located in the `graphio` submodule, alongside other readers. These classes can also be used explicitly:\n"
     ]
    },
    {
     "cell_type": "code",
     "collapsed": false,
     "input": [
      "graphio.METISGraphReader().read(\"input/PGPgiantcompo.graph\")"
     ],
     "language": "python",
     "metadata": {},
     "outputs": [
      {
       "metadata": {},
       "output_type": "pyout",
       "prompt_number": 60,
       "text": [
        "<_NetworKit.Graph at 0x10bb68cf0>"
       ]
      }
     ],
     "prompt_number": 60
    },
    {
     "cell_type": "markdown",
     "metadata": {},
     "source": [
      "It is also possible to specify the format for `readGraph()` and `writeGraph()`. Supported formats for both reading and writing tasks can be found via `graphio.formats`. Formats that are supported only for reading or writing can be found via `graphio.formats.input` and `graphio.formats.output`. Thus, it is possible to use NetworKit to convert graphs between formats. Let's say I need the PGP graph in the Graphviz format:"
     ]
    },
    {
     "cell_type": "code",
     "collapsed": false,
     "input": [
      "graphio.writeGraph(G,\"output/PGPgiantcompo.graphviz\",graphio.formats.output.graphviz)"
     ],
     "language": "python",
     "metadata": {},
     "outputs": [],
     "prompt_number": 61
    },
    {
     "cell_type": "markdown",
     "metadata": {},
     "source": [
      "NetworKit also provides a function to convert graphs directly:"
     ]
    },
    {
     "cell_type": "code",
     "collapsed": false,
     "input": [
      "graphio.convertGraph(graphio.formats.edgelist_tab_one, graphio.formats.output.gml, \"input/example.edgelist\", \"output/example.gml\")"
     ],
     "language": "python",
     "metadata": {},
     "outputs": [
      {
       "output_type": "stream",
       "stream": "stdout",
       "text": [
        "converted input/example.edgelist to output/example.gml\n"
       ]
      }
     ],
     "prompt_number": 62
    },
    {
     "cell_type": "heading",
     "level": 2,
     "metadata": {},
     "source": [
      "The Graph Object"
     ]
    },
    {
     "cell_type": "markdown",
     "metadata": {},
     "source": [
      "`Graph` is the central class of NetworKit. An object of this type represents an undirected, optionally weighted network. Let us inspect several of the methods which the class provides."
     ]
    },
    {
     "cell_type": "code",
     "collapsed": false,
     "input": [
      "n = G.numberOfNodes()\n",
      "m = G.numberOfEdges()\n",
      "print(n, m)"
     ],
     "language": "python",
     "metadata": {},
     "outputs": [
      {
       "output_type": "stream",
       "stream": "stdout",
       "text": [
        "10680 24316\n"
       ]
      }
     ],
     "prompt_number": 63
    },
    {
     "cell_type": "code",
     "collapsed": false,
     "input": [
      "G.toString()"
     ],
     "language": "python",
     "metadata": {},
     "outputs": [
      {
       "metadata": {},
       "output_type": "pyout",
       "prompt_number": 64,
       "text": [
        "b'Graph(name=PGPgiantcompo, n=10680, m=24316)'"
       ]
      }
     ],
     "prompt_number": 64
    },
    {
     "cell_type": "markdown",
     "metadata": {},
     "source": [
      "Nodes are simply integer indices, and edges are pairs of such indices."
     ]
    },
    {
     "cell_type": "code",
     "collapsed": false,
     "input": [
      "V = G.nodes()\n",
      "print(V[:10])\n",
      "E = G.edges()\n",
      "print(E[:10])"
     ],
     "language": "python",
     "metadata": {},
     "outputs": [
      {
       "output_type": "stream",
       "stream": "stdout",
       "text": [
        "[0, 1, 2, 3, 4, 5, 6, 7, 8, 9]\n",
        "[(42, 11), (101, 28), (111, 92), (128, 87), (141, 0), (165, 125), (169, 111), (176, 143), (187, 38), (192, 105)]\n"
       ]
      }
     ],
     "prompt_number": 65
    },
    {
     "cell_type": "code",
     "collapsed": false,
     "input": [
      "G.hasEdge(42,11)"
     ],
     "language": "python",
     "metadata": {},
     "outputs": [
      {
       "metadata": {},
       "output_type": "pyout",
       "prompt_number": 66,
       "text": [
        "True"
       ]
      }
     ],
     "prompt_number": 66
    },
    {
     "cell_type": "markdown",
     "metadata": {},
     "source": [
      "This network is unweighted, meaning that each edge has the default weight of 1."
     ]
    },
    {
     "cell_type": "code",
     "collapsed": false,
     "input": [
      "G.weight(42,11)"
     ],
     "language": "python",
     "metadata": {},
     "outputs": [
      {
       "metadata": {},
       "output_type": "pyout",
       "prompt_number": 67,
       "text": [
        "1.0"
       ]
      }
     ],
     "prompt_number": 67
    },
    {
     "cell_type": "heading",
     "level": 2,
     "metadata": {},
     "source": [
      "Drawing Graphs"
     ]
    },
    {
     "cell_type": "heading",
     "level": 2,
     "metadata": {},
     "source": [
      "Network Properties Overview"
     ]
    },
    {
     "cell_type": "markdown",
     "metadata": {},
     "source": [
      "We now demonstrate the `properties` module, which contains tools that will give you an overview of standard properties of a network.\n",
      "\n",
      "For a quick overview of the most frequently used properties, call the following function:"
     ]
    },
    {
     "cell_type": "code",
     "collapsed": false,
     "input": [
      "properties.overview(G)"
     ],
     "language": "python",
     "metadata": {},
     "outputs": [
      {
       "output_type": "stream",
       "stream": "stdout",
       "text": [
        "Value 0 in data. Throwing out 0 values\n",
        "Calculating best minimal value for power law fit\n",
        "Value 0 in data. Throwing out 0 values\n",
        "Calculating best minimal value for power law fit\n",
        "\n"
       ]
      },
      {
       "output_type": "stream",
       "stream": "stdout",
       "text": [
        "Network Properties: PGPgiantcompo\n",
        "==================\n",
        "Basic Properties\n",
        "-------------------------  --------------\n",
        "nodes (n)                  10680\n",
        "edges (m)                  24316\n",
        "density                    0.000426\n",
        "isolated nodes             0\n",
        "self-loops                 0\n",
        "min. degree                1\n",
        "max. degree                205\n",
        "avg. degree                4.553558\n",
        "degree power law fit?      True, 2.101144\n",
        "degree power law exponent  1.6997\n",
        "degree assortativity       0.2382\n",
        "-------------------------  --------------\n",
        "Path Structure\n",
        "-------------------------  --------\n",
        "connected components       1\n",
        "size of largest component  10680\n",
        "estimated diameter range   (22, 24)\n",
        "-------------------------  --------\n",
        "Community Structure\n",
        "-----------------------------------------  -----------  --------\n",
        "approx. avg. local clustering coefficient               0.441371\n",
        "PLP community detection\n",
        "                                           communities  940\n",
        "                                           modularity   0.793216\n",
        "PLM community detection\n",
        "                                           communities  105\n",
        "                                           modularity   0.883242\n",
        "-----------------------------------------  -----------  --------\n",
        "Degree Distribution\n",
        "-------------------\n",
        "0-   :  \u2587\u2587\u2587\u2587\u2587\u2587\u2587\u2587\u2587\u2587\u2587\u2587\u2587\u2587\u2587\u2587\u2587\u2587\u2587\u2587\u2587\u2587\u2587\u2587\u2587\u2587\u2587\u2587\u2587\u2587\u2587\u2587\u2587\u2587\u2587\u2587\u2587\u2587\u2587\u2587\u2587\u2587\u2587\u2587\u2587\u2587\u2587\u2587\u2587\u25879394.00\n",
        "9-   :  \u2587\u2587\u2587\u2587 781.00\n",
        "18-  :  \u2587 240.00\n",
        "27-  :  | 101.00\n",
        "36-  :  |  91.00\n",
        "45-  :  |  28.00\n",
        "54-  :  |  17.00\n",
        "63-  :  |  12.00\n",
        "72-  :  |   5.00\n",
        "81-  :  |   3.00\n",
        "90-  :  |   2.00\n",
        "99-  :  |   1.00\n",
        "108- :  |   2.00\n",
        "117- :  |   0.00\n",
        "126- :  |   1.00\n",
        "135- :  |   0.00\n",
        "144- :  |   0.00\n",
        "153- :  |   0.00\n",
        "162- :  |   1.00\n",
        "171- :  |   0.00\n",
        "180- :  |   0.00\n",
        "189- :  |   0.00\n",
        "198- :  |   1.00\n",
        "207- :  |   0.00\n",
        "216- :  |   0.00\n",
        "\n"
       ]
      }
     ],
     "prompt_number": 68
    },
    {
     "cell_type": "markdown",
     "metadata": {},
     "source": [
      "Some values are missing because it was decided that calculation would take too long for this particular graph. We are working on adding efficient algorithms so that even large networks can be profiled in seconds."
     ]
    },
    {
     "cell_type": "heading",
     "level": 2,
     "metadata": {},
     "source": [
      "Connected Components"
     ]
    },
    {
     "cell_type": "markdown",
     "metadata": {},
     "source": [
      "A connected component is a set of nodes in which each pair of nodes is connected by a path. The following function determines the connected components of a graph and returns the number of components as well as a map from component index to component size:"
     ]
    },
    {
     "cell_type": "code",
     "collapsed": false,
     "input": [
      "properties.components(G)"
     ],
     "language": "python",
     "metadata": {},
     "outputs": [
      {
       "metadata": {},
       "output_type": "pyout",
       "prompt_number": 69,
       "text": [
        "(1, {1: 10680})"
       ]
      }
     ],
     "prompt_number": 69
    },
    {
     "cell_type": "markdown",
     "metadata": {},
     "source": [
      "For more fine-grained access, one can use the connected component algorithm class directly, i.e. the wrapper around the underlying C++ implementation. This is a recurring pattern throughout NetworKit."
     ]
    },
    {
     "cell_type": "code",
     "collapsed": false,
     "input": [
      "cc = properties.ConnectedComponents()\n",
      "cc.run(G)\n",
      "print(\"number of components \", cc.numberOfComponents())\n",
      "v = 0\n",
      "print(\"component of node \", v , \": \" , cc.componentOfNode(0))\n",
      "print(\"map of component sizes: \", cc.getComponentSizes())"
     ],
     "language": "python",
     "metadata": {},
     "outputs": [
      {
       "output_type": "stream",
       "stream": "stdout",
       "text": [
        "number of components  1\n",
        "component of node  0 :  1\n",
        "map of component sizes:  {1: 10680}\n"
       ]
      }
     ],
     "prompt_number": 70
    },
    {
     "cell_type": "heading",
     "level": 2,
     "metadata": {},
     "source": [
      "Degree Distribution"
     ]
    },
    {
     "cell_type": "markdown",
     "metadata": {},
     "source": [
      "Node degree, the number of edges connected to a node, is one of the most studied properties of networks. Types of networks are often characterized in terms of their distribution of node degrees. We obtain and visualize the degree distribution of our example network as follows.  "
     ]
    },
    {
     "cell_type": "code",
     "collapsed": false,
     "input": [
      "dd = properties.degreeDistribution(G)\n",
      "xscale(\"log\")\n",
      "xlabel(\"degree\")\n",
      "yscale(\"log\")\n",
      "ylabel(\"number of nodes\")\n",
      "plot(dd)"
     ],
     "language": "python",
     "metadata": {},
     "outputs": [
      {
       "metadata": {},
       "output_type": "pyout",
       "prompt_number": 71,
       "text": [
        "[<matplotlib.lines.Line2D at 0x10cb4fdd0>]"
       ]
      },
      {
       "metadata": {},
       "output_type": "display_data",
       "png": "[encoded data removed]",
       "text": [
        "<matplotlib.figure.Figure at 0x10cb57850>"
       ]
      }
     ],
     "prompt_number": 71
    },
    {
     "cell_type": "markdown",
     "metadata": {},
     "source": [
      "We choose a logarithmic scale on both axes because a *powerlaw degree distribution*, a characteristic feature of complex networks, would show up as a straight line from the top left to the bottom right on such a plot. As we see, the degree distribution of the `PGPgiantcompo` network is definitely skewed, with few high-degree nodes and many low-degree nodes. But does the distribution actually obey a power law? In order to study this, we need to apply the `powerlaw` module."
     ]
    },
    {
     "cell_type": "code",
     "collapsed": false,
     "input": [
      "fit = properties.powerlaw.Fit(dd)"
     ],
     "language": "python",
     "metadata": {},
     "outputs": [
      {
       "output_type": "stream",
       "stream": "stdout",
       "text": [
        "Value 0 in data. Throwing out 0 values\n",
        "Calculating best minimal value for power law fit\n"
       ]
      }
     ],
     "prompt_number": 72
    },
    {
     "cell_type": "markdown",
     "metadata": {},
     "source": [
      "We use the `powerlaw` module to test whether a powerlaw is a better fit to the degree distribution than other candidate distributions. From the documentation of the module:\n",
      "\n",
      "> \"`R` is the loglikelihood ratio between the two candidate distributions. This number will be positive\n",
      "if the data is more likely in the first distribution, and negative if the data is more likely in the second\n",
      "distribution. The exponential distribution is the absolute minimum alternative candidate for evaluating the heavy- tailedness of the distribution. The reason is definitional: the typical quantitative definition of a \u201dheavy- tail\u201d is that it is not exponentially bounded. Thus if a power law is not a better fit than an exponential distribution (as in the above example) there is scarce ground for considering the distribution to be heavy-tailed at all, let alone a power law.\""
     ]
    },
    {
     "cell_type": "code",
     "collapsed": false,
     "input": [
      "R, p = fit.distribution_compare(\"power_law\", \"exponential\", normalized_ratio=True)\n",
      "print(R, p)"
     ],
     "language": "python",
     "metadata": {},
     "outputs": [
      {
       "output_type": "stream",
       "stream": "stdout",
       "text": [
        "2.10114439172 0.0356282930896\n"
       ]
      }
     ],
     "prompt_number": 73
    },
    {
     "cell_type": "markdown",
     "metadata": {},
     "source": [
      "Supposing that a powerlaw is a good fit for the degree distribution, a characteristic attribute of the network is the exponent of the distribution:"
     ]
    },
    {
     "cell_type": "code",
     "collapsed": false,
     "input": [
      "properties.powerLawExponent(G)"
     ],
     "language": "python",
     "metadata": {},
     "outputs": [
      {
       "output_type": "stream",
       "stream": "stdout",
       "text": [
        "Value 0 in data. Throwing out 0 values\n",
        "Calculating best minimal value for power law fit\n"
       ]
      },
      {
       "metadata": {},
       "output_type": "pyout",
       "prompt_number": 74,
       "text": [
        "1.6996685513645837"
       ]
      }
     ],
     "prompt_number": 74
    },
    {
     "cell_type": "heading",
     "level": 2,
     "metadata": {},
     "source": [
      "Transitivity / Clustering Coefficients "
     ]
    },
    {
     "cell_type": "markdown",
     "metadata": {},
     "source": [
      "In the most general sense, transitivity measures quantify how likely it is that the relations out of which the network is built are transitive. The clustering coefficient is the most prominent of such measures. We need to distinguish between global and local clustering coefficient: The global clustering coefficient for a network gives the fraction of closed triads. The local clustering coefficient focuses on a single node and counts how many of the possible edges between neighbors of the node exist. The average of this value over all nodes is a good indicator for the degreee of transitivity and the presence of community structures in a network, and this is what the following function returns:"
     ]
    },
    {
     "cell_type": "code",
     "collapsed": false,
     "input": [
      "properties.clustering(G)"
     ],
     "language": "python",
     "metadata": {},
     "outputs": [
      {
       "metadata": {},
       "output_type": "pyout",
       "prompt_number": 75,
       "text": [
        "0.44471467037262224"
       ]
      }
     ],
     "prompt_number": 75
    },
    {
     "cell_type": "heading",
     "level": 2,
     "metadata": {},
     "source": [
      "Search and Shortest Paths"
     ]
    },
    {
     "cell_type": "markdown",
     "metadata": {},
     "source": [
      "A simple breadth-first search from a starting node can be performed as follows:"
     ]
    },
    {
     "cell_type": "code",
     "collapsed": false,
     "input": [
      "v = 0\n",
      "bfsdist = graph.BFS().run(G, v)"
     ],
     "language": "python",
     "metadata": {},
     "outputs": [],
     "prompt_number": 76
    },
    {
     "cell_type": "markdown",
     "metadata": {},
     "source": [
      "The return value is a list of distances from `v` to other nodes - indexed by node id. For example, we can now calculate the mean distance from the starting node to all other nodes:"
     ]
    },
    {
     "cell_type": "code",
     "collapsed": false,
     "input": [
      "sum(bfsdist) / len(bfsdist)"
     ],
     "language": "python",
     "metadata": {},
     "outputs": [
      {
       "metadata": {},
       "output_type": "pyout",
       "prompt_number": 77,
       "text": [
        "11.339044943820225"
       ]
      }
     ],
     "prompt_number": 77
    },
    {
     "cell_type": "markdown",
     "metadata": {},
     "source": [
      "Similarly, Dijkstra's algorithm yields shortest path distances from a starting node to all other nodes in a weighted graph. Because `PGPgiantcompo` is an unweighted graph, the result is the same here:"
     ]
    },
    {
     "cell_type": "code",
     "collapsed": false,
     "input": [
      "spdist = graph.Dijkstra().run(G, v)\n",
      "sum(spdist) / len(spdist)"
     ],
     "language": "python",
     "metadata": {},
     "outputs": [
      {
       "metadata": {},
       "output_type": "pyout",
       "prompt_number": 78,
       "text": [
        "11.339044943820225"
       ]
      }
     ],
     "prompt_number": 78
    },
    {
     "cell_type": "heading",
     "level": 2,
     "metadata": {},
     "source": [
      "Core Decomposition"
     ]
    },
    {
     "cell_type": "markdown",
     "metadata": {},
     "source": [
      "A $k$-core decomposition of a graph is performed by successicely peeling away nodes with degree less than $k$. The remaining nodes form the $k$-core of the graph."
     ]
    },
    {
     "cell_type": "code",
     "collapsed": false,
     "input": [
      "K = readGraph(\"input/karate.graph\")\n",
      "coreDec = properties.CoreDecomposition(K)\n",
      "coreDec.run()"
     ],
     "language": "python",
     "metadata": {},
     "outputs": [],
     "prompt_number": 79
    },
    {
     "cell_type": "markdown",
     "metadata": {},
     "source": [
      "Core decomposition assigns a core number to each node, being the maximum $k$ for which a node is contained in the $k$-core. For this small graph, core numbers have the following range:"
     ]
    },
    {
     "cell_type": "code",
     "collapsed": false,
     "input": [
      "set(coreDec.coreNumbers())"
     ],
     "language": "python",
     "metadata": {},
     "outputs": [
      {
       "metadata": {},
       "output_type": "pyout",
       "prompt_number": 80,
       "text": [
        "{1, 2, 3, 4}"
       ]
      }
     ],
     "prompt_number": 80
    },
    {
     "cell_type": "markdown",
     "metadata": {},
     "source": [
      "The $k$-shell is the set of nodes with core number $k$."
     ]
    },
    {
     "cell_type": "code",
     "collapsed": false,
     "input": [
      "coreDec.shells()"
     ],
     "language": "python",
     "metadata": {},
     "outputs": [
      {
       "metadata": {},
       "output_type": "pyout",
       "prompt_number": 81,
       "text": [
        "[set(),\n",
        " {11},\n",
        " {9, 12, 14, 15, 16, 17, 18, 20, 21, 22, 26},\n",
        " {4, 5, 6, 10, 19, 23, 24, 25, 27, 28, 29, 31},\n",
        " {0, 1, 2, 3, 7, 8, 13, 30, 32, 33}]"
       ]
      }
     ],
     "prompt_number": 81
    },
    {
     "cell_type": "markdown",
     "metadata": {},
     "source": [
      "In this drawing of the Karate club graph, node size corresponds to core number."
     ]
    },
    {
     "cell_type": "code",
     "collapsed": false,
     "input": [
      "viztasks.drawGraph(K, nodeSizes=[(k**2)*20 for k in coreDec.coreNumbers()])"
     ],
     "language": "python",
     "metadata": {},
     "outputs": [
      {
       "metadata": {},
       "output_type": "display_data",
       "png": "[encoded data removed]",
       "text": [
        "<matplotlib.figure.Figure at 0x10c1bc490>"
       ]
      }
     ],
     "prompt_number": 82
    },
    {
     "cell_type": "heading",
     "level": 2,
     "metadata": {},
     "source": [
      "Community Detection"
     ]
    },
    {
     "cell_type": "markdown",
     "metadata": {},
     "source": [
      "This section demonstrates the community detection capabilities of NetworKit. Community detection is concerned with identifying groups of nodes which are significantly more densely connected to eachother than to the rest of the network."
     ]
    },
    {
     "cell_type": "markdown",
     "metadata": {},
     "source": [
      "Code for community detection is contained in the `community` module. The module provides a top-level function to quickly perform community detection with a suitable algorithm and print some stats about the result."
     ]
    },
    {
     "cell_type": "code",
     "collapsed": false,
     "input": [
      "community.detectCommunities(G)"
     ],
     "language": "python",
     "metadata": {},
     "outputs": [
      {
       "output_type": "stream",
       "stream": "stdout",
       "text": [
        "PLM(balanced,) detected communities in 0.06390094757080078 [s]\n",
        "solution properties:\n",
        "-------------------  ---------\n",
        "# communities        105\n",
        "min community size     6\n",
        "max community size   713\n",
        "avg. community size  101.714\n",
        "modularity             0.88229\n",
        "-------------------  ---------\n"
       ]
      },
      {
       "metadata": {},
       "output_type": "pyout",
       "prompt_number": 83,
       "text": [
        "<_NetworKit.Partition at 0x10d448940>"
       ]
      }
     ],
     "prompt_number": 83
    },
    {
     "cell_type": "markdown",
     "metadata": {},
     "source": [
      "The function prints some statistics and returns the partition object representing the communities in the network as an assignment of node to community label. Let's capture this result of the last function call."
     ]
    },
    {
     "cell_type": "code",
     "collapsed": false,
     "input": [
      "communities = _"
     ],
     "language": "python",
     "metadata": {},
     "outputs": [],
     "prompt_number": 84
    },
    {
     "cell_type": "markdown",
     "metadata": {},
     "source": [
      "*Modularity* is the primary measure for the quality of a community detection solution. The value is in the range `[-0.5,1]` and usually depends both on the performance of the algorithm and the presence of distinctive community structures in the network."
     ]
    },
    {
     "cell_type": "code",
     "collapsed": false,
     "input": [
      "community.Modularity().getQuality(communities, G)"
     ],
     "language": "python",
     "metadata": {},
     "outputs": [
      {
       "metadata": {},
       "output_type": "pyout",
       "prompt_number": 85,
       "text": [
        "0.8822901561555547"
       ]
      }
     ],
     "prompt_number": 85
    },
    {
     "cell_type": "heading",
     "level": 3,
     "metadata": {},
     "source": [
      "The Partition Data Structure"
     ]
    },
    {
     "cell_type": "markdown",
     "metadata": {},
     "source": [
      "The result of community detection is a partition of the node set into disjoint subsets. It is represented by the `Partition` data strucure, which provides several methods for inspecting and manipulating a partition of a set of elements (which need not be the nodes of a graph)."
     ]
    },
    {
     "cell_type": "code",
     "collapsed": false,
     "input": [
      "type(communities)"
     ],
     "language": "python",
     "metadata": {},
     "outputs": [
      {
       "metadata": {},
       "output_type": "pyout",
       "prompt_number": 86,
       "text": [
        "_NetworKit.Partition"
       ]
      }
     ],
     "prompt_number": 86
    },
    {
     "cell_type": "code",
     "collapsed": false,
     "input": [
      "print(\"{0} elements assigned to {1} subsets\".format(communities.numberOfElements(), communities.numberOfSubsets()))\n"
     ],
     "language": "python",
     "metadata": {},
     "outputs": [
      {
       "output_type": "stream",
       "stream": "stdout",
       "text": [
        "10680 elements assigned to 105 subsets\n"
       ]
      }
     ],
     "prompt_number": 87
    },
    {
     "cell_type": "code",
     "collapsed": false,
     "input": [
      "print(\"the biggest subset has size {0}\".format(max(communities.subsetSizes())))"
     ],
     "language": "python",
     "metadata": {},
     "outputs": [
      {
       "output_type": "stream",
       "stream": "stdout",
       "text": [
        "the biggest subset has size 713\n"
       ]
      }
     ],
     "prompt_number": 88
    },
    {
     "cell_type": "heading",
     "level": 3,
     "metadata": {},
     "source": [
      "Choice of Algorithm"
     ]
    },
    {
     "cell_type": "markdown",
     "metadata": {},
     "source": [
      "The community detection function used a good default choice for an algorithm: *PLM*, our parallel implementation of the well-known Louvain method. It yields a high-quality solution at reasonably fast running times. Let us now apply a variation of this algorithm."
     ]
    },
    {
     "cell_type": "code",
     "collapsed": false,
     "input": [
      "community.detectCommunities(G, algo=community.PLM(refine=True))"
     ],
     "language": "python",
     "metadata": {},
     "outputs": [
      {
       "output_type": "stream",
       "stream": "stdout",
       "text": [
        "PLM(balanced,refinement) detected communities in 0.06338000297546387 [s]\n",
        "solution properties:\n",
        "-------------------  ----------\n",
        "# communities        105\n",
        "min community size     6\n",
        "max community size   711\n",
        "avg. community size  101.714\n",
        "modularity             0.883242\n",
        "-------------------  ----------\n"
       ]
      },
      {
       "metadata": {},
       "output_type": "pyout",
       "prompt_number": 89,
       "text": [
        "<_NetworKit.Partition at 0x10d448a30>"
       ]
      }
     ],
     "prompt_number": 89
    },
    {
     "cell_type": "markdown",
     "metadata": {},
     "source": [
      "We have switched on refinement, and we can see how modularity is slightly improved. For a small network like this, this takes only marginally longer."
     ]
    },
    {
     "cell_type": "heading",
     "level": 3,
     "metadata": {},
     "source": [
      "Visualizing the Result"
     ]
    },
    {
     "cell_type": "markdown",
     "metadata": {},
     "source": [
      "We can easily plot the distribution of community sizes as follows. While the distribution is skewed, it does not seem to fit a power-law, as shown by a log-log plot."
     ]
    },
    {
     "cell_type": "code",
     "collapsed": false,
     "input": [
      "sizes = communities.subsetSizes()\n",
      "sizes.sort(reverse=True)\n",
      "ax1 = subplot(2,1,1)\n",
      "ax1.set_ylabel(\"size\")\n",
      "ax1.plot(sizes)\n",
      "\n",
      "ax2 = subplot(2,1,2)\n",
      "ax2.set_xscale(\"log\")\n",
      "ax2.set_yscale(\"log\")\n",
      "ax2.set_ylabel(\"size\")\n",
      "ax2.plot(sizes)"
     ],
     "language": "python",
     "metadata": {},
     "outputs": [
      {
       "metadata": {},
       "output_type": "pyout",
       "prompt_number": 90,
       "text": [
        "[<matplotlib.lines.Line2D at 0x10c3d2150>]"
       ]
      },
      {
       "metadata": {},
       "output_type": "display_data",
       "png": "[encoded data removed]",
       "text": [
        "<matplotlib.figure.Figure at 0x10c1e6490>"
       ]
      }
     ],
     "prompt_number": 90
    },
    {
     "cell_type": "markdown",
     "metadata": {},
     "source": [
      "The visualization module provides a function which draws the community graph for a community detection solution: Communities are contracted into single nodes whose size corresponds to the community size."
     ]
    },
    {
     "cell_type": "code",
     "collapsed": false,
     "input": [
      "viztasks.drawCommunityGraph(G, communities)"
     ],
     "language": "python",
     "metadata": {},
     "outputs": [
      {
       "metadata": {},
       "output_type": "display_data",
       "png": "[encoded data removed]",
       "text": [
        "<matplotlib.figure.Figure at 0x10cbebd10>"
       ]
      }
     ],
     "prompt_number": 91
    },
    {
     "cell_type": "heading",
     "level": 2,
     "metadata": {},
     "source": [
      "Subgraph"
     ]
    },
    {
     "cell_type": "markdown",
     "metadata": {},
     "source": [
      "NetworKit supports the creation of Subgraphs depending on an original graph and a set of nodes. This might be useful in case you want to analyze certain communities of a graph. Let's say that community 2 of the above result is of further interest, so we want a new graph that consists of nodes and intra cluster edges of community 2."
     ]
    },
    {
     "cell_type": "code",
     "collapsed": false,
     "input": [
      "from graph import Subgraph\n",
      "c2 = communities.getMembers(2)\n",
      "sg = Subgraph()\n",
      "g2 = sg.fromNodes(G,c2)"
     ],
     "language": "python",
     "metadata": {},
     "outputs": [],
     "prompt_number": 92
    },
    {
     "cell_type": "code",
     "collapsed": false,
     "input": [
      "communities.subsetSizeMap()[2]"
     ],
     "language": "python",
     "metadata": {},
     "outputs": [
      {
       "metadata": {},
       "output_type": "pyout",
       "prompt_number": 93,
       "text": [
        "257"
       ]
      }
     ],
     "prompt_number": 93
    },
    {
     "cell_type": "code",
     "collapsed": false,
     "input": [
      "g2.numberOfNodes()"
     ],
     "language": "python",
     "metadata": {},
     "outputs": [
      {
       "metadata": {},
       "output_type": "pyout",
       "prompt_number": 94,
       "text": [
        "257"
       ]
      }
     ],
     "prompt_number": 94
    },
    {
     "cell_type": "markdown",
     "metadata": {},
     "source": [
      "As we can see, the number of nodes in our subgraph matches the number of nodes of community 2. The subgraph can be used like any other graph object, e.g. further community analysis:"
     ]
    },
    {
     "cell_type": "code",
     "collapsed": false,
     "input": [
      "communities2 = community.detectCommunities(g2)"
     ],
     "language": "python",
     "metadata": {},
     "outputs": [
      {
       "output_type": "stream",
       "stream": "stdout",
       "text": [
        "PLM(balanced,) detected communities in 0.0015799999237060547 [s]\n",
        "solution properties:\n",
        "-------------------  ---------\n",
        "# communities        13\n",
        "min community size    4\n",
        "max community size   47\n",
        "avg. community size  19.7692\n",
        "modularity            0.778526\n",
        "-------------------  ---------\n"
       ]
      }
     ],
     "prompt_number": 95
    },
    {
     "cell_type": "code",
     "collapsed": false,
     "input": [
      "viztasks.drawCommunityGraph(g2,communities2)"
     ],
     "language": "python",
     "metadata": {},
     "outputs": [
      {
       "metadata": {},
       "output_type": "display_data",
       "png": "[encoded data removed]",
       "text": [
        "<matplotlib.figure.Figure at 0x10c357e90>"
       ]
      }
     ],
     "prompt_number": 96
    },
    {
     "cell_type": "heading",
     "level": 2,
     "metadata": {},
     "source": [
      "Centrality"
     ]
    },
    {
     "cell_type": "markdown",
     "metadata": {},
     "source": [
      "[Centrality](http://en.wikipedia.org/wiki/Centrality) measures the relative importance of a node within a graph. Code for centrality analysis is grouped into the `centrality` module."
     ]
    },
    {
     "cell_type": "heading",
     "level": 3,
     "metadata": {},
     "source": [
      "Betweenness Centrality"
     ]
    },
    {
     "cell_type": "markdown",
     "metadata": {},
     "source": [
      "We implement Brandes' algorithm for the exact calculation of betweenness centrality. While the algorithm is efficient, it still needs to calculate shortest paths between all pairs of nodes, so its scalability is limited. We demonstrate it here on the small Karate club graph.  "
     ]
    },
    {
     "cell_type": "code",
     "collapsed": false,
     "input": [
      "K = readGraph(\"input/karate.metis.graph\")"
     ],
     "language": "python",
     "metadata": {},
     "outputs": [],
     "prompt_number": 97
    },
    {
     "cell_type": "code",
     "collapsed": false,
     "input": [
      "bc = centrality.Betweenness(K)\n",
      "bc.run()"
     ],
     "language": "python",
     "metadata": {},
     "outputs": [],
     "prompt_number": 98
    },
    {
     "cell_type": "markdown",
     "metadata": {},
     "source": [
      "We have now calculated centrality values for the given graph, and can retrieve them either as an ordered ranking of nodes or as a list of values indexed by node id. "
     ]
    },
    {
     "cell_type": "code",
     "collapsed": false,
     "input": [
      "bc.ranking()[:10] # the 10 most central nodes"
     ],
     "language": "python",
     "metadata": {},
     "outputs": [
      {
       "metadata": {},
       "output_type": "pyout",
       "prompt_number": 99,
       "text": [
        "[(0, 462.1428571428572),\n",
        " (33, 321.1031746031746),\n",
        " (32, 153.38095238095238),\n",
        " (2, 151.70158730158732),\n",
        " (31, 146.0190476190476),\n",
        " (8, 59.058730158730164),\n",
        " (1, 56.95714285714285),\n",
        " (13, 48.43174603174603),\n",
        " (19, 34.2936507936508),\n",
        " (5, 31.666666666666668)]"
       ]
      }
     ],
     "prompt_number": 99
    },
    {
     "cell_type": "code",
     "collapsed": false,
     "input": [
      "viztasks.drawGraph(K, nodeSizes=bc.scores()) # the more central the node, the bigger it is drawn"
     ],
     "language": "python",
     "metadata": {},
     "outputs": [
      {
       "metadata": {},
       "output_type": "display_data",
       "png": "[encoded data removed]",
       "text": [
        "<matplotlib.figure.Figure at 0x10c806690>"
       ]
      }
     ],
     "prompt_number": 100
    },
    {
     "cell_type": "heading",
     "level": 2,
     "metadata": {},
     "source": [
      "NetworkX Compatibility"
     ]
    },
    {
     "cell_type": "markdown",
     "metadata": {},
     "source": [
      "[NetworkX](http://en.wikipedia.org/wiki/Centrality) is a popular Python package for network analysis. It is currently much richer in features than NetworKit, but unlike NetworkX, NetworKit is able to process graphs with millions to billions of edges. To let both packages complement eachother, and to enable the adaptation of existing NetworkX-based code, we support the conversion of the respective graph data structures."
     ]
    },
    {
     "cell_type": "code",
     "collapsed": false,
     "input": [
      "import networkx as nx\n",
      "nxG = nk2nx(G) # convert from NetworKit.Graph to networkx.Graph\n",
      "print(nx.degree_assortativity_coefficient(nxG))"
     ],
     "language": "python",
     "metadata": {},
     "outputs": [
      {
       "output_type": "stream",
       "stream": "stdout",
       "text": [
        "0.238211371708\n"
       ]
      }
     ],
     "prompt_number": 101
    },
    {
     "cell_type": "code",
     "collapsed": false,
     "input": [
      "nxG = nx.generators.watts_strogatz_graph(42, 2, 0.01)\n",
      "nkG = nx2nk(nxG)\n",
      "viztasks.drawGraph(nkG)"
     ],
     "language": "python",
     "metadata": {},
     "outputs": [
      {
       "metadata": {},
       "output_type": "display_data",
       "png": "[encoded data removed]",
       "text": [
        "<matplotlib.figure.Figure at 0x10d44d490>"
       ]
      }
     ],
     "prompt_number": 102
    },
    {
     "cell_type": "heading",
     "level": 2,
     "metadata": {},
     "source": [
      "Generating Graphs"
     ]
    },
    {
     "cell_type": "markdown",
     "metadata": {},
     "source": [
      "An important subfield of network science is the design and analysis of generative models. A variety of generative models have been proposed with the aim of reproducing one or several of the properties we find in real-world complex networks. NetworKit includes generator algorithms for several of them."
     ]
    },
    {
     "cell_type": "markdown",
     "metadata": {},
     "source": [
      "The **Erd\u00f6s-Renyi model** is the most basic random graph model, in which each edge exists with the same uniform probability. NetworKit provides an efficient generator:"
     ]
    },
    {
     "cell_type": "code",
     "collapsed": false,
     "input": [
      "ERG = generators.ErdosRenyiGenerator(1000, 0.1).generate()"
     ],
     "language": "python",
     "metadata": {},
     "outputs": [],
     "prompt_number": 103
    },
    {
     "cell_type": "code",
     "collapsed": false,
     "input": [
      "properties.overview(ERG)"
     ],
     "language": "python",
     "metadata": {},
     "outputs": [
      {
       "output_type": "stream",
       "stream": "stdout",
       "text": [
        "Value 0 in data. Throwing out 0 values\n",
        "Calculating best minimal value for power law fit\n",
        "Value 0 in data. Throwing out 0 values\n",
        "Calculating best minimal value for power law fit\n",
        "\n"
       ]
      },
      {
       "output_type": "stream",
       "stream": "stdout",
       "text": [
        "Network Properties: G#1209\n",
        "==================\n",
        "Basic Properties\n",
        "-------------------------  ----------------\n",
        "nodes (n)                  1000\n",
        "edges (m)                  49942\n",
        "density                    0.099984\n",
        "isolated nodes             0\n",
        "self-loops                 0\n",
        "min. degree                70\n",
        "max. degree                138\n",
        "avg. degree                99.884000\n",
        "degree power law fit?      False, -0.009552\n",
        "degree power law exponent\n",
        "degree assortativity       -0.0021\n",
        "-------------------------  ----------------\n",
        "Path Structure\n",
        "-------------------------  ------\n",
        "connected components       1\n",
        "size of largest component  1000\n",
        "estimated diameter range   (3, 4)\n",
        "-------------------------  ------\n",
        "Community Structure\n",
        "-----------------------------------------  -----------  --------\n",
        "approx. avg. local clustering coefficient               0.099366\n",
        "PLP community detection\n",
        "                                           communities  1\n",
        "                                           modularity\n",
        "PLM community detection\n",
        "                                           communities  11\n",
        "                                           modularity   0.078935\n",
        "-----------------------------------------  -----------  --------\n",
        "Degree Distribution\n",
        "-------------------\n",
        "0-   :  |   0.00\n",
        "6-   :  |   0.00\n",
        "12-  :  |   0.00\n",
        "18-  :  |   0.00\n",
        "24-  :  |   0.00\n",
        "30-  :  |   0.00\n",
        "36-  :  |   0.00\n",
        "42-  :  |   0.00\n",
        "48-  :  |   0.00\n",
        "54-  :  |   0.00\n",
        "60-  :  |   0.00\n",
        "66-  :  |   1.00\n",
        "72-  :  \u2587   7.00\n",
        "78-  :  \u2587\u2587\u2587\u2587\u2587\u2587\u2587  35.00\n",
        "84-  :  \u2587\u2587\u2587\u2587\u2587\u2587\u2587\u2587\u2587\u2587\u2587\u2587\u2587\u2587\u2587\u2587\u2587\u2587  93.00\n",
        "90-  :  \u2587\u2587\u2587\u2587\u2587\u2587\u2587\u2587\u2587\u2587\u2587\u2587\u2587\u2587\u2587\u2587\u2587\u2587\u2587\u2587\u2587\u2587\u2587\u2587\u2587\u2587\u2587\u2587\u2587\u2587\u2587\u2587\u2587\u2587\u2587\u2587\u2587\u2587 192.00\n",
        "96-  :  \u2587\u2587\u2587\u2587\u2587\u2587\u2587\u2587\u2587\u2587\u2587\u2587\u2587\u2587\u2587\u2587\u2587\u2587\u2587\u2587\u2587\u2587\u2587\u2587\u2587\u2587\u2587\u2587\u2587\u2587\u2587\u2587\u2587\u2587\u2587\u2587\u2587\u2587\u2587\u2587\u2587\u2587\u2587\u2587\u2587\u2587\u2587\u2587\u2587 247.00\n",
        "102- :  \u2587\u2587\u2587\u2587\u2587\u2587\u2587\u2587\u2587\u2587\u2587\u2587\u2587\u2587\u2587\u2587\u2587\u2587\u2587\u2587\u2587\u2587\u2587\u2587\u2587\u2587\u2587\u2587\u2587\u2587\u2587\u2587\u2587\u2587\u2587\u2587\u2587\u2587\u2587\u2587\u2587\u2587\u2587 214.00\n",
        "108- :  \u2587\u2587\u2587\u2587\u2587\u2587\u2587\u2587\u2587\u2587\u2587\u2587\u2587\u2587\u2587\u2587\u2587\u2587\u2587\u2587\u2587\u2587\u2587\u2587\u2587 127.00\n",
        "114- :  \u2587\u2587\u2587\u2587\u2587\u2587\u2587\u2587\u2587\u2587\u2587  55.00\n",
        "120- :  \u2587\u2587\u2587\u2587  22.00\n",
        "126- :  \u2587   6.00\n",
        "132- :  |   0.00\n",
        "138- :  |   1.00\n",
        "144- :  |   0.00\n",
        "\n"
       ]
      }
     ],
     "prompt_number": 104
    },
    {
     "cell_type": "markdown",
     "metadata": {},
     "source": [
      "A simple way to generate a **random graph with community structure** is to use the `ClusteredRandomGraphGenerator`. It uses a simple variant of the Erd\u00f6s-Renyi model: The node set is partitioned into a given number of subsets. Nodes within the same subset have a higher edge probability."
     ]
    },
    {
     "cell_type": "code",
     "collapsed": false,
     "input": [
      "CRG = generators.ClusteredRandomGraphGenerator(200, 4, 0.2, 0.002).generate()"
     ],
     "language": "python",
     "metadata": {},
     "outputs": [],
     "prompt_number": 105
    },
    {
     "cell_type": "code",
     "collapsed": false,
     "input": [
      "community.detectCommunities(CRG)"
     ],
     "language": "python",
     "metadata": {},
     "outputs": [
      {
       "output_type": "stream",
       "stream": "stdout",
       "text": [
        "PLM(balanced,) detected communities in 0.0021240711212158203 [s]\n",
        "solution properties:\n",
        "-------------------  ---------\n",
        "# communities         4\n",
        "min community size   44\n",
        "max community size   59\n",
        "avg. community size  50\n",
        "modularity            0.706759\n",
        "-------------------  ---------\n"
       ]
      },
      {
       "metadata": {},
       "output_type": "pyout",
       "prompt_number": 106,
       "text": [
        "<_NetworKit.Partition at 0x10d448710>"
       ]
      }
     ],
     "prompt_number": 106
    },
    {
     "cell_type": "markdown",
     "metadata": {},
     "source": [
      "The **Chung-Lu model** (also called **configuration model**) generates a random graph which corresponds to a given degree sequence, i.e. has the same expected degree sequence. It can therefore be used to replicate some of the properties of a given real networks, while others are not retained, such as high clustering and the specific community structure."
     ]
    },
    {
     "cell_type": "code",
     "collapsed": false,
     "input": [
      "degreeSequence = [G.degree(v) for v in G.nodes()]\n",
      "clgen = generators.ChungLuGenerator(degreeSequence)\n",
      "properties.overview(clgen.generate())\n"
     ],
     "language": "python",
     "metadata": {},
     "outputs": [
      {
       "output_type": "stream",
       "stream": "stdout",
       "text": [
        "Value 0 in data. Throwing out 0 values\n",
        "Calculating best minimal value for power law fit\n",
        "Value 0 in data. Throwing out 0 values\n",
        "Calculating best minimal value for power law fit\n",
        "\n"
       ]
      },
      {
       "output_type": "stream",
       "stream": "stdout",
       "text": [
        "Network Properties: G#2222\n",
        "==================\n",
        "Basic Properties\n",
        "-------------------------  --------------\n",
        "nodes (n)                  10680\n",
        "edges (m)                  24384\n",
        "density                    0.000428\n",
        "isolated nodes             1870\n",
        "self-loops                 0\n",
        "min. degree                0\n",
        "max. degree                218\n",
        "avg. degree                4.566292\n",
        "degree power law fit?      True, 4.965875\n",
        "degree power law exponent  1.5043\n",
        "degree assortativity       -0.0016\n",
        "-------------------------  --------------\n",
        "Path Structure\n",
        "-------------------------  ----\n",
        "connected components       1935\n",
        "size of largest component  8678\n",
        "estimated diameter range   None\n",
        "-------------------------  ----\n",
        "Community Structure\n",
        "-----------------------------------------  -----------  --------\n",
        "approx. avg. local clustering coefficient               0.007904\n",
        "PLP community detection\n",
        "                                           communities  1943\n",
        "                                           modularity   0.007040\n",
        "PLM community detection\n",
        "                                           communities  1968\n",
        "                                           modularity   0.418605\n",
        "-----------------------------------------  -----------  --------\n",
        "Degree Distribution\n",
        "-------------------\n",
        "0-   :  \u2587\u2587\u2587\u2587\u2587\u2587\u2587\u2587\u2587\u2587\u2587\u2587\u2587\u2587\u2587\u2587\u2587\u2587\u2587\u2587\u2587\u2587\u2587\u2587\u2587\u2587\u2587\u2587\u2587\u2587\u2587\u2587\u2587\u2587\u2587\u2587\u2587\u2587\u2587\u2587\u2587\u2587\u2587\u2587\u2587\u2587\u2587\u2587\u2587\u25879272.00\n",
        "9-   :  \u2587\u2587\u2587\u2587 887.00\n",
        "18-  :  \u2587 247.00\n",
        "27-  :  | 107.00\n",
        "36-  :  |  80.00\n",
        "45-  :  |  32.00\n",
        "54-  :  |  27.00\n",
        "63-  :  |  11.00\n",
        "72-  :  |   4.00\n",
        "81-  :  |   3.00\n",
        "90-  :  |   6.00\n",
        "99-  :  |   0.00\n",
        "108- :  |   2.00\n",
        "117- :  |   0.00\n",
        "126- :  |   0.00\n",
        "135- :  |   0.00\n",
        "144- :  |   0.00\n",
        "153- :  |   0.00\n",
        "162- :  |   0.00\n",
        "171- :  |   1.00\n",
        "180- :  |   0.00\n",
        "189- :  |   0.00\n",
        "198- :  |   0.00\n",
        "207- :  |   0.00\n",
        "216- :  |   1.00\n",
        "\n"
       ]
      }
     ],
     "prompt_number": 107
    },
    {
     "cell_type": "heading",
     "level": 2,
     "metadata": {},
     "source": [
      "Settings"
     ]
    },
    {
     "cell_type": "markdown",
     "metadata": {},
     "source": [
      "In this section we discuss global settings."
     ]
    },
    {
     "cell_type": "heading",
     "level": 3,
     "metadata": {},
     "source": [
      "Logging"
     ]
    },
    {
     "cell_type": "markdown",
     "metadata": {},
     "source": [
      "When using NetworKit from the command line, the verbosity of console output can be controlled via several loglevels, from least to most verbose: `FATAL`, `ERROR`, `WARN`, `INFO`, `DEBUG` and `TRACE`. (Currently, logging is only available on the console and not visible in the IPython Notebook). "
     ]
    },
    {
     "cell_type": "code",
     "collapsed": false,
     "input": [
      "getLogLevel() # the default loglevel"
     ],
     "language": "python",
     "metadata": {},
     "outputs": [
      {
       "metadata": {},
       "output_type": "pyout",
       "prompt_number": 108,
       "text": [
        "'ERROR'"
       ]
      }
     ],
     "prompt_number": 108
    },
    {
     "cell_type": "code",
     "collapsed": false,
     "input": [
      "setLogLevel(\"TRACE\") # set to most verbose mode\n",
      "setLogLevel(\"ERROR\") # set back to default"
     ],
     "language": "python",
     "metadata": {},
     "outputs": [],
     "prompt_number": 109
    },
    {
     "cell_type": "heading",
     "level": 3,
     "metadata": {},
     "source": [
      "Parallelism"
     ]
    },
    {
     "cell_type": "markdown",
     "metadata": {},
     "source": [
      "The degree of parallelism can be controlled and monitored in the following way:"
     ]
    },
    {
     "cell_type": "code",
     "collapsed": false,
     "input": [
      "setNumberOfThreads(1) # set the maximum number of available threads"
     ],
     "language": "python",
     "metadata": {},
     "outputs": [],
     "prompt_number": 110
    },
    {
     "cell_type": "code",
     "collapsed": false,
     "input": [
      "getMaxNumberOfThreads() # see maximum number of available threads"
     ],
     "language": "python",
     "metadata": {},
     "outputs": [
      {
       "metadata": {},
       "output_type": "pyout",
       "prompt_number": 111,
       "text": [
        "1"
       ]
      }
     ],
     "prompt_number": 111
    },
    {
     "cell_type": "code",
     "collapsed": false,
     "input": [
      "getCurrentNumberOfThreads() # the number of threads currently executing"
     ],
     "language": "python",
     "metadata": {},
     "outputs": [
      {
       "metadata": {},
       "output_type": "pyout",
       "prompt_number": 112,
       "text": [
        "1"
       ]
      }
     ],
     "prompt_number": 112
    },
    {
     "cell_type": "heading",
     "level": 2,
     "metadata": {},
     "source": [
      "Support"
     ]
    },
    {
     "cell_type": "markdown",
     "metadata": {},
     "source": [
      "NetworKit is an open-source project that improves with suggestions and contributions from its users. The email list `networkit@ira.uni-karlsruhe.de` is the place for general discussion and questions. Also feel free to contact the authors with questions on how NetworKit can be applied to your research.\n",
      "\n",
      "-- Christian L. Staudt and Henning Meyerhenke"
     ]
    },
    {
     "cell_type": "code",
     "collapsed": false,
     "input": [],
     "language": "python",
     "metadata": {},
     "outputs": []
    }
   ],
   "metadata": {}
  }
 ]
}
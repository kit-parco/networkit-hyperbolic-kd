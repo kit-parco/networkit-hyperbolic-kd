{
 "metadata": {
  "name": ""
 },
 "nbformat": 3,
 "nbformat_minor": 0,
 "worksheets": [
  {
   "cells": [
    {
     "cell_type": "code",
     "collapsed": false,
     "input": [
      "from NetworKit import *\n",
      "%matplotlib\n",
      "from pylab import *"
     ],
     "language": "python",
     "metadata": {},
     "outputs": [
      {
       "output_type": "stream",
       "stream": "stdout",
       "text": [
        "Using matplotlib backend: TkAgg\n"
       ]
      }
     ],
     "prompt_number": 17
    },
    {
     "cell_type": "code",
     "collapsed": false,
     "input": [
      "gen = generators.DynamicHyperbolicGenerator(2000,1,1,1,1,0,0.001)\n",
      "G = gen.getGraph()\n",
      "updater = dynamic.GraphUpdater(G)\n",
      "avgDegrees = []\n",
      "powerlawFit = []\n",
      "diameters = []\n",
      "clustCoeff = []\n",
      "degeneracy = []\n",
      "degreeAss = []\n",
      "powerLawExponents = []\n",
      "\n",
      "for i in range(0,1000):\n",
      "    avgDegrees.append(G.numberOfEdges() / G.numberOfNodes())\n",
      "    powerlawFit.append(properties.powerLawFit(G)[1])\n",
      "    stream = gen.generate(1)\n",
      "    updater.update(stream)\n",
      "    #diameter = properties.Diameter.exactDiameter(G)\n",
      "    clusteringCoefficient = properties.clustering(G)\n",
      "    print('c',end=\" \")\n",
      "    degen = properties.degeneracy(G)\n",
      "    print('d',end=\" \")\n",
      "    degAss = properties.degreeAssortativity(G)\n",
      "    print('a',end=\" \")\n",
      "    gamma = properties.powerLawExponent(G)\n",
      "    print('g',end=\" \")\n",
      "\t\t\t\t\n",
      "    #diameters.append(diameter)\n",
      "    clustCoeff.append(clusteringCoefficient)\n",
      "    degeneracy.append(degen)\n",
      "    degreeAss.append(degAss)\n",
      "    powerLawExponents.append(gamma)\n",
      "    print(i,end=\" \")\n",
      "\n",
      "plot(avgDegrees)"
     ],
     "language": "python",
     "metadata": {},
     "outputs": [
      {
       "output_type": "stream",
       "stream": "stdout",
       "text": [
        "c d a g"
       ]
      },
      {
       "output_type": "stream",
       "stream": "stdout",
       "text": [
        " 0 c"
       ]
      },
      {
       "output_type": "stream",
       "stream": "stdout",
       "text": [
        " d"
       ]
      },
      {
       "output_type": "stream",
       "stream": "stdout",
       "text": [
        " a g"
       ]
      },
      {
       "output_type": "stream",
       "stream": "stdout",
       "text": [
        " 1 c"
       ]
      },
      {
       "output_type": "stream",
       "stream": "stdout",
       "text": [
        " d"
       ]
      },
      {
       "output_type": "stream",
       "stream": "stdout",
       "text": [
        " a g"
       ]
      },
      {
       "output_type": "stream",
       "stream": "stdout",
       "text": [
        " 2 c"
       ]
      },
      {
       "output_type": "stream",
       "stream": "stdout",
       "text": [
        " d a "
       ]
      },
      {
       "output_type": "stream",
       "stream": "stdout",
       "text": [
        "g 3 c"
       ]
      },
      {
       "output_type": "stream",
       "stream": "stdout",
       "text": [
        " d a"
       ]
      },
      {
       "output_type": "stream",
       "stream": "stdout",
       "text": [
        " g"
       ]
      },
      {
       "output_type": "stream",
       "stream": "stdout",
       "text": [
        " 4 c"
       ]
      },
      {
       "output_type": "stream",
       "stream": "stdout",
       "text": [
        " d a g"
       ]
      },
      {
       "output_type": "stream",
       "stream": "stdout",
       "text": [
        " 5 c"
       ]
      },
      {
       "output_type": "stream",
       "stream": "stdout",
       "text": [
        " d"
       ]
      },
      {
       "output_type": "stream",
       "stream": "stdout",
       "text": [
        " a g"
       ]
      },
      {
       "output_type": "stream",
       "stream": "stdout",
       "text": [
        " 6 c"
       ]
      },
      {
       "output_type": "stream",
       "stream": "stdout",
       "text": [
        " d"
       ]
      },
      {
       "output_type": "stream",
       "stream": "stdout",
       "text": [
        " a g"
       ]
      },
      {
       "output_type": "stream",
       "stream": "stdout",
       "text": [
        " 7 c"
       ]
      },
      {
       "output_type": "stream",
       "stream": "stdout",
       "text": [
        " d a"
       ]
      },
      {
       "output_type": "stream",
       "stream": "stdout",
       "text": [
        " g"
       ]
      },
      {
       "output_type": "stream",
       "stream": "stdout",
       "text": [
        " 8 c"
       ]
      },
      {
       "output_type": "stream",
       "stream": "stdout",
       "text": [
        " d a"
       ]
      },
      {
       "output_type": "stream",
       "stream": "stdout",
       "text": [
        " g"
       ]
      },
      {
       "output_type": "stream",
       "stream": "stdout",
       "text": [
        " 9 c"
       ]
      },
      {
       "output_type": "stream",
       "stream": "stdout",
       "text": [
        " d a"
       ]
      },
      {
       "output_type": "stream",
       "stream": "stdout",
       "text": [
        " g"
       ]
      },
      {
       "output_type": "stream",
       "stream": "stdout",
       "text": [
        " 10 c"
       ]
      },
      {
       "output_type": "stream",
       "stream": "stdout",
       "text": [
        " d a g"
       ]
      },
      {
       "output_type": "stream",
       "stream": "stdout",
       "text": [
        " 11 c"
       ]
      },
      {
       "output_type": "stream",
       "stream": "stdout",
       "text": [
        " d"
       ]
      },
      {
       "output_type": "stream",
       "stream": "stdout",
       "text": [
        " a g"
       ]
      },
      {
       "output_type": "stream",
       "stream": "stdout",
       "text": [
        " 12 c"
       ]
      },
      {
       "output_type": "stream",
       "stream": "stdout",
       "text": [
        " d a"
       ]
      },
      {
       "output_type": "stream",
       "stream": "stdout",
       "text": [
        " g"
       ]
      },
      {
       "output_type": "stream",
       "stream": "stdout",
       "text": [
        " 13 c"
       ]
      },
      {
       "output_type": "stream",
       "stream": "stdout",
       "text": [
        " d"
       ]
      },
      {
       "output_type": "stream",
       "stream": "stdout",
       "text": [
        " a g"
       ]
      },
      {
       "output_type": "stream",
       "stream": "stdout",
       "text": [
        " 14 c"
       ]
      },
      {
       "output_type": "stream",
       "stream": "stdout",
       "text": [
        " d a "
       ]
      },
      {
       "output_type": "stream",
       "stream": "stdout",
       "text": [
        "g 15 c"
       ]
      },
      {
       "output_type": "stream",
       "stream": "stdout",
       "text": [
        " d a"
       ]
      },
      {
       "output_type": "stream",
       "stream": "stdout",
       "text": [
        " g"
       ]
      },
      {
       "output_type": "stream",
       "stream": "stdout",
       "text": [
        " 16 c"
       ]
      },
      {
       "output_type": "stream",
       "stream": "stdout",
       "text": [
        " d a"
       ]
      },
      {
       "output_type": "stream",
       "stream": "stdout",
       "text": [
        " g"
       ]
      },
      {
       "output_type": "stream",
       "stream": "stdout",
       "text": [
        " 17 c"
       ]
      },
      {
       "output_type": "stream",
       "stream": "stdout",
       "text": [
        " d a g"
       ]
      },
      {
       "output_type": "stream",
       "stream": "stdout",
       "text": [
        " 18 c"
       ]
      },
      {
       "output_type": "stream",
       "stream": "stdout",
       "text": [
        " d a g"
       ]
      },
      {
       "output_type": "stream",
       "stream": "stdout",
       "text": [
        " 19 c"
       ]
      },
      {
       "output_type": "stream",
       "stream": "stdout",
       "text": [
        " d a g"
       ]
      },
      {
       "output_type": "stream",
       "stream": "stdout",
       "text": [
        " 20 c"
       ]
      },
      {
       "output_type": "stream",
       "stream": "stdout",
       "text": [
        " d a g"
       ]
      },
      {
       "output_type": "stream",
       "stream": "stdout",
       "text": [
        " 21 c"
       ]
      },
      {
       "output_type": "stream",
       "stream": "stdout",
       "text": [
        " d"
       ]
      },
      {
       "output_type": "stream",
       "stream": "stdout",
       "text": [
        " a g"
       ]
      },
      {
       "output_type": "stream",
       "stream": "stdout",
       "text": [
        " 22 c"
       ]
      },
      {
       "output_type": "stream",
       "stream": "stdout",
       "text": [
        " d"
       ]
      },
      {
       "output_type": "stream",
       "stream": "stdout",
       "text": [
        " a g"
       ]
      },
      {
       "output_type": "stream",
       "stream": "stdout",
       "text": [
        " 23 c"
       ]
      },
      {
       "output_type": "stream",
       "stream": "stdout",
       "text": [
        " d a g"
       ]
      },
      {
       "output_type": "stream",
       "stream": "stdout",
       "text": [
        " 24 c"
       ]
      },
      {
       "output_type": "stream",
       "stream": "stdout",
       "text": [
        " d a g"
       ]
      },
      {
       "output_type": "stream",
       "stream": "stdout",
       "text": [
        " 25 c"
       ]
      },
      {
       "output_type": "stream",
       "stream": "stdout",
       "text": [
        " d a g"
       ]
      },
      {
       "output_type": "stream",
       "stream": "stdout",
       "text": [
        " 26 c"
       ]
      },
      {
       "output_type": "stream",
       "stream": "stdout",
       "text": [
        " d"
       ]
      },
      {
       "output_type": "stream",
       "stream": "stdout",
       "text": [
        " a g"
       ]
      },
      {
       "output_type": "stream",
       "stream": "stdout",
       "text": [
        " 27 c"
       ]
      },
      {
       "output_type": "stream",
       "stream": "stdout",
       "text": [
        " d"
       ]
      },
      {
       "output_type": "stream",
       "stream": "stdout",
       "text": [
        " a g"
       ]
      },
      {
       "output_type": "stream",
       "stream": "stdout",
       "text": [
        " 28 c"
       ]
      },
      {
       "output_type": "stream",
       "stream": "stdout",
       "text": [
        " d"
       ]
      },
      {
       "output_type": "stream",
       "stream": "stdout",
       "text": [
        " a g"
       ]
      },
      {
       "output_type": "stream",
       "stream": "stdout",
       "text": [
        " 29 c"
       ]
      },
      {
       "output_type": "stream",
       "stream": "stdout",
       "text": [
        " d a"
       ]
      },
      {
       "output_type": "stream",
       "stream": "stdout",
       "text": [
        " g"
       ]
      },
      {
       "output_type": "stream",
       "stream": "stdout",
       "text": [
        " 30 c"
       ]
      },
      {
       "output_type": "stream",
       "stream": "stdout",
       "text": [
        " d"
       ]
      },
      {
       "output_type": "stream",
       "stream": "stdout",
       "text": [
        " a g"
       ]
      },
      {
       "output_type": "stream",
       "stream": "stdout",
       "text": [
        " 31 c"
       ]
      },
      {
       "output_type": "stream",
       "stream": "stdout",
       "text": [
        " d"
       ]
      },
      {
       "output_type": "stream",
       "stream": "stdout",
       "text": [
        " a g"
       ]
      },
      {
       "output_type": "stream",
       "stream": "stdout",
       "text": [
        " 32 c"
       ]
      },
      {
       "output_type": "stream",
       "stream": "stdout",
       "text": [
        " d a g"
       ]
      },
      {
       "output_type": "stream",
       "stream": "stdout",
       "text": [
        " 33 c"
       ]
      },
      {
       "output_type": "stream",
       "stream": "stdout",
       "text": [
        " d"
       ]
      },
      {
       "output_type": "stream",
       "stream": "stdout",
       "text": [
        " a g"
       ]
      },
      {
       "output_type": "stream",
       "stream": "stdout",
       "text": [
        " 34 c"
       ]
      },
      {
       "output_type": "stream",
       "stream": "stdout",
       "text": [
        " d"
       ]
      },
      {
       "output_type": "stream",
       "stream": "stdout",
       "text": [
        " a g"
       ]
      },
      {
       "output_type": "stream",
       "stream": "stdout",
       "text": [
        " 35 c"
       ]
      },
      {
       "output_type": "stream",
       "stream": "stdout",
       "text": [
        " d"
       ]
      },
      {
       "output_type": "stream",
       "stream": "stdout",
       "text": [
        " a g"
       ]
      },
      {
       "output_type": "stream",
       "stream": "stdout",
       "text": [
        " 36 c"
       ]
      },
      {
       "output_type": "stream",
       "stream": "stdout",
       "text": [
        " d"
       ]
      },
      {
       "output_type": "stream",
       "stream": "stdout",
       "text": [
        " a g"
       ]
      },
      {
       "output_type": "stream",
       "stream": "stdout",
       "text": [
        " 37 c"
       ]
      },
      {
       "output_type": "stream",
       "stream": "stdout",
       "text": [
        " d"
       ]
      },
      {
       "output_type": "stream",
       "stream": "stdout",
       "text": [
        " a g"
       ]
      },
      {
       "output_type": "stream",
       "stream": "stdout",
       "text": [
        " 38 c"
       ]
      },
      {
       "output_type": "stream",
       "stream": "stdout",
       "text": [
        " d"
       ]
      },
      {
       "output_type": "stream",
       "stream": "stdout",
       "text": [
        " a g"
       ]
      },
      {
       "output_type": "stream",
       "stream": "stdout",
       "text": [
        " 39 c"
       ]
      },
      {
       "output_type": "stream",
       "stream": "stdout",
       "text": [
        " d"
       ]
      },
      {
       "output_type": "stream",
       "stream": "stdout",
       "text": [
        " a g"
       ]
      },
      {
       "output_type": "stream",
       "stream": "stdout",
       "text": [
        " 40 c"
       ]
      },
      {
       "output_type": "stream",
       "stream": "stdout",
       "text": [
        " d a"
       ]
      },
      {
       "output_type": "stream",
       "stream": "stdout",
       "text": [
        " g"
       ]
      },
      {
       "output_type": "stream",
       "stream": "stdout",
       "text": [
        " 41 c"
       ]
      },
      {
       "output_type": "stream",
       "stream": "stdout",
       "text": [
        " d"
       ]
      },
      {
       "output_type": "stream",
       "stream": "stdout",
       "text": [
        " a g"
       ]
      },
      {
       "output_type": "stream",
       "stream": "stdout",
       "text": [
        " 42 c"
       ]
      },
      {
       "output_type": "stream",
       "stream": "stdout",
       "text": [
        " d"
       ]
      },
      {
       "output_type": "stream",
       "stream": "stdout",
       "text": [
        " a g"
       ]
      },
      {
       "output_type": "stream",
       "stream": "stdout",
       "text": [
        " 43 c"
       ]
      },
      {
       "output_type": "stream",
       "stream": "stdout",
       "text": [
        " d"
       ]
      },
      {
       "output_type": "stream",
       "stream": "stdout",
       "text": [
        " a g"
       ]
      },
      {
       "output_type": "stream",
       "stream": "stdout",
       "text": [
        " 44 c"
       ]
      },
      {
       "output_type": "stream",
       "stream": "stdout",
       "text": [
        " d a"
       ]
      },
      {
       "output_type": "stream",
       "stream": "stdout",
       "text": [
        " g"
       ]
      },
      {
       "output_type": "stream",
       "stream": "stdout",
       "text": [
        " 45 c"
       ]
      },
      {
       "output_type": "stream",
       "stream": "stdout",
       "text": [
        " d"
       ]
      },
      {
       "output_type": "stream",
       "stream": "stdout",
       "text": [
        " a g"
       ]
      },
      {
       "output_type": "stream",
       "stream": "stdout",
       "text": [
        " 46 c"
       ]
      },
      {
       "output_type": "stream",
       "stream": "stdout",
       "text": [
        " d"
       ]
      },
      {
       "output_type": "stream",
       "stream": "stdout",
       "text": [
        " a g"
       ]
      },
      {
       "output_type": "stream",
       "stream": "stdout",
       "text": [
        " 47 c"
       ]
      },
      {
       "output_type": "stream",
       "stream": "stdout",
       "text": [
        " d"
       ]
      },
      {
       "output_type": "stream",
       "stream": "stdout",
       "text": [
        " a g"
       ]
      },
      {
       "output_type": "stream",
       "stream": "stdout",
       "text": [
        " 48 c"
       ]
      },
      {
       "output_type": "stream",
       "stream": "stdout",
       "text": [
        " d a"
       ]
      },
      {
       "output_type": "stream",
       "stream": "stdout",
       "text": [
        " g"
       ]
      },
      {
       "output_type": "stream",
       "stream": "stdout",
       "text": [
        " 49 c"
       ]
      },
      {
       "output_type": "stream",
       "stream": "stdout",
       "text": [
        " d a g"
       ]
      },
      {
       "output_type": "stream",
       "stream": "stdout",
       "text": [
        " 50 c"
       ]
      },
      {
       "output_type": "stream",
       "stream": "stdout",
       "text": [
        " d a"
       ]
      },
      {
       "output_type": "stream",
       "stream": "stdout",
       "text": [
        " g"
       ]
      },
      {
       "output_type": "stream",
       "stream": "stdout",
       "text": [
        " 51 c"
       ]
      },
      {
       "output_type": "stream",
       "stream": "stdout",
       "text": [
        " d"
       ]
      },
      {
       "output_type": "stream",
       "stream": "stdout",
       "text": [
        " a g"
       ]
      },
      {
       "output_type": "stream",
       "stream": "stdout",
       "text": [
        " 52 c"
       ]
      },
      {
       "output_type": "stream",
       "stream": "stdout",
       "text": [
        " d a g"
       ]
      },
      {
       "output_type": "stream",
       "stream": "stdout",
       "text": [
        " 53 c"
       ]
      },
      {
       "output_type": "stream",
       "stream": "stdout",
       "text": [
        " d a g"
       ]
      },
      {
       "output_type": "stream",
       "stream": "stdout",
       "text": [
        " 54 c"
       ]
      },
      {
       "output_type": "stream",
       "stream": "stdout",
       "text": [
        " d"
       ]
      },
      {
       "output_type": "stream",
       "stream": "stdout",
       "text": [
        " a g"
       ]
      },
      {
       "output_type": "stream",
       "stream": "stdout",
       "text": [
        " 55 c"
       ]
      },
      {
       "output_type": "stream",
       "stream": "stdout",
       "text": [
        " d"
       ]
      },
      {
       "output_type": "stream",
       "stream": "stdout",
       "text": [
        " a g"
       ]
      },
      {
       "output_type": "stream",
       "stream": "stdout",
       "text": [
        " 56 c"
       ]
      },
      {
       "output_type": "stream",
       "stream": "stdout",
       "text": [
        " d"
       ]
      },
      {
       "output_type": "stream",
       "stream": "stdout",
       "text": [
        " a g"
       ]
      },
      {
       "output_type": "stream",
       "stream": "stdout",
       "text": [
        " 57 c"
       ]
      },
      {
       "output_type": "stream",
       "stream": "stdout",
       "text": [
        " d a"
       ]
      },
      {
       "output_type": "stream",
       "stream": "stdout",
       "text": [
        " g"
       ]
      },
      {
       "output_type": "stream",
       "stream": "stdout",
       "text": [
        " 58 c"
       ]
      },
      {
       "output_type": "stream",
       "stream": "stdout",
       "text": [
        " d a"
       ]
      },
      {
       "output_type": "stream",
       "stream": "stdout",
       "text": [
        " g"
       ]
      },
      {
       "output_type": "stream",
       "stream": "stdout",
       "text": [
        " 59 c"
       ]
      },
      {
       "output_type": "stream",
       "stream": "stdout",
       "text": [
        " d a"
       ]
      },
      {
       "output_type": "stream",
       "stream": "stdout",
       "text": [
        " g"
       ]
      },
      {
       "output_type": "stream",
       "stream": "stdout",
       "text": [
        " 60 c"
       ]
      },
      {
       "output_type": "stream",
       "stream": "stdout",
       "text": [
        " d a"
       ]
      },
      {
       "output_type": "stream",
       "stream": "stdout",
       "text": [
        " g"
       ]
      },
      {
       "output_type": "stream",
       "stream": "stdout",
       "text": [
        " 61 c"
       ]
      },
      {
       "output_type": "stream",
       "stream": "stdout",
       "text": [
        " d"
       ]
      },
      {
       "output_type": "stream",
       "stream": "stdout",
       "text": [
        " a g"
       ]
      },
      {
       "output_type": "stream",
       "stream": "stdout",
       "text": [
        " 62 c"
       ]
      },
      {
       "output_type": "stream",
       "stream": "stdout",
       "text": [
        " d"
       ]
      },
      {
       "output_type": "stream",
       "stream": "stdout",
       "text": [
        " a g"
       ]
      },
      {
       "output_type": "stream",
       "stream": "stdout",
       "text": [
        " 63 c"
       ]
      },
      {
       "output_type": "stream",
       "stream": "stdout",
       "text": [
        " d"
       ]
      },
      {
       "output_type": "stream",
       "stream": "stdout",
       "text": [
        " a g"
       ]
      },
      {
       "output_type": "stream",
       "stream": "stdout",
       "text": [
        " 64 c"
       ]
      },
      {
       "output_type": "stream",
       "stream": "stdout",
       "text": [
        " d"
       ]
      },
      {
       "output_type": "stream",
       "stream": "stdout",
       "text": [
        " a g"
       ]
      },
      {
       "output_type": "stream",
       "stream": "stdout",
       "text": [
        " 65 c"
       ]
      },
      {
       "output_type": "stream",
       "stream": "stdout",
       "text": [
        " d"
       ]
      },
      {
       "output_type": "stream",
       "stream": "stdout",
       "text": [
        " a g"
       ]
      },
      {
       "output_type": "stream",
       "stream": "stdout",
       "text": [
        " 66 c"
       ]
      },
      {
       "output_type": "stream",
       "stream": "stdout",
       "text": [
        " d"
       ]
      },
      {
       "output_type": "stream",
       "stream": "stdout",
       "text": [
        " a g"
       ]
      },
      {
       "output_type": "stream",
       "stream": "stdout",
       "text": [
        " 67 c"
       ]
      },
      {
       "output_type": "stream",
       "stream": "stdout",
       "text": [
        " d"
       ]
      },
      {
       "output_type": "stream",
       "stream": "stdout",
       "text": [
        " a g"
       ]
      },
      {
       "output_type": "stream",
       "stream": "stdout",
       "text": [
        " 68 c"
       ]
      },
      {
       "output_type": "stream",
       "stream": "stdout",
       "text": [
        " d"
       ]
      },
      {
       "output_type": "stream",
       "stream": "stdout",
       "text": [
        " a g"
       ]
      },
      {
       "output_type": "stream",
       "stream": "stdout",
       "text": [
        " 69 c"
       ]
      },
      {
       "output_type": "stream",
       "stream": "stdout",
       "text": [
        " d"
       ]
      },
      {
       "output_type": "stream",
       "stream": "stdout",
       "text": [
        " a g"
       ]
      },
      {
       "output_type": "stream",
       "stream": "stdout",
       "text": [
        " 70 c"
       ]
      },
      {
       "output_type": "stream",
       "stream": "stdout",
       "text": [
        " d"
       ]
      },
      {
       "output_type": "stream",
       "stream": "stdout",
       "text": [
        " a g"
       ]
      },
      {
       "output_type": "stream",
       "stream": "stdout",
       "text": [
        " 71 c"
       ]
      },
      {
       "output_type": "stream",
       "stream": "stdout",
       "text": [
        " d a"
       ]
      },
      {
       "output_type": "stream",
       "stream": "stdout",
       "text": [
        " g"
       ]
      },
      {
       "output_type": "stream",
       "stream": "stdout",
       "text": [
        " 72 c"
       ]
      },
      {
       "output_type": "stream",
       "stream": "stdout",
       "text": [
        " d a g"
       ]
      },
      {
       "output_type": "stream",
       "stream": "stdout",
       "text": [
        " 73 c"
       ]
      },
      {
       "output_type": "stream",
       "stream": "stdout",
       "text": [
        " d a"
       ]
      },
      {
       "output_type": "stream",
       "stream": "stdout",
       "text": [
        " g"
       ]
      },
      {
       "output_type": "stream",
       "stream": "stdout",
       "text": [
        " 74 c"
       ]
      },
      {
       "output_type": "stream",
       "stream": "stdout",
       "text": [
        " d"
       ]
      },
      {
       "output_type": "stream",
       "stream": "stdout",
       "text": [
        " a g"
       ]
      },
      {
       "output_type": "stream",
       "stream": "stdout",
       "text": [
        " 75 c"
       ]
      },
      {
       "output_type": "stream",
       "stream": "stdout",
       "text": [
        " d"
       ]
      },
      {
       "output_type": "stream",
       "stream": "stdout",
       "text": [
        " a g"
       ]
      },
      {
       "output_type": "stream",
       "stream": "stdout",
       "text": [
        " 76 c"
       ]
      },
      {
       "output_type": "stream",
       "stream": "stdout",
       "text": [
        " d"
       ]
      },
      {
       "output_type": "stream",
       "stream": "stdout",
       "text": [
        " a g"
       ]
      },
      {
       "output_type": "stream",
       "stream": "stdout",
       "text": [
        " 77 c"
       ]
      },
      {
       "output_type": "stream",
       "stream": "stdout",
       "text": [
        " d"
       ]
      },
      {
       "output_type": "stream",
       "stream": "stdout",
       "text": [
        " a g"
       ]
      },
      {
       "output_type": "stream",
       "stream": "stdout",
       "text": [
        " 78 c"
       ]
      },
      {
       "output_type": "stream",
       "stream": "stdout",
       "text": [
        " d a"
       ]
      },
      {
       "output_type": "stream",
       "stream": "stdout",
       "text": [
        " g"
       ]
      },
      {
       "output_type": "stream",
       "stream": "stdout",
       "text": [
        " 79 c"
       ]
      },
      {
       "output_type": "stream",
       "stream": "stdout",
       "text": [
        " d a"
       ]
      },
      {
       "output_type": "stream",
       "stream": "stdout",
       "text": [
        " g"
       ]
      },
      {
       "output_type": "stream",
       "stream": "stdout",
       "text": [
        " 80 c"
       ]
      },
      {
       "output_type": "stream",
       "stream": "stdout",
       "text": [
        " d a"
       ]
      },
      {
       "output_type": "stream",
       "stream": "stdout",
       "text": [
        " g"
       ]
      },
      {
       "output_type": "stream",
       "stream": "stdout",
       "text": [
        " 81 c"
       ]
      },
      {
       "output_type": "stream",
       "stream": "stdout",
       "text": [
        " d a g"
       ]
      },
      {
       "output_type": "stream",
       "stream": "stdout",
       "text": [
        " 82 c"
       ]
      },
      {
       "output_type": "stream",
       "stream": "stdout",
       "text": [
        " d"
       ]
      },
      {
       "output_type": "stream",
       "stream": "stdout",
       "text": [
        " a g"
       ]
      },
      {
       "output_type": "stream",
       "stream": "stdout",
       "text": [
        " 83 c"
       ]
      },
      {
       "output_type": "stream",
       "stream": "stdout",
       "text": [
        " d a g"
       ]
      },
      {
       "output_type": "stream",
       "stream": "stdout",
       "text": [
        " 84 c"
       ]
      },
      {
       "output_type": "stream",
       "stream": "stdout",
       "text": [
        " d"
       ]
      },
      {
       "output_type": "stream",
       "stream": "stdout",
       "text": [
        " a g"
       ]
      },
      {
       "output_type": "stream",
       "stream": "stdout",
       "text": [
        " 85 c"
       ]
      },
      {
       "output_type": "stream",
       "stream": "stdout",
       "text": [
        " d a"
       ]
      },
      {
       "output_type": "stream",
       "stream": "stdout",
       "text": [
        " g"
       ]
      },
      {
       "output_type": "stream",
       "stream": "stdout",
       "text": [
        " 86 c"
       ]
      },
      {
       "output_type": "stream",
       "stream": "stdout",
       "text": [
        " d"
       ]
      },
      {
       "output_type": "stream",
       "stream": "stdout",
       "text": [
        " a g"
       ]
      },
      {
       "output_type": "stream",
       "stream": "stdout",
       "text": [
        " 87 c"
       ]
      },
      {
       "output_type": "stream",
       "stream": "stdout",
       "text": [
        " d"
       ]
      },
      {
       "output_type": "stream",
       "stream": "stdout",
       "text": [
        " a g"
       ]
      },
      {
       "output_type": "stream",
       "stream": "stdout",
       "text": [
        " 88 c"
       ]
      },
      {
       "output_type": "stream",
       "stream": "stdout",
       "text": [
        " d a g"
       ]
      },
      {
       "output_type": "stream",
       "stream": "stdout",
       "text": [
        " 89 c"
       ]
      },
      {
       "output_type": "stream",
       "stream": "stdout",
       "text": [
        " d a g"
       ]
      },
      {
       "output_type": "stream",
       "stream": "stdout",
       "text": [
        " 90 c"
       ]
      },
      {
       "output_type": "stream",
       "stream": "stdout",
       "text": [
        " d a"
       ]
      },
      {
       "output_type": "stream",
       "stream": "stdout",
       "text": [
        " g"
       ]
      },
      {
       "output_type": "stream",
       "stream": "stdout",
       "text": [
        " 91 c"
       ]
      },
      {
       "output_type": "stream",
       "stream": "stdout",
       "text": [
        " d a"
       ]
      },
      {
       "output_type": "stream",
       "stream": "stdout",
       "text": [
        " g"
       ]
      },
      {
       "output_type": "stream",
       "stream": "stdout",
       "text": [
        " 92 c"
       ]
      },
      {
       "output_type": "stream",
       "stream": "stdout",
       "text": [
        " d"
       ]
      },
      {
       "output_type": "stream",
       "stream": "stdout",
       "text": [
        " a g"
       ]
      },
      {
       "output_type": "stream",
       "stream": "stdout",
       "text": [
        " 93 c"
       ]
      },
      {
       "output_type": "stream",
       "stream": "stdout",
       "text": [
        " d"
       ]
      },
      {
       "output_type": "stream",
       "stream": "stdout",
       "text": [
        " a g"
       ]
      },
      {
       "output_type": "stream",
       "stream": "stdout",
       "text": [
        " 94 c"
       ]
      },
      {
       "output_type": "stream",
       "stream": "stdout",
       "text": [
        " d"
       ]
      },
      {
       "output_type": "stream",
       "stream": "stdout",
       "text": [
        " a g"
       ]
      },
      {
       "output_type": "stream",
       "stream": "stdout",
       "text": [
        " 95 c"
       ]
      },
      {
       "output_type": "stream",
       "stream": "stdout",
       "text": [
        " d"
       ]
      },
      {
       "output_type": "stream",
       "stream": "stdout",
       "text": [
        " a g"
       ]
      },
      {
       "output_type": "stream",
       "stream": "stdout",
       "text": [
        " 96 c"
       ]
      },
      {
       "output_type": "stream",
       "stream": "stdout",
       "text": [
        " d"
       ]
      },
      {
       "output_type": "stream",
       "stream": "stdout",
       "text": [
        " a g"
       ]
      },
      {
       "output_type": "stream",
       "stream": "stdout",
       "text": [
        " 97 c"
       ]
      },
      {
       "output_type": "stream",
       "stream": "stdout",
       "text": [
        " d"
       ]
      },
      {
       "output_type": "stream",
       "stream": "stdout",
       "text": [
        " a g"
       ]
      },
      {
       "output_type": "stream",
       "stream": "stdout",
       "text": [
        " 98 c"
       ]
      },
      {
       "output_type": "stream",
       "stream": "stdout",
       "text": [
        " d"
       ]
      },
      {
       "output_type": "stream",
       "stream": "stdout",
       "text": [
        " a g"
       ]
      },
      {
       "output_type": "stream",
       "stream": "stdout",
       "text": [
        " 99 c"
       ]
      },
      {
       "output_type": "stream",
       "stream": "stdout",
       "text": [
        " d"
       ]
      },
      {
       "output_type": "stream",
       "stream": "stdout",
       "text": [
        " a g"
       ]
      },
      {
       "output_type": "stream",
       "stream": "stdout",
       "text": [
        " 100 c"
       ]
      },
      {
       "output_type": "stream",
       "stream": "stdout",
       "text": [
        " d"
       ]
      },
      {
       "output_type": "stream",
       "stream": "stdout",
       "text": [
        " a g"
       ]
      },
      {
       "output_type": "stream",
       "stream": "stdout",
       "text": [
        " 101 c"
       ]
      },
      {
       "output_type": "stream",
       "stream": "stdout",
       "text": [
        " d"
       ]
      },
      {
       "output_type": "stream",
       "stream": "stdout",
       "text": [
        " a g"
       ]
      },
      {
       "output_type": "stream",
       "stream": "stdout",
       "text": [
        " 102 c"
       ]
      },
      {
       "output_type": "stream",
       "stream": "stdout",
       "text": [
        " d"
       ]
      },
      {
       "output_type": "stream",
       "stream": "stdout",
       "text": [
        " a g"
       ]
      },
      {
       "output_type": "stream",
       "stream": "stdout",
       "text": [
        " 103 c"
       ]
      },
      {
       "output_type": "stream",
       "stream": "stdout",
       "text": [
        " d"
       ]
      },
      {
       "output_type": "stream",
       "stream": "stdout",
       "text": [
        " a g"
       ]
      },
      {
       "output_type": "stream",
       "stream": "stdout",
       "text": [
        " 104 c"
       ]
      },
      {
       "output_type": "stream",
       "stream": "stdout",
       "text": [
        " d"
       ]
      },
      {
       "output_type": "stream",
       "stream": "stdout",
       "text": [
        " a g"
       ]
      },
      {
       "output_type": "stream",
       "stream": "stdout",
       "text": [
        " 105 c"
       ]
      },
      {
       "output_type": "stream",
       "stream": "stdout",
       "text": [
        " d"
       ]
      },
      {
       "output_type": "stream",
       "stream": "stdout",
       "text": [
        " a g"
       ]
      },
      {
       "output_type": "stream",
       "stream": "stdout",
       "text": [
        " 106 c"
       ]
      },
      {
       "output_type": "stream",
       "stream": "stdout",
       "text": [
        " d"
       ]
      },
      {
       "output_type": "stream",
       "stream": "stdout",
       "text": [
        " a g"
       ]
      },
      {
       "output_type": "stream",
       "stream": "stdout",
       "text": [
        " 107 c"
       ]
      },
      {
       "output_type": "stream",
       "stream": "stdout",
       "text": [
        " d"
       ]
      },
      {
       "output_type": "stream",
       "stream": "stdout",
       "text": [
        " a g"
       ]
      },
      {
       "output_type": "stream",
       "stream": "stdout",
       "text": [
        " 108 c"
       ]
      },
      {
       "output_type": "stream",
       "stream": "stdout",
       "text": [
        " d"
       ]
      },
      {
       "output_type": "stream",
       "stream": "stdout",
       "text": [
        " a g"
       ]
      },
      {
       "output_type": "stream",
       "stream": "stdout",
       "text": [
        " 109 c"
       ]
      },
      {
       "output_type": "stream",
       "stream": "stdout",
       "text": [
        " d"
       ]
      },
      {
       "output_type": "stream",
       "stream": "stdout",
       "text": [
        " a g"
       ]
      },
      {
       "output_type": "stream",
       "stream": "stdout",
       "text": [
        " 110 c"
       ]
      },
      {
       "output_type": "stream",
       "stream": "stdout",
       "text": [
        " d"
       ]
      },
      {
       "output_type": "stream",
       "stream": "stdout",
       "text": [
        " a g"
       ]
      },
      {
       "output_type": "stream",
       "stream": "stdout",
       "text": [
        " 111 c"
       ]
      },
      {
       "output_type": "stream",
       "stream": "stdout",
       "text": [
        " d"
       ]
      },
      {
       "output_type": "stream",
       "stream": "stdout",
       "text": [
        " a g"
       ]
      },
      {
       "output_type": "stream",
       "stream": "stdout",
       "text": [
        " 112 c"
       ]
      },
      {
       "output_type": "stream",
       "stream": "stdout",
       "text": [
        " d"
       ]
      },
      {
       "output_type": "stream",
       "stream": "stdout",
       "text": [
        " a g"
       ]
      },
      {
       "output_type": "stream",
       "stream": "stdout",
       "text": [
        " 113 c"
       ]
      },
      {
       "output_type": "stream",
       "stream": "stdout",
       "text": [
        " d"
       ]
      },
      {
       "output_type": "stream",
       "stream": "stdout",
       "text": [
        " a g"
       ]
      },
      {
       "output_type": "stream",
       "stream": "stdout",
       "text": [
        " 114 c"
       ]
      },
      {
       "output_type": "stream",
       "stream": "stdout",
       "text": [
        " d"
       ]
      },
      {
       "output_type": "stream",
       "stream": "stdout",
       "text": [
        " a g"
       ]
      },
      {
       "output_type": "stream",
       "stream": "stdout",
       "text": [
        " 115 c"
       ]
      },
      {
       "output_type": "stream",
       "stream": "stdout",
       "text": [
        " d"
       ]
      },
      {
       "output_type": "stream",
       "stream": "stdout",
       "text": [
        " a g"
       ]
      },
      {
       "output_type": "stream",
       "stream": "stdout",
       "text": [
        " 116 c"
       ]
      },
      {
       "output_type": "stream",
       "stream": "stdout",
       "text": [
        " d"
       ]
      },
      {
       "output_type": "stream",
       "stream": "stdout",
       "text": [
        " a g"
       ]
      },
      {
       "output_type": "stream",
       "stream": "stdout",
       "text": [
        " 117 c"
       ]
      },
      {
       "output_type": "stream",
       "stream": "stdout",
       "text": [
        " d"
       ]
      },
      {
       "output_type": "stream",
       "stream": "stdout",
       "text": [
        " a g"
       ]
      },
      {
       "output_type": "stream",
       "stream": "stdout",
       "text": [
        " 118 c"
       ]
      },
      {
       "output_type": "stream",
       "stream": "stdout",
       "text": [
        " d"
       ]
      },
      {
       "output_type": "stream",
       "stream": "stdout",
       "text": [
        " a g"
       ]
      },
      {
       "output_type": "stream",
       "stream": "stdout",
       "text": [
        " 119 c"
       ]
      },
      {
       "output_type": "stream",
       "stream": "stdout",
       "text": [
        " d"
       ]
      },
      {
       "output_type": "stream",
       "stream": "stdout",
       "text": [
        " a g"
       ]
      },
      {
       "output_type": "stream",
       "stream": "stdout",
       "text": [
        " 120 c"
       ]
      },
      {
       "output_type": "stream",
       "stream": "stdout",
       "text": [
        " d"
       ]
      },
      {
       "output_type": "stream",
       "stream": "stdout",
       "text": [
        " a g"
       ]
      },
      {
       "output_type": "stream",
       "stream": "stdout",
       "text": [
        " 121 c"
       ]
      },
      {
       "output_type": "stream",
       "stream": "stdout",
       "text": [
        " d"
       ]
      },
      {
       "output_type": "stream",
       "stream": "stdout",
       "text": [
        " a g"
       ]
      },
      {
       "output_type": "stream",
       "stream": "stdout",
       "text": [
        " 122 c"
       ]
      },
      {
       "output_type": "stream",
       "stream": "stdout",
       "text": [
        " d"
       ]
      },
      {
       "output_type": "stream",
       "stream": "stdout",
       "text": [
        " a g"
       ]
      },
      {
       "output_type": "stream",
       "stream": "stdout",
       "text": [
        " 123 c"
       ]
      },
      {
       "output_type": "stream",
       "stream": "stdout",
       "text": [
        " d"
       ]
      },
      {
       "output_type": "stream",
       "stream": "stdout",
       "text": [
        " a g"
       ]
      },
      {
       "output_type": "stream",
       "stream": "stdout",
       "text": [
        " 124 c"
       ]
      },
      {
       "output_type": "stream",
       "stream": "stdout",
       "text": [
        " d"
       ]
      },
      {
       "output_type": "stream",
       "stream": "stdout",
       "text": [
        " a g"
       ]
      },
      {
       "output_type": "stream",
       "stream": "stdout",
       "text": [
        " 125 c"
       ]
      },
      {
       "output_type": "stream",
       "stream": "stdout",
       "text": [
        " d"
       ]
      },
      {
       "output_type": "stream",
       "stream": "stdout",
       "text": [
        " a g"
       ]
      },
      {
       "output_type": "stream",
       "stream": "stdout",
       "text": [
        " 126 c"
       ]
      },
      {
       "output_type": "stream",
       "stream": "stdout",
       "text": [
        " d"
       ]
      },
      {
       "output_type": "stream",
       "stream": "stdout",
       "text": [
        " a g"
       ]
      },
      {
       "output_type": "stream",
       "stream": "stdout",
       "text": [
        " 127 c"
       ]
      },
      {
       "output_type": "stream",
       "stream": "stdout",
       "text": [
        " d"
       ]
      },
      {
       "output_type": "stream",
       "stream": "stdout",
       "text": [
        " a g"
       ]
      },
      {
       "output_type": "stream",
       "stream": "stdout",
       "text": [
        " 128 c"
       ]
      },
      {
       "output_type": "stream",
       "stream": "stdout",
       "text": [
        " d"
       ]
      },
      {
       "output_type": "stream",
       "stream": "stdout",
       "text": [
        " a g"
       ]
      },
      {
       "output_type": "stream",
       "stream": "stdout",
       "text": [
        " 129 c"
       ]
      },
      {
       "output_type": "stream",
       "stream": "stdout",
       "text": [
        " d"
       ]
      },
      {
       "output_type": "stream",
       "stream": "stdout",
       "text": [
        " a g"
       ]
      },
      {
       "output_type": "stream",
       "stream": "stdout",
       "text": [
        " 130 c"
       ]
      },
      {
       "output_type": "stream",
       "stream": "stdout",
       "text": [
        " d"
       ]
      },
      {
       "output_type": "stream",
       "stream": "stdout",
       "text": [
        " a g"
       ]
      },
      {
       "output_type": "stream",
       "stream": "stdout",
       "text": [
        " 131 c"
       ]
      },
      {
       "output_type": "stream",
       "stream": "stdout",
       "text": [
        " d"
       ]
      },
      {
       "output_type": "stream",
       "stream": "stdout",
       "text": [
        " a g"
       ]
      },
      {
       "output_type": "stream",
       "stream": "stdout",
       "text": [
        " 132 c"
       ]
      },
      {
       "output_type": "stream",
       "stream": "stdout",
       "text": [
        " d"
       ]
      },
      {
       "output_type": "stream",
       "stream": "stdout",
       "text": [
        " a g"
       ]
      },
      {
       "output_type": "stream",
       "stream": "stdout",
       "text": [
        " 133 c"
       ]
      },
      {
       "output_type": "stream",
       "stream": "stdout",
       "text": [
        " d"
       ]
      },
      {
       "output_type": "stream",
       "stream": "stdout",
       "text": [
        " a g"
       ]
      },
      {
       "output_type": "stream",
       "stream": "stdout",
       "text": [
        " 134 c"
       ]
      },
      {
       "output_type": "stream",
       "stream": "stdout",
       "text": [
        " d"
       ]
      },
      {
       "output_type": "stream",
       "stream": "stdout",
       "text": [
        " a g"
       ]
      },
      {
       "output_type": "stream",
       "stream": "stdout",
       "text": [
        " 135 c"
       ]
      },
      {
       "output_type": "stream",
       "stream": "stdout",
       "text": [
        " d"
       ]
      },
      {
       "output_type": "stream",
       "stream": "stdout",
       "text": [
        " a g"
       ]
      },
      {
       "output_type": "stream",
       "stream": "stdout",
       "text": [
        " 136 c"
       ]
      },
      {
       "output_type": "stream",
       "stream": "stdout",
       "text": [
        " d"
       ]
      },
      {
       "output_type": "stream",
       "stream": "stdout",
       "text": [
        " a g"
       ]
      },
      {
       "output_type": "stream",
       "stream": "stdout",
       "text": [
        " 137 c"
       ]
      },
      {
       "output_type": "stream",
       "stream": "stdout",
       "text": [
        " d"
       ]
      },
      {
       "output_type": "stream",
       "stream": "stdout",
       "text": [
        " a g"
       ]
      },
      {
       "output_type": "stream",
       "stream": "stdout",
       "text": [
        " 138 c"
       ]
      },
      {
       "output_type": "stream",
       "stream": "stdout",
       "text": [
        " d"
       ]
      },
      {
       "output_type": "stream",
       "stream": "stdout",
       "text": [
        " a g"
       ]
      },
      {
       "output_type": "stream",
       "stream": "stdout",
       "text": [
        " 139 c"
       ]
      },
      {
       "output_type": "stream",
       "stream": "stdout",
       "text": [
        " d"
       ]
      },
      {
       "output_type": "stream",
       "stream": "stdout",
       "text": [
        " a g"
       ]
      },
      {
       "output_type": "stream",
       "stream": "stdout",
       "text": [
        " 140 c"
       ]
      },
      {
       "output_type": "stream",
       "stream": "stdout",
       "text": [
        " d"
       ]
      },
      {
       "output_type": "stream",
       "stream": "stdout",
       "text": [
        " a g"
       ]
      },
      {
       "output_type": "stream",
       "stream": "stdout",
       "text": [
        " 141 c"
       ]
      },
      {
       "output_type": "stream",
       "stream": "stdout",
       "text": [
        " d"
       ]
      },
      {
       "output_type": "stream",
       "stream": "stdout",
       "text": [
        " a g"
       ]
      },
      {
       "output_type": "stream",
       "stream": "stdout",
       "text": [
        " 142 c"
       ]
      },
      {
       "output_type": "stream",
       "stream": "stdout",
       "text": [
        " d"
       ]
      },
      {
       "output_type": "stream",
       "stream": "stdout",
       "text": [
        " a g"
       ]
      },
      {
       "output_type": "stream",
       "stream": "stdout",
       "text": [
        " 143 c"
       ]
      },
      {
       "output_type": "stream",
       "stream": "stdout",
       "text": [
        " d"
       ]
      },
      {
       "output_type": "stream",
       "stream": "stdout",
       "text": [
        " a g"
       ]
      },
      {
       "output_type": "stream",
       "stream": "stdout",
       "text": [
        " 144 c"
       ]
      },
      {
       "output_type": "stream",
       "stream": "stdout",
       "text": [
        " d"
       ]
      },
      {
       "output_type": "stream",
       "stream": "stdout",
       "text": [
        " a g"
       ]
      },
      {
       "output_type": "stream",
       "stream": "stdout",
       "text": [
        " 145 c"
       ]
      },
      {
       "output_type": "stream",
       "stream": "stdout",
       "text": [
        " d"
       ]
      },
      {
       "output_type": "stream",
       "stream": "stdout",
       "text": [
        " a g"
       ]
      },
      {
       "output_type": "stream",
       "stream": "stdout",
       "text": [
        " 146 c"
       ]
      },
      {
       "output_type": "stream",
       "stream": "stdout",
       "text": [
        " d"
       ]
      },
      {
       "output_type": "stream",
       "stream": "stdout",
       "text": [
        " a g"
       ]
      },
      {
       "output_type": "stream",
       "stream": "stdout",
       "text": [
        " 147 c"
       ]
      },
      {
       "output_type": "stream",
       "stream": "stdout",
       "text": [
        " d"
       ]
      },
      {
       "output_type": "stream",
       "stream": "stdout",
       "text": [
        " a g"
       ]
      },
      {
       "output_type": "stream",
       "stream": "stdout",
       "text": [
        " 148 c"
       ]
      },
      {
       "output_type": "stream",
       "stream": "stdout",
       "text": [
        " d"
       ]
      },
      {
       "output_type": "stream",
       "stream": "stdout",
       "text": [
        " a g"
       ]
      },
      {
       "output_type": "stream",
       "stream": "stdout",
       "text": [
        " 149 c"
       ]
      },
      {
       "output_type": "stream",
       "stream": "stdout",
       "text": [
        " d"
       ]
      },
      {
       "output_type": "stream",
       "stream": "stdout",
       "text": [
        " a g"
       ]
      },
      {
       "output_type": "stream",
       "stream": "stdout",
       "text": [
        " 150 c"
       ]
      },
      {
       "output_type": "stream",
       "stream": "stdout",
       "text": [
        " d"
       ]
      },
      {
       "output_type": "stream",
       "stream": "stdout",
       "text": [
        " a g"
       ]
      },
      {
       "output_type": "stream",
       "stream": "stdout",
       "text": [
        " 151 c"
       ]
      },
      {
       "output_type": "stream",
       "stream": "stdout",
       "text": [
        " d"
       ]
      },
      {
       "output_type": "stream",
       "stream": "stdout",
       "text": [
        " a g"
       ]
      },
      {
       "output_type": "stream",
       "stream": "stdout",
       "text": [
        " 152 c"
       ]
      },
      {
       "output_type": "stream",
       "stream": "stdout",
       "text": [
        " d"
       ]
      },
      {
       "output_type": "stream",
       "stream": "stdout",
       "text": [
        " a g"
       ]
      },
      {
       "output_type": "stream",
       "stream": "stdout",
       "text": [
        " 153 c"
       ]
      },
      {
       "output_type": "stream",
       "stream": "stdout",
       "text": [
        " d"
       ]
      },
      {
       "output_type": "stream",
       "stream": "stdout",
       "text": [
        " a g"
       ]
      },
      {
       "output_type": "stream",
       "stream": "stdout",
       "text": [
        " 154 c"
       ]
      },
      {
       "output_type": "stream",
       "stream": "stdout",
       "text": [
        " d"
       ]
      },
      {
       "output_type": "stream",
       "stream": "stdout",
       "text": [
        " a g"
       ]
      },
      {
       "output_type": "stream",
       "stream": "stdout",
       "text": [
        " 155 c"
       ]
      },
      {
       "output_type": "stream",
       "stream": "stdout",
       "text": [
        " d"
       ]
      },
      {
       "output_type": "stream",
       "stream": "stdout",
       "text": [
        " a g"
       ]
      },
      {
       "output_type": "stream",
       "stream": "stdout",
       "text": [
        " 156 c"
       ]
      },
      {
       "output_type": "stream",
       "stream": "stdout",
       "text": [
        " d"
       ]
      },
      {
       "output_type": "stream",
       "stream": "stdout",
       "text": [
        " a g"
       ]
      },
      {
       "output_type": "stream",
       "stream": "stdout",
       "text": [
        " 157 c"
       ]
      },
      {
       "output_type": "stream",
       "stream": "stdout",
       "text": [
        " d"
       ]
      },
      {
       "output_type": "stream",
       "stream": "stdout",
       "text": [
        " a g"
       ]
      },
      {
       "output_type": "stream",
       "stream": "stdout",
       "text": [
        " 158 c"
       ]
      },
      {
       "output_type": "stream",
       "stream": "stdout",
       "text": [
        " d"
       ]
      },
      {
       "output_type": "stream",
       "stream": "stdout",
       "text": [
        " a g"
       ]
      },
      {
       "output_type": "stream",
       "stream": "stdout",
       "text": [
        " 159 c"
       ]
      },
      {
       "output_type": "stream",
       "stream": "stdout",
       "text": [
        " d"
       ]
      },
      {
       "output_type": "stream",
       "stream": "stdout",
       "text": [
        " a g"
       ]
      },
      {
       "output_type": "stream",
       "stream": "stdout",
       "text": [
        " 160 c"
       ]
      },
      {
       "output_type": "stream",
       "stream": "stdout",
       "text": [
        " d"
       ]
      },
      {
       "output_type": "stream",
       "stream": "stdout",
       "text": [
        " a g"
       ]
      },
      {
       "output_type": "stream",
       "stream": "stdout",
       "text": [
        " 161 c"
       ]
      },
      {
       "output_type": "stream",
       "stream": "stdout",
       "text": [
        " d"
       ]
      },
      {
       "output_type": "stream",
       "stream": "stdout",
       "text": [
        " a g"
       ]
      },
      {
       "output_type": "stream",
       "stream": "stdout",
       "text": [
        " 162 c"
       ]
      },
      {
       "output_type": "stream",
       "stream": "stdout",
       "text": [
        " d"
       ]
      },
      {
       "output_type": "stream",
       "stream": "stdout",
       "text": [
        " a g"
       ]
      },
      {
       "output_type": "stream",
       "stream": "stdout",
       "text": [
        " 163 c"
       ]
      },
      {
       "output_type": "stream",
       "stream": "stdout",
       "text": [
        " d"
       ]
      },
      {
       "output_type": "stream",
       "stream": "stdout",
       "text": [
        " a g"
       ]
      },
      {
       "output_type": "stream",
       "stream": "stdout",
       "text": [
        " 164 c"
       ]
      },
      {
       "output_type": "stream",
       "stream": "stdout",
       "text": [
        " d"
       ]
      },
      {
       "output_type": "stream",
       "stream": "stdout",
       "text": [
        " a g"
       ]
      },
      {
       "output_type": "stream",
       "stream": "stdout",
       "text": [
        " 165 c"
       ]
      },
      {
       "output_type": "stream",
       "stream": "stdout",
       "text": [
        " d"
       ]
      },
      {
       "output_type": "stream",
       "stream": "stdout",
       "text": [
        " a g"
       ]
      },
      {
       "output_type": "stream",
       "stream": "stdout",
       "text": [
        " 166 c"
       ]
      },
      {
       "output_type": "stream",
       "stream": "stdout",
       "text": [
        " d"
       ]
      },
      {
       "output_type": "stream",
       "stream": "stdout",
       "text": [
        " a g"
       ]
      },
      {
       "output_type": "stream",
       "stream": "stdout",
       "text": [
        " 167 c"
       ]
      },
      {
       "output_type": "stream",
       "stream": "stdout",
       "text": [
        " d"
       ]
      },
      {
       "output_type": "stream",
       "stream": "stdout",
       "text": [
        " a g"
       ]
      },
      {
       "output_type": "stream",
       "stream": "stdout",
       "text": [
        " 168 c"
       ]
      },
      {
       "output_type": "stream",
       "stream": "stdout",
       "text": [
        " d"
       ]
      },
      {
       "output_type": "stream",
       "stream": "stdout",
       "text": [
        " a g"
       ]
      },
      {
       "output_type": "stream",
       "stream": "stdout",
       "text": [
        " 169 c"
       ]
      },
      {
       "output_type": "stream",
       "stream": "stdout",
       "text": [
        " d"
       ]
      },
      {
       "output_type": "stream",
       "stream": "stdout",
       "text": [
        " a g"
       ]
      },
      {
       "output_type": "stream",
       "stream": "stdout",
       "text": [
        " 170 c"
       ]
      },
      {
       "output_type": "stream",
       "stream": "stdout",
       "text": [
        " d"
       ]
      },
      {
       "output_type": "stream",
       "stream": "stdout",
       "text": [
        " a g"
       ]
      },
      {
       "output_type": "stream",
       "stream": "stdout",
       "text": [
        " 171 c"
       ]
      },
      {
       "output_type": "stream",
       "stream": "stdout",
       "text": [
        " d"
       ]
      },
      {
       "output_type": "stream",
       "stream": "stdout",
       "text": [
        " a g"
       ]
      },
      {
       "output_type": "stream",
       "stream": "stdout",
       "text": [
        " 172 c"
       ]
      },
      {
       "output_type": "stream",
       "stream": "stdout",
       "text": [
        " d"
       ]
      },
      {
       "output_type": "stream",
       "stream": "stdout",
       "text": [
        " a g"
       ]
      },
      {
       "output_type": "stream",
       "stream": "stdout",
       "text": [
        " 173 c"
       ]
      },
      {
       "output_type": "stream",
       "stream": "stdout",
       "text": [
        " d"
       ]
      },
      {
       "output_type": "stream",
       "stream": "stdout",
       "text": [
        " a g"
       ]
      },
      {
       "output_type": "stream",
       "stream": "stdout",
       "text": [
        " 174 c"
       ]
      },
      {
       "output_type": "stream",
       "stream": "stdout",
       "text": [
        " d"
       ]
      },
      {
       "output_type": "stream",
       "stream": "stdout",
       "text": [
        " a g"
       ]
      },
      {
       "output_type": "stream",
       "stream": "stdout",
       "text": [
        " 175 c"
       ]
      },
      {
       "output_type": "stream",
       "stream": "stdout",
       "text": [
        " d"
       ]
      },
      {
       "output_type": "stream",
       "stream": "stdout",
       "text": [
        " a g"
       ]
      },
      {
       "output_type": "stream",
       "stream": "stdout",
       "text": [
        " 176 c"
       ]
      },
      {
       "output_type": "stream",
       "stream": "stdout",
       "text": [
        " d"
       ]
      },
      {
       "output_type": "stream",
       "stream": "stdout",
       "text": [
        " a g"
       ]
      },
      {
       "output_type": "stream",
       "stream": "stdout",
       "text": [
        " 177 c"
       ]
      },
      {
       "output_type": "stream",
       "stream": "stdout",
       "text": [
        " d"
       ]
      },
      {
       "output_type": "stream",
       "stream": "stdout",
       "text": [
        " a g"
       ]
      },
      {
       "output_type": "stream",
       "stream": "stdout",
       "text": [
        " 178 c"
       ]
      },
      {
       "output_type": "stream",
       "stream": "stdout",
       "text": [
        " d"
       ]
      },
      {
       "output_type": "stream",
       "stream": "stdout",
       "text": [
        " a g"
       ]
      },
      {
       "output_type": "stream",
       "stream": "stdout",
       "text": [
        " 179 c"
       ]
      },
      {
       "output_type": "stream",
       "stream": "stdout",
       "text": [
        " d"
       ]
      },
      {
       "output_type": "stream",
       "stream": "stdout",
       "text": [
        " a g"
       ]
      },
      {
       "output_type": "stream",
       "stream": "stdout",
       "text": [
        " 180 c"
       ]
      },
      {
       "output_type": "stream",
       "stream": "stdout",
       "text": [
        " d"
       ]
      },
      {
       "output_type": "stream",
       "stream": "stdout",
       "text": [
        " a g"
       ]
      },
      {
       "output_type": "stream",
       "stream": "stdout",
       "text": [
        " 181 c"
       ]
      },
      {
       "output_type": "stream",
       "stream": "stdout",
       "text": [
        " d"
       ]
      },
      {
       "output_type": "stream",
       "stream": "stdout",
       "text": [
        " a g"
       ]
      },
      {
       "output_type": "stream",
       "stream": "stdout",
       "text": [
        " 182 c"
       ]
      },
      {
       "output_type": "stream",
       "stream": "stdout",
       "text": [
        " d"
       ]
      },
      {
       "output_type": "stream",
       "stream": "stdout",
       "text": [
        " a g"
       ]
      },
      {
       "output_type": "stream",
       "stream": "stdout",
       "text": [
        " 183 c"
       ]
      },
      {
       "output_type": "stream",
       "stream": "stdout",
       "text": [
        " d"
       ]
      },
      {
       "output_type": "stream",
       "stream": "stdout",
       "text": [
        " a g"
       ]
      },
      {
       "output_type": "stream",
       "stream": "stdout",
       "text": [
        " 184 c"
       ]
      },
      {
       "output_type": "stream",
       "stream": "stdout",
       "text": [
        " d"
       ]
      },
      {
       "output_type": "stream",
       "stream": "stdout",
       "text": [
        " a g"
       ]
      },
      {
       "output_type": "stream",
       "stream": "stdout",
       "text": [
        " 185 c"
       ]
      },
      {
       "output_type": "stream",
       "stream": "stdout",
       "text": [
        " d"
       ]
      },
      {
       "output_type": "stream",
       "stream": "stdout",
       "text": [
        " a g"
       ]
      },
      {
       "output_type": "stream",
       "stream": "stdout",
       "text": [
        " 186 c"
       ]
      },
      {
       "output_type": "stream",
       "stream": "stdout",
       "text": [
        " d"
       ]
      },
      {
       "output_type": "stream",
       "stream": "stdout",
       "text": [
        " a g"
       ]
      },
      {
       "output_type": "stream",
       "stream": "stdout",
       "text": [
        " 187 c"
       ]
      },
      {
       "output_type": "stream",
       "stream": "stdout",
       "text": [
        " d"
       ]
      },
      {
       "output_type": "stream",
       "stream": "stdout",
       "text": [
        " a g"
       ]
      },
      {
       "output_type": "stream",
       "stream": "stdout",
       "text": [
        " 188 c"
       ]
      },
      {
       "output_type": "stream",
       "stream": "stdout",
       "text": [
        " d"
       ]
      },
      {
       "output_type": "stream",
       "stream": "stdout",
       "text": [
        " a g"
       ]
      },
      {
       "output_type": "stream",
       "stream": "stdout",
       "text": [
        " 189 c"
       ]
      },
      {
       "output_type": "stream",
       "stream": "stdout",
       "text": [
        " d"
       ]
      },
      {
       "output_type": "stream",
       "stream": "stdout",
       "text": [
        " a g"
       ]
      },
      {
       "output_type": "stream",
       "stream": "stdout",
       "text": [
        " 190 c"
       ]
      },
      {
       "output_type": "stream",
       "stream": "stdout",
       "text": [
        " d"
       ]
      },
      {
       "output_type": "stream",
       "stream": "stdout",
       "text": [
        " a g"
       ]
      },
      {
       "output_type": "stream",
       "stream": "stdout",
       "text": [
        " 191 c"
       ]
      },
      {
       "output_type": "stream",
       "stream": "stdout",
       "text": [
        " d"
       ]
      },
      {
       "output_type": "stream",
       "stream": "stdout",
       "text": [
        " a g"
       ]
      },
      {
       "output_type": "stream",
       "stream": "stdout",
       "text": [
        " 192 c"
       ]
      },
      {
       "output_type": "stream",
       "stream": "stdout",
       "text": [
        " d"
       ]
      },
      {
       "output_type": "stream",
       "stream": "stdout",
       "text": [
        " a g"
       ]
      },
      {
       "output_type": "stream",
       "stream": "stdout",
       "text": [
        " 193 c"
       ]
      },
      {
       "output_type": "stream",
       "stream": "stdout",
       "text": [
        " d"
       ]
      },
      {
       "output_type": "stream",
       "stream": "stdout",
       "text": [
        " a g"
       ]
      },
      {
       "output_type": "stream",
       "stream": "stdout",
       "text": [
        " 194 c"
       ]
      },
      {
       "output_type": "stream",
       "stream": "stdout",
       "text": [
        " d"
       ]
      },
      {
       "output_type": "stream",
       "stream": "stdout",
       "text": [
        " a g"
       ]
      },
      {
       "output_type": "stream",
       "stream": "stdout",
       "text": [
        " 195 c"
       ]
      },
      {
       "output_type": "stream",
       "stream": "stdout",
       "text": [
        " d"
       ]
      },
      {
       "output_type": "stream",
       "stream": "stdout",
       "text": [
        " a g"
       ]
      },
      {
       "output_type": "stream",
       "stream": "stdout",
       "text": [
        " 196 c"
       ]
      },
      {
       "output_type": "stream",
       "stream": "stdout",
       "text": [
        " d"
       ]
      },
      {
       "output_type": "stream",
       "stream": "stdout",
       "text": [
        " a g"
       ]
      },
      {
       "output_type": "stream",
       "stream": "stdout",
       "text": [
        " 197 c"
       ]
      },
      {
       "output_type": "stream",
       "stream": "stdout",
       "text": [
        " d"
       ]
      },
      {
       "output_type": "stream",
       "stream": "stdout",
       "text": [
        " a g"
       ]
      },
      {
       "output_type": "stream",
       "stream": "stdout",
       "text": [
        " 198 c"
       ]
      },
      {
       "output_type": "stream",
       "stream": "stdout",
       "text": [
        " d"
       ]
      },
      {
       "output_type": "stream",
       "stream": "stdout",
       "text": [
        " a g"
       ]
      },
      {
       "output_type": "stream",
       "stream": "stdout",
       "text": [
        " 199 c"
       ]
      },
      {
       "output_type": "stream",
       "stream": "stdout",
       "text": [
        " d"
       ]
      },
      {
       "output_type": "stream",
       "stream": "stdout",
       "text": [
        " a g"
       ]
      },
      {
       "output_type": "stream",
       "stream": "stdout",
       "text": [
        " 200 c"
       ]
      },
      {
       "output_type": "stream",
       "stream": "stdout",
       "text": [
        " d"
       ]
      },
      {
       "output_type": "stream",
       "stream": "stdout",
       "text": [
        " a g"
       ]
      },
      {
       "output_type": "stream",
       "stream": "stdout",
       "text": [
        " 201 c"
       ]
      },
      {
       "output_type": "stream",
       "stream": "stdout",
       "text": [
        " d"
       ]
      },
      {
       "output_type": "stream",
       "stream": "stdout",
       "text": [
        " a g"
       ]
      },
      {
       "output_type": "stream",
       "stream": "stdout",
       "text": [
        " 202 c"
       ]
      },
      {
       "output_type": "stream",
       "stream": "stdout",
       "text": [
        " d"
       ]
      },
      {
       "output_type": "stream",
       "stream": "stdout",
       "text": [
        " a g"
       ]
      },
      {
       "output_type": "stream",
       "stream": "stdout",
       "text": [
        " 203 c"
       ]
      },
      {
       "output_type": "stream",
       "stream": "stdout",
       "text": [
        " d"
       ]
      },
      {
       "output_type": "stream",
       "stream": "stdout",
       "text": [
        " a g"
       ]
      },
      {
       "output_type": "stream",
       "stream": "stdout",
       "text": [
        " 204 c"
       ]
      },
      {
       "output_type": "stream",
       "stream": "stdout",
       "text": [
        " d"
       ]
      },
      {
       "output_type": "stream",
       "stream": "stdout",
       "text": [
        " a g"
       ]
      },
      {
       "output_type": "stream",
       "stream": "stdout",
       "text": [
        " 205 c"
       ]
      },
      {
       "output_type": "stream",
       "stream": "stdout",
       "text": [
        " d"
       ]
      },
      {
       "output_type": "stream",
       "stream": "stdout",
       "text": [
        " a g"
       ]
      },
      {
       "output_type": "stream",
       "stream": "stdout",
       "text": [
        " 206 c"
       ]
      },
      {
       "output_type": "stream",
       "stream": "stdout",
       "text": [
        " d"
       ]
      },
      {
       "output_type": "stream",
       "stream": "stdout",
       "text": [
        " a g"
       ]
      },
      {
       "output_type": "stream",
       "stream": "stdout",
       "text": [
        " 207 c"
       ]
      },
      {
       "output_type": "stream",
       "stream": "stdout",
       "text": [
        " d"
       ]
      },
      {
       "output_type": "stream",
       "stream": "stdout",
       "text": [
        " a g"
       ]
      },
      {
       "output_type": "stream",
       "stream": "stdout",
       "text": [
        " 208 c"
       ]
      },
      {
       "output_type": "stream",
       "stream": "stdout",
       "text": [
        " d"
       ]
      },
      {
       "output_type": "stream",
       "stream": "stdout",
       "text": [
        " a g"
       ]
      },
      {
       "output_type": "stream",
       "stream": "stdout",
       "text": [
        " 209 c"
       ]
      },
      {
       "output_type": "stream",
       "stream": "stdout",
       "text": [
        " d"
       ]
      },
      {
       "output_type": "stream",
       "stream": "stdout",
       "text": [
        " a g"
       ]
      },
      {
       "output_type": "stream",
       "stream": "stdout",
       "text": [
        " 210 c"
       ]
      },
      {
       "output_type": "stream",
       "stream": "stdout",
       "text": [
        " d"
       ]
      },
      {
       "output_type": "stream",
       "stream": "stdout",
       "text": [
        " a g"
       ]
      },
      {
       "output_type": "stream",
       "stream": "stdout",
       "text": [
        " 211 c"
       ]
      },
      {
       "output_type": "stream",
       "stream": "stdout",
       "text": [
        " d"
       ]
      },
      {
       "output_type": "stream",
       "stream": "stdout",
       "text": [
        " a g"
       ]
      },
      {
       "output_type": "stream",
       "stream": "stdout",
       "text": [
        " 212 c"
       ]
      },
      {
       "output_type": "stream",
       "stream": "stdout",
       "text": [
        " d"
       ]
      },
      {
       "output_type": "stream",
       "stream": "stdout",
       "text": [
        " a g"
       ]
      },
      {
       "output_type": "stream",
       "stream": "stdout",
       "text": [
        " 213 c"
       ]
      },
      {
       "output_type": "stream",
       "stream": "stdout",
       "text": [
        " d"
       ]
      },
      {
       "output_type": "stream",
       "stream": "stdout",
       "text": [
        " a g"
       ]
      },
      {
       "output_type": "stream",
       "stream": "stdout",
       "text": [
        " 214 c"
       ]
      },
      {
       "output_type": "stream",
       "stream": "stdout",
       "text": [
        " d"
       ]
      },
      {
       "output_type": "stream",
       "stream": "stdout",
       "text": [
        " a g"
       ]
      },
      {
       "output_type": "stream",
       "stream": "stdout",
       "text": [
        " 215 c"
       ]
      },
      {
       "output_type": "stream",
       "stream": "stdout",
       "text": [
        " d"
       ]
      },
      {
       "output_type": "stream",
       "stream": "stdout",
       "text": [
        " a g"
       ]
      },
      {
       "output_type": "stream",
       "stream": "stdout",
       "text": [
        " 216 c"
       ]
      },
      {
       "output_type": "stream",
       "stream": "stdout",
       "text": [
        " d"
       ]
      },
      {
       "output_type": "stream",
       "stream": "stdout",
       "text": [
        " a g"
       ]
      },
      {
       "output_type": "stream",
       "stream": "stdout",
       "text": [
        " 217 c"
       ]
      },
      {
       "output_type": "stream",
       "stream": "stdout",
       "text": [
        " d"
       ]
      },
      {
       "output_type": "stream",
       "stream": "stdout",
       "text": [
        " a g"
       ]
      },
      {
       "output_type": "stream",
       "stream": "stdout",
       "text": [
        " 218 c"
       ]
      },
      {
       "output_type": "stream",
       "stream": "stdout",
       "text": [
        " d"
       ]
      },
      {
       "output_type": "stream",
       "stream": "stdout",
       "text": [
        " a g"
       ]
      },
      {
       "output_type": "stream",
       "stream": "stdout",
       "text": [
        " 219 c"
       ]
      },
      {
       "output_type": "stream",
       "stream": "stdout",
       "text": [
        " d"
       ]
      },
      {
       "output_type": "stream",
       "stream": "stdout",
       "text": [
        " a g"
       ]
      },
      {
       "output_type": "stream",
       "stream": "stdout",
       "text": [
        " 220 c"
       ]
      },
      {
       "output_type": "stream",
       "stream": "stdout",
       "text": [
        " d"
       ]
      },
      {
       "output_type": "stream",
       "stream": "stdout",
       "text": [
        " a g"
       ]
      },
      {
       "output_type": "stream",
       "stream": "stdout",
       "text": [
        " 221 c"
       ]
      },
      {
       "output_type": "stream",
       "stream": "stdout",
       "text": [
        " d"
       ]
      },
      {
       "output_type": "stream",
       "stream": "stdout",
       "text": [
        " a g"
       ]
      },
      {
       "output_type": "stream",
       "stream": "stdout",
       "text": [
        " 222 c"
       ]
      },
      {
       "output_type": "stream",
       "stream": "stdout",
       "text": [
        " d"
       ]
      },
      {
       "output_type": "stream",
       "stream": "stdout",
       "text": [
        " a g"
       ]
      },
      {
       "output_type": "stream",
       "stream": "stdout",
       "text": [
        " 223 c"
       ]
      },
      {
       "output_type": "stream",
       "stream": "stdout",
       "text": [
        " d"
       ]
      },
      {
       "output_type": "stream",
       "stream": "stdout",
       "text": [
        " a g"
       ]
      },
      {
       "output_type": "stream",
       "stream": "stdout",
       "text": [
        " 224 c"
       ]
      },
      {
       "output_type": "stream",
       "stream": "stdout",
       "text": [
        " d"
       ]
      },
      {
       "output_type": "stream",
       "stream": "stdout",
       "text": [
        " a g"
       ]
      },
      {
       "output_type": "stream",
       "stream": "stdout",
       "text": [
        " 225 c"
       ]
      },
      {
       "output_type": "stream",
       "stream": "stdout",
       "text": [
        " d"
       ]
      },
      {
       "output_type": "stream",
       "stream": "stdout",
       "text": [
        " a g"
       ]
      },
      {
       "output_type": "stream",
       "stream": "stdout",
       "text": [
        " 226 c"
       ]
      },
      {
       "output_type": "stream",
       "stream": "stdout",
       "text": [
        " d"
       ]
      },
      {
       "output_type": "stream",
       "stream": "stdout",
       "text": [
        " a g"
       ]
      },
      {
       "output_type": "stream",
       "stream": "stdout",
       "text": [
        " 227 c"
       ]
      },
      {
       "output_type": "stream",
       "stream": "stdout",
       "text": [
        " d"
       ]
      },
      {
       "output_type": "stream",
       "stream": "stdout",
       "text": [
        " a g"
       ]
      },
      {
       "output_type": "stream",
       "stream": "stdout",
       "text": [
        " 228 c"
       ]
      },
      {
       "output_type": "stream",
       "stream": "stdout",
       "text": [
        " d"
       ]
      },
      {
       "output_type": "stream",
       "stream": "stdout",
       "text": [
        " a g"
       ]
      },
      {
       "output_type": "stream",
       "stream": "stdout",
       "text": [
        " 229 c"
       ]
      },
      {
       "output_type": "stream",
       "stream": "stdout",
       "text": [
        " d"
       ]
      },
      {
       "output_type": "stream",
       "stream": "stdout",
       "text": [
        " a g"
       ]
      },
      {
       "output_type": "stream",
       "stream": "stdout",
       "text": [
        " 230 c"
       ]
      },
      {
       "output_type": "stream",
       "stream": "stdout",
       "text": [
        " d"
       ]
      },
      {
       "output_type": "stream",
       "stream": "stdout",
       "text": [
        " a g"
       ]
      },
      {
       "output_type": "stream",
       "stream": "stdout",
       "text": [
        " 231 c"
       ]
      },
      {
       "output_type": "stream",
       "stream": "stdout",
       "text": [
        " d"
       ]
      },
      {
       "output_type": "stream",
       "stream": "stdout",
       "text": [
        " a g"
       ]
      },
      {
       "output_type": "stream",
       "stream": "stdout",
       "text": [
        " 232 c"
       ]
      },
      {
       "output_type": "stream",
       "stream": "stdout",
       "text": [
        " d"
       ]
      },
      {
       "output_type": "stream",
       "stream": "stdout",
       "text": [
        " a g"
       ]
      },
      {
       "output_type": "stream",
       "stream": "stdout",
       "text": [
        " 233 c"
       ]
      },
      {
       "output_type": "stream",
       "stream": "stdout",
       "text": [
        " d"
       ]
      },
      {
       "output_type": "stream",
       "stream": "stdout",
       "text": [
        " a g"
       ]
      },
      {
       "output_type": "stream",
       "stream": "stdout",
       "text": [
        " 234 c"
       ]
      },
      {
       "output_type": "stream",
       "stream": "stdout",
       "text": [
        " d"
       ]
      },
      {
       "output_type": "stream",
       "stream": "stdout",
       "text": [
        " a g"
       ]
      },
      {
       "output_type": "stream",
       "stream": "stdout",
       "text": [
        " 235 c"
       ]
      },
      {
       "output_type": "stream",
       "stream": "stdout",
       "text": [
        " d"
       ]
      },
      {
       "output_type": "stream",
       "stream": "stdout",
       "text": [
        " a g"
       ]
      },
      {
       "output_type": "stream",
       "stream": "stdout",
       "text": [
        " 236 c"
       ]
      },
      {
       "output_type": "stream",
       "stream": "stdout",
       "text": [
        " d"
       ]
      },
      {
       "output_type": "stream",
       "stream": "stdout",
       "text": [
        " a g"
       ]
      },
      {
       "output_type": "stream",
       "stream": "stdout",
       "text": [
        " 237 c"
       ]
      },
      {
       "output_type": "stream",
       "stream": "stdout",
       "text": [
        " d"
       ]
      },
      {
       "output_type": "stream",
       "stream": "stdout",
       "text": [
        " a g"
       ]
      },
      {
       "output_type": "stream",
       "stream": "stdout",
       "text": [
        " 238 c"
       ]
      },
      {
       "output_type": "stream",
       "stream": "stdout",
       "text": [
        " d"
       ]
      },
      {
       "output_type": "stream",
       "stream": "stdout",
       "text": [
        " a g"
       ]
      },
      {
       "output_type": "stream",
       "stream": "stdout",
       "text": [
        " 239 c"
       ]
      },
      {
       "output_type": "stream",
       "stream": "stdout",
       "text": [
        " d"
       ]
      },
      {
       "output_type": "stream",
       "stream": "stdout",
       "text": [
        " a g"
       ]
      },
      {
       "output_type": "stream",
       "stream": "stdout",
       "text": [
        " 240 c"
       ]
      },
      {
       "output_type": "stream",
       "stream": "stdout",
       "text": [
        " d"
       ]
      },
      {
       "output_type": "stream",
       "stream": "stdout",
       "text": [
        " a g"
       ]
      },
      {
       "output_type": "stream",
       "stream": "stdout",
       "text": [
        " 241 c"
       ]
      },
      {
       "output_type": "stream",
       "stream": "stdout",
       "text": [
        " d"
       ]
      },
      {
       "output_type": "stream",
       "stream": "stdout",
       "text": [
        " a g"
       ]
      },
      {
       "output_type": "stream",
       "stream": "stdout",
       "text": [
        " 242 c"
       ]
      },
      {
       "output_type": "stream",
       "stream": "stdout",
       "text": [
        " d"
       ]
      },
      {
       "output_type": "stream",
       "stream": "stdout",
       "text": [
        " a g"
       ]
      },
      {
       "output_type": "stream",
       "stream": "stdout",
       "text": [
        " 243 c"
       ]
      },
      {
       "output_type": "stream",
       "stream": "stdout",
       "text": [
        " d"
       ]
      },
      {
       "output_type": "stream",
       "stream": "stdout",
       "text": [
        " a g"
       ]
      },
      {
       "output_type": "stream",
       "stream": "stdout",
       "text": [
        " 244 c"
       ]
      },
      {
       "output_type": "stream",
       "stream": "stdout",
       "text": [
        " d"
       ]
      },
      {
       "output_type": "stream",
       "stream": "stdout",
       "text": [
        " a g"
       ]
      },
      {
       "output_type": "stream",
       "stream": "stdout",
       "text": [
        " 245 c"
       ]
      },
      {
       "output_type": "stream",
       "stream": "stdout",
       "text": [
        " d"
       ]
      },
      {
       "output_type": "stream",
       "stream": "stdout",
       "text": [
        " a g"
       ]
      },
      {
       "output_type": "stream",
       "stream": "stdout",
       "text": [
        " 246 c"
       ]
      },
      {
       "output_type": "stream",
       "stream": "stdout",
       "text": [
        " d"
       ]
      },
      {
       "output_type": "stream",
       "stream": "stdout",
       "text": [
        " a g"
       ]
      },
      {
       "output_type": "stream",
       "stream": "stdout",
       "text": [
        " 247 c"
       ]
      },
      {
       "output_type": "stream",
       "stream": "stdout",
       "text": [
        " d"
       ]
      },
      {
       "output_type": "stream",
       "stream": "stdout",
       "text": [
        " a g"
       ]
      },
      {
       "output_type": "stream",
       "stream": "stdout",
       "text": [
        " 248 c"
       ]
      },
      {
       "output_type": "stream",
       "stream": "stdout",
       "text": [
        " d"
       ]
      },
      {
       "output_type": "stream",
       "stream": "stdout",
       "text": [
        " a g"
       ]
      },
      {
       "output_type": "stream",
       "stream": "stdout",
       "text": [
        " 249 c"
       ]
      },
      {
       "output_type": "stream",
       "stream": "stdout",
       "text": [
        " d"
       ]
      },
      {
       "output_type": "stream",
       "stream": "stdout",
       "text": [
        " a g"
       ]
      },
      {
       "output_type": "stream",
       "stream": "stdout",
       "text": [
        " 250 c"
       ]
      },
      {
       "output_type": "stream",
       "stream": "stdout",
       "text": [
        " d"
       ]
      },
      {
       "output_type": "stream",
       "stream": "stdout",
       "text": [
        " a g"
       ]
      },
      {
       "output_type": "stream",
       "stream": "stdout",
       "text": [
        " 251 c"
       ]
      },
      {
       "output_type": "stream",
       "stream": "stdout",
       "text": [
        " d"
       ]
      },
      {
       "output_type": "stream",
       "stream": "stdout",
       "text": [
        " a g"
       ]
      },
      {
       "output_type": "stream",
       "stream": "stdout",
       "text": [
        " 252 c"
       ]
      },
      {
       "output_type": "stream",
       "stream": "stdout",
       "text": [
        " d"
       ]
      },
      {
       "output_type": "stream",
       "stream": "stdout",
       "text": [
        " a g"
       ]
      },
      {
       "output_type": "stream",
       "stream": "stdout",
       "text": [
        " 253 c"
       ]
      },
      {
       "output_type": "stream",
       "stream": "stdout",
       "text": [
        " d"
       ]
      },
      {
       "output_type": "stream",
       "stream": "stdout",
       "text": [
        " a g"
       ]
      },
      {
       "output_type": "stream",
       "stream": "stdout",
       "text": [
        " 254 c"
       ]
      },
      {
       "output_type": "stream",
       "stream": "stdout",
       "text": [
        " d"
       ]
      },
      {
       "output_type": "stream",
       "stream": "stdout",
       "text": [
        " a g"
       ]
      },
      {
       "output_type": "stream",
       "stream": "stdout",
       "text": [
        " 255 c"
       ]
      },
      {
       "output_type": "stream",
       "stream": "stdout",
       "text": [
        " d"
       ]
      },
      {
       "output_type": "stream",
       "stream": "stdout",
       "text": [
        " a g"
       ]
      },
      {
       "output_type": "stream",
       "stream": "stdout",
       "text": [
        " 256 c"
       ]
      },
      {
       "output_type": "stream",
       "stream": "stdout",
       "text": [
        " d"
       ]
      },
      {
       "output_type": "stream",
       "stream": "stdout",
       "text": [
        " a g"
       ]
      },
      {
       "output_type": "stream",
       "stream": "stdout",
       "text": [
        " 257 c"
       ]
      },
      {
       "output_type": "stream",
       "stream": "stdout",
       "text": [
        " d"
       ]
      },
      {
       "output_type": "stream",
       "stream": "stdout",
       "text": [
        " a g"
       ]
      },
      {
       "output_type": "stream",
       "stream": "stdout",
       "text": [
        " 258 c"
       ]
      },
      {
       "output_type": "stream",
       "stream": "stdout",
       "text": [
        " d"
       ]
      },
      {
       "output_type": "stream",
       "stream": "stdout",
       "text": [
        " a g"
       ]
      },
      {
       "output_type": "stream",
       "stream": "stdout",
       "text": [
        " 259 c"
       ]
      },
      {
       "output_type": "stream",
       "stream": "stdout",
       "text": [
        " d"
       ]
      },
      {
       "output_type": "stream",
       "stream": "stdout",
       "text": [
        " a g"
       ]
      },
      {
       "output_type": "stream",
       "stream": "stdout",
       "text": [
        " 260 c"
       ]
      },
      {
       "output_type": "stream",
       "stream": "stdout",
       "text": [
        " d"
       ]
      },
      {
       "output_type": "stream",
       "stream": "stdout",
       "text": [
        " a g"
       ]
      },
      {
       "output_type": "stream",
       "stream": "stdout",
       "text": [
        " 261 c"
       ]
      },
      {
       "output_type": "stream",
       "stream": "stdout",
       "text": [
        " d"
       ]
      },
      {
       "output_type": "stream",
       "stream": "stdout",
       "text": [
        " a g"
       ]
      },
      {
       "output_type": "stream",
       "stream": "stdout",
       "text": [
        " 262 c"
       ]
      },
      {
       "output_type": "stream",
       "stream": "stdout",
       "text": [
        " d"
       ]
      },
      {
       "output_type": "stream",
       "stream": "stdout",
       "text": [
        " a g"
       ]
      },
      {
       "output_type": "stream",
       "stream": "stdout",
       "text": [
        " 263 c"
       ]
      },
      {
       "output_type": "stream",
       "stream": "stdout",
       "text": [
        " d"
       ]
      },
      {
       "output_type": "stream",
       "stream": "stdout",
       "text": [
        " a g"
       ]
      },
      {
       "output_type": "stream",
       "stream": "stdout",
       "text": [
        " 264 c"
       ]
      },
      {
       "output_type": "stream",
       "stream": "stdout",
       "text": [
        " d"
       ]
      },
      {
       "output_type": "stream",
       "stream": "stdout",
       "text": [
        " a g"
       ]
      },
      {
       "output_type": "stream",
       "stream": "stdout",
       "text": [
        " 265 c"
       ]
      },
      {
       "output_type": "stream",
       "stream": "stdout",
       "text": [
        " d"
       ]
      },
      {
       "output_type": "stream",
       "stream": "stdout",
       "text": [
        " a g"
       ]
      },
      {
       "output_type": "stream",
       "stream": "stdout",
       "text": [
        " 266 c"
       ]
      },
      {
       "output_type": "stream",
       "stream": "stdout",
       "text": [
        " d"
       ]
      },
      {
       "output_type": "stream",
       "stream": "stdout",
       "text": [
        " a g"
       ]
      },
      {
       "output_type": "stream",
       "stream": "stdout",
       "text": [
        " 267 c"
       ]
      },
      {
       "output_type": "stream",
       "stream": "stdout",
       "text": [
        " d"
       ]
      },
      {
       "output_type": "stream",
       "stream": "stdout",
       "text": [
        " a g"
       ]
      },
      {
       "output_type": "stream",
       "stream": "stdout",
       "text": [
        " 268 c"
       ]
      },
      {
       "output_type": "stream",
       "stream": "stdout",
       "text": [
        " d"
       ]
      },
      {
       "output_type": "stream",
       "stream": "stdout",
       "text": [
        " a g"
       ]
      },
      {
       "output_type": "stream",
       "stream": "stdout",
       "text": [
        " 269 c"
       ]
      },
      {
       "output_type": "stream",
       "stream": "stdout",
       "text": [
        " d"
       ]
      },
      {
       "output_type": "stream",
       "stream": "stdout",
       "text": [
        " a g"
       ]
      },
      {
       "output_type": "stream",
       "stream": "stdout",
       "text": [
        " 270 c"
       ]
      },
      {
       "output_type": "stream",
       "stream": "stdout",
       "text": [
        " d"
       ]
      },
      {
       "output_type": "stream",
       "stream": "stdout",
       "text": [
        " a g"
       ]
      },
      {
       "output_type": "stream",
       "stream": "stdout",
       "text": [
        " 271 c"
       ]
      },
      {
       "output_type": "stream",
       "stream": "stdout",
       "text": [
        " d"
       ]
      },
      {
       "output_type": "stream",
       "stream": "stdout",
       "text": [
        " a g"
       ]
      },
      {
       "output_type": "stream",
       "stream": "stdout",
       "text": [
        " 272 c"
       ]
      },
      {
       "output_type": "stream",
       "stream": "stdout",
       "text": [
        " d"
       ]
      },
      {
       "output_type": "stream",
       "stream": "stdout",
       "text": [
        " a g"
       ]
      },
      {
       "output_type": "stream",
       "stream": "stdout",
       "text": [
        " 273 c"
       ]
      },
      {
       "output_type": "stream",
       "stream": "stdout",
       "text": [
        " d"
       ]
      },
      {
       "output_type": "stream",
       "stream": "stdout",
       "text": [
        " a g"
       ]
      },
      {
       "output_type": "stream",
       "stream": "stdout",
       "text": [
        " 274 c"
       ]
      },
      {
       "output_type": "stream",
       "stream": "stdout",
       "text": [
        " d"
       ]
      },
      {
       "output_type": "stream",
       "stream": "stdout",
       "text": [
        " a g"
       ]
      },
      {
       "output_type": "stream",
       "stream": "stdout",
       "text": [
        " 275 c"
       ]
      },
      {
       "output_type": "stream",
       "stream": "stdout",
       "text": [
        " d"
       ]
      },
      {
       "output_type": "stream",
       "stream": "stdout",
       "text": [
        " a g"
       ]
      },
      {
       "output_type": "stream",
       "stream": "stdout",
       "text": [
        " 276 c"
       ]
      },
      {
       "output_type": "stream",
       "stream": "stdout",
       "text": [
        " d"
       ]
      },
      {
       "output_type": "stream",
       "stream": "stdout",
       "text": [
        " a g"
       ]
      },
      {
       "output_type": "stream",
       "stream": "stdout",
       "text": [
        " 277 c"
       ]
      },
      {
       "output_type": "stream",
       "stream": "stdout",
       "text": [
        " d"
       ]
      },
      {
       "output_type": "stream",
       "stream": "stdout",
       "text": [
        " a g"
       ]
      },
      {
       "output_type": "stream",
       "stream": "stdout",
       "text": [
        " 278 c"
       ]
      },
      {
       "output_type": "stream",
       "stream": "stdout",
       "text": [
        " d"
       ]
      },
      {
       "output_type": "stream",
       "stream": "stdout",
       "text": [
        " a g"
       ]
      },
      {
       "output_type": "stream",
       "stream": "stdout",
       "text": [
        " 279 c"
       ]
      },
      {
       "output_type": "stream",
       "stream": "stdout",
       "text": [
        " d"
       ]
      },
      {
       "output_type": "stream",
       "stream": "stdout",
       "text": [
        " a g"
       ]
      },
      {
       "output_type": "stream",
       "stream": "stdout",
       "text": [
        " 280 c"
       ]
      },
      {
       "output_type": "stream",
       "stream": "stdout",
       "text": [
        " d"
       ]
      },
      {
       "output_type": "stream",
       "stream": "stdout",
       "text": [
        " a g"
       ]
      },
      {
       "output_type": "stream",
       "stream": "stdout",
       "text": [
        " 281 c"
       ]
      },
      {
       "output_type": "stream",
       "stream": "stdout",
       "text": [
        " d"
       ]
      },
      {
       "output_type": "stream",
       "stream": "stdout",
       "text": [
        " a g"
       ]
      },
      {
       "output_type": "stream",
       "stream": "stdout",
       "text": [
        " 282 c"
       ]
      },
      {
       "output_type": "stream",
       "stream": "stdout",
       "text": [
        " d"
       ]
      },
      {
       "output_type": "stream",
       "stream": "stdout",
       "text": [
        " a g"
       ]
      },
      {
       "output_type": "stream",
       "stream": "stdout",
       "text": [
        " 283 c"
       ]
      },
      {
       "output_type": "stream",
       "stream": "stdout",
       "text": [
        " d"
       ]
      },
      {
       "output_type": "stream",
       "stream": "stdout",
       "text": [
        " a g"
       ]
      },
      {
       "output_type": "stream",
       "stream": "stdout",
       "text": [
        " 284 c"
       ]
      },
      {
       "output_type": "stream",
       "stream": "stdout",
       "text": [
        " d"
       ]
      },
      {
       "output_type": "stream",
       "stream": "stdout",
       "text": [
        " a g"
       ]
      },
      {
       "output_type": "stream",
       "stream": "stdout",
       "text": [
        " 285 c"
       ]
      },
      {
       "output_type": "stream",
       "stream": "stdout",
       "text": [
        " d"
       ]
      },
      {
       "output_type": "stream",
       "stream": "stdout",
       "text": [
        " a g"
       ]
      },
      {
       "output_type": "stream",
       "stream": "stdout",
       "text": [
        " 286 c"
       ]
      },
      {
       "output_type": "stream",
       "stream": "stdout",
       "text": [
        " d"
       ]
      },
      {
       "output_type": "stream",
       "stream": "stdout",
       "text": [
        " a g"
       ]
      },
      {
       "output_type": "stream",
       "stream": "stdout",
       "text": [
        " 287 c"
       ]
      },
      {
       "output_type": "stream",
       "stream": "stdout",
       "text": [
        " d"
       ]
      },
      {
       "output_type": "stream",
       "stream": "stdout",
       "text": [
        " a g"
       ]
      },
      {
       "output_type": "stream",
       "stream": "stdout",
       "text": [
        " 288 c"
       ]
      },
      {
       "output_type": "stream",
       "stream": "stdout",
       "text": [
        " d"
       ]
      },
      {
       "output_type": "stream",
       "stream": "stdout",
       "text": [
        " a g"
       ]
      },
      {
       "output_type": "stream",
       "stream": "stdout",
       "text": [
        " 289 c"
       ]
      },
      {
       "output_type": "stream",
       "stream": "stdout",
       "text": [
        " d"
       ]
      },
      {
       "output_type": "stream",
       "stream": "stdout",
       "text": [
        " a g"
       ]
      },
      {
       "output_type": "stream",
       "stream": "stdout",
       "text": [
        " 290 c"
       ]
      },
      {
       "output_type": "stream",
       "stream": "stdout",
       "text": [
        " d"
       ]
      },
      {
       "output_type": "stream",
       "stream": "stdout",
       "text": [
        " a g"
       ]
      },
      {
       "output_type": "stream",
       "stream": "stdout",
       "text": [
        " 291 c"
       ]
      },
      {
       "output_type": "stream",
       "stream": "stdout",
       "text": [
        " d"
       ]
      },
      {
       "output_type": "stream",
       "stream": "stdout",
       "text": [
        " a g"
       ]
      },
      {
       "output_type": "stream",
       "stream": "stdout",
       "text": [
        " 292 c"
       ]
      },
      {
       "output_type": "stream",
       "stream": "stdout",
       "text": [
        " d"
       ]
      },
      {
       "output_type": "stream",
       "stream": "stdout",
       "text": [
        " a g"
       ]
      },
      {
       "output_type": "stream",
       "stream": "stdout",
       "text": [
        " 293 c"
       ]
      },
      {
       "output_type": "stream",
       "stream": "stdout",
       "text": [
        " d"
       ]
      },
      {
       "output_type": "stream",
       "stream": "stdout",
       "text": [
        " a g"
       ]
      },
      {
       "output_type": "stream",
       "stream": "stdout",
       "text": [
        " 294 c"
       ]
      },
      {
       "output_type": "stream",
       "stream": "stdout",
       "text": [
        " d"
       ]
      },
      {
       "output_type": "stream",
       "stream": "stdout",
       "text": [
        " a g"
       ]
      },
      {
       "output_type": "stream",
       "stream": "stdout",
       "text": [
        " 295 c"
       ]
      },
      {
       "output_type": "stream",
       "stream": "stdout",
       "text": [
        " d"
       ]
      },
      {
       "output_type": "stream",
       "stream": "stdout",
       "text": [
        " a g"
       ]
      },
      {
       "output_type": "stream",
       "stream": "stdout",
       "text": [
        " 296 c"
       ]
      },
      {
       "output_type": "stream",
       "stream": "stdout",
       "text": [
        " d"
       ]
      },
      {
       "output_type": "stream",
       "stream": "stdout",
       "text": [
        " a g"
       ]
      },
      {
       "output_type": "stream",
       "stream": "stdout",
       "text": [
        " 297 c"
       ]
      },
      {
       "output_type": "stream",
       "stream": "stdout",
       "text": [
        " d"
       ]
      },
      {
       "output_type": "stream",
       "stream": "stdout",
       "text": [
        " a g"
       ]
      },
      {
       "output_type": "stream",
       "stream": "stdout",
       "text": [
        " 298 c"
       ]
      },
      {
       "output_type": "stream",
       "stream": "stdout",
       "text": [
        " d"
       ]
      },
      {
       "output_type": "stream",
       "stream": "stdout",
       "text": [
        " a g"
       ]
      },
      {
       "output_type": "stream",
       "stream": "stdout",
       "text": [
        " 299 c"
       ]
      },
      {
       "output_type": "stream",
       "stream": "stdout",
       "text": [
        " d"
       ]
      },
      {
       "output_type": "stream",
       "stream": "stdout",
       "text": [
        " a g"
       ]
      },
      {
       "output_type": "stream",
       "stream": "stdout",
       "text": [
        " 300 c"
       ]
      },
      {
       "output_type": "stream",
       "stream": "stdout",
       "text": [
        " d"
       ]
      },
      {
       "output_type": "stream",
       "stream": "stdout",
       "text": [
        " a g"
       ]
      },
      {
       "output_type": "stream",
       "stream": "stdout",
       "text": [
        " 301 c"
       ]
      },
      {
       "output_type": "stream",
       "stream": "stdout",
       "text": [
        " d"
       ]
      },
      {
       "output_type": "stream",
       "stream": "stdout",
       "text": [
        " a g"
       ]
      },
      {
       "output_type": "stream",
       "stream": "stdout",
       "text": [
        " 302 c"
       ]
      },
      {
       "output_type": "stream",
       "stream": "stdout",
       "text": [
        " d"
       ]
      },
      {
       "output_type": "stream",
       "stream": "stdout",
       "text": [
        " a g"
       ]
      },
      {
       "output_type": "stream",
       "stream": "stdout",
       "text": [
        " 303 c"
       ]
      },
      {
       "output_type": "stream",
       "stream": "stdout",
       "text": [
        " d"
       ]
      },
      {
       "output_type": "stream",
       "stream": "stdout",
       "text": [
        " a g"
       ]
      },
      {
       "output_type": "stream",
       "stream": "stdout",
       "text": [
        " 304 c"
       ]
      },
      {
       "output_type": "stream",
       "stream": "stdout",
       "text": [
        " d"
       ]
      },
      {
       "output_type": "stream",
       "stream": "stdout",
       "text": [
        " a g"
       ]
      },
      {
       "output_type": "stream",
       "stream": "stdout",
       "text": [
        " 305 c"
       ]
      },
      {
       "output_type": "stream",
       "stream": "stdout",
       "text": [
        " d"
       ]
      },
      {
       "output_type": "stream",
       "stream": "stdout",
       "text": [
        " a g"
       ]
      },
      {
       "output_type": "stream",
       "stream": "stdout",
       "text": [
        " 306 c"
       ]
      },
      {
       "output_type": "stream",
       "stream": "stdout",
       "text": [
        " d"
       ]
      },
      {
       "output_type": "stream",
       "stream": "stdout",
       "text": [
        " a g"
       ]
      },
      {
       "output_type": "stream",
       "stream": "stdout",
       "text": [
        " 307 c"
       ]
      },
      {
       "output_type": "stream",
       "stream": "stdout",
       "text": [
        " d"
       ]
      },
      {
       "output_type": "stream",
       "stream": "stdout",
       "text": [
        " a g"
       ]
      },
      {
       "output_type": "stream",
       "stream": "stdout",
       "text": [
        " 308 c"
       ]
      },
      {
       "output_type": "stream",
       "stream": "stdout",
       "text": [
        " d"
       ]
      },
      {
       "output_type": "stream",
       "stream": "stdout",
       "text": [
        " a g"
       ]
      },
      {
       "output_type": "stream",
       "stream": "stdout",
       "text": [
        " 309 c"
       ]
      },
      {
       "output_type": "stream",
       "stream": "stdout",
       "text": [
        " d"
       ]
      },
      {
       "output_type": "stream",
       "stream": "stdout",
       "text": [
        " a g"
       ]
      },
      {
       "output_type": "stream",
       "stream": "stdout",
       "text": [
        " 310 c"
       ]
      },
      {
       "output_type": "stream",
       "stream": "stdout",
       "text": [
        " d"
       ]
      },
      {
       "output_type": "stream",
       "stream": "stdout",
       "text": [
        " a g"
       ]
      },
      {
       "output_type": "stream",
       "stream": "stdout",
       "text": [
        " 311 c"
       ]
      },
      {
       "output_type": "stream",
       "stream": "stdout",
       "text": [
        " d"
       ]
      },
      {
       "output_type": "stream",
       "stream": "stdout",
       "text": [
        " a g"
       ]
      },
      {
       "output_type": "stream",
       "stream": "stdout",
       "text": [
        " 312 c"
       ]
      },
      {
       "output_type": "stream",
       "stream": "stdout",
       "text": [
        " d"
       ]
      },
      {
       "output_type": "stream",
       "stream": "stdout",
       "text": [
        " a g"
       ]
      },
      {
       "output_type": "stream",
       "stream": "stdout",
       "text": [
        " 313 c"
       ]
      },
      {
       "output_type": "stream",
       "stream": "stdout",
       "text": [
        " d"
       ]
      },
      {
       "output_type": "stream",
       "stream": "stdout",
       "text": [
        " a g"
       ]
      },
      {
       "output_type": "stream",
       "stream": "stdout",
       "text": [
        " 314 c"
       ]
      },
      {
       "output_type": "stream",
       "stream": "stdout",
       "text": [
        " d"
       ]
      },
      {
       "output_type": "stream",
       "stream": "stdout",
       "text": [
        " a g"
       ]
      },
      {
       "output_type": "stream",
       "stream": "stdout",
       "text": [
        " 315 c"
       ]
      },
      {
       "output_type": "stream",
       "stream": "stdout",
       "text": [
        " d"
       ]
      },
      {
       "output_type": "stream",
       "stream": "stdout",
       "text": [
        " a g"
       ]
      },
      {
       "output_type": "stream",
       "stream": "stdout",
       "text": [
        " 316 c"
       ]
      },
      {
       "output_type": "stream",
       "stream": "stdout",
       "text": [
        " d"
       ]
      },
      {
       "output_type": "stream",
       "stream": "stdout",
       "text": [
        " a g"
       ]
      },
      {
       "output_type": "stream",
       "stream": "stdout",
       "text": [
        " 317 c"
       ]
      },
      {
       "output_type": "stream",
       "stream": "stdout",
       "text": [
        " d"
       ]
      },
      {
       "output_type": "stream",
       "stream": "stdout",
       "text": [
        " a g"
       ]
      },
      {
       "output_type": "stream",
       "stream": "stdout",
       "text": [
        " 318 c"
       ]
      },
      {
       "output_type": "stream",
       "stream": "stdout",
       "text": [
        " d"
       ]
      },
      {
       "output_type": "stream",
       "stream": "stdout",
       "text": [
        " a g"
       ]
      },
      {
       "output_type": "stream",
       "stream": "stdout",
       "text": [
        " 319 c"
       ]
      },
      {
       "output_type": "stream",
       "stream": "stdout",
       "text": [
        " d"
       ]
      },
      {
       "output_type": "stream",
       "stream": "stdout",
       "text": [
        " a g"
       ]
      },
      {
       "output_type": "stream",
       "stream": "stdout",
       "text": [
        " 320 c"
       ]
      },
      {
       "output_type": "stream",
       "stream": "stdout",
       "text": [
        " d"
       ]
      },
      {
       "output_type": "stream",
       "stream": "stdout",
       "text": [
        " a g"
       ]
      },
      {
       "output_type": "stream",
       "stream": "stdout",
       "text": [
        " 321 c"
       ]
      },
      {
       "output_type": "stream",
       "stream": "stdout",
       "text": [
        " d"
       ]
      },
      {
       "output_type": "stream",
       "stream": "stdout",
       "text": [
        " a g"
       ]
      },
      {
       "output_type": "stream",
       "stream": "stdout",
       "text": [
        " 322 c"
       ]
      },
      {
       "output_type": "stream",
       "stream": "stdout",
       "text": [
        " d"
       ]
      },
      {
       "output_type": "stream",
       "stream": "stdout",
       "text": [
        " a g"
       ]
      },
      {
       "output_type": "stream",
       "stream": "stdout",
       "text": [
        " 323 c"
       ]
      },
      {
       "output_type": "stream",
       "stream": "stdout",
       "text": [
        " d"
       ]
      },
      {
       "output_type": "stream",
       "stream": "stdout",
       "text": [
        " a g"
       ]
      },
      {
       "output_type": "stream",
       "stream": "stdout",
       "text": [
        " 324 c"
       ]
      },
      {
       "output_type": "stream",
       "stream": "stdout",
       "text": [
        " d"
       ]
      },
      {
       "output_type": "stream",
       "stream": "stdout",
       "text": [
        " a g"
       ]
      },
      {
       "output_type": "stream",
       "stream": "stdout",
       "text": [
        " 325 c"
       ]
      },
      {
       "output_type": "stream",
       "stream": "stdout",
       "text": [
        " d"
       ]
      },
      {
       "output_type": "stream",
       "stream": "stdout",
       "text": [
        " a g"
       ]
      },
      {
       "output_type": "stream",
       "stream": "stdout",
       "text": [
        " 326 c"
       ]
      },
      {
       "output_type": "stream",
       "stream": "stdout",
       "text": [
        " d"
       ]
      },
      {
       "output_type": "stream",
       "stream": "stdout",
       "text": [
        " a g"
       ]
      },
      {
       "output_type": "stream",
       "stream": "stdout",
       "text": [
        " 327 c"
       ]
      },
      {
       "output_type": "stream",
       "stream": "stdout",
       "text": [
        " d"
       ]
      },
      {
       "output_type": "stream",
       "stream": "stdout",
       "text": [
        " a g"
       ]
      },
      {
       "output_type": "stream",
       "stream": "stdout",
       "text": [
        " 328 c"
       ]
      },
      {
       "output_type": "stream",
       "stream": "stdout",
       "text": [
        " d"
       ]
      },
      {
       "output_type": "stream",
       "stream": "stdout",
       "text": [
        " a g"
       ]
      },
      {
       "output_type": "stream",
       "stream": "stdout",
       "text": [
        " 329 c"
       ]
      },
      {
       "output_type": "stream",
       "stream": "stdout",
       "text": [
        " d"
       ]
      },
      {
       "output_type": "stream",
       "stream": "stdout",
       "text": [
        " a g"
       ]
      },
      {
       "output_type": "stream",
       "stream": "stdout",
       "text": [
        " 330 c"
       ]
      },
      {
       "output_type": "stream",
       "stream": "stdout",
       "text": [
        " d"
       ]
      },
      {
       "output_type": "stream",
       "stream": "stdout",
       "text": [
        " a g"
       ]
      },
      {
       "output_type": "stream",
       "stream": "stdout",
       "text": [
        " 331 c"
       ]
      },
      {
       "output_type": "stream",
       "stream": "stdout",
       "text": [
        " d"
       ]
      },
      {
       "output_type": "stream",
       "stream": "stdout",
       "text": [
        " a g"
       ]
      },
      {
       "output_type": "stream",
       "stream": "stdout",
       "text": [
        " 332 c"
       ]
      },
      {
       "output_type": "stream",
       "stream": "stdout",
       "text": [
        " d"
       ]
      },
      {
       "output_type": "stream",
       "stream": "stdout",
       "text": [
        " a g"
       ]
      },
      {
       "output_type": "stream",
       "stream": "stdout",
       "text": [
        " 333 c"
       ]
      },
      {
       "output_type": "stream",
       "stream": "stdout",
       "text": [
        " d"
       ]
      },
      {
       "output_type": "stream",
       "stream": "stdout",
       "text": [
        " a g"
       ]
      },
      {
       "output_type": "stream",
       "stream": "stdout",
       "text": [
        " 334 c"
       ]
      },
      {
       "output_type": "stream",
       "stream": "stdout",
       "text": [
        " d"
       ]
      },
      {
       "output_type": "stream",
       "stream": "stdout",
       "text": [
        " a g"
       ]
      },
      {
       "output_type": "stream",
       "stream": "stdout",
       "text": [
        " 335 c"
       ]
      },
      {
       "output_type": "stream",
       "stream": "stdout",
       "text": [
        " d"
       ]
      },
      {
       "output_type": "stream",
       "stream": "stdout",
       "text": [
        " a g"
       ]
      },
      {
       "output_type": "stream",
       "stream": "stdout",
       "text": [
        " 336 c"
       ]
      },
      {
       "output_type": "stream",
       "stream": "stdout",
       "text": [
        " d"
       ]
      },
      {
       "output_type": "stream",
       "stream": "stdout",
       "text": [
        " a g"
       ]
      },
      {
       "output_type": "stream",
       "stream": "stdout",
       "text": [
        " 337 c"
       ]
      },
      {
       "output_type": "stream",
       "stream": "stdout",
       "text": [
        " d"
       ]
      },
      {
       "output_type": "stream",
       "stream": "stdout",
       "text": [
        " a g"
       ]
      },
      {
       "output_type": "stream",
       "stream": "stdout",
       "text": [
        " 338 c"
       ]
      },
      {
       "output_type": "stream",
       "stream": "stdout",
       "text": [
        " d"
       ]
      },
      {
       "output_type": "stream",
       "stream": "stdout",
       "text": [
        " a g"
       ]
      },
      {
       "output_type": "stream",
       "stream": "stdout",
       "text": [
        " 339 c"
       ]
      },
      {
       "output_type": "stream",
       "stream": "stdout",
       "text": [
        " d"
       ]
      },
      {
       "output_type": "stream",
       "stream": "stdout",
       "text": [
        " a g"
       ]
      },
      {
       "output_type": "stream",
       "stream": "stdout",
       "text": [
        " 340 c"
       ]
      },
      {
       "output_type": "stream",
       "stream": "stdout",
       "text": [
        " d"
       ]
      },
      {
       "output_type": "stream",
       "stream": "stdout",
       "text": [
        " a g"
       ]
      },
      {
       "output_type": "stream",
       "stream": "stdout",
       "text": [
        " 341 c"
       ]
      },
      {
       "output_type": "stream",
       "stream": "stdout",
       "text": [
        " d"
       ]
      },
      {
       "output_type": "stream",
       "stream": "stdout",
       "text": [
        " a g"
       ]
      },
      {
       "output_type": "stream",
       "stream": "stdout",
       "text": [
        " 342 c"
       ]
      },
      {
       "output_type": "stream",
       "stream": "stdout",
       "text": [
        " d"
       ]
      },
      {
       "output_type": "stream",
       "stream": "stdout",
       "text": [
        " a g"
       ]
      },
      {
       "output_type": "stream",
       "stream": "stdout",
       "text": [
        " 343 c"
       ]
      },
      {
       "output_type": "stream",
       "stream": "stdout",
       "text": [
        " d"
       ]
      },
      {
       "output_type": "stream",
       "stream": "stdout",
       "text": [
        " a g"
       ]
      },
      {
       "output_type": "stream",
       "stream": "stdout",
       "text": [
        " 344 c"
       ]
      },
      {
       "output_type": "stream",
       "stream": "stdout",
       "text": [
        " d"
       ]
      },
      {
       "output_type": "stream",
       "stream": "stdout",
       "text": [
        " a g"
       ]
      },
      {
       "output_type": "stream",
       "stream": "stdout",
       "text": [
        " 345 c"
       ]
      },
      {
       "output_type": "stream",
       "stream": "stdout",
       "text": [
        " d"
       ]
      },
      {
       "output_type": "stream",
       "stream": "stdout",
       "text": [
        " a g"
       ]
      },
      {
       "output_type": "stream",
       "stream": "stdout",
       "text": [
        " 346 c"
       ]
      },
      {
       "output_type": "stream",
       "stream": "stdout",
       "text": [
        " d"
       ]
      },
      {
       "output_type": "stream",
       "stream": "stdout",
       "text": [
        " a g"
       ]
      },
      {
       "output_type": "stream",
       "stream": "stdout",
       "text": [
        " 347 c"
       ]
      },
      {
       "output_type": "stream",
       "stream": "stdout",
       "text": [
        " d"
       ]
      },
      {
       "output_type": "stream",
       "stream": "stdout",
       "text": [
        " a g"
       ]
      },
      {
       "output_type": "stream",
       "stream": "stdout",
       "text": [
        " 348 c"
       ]
      },
      {
       "output_type": "stream",
       "stream": "stdout",
       "text": [
        " d"
       ]
      },
      {
       "output_type": "stream",
       "stream": "stdout",
       "text": [
        " a g"
       ]
      },
      {
       "output_type": "stream",
       "stream": "stdout",
       "text": [
        " 349 c"
       ]
      },
      {
       "output_type": "stream",
       "stream": "stdout",
       "text": [
        " d"
       ]
      },
      {
       "output_type": "stream",
       "stream": "stdout",
       "text": [
        " a g"
       ]
      },
      {
       "output_type": "stream",
       "stream": "stdout",
       "text": [
        " 350 c"
       ]
      },
      {
       "output_type": "stream",
       "stream": "stdout",
       "text": [
        " d"
       ]
      },
      {
       "output_type": "stream",
       "stream": "stdout",
       "text": [
        " a g"
       ]
      },
      {
       "output_type": "stream",
       "stream": "stdout",
       "text": [
        " 351 c"
       ]
      },
      {
       "output_type": "stream",
       "stream": "stdout",
       "text": [
        " d"
       ]
      },
      {
       "output_type": "stream",
       "stream": "stdout",
       "text": [
        " a g"
       ]
      },
      {
       "output_type": "stream",
       "stream": "stdout",
       "text": [
        " 352 c"
       ]
      },
      {
       "output_type": "stream",
       "stream": "stdout",
       "text": [
        " d"
       ]
      },
      {
       "output_type": "stream",
       "stream": "stdout",
       "text": [
        " a g"
       ]
      },
      {
       "output_type": "stream",
       "stream": "stdout",
       "text": [
        " 353 c"
       ]
      },
      {
       "output_type": "stream",
       "stream": "stdout",
       "text": [
        " d"
       ]
      },
      {
       "output_type": "stream",
       "stream": "stdout",
       "text": [
        " a g"
       ]
      },
      {
       "output_type": "stream",
       "stream": "stdout",
       "text": [
        " 354 c"
       ]
      },
      {
       "output_type": "stream",
       "stream": "stdout",
       "text": [
        " d"
       ]
      },
      {
       "output_type": "stream",
       "stream": "stdout",
       "text": [
        " a g"
       ]
      },
      {
       "output_type": "stream",
       "stream": "stdout",
       "text": [
        " 355 c"
       ]
      },
      {
       "output_type": "stream",
       "stream": "stdout",
       "text": [
        " d"
       ]
      },
      {
       "output_type": "stream",
       "stream": "stdout",
       "text": [
        " a g"
       ]
      },
      {
       "output_type": "stream",
       "stream": "stdout",
       "text": [
        " 356 c"
       ]
      },
      {
       "output_type": "stream",
       "stream": "stdout",
       "text": [
        " d"
       ]
      },
      {
       "output_type": "stream",
       "stream": "stdout",
       "text": [
        " a g"
       ]
      },
      {
       "output_type": "stream",
       "stream": "stdout",
       "text": [
        " 357 c"
       ]
      },
      {
       "output_type": "stream",
       "stream": "stdout",
       "text": [
        " d"
       ]
      },
      {
       "output_type": "stream",
       "stream": "stdout",
       "text": [
        " a g"
       ]
      },
      {
       "output_type": "stream",
       "stream": "stdout",
       "text": [
        " 358 c"
       ]
      },
      {
       "output_type": "stream",
       "stream": "stdout",
       "text": [
        " d"
       ]
      },
      {
       "output_type": "stream",
       "stream": "stdout",
       "text": [
        " a g"
       ]
      },
      {
       "output_type": "stream",
       "stream": "stdout",
       "text": [
        " 359 c"
       ]
      },
      {
       "output_type": "stream",
       "stream": "stdout",
       "text": [
        " d"
       ]
      },
      {
       "output_type": "stream",
       "stream": "stdout",
       "text": [
        " a g"
       ]
      },
      {
       "output_type": "stream",
       "stream": "stdout",
       "text": [
        " 360 c"
       ]
      },
      {
       "output_type": "stream",
       "stream": "stdout",
       "text": [
        " d"
       ]
      },
      {
       "output_type": "stream",
       "stream": "stdout",
       "text": [
        " a g"
       ]
      },
      {
       "output_type": "stream",
       "stream": "stdout",
       "text": [
        " 361 c"
       ]
      },
      {
       "output_type": "stream",
       "stream": "stdout",
       "text": [
        " d"
       ]
      },
      {
       "output_type": "stream",
       "stream": "stdout",
       "text": [
        " a g"
       ]
      },
      {
       "output_type": "stream",
       "stream": "stdout",
       "text": [
        " 362 c"
       ]
      },
      {
       "output_type": "stream",
       "stream": "stdout",
       "text": [
        " d"
       ]
      },
      {
       "output_type": "stream",
       "stream": "stdout",
       "text": [
        " a g"
       ]
      },
      {
       "output_type": "stream",
       "stream": "stdout",
       "text": [
        " 363 c"
       ]
      },
      {
       "output_type": "stream",
       "stream": "stdout",
       "text": [
        " d"
       ]
      },
      {
       "output_type": "stream",
       "stream": "stdout",
       "text": [
        " a g"
       ]
      },
      {
       "output_type": "stream",
       "stream": "stdout",
       "text": [
        " 364 c"
       ]
      },
      {
       "output_type": "stream",
       "stream": "stdout",
       "text": [
        " d"
       ]
      },
      {
       "output_type": "stream",
       "stream": "stdout",
       "text": [
        " a g"
       ]
      },
      {
       "output_type": "stream",
       "stream": "stdout",
       "text": [
        " 365 c"
       ]
      },
      {
       "output_type": "stream",
       "stream": "stdout",
       "text": [
        " d"
       ]
      },
      {
       "output_type": "stream",
       "stream": "stdout",
       "text": [
        " a g"
       ]
      },
      {
       "output_type": "stream",
       "stream": "stdout",
       "text": [
        " 366 c"
       ]
      },
      {
       "output_type": "stream",
       "stream": "stdout",
       "text": [
        " d"
       ]
      },
      {
       "output_type": "stream",
       "stream": "stdout",
       "text": [
        " a g"
       ]
      },
      {
       "output_type": "stream",
       "stream": "stdout",
       "text": [
        " 367 c"
       ]
      },
      {
       "output_type": "stream",
       "stream": "stdout",
       "text": [
        " d"
       ]
      },
      {
       "output_type": "stream",
       "stream": "stdout",
       "text": [
        " a g"
       ]
      },
      {
       "output_type": "stream",
       "stream": "stdout",
       "text": [
        " 368 c"
       ]
      },
      {
       "output_type": "stream",
       "stream": "stdout",
       "text": [
        " d"
       ]
      },
      {
       "output_type": "stream",
       "stream": "stdout",
       "text": [
        " a g"
       ]
      },
      {
       "output_type": "stream",
       "stream": "stdout",
       "text": [
        " 369 c"
       ]
      },
      {
       "output_type": "stream",
       "stream": "stdout",
       "text": [
        " d"
       ]
      },
      {
       "output_type": "stream",
       "stream": "stdout",
       "text": [
        " a g"
       ]
      },
      {
       "output_type": "stream",
       "stream": "stdout",
       "text": [
        " 370 c"
       ]
      },
      {
       "output_type": "stream",
       "stream": "stdout",
       "text": [
        " d"
       ]
      },
      {
       "output_type": "stream",
       "stream": "stdout",
       "text": [
        " a g"
       ]
      },
      {
       "output_type": "stream",
       "stream": "stdout",
       "text": [
        " 371 c"
       ]
      },
      {
       "output_type": "stream",
       "stream": "stdout",
       "text": [
        " d"
       ]
      },
      {
       "output_type": "stream",
       "stream": "stdout",
       "text": [
        " a g"
       ]
      },
      {
       "output_type": "stream",
       "stream": "stdout",
       "text": [
        " 372 c"
       ]
      },
      {
       "output_type": "stream",
       "stream": "stdout",
       "text": [
        " d"
       ]
      },
      {
       "output_type": "stream",
       "stream": "stdout",
       "text": [
        " a g"
       ]
      },
      {
       "output_type": "stream",
       "stream": "stdout",
       "text": [
        " 373 c"
       ]
      },
      {
       "output_type": "stream",
       "stream": "stdout",
       "text": [
        " d"
       ]
      },
      {
       "output_type": "stream",
       "stream": "stdout",
       "text": [
        " a g"
       ]
      },
      {
       "output_type": "stream",
       "stream": "stdout",
       "text": [
        " 374 c"
       ]
      },
      {
       "output_type": "stream",
       "stream": "stdout",
       "text": [
        " d"
       ]
      },
      {
       "output_type": "stream",
       "stream": "stdout",
       "text": [
        " a g"
       ]
      },
      {
       "output_type": "stream",
       "stream": "stdout",
       "text": [
        " 375 c"
       ]
      },
      {
       "output_type": "stream",
       "stream": "stdout",
       "text": [
        " d"
       ]
      },
      {
       "output_type": "stream",
       "stream": "stdout",
       "text": [
        " a g"
       ]
      },
      {
       "output_type": "stream",
       "stream": "stdout",
       "text": [
        " 376 c"
       ]
      },
      {
       "output_type": "stream",
       "stream": "stdout",
       "text": [
        " d"
       ]
      },
      {
       "output_type": "stream",
       "stream": "stdout",
       "text": [
        " a g"
       ]
      },
      {
       "output_type": "stream",
       "stream": "stdout",
       "text": [
        " 377 c"
       ]
      },
      {
       "output_type": "stream",
       "stream": "stdout",
       "text": [
        " d"
       ]
      },
      {
       "output_type": "stream",
       "stream": "stdout",
       "text": [
        " a g"
       ]
      },
      {
       "output_type": "stream",
       "stream": "stdout",
       "text": [
        " 378 c"
       ]
      },
      {
       "output_type": "stream",
       "stream": "stdout",
       "text": [
        " d"
       ]
      },
      {
       "output_type": "stream",
       "stream": "stdout",
       "text": [
        " a g"
       ]
      },
      {
       "output_type": "stream",
       "stream": "stdout",
       "text": [
        " 379 c"
       ]
      },
      {
       "output_type": "stream",
       "stream": "stdout",
       "text": [
        " d"
       ]
      },
      {
       "output_type": "stream",
       "stream": "stdout",
       "text": [
        " a g"
       ]
      },
      {
       "output_type": "stream",
       "stream": "stdout",
       "text": [
        " 380 c"
       ]
      },
      {
       "output_type": "stream",
       "stream": "stdout",
       "text": [
        " d"
       ]
      },
      {
       "output_type": "stream",
       "stream": "stdout",
       "text": [
        " a g"
       ]
      },
      {
       "output_type": "stream",
       "stream": "stdout",
       "text": [
        " 381 c"
       ]
      },
      {
       "output_type": "stream",
       "stream": "stdout",
       "text": [
        " d"
       ]
      },
      {
       "output_type": "stream",
       "stream": "stdout",
       "text": [
        " a g"
       ]
      },
      {
       "output_type": "stream",
       "stream": "stdout",
       "text": [
        " 382 c"
       ]
      },
      {
       "output_type": "stream",
       "stream": "stdout",
       "text": [
        " d"
       ]
      },
      {
       "output_type": "stream",
       "stream": "stdout",
       "text": [
        " a g"
       ]
      },
      {
       "output_type": "stream",
       "stream": "stdout",
       "text": [
        " 383 c"
       ]
      },
      {
       "output_type": "stream",
       "stream": "stdout",
       "text": [
        " d"
       ]
      },
      {
       "output_type": "stream",
       "stream": "stdout",
       "text": [
        " a g"
       ]
      },
      {
       "output_type": "stream",
       "stream": "stdout",
       "text": [
        " 384 c"
       ]
      },
      {
       "output_type": "stream",
       "stream": "stdout",
       "text": [
        " d"
       ]
      },
      {
       "output_type": "stream",
       "stream": "stdout",
       "text": [
        " a g"
       ]
      },
      {
       "output_type": "stream",
       "stream": "stdout",
       "text": [
        " 385 c"
       ]
      },
      {
       "output_type": "stream",
       "stream": "stdout",
       "text": [
        " d"
       ]
      },
      {
       "output_type": "stream",
       "stream": "stdout",
       "text": [
        " a g"
       ]
      },
      {
       "output_type": "stream",
       "stream": "stdout",
       "text": [
        " 386 c"
       ]
      },
      {
       "output_type": "stream",
       "stream": "stdout",
       "text": [
        " d"
       ]
      },
      {
       "output_type": "stream",
       "stream": "stdout",
       "text": [
        " a g"
       ]
      },
      {
       "output_type": "stream",
       "stream": "stdout",
       "text": [
        " 387 c"
       ]
      },
      {
       "output_type": "stream",
       "stream": "stdout",
       "text": [
        " d"
       ]
      },
      {
       "output_type": "stream",
       "stream": "stdout",
       "text": [
        " a g"
       ]
      },
      {
       "output_type": "stream",
       "stream": "stdout",
       "text": [
        " 388 c"
       ]
      },
      {
       "output_type": "stream",
       "stream": "stdout",
       "text": [
        " d"
       ]
      },
      {
       "output_type": "stream",
       "stream": "stdout",
       "text": [
        " a g"
       ]
      },
      {
       "output_type": "stream",
       "stream": "stdout",
       "text": [
        " 389 c"
       ]
      },
      {
       "output_type": "stream",
       "stream": "stdout",
       "text": [
        " d"
       ]
      },
      {
       "output_type": "stream",
       "stream": "stdout",
       "text": [
        " a g"
       ]
      },
      {
       "output_type": "stream",
       "stream": "stdout",
       "text": [
        " 390 c"
       ]
      },
      {
       "output_type": "stream",
       "stream": "stdout",
       "text": [
        " d"
       ]
      },
      {
       "output_type": "stream",
       "stream": "stdout",
       "text": [
        " a g"
       ]
      },
      {
       "output_type": "stream",
       "stream": "stdout",
       "text": [
        " 391 c"
       ]
      },
      {
       "output_type": "stream",
       "stream": "stdout",
       "text": [
        " d"
       ]
      },
      {
       "output_type": "stream",
       "stream": "stdout",
       "text": [
        " a g"
       ]
      },
      {
       "output_type": "stream",
       "stream": "stdout",
       "text": [
        " 392 c"
       ]
      },
      {
       "output_type": "stream",
       "stream": "stdout",
       "text": [
        " d"
       ]
      },
      {
       "output_type": "stream",
       "stream": "stdout",
       "text": [
        " a g"
       ]
      },
      {
       "output_type": "stream",
       "stream": "stdout",
       "text": [
        " 393 c"
       ]
      },
      {
       "output_type": "stream",
       "stream": "stdout",
       "text": [
        " d"
       ]
      },
      {
       "output_type": "stream",
       "stream": "stdout",
       "text": [
        " a g"
       ]
      },
      {
       "output_type": "stream",
       "stream": "stdout",
       "text": [
        " 394 c"
       ]
      },
      {
       "output_type": "stream",
       "stream": "stdout",
       "text": [
        " d"
       ]
      },
      {
       "output_type": "stream",
       "stream": "stdout",
       "text": [
        " a g"
       ]
      },
      {
       "output_type": "stream",
       "stream": "stdout",
       "text": [
        " 395 c"
       ]
      },
      {
       "output_type": "stream",
       "stream": "stdout",
       "text": [
        " d"
       ]
      },
      {
       "output_type": "stream",
       "stream": "stdout",
       "text": [
        " a g"
       ]
      },
      {
       "output_type": "stream",
       "stream": "stdout",
       "text": [
        " 396 c"
       ]
      },
      {
       "output_type": "stream",
       "stream": "stdout",
       "text": [
        " d"
       ]
      },
      {
       "output_type": "stream",
       "stream": "stdout",
       "text": [
        " a g"
       ]
      },
      {
       "output_type": "stream",
       "stream": "stdout",
       "text": [
        " 397 c"
       ]
      },
      {
       "output_type": "stream",
       "stream": "stdout",
       "text": [
        " d"
       ]
      },
      {
       "output_type": "stream",
       "stream": "stdout",
       "text": [
        " a g"
       ]
      },
      {
       "output_type": "stream",
       "stream": "stdout",
       "text": [
        " 398 c"
       ]
      },
      {
       "output_type": "stream",
       "stream": "stdout",
       "text": [
        " d"
       ]
      },
      {
       "output_type": "stream",
       "stream": "stdout",
       "text": [
        " a g"
       ]
      },
      {
       "output_type": "stream",
       "stream": "stdout",
       "text": [
        " 399 c"
       ]
      },
      {
       "output_type": "stream",
       "stream": "stdout",
       "text": [
        " d"
       ]
      },
      {
       "output_type": "stream",
       "stream": "stdout",
       "text": [
        " a g"
       ]
      },
      {
       "output_type": "stream",
       "stream": "stdout",
       "text": [
        " 400 c"
       ]
      },
      {
       "output_type": "stream",
       "stream": "stdout",
       "text": [
        " d"
       ]
      },
      {
       "output_type": "stream",
       "stream": "stdout",
       "text": [
        " a g"
       ]
      },
      {
       "output_type": "stream",
       "stream": "stdout",
       "text": [
        " 401 c"
       ]
      },
      {
       "output_type": "stream",
       "stream": "stdout",
       "text": [
        " d"
       ]
      },
      {
       "output_type": "stream",
       "stream": "stdout",
       "text": [
        " a g"
       ]
      },
      {
       "output_type": "stream",
       "stream": "stdout",
       "text": [
        " 402 c"
       ]
      },
      {
       "output_type": "stream",
       "stream": "stdout",
       "text": [
        " d"
       ]
      },
      {
       "output_type": "stream",
       "stream": "stdout",
       "text": [
        " a g"
       ]
      },
      {
       "output_type": "stream",
       "stream": "stdout",
       "text": [
        " 403 c"
       ]
      },
      {
       "output_type": "stream",
       "stream": "stdout",
       "text": [
        " d"
       ]
      },
      {
       "output_type": "stream",
       "stream": "stdout",
       "text": [
        " a g"
       ]
      },
      {
       "output_type": "stream",
       "stream": "stdout",
       "text": [
        " 404 c"
       ]
      },
      {
       "output_type": "stream",
       "stream": "stdout",
       "text": [
        " d"
       ]
      },
      {
       "output_type": "stream",
       "stream": "stdout",
       "text": [
        " a g"
       ]
      },
      {
       "output_type": "stream",
       "stream": "stdout",
       "text": [
        " 405 c"
       ]
      },
      {
       "output_type": "stream",
       "stream": "stdout",
       "text": [
        " d"
       ]
      },
      {
       "output_type": "stream",
       "stream": "stdout",
       "text": [
        " a g"
       ]
      },
      {
       "output_type": "stream",
       "stream": "stdout",
       "text": [
        " 406 c"
       ]
      },
      {
       "output_type": "stream",
       "stream": "stdout",
       "text": [
        " d"
       ]
      },
      {
       "output_type": "stream",
       "stream": "stdout",
       "text": [
        " a g"
       ]
      },
      {
       "output_type": "stream",
       "stream": "stdout",
       "text": [
        " 407 c"
       ]
      },
      {
       "output_type": "stream",
       "stream": "stdout",
       "text": [
        " d"
       ]
      },
      {
       "output_type": "stream",
       "stream": "stdout",
       "text": [
        " a g"
       ]
      },
      {
       "output_type": "stream",
       "stream": "stdout",
       "text": [
        " 408 c"
       ]
      },
      {
       "output_type": "stream",
       "stream": "stdout",
       "text": [
        " d"
       ]
      },
      {
       "output_type": "stream",
       "stream": "stdout",
       "text": [
        " a g"
       ]
      },
      {
       "output_type": "stream",
       "stream": "stdout",
       "text": [
        " 409 c"
       ]
      },
      {
       "output_type": "stream",
       "stream": "stdout",
       "text": [
        " d"
       ]
      },
      {
       "output_type": "stream",
       "stream": "stdout",
       "text": [
        " a g"
       ]
      },
      {
       "output_type": "stream",
       "stream": "stdout",
       "text": [
        " 410 c"
       ]
      },
      {
       "output_type": "stream",
       "stream": "stdout",
       "text": [
        " d"
       ]
      },
      {
       "output_type": "stream",
       "stream": "stdout",
       "text": [
        " a g"
       ]
      },
      {
       "output_type": "stream",
       "stream": "stdout",
       "text": [
        " 411 c"
       ]
      },
      {
       "output_type": "stream",
       "stream": "stdout",
       "text": [
        " d"
       ]
      },
      {
       "output_type": "stream",
       "stream": "stdout",
       "text": [
        " a g"
       ]
      },
      {
       "output_type": "stream",
       "stream": "stdout",
       "text": [
        " 412 c"
       ]
      },
      {
       "output_type": "stream",
       "stream": "stdout",
       "text": [
        " d"
       ]
      },
      {
       "output_type": "stream",
       "stream": "stdout",
       "text": [
        " a g"
       ]
      },
      {
       "output_type": "stream",
       "stream": "stdout",
       "text": [
        " 413 c"
       ]
      },
      {
       "output_type": "stream",
       "stream": "stdout",
       "text": [
        " d"
       ]
      },
      {
       "output_type": "stream",
       "stream": "stdout",
       "text": [
        " a g"
       ]
      },
      {
       "output_type": "stream",
       "stream": "stdout",
       "text": [
        " 414 c"
       ]
      },
      {
       "output_type": "stream",
       "stream": "stdout",
       "text": [
        " d"
       ]
      },
      {
       "output_type": "stream",
       "stream": "stdout",
       "text": [
        " a g"
       ]
      },
      {
       "output_type": "stream",
       "stream": "stdout",
       "text": [
        " 415 c"
       ]
      },
      {
       "output_type": "stream",
       "stream": "stdout",
       "text": [
        " d"
       ]
      },
      {
       "output_type": "stream",
       "stream": "stdout",
       "text": [
        " a g"
       ]
      },
      {
       "output_type": "stream",
       "stream": "stdout",
       "text": [
        " 416 c"
       ]
      },
      {
       "output_type": "stream",
       "stream": "stdout",
       "text": [
        " d"
       ]
      },
      {
       "output_type": "stream",
       "stream": "stdout",
       "text": [
        " a g"
       ]
      },
      {
       "output_type": "stream",
       "stream": "stdout",
       "text": [
        " 417 c"
       ]
      },
      {
       "output_type": "stream",
       "stream": "stdout",
       "text": [
        " d"
       ]
      },
      {
       "output_type": "stream",
       "stream": "stdout",
       "text": [
        " a g"
       ]
      },
      {
       "output_type": "stream",
       "stream": "stdout",
       "text": [
        " 418 c"
       ]
      },
      {
       "output_type": "stream",
       "stream": "stdout",
       "text": [
        " d"
       ]
      },
      {
       "output_type": "stream",
       "stream": "stdout",
       "text": [
        " a g"
       ]
      },
      {
       "output_type": "stream",
       "stream": "stdout",
       "text": [
        " 419 c"
       ]
      },
      {
       "output_type": "stream",
       "stream": "stdout",
       "text": [
        " d"
       ]
      },
      {
       "output_type": "stream",
       "stream": "stdout",
       "text": [
        " a g"
       ]
      },
      {
       "output_type": "stream",
       "stream": "stdout",
       "text": [
        " 420 c"
       ]
      },
      {
       "output_type": "stream",
       "stream": "stdout",
       "text": [
        " d"
       ]
      },
      {
       "output_type": "stream",
       "stream": "stdout",
       "text": [
        " a g"
       ]
      },
      {
       "output_type": "stream",
       "stream": "stdout",
       "text": [
        " 421 c"
       ]
      },
      {
       "output_type": "stream",
       "stream": "stdout",
       "text": [
        " d"
       ]
      },
      {
       "output_type": "stream",
       "stream": "stdout",
       "text": [
        " a g"
       ]
      },
      {
       "output_type": "stream",
       "stream": "stdout",
       "text": [
        " 422 c"
       ]
      },
      {
       "output_type": "stream",
       "stream": "stdout",
       "text": [
        " d"
       ]
      },
      {
       "output_type": "stream",
       "stream": "stdout",
       "text": [
        " a g"
       ]
      },
      {
       "output_type": "stream",
       "stream": "stdout",
       "text": [
        " 423 c"
       ]
      },
      {
       "output_type": "stream",
       "stream": "stdout",
       "text": [
        " d"
       ]
      },
      {
       "output_type": "stream",
       "stream": "stdout",
       "text": [
        " a g"
       ]
      },
      {
       "output_type": "stream",
       "stream": "stdout",
       "text": [
        " 424 c"
       ]
      },
      {
       "output_type": "stream",
       "stream": "stdout",
       "text": [
        " d"
       ]
      },
      {
       "output_type": "stream",
       "stream": "stdout",
       "text": [
        " a g"
       ]
      },
      {
       "output_type": "stream",
       "stream": "stdout",
       "text": [
        " 425 c"
       ]
      },
      {
       "output_type": "stream",
       "stream": "stdout",
       "text": [
        " d"
       ]
      },
      {
       "output_type": "stream",
       "stream": "stdout",
       "text": [
        " a g"
       ]
      },
      {
       "output_type": "stream",
       "stream": "stdout",
       "text": [
        " 426 c"
       ]
      },
      {
       "output_type": "stream",
       "stream": "stdout",
       "text": [
        " d"
       ]
      },
      {
       "output_type": "stream",
       "stream": "stdout",
       "text": [
        " a g"
       ]
      },
      {
       "output_type": "stream",
       "stream": "stdout",
       "text": [
        " 427 c"
       ]
      },
      {
       "output_type": "stream",
       "stream": "stdout",
       "text": [
        " d"
       ]
      },
      {
       "output_type": "stream",
       "stream": "stdout",
       "text": [
        " a g"
       ]
      },
      {
       "output_type": "stream",
       "stream": "stdout",
       "text": [
        " 428 c"
       ]
      },
      {
       "output_type": "stream",
       "stream": "stdout",
       "text": [
        " d"
       ]
      },
      {
       "output_type": "stream",
       "stream": "stdout",
       "text": [
        " a g"
       ]
      },
      {
       "output_type": "stream",
       "stream": "stdout",
       "text": [
        " 429 c"
       ]
      },
      {
       "output_type": "stream",
       "stream": "stdout",
       "text": [
        " d"
       ]
      },
      {
       "output_type": "stream",
       "stream": "stdout",
       "text": [
        " a g"
       ]
      },
      {
       "output_type": "stream",
       "stream": "stdout",
       "text": [
        " 430 c"
       ]
      },
      {
       "output_type": "stream",
       "stream": "stdout",
       "text": [
        " d"
       ]
      },
      {
       "output_type": "stream",
       "stream": "stdout",
       "text": [
        " a g"
       ]
      },
      {
       "output_type": "stream",
       "stream": "stdout",
       "text": [
        " 431 c"
       ]
      },
      {
       "output_type": "stream",
       "stream": "stdout",
       "text": [
        " d"
       ]
      },
      {
       "output_type": "stream",
       "stream": "stdout",
       "text": [
        " a g"
       ]
      },
      {
       "output_type": "stream",
       "stream": "stdout",
       "text": [
        " 432 c"
       ]
      },
      {
       "output_type": "stream",
       "stream": "stdout",
       "text": [
        " d"
       ]
      },
      {
       "output_type": "stream",
       "stream": "stdout",
       "text": [
        " a g"
       ]
      },
      {
       "output_type": "stream",
       "stream": "stdout",
       "text": [
        " 433 c"
       ]
      },
      {
       "output_type": "stream",
       "stream": "stdout",
       "text": [
        " d"
       ]
      },
      {
       "output_type": "stream",
       "stream": "stdout",
       "text": [
        " a g"
       ]
      },
      {
       "output_type": "stream",
       "stream": "stdout",
       "text": [
        " 434 c"
       ]
      },
      {
       "output_type": "stream",
       "stream": "stdout",
       "text": [
        " d"
       ]
      },
      {
       "output_type": "stream",
       "stream": "stdout",
       "text": [
        " a g"
       ]
      },
      {
       "output_type": "stream",
       "stream": "stdout",
       "text": [
        " 435 c"
       ]
      },
      {
       "output_type": "stream",
       "stream": "stdout",
       "text": [
        " d"
       ]
      },
      {
       "output_type": "stream",
       "stream": "stdout",
       "text": [
        " a g"
       ]
      },
      {
       "output_type": "stream",
       "stream": "stdout",
       "text": [
        " 436 c"
       ]
      },
      {
       "output_type": "stream",
       "stream": "stdout",
       "text": [
        " d"
       ]
      },
      {
       "output_type": "stream",
       "stream": "stdout",
       "text": [
        " a g"
       ]
      },
      {
       "output_type": "stream",
       "stream": "stdout",
       "text": [
        " 437 c"
       ]
      },
      {
       "output_type": "stream",
       "stream": "stdout",
       "text": [
        " d"
       ]
      },
      {
       "output_type": "stream",
       "stream": "stdout",
       "text": [
        " a g"
       ]
      },
      {
       "output_type": "stream",
       "stream": "stdout",
       "text": [
        " 438 c"
       ]
      },
      {
       "output_type": "stream",
       "stream": "stdout",
       "text": [
        " d"
       ]
      },
      {
       "output_type": "stream",
       "stream": "stdout",
       "text": [
        " a g"
       ]
      },
      {
       "output_type": "stream",
       "stream": "stdout",
       "text": [
        " 439 c"
       ]
      },
      {
       "output_type": "stream",
       "stream": "stdout",
       "text": [
        " d"
       ]
      },
      {
       "output_type": "stream",
       "stream": "stdout",
       "text": [
        " a g"
       ]
      },
      {
       "output_type": "stream",
       "stream": "stdout",
       "text": [
        " 440 c"
       ]
      },
      {
       "output_type": "stream",
       "stream": "stdout",
       "text": [
        " d"
       ]
      },
      {
       "output_type": "stream",
       "stream": "stdout",
       "text": [
        " a g"
       ]
      },
      {
       "output_type": "stream",
       "stream": "stdout",
       "text": [
        " 441 c"
       ]
      },
      {
       "output_type": "stream",
       "stream": "stdout",
       "text": [
        " d"
       ]
      },
      {
       "output_type": "stream",
       "stream": "stdout",
       "text": [
        " a g"
       ]
      },
      {
       "output_type": "stream",
       "stream": "stdout",
       "text": [
        " 442 c"
       ]
      },
      {
       "output_type": "stream",
       "stream": "stdout",
       "text": [
        " d"
       ]
      },
      {
       "output_type": "stream",
       "stream": "stdout",
       "text": [
        " a g"
       ]
      },
      {
       "output_type": "stream",
       "stream": "stdout",
       "text": [
        " 443 c"
       ]
      },
      {
       "output_type": "stream",
       "stream": "stdout",
       "text": [
        " d"
       ]
      },
      {
       "output_type": "stream",
       "stream": "stdout",
       "text": [
        " a g"
       ]
      },
      {
       "output_type": "stream",
       "stream": "stdout",
       "text": [
        " 444 c"
       ]
      },
      {
       "output_type": "stream",
       "stream": "stdout",
       "text": [
        " d"
       ]
      },
      {
       "output_type": "stream",
       "stream": "stdout",
       "text": [
        " a g"
       ]
      },
      {
       "output_type": "stream",
       "stream": "stdout",
       "text": [
        " 445 c"
       ]
      },
      {
       "output_type": "stream",
       "stream": "stdout",
       "text": [
        " d"
       ]
      },
      {
       "output_type": "stream",
       "stream": "stdout",
       "text": [
        " a g"
       ]
      },
      {
       "output_type": "stream",
       "stream": "stdout",
       "text": [
        " 446 c"
       ]
      },
      {
       "output_type": "stream",
       "stream": "stdout",
       "text": [
        " d"
       ]
      },
      {
       "output_type": "stream",
       "stream": "stdout",
       "text": [
        " a g"
       ]
      },
      {
       "output_type": "stream",
       "stream": "stdout",
       "text": [
        " 447 c"
       ]
      },
      {
       "output_type": "stream",
       "stream": "stdout",
       "text": [
        " d"
       ]
      },
      {
       "output_type": "stream",
       "stream": "stdout",
       "text": [
        " a g"
       ]
      },
      {
       "output_type": "stream",
       "stream": "stdout",
       "text": [
        " 448 c"
       ]
      },
      {
       "output_type": "stream",
       "stream": "stdout",
       "text": [
        " d"
       ]
      },
      {
       "output_type": "stream",
       "stream": "stdout",
       "text": [
        " a g"
       ]
      },
      {
       "output_type": "stream",
       "stream": "stdout",
       "text": [
        " 449 c"
       ]
      },
      {
       "output_type": "stream",
       "stream": "stdout",
       "text": [
        " d"
       ]
      },
      {
       "output_type": "stream",
       "stream": "stdout",
       "text": [
        " a g"
       ]
      },
      {
       "output_type": "stream",
       "stream": "stdout",
       "text": [
        " 450 c"
       ]
      },
      {
       "output_type": "stream",
       "stream": "stdout",
       "text": [
        " d"
       ]
      },
      {
       "output_type": "stream",
       "stream": "stdout",
       "text": [
        " a g"
       ]
      },
      {
       "output_type": "stream",
       "stream": "stdout",
       "text": [
        " 451 c"
       ]
      },
      {
       "output_type": "stream",
       "stream": "stdout",
       "text": [
        " d"
       ]
      },
      {
       "output_type": "stream",
       "stream": "stdout",
       "text": [
        " a g"
       ]
      },
      {
       "output_type": "stream",
       "stream": "stdout",
       "text": [
        " 452 c"
       ]
      },
      {
       "output_type": "stream",
       "stream": "stdout",
       "text": [
        " d"
       ]
      },
      {
       "output_type": "stream",
       "stream": "stdout",
       "text": [
        " a g"
       ]
      },
      {
       "output_type": "stream",
       "stream": "stdout",
       "text": [
        " 453 c"
       ]
      },
      {
       "output_type": "stream",
       "stream": "stdout",
       "text": [
        " d"
       ]
      },
      {
       "output_type": "stream",
       "stream": "stdout",
       "text": [
        " a g"
       ]
      },
      {
       "output_type": "stream",
       "stream": "stdout",
       "text": [
        " 454 c"
       ]
      },
      {
       "output_type": "stream",
       "stream": "stdout",
       "text": [
        " d"
       ]
      },
      {
       "output_type": "stream",
       "stream": "stdout",
       "text": [
        " a g"
       ]
      },
      {
       "output_type": "stream",
       "stream": "stdout",
       "text": [
        " 455 c"
       ]
      },
      {
       "output_type": "stream",
       "stream": "stdout",
       "text": [
        " d"
       ]
      },
      {
       "output_type": "stream",
       "stream": "stdout",
       "text": [
        " a g"
       ]
      },
      {
       "output_type": "stream",
       "stream": "stdout",
       "text": [
        " 456 c"
       ]
      },
      {
       "output_type": "stream",
       "stream": "stdout",
       "text": [
        " d"
       ]
      },
      {
       "output_type": "stream",
       "stream": "stdout",
       "text": [
        " a g"
       ]
      },
      {
       "output_type": "stream",
       "stream": "stdout",
       "text": [
        " 457 c"
       ]
      },
      {
       "output_type": "stream",
       "stream": "stdout",
       "text": [
        " d"
       ]
      },
      {
       "output_type": "stream",
       "stream": "stdout",
       "text": [
        " a g"
       ]
      },
      {
       "output_type": "stream",
       "stream": "stdout",
       "text": [
        " 458 c"
       ]
      },
      {
       "output_type": "stream",
       "stream": "stdout",
       "text": [
        " d"
       ]
      },
      {
       "output_type": "stream",
       "stream": "stdout",
       "text": [
        " a g"
       ]
      },
      {
       "output_type": "stream",
       "stream": "stdout",
       "text": [
        " 459 c"
       ]
      },
      {
       "output_type": "stream",
       "stream": "stdout",
       "text": [
        " d"
       ]
      },
      {
       "output_type": "stream",
       "stream": "stdout",
       "text": [
        " a g"
       ]
      },
      {
       "output_type": "stream",
       "stream": "stdout",
       "text": [
        " 460 c"
       ]
      },
      {
       "output_type": "stream",
       "stream": "stdout",
       "text": [
        " d"
       ]
      },
      {
       "output_type": "stream",
       "stream": "stdout",
       "text": [
        " a g"
       ]
      },
      {
       "output_type": "stream",
       "stream": "stdout",
       "text": [
        " 461 c"
       ]
      },
      {
       "output_type": "stream",
       "stream": "stdout",
       "text": [
        " d"
       ]
      },
      {
       "output_type": "stream",
       "stream": "stdout",
       "text": [
        " a g"
       ]
      },
      {
       "output_type": "stream",
       "stream": "stdout",
       "text": [
        " 462 c"
       ]
      },
      {
       "output_type": "stream",
       "stream": "stdout",
       "text": [
        " d"
       ]
      },
      {
       "output_type": "stream",
       "stream": "stdout",
       "text": [
        " a g"
       ]
      },
      {
       "output_type": "stream",
       "stream": "stdout",
       "text": [
        " 463 c"
       ]
      },
      {
       "output_type": "stream",
       "stream": "stdout",
       "text": [
        " d"
       ]
      },
      {
       "output_type": "stream",
       "stream": "stdout",
       "text": [
        " a g"
       ]
      },
      {
       "output_type": "stream",
       "stream": "stdout",
       "text": [
        " 464 c"
       ]
      },
      {
       "output_type": "stream",
       "stream": "stdout",
       "text": [
        " d"
       ]
      },
      {
       "output_type": "stream",
       "stream": "stdout",
       "text": [
        " a g"
       ]
      },
      {
       "output_type": "stream",
       "stream": "stdout",
       "text": [
        " 465 c"
       ]
      },
      {
       "output_type": "stream",
       "stream": "stdout",
       "text": [
        " d"
       ]
      },
      {
       "output_type": "stream",
       "stream": "stdout",
       "text": [
        " a g"
       ]
      },
      {
       "output_type": "stream",
       "stream": "stdout",
       "text": [
        " 466 c"
       ]
      },
      {
       "output_type": "stream",
       "stream": "stdout",
       "text": [
        " d"
       ]
      },
      {
       "output_type": "stream",
       "stream": "stdout",
       "text": [
        " a g"
       ]
      },
      {
       "output_type": "stream",
       "stream": "stdout",
       "text": [
        " 467 c"
       ]
      },
      {
       "output_type": "stream",
       "stream": "stdout",
       "text": [
        " d"
       ]
      },
      {
       "output_type": "stream",
       "stream": "stdout",
       "text": [
        " a g"
       ]
      },
      {
       "output_type": "stream",
       "stream": "stdout",
       "text": [
        " 468 c"
       ]
      },
      {
       "output_type": "stream",
       "stream": "stdout",
       "text": [
        " d"
       ]
      },
      {
       "output_type": "stream",
       "stream": "stdout",
       "text": [
        " a g"
       ]
      },
      {
       "output_type": "stream",
       "stream": "stdout",
       "text": [
        " 469 c"
       ]
      },
      {
       "output_type": "stream",
       "stream": "stdout",
       "text": [
        " d"
       ]
      },
      {
       "output_type": "stream",
       "stream": "stdout",
       "text": [
        " a g"
       ]
      },
      {
       "output_type": "stream",
       "stream": "stdout",
       "text": [
        " 470 c"
       ]
      },
      {
       "output_type": "stream",
       "stream": "stdout",
       "text": [
        " d"
       ]
      },
      {
       "output_type": "stream",
       "stream": "stdout",
       "text": [
        " a g"
       ]
      },
      {
       "output_type": "stream",
       "stream": "stdout",
       "text": [
        " 471 c"
       ]
      },
      {
       "output_type": "stream",
       "stream": "stdout",
       "text": [
        " d"
       ]
      },
      {
       "output_type": "stream",
       "stream": "stdout",
       "text": [
        " a g"
       ]
      },
      {
       "output_type": "stream",
       "stream": "stdout",
       "text": [
        " 472 c"
       ]
      },
      {
       "output_type": "stream",
       "stream": "stdout",
       "text": [
        " d"
       ]
      },
      {
       "output_type": "stream",
       "stream": "stdout",
       "text": [
        " a g"
       ]
      },
      {
       "output_type": "stream",
       "stream": "stdout",
       "text": [
        " 473 c"
       ]
      },
      {
       "output_type": "stream",
       "stream": "stdout",
       "text": [
        " d"
       ]
      },
      {
       "output_type": "stream",
       "stream": "stdout",
       "text": [
        " a g"
       ]
      },
      {
       "output_type": "stream",
       "stream": "stdout",
       "text": [
        " 474 c"
       ]
      },
      {
       "output_type": "stream",
       "stream": "stdout",
       "text": [
        " d"
       ]
      },
      {
       "output_type": "stream",
       "stream": "stdout",
       "text": [
        " a g"
       ]
      },
      {
       "output_type": "stream",
       "stream": "stdout",
       "text": [
        " 475 c"
       ]
      },
      {
       "output_type": "stream",
       "stream": "stdout",
       "text": [
        " d"
       ]
      },
      {
       "output_type": "stream",
       "stream": "stdout",
       "text": [
        " a g"
       ]
      },
      {
       "output_type": "stream",
       "stream": "stdout",
       "text": [
        " 476 c"
       ]
      },
      {
       "output_type": "stream",
       "stream": "stdout",
       "text": [
        " d"
       ]
      },
      {
       "output_type": "stream",
       "stream": "stdout",
       "text": [
        " a g"
       ]
      },
      {
       "output_type": "stream",
       "stream": "stdout",
       "text": [
        " 477 c"
       ]
      },
      {
       "output_type": "stream",
       "stream": "stdout",
       "text": [
        " d"
       ]
      },
      {
       "output_type": "stream",
       "stream": "stdout",
       "text": [
        " a g"
       ]
      },
      {
       "output_type": "stream",
       "stream": "stdout",
       "text": [
        " 478 c"
       ]
      },
      {
       "output_type": "stream",
       "stream": "stdout",
       "text": [
        " d"
       ]
      },
      {
       "output_type": "stream",
       "stream": "stdout",
       "text": [
        " a g"
       ]
      },
      {
       "output_type": "stream",
       "stream": "stdout",
       "text": [
        " 479 c"
       ]
      },
      {
       "output_type": "stream",
       "stream": "stdout",
       "text": [
        " d"
       ]
      },
      {
       "output_type": "stream",
       "stream": "stdout",
       "text": [
        " a g"
       ]
      },
      {
       "output_type": "stream",
       "stream": "stdout",
       "text": [
        " 480 c"
       ]
      },
      {
       "output_type": "stream",
       "stream": "stdout",
       "text": [
        " d"
       ]
      },
      {
       "output_type": "stream",
       "stream": "stdout",
       "text": [
        " a g"
       ]
      },
      {
       "output_type": "stream",
       "stream": "stdout",
       "text": [
        " 481 c"
       ]
      },
      {
       "output_type": "stream",
       "stream": "stdout",
       "text": [
        " d"
       ]
      },
      {
       "output_type": "stream",
       "stream": "stdout",
       "text": [
        " a g"
       ]
      },
      {
       "output_type": "stream",
       "stream": "stdout",
       "text": [
        " 482 c"
       ]
      },
      {
       "output_type": "stream",
       "stream": "stdout",
       "text": [
        " d"
       ]
      },
      {
       "output_type": "stream",
       "stream": "stdout",
       "text": [
        " a g"
       ]
      },
      {
       "output_type": "stream",
       "stream": "stdout",
       "text": [
        " 483 c"
       ]
      },
      {
       "output_type": "stream",
       "stream": "stdout",
       "text": [
        " d"
       ]
      },
      {
       "output_type": "stream",
       "stream": "stdout",
       "text": [
        " a g"
       ]
      },
      {
       "output_type": "stream",
       "stream": "stdout",
       "text": [
        " 484 c"
       ]
      },
      {
       "output_type": "stream",
       "stream": "stdout",
       "text": [
        " d"
       ]
      },
      {
       "output_type": "stream",
       "stream": "stdout",
       "text": [
        " a g"
       ]
      },
      {
       "output_type": "stream",
       "stream": "stdout",
       "text": [
        " 485 c"
       ]
      },
      {
       "output_type": "stream",
       "stream": "stdout",
       "text": [
        " d"
       ]
      },
      {
       "output_type": "stream",
       "stream": "stdout",
       "text": [
        " a g"
       ]
      },
      {
       "output_type": "stream",
       "stream": "stdout",
       "text": [
        " 486 c"
       ]
      },
      {
       "output_type": "stream",
       "stream": "stdout",
       "text": [
        " d"
       ]
      },
      {
       "output_type": "stream",
       "stream": "stdout",
       "text": [
        " a g"
       ]
      },
      {
       "output_type": "stream",
       "stream": "stdout",
       "text": [
        " 487 c"
       ]
      },
      {
       "output_type": "stream",
       "stream": "stdout",
       "text": [
        " d"
       ]
      },
      {
       "output_type": "stream",
       "stream": "stdout",
       "text": [
        " a g"
       ]
      },
      {
       "output_type": "stream",
       "stream": "stdout",
       "text": [
        " 488 c"
       ]
      },
      {
       "output_type": "stream",
       "stream": "stdout",
       "text": [
        " d"
       ]
      },
      {
       "output_type": "stream",
       "stream": "stdout",
       "text": [
        " a g"
       ]
      },
      {
       "output_type": "stream",
       "stream": "stdout",
       "text": [
        " 489 c"
       ]
      },
      {
       "output_type": "stream",
       "stream": "stdout",
       "text": [
        " d"
       ]
      },
      {
       "output_type": "stream",
       "stream": "stdout",
       "text": [
        " a g"
       ]
      },
      {
       "output_type": "stream",
       "stream": "stdout",
       "text": [
        " 490 c"
       ]
      },
      {
       "output_type": "stream",
       "stream": "stdout",
       "text": [
        " d"
       ]
      },
      {
       "output_type": "stream",
       "stream": "stdout",
       "text": [
        " a g"
       ]
      },
      {
       "output_type": "stream",
       "stream": "stdout",
       "text": [
        " 491 c"
       ]
      },
      {
       "output_type": "stream",
       "stream": "stdout",
       "text": [
        " d"
       ]
      },
      {
       "output_type": "stream",
       "stream": "stdout",
       "text": [
        " a g"
       ]
      },
      {
       "output_type": "stream",
       "stream": "stdout",
       "text": [
        " 492 c"
       ]
      },
      {
       "output_type": "stream",
       "stream": "stdout",
       "text": [
        " d"
       ]
      },
      {
       "output_type": "stream",
       "stream": "stdout",
       "text": [
        " a g"
       ]
      },
      {
       "output_type": "stream",
       "stream": "stdout",
       "text": [
        " 493 c"
       ]
      },
      {
       "output_type": "stream",
       "stream": "stdout",
       "text": [
        " d"
       ]
      },
      {
       "output_type": "stream",
       "stream": "stdout",
       "text": [
        " a g"
       ]
      },
      {
       "output_type": "stream",
       "stream": "stdout",
       "text": [
        " 494 c"
       ]
      },
      {
       "output_type": "stream",
       "stream": "stdout",
       "text": [
        " d"
       ]
      },
      {
       "output_type": "stream",
       "stream": "stdout",
       "text": [
        " a g"
       ]
      },
      {
       "output_type": "stream",
       "stream": "stdout",
       "text": [
        " 495 c"
       ]
      },
      {
       "output_type": "stream",
       "stream": "stdout",
       "text": [
        " d"
       ]
      },
      {
       "output_type": "stream",
       "stream": "stdout",
       "text": [
        " a g"
       ]
      },
      {
       "output_type": "stream",
       "stream": "stdout",
       "text": [
        " 496 c"
       ]
      },
      {
       "output_type": "stream",
       "stream": "stdout",
       "text": [
        " d"
       ]
      },
      {
       "output_type": "stream",
       "stream": "stdout",
       "text": [
        " a g"
       ]
      },
      {
       "output_type": "stream",
       "stream": "stdout",
       "text": [
        " 497 c"
       ]
      },
      {
       "output_type": "stream",
       "stream": "stdout",
       "text": [
        " d"
       ]
      },
      {
       "output_type": "stream",
       "stream": "stdout",
       "text": [
        " a g"
       ]
      },
      {
       "output_type": "stream",
       "stream": "stdout",
       "text": [
        " 498 c"
       ]
      },
      {
       "output_type": "stream",
       "stream": "stdout",
       "text": [
        " d"
       ]
      },
      {
       "output_type": "stream",
       "stream": "stdout",
       "text": [
        " a g"
       ]
      },
      {
       "output_type": "stream",
       "stream": "stdout",
       "text": [
        " 499 c"
       ]
      },
      {
       "output_type": "stream",
       "stream": "stdout",
       "text": [
        " d"
       ]
      },
      {
       "output_type": "stream",
       "stream": "stdout",
       "text": [
        " a g"
       ]
      },
      {
       "output_type": "stream",
       "stream": "stdout",
       "text": [
        " 500 c"
       ]
      },
      {
       "output_type": "stream",
       "stream": "stdout",
       "text": [
        " d"
       ]
      },
      {
       "output_type": "stream",
       "stream": "stdout",
       "text": [
        " a g"
       ]
      },
      {
       "output_type": "stream",
       "stream": "stdout",
       "text": [
        " 501 c"
       ]
      },
      {
       "output_type": "stream",
       "stream": "stdout",
       "text": [
        " d"
       ]
      },
      {
       "output_type": "stream",
       "stream": "stdout",
       "text": [
        " a g"
       ]
      },
      {
       "output_type": "stream",
       "stream": "stdout",
       "text": [
        " 502 c"
       ]
      },
      {
       "output_type": "stream",
       "stream": "stdout",
       "text": [
        " d"
       ]
      },
      {
       "output_type": "stream",
       "stream": "stdout",
       "text": [
        " a g"
       ]
      },
      {
       "output_type": "stream",
       "stream": "stdout",
       "text": [
        " 503 c"
       ]
      },
      {
       "output_type": "stream",
       "stream": "stdout",
       "text": [
        " d"
       ]
      },
      {
       "output_type": "stream",
       "stream": "stdout",
       "text": [
        " a g"
       ]
      },
      {
       "output_type": "stream",
       "stream": "stdout",
       "text": [
        " 504 c"
       ]
      },
      {
       "output_type": "stream",
       "stream": "stdout",
       "text": [
        " d"
       ]
      },
      {
       "output_type": "stream",
       "stream": "stdout",
       "text": [
        " a g"
       ]
      },
      {
       "output_type": "stream",
       "stream": "stdout",
       "text": [
        " 505 c"
       ]
      },
      {
       "output_type": "stream",
       "stream": "stdout",
       "text": [
        " d"
       ]
      },
      {
       "output_type": "stream",
       "stream": "stdout",
       "text": [
        " a g"
       ]
      },
      {
       "output_type": "stream",
       "stream": "stdout",
       "text": [
        " 506 c"
       ]
      },
      {
       "output_type": "stream",
       "stream": "stdout",
       "text": [
        " d"
       ]
      },
      {
       "output_type": "stream",
       "stream": "stdout",
       "text": [
        " a g"
       ]
      },
      {
       "output_type": "stream",
       "stream": "stdout",
       "text": [
        " 507 c"
       ]
      },
      {
       "output_type": "stream",
       "stream": "stdout",
       "text": [
        " d"
       ]
      },
      {
       "output_type": "stream",
       "stream": "stdout",
       "text": [
        " a g"
       ]
      },
      {
       "output_type": "stream",
       "stream": "stdout",
       "text": [
        " 508 c"
       ]
      },
      {
       "output_type": "stream",
       "stream": "stdout",
       "text": [
        " d"
       ]
      },
      {
       "output_type": "stream",
       "stream": "stdout",
       "text": [
        " a g"
       ]
      },
      {
       "output_type": "stream",
       "stream": "stdout",
       "text": [
        " 509 c"
       ]
      },
      {
       "output_type": "stream",
       "stream": "stdout",
       "text": [
        " d"
       ]
      },
      {
       "output_type": "stream",
       "stream": "stdout",
       "text": [
        " a g"
       ]
      },
      {
       "output_type": "stream",
       "stream": "stdout",
       "text": [
        " 510 c"
       ]
      },
      {
       "output_type": "stream",
       "stream": "stdout",
       "text": [
        " d"
       ]
      },
      {
       "output_type": "stream",
       "stream": "stdout",
       "text": [
        " a g"
       ]
      },
      {
       "output_type": "stream",
       "stream": "stdout",
       "text": [
        " 511 c"
       ]
      },
      {
       "output_type": "stream",
       "stream": "stdout",
       "text": [
        " d"
       ]
      },
      {
       "output_type": "stream",
       "stream": "stdout",
       "text": [
        " a g"
       ]
      },
      {
       "output_type": "stream",
       "stream": "stdout",
       "text": [
        " 512 c"
       ]
      },
      {
       "output_type": "stream",
       "stream": "stdout",
       "text": [
        " d"
       ]
      },
      {
       "output_type": "stream",
       "stream": "stdout",
       "text": [
        " a g"
       ]
      },
      {
       "output_type": "stream",
       "stream": "stdout",
       "text": [
        " 513 c"
       ]
      },
      {
       "output_type": "stream",
       "stream": "stdout",
       "text": [
        " d"
       ]
      },
      {
       "output_type": "stream",
       "stream": "stdout",
       "text": [
        " a g"
       ]
      },
      {
       "output_type": "stream",
       "stream": "stdout",
       "text": [
        " 514 c"
       ]
      },
      {
       "output_type": "stream",
       "stream": "stdout",
       "text": [
        " d"
       ]
      },
      {
       "output_type": "stream",
       "stream": "stdout",
       "text": [
        " a g"
       ]
      },
      {
       "output_type": "stream",
       "stream": "stdout",
       "text": [
        " 515 c"
       ]
      },
      {
       "output_type": "stream",
       "stream": "stdout",
       "text": [
        " d"
       ]
      },
      {
       "output_type": "stream",
       "stream": "stdout",
       "text": [
        " a g"
       ]
      },
      {
       "output_type": "stream",
       "stream": "stdout",
       "text": [
        " 516 c"
       ]
      },
      {
       "output_type": "stream",
       "stream": "stdout",
       "text": [
        " d"
       ]
      },
      {
       "output_type": "stream",
       "stream": "stdout",
       "text": [
        " a g"
       ]
      },
      {
       "output_type": "stream",
       "stream": "stdout",
       "text": [
        " 517 c"
       ]
      },
      {
       "output_type": "stream",
       "stream": "stdout",
       "text": [
        " d"
       ]
      },
      {
       "output_type": "stream",
       "stream": "stdout",
       "text": [
        " a g"
       ]
      },
      {
       "output_type": "stream",
       "stream": "stdout",
       "text": [
        " 518 c"
       ]
      },
      {
       "output_type": "stream",
       "stream": "stdout",
       "text": [
        " d"
       ]
      },
      {
       "output_type": "stream",
       "stream": "stdout",
       "text": [
        " a g"
       ]
      },
      {
       "output_type": "stream",
       "stream": "stdout",
       "text": [
        " 519 c"
       ]
      },
      {
       "output_type": "stream",
       "stream": "stdout",
       "text": [
        " d"
       ]
      },
      {
       "output_type": "stream",
       "stream": "stdout",
       "text": [
        " a g"
       ]
      },
      {
       "output_type": "stream",
       "stream": "stdout",
       "text": [
        " 520 c"
       ]
      },
      {
       "output_type": "stream",
       "stream": "stdout",
       "text": [
        " d"
       ]
      },
      {
       "output_type": "stream",
       "stream": "stdout",
       "text": [
        " a g"
       ]
      },
      {
       "output_type": "stream",
       "stream": "stdout",
       "text": [
        " 521 c"
       ]
      },
      {
       "output_type": "stream",
       "stream": "stdout",
       "text": [
        " d"
       ]
      },
      {
       "output_type": "stream",
       "stream": "stdout",
       "text": [
        " a g"
       ]
      },
      {
       "output_type": "stream",
       "stream": "stdout",
       "text": [
        " 522 c"
       ]
      },
      {
       "output_type": "stream",
       "stream": "stdout",
       "text": [
        " d"
       ]
      },
      {
       "output_type": "stream",
       "stream": "stdout",
       "text": [
        " a g"
       ]
      },
      {
       "output_type": "stream",
       "stream": "stdout",
       "text": [
        " 523 c"
       ]
      },
      {
       "output_type": "stream",
       "stream": "stdout",
       "text": [
        " d"
       ]
      },
      {
       "output_type": "stream",
       "stream": "stdout",
       "text": [
        " a g"
       ]
      },
      {
       "output_type": "stream",
       "stream": "stdout",
       "text": [
        " 524 c"
       ]
      },
      {
       "output_type": "stream",
       "stream": "stdout",
       "text": [
        " d"
       ]
      },
      {
       "output_type": "stream",
       "stream": "stdout",
       "text": [
        " a g"
       ]
      },
      {
       "output_type": "stream",
       "stream": "stdout",
       "text": [
        " 525 c"
       ]
      },
      {
       "output_type": "stream",
       "stream": "stdout",
       "text": [
        " d"
       ]
      },
      {
       "output_type": "stream",
       "stream": "stdout",
       "text": [
        " a g"
       ]
      },
      {
       "output_type": "stream",
       "stream": "stdout",
       "text": [
        " 526 c"
       ]
      },
      {
       "output_type": "stream",
       "stream": "stdout",
       "text": [
        " d"
       ]
      },
      {
       "output_type": "stream",
       "stream": "stdout",
       "text": [
        " a g"
       ]
      },
      {
       "output_type": "stream",
       "stream": "stdout",
       "text": [
        " 527 c"
       ]
      },
      {
       "output_type": "stream",
       "stream": "stdout",
       "text": [
        " d"
       ]
      },
      {
       "output_type": "stream",
       "stream": "stdout",
       "text": [
        " a g"
       ]
      },
      {
       "output_type": "stream",
       "stream": "stdout",
       "text": [
        " 528 c"
       ]
      },
      {
       "output_type": "stream",
       "stream": "stdout",
       "text": [
        " d"
       ]
      },
      {
       "output_type": "stream",
       "stream": "stdout",
       "text": [
        " a g"
       ]
      },
      {
       "output_type": "stream",
       "stream": "stdout",
       "text": [
        " 529 c"
       ]
      },
      {
       "output_type": "stream",
       "stream": "stdout",
       "text": [
        " d"
       ]
      },
      {
       "output_type": "stream",
       "stream": "stdout",
       "text": [
        " a g"
       ]
      },
      {
       "output_type": "stream",
       "stream": "stdout",
       "text": [
        " 530 c"
       ]
      },
      {
       "output_type": "stream",
       "stream": "stdout",
       "text": [
        " d"
       ]
      },
      {
       "output_type": "stream",
       "stream": "stdout",
       "text": [
        " a g"
       ]
      },
      {
       "output_type": "stream",
       "stream": "stdout",
       "text": [
        " 531 c"
       ]
      },
      {
       "output_type": "stream",
       "stream": "stdout",
       "text": [
        " d"
       ]
      },
      {
       "output_type": "stream",
       "stream": "stdout",
       "text": [
        " a g"
       ]
      },
      {
       "output_type": "stream",
       "stream": "stdout",
       "text": [
        " 532 c"
       ]
      },
      {
       "output_type": "stream",
       "stream": "stdout",
       "text": [
        " d"
       ]
      },
      {
       "output_type": "stream",
       "stream": "stdout",
       "text": [
        " a g"
       ]
      },
      {
       "output_type": "stream",
       "stream": "stdout",
       "text": [
        " 533 c"
       ]
      },
      {
       "output_type": "stream",
       "stream": "stdout",
       "text": [
        " d"
       ]
      },
      {
       "output_type": "stream",
       "stream": "stdout",
       "text": [
        " a g"
       ]
      },
      {
       "output_type": "stream",
       "stream": "stdout",
       "text": [
        " 534 c"
       ]
      },
      {
       "output_type": "stream",
       "stream": "stdout",
       "text": [
        " d"
       ]
      },
      {
       "output_type": "stream",
       "stream": "stdout",
       "text": [
        " a g"
       ]
      },
      {
       "output_type": "stream",
       "stream": "stdout",
       "text": [
        " 535 c"
       ]
      },
      {
       "output_type": "stream",
       "stream": "stdout",
       "text": [
        " d"
       ]
      },
      {
       "output_type": "stream",
       "stream": "stdout",
       "text": [
        " a g"
       ]
      },
      {
       "output_type": "stream",
       "stream": "stdout",
       "text": [
        " 536 c"
       ]
      },
      {
       "output_type": "stream",
       "stream": "stdout",
       "text": [
        " d"
       ]
      },
      {
       "output_type": "stream",
       "stream": "stdout",
       "text": [
        " a g"
       ]
      },
      {
       "output_type": "stream",
       "stream": "stdout",
       "text": [
        " 537 c"
       ]
      },
      {
       "output_type": "stream",
       "stream": "stdout",
       "text": [
        " d"
       ]
      },
      {
       "output_type": "stream",
       "stream": "stdout",
       "text": [
        " a g"
       ]
      },
      {
       "output_type": "stream",
       "stream": "stdout",
       "text": [
        " 538 c"
       ]
      },
      {
       "output_type": "stream",
       "stream": "stdout",
       "text": [
        " d"
       ]
      },
      {
       "output_type": "stream",
       "stream": "stdout",
       "text": [
        " a g"
       ]
      },
      {
       "output_type": "stream",
       "stream": "stdout",
       "text": [
        " 539 c"
       ]
      },
      {
       "output_type": "stream",
       "stream": "stdout",
       "text": [
        " d"
       ]
      },
      {
       "output_type": "stream",
       "stream": "stdout",
       "text": [
        " a g"
       ]
      },
      {
       "output_type": "stream",
       "stream": "stdout",
       "text": [
        " 540 c"
       ]
      },
      {
       "output_type": "stream",
       "stream": "stdout",
       "text": [
        " d"
       ]
      },
      {
       "output_type": "stream",
       "stream": "stdout",
       "text": [
        " a g"
       ]
      },
      {
       "output_type": "stream",
       "stream": "stdout",
       "text": [
        " 541 c"
       ]
      },
      {
       "output_type": "stream",
       "stream": "stdout",
       "text": [
        " d"
       ]
      },
      {
       "output_type": "stream",
       "stream": "stdout",
       "text": [
        " a g"
       ]
      },
      {
       "output_type": "stream",
       "stream": "stdout",
       "text": [
        " 542 c"
       ]
      },
      {
       "output_type": "stream",
       "stream": "stdout",
       "text": [
        " d"
       ]
      },
      {
       "output_type": "stream",
       "stream": "stdout",
       "text": [
        " a g"
       ]
      },
      {
       "output_type": "stream",
       "stream": "stdout",
       "text": [
        " 543 c"
       ]
      },
      {
       "output_type": "stream",
       "stream": "stdout",
       "text": [
        " d"
       ]
      },
      {
       "output_type": "stream",
       "stream": "stdout",
       "text": [
        " a g"
       ]
      },
      {
       "output_type": "stream",
       "stream": "stdout",
       "text": [
        " 544 c"
       ]
      },
      {
       "output_type": "stream",
       "stream": "stdout",
       "text": [
        " d"
       ]
      },
      {
       "output_type": "stream",
       "stream": "stdout",
       "text": [
        " a g"
       ]
      },
      {
       "output_type": "stream",
       "stream": "stdout",
       "text": [
        " 545 c"
       ]
      },
      {
       "output_type": "stream",
       "stream": "stdout",
       "text": [
        " d"
       ]
      },
      {
       "output_type": "stream",
       "stream": "stdout",
       "text": [
        " a g"
       ]
      },
      {
       "output_type": "stream",
       "stream": "stdout",
       "text": [
        " 546 c"
       ]
      },
      {
       "output_type": "stream",
       "stream": "stdout",
       "text": [
        " d"
       ]
      },
      {
       "output_type": "stream",
       "stream": "stdout",
       "text": [
        " a g"
       ]
      },
      {
       "output_type": "stream",
       "stream": "stdout",
       "text": [
        " 547 c"
       ]
      },
      {
       "output_type": "stream",
       "stream": "stdout",
       "text": [
        " d"
       ]
      },
      {
       "output_type": "stream",
       "stream": "stdout",
       "text": [
        " a g"
       ]
      },
      {
       "output_type": "stream",
       "stream": "stdout",
       "text": [
        " 548 c"
       ]
      },
      {
       "output_type": "stream",
       "stream": "stdout",
       "text": [
        " d"
       ]
      },
      {
       "output_type": "stream",
       "stream": "stdout",
       "text": [
        " a g"
       ]
      },
      {
       "output_type": "stream",
       "stream": "stdout",
       "text": [
        " 549 c"
       ]
      },
      {
       "output_type": "stream",
       "stream": "stdout",
       "text": [
        " d"
       ]
      },
      {
       "output_type": "stream",
       "stream": "stdout",
       "text": [
        " a g"
       ]
      },
      {
       "output_type": "stream",
       "stream": "stdout",
       "text": [
        " 550 c"
       ]
      },
      {
       "output_type": "stream",
       "stream": "stdout",
       "text": [
        " d"
       ]
      },
      {
       "output_type": "stream",
       "stream": "stdout",
       "text": [
        " a g"
       ]
      },
      {
       "output_type": "stream",
       "stream": "stdout",
       "text": [
        " 551 c"
       ]
      },
      {
       "output_type": "stream",
       "stream": "stdout",
       "text": [
        " d"
       ]
      },
      {
       "output_type": "stream",
       "stream": "stdout",
       "text": [
        " a g"
       ]
      },
      {
       "output_type": "stream",
       "stream": "stdout",
       "text": [
        " 552 c"
       ]
      },
      {
       "output_type": "stream",
       "stream": "stdout",
       "text": [
        " d"
       ]
      },
      {
       "output_type": "stream",
       "stream": "stdout",
       "text": [
        " a g"
       ]
      },
      {
       "output_type": "stream",
       "stream": "stdout",
       "text": [
        " 553 c"
       ]
      },
      {
       "output_type": "stream",
       "stream": "stdout",
       "text": [
        " d"
       ]
      },
      {
       "output_type": "stream",
       "stream": "stdout",
       "text": [
        " a g"
       ]
      },
      {
       "output_type": "stream",
       "stream": "stdout",
       "text": [
        " 554 c"
       ]
      },
      {
       "output_type": "stream",
       "stream": "stdout",
       "text": [
        " d"
       ]
      },
      {
       "output_type": "stream",
       "stream": "stdout",
       "text": [
        " a g"
       ]
      },
      {
       "output_type": "stream",
       "stream": "stdout",
       "text": [
        " 555 c"
       ]
      },
      {
       "output_type": "stream",
       "stream": "stdout",
       "text": [
        " d"
       ]
      },
      {
       "output_type": "stream",
       "stream": "stdout",
       "text": [
        " a g"
       ]
      },
      {
       "output_type": "stream",
       "stream": "stdout",
       "text": [
        " 556 c"
       ]
      },
      {
       "output_type": "stream",
       "stream": "stdout",
       "text": [
        " d"
       ]
      },
      {
       "output_type": "stream",
       "stream": "stdout",
       "text": [
        " a g"
       ]
      },
      {
       "output_type": "stream",
       "stream": "stdout",
       "text": [
        " 557 c"
       ]
      },
      {
       "output_type": "stream",
       "stream": "stdout",
       "text": [
        " d"
       ]
      },
      {
       "output_type": "stream",
       "stream": "stdout",
       "text": [
        " a g"
       ]
      },
      {
       "output_type": "stream",
       "stream": "stdout",
       "text": [
        " 558 c"
       ]
      },
      {
       "output_type": "stream",
       "stream": "stdout",
       "text": [
        " d"
       ]
      },
      {
       "output_type": "stream",
       "stream": "stdout",
       "text": [
        " a g"
       ]
      },
      {
       "output_type": "stream",
       "stream": "stdout",
       "text": [
        " 559 c"
       ]
      },
      {
       "output_type": "stream",
       "stream": "stdout",
       "text": [
        " d"
       ]
      },
      {
       "output_type": "stream",
       "stream": "stdout",
       "text": [
        " a g"
       ]
      },
      {
       "output_type": "stream",
       "stream": "stdout",
       "text": [
        " 560 c"
       ]
      },
      {
       "output_type": "stream",
       "stream": "stdout",
       "text": [
        " d"
       ]
      },
      {
       "output_type": "stream",
       "stream": "stdout",
       "text": [
        " a g"
       ]
      },
      {
       "output_type": "stream",
       "stream": "stdout",
       "text": [
        " 561 c"
       ]
      },
      {
       "output_type": "stream",
       "stream": "stdout",
       "text": [
        " d"
       ]
      },
      {
       "output_type": "stream",
       "stream": "stdout",
       "text": [
        " a g"
       ]
      },
      {
       "output_type": "stream",
       "stream": "stdout",
       "text": [
        " 562 c"
       ]
      },
      {
       "output_type": "stream",
       "stream": "stdout",
       "text": [
        " d"
       ]
      },
      {
       "output_type": "stream",
       "stream": "stdout",
       "text": [
        " a g"
       ]
      },
      {
       "output_type": "stream",
       "stream": "stdout",
       "text": [
        " 563 c"
       ]
      },
      {
       "output_type": "stream",
       "stream": "stdout",
       "text": [
        " d"
       ]
      },
      {
       "output_type": "stream",
       "stream": "stdout",
       "text": [
        " a g"
       ]
      },
      {
       "output_type": "stream",
       "stream": "stdout",
       "text": [
        " 564 c"
       ]
      },
      {
       "output_type": "stream",
       "stream": "stdout",
       "text": [
        " d"
       ]
      },
      {
       "output_type": "stream",
       "stream": "stdout",
       "text": [
        " a g"
       ]
      },
      {
       "output_type": "stream",
       "stream": "stdout",
       "text": [
        " 565 c"
       ]
      },
      {
       "output_type": "stream",
       "stream": "stdout",
       "text": [
        " d"
       ]
      },
      {
       "output_type": "stream",
       "stream": "stdout",
       "text": [
        " a g"
       ]
      },
      {
       "output_type": "stream",
       "stream": "stdout",
       "text": [
        " 566 c"
       ]
      },
      {
       "output_type": "stream",
       "stream": "stdout",
       "text": [
        " d"
       ]
      },
      {
       "output_type": "stream",
       "stream": "stdout",
       "text": [
        " a g"
       ]
      },
      {
       "output_type": "stream",
       "stream": "stdout",
       "text": [
        " 567 c"
       ]
      },
      {
       "output_type": "stream",
       "stream": "stdout",
       "text": [
        " d"
       ]
      },
      {
       "output_type": "stream",
       "stream": "stdout",
       "text": [
        " a g"
       ]
      },
      {
       "output_type": "stream",
       "stream": "stdout",
       "text": [
        " 568 c"
       ]
      },
      {
       "output_type": "stream",
       "stream": "stdout",
       "text": [
        " d"
       ]
      },
      {
       "output_type": "stream",
       "stream": "stdout",
       "text": [
        " a g"
       ]
      },
      {
       "output_type": "stream",
       "stream": "stdout",
       "text": [
        " 569 c"
       ]
      },
      {
       "output_type": "stream",
       "stream": "stdout",
       "text": [
        " d"
       ]
      },
      {
       "output_type": "stream",
       "stream": "stdout",
       "text": [
        " a g"
       ]
      },
      {
       "output_type": "stream",
       "stream": "stdout",
       "text": [
        " 570 c"
       ]
      },
      {
       "output_type": "stream",
       "stream": "stdout",
       "text": [
        " d"
       ]
      },
      {
       "output_type": "stream",
       "stream": "stdout",
       "text": [
        " a g"
       ]
      },
      {
       "output_type": "stream",
       "stream": "stdout",
       "text": [
        " 571 c"
       ]
      },
      {
       "output_type": "stream",
       "stream": "stdout",
       "text": [
        " d"
       ]
      },
      {
       "output_type": "stream",
       "stream": "stdout",
       "text": [
        " a g"
       ]
      },
      {
       "output_type": "stream",
       "stream": "stdout",
       "text": [
        " 572 c"
       ]
      },
      {
       "output_type": "stream",
       "stream": "stdout",
       "text": [
        " d"
       ]
      },
      {
       "output_type": "stream",
       "stream": "stdout",
       "text": [
        " a g"
       ]
      },
      {
       "output_type": "stream",
       "stream": "stdout",
       "text": [
        " 573 c"
       ]
      },
      {
       "output_type": "stream",
       "stream": "stdout",
       "text": [
        " d"
       ]
      },
      {
       "output_type": "stream",
       "stream": "stdout",
       "text": [
        " a g"
       ]
      },
      {
       "output_type": "stream",
       "stream": "stdout",
       "text": [
        " 574 c"
       ]
      },
      {
       "output_type": "stream",
       "stream": "stdout",
       "text": [
        " d"
       ]
      },
      {
       "output_type": "stream",
       "stream": "stdout",
       "text": [
        " a g"
       ]
      },
      {
       "output_type": "stream",
       "stream": "stdout",
       "text": [
        " 575 c"
       ]
      },
      {
       "output_type": "stream",
       "stream": "stdout",
       "text": [
        " d"
       ]
      },
      {
       "output_type": "stream",
       "stream": "stdout",
       "text": [
        " a g"
       ]
      },
      {
       "output_type": "stream",
       "stream": "stdout",
       "text": [
        " 576 c"
       ]
      },
      {
       "output_type": "stream",
       "stream": "stdout",
       "text": [
        " d"
       ]
      },
      {
       "output_type": "stream",
       "stream": "stdout",
       "text": [
        " a g"
       ]
      },
      {
       "output_type": "stream",
       "stream": "stdout",
       "text": [
        " 577 c"
       ]
      },
      {
       "output_type": "stream",
       "stream": "stdout",
       "text": [
        " d"
       ]
      },
      {
       "output_type": "stream",
       "stream": "stdout",
       "text": [
        " a g"
       ]
      },
      {
       "output_type": "stream",
       "stream": "stdout",
       "text": [
        " 578 c"
       ]
      },
      {
       "output_type": "stream",
       "stream": "stdout",
       "text": [
        " d"
       ]
      },
      {
       "output_type": "stream",
       "stream": "stdout",
       "text": [
        " a g"
       ]
      },
      {
       "output_type": "stream",
       "stream": "stdout",
       "text": [
        " 579 c"
       ]
      },
      {
       "output_type": "stream",
       "stream": "stdout",
       "text": [
        " d"
       ]
      },
      {
       "output_type": "stream",
       "stream": "stdout",
       "text": [
        " a g"
       ]
      },
      {
       "output_type": "stream",
       "stream": "stdout",
       "text": [
        " 580 c"
       ]
      },
      {
       "output_type": "stream",
       "stream": "stdout",
       "text": [
        " d"
       ]
      },
      {
       "output_type": "stream",
       "stream": "stdout",
       "text": [
        " a g"
       ]
      },
      {
       "output_type": "stream",
       "stream": "stdout",
       "text": [
        " 581 c"
       ]
      },
      {
       "output_type": "stream",
       "stream": "stdout",
       "text": [
        " d"
       ]
      },
      {
       "output_type": "stream",
       "stream": "stdout",
       "text": [
        " a g"
       ]
      },
      {
       "output_type": "stream",
       "stream": "stdout",
       "text": [
        " 582 c"
       ]
      },
      {
       "output_type": "stream",
       "stream": "stdout",
       "text": [
        " d"
       ]
      },
      {
       "output_type": "stream",
       "stream": "stdout",
       "text": [
        " a g"
       ]
      },
      {
       "output_type": "stream",
       "stream": "stdout",
       "text": [
        " 583 c"
       ]
      },
      {
       "output_type": "stream",
       "stream": "stdout",
       "text": [
        " d"
       ]
      },
      {
       "output_type": "stream",
       "stream": "stdout",
       "text": [
        " a g"
       ]
      },
      {
       "output_type": "stream",
       "stream": "stdout",
       "text": [
        " 584 c"
       ]
      },
      {
       "output_type": "stream",
       "stream": "stdout",
       "text": [
        " d"
       ]
      },
      {
       "output_type": "stream",
       "stream": "stdout",
       "text": [
        " a g"
       ]
      },
      {
       "output_type": "stream",
       "stream": "stdout",
       "text": [
        " 585 c"
       ]
      },
      {
       "output_type": "stream",
       "stream": "stdout",
       "text": [
        " d"
       ]
      },
      {
       "output_type": "stream",
       "stream": "stdout",
       "text": [
        " a g"
       ]
      },
      {
       "output_type": "stream",
       "stream": "stdout",
       "text": [
        " 586 c"
       ]
      },
      {
       "output_type": "stream",
       "stream": "stdout",
       "text": [
        " d"
       ]
      },
      {
       "output_type": "stream",
       "stream": "stdout",
       "text": [
        " a g"
       ]
      },
      {
       "output_type": "stream",
       "stream": "stdout",
       "text": [
        " 587 c"
       ]
      },
      {
       "output_type": "stream",
       "stream": "stdout",
       "text": [
        " d"
       ]
      },
      {
       "output_type": "stream",
       "stream": "stdout",
       "text": [
        " a g"
       ]
      },
      {
       "output_type": "stream",
       "stream": "stdout",
       "text": [
        " 588 c"
       ]
      },
      {
       "output_type": "stream",
       "stream": "stdout",
       "text": [
        " d"
       ]
      },
      {
       "output_type": "stream",
       "stream": "stdout",
       "text": [
        " a g"
       ]
      },
      {
       "output_type": "stream",
       "stream": "stdout",
       "text": [
        " 589 c"
       ]
      },
      {
       "output_type": "stream",
       "stream": "stdout",
       "text": [
        " d"
       ]
      },
      {
       "output_type": "stream",
       "stream": "stdout",
       "text": [
        " a g"
       ]
      },
      {
       "output_type": "stream",
       "stream": "stdout",
       "text": [
        " 590 c"
       ]
      },
      {
       "output_type": "stream",
       "stream": "stdout",
       "text": [
        " d"
       ]
      },
      {
       "output_type": "stream",
       "stream": "stdout",
       "text": [
        " a g"
       ]
      },
      {
       "output_type": "stream",
       "stream": "stdout",
       "text": [
        " 591 c"
       ]
      },
      {
       "output_type": "stream",
       "stream": "stdout",
       "text": [
        " d"
       ]
      },
      {
       "output_type": "stream",
       "stream": "stdout",
       "text": [
        " a g"
       ]
      },
      {
       "output_type": "stream",
       "stream": "stdout",
       "text": [
        " 592 c"
       ]
      },
      {
       "output_type": "stream",
       "stream": "stdout",
       "text": [
        " d"
       ]
      },
      {
       "output_type": "stream",
       "stream": "stdout",
       "text": [
        " a g"
       ]
      },
      {
       "output_type": "stream",
       "stream": "stdout",
       "text": [
        " 593 c"
       ]
      },
      {
       "output_type": "stream",
       "stream": "stdout",
       "text": [
        " d"
       ]
      },
      {
       "output_type": "stream",
       "stream": "stdout",
       "text": [
        " a g"
       ]
      },
      {
       "output_type": "stream",
       "stream": "stdout",
       "text": [
        " 594 c"
       ]
      },
      {
       "output_type": "stream",
       "stream": "stdout",
       "text": [
        " d"
       ]
      },
      {
       "output_type": "stream",
       "stream": "stdout",
       "text": [
        " a g"
       ]
      },
      {
       "output_type": "stream",
       "stream": "stdout",
       "text": [
        " 595 c"
       ]
      },
      {
       "output_type": "stream",
       "stream": "stdout",
       "text": [
        " d"
       ]
      },
      {
       "output_type": "stream",
       "stream": "stdout",
       "text": [
        " a g"
       ]
      },
      {
       "output_type": "stream",
       "stream": "stdout",
       "text": [
        " 596 c"
       ]
      },
      {
       "output_type": "stream",
       "stream": "stdout",
       "text": [
        " d"
       ]
      },
      {
       "output_type": "stream",
       "stream": "stdout",
       "text": [
        " a g"
       ]
      },
      {
       "output_type": "stream",
       "stream": "stdout",
       "text": [
        " 597 c"
       ]
      },
      {
       "output_type": "stream",
       "stream": "stdout",
       "text": [
        " d"
       ]
      },
      {
       "output_type": "stream",
       "stream": "stdout",
       "text": [
        " a g"
       ]
      },
      {
       "output_type": "stream",
       "stream": "stdout",
       "text": [
        " 598 c"
       ]
      },
      {
       "output_type": "stream",
       "stream": "stdout",
       "text": [
        " d"
       ]
      },
      {
       "output_type": "stream",
       "stream": "stdout",
       "text": [
        " a g"
       ]
      },
      {
       "output_type": "stream",
       "stream": "stdout",
       "text": [
        " 599 c"
       ]
      },
      {
       "output_type": "stream",
       "stream": "stdout",
       "text": [
        " d"
       ]
      },
      {
       "output_type": "stream",
       "stream": "stdout",
       "text": [
        " a g"
       ]
      },
      {
       "output_type": "stream",
       "stream": "stdout",
       "text": [
        " 600 c"
       ]
      },
      {
       "output_type": "stream",
       "stream": "stdout",
       "text": [
        " d"
       ]
      },
      {
       "output_type": "stream",
       "stream": "stdout",
       "text": [
        " a g"
       ]
      },
      {
       "output_type": "stream",
       "stream": "stdout",
       "text": [
        " 601 c"
       ]
      },
      {
       "output_type": "stream",
       "stream": "stdout",
       "text": [
        " d"
       ]
      },
      {
       "output_type": "stream",
       "stream": "stdout",
       "text": [
        " a g"
       ]
      },
      {
       "output_type": "stream",
       "stream": "stdout",
       "text": [
        " 602 c"
       ]
      },
      {
       "output_type": "stream",
       "stream": "stdout",
       "text": [
        " d"
       ]
      },
      {
       "output_type": "stream",
       "stream": "stdout",
       "text": [
        " a g"
       ]
      },
      {
       "output_type": "stream",
       "stream": "stdout",
       "text": [
        " 603 c"
       ]
      },
      {
       "output_type": "stream",
       "stream": "stdout",
       "text": [
        " d"
       ]
      },
      {
       "output_type": "stream",
       "stream": "stdout",
       "text": [
        " a g"
       ]
      },
      {
       "output_type": "stream",
       "stream": "stdout",
       "text": [
        " 604 c"
       ]
      },
      {
       "output_type": "stream",
       "stream": "stdout",
       "text": [
        " d"
       ]
      },
      {
       "output_type": "stream",
       "stream": "stdout",
       "text": [
        " a g"
       ]
      },
      {
       "output_type": "stream",
       "stream": "stdout",
       "text": [
        " 605 c"
       ]
      },
      {
       "output_type": "stream",
       "stream": "stdout",
       "text": [
        " d"
       ]
      },
      {
       "output_type": "stream",
       "stream": "stdout",
       "text": [
        " a g"
       ]
      },
      {
       "output_type": "stream",
       "stream": "stdout",
       "text": [
        " 606 c"
       ]
      },
      {
       "output_type": "stream",
       "stream": "stdout",
       "text": [
        " d"
       ]
      },
      {
       "output_type": "stream",
       "stream": "stdout",
       "text": [
        " a g"
       ]
      },
      {
       "output_type": "stream",
       "stream": "stdout",
       "text": [
        " 607 c"
       ]
      },
      {
       "output_type": "stream",
       "stream": "stdout",
       "text": [
        " d"
       ]
      },
      {
       "output_type": "stream",
       "stream": "stdout",
       "text": [
        " a g"
       ]
      },
      {
       "output_type": "stream",
       "stream": "stdout",
       "text": [
        " 608 c"
       ]
      },
      {
       "output_type": "stream",
       "stream": "stdout",
       "text": [
        " d"
       ]
      },
      {
       "output_type": "stream",
       "stream": "stdout",
       "text": [
        " a g"
       ]
      },
      {
       "output_type": "stream",
       "stream": "stdout",
       "text": [
        " 609 c"
       ]
      },
      {
       "output_type": "stream",
       "stream": "stdout",
       "text": [
        " d"
       ]
      },
      {
       "output_type": "stream",
       "stream": "stdout",
       "text": [
        " a g"
       ]
      },
      {
       "output_type": "stream",
       "stream": "stdout",
       "text": [
        " 610 c"
       ]
      },
      {
       "output_type": "stream",
       "stream": "stdout",
       "text": [
        " d"
       ]
      },
      {
       "output_type": "stream",
       "stream": "stdout",
       "text": [
        " a g"
       ]
      },
      {
       "output_type": "stream",
       "stream": "stdout",
       "text": [
        " 611 c"
       ]
      },
      {
       "output_type": "stream",
       "stream": "stdout",
       "text": [
        " d"
       ]
      },
      {
       "output_type": "stream",
       "stream": "stdout",
       "text": [
        " a g"
       ]
      },
      {
       "output_type": "stream",
       "stream": "stdout",
       "text": [
        " 612 c"
       ]
      },
      {
       "output_type": "stream",
       "stream": "stdout",
       "text": [
        " d"
       ]
      },
      {
       "output_type": "stream",
       "stream": "stdout",
       "text": [
        " a g"
       ]
      },
      {
       "output_type": "stream",
       "stream": "stdout",
       "text": [
        " 613 c"
       ]
      },
      {
       "output_type": "stream",
       "stream": "stdout",
       "text": [
        " d"
       ]
      },
      {
       "output_type": "stream",
       "stream": "stdout",
       "text": [
        " a g"
       ]
      },
      {
       "output_type": "stream",
       "stream": "stdout",
       "text": [
        " 614 c"
       ]
      },
      {
       "output_type": "stream",
       "stream": "stdout",
       "text": [
        " d"
       ]
      },
      {
       "output_type": "stream",
       "stream": "stdout",
       "text": [
        " a g"
       ]
      },
      {
       "output_type": "stream",
       "stream": "stdout",
       "text": [
        " 615 c"
       ]
      },
      {
       "output_type": "stream",
       "stream": "stdout",
       "text": [
        " d"
       ]
      },
      {
       "output_type": "stream",
       "stream": "stdout",
       "text": [
        " a g"
       ]
      },
      {
       "output_type": "stream",
       "stream": "stdout",
       "text": [
        " 616 c"
       ]
      },
      {
       "output_type": "stream",
       "stream": "stdout",
       "text": [
        " d"
       ]
      },
      {
       "output_type": "stream",
       "stream": "stdout",
       "text": [
        " a g"
       ]
      },
      {
       "output_type": "stream",
       "stream": "stdout",
       "text": [
        " 617 c"
       ]
      },
      {
       "output_type": "stream",
       "stream": "stdout",
       "text": [
        " d"
       ]
      },
      {
       "output_type": "stream",
       "stream": "stdout",
       "text": [
        " a g"
       ]
      },
      {
       "output_type": "stream",
       "stream": "stdout",
       "text": [
        " 618 c"
       ]
      },
      {
       "output_type": "stream",
       "stream": "stdout",
       "text": [
        " d"
       ]
      },
      {
       "output_type": "stream",
       "stream": "stdout",
       "text": [
        " a g"
       ]
      },
      {
       "output_type": "stream",
       "stream": "stdout",
       "text": [
        " 619 c"
       ]
      },
      {
       "output_type": "stream",
       "stream": "stdout",
       "text": [
        " d"
       ]
      },
      {
       "output_type": "stream",
       "stream": "stdout",
       "text": [
        " a g"
       ]
      },
      {
       "output_type": "stream",
       "stream": "stdout",
       "text": [
        " 620 c"
       ]
      },
      {
       "output_type": "stream",
       "stream": "stdout",
       "text": [
        " d"
       ]
      },
      {
       "output_type": "stream",
       "stream": "stdout",
       "text": [
        " a g"
       ]
      },
      {
       "output_type": "stream",
       "stream": "stdout",
       "text": [
        " 621 c"
       ]
      },
      {
       "output_type": "stream",
       "stream": "stdout",
       "text": [
        " d"
       ]
      },
      {
       "output_type": "stream",
       "stream": "stdout",
       "text": [
        " a g"
       ]
      },
      {
       "output_type": "stream",
       "stream": "stdout",
       "text": [
        " 622 c"
       ]
      },
      {
       "output_type": "stream",
       "stream": "stdout",
       "text": [
        " d"
       ]
      },
      {
       "output_type": "stream",
       "stream": "stdout",
       "text": [
        " a g"
       ]
      },
      {
       "output_type": "stream",
       "stream": "stdout",
       "text": [
        " 623 c"
       ]
      },
      {
       "output_type": "stream",
       "stream": "stdout",
       "text": [
        " d"
       ]
      },
      {
       "output_type": "stream",
       "stream": "stdout",
       "text": [
        " a g"
       ]
      },
      {
       "output_type": "stream",
       "stream": "stdout",
       "text": [
        " 624 c"
       ]
      },
      {
       "output_type": "stream",
       "stream": "stdout",
       "text": [
        " d"
       ]
      },
      {
       "output_type": "stream",
       "stream": "stdout",
       "text": [
        " a g"
       ]
      },
      {
       "output_type": "stream",
       "stream": "stdout",
       "text": [
        " 625 c"
       ]
      },
      {
       "output_type": "stream",
       "stream": "stdout",
       "text": [
        " d"
       ]
      },
      {
       "output_type": "stream",
       "stream": "stdout",
       "text": [
        " a g"
       ]
      },
      {
       "output_type": "stream",
       "stream": "stdout",
       "text": [
        " 626 c"
       ]
      },
      {
       "output_type": "stream",
       "stream": "stdout",
       "text": [
        " d"
       ]
      },
      {
       "output_type": "stream",
       "stream": "stdout",
       "text": [
        " a g"
       ]
      },
      {
       "output_type": "stream",
       "stream": "stdout",
       "text": [
        " 627 c"
       ]
      },
      {
       "output_type": "stream",
       "stream": "stdout",
       "text": [
        " d"
       ]
      },
      {
       "output_type": "stream",
       "stream": "stdout",
       "text": [
        " a g"
       ]
      },
      {
       "output_type": "stream",
       "stream": "stdout",
       "text": [
        " 628 c"
       ]
      },
      {
       "output_type": "stream",
       "stream": "stdout",
       "text": [
        " d"
       ]
      },
      {
       "output_type": "stream",
       "stream": "stdout",
       "text": [
        " a g"
       ]
      },
      {
       "output_type": "stream",
       "stream": "stdout",
       "text": [
        " 629 c"
       ]
      },
      {
       "output_type": "stream",
       "stream": "stdout",
       "text": [
        " d"
       ]
      },
      {
       "output_type": "stream",
       "stream": "stdout",
       "text": [
        " a g"
       ]
      },
      {
       "output_type": "stream",
       "stream": "stdout",
       "text": [
        " 630 c"
       ]
      },
      {
       "output_type": "stream",
       "stream": "stdout",
       "text": [
        " d"
       ]
      },
      {
       "output_type": "stream",
       "stream": "stdout",
       "text": [
        " a g"
       ]
      },
      {
       "output_type": "stream",
       "stream": "stdout",
       "text": [
        " 631 c"
       ]
      },
      {
       "output_type": "stream",
       "stream": "stdout",
       "text": [
        " d"
       ]
      },
      {
       "output_type": "stream",
       "stream": "stdout",
       "text": [
        " a g"
       ]
      },
      {
       "output_type": "stream",
       "stream": "stdout",
       "text": [
        " 632 c"
       ]
      },
      {
       "output_type": "stream",
       "stream": "stdout",
       "text": [
        " d"
       ]
      },
      {
       "output_type": "stream",
       "stream": "stdout",
       "text": [
        " a g"
       ]
      },
      {
       "output_type": "stream",
       "stream": "stdout",
       "text": [
        " 633 c"
       ]
      },
      {
       "output_type": "stream",
       "stream": "stdout",
       "text": [
        " d"
       ]
      },
      {
       "output_type": "stream",
       "stream": "stdout",
       "text": [
        " a g"
       ]
      },
      {
       "output_type": "stream",
       "stream": "stdout",
       "text": [
        " 634 c"
       ]
      },
      {
       "output_type": "stream",
       "stream": "stdout",
       "text": [
        " d"
       ]
      },
      {
       "output_type": "stream",
       "stream": "stdout",
       "text": [
        " a g"
       ]
      },
      {
       "output_type": "stream",
       "stream": "stdout",
       "text": [
        " 635 c"
       ]
      },
      {
       "output_type": "stream",
       "stream": "stdout",
       "text": [
        " d"
       ]
      },
      {
       "output_type": "stream",
       "stream": "stdout",
       "text": [
        " a g"
       ]
      },
      {
       "output_type": "stream",
       "stream": "stdout",
       "text": [
        " 636 c"
       ]
      },
      {
       "output_type": "stream",
       "stream": "stdout",
       "text": [
        " d"
       ]
      },
      {
       "output_type": "stream",
       "stream": "stdout",
       "text": [
        " a g"
       ]
      },
      {
       "output_type": "stream",
       "stream": "stdout",
       "text": [
        " 637 c"
       ]
      },
      {
       "output_type": "stream",
       "stream": "stdout",
       "text": [
        " d"
       ]
      },
      {
       "output_type": "stream",
       "stream": "stdout",
       "text": [
        " a g"
       ]
      },
      {
       "output_type": "stream",
       "stream": "stdout",
       "text": [
        " 638 c"
       ]
      },
      {
       "output_type": "stream",
       "stream": "stdout",
       "text": [
        " d"
       ]
      },
      {
       "output_type": "stream",
       "stream": "stdout",
       "text": [
        " a g"
       ]
      },
      {
       "output_type": "stream",
       "stream": "stdout",
       "text": [
        " 639 c"
       ]
      },
      {
       "output_type": "stream",
       "stream": "stdout",
       "text": [
        " d"
       ]
      },
      {
       "output_type": "stream",
       "stream": "stdout",
       "text": [
        " a g"
       ]
      },
      {
       "output_type": "stream",
       "stream": "stdout",
       "text": [
        " 640 c"
       ]
      },
      {
       "output_type": "stream",
       "stream": "stdout",
       "text": [
        " d"
       ]
      },
      {
       "output_type": "stream",
       "stream": "stdout",
       "text": [
        " a g"
       ]
      },
      {
       "output_type": "stream",
       "stream": "stdout",
       "text": [
        " 641 c"
       ]
      },
      {
       "output_type": "stream",
       "stream": "stdout",
       "text": [
        " d"
       ]
      },
      {
       "output_type": "stream",
       "stream": "stdout",
       "text": [
        " a g"
       ]
      },
      {
       "output_type": "stream",
       "stream": "stdout",
       "text": [
        " 642 c"
       ]
      },
      {
       "output_type": "stream",
       "stream": "stdout",
       "text": [
        " d"
       ]
      },
      {
       "output_type": "stream",
       "stream": "stdout",
       "text": [
        " a g"
       ]
      },
      {
       "output_type": "stream",
       "stream": "stdout",
       "text": [
        " 643 c"
       ]
      },
      {
       "output_type": "stream",
       "stream": "stdout",
       "text": [
        " d"
       ]
      },
      {
       "output_type": "stream",
       "stream": "stdout",
       "text": [
        " a g"
       ]
      },
      {
       "output_type": "stream",
       "stream": "stdout",
       "text": [
        " 644 c"
       ]
      },
      {
       "output_type": "stream",
       "stream": "stdout",
       "text": [
        " d"
       ]
      },
      {
       "output_type": "stream",
       "stream": "stdout",
       "text": [
        " a g"
       ]
      },
      {
       "output_type": "stream",
       "stream": "stdout",
       "text": [
        " 645 c"
       ]
      },
      {
       "output_type": "stream",
       "stream": "stdout",
       "text": [
        " d"
       ]
      },
      {
       "output_type": "stream",
       "stream": "stdout",
       "text": [
        " a g"
       ]
      },
      {
       "output_type": "stream",
       "stream": "stdout",
       "text": [
        " 646 c"
       ]
      },
      {
       "output_type": "stream",
       "stream": "stdout",
       "text": [
        " d"
       ]
      },
      {
       "output_type": "stream",
       "stream": "stdout",
       "text": [
        " a g"
       ]
      },
      {
       "output_type": "stream",
       "stream": "stdout",
       "text": [
        " 647 c"
       ]
      },
      {
       "output_type": "stream",
       "stream": "stdout",
       "text": [
        " d"
       ]
      },
      {
       "output_type": "stream",
       "stream": "stdout",
       "text": [
        " a g"
       ]
      },
      {
       "output_type": "stream",
       "stream": "stdout",
       "text": [
        " 648 c"
       ]
      },
      {
       "output_type": "stream",
       "stream": "stdout",
       "text": [
        " d"
       ]
      },
      {
       "output_type": "stream",
       "stream": "stdout",
       "text": [
        " a g"
       ]
      },
      {
       "output_type": "stream",
       "stream": "stdout",
       "text": [
        " 649 c"
       ]
      },
      {
       "output_type": "stream",
       "stream": "stdout",
       "text": [
        " d"
       ]
      },
      {
       "output_type": "stream",
       "stream": "stdout",
       "text": [
        " a g"
       ]
      },
      {
       "output_type": "stream",
       "stream": "stdout",
       "text": [
        " 650 c"
       ]
      },
      {
       "output_type": "stream",
       "stream": "stdout",
       "text": [
        " d"
       ]
      },
      {
       "output_type": "stream",
       "stream": "stdout",
       "text": [
        " a g"
       ]
      },
      {
       "output_type": "stream",
       "stream": "stdout",
       "text": [
        " 651 c"
       ]
      },
      {
       "output_type": "stream",
       "stream": "stdout",
       "text": [
        " d"
       ]
      },
      {
       "output_type": "stream",
       "stream": "stdout",
       "text": [
        " a g"
       ]
      },
      {
       "output_type": "stream",
       "stream": "stdout",
       "text": [
        " 652 c"
       ]
      },
      {
       "output_type": "stream",
       "stream": "stdout",
       "text": [
        " d"
       ]
      },
      {
       "output_type": "stream",
       "stream": "stdout",
       "text": [
        " a g"
       ]
      },
      {
       "output_type": "stream",
       "stream": "stdout",
       "text": [
        " 653 c"
       ]
      },
      {
       "output_type": "stream",
       "stream": "stdout",
       "text": [
        " d"
       ]
      },
      {
       "output_type": "stream",
       "stream": "stdout",
       "text": [
        " a g"
       ]
      },
      {
       "output_type": "stream",
       "stream": "stdout",
       "text": [
        " 654 c"
       ]
      },
      {
       "output_type": "stream",
       "stream": "stdout",
       "text": [
        " d"
       ]
      },
      {
       "output_type": "stream",
       "stream": "stdout",
       "text": [
        " a g"
       ]
      },
      {
       "output_type": "stream",
       "stream": "stdout",
       "text": [
        " 655 c"
       ]
      },
      {
       "output_type": "stream",
       "stream": "stdout",
       "text": [
        " d"
       ]
      },
      {
       "output_type": "stream",
       "stream": "stdout",
       "text": [
        " a g"
       ]
      },
      {
       "output_type": "stream",
       "stream": "stdout",
       "text": [
        " 656 c"
       ]
      },
      {
       "output_type": "stream",
       "stream": "stdout",
       "text": [
        " d"
       ]
      },
      {
       "output_type": "stream",
       "stream": "stdout",
       "text": [
        " a g"
       ]
      },
      {
       "output_type": "stream",
       "stream": "stdout",
       "text": [
        " 657 c"
       ]
      },
      {
       "output_type": "stream",
       "stream": "stdout",
       "text": [
        " d"
       ]
      },
      {
       "output_type": "stream",
       "stream": "stdout",
       "text": [
        " a g"
       ]
      },
      {
       "output_type": "stream",
       "stream": "stdout",
       "text": [
        " 658 c"
       ]
      },
      {
       "output_type": "stream",
       "stream": "stdout",
       "text": [
        " d"
       ]
      },
      {
       "output_type": "stream",
       "stream": "stdout",
       "text": [
        " a g"
       ]
      },
      {
       "output_type": "stream",
       "stream": "stdout",
       "text": [
        " 659 c"
       ]
      },
      {
       "output_type": "stream",
       "stream": "stdout",
       "text": [
        " d"
       ]
      },
      {
       "output_type": "stream",
       "stream": "stdout",
       "text": [
        " a g"
       ]
      },
      {
       "output_type": "stream",
       "stream": "stdout",
       "text": [
        " 660 c"
       ]
      },
      {
       "output_type": "stream",
       "stream": "stdout",
       "text": [
        " d"
       ]
      },
      {
       "output_type": "stream",
       "stream": "stdout",
       "text": [
        " a g"
       ]
      },
      {
       "output_type": "stream",
       "stream": "stdout",
       "text": [
        " 661 c"
       ]
      },
      {
       "output_type": "stream",
       "stream": "stdout",
       "text": [
        " d"
       ]
      },
      {
       "output_type": "stream",
       "stream": "stdout",
       "text": [
        " a g"
       ]
      },
      {
       "output_type": "stream",
       "stream": "stdout",
       "text": [
        " 662 c"
       ]
      },
      {
       "output_type": "stream",
       "stream": "stdout",
       "text": [
        " d"
       ]
      },
      {
       "output_type": "stream",
       "stream": "stdout",
       "text": [
        " a g"
       ]
      },
      {
       "output_type": "stream",
       "stream": "stdout",
       "text": [
        " 663 c"
       ]
      },
      {
       "output_type": "stream",
       "stream": "stdout",
       "text": [
        " d"
       ]
      },
      {
       "output_type": "stream",
       "stream": "stdout",
       "text": [
        " a g"
       ]
      },
      {
       "output_type": "stream",
       "stream": "stdout",
       "text": [
        " 664 c"
       ]
      },
      {
       "output_type": "stream",
       "stream": "stdout",
       "text": [
        " d"
       ]
      },
      {
       "output_type": "stream",
       "stream": "stdout",
       "text": [
        " a g"
       ]
      },
      {
       "output_type": "stream",
       "stream": "stdout",
       "text": [
        " 665 c"
       ]
      },
      {
       "output_type": "stream",
       "stream": "stdout",
       "text": [
        " d"
       ]
      },
      {
       "output_type": "stream",
       "stream": "stdout",
       "text": [
        " a g"
       ]
      },
      {
       "output_type": "stream",
       "stream": "stdout",
       "text": [
        " 666 c"
       ]
      },
      {
       "output_type": "stream",
       "stream": "stdout",
       "text": [
        " d"
       ]
      },
      {
       "output_type": "stream",
       "stream": "stdout",
       "text": [
        " a g"
       ]
      },
      {
       "output_type": "stream",
       "stream": "stdout",
       "text": [
        " 667 c"
       ]
      },
      {
       "output_type": "stream",
       "stream": "stdout",
       "text": [
        " d"
       ]
      },
      {
       "output_type": "stream",
       "stream": "stdout",
       "text": [
        " a g"
       ]
      },
      {
       "output_type": "stream",
       "stream": "stdout",
       "text": [
        " 668 c"
       ]
      },
      {
       "output_type": "stream",
       "stream": "stdout",
       "text": [
        " d"
       ]
      },
      {
       "output_type": "stream",
       "stream": "stdout",
       "text": [
        " a g"
       ]
      },
      {
       "output_type": "stream",
       "stream": "stdout",
       "text": [
        " 669 c"
       ]
      },
      {
       "output_type": "stream",
       "stream": "stdout",
       "text": [
        " d"
       ]
      },
      {
       "output_type": "stream",
       "stream": "stdout",
       "text": [
        " a g"
       ]
      },
      {
       "output_type": "stream",
       "stream": "stdout",
       "text": [
        " 670 c"
       ]
      },
      {
       "output_type": "stream",
       "stream": "stdout",
       "text": [
        " d"
       ]
      },
      {
       "output_type": "stream",
       "stream": "stdout",
       "text": [
        " a g"
       ]
      },
      {
       "output_type": "stream",
       "stream": "stdout",
       "text": [
        " 671 c"
       ]
      },
      {
       "output_type": "stream",
       "stream": "stdout",
       "text": [
        " d"
       ]
      },
      {
       "output_type": "stream",
       "stream": "stdout",
       "text": [
        " a g"
       ]
      },
      {
       "output_type": "stream",
       "stream": "stdout",
       "text": [
        " 672 c"
       ]
      },
      {
       "output_type": "stream",
       "stream": "stdout",
       "text": [
        " d"
       ]
      },
      {
       "output_type": "stream",
       "stream": "stdout",
       "text": [
        " a g"
       ]
      },
      {
       "output_type": "stream",
       "stream": "stdout",
       "text": [
        " 673 c"
       ]
      },
      {
       "output_type": "stream",
       "stream": "stdout",
       "text": [
        " d"
       ]
      },
      {
       "output_type": "stream",
       "stream": "stdout",
       "text": [
        " a g"
       ]
      },
      {
       "output_type": "stream",
       "stream": "stdout",
       "text": [
        " 674 c"
       ]
      },
      {
       "output_type": "stream",
       "stream": "stdout",
       "text": [
        " d"
       ]
      },
      {
       "output_type": "stream",
       "stream": "stdout",
       "text": [
        " a g"
       ]
      },
      {
       "output_type": "stream",
       "stream": "stdout",
       "text": [
        " 675 c"
       ]
      },
      {
       "output_type": "stream",
       "stream": "stdout",
       "text": [
        " d"
       ]
      },
      {
       "output_type": "stream",
       "stream": "stdout",
       "text": [
        " a g"
       ]
      },
      {
       "output_type": "stream",
       "stream": "stdout",
       "text": [
        " 676 c"
       ]
      },
      {
       "output_type": "stream",
       "stream": "stdout",
       "text": [
        " d"
       ]
      },
      {
       "output_type": "stream",
       "stream": "stdout",
       "text": [
        " a g"
       ]
      },
      {
       "output_type": "stream",
       "stream": "stdout",
       "text": [
        " 677 c"
       ]
      },
      {
       "output_type": "stream",
       "stream": "stdout",
       "text": [
        " d"
       ]
      },
      {
       "output_type": "stream",
       "stream": "stdout",
       "text": [
        " a g"
       ]
      },
      {
       "output_type": "stream",
       "stream": "stdout",
       "text": [
        " 678 c"
       ]
      },
      {
       "output_type": "stream",
       "stream": "stdout",
       "text": [
        " d"
       ]
      },
      {
       "output_type": "stream",
       "stream": "stdout",
       "text": [
        " a g"
       ]
      },
      {
       "output_type": "stream",
       "stream": "stdout",
       "text": [
        " 679 c"
       ]
      },
      {
       "output_type": "stream",
       "stream": "stdout",
       "text": [
        " d"
       ]
      },
      {
       "output_type": "stream",
       "stream": "stdout",
       "text": [
        " a g"
       ]
      },
      {
       "output_type": "stream",
       "stream": "stdout",
       "text": [
        " 680 c"
       ]
      },
      {
       "output_type": "stream",
       "stream": "stdout",
       "text": [
        " d"
       ]
      },
      {
       "output_type": "stream",
       "stream": "stdout",
       "text": [
        " a g"
       ]
      },
      {
       "output_type": "stream",
       "stream": "stdout",
       "text": [
        " 681 c"
       ]
      },
      {
       "output_type": "stream",
       "stream": "stdout",
       "text": [
        " d"
       ]
      },
      {
       "output_type": "stream",
       "stream": "stdout",
       "text": [
        " a g"
       ]
      },
      {
       "output_type": "stream",
       "stream": "stdout",
       "text": [
        " 682 c"
       ]
      },
      {
       "output_type": "stream",
       "stream": "stdout",
       "text": [
        " d"
       ]
      },
      {
       "output_type": "stream",
       "stream": "stdout",
       "text": [
        " a g"
       ]
      },
      {
       "output_type": "stream",
       "stream": "stdout",
       "text": [
        " 683 c"
       ]
      },
      {
       "output_type": "stream",
       "stream": "stdout",
       "text": [
        " d"
       ]
      },
      {
       "output_type": "stream",
       "stream": "stdout",
       "text": [
        " a g"
       ]
      },
      {
       "output_type": "stream",
       "stream": "stdout",
       "text": [
        " 684 c"
       ]
      },
      {
       "output_type": "stream",
       "stream": "stdout",
       "text": [
        " d"
       ]
      },
      {
       "output_type": "stream",
       "stream": "stdout",
       "text": [
        " a g"
       ]
      },
      {
       "output_type": "stream",
       "stream": "stdout",
       "text": [
        " 685 c"
       ]
      },
      {
       "output_type": "stream",
       "stream": "stdout",
       "text": [
        " d"
       ]
      },
      {
       "output_type": "stream",
       "stream": "stdout",
       "text": [
        " a g"
       ]
      },
      {
       "output_type": "stream",
       "stream": "stdout",
       "text": [
        " 686 c"
       ]
      },
      {
       "output_type": "stream",
       "stream": "stdout",
       "text": [
        " d"
       ]
      },
      {
       "output_type": "stream",
       "stream": "stdout",
       "text": [
        " a g"
       ]
      },
      {
       "output_type": "stream",
       "stream": "stdout",
       "text": [
        " 687 c"
       ]
      },
      {
       "output_type": "stream",
       "stream": "stdout",
       "text": [
        " d"
       ]
      },
      {
       "output_type": "stream",
       "stream": "stdout",
       "text": [
        " a g"
       ]
      },
      {
       "output_type": "stream",
       "stream": "stdout",
       "text": [
        " 688 c"
       ]
      },
      {
       "output_type": "stream",
       "stream": "stdout",
       "text": [
        " d"
       ]
      },
      {
       "output_type": "stream",
       "stream": "stdout",
       "text": [
        " a g"
       ]
      },
      {
       "output_type": "stream",
       "stream": "stdout",
       "text": [
        " 689 c"
       ]
      },
      {
       "output_type": "stream",
       "stream": "stdout",
       "text": [
        " d"
       ]
      },
      {
       "output_type": "stream",
       "stream": "stdout",
       "text": [
        " a g"
       ]
      },
      {
       "output_type": "stream",
       "stream": "stdout",
       "text": [
        " 690 c"
       ]
      },
      {
       "output_type": "stream",
       "stream": "stdout",
       "text": [
        " d"
       ]
      },
      {
       "output_type": "stream",
       "stream": "stdout",
       "text": [
        " a g"
       ]
      },
      {
       "output_type": "stream",
       "stream": "stdout",
       "text": [
        " 691 c"
       ]
      },
      {
       "output_type": "stream",
       "stream": "stdout",
       "text": [
        " d"
       ]
      },
      {
       "output_type": "stream",
       "stream": "stdout",
       "text": [
        " a g"
       ]
      },
      {
       "output_type": "stream",
       "stream": "stdout",
       "text": [
        " 692 c"
       ]
      },
      {
       "output_type": "stream",
       "stream": "stdout",
       "text": [
        " d"
       ]
      },
      {
       "output_type": "stream",
       "stream": "stdout",
       "text": [
        " a g"
       ]
      },
      {
       "output_type": "stream",
       "stream": "stdout",
       "text": [
        " 693 c"
       ]
      },
      {
       "output_type": "stream",
       "stream": "stdout",
       "text": [
        " d"
       ]
      },
      {
       "output_type": "stream",
       "stream": "stdout",
       "text": [
        " a g"
       ]
      },
      {
       "output_type": "stream",
       "stream": "stdout",
       "text": [
        " 694 c"
       ]
      },
      {
       "output_type": "stream",
       "stream": "stdout",
       "text": [
        " d"
       ]
      },
      {
       "output_type": "stream",
       "stream": "stdout",
       "text": [
        " a g"
       ]
      },
      {
       "output_type": "stream",
       "stream": "stdout",
       "text": [
        " 695 c"
       ]
      },
      {
       "output_type": "stream",
       "stream": "stdout",
       "text": [
        " d"
       ]
      },
      {
       "output_type": "stream",
       "stream": "stdout",
       "text": [
        " a g"
       ]
      },
      {
       "output_type": "stream",
       "stream": "stdout",
       "text": [
        " 696 c"
       ]
      },
      {
       "output_type": "stream",
       "stream": "stdout",
       "text": [
        " d"
       ]
      },
      {
       "output_type": "stream",
       "stream": "stdout",
       "text": [
        " a g"
       ]
      },
      {
       "output_type": "stream",
       "stream": "stdout",
       "text": [
        " 697 c"
       ]
      },
      {
       "output_type": "stream",
       "stream": "stdout",
       "text": [
        " d"
       ]
      },
      {
       "output_type": "stream",
       "stream": "stdout",
       "text": [
        " a g"
       ]
      },
      {
       "output_type": "stream",
       "stream": "stdout",
       "text": [
        " 698 c"
       ]
      },
      {
       "output_type": "stream",
       "stream": "stdout",
       "text": [
        " d"
       ]
      },
      {
       "output_type": "stream",
       "stream": "stdout",
       "text": [
        " a g"
       ]
      },
      {
       "output_type": "stream",
       "stream": "stdout",
       "text": [
        " 699 c"
       ]
      },
      {
       "output_type": "stream",
       "stream": "stdout",
       "text": [
        " d"
       ]
      },
      {
       "output_type": "stream",
       "stream": "stdout",
       "text": [
        " a g"
       ]
      },
      {
       "output_type": "stream",
       "stream": "stdout",
       "text": [
        " 700 c"
       ]
      },
      {
       "output_type": "stream",
       "stream": "stdout",
       "text": [
        " d"
       ]
      },
      {
       "output_type": "stream",
       "stream": "stdout",
       "text": [
        " a g"
       ]
      },
      {
       "output_type": "stream",
       "stream": "stdout",
       "text": [
        " 701 c"
       ]
      },
      {
       "output_type": "stream",
       "stream": "stdout",
       "text": [
        " d"
       ]
      },
      {
       "output_type": "stream",
       "stream": "stdout",
       "text": [
        " a g"
       ]
      },
      {
       "output_type": "stream",
       "stream": "stdout",
       "text": [
        " 702 c"
       ]
      },
      {
       "output_type": "stream",
       "stream": "stdout",
       "text": [
        " d"
       ]
      },
      {
       "output_type": "stream",
       "stream": "stdout",
       "text": [
        " a g"
       ]
      },
      {
       "output_type": "stream",
       "stream": "stdout",
       "text": [
        " 703 c"
       ]
      },
      {
       "output_type": "stream",
       "stream": "stdout",
       "text": [
        " d"
       ]
      },
      {
       "output_type": "stream",
       "stream": "stdout",
       "text": [
        " a g"
       ]
      },
      {
       "output_type": "stream",
       "stream": "stdout",
       "text": [
        " 704 c"
       ]
      },
      {
       "output_type": "stream",
       "stream": "stdout",
       "text": [
        " d"
       ]
      },
      {
       "output_type": "stream",
       "stream": "stdout",
       "text": [
        " a g"
       ]
      },
      {
       "output_type": "stream",
       "stream": "stdout",
       "text": [
        " 705 c"
       ]
      },
      {
       "output_type": "stream",
       "stream": "stdout",
       "text": [
        " d"
       ]
      },
      {
       "output_type": "stream",
       "stream": "stdout",
       "text": [
        " a g"
       ]
      },
      {
       "output_type": "stream",
       "stream": "stdout",
       "text": [
        " 706 c"
       ]
      },
      {
       "output_type": "stream",
       "stream": "stdout",
       "text": [
        " d"
       ]
      },
      {
       "output_type": "stream",
       "stream": "stdout",
       "text": [
        " a g"
       ]
      },
      {
       "output_type": "stream",
       "stream": "stdout",
       "text": [
        " 707 c"
       ]
      },
      {
       "output_type": "stream",
       "stream": "stdout",
       "text": [
        " d"
       ]
      },
      {
       "output_type": "stream",
       "stream": "stdout",
       "text": [
        " a g"
       ]
      },
      {
       "output_type": "stream",
       "stream": "stdout",
       "text": [
        " 708 c"
       ]
      },
      {
       "output_type": "stream",
       "stream": "stdout",
       "text": [
        " d"
       ]
      },
      {
       "output_type": "stream",
       "stream": "stdout",
       "text": [
        " a g"
       ]
      },
      {
       "output_type": "stream",
       "stream": "stdout",
       "text": [
        " 709 c"
       ]
      },
      {
       "output_type": "stream",
       "stream": "stdout",
       "text": [
        " d"
       ]
      },
      {
       "output_type": "stream",
       "stream": "stdout",
       "text": [
        " a g"
       ]
      },
      {
       "output_type": "stream",
       "stream": "stdout",
       "text": [
        " 710 c"
       ]
      },
      {
       "output_type": "stream",
       "stream": "stdout",
       "text": [
        " d"
       ]
      },
      {
       "output_type": "stream",
       "stream": "stdout",
       "text": [
        " a g"
       ]
      },
      {
       "output_type": "stream",
       "stream": "stdout",
       "text": [
        " 711 c"
       ]
      },
      {
       "output_type": "stream",
       "stream": "stdout",
       "text": [
        " d"
       ]
      },
      {
       "output_type": "stream",
       "stream": "stdout",
       "text": [
        " a g"
       ]
      },
      {
       "output_type": "stream",
       "stream": "stdout",
       "text": [
        " 712 c"
       ]
      },
      {
       "output_type": "stream",
       "stream": "stdout",
       "text": [
        " d"
       ]
      },
      {
       "output_type": "stream",
       "stream": "stdout",
       "text": [
        " a g"
       ]
      },
      {
       "output_type": "stream",
       "stream": "stdout",
       "text": [
        " 713 c"
       ]
      },
      {
       "output_type": "stream",
       "stream": "stdout",
       "text": [
        " d"
       ]
      },
      {
       "output_type": "stream",
       "stream": "stdout",
       "text": [
        " a g"
       ]
      },
      {
       "output_type": "stream",
       "stream": "stdout",
       "text": [
        " 714 c"
       ]
      },
      {
       "output_type": "stream",
       "stream": "stdout",
       "text": [
        " d"
       ]
      },
      {
       "output_type": "stream",
       "stream": "stdout",
       "text": [
        " a g"
       ]
      },
      {
       "output_type": "stream",
       "stream": "stdout",
       "text": [
        " 715 c"
       ]
      },
      {
       "output_type": "stream",
       "stream": "stdout",
       "text": [
        " d"
       ]
      },
      {
       "output_type": "stream",
       "stream": "stdout",
       "text": [
        " a g"
       ]
      },
      {
       "output_type": "stream",
       "stream": "stdout",
       "text": [
        " 716 c"
       ]
      },
      {
       "output_type": "stream",
       "stream": "stdout",
       "text": [
        " d"
       ]
      },
      {
       "output_type": "stream",
       "stream": "stdout",
       "text": [
        " a g"
       ]
      },
      {
       "output_type": "stream",
       "stream": "stdout",
       "text": [
        " 717 c"
       ]
      },
      {
       "output_type": "stream",
       "stream": "stdout",
       "text": [
        " d"
       ]
      },
      {
       "output_type": "stream",
       "stream": "stdout",
       "text": [
        " a g"
       ]
      },
      {
       "output_type": "stream",
       "stream": "stdout",
       "text": [
        " 718 c"
       ]
      },
      {
       "output_type": "stream",
       "stream": "stdout",
       "text": [
        " d"
       ]
      },
      {
       "output_type": "stream",
       "stream": "stdout",
       "text": [
        " a g"
       ]
      },
      {
       "output_type": "stream",
       "stream": "stdout",
       "text": [
        " 719 c"
       ]
      },
      {
       "output_type": "stream",
       "stream": "stdout",
       "text": [
        " d"
       ]
      },
      {
       "output_type": "stream",
       "stream": "stdout",
       "text": [
        " a g"
       ]
      },
      {
       "output_type": "stream",
       "stream": "stdout",
       "text": [
        " 720 c"
       ]
      },
      {
       "output_type": "stream",
       "stream": "stdout",
       "text": [
        " d"
       ]
      },
      {
       "output_type": "stream",
       "stream": "stdout",
       "text": [
        " a g"
       ]
      },
      {
       "output_type": "stream",
       "stream": "stdout",
       "text": [
        " 721 c"
       ]
      },
      {
       "output_type": "stream",
       "stream": "stdout",
       "text": [
        " d"
       ]
      },
      {
       "output_type": "stream",
       "stream": "stdout",
       "text": [
        " a g"
       ]
      },
      {
       "output_type": "stream",
       "stream": "stdout",
       "text": [
        " 722 c"
       ]
      },
      {
       "output_type": "stream",
       "stream": "stdout",
       "text": [
        " d"
       ]
      },
      {
       "output_type": "stream",
       "stream": "stdout",
       "text": [
        " a g"
       ]
      },
      {
       "output_type": "stream",
       "stream": "stdout",
       "text": [
        " 723 c"
       ]
      },
      {
       "output_type": "stream",
       "stream": "stdout",
       "text": [
        " d"
       ]
      },
      {
       "output_type": "stream",
       "stream": "stdout",
       "text": [
        " a g"
       ]
      },
      {
       "output_type": "stream",
       "stream": "stdout",
       "text": [
        " 724 c"
       ]
      },
      {
       "output_type": "stream",
       "stream": "stdout",
       "text": [
        " d"
       ]
      },
      {
       "output_type": "stream",
       "stream": "stdout",
       "text": [
        " a g"
       ]
      },
      {
       "output_type": "stream",
       "stream": "stdout",
       "text": [
        " 725 c"
       ]
      },
      {
       "output_type": "stream",
       "stream": "stdout",
       "text": [
        " d"
       ]
      },
      {
       "output_type": "stream",
       "stream": "stdout",
       "text": [
        " a g"
       ]
      },
      {
       "output_type": "stream",
       "stream": "stdout",
       "text": [
        " 726 c"
       ]
      },
      {
       "output_type": "stream",
       "stream": "stdout",
       "text": [
        " d"
       ]
      },
      {
       "output_type": "stream",
       "stream": "stdout",
       "text": [
        " a g"
       ]
      },
      {
       "output_type": "stream",
       "stream": "stdout",
       "text": [
        " 727 c"
       ]
      },
      {
       "output_type": "stream",
       "stream": "stdout",
       "text": [
        " d"
       ]
      },
      {
       "output_type": "stream",
       "stream": "stdout",
       "text": [
        " a g"
       ]
      },
      {
       "output_type": "stream",
       "stream": "stdout",
       "text": [
        " 728 c"
       ]
      },
      {
       "output_type": "stream",
       "stream": "stdout",
       "text": [
        " d"
       ]
      },
      {
       "output_type": "stream",
       "stream": "stdout",
       "text": [
        " a g"
       ]
      },
      {
       "output_type": "stream",
       "stream": "stdout",
       "text": [
        " 729 c"
       ]
      },
      {
       "output_type": "stream",
       "stream": "stdout",
       "text": [
        " d"
       ]
      },
      {
       "output_type": "stream",
       "stream": "stdout",
       "text": [
        " a g"
       ]
      },
      {
       "output_type": "stream",
       "stream": "stdout",
       "text": [
        " 730 c"
       ]
      },
      {
       "output_type": "stream",
       "stream": "stdout",
       "text": [
        " d"
       ]
      },
      {
       "output_type": "stream",
       "stream": "stdout",
       "text": [
        " a g"
       ]
      },
      {
       "output_type": "stream",
       "stream": "stdout",
       "text": [
        " 731 c"
       ]
      },
      {
       "output_type": "stream",
       "stream": "stdout",
       "text": [
        " d"
       ]
      },
      {
       "output_type": "stream",
       "stream": "stdout",
       "text": [
        " a g"
       ]
      },
      {
       "output_type": "stream",
       "stream": "stdout",
       "text": [
        " 732 c"
       ]
      },
      {
       "output_type": "stream",
       "stream": "stdout",
       "text": [
        " d"
       ]
      },
      {
       "output_type": "stream",
       "stream": "stdout",
       "text": [
        " a g"
       ]
      },
      {
       "output_type": "stream",
       "stream": "stdout",
       "text": [
        " 733 c"
       ]
      },
      {
       "output_type": "stream",
       "stream": "stdout",
       "text": [
        " d"
       ]
      },
      {
       "output_type": "stream",
       "stream": "stdout",
       "text": [
        " a g"
       ]
      },
      {
       "output_type": "stream",
       "stream": "stdout",
       "text": [
        " 734 c"
       ]
      },
      {
       "output_type": "stream",
       "stream": "stdout",
       "text": [
        " d"
       ]
      },
      {
       "output_type": "stream",
       "stream": "stdout",
       "text": [
        " a g"
       ]
      },
      {
       "output_type": "stream",
       "stream": "stdout",
       "text": [
        " 735 c"
       ]
      },
      {
       "output_type": "stream",
       "stream": "stdout",
       "text": [
        " d"
       ]
      },
      {
       "output_type": "stream",
       "stream": "stdout",
       "text": [
        " a g"
       ]
      },
      {
       "output_type": "stream",
       "stream": "stdout",
       "text": [
        " 736 c"
       ]
      },
      {
       "output_type": "stream",
       "stream": "stdout",
       "text": [
        " d"
       ]
      },
      {
       "output_type": "stream",
       "stream": "stdout",
       "text": [
        " a g"
       ]
      },
      {
       "output_type": "stream",
       "stream": "stdout",
       "text": [
        " 737 c"
       ]
      },
      {
       "output_type": "stream",
       "stream": "stdout",
       "text": [
        " d"
       ]
      },
      {
       "output_type": "stream",
       "stream": "stdout",
       "text": [
        " a g"
       ]
      },
      {
       "output_type": "stream",
       "stream": "stdout",
       "text": [
        " 738 c"
       ]
      },
      {
       "output_type": "stream",
       "stream": "stdout",
       "text": [
        " d"
       ]
      },
      {
       "output_type": "stream",
       "stream": "stdout",
       "text": [
        " a g"
       ]
      },
      {
       "output_type": "stream",
       "stream": "stdout",
       "text": [
        " 739 c"
       ]
      },
      {
       "output_type": "stream",
       "stream": "stdout",
       "text": [
        " d"
       ]
      },
      {
       "output_type": "stream",
       "stream": "stdout",
       "text": [
        " a g"
       ]
      },
      {
       "output_type": "stream",
       "stream": "stdout",
       "text": [
        " 740 c"
       ]
      },
      {
       "output_type": "stream",
       "stream": "stdout",
       "text": [
        " d"
       ]
      },
      {
       "output_type": "stream",
       "stream": "stdout",
       "text": [
        " a g"
       ]
      },
      {
       "output_type": "stream",
       "stream": "stdout",
       "text": [
        " 741 c"
       ]
      },
      {
       "output_type": "stream",
       "stream": "stdout",
       "text": [
        " d"
       ]
      },
      {
       "output_type": "stream",
       "stream": "stdout",
       "text": [
        " a g"
       ]
      },
      {
       "output_type": "stream",
       "stream": "stdout",
       "text": [
        " 742 c"
       ]
      },
      {
       "output_type": "stream",
       "stream": "stdout",
       "text": [
        " d"
       ]
      },
      {
       "output_type": "stream",
       "stream": "stdout",
       "text": [
        " a g"
       ]
      },
      {
       "output_type": "stream",
       "stream": "stdout",
       "text": [
        " 743 c"
       ]
      },
      {
       "output_type": "stream",
       "stream": "stdout",
       "text": [
        " d"
       ]
      },
      {
       "output_type": "stream",
       "stream": "stdout",
       "text": [
        " a g"
       ]
      },
      {
       "output_type": "stream",
       "stream": "stdout",
       "text": [
        " 744 c"
       ]
      },
      {
       "output_type": "stream",
       "stream": "stdout",
       "text": [
        " d"
       ]
      },
      {
       "output_type": "stream",
       "stream": "stdout",
       "text": [
        " a g"
       ]
      },
      {
       "output_type": "stream",
       "stream": "stdout",
       "text": [
        " 745 c"
       ]
      },
      {
       "output_type": "stream",
       "stream": "stdout",
       "text": [
        " d"
       ]
      },
      {
       "output_type": "stream",
       "stream": "stdout",
       "text": [
        " a g"
       ]
      },
      {
       "output_type": "stream",
       "stream": "stdout",
       "text": [
        " 746 c"
       ]
      },
      {
       "output_type": "stream",
       "stream": "stdout",
       "text": [
        " d"
       ]
      },
      {
       "output_type": "stream",
       "stream": "stdout",
       "text": [
        " a g"
       ]
      },
      {
       "output_type": "stream",
       "stream": "stdout",
       "text": [
        " 747 c"
       ]
      },
      {
       "output_type": "stream",
       "stream": "stdout",
       "text": [
        " d"
       ]
      },
      {
       "output_type": "stream",
       "stream": "stdout",
       "text": [
        " a g"
       ]
      },
      {
       "output_type": "stream",
       "stream": "stdout",
       "text": [
        " 748 c"
       ]
      },
      {
       "output_type": "stream",
       "stream": "stdout",
       "text": [
        " d"
       ]
      },
      {
       "output_type": "stream",
       "stream": "stdout",
       "text": [
        " a g"
       ]
      },
      {
       "output_type": "stream",
       "stream": "stdout",
       "text": [
        " 749 c"
       ]
      },
      {
       "output_type": "stream",
       "stream": "stdout",
       "text": [
        " d"
       ]
      },
      {
       "output_type": "stream",
       "stream": "stdout",
       "text": [
        " a g"
       ]
      },
      {
       "output_type": "stream",
       "stream": "stdout",
       "text": [
        " 750 c"
       ]
      },
      {
       "output_type": "stream",
       "stream": "stdout",
       "text": [
        " d"
       ]
      },
      {
       "output_type": "stream",
       "stream": "stdout",
       "text": [
        " a g"
       ]
      },
      {
       "output_type": "stream",
       "stream": "stdout",
       "text": [
        " 751 c"
       ]
      },
      {
       "output_type": "stream",
       "stream": "stdout",
       "text": [
        " d"
       ]
      },
      {
       "output_type": "stream",
       "stream": "stdout",
       "text": [
        " a g"
       ]
      },
      {
       "output_type": "stream",
       "stream": "stdout",
       "text": [
        " 752 c"
       ]
      },
      {
       "output_type": "stream",
       "stream": "stdout",
       "text": [
        " d"
       ]
      },
      {
       "output_type": "stream",
       "stream": "stdout",
       "text": [
        " a g"
       ]
      },
      {
       "output_type": "stream",
       "stream": "stdout",
       "text": [
        " 753 c"
       ]
      },
      {
       "output_type": "stream",
       "stream": "stdout",
       "text": [
        " d"
       ]
      },
      {
       "output_type": "stream",
       "stream": "stdout",
       "text": [
        " a g"
       ]
      },
      {
       "output_type": "stream",
       "stream": "stdout",
       "text": [
        " 754 c"
       ]
      },
      {
       "output_type": "stream",
       "stream": "stdout",
       "text": [
        " d"
       ]
      },
      {
       "output_type": "stream",
       "stream": "stdout",
       "text": [
        " a g"
       ]
      },
      {
       "output_type": "stream",
       "stream": "stdout",
       "text": [
        " 755 c"
       ]
      },
      {
       "output_type": "stream",
       "stream": "stdout",
       "text": [
        " d"
       ]
      },
      {
       "output_type": "stream",
       "stream": "stdout",
       "text": [
        " a g"
       ]
      },
      {
       "output_type": "stream",
       "stream": "stdout",
       "text": [
        " 756 c"
       ]
      },
      {
       "output_type": "stream",
       "stream": "stdout",
       "text": [
        " d"
       ]
      },
      {
       "output_type": "stream",
       "stream": "stdout",
       "text": [
        " a g"
       ]
      },
      {
       "output_type": "stream",
       "stream": "stdout",
       "text": [
        " 757 c"
       ]
      },
      {
       "output_type": "stream",
       "stream": "stdout",
       "text": [
        " d"
       ]
      },
      {
       "output_type": "stream",
       "stream": "stdout",
       "text": [
        " a g"
       ]
      },
      {
       "output_type": "stream",
       "stream": "stdout",
       "text": [
        " 758 c"
       ]
      },
      {
       "output_type": "stream",
       "stream": "stdout",
       "text": [
        " d"
       ]
      },
      {
       "output_type": "stream",
       "stream": "stdout",
       "text": [
        " a g"
       ]
      },
      {
       "output_type": "stream",
       "stream": "stdout",
       "text": [
        " 759 c"
       ]
      },
      {
       "output_type": "stream",
       "stream": "stdout",
       "text": [
        " d"
       ]
      },
      {
       "output_type": "stream",
       "stream": "stdout",
       "text": [
        " a g"
       ]
      },
      {
       "output_type": "stream",
       "stream": "stdout",
       "text": [
        " 760 c"
       ]
      },
      {
       "output_type": "stream",
       "stream": "stdout",
       "text": [
        " d"
       ]
      },
      {
       "output_type": "stream",
       "stream": "stdout",
       "text": [
        " a g"
       ]
      },
      {
       "output_type": "stream",
       "stream": "stdout",
       "text": [
        " 761 c"
       ]
      },
      {
       "output_type": "stream",
       "stream": "stdout",
       "text": [
        " d"
       ]
      },
      {
       "output_type": "stream",
       "stream": "stdout",
       "text": [
        " a g"
       ]
      },
      {
       "output_type": "stream",
       "stream": "stdout",
       "text": [
        " 762 c"
       ]
      },
      {
       "output_type": "stream",
       "stream": "stdout",
       "text": [
        " d"
       ]
      },
      {
       "output_type": "stream",
       "stream": "stdout",
       "text": [
        " a g"
       ]
      },
      {
       "output_type": "stream",
       "stream": "stdout",
       "text": [
        " 763 c"
       ]
      },
      {
       "output_type": "stream",
       "stream": "stdout",
       "text": [
        " d"
       ]
      },
      {
       "output_type": "stream",
       "stream": "stdout",
       "text": [
        " a g"
       ]
      },
      {
       "output_type": "stream",
       "stream": "stdout",
       "text": [
        " 764 c"
       ]
      },
      {
       "output_type": "stream",
       "stream": "stdout",
       "text": [
        " d"
       ]
      },
      {
       "output_type": "stream",
       "stream": "stdout",
       "text": [
        " a g"
       ]
      },
      {
       "output_type": "stream",
       "stream": "stdout",
       "text": [
        " 765 c"
       ]
      },
      {
       "output_type": "stream",
       "stream": "stdout",
       "text": [
        " d"
       ]
      },
      {
       "output_type": "stream",
       "stream": "stdout",
       "text": [
        " a g"
       ]
      },
      {
       "output_type": "stream",
       "stream": "stdout",
       "text": [
        " 766 c"
       ]
      },
      {
       "output_type": "stream",
       "stream": "stdout",
       "text": [
        " d"
       ]
      },
      {
       "output_type": "stream",
       "stream": "stdout",
       "text": [
        " a g"
       ]
      },
      {
       "output_type": "stream",
       "stream": "stdout",
       "text": [
        " 767 c"
       ]
      },
      {
       "output_type": "stream",
       "stream": "stdout",
       "text": [
        " d"
       ]
      },
      {
       "output_type": "stream",
       "stream": "stdout",
       "text": [
        " a g"
       ]
      },
      {
       "output_type": "stream",
       "stream": "stdout",
       "text": [
        " 768 c"
       ]
      },
      {
       "output_type": "stream",
       "stream": "stdout",
       "text": [
        " d"
       ]
      },
      {
       "output_type": "stream",
       "stream": "stdout",
       "text": [
        " a g"
       ]
      },
      {
       "output_type": "stream",
       "stream": "stdout",
       "text": [
        " 769 c"
       ]
      },
      {
       "output_type": "stream",
       "stream": "stdout",
       "text": [
        " d"
       ]
      },
      {
       "output_type": "stream",
       "stream": "stdout",
       "text": [
        " a g"
       ]
      },
      {
       "output_type": "stream",
       "stream": "stdout",
       "text": [
        " 770 c"
       ]
      },
      {
       "output_type": "stream",
       "stream": "stdout",
       "text": [
        " d"
       ]
      },
      {
       "output_type": "stream",
       "stream": "stdout",
       "text": [
        " a g"
       ]
      },
      {
       "output_type": "stream",
       "stream": "stdout",
       "text": [
        " 771 c"
       ]
      },
      {
       "output_type": "stream",
       "stream": "stdout",
       "text": [
        " d"
       ]
      },
      {
       "output_type": "stream",
       "stream": "stdout",
       "text": [
        " a g"
       ]
      },
      {
       "output_type": "stream",
       "stream": "stdout",
       "text": [
        " 772 c"
       ]
      },
      {
       "output_type": "stream",
       "stream": "stdout",
       "text": [
        " d"
       ]
      },
      {
       "output_type": "stream",
       "stream": "stdout",
       "text": [
        " a g"
       ]
      },
      {
       "output_type": "stream",
       "stream": "stdout",
       "text": [
        " 773 c"
       ]
      },
      {
       "output_type": "stream",
       "stream": "stdout",
       "text": [
        " d"
       ]
      },
      {
       "output_type": "stream",
       "stream": "stdout",
       "text": [
        " a g"
       ]
      },
      {
       "output_type": "stream",
       "stream": "stdout",
       "text": [
        " 774 c"
       ]
      },
      {
       "output_type": "stream",
       "stream": "stdout",
       "text": [
        " d"
       ]
      },
      {
       "output_type": "stream",
       "stream": "stdout",
       "text": [
        " a g"
       ]
      },
      {
       "output_type": "stream",
       "stream": "stdout",
       "text": [
        " 775 c"
       ]
      },
      {
       "output_type": "stream",
       "stream": "stdout",
       "text": [
        " d"
       ]
      },
      {
       "output_type": "stream",
       "stream": "stdout",
       "text": [
        " a g"
       ]
      },
      {
       "output_type": "stream",
       "stream": "stdout",
       "text": [
        " 776 c"
       ]
      },
      {
       "output_type": "stream",
       "stream": "stdout",
       "text": [
        " d"
       ]
      },
      {
       "output_type": "stream",
       "stream": "stdout",
       "text": [
        " a g"
       ]
      },
      {
       "output_type": "stream",
       "stream": "stdout",
       "text": [
        " 777 c"
       ]
      },
      {
       "output_type": "stream",
       "stream": "stdout",
       "text": [
        " d"
       ]
      },
      {
       "output_type": "stream",
       "stream": "stdout",
       "text": [
        " a g"
       ]
      },
      {
       "output_type": "stream",
       "stream": "stdout",
       "text": [
        " 778 c"
       ]
      },
      {
       "output_type": "stream",
       "stream": "stdout",
       "text": [
        " d"
       ]
      },
      {
       "output_type": "stream",
       "stream": "stdout",
       "text": [
        " a g"
       ]
      },
      {
       "output_type": "stream",
       "stream": "stdout",
       "text": [
        " 779 c"
       ]
      },
      {
       "output_type": "stream",
       "stream": "stdout",
       "text": [
        " d"
       ]
      },
      {
       "output_type": "stream",
       "stream": "stdout",
       "text": [
        " a g"
       ]
      },
      {
       "output_type": "stream",
       "stream": "stdout",
       "text": [
        " 780 c"
       ]
      },
      {
       "output_type": "stream",
       "stream": "stdout",
       "text": [
        " d"
       ]
      },
      {
       "output_type": "stream",
       "stream": "stdout",
       "text": [
        " a g"
       ]
      },
      {
       "output_type": "stream",
       "stream": "stdout",
       "text": [
        " 781 c"
       ]
      },
      {
       "output_type": "stream",
       "stream": "stdout",
       "text": [
        " d"
       ]
      },
      {
       "output_type": "stream",
       "stream": "stdout",
       "text": [
        " a g"
       ]
      },
      {
       "output_type": "stream",
       "stream": "stdout",
       "text": [
        " 782 c"
       ]
      },
      {
       "output_type": "stream",
       "stream": "stdout",
       "text": [
        " d"
       ]
      },
      {
       "output_type": "stream",
       "stream": "stdout",
       "text": [
        " a g"
       ]
      },
      {
       "output_type": "stream",
       "stream": "stdout",
       "text": [
        " 783 c"
       ]
      },
      {
       "output_type": "stream",
       "stream": "stdout",
       "text": [
        " d"
       ]
      },
      {
       "output_type": "stream",
       "stream": "stdout",
       "text": [
        " a g"
       ]
      },
      {
       "output_type": "stream",
       "stream": "stdout",
       "text": [
        " 784 c"
       ]
      },
      {
       "output_type": "stream",
       "stream": "stdout",
       "text": [
        " d"
       ]
      },
      {
       "output_type": "stream",
       "stream": "stdout",
       "text": [
        " a g"
       ]
      },
      {
       "output_type": "stream",
       "stream": "stdout",
       "text": [
        " 785 c"
       ]
      },
      {
       "output_type": "stream",
       "stream": "stdout",
       "text": [
        " d"
       ]
      },
      {
       "output_type": "stream",
       "stream": "stdout",
       "text": [
        " a g"
       ]
      },
      {
       "output_type": "stream",
       "stream": "stdout",
       "text": [
        " 786 c"
       ]
      },
      {
       "output_type": "stream",
       "stream": "stdout",
       "text": [
        " d"
       ]
      },
      {
       "output_type": "stream",
       "stream": "stdout",
       "text": [
        " a g"
       ]
      },
      {
       "output_type": "stream",
       "stream": "stdout",
       "text": [
        " 787 c"
       ]
      },
      {
       "output_type": "stream",
       "stream": "stdout",
       "text": [
        " d"
       ]
      },
      {
       "output_type": "stream",
       "stream": "stdout",
       "text": [
        " a g"
       ]
      },
      {
       "output_type": "stream",
       "stream": "stdout",
       "text": [
        " 788 c"
       ]
      },
      {
       "output_type": "stream",
       "stream": "stdout",
       "text": [
        " d"
       ]
      },
      {
       "output_type": "stream",
       "stream": "stdout",
       "text": [
        " a g"
       ]
      },
      {
       "output_type": "stream",
       "stream": "stdout",
       "text": [
        " 789 c"
       ]
      },
      {
       "output_type": "stream",
       "stream": "stdout",
       "text": [
        " d"
       ]
      },
      {
       "output_type": "stream",
       "stream": "stdout",
       "text": [
        " a g"
       ]
      },
      {
       "output_type": "stream",
       "stream": "stdout",
       "text": [
        " 790 c"
       ]
      },
      {
       "output_type": "stream",
       "stream": "stdout",
       "text": [
        " d"
       ]
      },
      {
       "output_type": "stream",
       "stream": "stdout",
       "text": [
        " a g"
       ]
      },
      {
       "output_type": "stream",
       "stream": "stdout",
       "text": [
        " 791 c"
       ]
      },
      {
       "output_type": "stream",
       "stream": "stdout",
       "text": [
        " d"
       ]
      },
      {
       "output_type": "stream",
       "stream": "stdout",
       "text": [
        " a g"
       ]
      },
      {
       "output_type": "stream",
       "stream": "stdout",
       "text": [
        " 792 c"
       ]
      },
      {
       "output_type": "stream",
       "stream": "stdout",
       "text": [
        " d"
       ]
      },
      {
       "output_type": "stream",
       "stream": "stdout",
       "text": [
        " a g"
       ]
      },
      {
       "output_type": "stream",
       "stream": "stdout",
       "text": [
        " 793 c"
       ]
      },
      {
       "output_type": "stream",
       "stream": "stdout",
       "text": [
        " d"
       ]
      },
      {
       "output_type": "stream",
       "stream": "stdout",
       "text": [
        " a g"
       ]
      },
      {
       "output_type": "stream",
       "stream": "stdout",
       "text": [
        " 794 c"
       ]
      },
      {
       "output_type": "stream",
       "stream": "stdout",
       "text": [
        " d"
       ]
      },
      {
       "output_type": "stream",
       "stream": "stdout",
       "text": [
        " a g"
       ]
      },
      {
       "output_type": "stream",
       "stream": "stdout",
       "text": [
        " 795 c"
       ]
      },
      {
       "output_type": "stream",
       "stream": "stdout",
       "text": [
        " d"
       ]
      },
      {
       "output_type": "stream",
       "stream": "stdout",
       "text": [
        " a g"
       ]
      },
      {
       "output_type": "stream",
       "stream": "stdout",
       "text": [
        " 796 c"
       ]
      },
      {
       "output_type": "stream",
       "stream": "stdout",
       "text": [
        " d"
       ]
      },
      {
       "output_type": "stream",
       "stream": "stdout",
       "text": [
        " a g"
       ]
      },
      {
       "output_type": "stream",
       "stream": "stdout",
       "text": [
        " 797 c"
       ]
      },
      {
       "output_type": "stream",
       "stream": "stdout",
       "text": [
        " d"
       ]
      },
      {
       "output_type": "stream",
       "stream": "stdout",
       "text": [
        " a g"
       ]
      },
      {
       "output_type": "stream",
       "stream": "stdout",
       "text": [
        " 798 c"
       ]
      },
      {
       "output_type": "stream",
       "stream": "stdout",
       "text": [
        " d"
       ]
      },
      {
       "output_type": "stream",
       "stream": "stdout",
       "text": [
        " a g"
       ]
      },
      {
       "output_type": "stream",
       "stream": "stdout",
       "text": [
        " 799 c"
       ]
      },
      {
       "output_type": "stream",
       "stream": "stdout",
       "text": [
        " d"
       ]
      },
      {
       "output_type": "stream",
       "stream": "stdout",
       "text": [
        " a g"
       ]
      },
      {
       "output_type": "stream",
       "stream": "stdout",
       "text": [
        " 800 c"
       ]
      },
      {
       "output_type": "stream",
       "stream": "stdout",
       "text": [
        " d"
       ]
      },
      {
       "output_type": "stream",
       "stream": "stdout",
       "text": [
        " a g"
       ]
      },
      {
       "output_type": "stream",
       "stream": "stdout",
       "text": [
        " 801 c"
       ]
      },
      {
       "output_type": "stream",
       "stream": "stdout",
       "text": [
        " d"
       ]
      },
      {
       "output_type": "stream",
       "stream": "stdout",
       "text": [
        " a g"
       ]
      },
      {
       "output_type": "stream",
       "stream": "stdout",
       "text": [
        " 802 c"
       ]
      },
      {
       "output_type": "stream",
       "stream": "stdout",
       "text": [
        " d"
       ]
      },
      {
       "output_type": "stream",
       "stream": "stdout",
       "text": [
        " a g"
       ]
      },
      {
       "output_type": "stream",
       "stream": "stdout",
       "text": [
        " 803 c"
       ]
      },
      {
       "output_type": "stream",
       "stream": "stdout",
       "text": [
        " d"
       ]
      },
      {
       "output_type": "stream",
       "stream": "stdout",
       "text": [
        " a g"
       ]
      },
      {
       "output_type": "stream",
       "stream": "stdout",
       "text": [
        " 804 c"
       ]
      },
      {
       "output_type": "stream",
       "stream": "stdout",
       "text": [
        " d"
       ]
      },
      {
       "output_type": "stream",
       "stream": "stdout",
       "text": [
        " a g"
       ]
      },
      {
       "output_type": "stream",
       "stream": "stdout",
       "text": [
        " 805 c"
       ]
      },
      {
       "output_type": "stream",
       "stream": "stdout",
       "text": [
        " d"
       ]
      },
      {
       "output_type": "stream",
       "stream": "stdout",
       "text": [
        " a g"
       ]
      },
      {
       "output_type": "stream",
       "stream": "stdout",
       "text": [
        " 806 c"
       ]
      },
      {
       "output_type": "stream",
       "stream": "stdout",
       "text": [
        " d"
       ]
      },
      {
       "output_type": "stream",
       "stream": "stdout",
       "text": [
        " a g"
       ]
      },
      {
       "output_type": "stream",
       "stream": "stdout",
       "text": [
        " 807 c"
       ]
      },
      {
       "output_type": "stream",
       "stream": "stdout",
       "text": [
        " d"
       ]
      },
      {
       "output_type": "stream",
       "stream": "stdout",
       "text": [
        " a g"
       ]
      },
      {
       "output_type": "stream",
       "stream": "stdout",
       "text": [
        " 808 c"
       ]
      },
      {
       "output_type": "stream",
       "stream": "stdout",
       "text": [
        " d"
       ]
      },
      {
       "output_type": "stream",
       "stream": "stdout",
       "text": [
        " a g"
       ]
      },
      {
       "output_type": "stream",
       "stream": "stdout",
       "text": [
        " 809 c"
       ]
      },
      {
       "output_type": "stream",
       "stream": "stdout",
       "text": [
        " d"
       ]
      },
      {
       "output_type": "stream",
       "stream": "stdout",
       "text": [
        " a g"
       ]
      },
      {
       "output_type": "stream",
       "stream": "stdout",
       "text": [
        " 810 c"
       ]
      },
      {
       "output_type": "stream",
       "stream": "stdout",
       "text": [
        " d"
       ]
      },
      {
       "output_type": "stream",
       "stream": "stdout",
       "text": [
        " a g"
       ]
      },
      {
       "output_type": "stream",
       "stream": "stdout",
       "text": [
        " 811 c"
       ]
      },
      {
       "output_type": "stream",
       "stream": "stdout",
       "text": [
        " d"
       ]
      },
      {
       "output_type": "stream",
       "stream": "stdout",
       "text": [
        " a g"
       ]
      },
      {
       "output_type": "stream",
       "stream": "stdout",
       "text": [
        " 812 c"
       ]
      },
      {
       "output_type": "stream",
       "stream": "stdout",
       "text": [
        " d"
       ]
      },
      {
       "output_type": "stream",
       "stream": "stdout",
       "text": [
        " a g"
       ]
      },
      {
       "output_type": "stream",
       "stream": "stdout",
       "text": [
        " 813 c"
       ]
      },
      {
       "output_type": "stream",
       "stream": "stdout",
       "text": [
        " d"
       ]
      },
      {
       "output_type": "stream",
       "stream": "stdout",
       "text": [
        " a g"
       ]
      },
      {
       "output_type": "stream",
       "stream": "stdout",
       "text": [
        " 814 c"
       ]
      },
      {
       "output_type": "stream",
       "stream": "stdout",
       "text": [
        " d"
       ]
      },
      {
       "output_type": "stream",
       "stream": "stdout",
       "text": [
        " a g"
       ]
      },
      {
       "output_type": "stream",
       "stream": "stdout",
       "text": [
        " 815 c"
       ]
      },
      {
       "output_type": "stream",
       "stream": "stdout",
       "text": [
        " d"
       ]
      },
      {
       "output_type": "stream",
       "stream": "stdout",
       "text": [
        " a g"
       ]
      },
      {
       "output_type": "stream",
       "stream": "stdout",
       "text": [
        " 816 c"
       ]
      },
      {
       "output_type": "stream",
       "stream": "stdout",
       "text": [
        " d"
       ]
      },
      {
       "output_type": "stream",
       "stream": "stdout",
       "text": [
        " a g"
       ]
      },
      {
       "output_type": "stream",
       "stream": "stdout",
       "text": [
        " 817 c"
       ]
      },
      {
       "output_type": "stream",
       "stream": "stdout",
       "text": [
        " d"
       ]
      },
      {
       "output_type": "stream",
       "stream": "stdout",
       "text": [
        " a g"
       ]
      },
      {
       "output_type": "stream",
       "stream": "stdout",
       "text": [
        " 818 c"
       ]
      },
      {
       "output_type": "stream",
       "stream": "stdout",
       "text": [
        " d"
       ]
      },
      {
       "output_type": "stream",
       "stream": "stdout",
       "text": [
        " a g"
       ]
      },
      {
       "output_type": "stream",
       "stream": "stdout",
       "text": [
        " 819 c"
       ]
      },
      {
       "output_type": "stream",
       "stream": "stdout",
       "text": [
        " d"
       ]
      },
      {
       "output_type": "stream",
       "stream": "stdout",
       "text": [
        " a g"
       ]
      },
      {
       "output_type": "stream",
       "stream": "stdout",
       "text": [
        " 820 c"
       ]
      },
      {
       "output_type": "stream",
       "stream": "stdout",
       "text": [
        " d"
       ]
      },
      {
       "output_type": "stream",
       "stream": "stdout",
       "text": [
        " a g"
       ]
      },
      {
       "output_type": "stream",
       "stream": "stdout",
       "text": [
        " 821 c"
       ]
      },
      {
       "output_type": "stream",
       "stream": "stdout",
       "text": [
        " d"
       ]
      },
      {
       "output_type": "stream",
       "stream": "stdout",
       "text": [
        " a g"
       ]
      },
      {
       "output_type": "stream",
       "stream": "stdout",
       "text": [
        " 822 c"
       ]
      },
      {
       "output_type": "stream",
       "stream": "stdout",
       "text": [
        " d"
       ]
      },
      {
       "output_type": "stream",
       "stream": "stdout",
       "text": [
        " a g"
       ]
      },
      {
       "output_type": "stream",
       "stream": "stdout",
       "text": [
        " 823 c"
       ]
      },
      {
       "output_type": "stream",
       "stream": "stdout",
       "text": [
        " d"
       ]
      },
      {
       "output_type": "stream",
       "stream": "stdout",
       "text": [
        " a g"
       ]
      },
      {
       "output_type": "stream",
       "stream": "stdout",
       "text": [
        " 824 c"
       ]
      },
      {
       "output_type": "stream",
       "stream": "stdout",
       "text": [
        " d"
       ]
      },
      {
       "output_type": "stream",
       "stream": "stdout",
       "text": [
        " a g"
       ]
      },
      {
       "output_type": "stream",
       "stream": "stdout",
       "text": [
        " 825 c"
       ]
      },
      {
       "output_type": "stream",
       "stream": "stdout",
       "text": [
        " d"
       ]
      },
      {
       "output_type": "stream",
       "stream": "stdout",
       "text": [
        " a g"
       ]
      },
      {
       "output_type": "stream",
       "stream": "stdout",
       "text": [
        " 826 c"
       ]
      },
      {
       "output_type": "stream",
       "stream": "stdout",
       "text": [
        " d"
       ]
      },
      {
       "output_type": "stream",
       "stream": "stdout",
       "text": [
        " a g"
       ]
      },
      {
       "output_type": "stream",
       "stream": "stdout",
       "text": [
        " 827 c"
       ]
      },
      {
       "output_type": "stream",
       "stream": "stdout",
       "text": [
        " d"
       ]
      },
      {
       "output_type": "stream",
       "stream": "stdout",
       "text": [
        " a g"
       ]
      },
      {
       "output_type": "stream",
       "stream": "stdout",
       "text": [
        " 828 c"
       ]
      },
      {
       "output_type": "stream",
       "stream": "stdout",
       "text": [
        " d"
       ]
      },
      {
       "output_type": "stream",
       "stream": "stdout",
       "text": [
        " a g"
       ]
      },
      {
       "output_type": "stream",
       "stream": "stdout",
       "text": [
        " 829 c"
       ]
      },
      {
       "output_type": "stream",
       "stream": "stdout",
       "text": [
        " d"
       ]
      },
      {
       "output_type": "stream",
       "stream": "stdout",
       "text": [
        " a g"
       ]
      },
      {
       "output_type": "stream",
       "stream": "stdout",
       "text": [
        " 830 c"
       ]
      },
      {
       "output_type": "stream",
       "stream": "stdout",
       "text": [
        " d"
       ]
      },
      {
       "output_type": "stream",
       "stream": "stdout",
       "text": [
        " a g"
       ]
      },
      {
       "output_type": "stream",
       "stream": "stdout",
       "text": [
        " 831 c"
       ]
      },
      {
       "output_type": "stream",
       "stream": "stdout",
       "text": [
        " d"
       ]
      },
      {
       "output_type": "stream",
       "stream": "stdout",
       "text": [
        " a g"
       ]
      },
      {
       "output_type": "stream",
       "stream": "stdout",
       "text": [
        " 832 c"
       ]
      },
      {
       "output_type": "stream",
       "stream": "stdout",
       "text": [
        " d"
       ]
      },
      {
       "output_type": "stream",
       "stream": "stdout",
       "text": [
        " a g"
       ]
      },
      {
       "output_type": "stream",
       "stream": "stdout",
       "text": [
        " 833 c"
       ]
      },
      {
       "output_type": "stream",
       "stream": "stdout",
       "text": [
        " d"
       ]
      },
      {
       "output_type": "stream",
       "stream": "stdout",
       "text": [
        " a g"
       ]
      },
      {
       "output_type": "stream",
       "stream": "stdout",
       "text": [
        " 834 c"
       ]
      },
      {
       "output_type": "stream",
       "stream": "stdout",
       "text": [
        " d"
       ]
      },
      {
       "output_type": "stream",
       "stream": "stdout",
       "text": [
        " a g"
       ]
      },
      {
       "output_type": "stream",
       "stream": "stdout",
       "text": [
        " 835 c"
       ]
      },
      {
       "output_type": "stream",
       "stream": "stdout",
       "text": [
        " d"
       ]
      },
      {
       "output_type": "stream",
       "stream": "stdout",
       "text": [
        " a g"
       ]
      },
      {
       "output_type": "stream",
       "stream": "stdout",
       "text": [
        " 836 c"
       ]
      },
      {
       "output_type": "stream",
       "stream": "stdout",
       "text": [
        " d"
       ]
      },
      {
       "output_type": "stream",
       "stream": "stdout",
       "text": [
        " a g"
       ]
      },
      {
       "output_type": "stream",
       "stream": "stdout",
       "text": [
        " 837 c"
       ]
      },
      {
       "output_type": "stream",
       "stream": "stdout",
       "text": [
        " d"
       ]
      },
      {
       "output_type": "stream",
       "stream": "stdout",
       "text": [
        " a g"
       ]
      },
      {
       "output_type": "stream",
       "stream": "stdout",
       "text": [
        " 838 c"
       ]
      },
      {
       "output_type": "stream",
       "stream": "stdout",
       "text": [
        " d"
       ]
      },
      {
       "output_type": "stream",
       "stream": "stdout",
       "text": [
        " a g"
       ]
      },
      {
       "output_type": "stream",
       "stream": "stdout",
       "text": [
        " 839 c"
       ]
      },
      {
       "output_type": "stream",
       "stream": "stdout",
       "text": [
        " d"
       ]
      },
      {
       "output_type": "stream",
       "stream": "stdout",
       "text": [
        " a g"
       ]
      },
      {
       "output_type": "stream",
       "stream": "stdout",
       "text": [
        " 840 c"
       ]
      },
      {
       "output_type": "stream",
       "stream": "stdout",
       "text": [
        " d"
       ]
      },
      {
       "output_type": "stream",
       "stream": "stdout",
       "text": [
        " a g"
       ]
      },
      {
       "output_type": "stream",
       "stream": "stdout",
       "text": [
        " 841 c"
       ]
      },
      {
       "output_type": "stream",
       "stream": "stdout",
       "text": [
        " d"
       ]
      },
      {
       "output_type": "stream",
       "stream": "stdout",
       "text": [
        " a g"
       ]
      },
      {
       "output_type": "stream",
       "stream": "stdout",
       "text": [
        " 842 c"
       ]
      },
      {
       "output_type": "stream",
       "stream": "stdout",
       "text": [
        " d"
       ]
      },
      {
       "output_type": "stream",
       "stream": "stdout",
       "text": [
        " a g"
       ]
      },
      {
       "output_type": "stream",
       "stream": "stdout",
       "text": [
        " 843 c"
       ]
      },
      {
       "output_type": "stream",
       "stream": "stdout",
       "text": [
        " d"
       ]
      },
      {
       "output_type": "stream",
       "stream": "stdout",
       "text": [
        " a g"
       ]
      },
      {
       "output_type": "stream",
       "stream": "stdout",
       "text": [
        " 844 c"
       ]
      },
      {
       "output_type": "stream",
       "stream": "stdout",
       "text": [
        " d"
       ]
      },
      {
       "output_type": "stream",
       "stream": "stdout",
       "text": [
        " a g"
       ]
      },
      {
       "output_type": "stream",
       "stream": "stdout",
       "text": [
        " 845 c"
       ]
      },
      {
       "output_type": "stream",
       "stream": "stdout",
       "text": [
        " d"
       ]
      },
      {
       "output_type": "stream",
       "stream": "stdout",
       "text": [
        " a g"
       ]
      },
      {
       "output_type": "stream",
       "stream": "stdout",
       "text": [
        " 846 c"
       ]
      },
      {
       "output_type": "stream",
       "stream": "stdout",
       "text": [
        " d"
       ]
      },
      {
       "output_type": "stream",
       "stream": "stdout",
       "text": [
        " a g"
       ]
      },
      {
       "output_type": "stream",
       "stream": "stdout",
       "text": [
        " 847 c"
       ]
      },
      {
       "output_type": "stream",
       "stream": "stdout",
       "text": [
        " d"
       ]
      },
      {
       "output_type": "stream",
       "stream": "stdout",
       "text": [
        " a g"
       ]
      },
      {
       "output_type": "stream",
       "stream": "stdout",
       "text": [
        " 848 c"
       ]
      },
      {
       "output_type": "stream",
       "stream": "stdout",
       "text": [
        " d"
       ]
      },
      {
       "output_type": "stream",
       "stream": "stdout",
       "text": [
        " a g"
       ]
      },
      {
       "output_type": "stream",
       "stream": "stdout",
       "text": [
        " 849 c"
       ]
      },
      {
       "output_type": "stream",
       "stream": "stdout",
       "text": [
        " d"
       ]
      },
      {
       "output_type": "stream",
       "stream": "stdout",
       "text": [
        " a g"
       ]
      },
      {
       "output_type": "stream",
       "stream": "stdout",
       "text": [
        " 850 c"
       ]
      },
      {
       "output_type": "stream",
       "stream": "stdout",
       "text": [
        " d"
       ]
      },
      {
       "output_type": "stream",
       "stream": "stdout",
       "text": [
        " a g"
       ]
      },
      {
       "output_type": "stream",
       "stream": "stdout",
       "text": [
        " 851 c"
       ]
      },
      {
       "output_type": "stream",
       "stream": "stdout",
       "text": [
        " d"
       ]
      },
      {
       "output_type": "stream",
       "stream": "stdout",
       "text": [
        " a g"
       ]
      },
      {
       "output_type": "stream",
       "stream": "stdout",
       "text": [
        " 852 c"
       ]
      },
      {
       "output_type": "stream",
       "stream": "stdout",
       "text": [
        " d"
       ]
      },
      {
       "output_type": "stream",
       "stream": "stdout",
       "text": [
        " a g"
       ]
      },
      {
       "output_type": "stream",
       "stream": "stdout",
       "text": [
        " 853 c"
       ]
      },
      {
       "output_type": "stream",
       "stream": "stdout",
       "text": [
        " d"
       ]
      },
      {
       "output_type": "stream",
       "stream": "stdout",
       "text": [
        " a g"
       ]
      },
      {
       "output_type": "stream",
       "stream": "stdout",
       "text": [
        " 854 c"
       ]
      },
      {
       "output_type": "stream",
       "stream": "stdout",
       "text": [
        " d"
       ]
      },
      {
       "output_type": "stream",
       "stream": "stdout",
       "text": [
        " a g"
       ]
      },
      {
       "output_type": "stream",
       "stream": "stdout",
       "text": [
        " 855 c"
       ]
      },
      {
       "output_type": "stream",
       "stream": "stdout",
       "text": [
        " d"
       ]
      },
      {
       "output_type": "stream",
       "stream": "stdout",
       "text": [
        " a g"
       ]
      },
      {
       "output_type": "stream",
       "stream": "stdout",
       "text": [
        " 856 c"
       ]
      },
      {
       "output_type": "stream",
       "stream": "stdout",
       "text": [
        " d"
       ]
      },
      {
       "output_type": "stream",
       "stream": "stdout",
       "text": [
        " a g"
       ]
      },
      {
       "output_type": "stream",
       "stream": "stdout",
       "text": [
        " 857 c"
       ]
      },
      {
       "output_type": "stream",
       "stream": "stdout",
       "text": [
        " d"
       ]
      },
      {
       "output_type": "stream",
       "stream": "stdout",
       "text": [
        " a g"
       ]
      },
      {
       "output_type": "stream",
       "stream": "stdout",
       "text": [
        " 858 c"
       ]
      },
      {
       "output_type": "stream",
       "stream": "stdout",
       "text": [
        " d"
       ]
      },
      {
       "output_type": "stream",
       "stream": "stdout",
       "text": [
        " a g"
       ]
      },
      {
       "output_type": "stream",
       "stream": "stdout",
       "text": [
        " 859 c"
       ]
      },
      {
       "output_type": "stream",
       "stream": "stdout",
       "text": [
        " d"
       ]
      },
      {
       "output_type": "stream",
       "stream": "stdout",
       "text": [
        " a g"
       ]
      },
      {
       "output_type": "stream",
       "stream": "stdout",
       "text": [
        " 860 c"
       ]
      },
      {
       "output_type": "stream",
       "stream": "stdout",
       "text": [
        " d"
       ]
      },
      {
       "output_type": "stream",
       "stream": "stdout",
       "text": [
        " a g"
       ]
      },
      {
       "output_type": "stream",
       "stream": "stdout",
       "text": [
        " 861 c"
       ]
      },
      {
       "output_type": "stream",
       "stream": "stdout",
       "text": [
        " d"
       ]
      },
      {
       "output_type": "stream",
       "stream": "stdout",
       "text": [
        " a g"
       ]
      },
      {
       "output_type": "stream",
       "stream": "stdout",
       "text": [
        " 862 c"
       ]
      },
      {
       "output_type": "stream",
       "stream": "stdout",
       "text": [
        " d"
       ]
      },
      {
       "output_type": "stream",
       "stream": "stdout",
       "text": [
        " a g"
       ]
      },
      {
       "output_type": "stream",
       "stream": "stdout",
       "text": [
        " 863 c"
       ]
      },
      {
       "output_type": "stream",
       "stream": "stdout",
       "text": [
        " d"
       ]
      },
      {
       "output_type": "stream",
       "stream": "stdout",
       "text": [
        " a g"
       ]
      },
      {
       "output_type": "stream",
       "stream": "stdout",
       "text": [
        " 864 c"
       ]
      },
      {
       "output_type": "stream",
       "stream": "stdout",
       "text": [
        " d"
       ]
      },
      {
       "output_type": "stream",
       "stream": "stdout",
       "text": [
        " a g"
       ]
      },
      {
       "output_type": "stream",
       "stream": "stdout",
       "text": [
        " 865 c"
       ]
      },
      {
       "output_type": "stream",
       "stream": "stdout",
       "text": [
        " d"
       ]
      },
      {
       "output_type": "stream",
       "stream": "stdout",
       "text": [
        " a g"
       ]
      },
      {
       "output_type": "stream",
       "stream": "stdout",
       "text": [
        " 866 c"
       ]
      },
      {
       "output_type": "stream",
       "stream": "stdout",
       "text": [
        " d"
       ]
      },
      {
       "output_type": "stream",
       "stream": "stdout",
       "text": [
        " a g"
       ]
      },
      {
       "output_type": "stream",
       "stream": "stdout",
       "text": [
        " 867 c"
       ]
      },
      {
       "output_type": "stream",
       "stream": "stdout",
       "text": [
        " d"
       ]
      },
      {
       "output_type": "stream",
       "stream": "stdout",
       "text": [
        " a g"
       ]
      },
      {
       "output_type": "stream",
       "stream": "stdout",
       "text": [
        " 868 c"
       ]
      },
      {
       "output_type": "stream",
       "stream": "stdout",
       "text": [
        " d"
       ]
      },
      {
       "output_type": "stream",
       "stream": "stdout",
       "text": [
        " a g"
       ]
      },
      {
       "output_type": "stream",
       "stream": "stdout",
       "text": [
        " 869 c"
       ]
      },
      {
       "output_type": "stream",
       "stream": "stdout",
       "text": [
        " d"
       ]
      },
      {
       "output_type": "stream",
       "stream": "stdout",
       "text": [
        " a g"
       ]
      },
      {
       "output_type": "stream",
       "stream": "stdout",
       "text": [
        " 870 c"
       ]
      },
      {
       "output_type": "stream",
       "stream": "stdout",
       "text": [
        " d"
       ]
      },
      {
       "output_type": "stream",
       "stream": "stdout",
       "text": [
        " a g"
       ]
      },
      {
       "output_type": "stream",
       "stream": "stdout",
       "text": [
        " 871 c"
       ]
      },
      {
       "output_type": "stream",
       "stream": "stdout",
       "text": [
        " d"
       ]
      },
      {
       "output_type": "stream",
       "stream": "stdout",
       "text": [
        " a g"
       ]
      },
      {
       "output_type": "stream",
       "stream": "stdout",
       "text": [
        " 872 c"
       ]
      },
      {
       "output_type": "stream",
       "stream": "stdout",
       "text": [
        " d"
       ]
      },
      {
       "output_type": "stream",
       "stream": "stdout",
       "text": [
        " a g"
       ]
      },
      {
       "output_type": "stream",
       "stream": "stdout",
       "text": [
        " 873 c"
       ]
      },
      {
       "output_type": "stream",
       "stream": "stdout",
       "text": [
        " d"
       ]
      },
      {
       "output_type": "stream",
       "stream": "stdout",
       "text": [
        " a g"
       ]
      },
      {
       "output_type": "stream",
       "stream": "stdout",
       "text": [
        " 874 c"
       ]
      },
      {
       "output_type": "stream",
       "stream": "stdout",
       "text": [
        " d"
       ]
      },
      {
       "output_type": "stream",
       "stream": "stdout",
       "text": [
        " a g"
       ]
      },
      {
       "output_type": "stream",
       "stream": "stdout",
       "text": [
        " 875 c"
       ]
      },
      {
       "output_type": "stream",
       "stream": "stdout",
       "text": [
        " d"
       ]
      },
      {
       "output_type": "stream",
       "stream": "stdout",
       "text": [
        " a g"
       ]
      },
      {
       "output_type": "stream",
       "stream": "stdout",
       "text": [
        " 876 c"
       ]
      },
      {
       "output_type": "stream",
       "stream": "stdout",
       "text": [
        " d"
       ]
      },
      {
       "output_type": "stream",
       "stream": "stdout",
       "text": [
        " a g"
       ]
      },
      {
       "output_type": "stream",
       "stream": "stdout",
       "text": [
        " 877 c"
       ]
      },
      {
       "output_type": "stream",
       "stream": "stdout",
       "text": [
        " d"
       ]
      },
      {
       "output_type": "stream",
       "stream": "stdout",
       "text": [
        " a g"
       ]
      },
      {
       "output_type": "stream",
       "stream": "stdout",
       "text": [
        " 878 c"
       ]
      },
      {
       "output_type": "stream",
       "stream": "stdout",
       "text": [
        " d"
       ]
      },
      {
       "output_type": "stream",
       "stream": "stdout",
       "text": [
        " a g"
       ]
      },
      {
       "output_type": "stream",
       "stream": "stdout",
       "text": [
        " 879 c"
       ]
      },
      {
       "output_type": "stream",
       "stream": "stdout",
       "text": [
        " d"
       ]
      },
      {
       "output_type": "stream",
       "stream": "stdout",
       "text": [
        " a g"
       ]
      },
      {
       "output_type": "stream",
       "stream": "stdout",
       "text": [
        " 880 c"
       ]
      },
      {
       "output_type": "stream",
       "stream": "stdout",
       "text": [
        " d"
       ]
      },
      {
       "output_type": "stream",
       "stream": "stdout",
       "text": [
        " a g"
       ]
      },
      {
       "output_type": "stream",
       "stream": "stdout",
       "text": [
        " 881 c"
       ]
      },
      {
       "output_type": "stream",
       "stream": "stdout",
       "text": [
        " d"
       ]
      },
      {
       "output_type": "stream",
       "stream": "stdout",
       "text": [
        " a g"
       ]
      },
      {
       "output_type": "stream",
       "stream": "stdout",
       "text": [
        " 882 c"
       ]
      },
      {
       "output_type": "stream",
       "stream": "stdout",
       "text": [
        " d"
       ]
      },
      {
       "output_type": "stream",
       "stream": "stdout",
       "text": [
        " a g"
       ]
      },
      {
       "output_type": "stream",
       "stream": "stdout",
       "text": [
        " 883 c"
       ]
      },
      {
       "output_type": "stream",
       "stream": "stdout",
       "text": [
        " d"
       ]
      },
      {
       "output_type": "stream",
       "stream": "stdout",
       "text": [
        " a g"
       ]
      },
      {
       "output_type": "stream",
       "stream": "stdout",
       "text": [
        " 884 c"
       ]
      },
      {
       "output_type": "stream",
       "stream": "stdout",
       "text": [
        " d"
       ]
      },
      {
       "output_type": "stream",
       "stream": "stdout",
       "text": [
        " a g"
       ]
      },
      {
       "output_type": "stream",
       "stream": "stdout",
       "text": [
        " 885 c"
       ]
      },
      {
       "output_type": "stream",
       "stream": "stdout",
       "text": [
        " d"
       ]
      },
      {
       "output_type": "stream",
       "stream": "stdout",
       "text": [
        " a g"
       ]
      },
      {
       "output_type": "stream",
       "stream": "stdout",
       "text": [
        " 886 c"
       ]
      },
      {
       "output_type": "stream",
       "stream": "stdout",
       "text": [
        " d"
       ]
      },
      {
       "output_type": "stream",
       "stream": "stdout",
       "text": [
        " a g"
       ]
      },
      {
       "output_type": "stream",
       "stream": "stdout",
       "text": [
        " 887 c"
       ]
      },
      {
       "output_type": "stream",
       "stream": "stdout",
       "text": [
        " d"
       ]
      },
      {
       "output_type": "stream",
       "stream": "stdout",
       "text": [
        " a g"
       ]
      },
      {
       "output_type": "stream",
       "stream": "stdout",
       "text": [
        " 888 c"
       ]
      },
      {
       "output_type": "stream",
       "stream": "stdout",
       "text": [
        " d"
       ]
      },
      {
       "output_type": "stream",
       "stream": "stdout",
       "text": [
        " a g"
       ]
      },
      {
       "output_type": "stream",
       "stream": "stdout",
       "text": [
        " 889 c"
       ]
      },
      {
       "output_type": "stream",
       "stream": "stdout",
       "text": [
        " d"
       ]
      },
      {
       "output_type": "stream",
       "stream": "stdout",
       "text": [
        " a g"
       ]
      },
      {
       "output_type": "stream",
       "stream": "stdout",
       "text": [
        " 890 c"
       ]
      },
      {
       "output_type": "stream",
       "stream": "stdout",
       "text": [
        " d"
       ]
      },
      {
       "output_type": "stream",
       "stream": "stdout",
       "text": [
        " a g"
       ]
      },
      {
       "output_type": "stream",
       "stream": "stdout",
       "text": [
        " 891 c"
       ]
      },
      {
       "output_type": "stream",
       "stream": "stdout",
       "text": [
        " d"
       ]
      },
      {
       "output_type": "stream",
       "stream": "stdout",
       "text": [
        " a g"
       ]
      },
      {
       "output_type": "stream",
       "stream": "stdout",
       "text": [
        " 892 c"
       ]
      },
      {
       "output_type": "stream",
       "stream": "stdout",
       "text": [
        " d"
       ]
      },
      {
       "output_type": "stream",
       "stream": "stdout",
       "text": [
        " a g"
       ]
      },
      {
       "output_type": "stream",
       "stream": "stdout",
       "text": [
        " 893 c"
       ]
      },
      {
       "output_type": "stream",
       "stream": "stdout",
       "text": [
        " d"
       ]
      },
      {
       "output_type": "stream",
       "stream": "stdout",
       "text": [
        " a g"
       ]
      },
      {
       "output_type": "stream",
       "stream": "stdout",
       "text": [
        " 894 c"
       ]
      },
      {
       "output_type": "stream",
       "stream": "stdout",
       "text": [
        " d"
       ]
      },
      {
       "output_type": "stream",
       "stream": "stdout",
       "text": [
        " a g"
       ]
      },
      {
       "output_type": "stream",
       "stream": "stdout",
       "text": [
        " 895 c"
       ]
      },
      {
       "output_type": "stream",
       "stream": "stdout",
       "text": [
        " d"
       ]
      },
      {
       "output_type": "stream",
       "stream": "stdout",
       "text": [
        " a g"
       ]
      },
      {
       "output_type": "stream",
       "stream": "stdout",
       "text": [
        " 896 c"
       ]
      },
      {
       "output_type": "stream",
       "stream": "stdout",
       "text": [
        " d"
       ]
      },
      {
       "output_type": "stream",
       "stream": "stdout",
       "text": [
        " a g"
       ]
      },
      {
       "output_type": "stream",
       "stream": "stdout",
       "text": [
        " 897 c"
       ]
      },
      {
       "output_type": "stream",
       "stream": "stdout",
       "text": [
        " d"
       ]
      },
      {
       "output_type": "stream",
       "stream": "stdout",
       "text": [
        " a g"
       ]
      },
      {
       "output_type": "stream",
       "stream": "stdout",
       "text": [
        " 898 c"
       ]
      },
      {
       "output_type": "stream",
       "stream": "stdout",
       "text": [
        " d"
       ]
      },
      {
       "output_type": "stream",
       "stream": "stdout",
       "text": [
        " a g"
       ]
      },
      {
       "output_type": "stream",
       "stream": "stdout",
       "text": [
        " 899 c"
       ]
      },
      {
       "output_type": "stream",
       "stream": "stdout",
       "text": [
        " d"
       ]
      },
      {
       "output_type": "stream",
       "stream": "stdout",
       "text": [
        " a g"
       ]
      },
      {
       "output_type": "stream",
       "stream": "stdout",
       "text": [
        " 900 c"
       ]
      },
      {
       "output_type": "stream",
       "stream": "stdout",
       "text": [
        " d"
       ]
      },
      {
       "output_type": "stream",
       "stream": "stdout",
       "text": [
        " a g"
       ]
      },
      {
       "output_type": "stream",
       "stream": "stdout",
       "text": [
        " 901 c"
       ]
      },
      {
       "output_type": "stream",
       "stream": "stdout",
       "text": [
        " d"
       ]
      },
      {
       "output_type": "stream",
       "stream": "stdout",
       "text": [
        " a g"
       ]
      },
      {
       "output_type": "stream",
       "stream": "stdout",
       "text": [
        " 902 c"
       ]
      },
      {
       "output_type": "stream",
       "stream": "stdout",
       "text": [
        " d"
       ]
      },
      {
       "output_type": "stream",
       "stream": "stdout",
       "text": [
        " a g"
       ]
      },
      {
       "output_type": "stream",
       "stream": "stdout",
       "text": [
        " 903 c"
       ]
      },
      {
       "output_type": "stream",
       "stream": "stdout",
       "text": [
        " d"
       ]
      },
      {
       "output_type": "stream",
       "stream": "stdout",
       "text": [
        " a g"
       ]
      },
      {
       "output_type": "stream",
       "stream": "stdout",
       "text": [
        " 904 c"
       ]
      },
      {
       "output_type": "stream",
       "stream": "stdout",
       "text": [
        " d"
       ]
      },
      {
       "output_type": "stream",
       "stream": "stdout",
       "text": [
        " a g"
       ]
      },
      {
       "output_type": "stream",
       "stream": "stdout",
       "text": [
        " 905 c"
       ]
      },
      {
       "output_type": "stream",
       "stream": "stdout",
       "text": [
        " d"
       ]
      },
      {
       "output_type": "stream",
       "stream": "stdout",
       "text": [
        " a g"
       ]
      },
      {
       "output_type": "stream",
       "stream": "stdout",
       "text": [
        " 906 c"
       ]
      },
      {
       "output_type": "stream",
       "stream": "stdout",
       "text": [
        " d"
       ]
      },
      {
       "output_type": "stream",
       "stream": "stdout",
       "text": [
        " a g"
       ]
      },
      {
       "output_type": "stream",
       "stream": "stdout",
       "text": [
        " 907 c"
       ]
      },
      {
       "output_type": "stream",
       "stream": "stdout",
       "text": [
        " d"
       ]
      },
      {
       "output_type": "stream",
       "stream": "stdout",
       "text": [
        " a g"
       ]
      },
      {
       "output_type": "stream",
       "stream": "stdout",
       "text": [
        " 908 c"
       ]
      },
      {
       "output_type": "stream",
       "stream": "stdout",
       "text": [
        " d"
       ]
      },
      {
       "output_type": "stream",
       "stream": "stdout",
       "text": [
        " a g"
       ]
      },
      {
       "output_type": "stream",
       "stream": "stdout",
       "text": [
        " 909 c"
       ]
      },
      {
       "output_type": "stream",
       "stream": "stdout",
       "text": [
        " d"
       ]
      },
      {
       "output_type": "stream",
       "stream": "stdout",
       "text": [
        " a g"
       ]
      },
      {
       "output_type": "stream",
       "stream": "stdout",
       "text": [
        " 910 c"
       ]
      },
      {
       "output_type": "stream",
       "stream": "stdout",
       "text": [
        " d"
       ]
      },
      {
       "output_type": "stream",
       "stream": "stdout",
       "text": [
        " a g"
       ]
      },
      {
       "output_type": "stream",
       "stream": "stdout",
       "text": [
        " 911 c"
       ]
      },
      {
       "output_type": "stream",
       "stream": "stdout",
       "text": [
        " d"
       ]
      },
      {
       "output_type": "stream",
       "stream": "stdout",
       "text": [
        " a g"
       ]
      },
      {
       "output_type": "stream",
       "stream": "stdout",
       "text": [
        " 912 c"
       ]
      },
      {
       "output_type": "stream",
       "stream": "stdout",
       "text": [
        " d"
       ]
      },
      {
       "output_type": "stream",
       "stream": "stdout",
       "text": [
        " a g"
       ]
      },
      {
       "output_type": "stream",
       "stream": "stdout",
       "text": [
        " 913 c"
       ]
      },
      {
       "output_type": "stream",
       "stream": "stdout",
       "text": [
        " d"
       ]
      },
      {
       "output_type": "stream",
       "stream": "stdout",
       "text": [
        " a g"
       ]
      },
      {
       "output_type": "stream",
       "stream": "stdout",
       "text": [
        " 914 c"
       ]
      },
      {
       "output_type": "stream",
       "stream": "stdout",
       "text": [
        " d"
       ]
      },
      {
       "output_type": "stream",
       "stream": "stdout",
       "text": [
        " a g"
       ]
      },
      {
       "output_type": "stream",
       "stream": "stdout",
       "text": [
        " 915 c"
       ]
      },
      {
       "output_type": "stream",
       "stream": "stdout",
       "text": [
        " d"
       ]
      },
      {
       "output_type": "stream",
       "stream": "stdout",
       "text": [
        " a g"
       ]
      },
      {
       "output_type": "stream",
       "stream": "stdout",
       "text": [
        " 916 c"
       ]
      },
      {
       "output_type": "stream",
       "stream": "stdout",
       "text": [
        " d"
       ]
      },
      {
       "output_type": "stream",
       "stream": "stdout",
       "text": [
        " a g"
       ]
      },
      {
       "output_type": "stream",
       "stream": "stdout",
       "text": [
        " 917 c"
       ]
      },
      {
       "output_type": "stream",
       "stream": "stdout",
       "text": [
        " d"
       ]
      },
      {
       "output_type": "stream",
       "stream": "stdout",
       "text": [
        " a g"
       ]
      },
      {
       "output_type": "stream",
       "stream": "stdout",
       "text": [
        " 918 c"
       ]
      },
      {
       "output_type": "stream",
       "stream": "stdout",
       "text": [
        " d"
       ]
      },
      {
       "output_type": "stream",
       "stream": "stdout",
       "text": [
        " a g"
       ]
      },
      {
       "output_type": "stream",
       "stream": "stdout",
       "text": [
        " 919 c"
       ]
      },
      {
       "output_type": "stream",
       "stream": "stdout",
       "text": [
        " d"
       ]
      },
      {
       "output_type": "stream",
       "stream": "stdout",
       "text": [
        " a g"
       ]
      },
      {
       "output_type": "stream",
       "stream": "stdout",
       "text": [
        " 920 c"
       ]
      },
      {
       "output_type": "stream",
       "stream": "stdout",
       "text": [
        " d"
       ]
      },
      {
       "output_type": "stream",
       "stream": "stdout",
       "text": [
        " a g"
       ]
      },
      {
       "output_type": "stream",
       "stream": "stdout",
       "text": [
        " 921 c"
       ]
      },
      {
       "output_type": "stream",
       "stream": "stdout",
       "text": [
        " d"
       ]
      },
      {
       "output_type": "stream",
       "stream": "stdout",
       "text": [
        " a g"
       ]
      },
      {
       "output_type": "stream",
       "stream": "stdout",
       "text": [
        " 922 c"
       ]
      },
      {
       "output_type": "stream",
       "stream": "stdout",
       "text": [
        " d"
       ]
      },
      {
       "output_type": "stream",
       "stream": "stdout",
       "text": [
        " a g"
       ]
      },
      {
       "output_type": "stream",
       "stream": "stdout",
       "text": [
        " 923 c"
       ]
      },
      {
       "output_type": "stream",
       "stream": "stdout",
       "text": [
        " d"
       ]
      },
      {
       "output_type": "stream",
       "stream": "stdout",
       "text": [
        " a g"
       ]
      },
      {
       "output_type": "stream",
       "stream": "stdout",
       "text": [
        " 924 c"
       ]
      },
      {
       "output_type": "stream",
       "stream": "stdout",
       "text": [
        " d"
       ]
      },
      {
       "output_type": "stream",
       "stream": "stdout",
       "text": [
        " a g"
       ]
      },
      {
       "output_type": "stream",
       "stream": "stdout",
       "text": [
        " 925 c"
       ]
      },
      {
       "output_type": "stream",
       "stream": "stdout",
       "text": [
        " d"
       ]
      },
      {
       "output_type": "stream",
       "stream": "stdout",
       "text": [
        " a g"
       ]
      },
      {
       "output_type": "stream",
       "stream": "stdout",
       "text": [
        " 926 c"
       ]
      },
      {
       "output_type": "stream",
       "stream": "stdout",
       "text": [
        " d"
       ]
      },
      {
       "output_type": "stream",
       "stream": "stdout",
       "text": [
        " a g"
       ]
      },
      {
       "output_type": "stream",
       "stream": "stdout",
       "text": [
        " 927 c"
       ]
      },
      {
       "output_type": "stream",
       "stream": "stdout",
       "text": [
        " d"
       ]
      },
      {
       "output_type": "stream",
       "stream": "stdout",
       "text": [
        " a g"
       ]
      },
      {
       "output_type": "stream",
       "stream": "stdout",
       "text": [
        " 928 c"
       ]
      },
      {
       "output_type": "stream",
       "stream": "stdout",
       "text": [
        " d"
       ]
      },
      {
       "output_type": "stream",
       "stream": "stdout",
       "text": [
        " a g"
       ]
      },
      {
       "output_type": "stream",
       "stream": "stdout",
       "text": [
        " 929 c"
       ]
      },
      {
       "output_type": "stream",
       "stream": "stdout",
       "text": [
        " d"
       ]
      },
      {
       "output_type": "stream",
       "stream": "stdout",
       "text": [
        " a g"
       ]
      },
      {
       "output_type": "stream",
       "stream": "stdout",
       "text": [
        " 930 c"
       ]
      },
      {
       "output_type": "stream",
       "stream": "stdout",
       "text": [
        " d"
       ]
      },
      {
       "output_type": "stream",
       "stream": "stdout",
       "text": [
        " a g"
       ]
      },
      {
       "output_type": "stream",
       "stream": "stdout",
       "text": [
        " 931 c"
       ]
      },
      {
       "output_type": "stream",
       "stream": "stdout",
       "text": [
        " d"
       ]
      },
      {
       "output_type": "stream",
       "stream": "stdout",
       "text": [
        " a g"
       ]
      },
      {
       "output_type": "stream",
       "stream": "stdout",
       "text": [
        " 932 c"
       ]
      },
      {
       "output_type": "stream",
       "stream": "stdout",
       "text": [
        " d"
       ]
      },
      {
       "output_type": "stream",
       "stream": "stdout",
       "text": [
        " a g"
       ]
      },
      {
       "output_type": "stream",
       "stream": "stdout",
       "text": [
        " 933 c"
       ]
      },
      {
       "output_type": "stream",
       "stream": "stdout",
       "text": [
        " d"
       ]
      },
      {
       "output_type": "stream",
       "stream": "stdout",
       "text": [
        " a g"
       ]
      },
      {
       "output_type": "stream",
       "stream": "stdout",
       "text": [
        " 934 c"
       ]
      },
      {
       "output_type": "stream",
       "stream": "stdout",
       "text": [
        " d"
       ]
      },
      {
       "output_type": "stream",
       "stream": "stdout",
       "text": [
        " a g"
       ]
      },
      {
       "output_type": "stream",
       "stream": "stdout",
       "text": [
        " 935 c"
       ]
      },
      {
       "output_type": "stream",
       "stream": "stdout",
       "text": [
        " d"
       ]
      },
      {
       "output_type": "stream",
       "stream": "stdout",
       "text": [
        " a g"
       ]
      },
      {
       "output_type": "stream",
       "stream": "stdout",
       "text": [
        " 936 c"
       ]
      },
      {
       "output_type": "stream",
       "stream": "stdout",
       "text": [
        " d"
       ]
      },
      {
       "output_type": "stream",
       "stream": "stdout",
       "text": [
        " a g"
       ]
      },
      {
       "output_type": "stream",
       "stream": "stdout",
       "text": [
        " 937 c"
       ]
      },
      {
       "output_type": "stream",
       "stream": "stdout",
       "text": [
        " d"
       ]
      },
      {
       "output_type": "stream",
       "stream": "stdout",
       "text": [
        " a g"
       ]
      },
      {
       "output_type": "stream",
       "stream": "stdout",
       "text": [
        " 938 c"
       ]
      },
      {
       "output_type": "stream",
       "stream": "stdout",
       "text": [
        " d"
       ]
      },
      {
       "output_type": "stream",
       "stream": "stdout",
       "text": [
        " a g"
       ]
      },
      {
       "output_type": "stream",
       "stream": "stdout",
       "text": [
        " 939 c"
       ]
      },
      {
       "output_type": "stream",
       "stream": "stdout",
       "text": [
        " d"
       ]
      },
      {
       "output_type": "stream",
       "stream": "stdout",
       "text": [
        " a g"
       ]
      },
      {
       "output_type": "stream",
       "stream": "stdout",
       "text": [
        " 940 c"
       ]
      },
      {
       "output_type": "stream",
       "stream": "stdout",
       "text": [
        " d"
       ]
      },
      {
       "output_type": "stream",
       "stream": "stdout",
       "text": [
        " a g"
       ]
      },
      {
       "output_type": "stream",
       "stream": "stdout",
       "text": [
        " 941 c"
       ]
      },
      {
       "output_type": "stream",
       "stream": "stdout",
       "text": [
        " d"
       ]
      },
      {
       "output_type": "stream",
       "stream": "stdout",
       "text": [
        " a g"
       ]
      },
      {
       "output_type": "stream",
       "stream": "stdout",
       "text": [
        " 942 c"
       ]
      },
      {
       "output_type": "stream",
       "stream": "stdout",
       "text": [
        " d"
       ]
      },
      {
       "output_type": "stream",
       "stream": "stdout",
       "text": [
        " a g"
       ]
      },
      {
       "output_type": "stream",
       "stream": "stdout",
       "text": [
        " 943 c"
       ]
      },
      {
       "output_type": "stream",
       "stream": "stdout",
       "text": [
        " d"
       ]
      },
      {
       "output_type": "stream",
       "stream": "stdout",
       "text": [
        " a g"
       ]
      },
      {
       "output_type": "stream",
       "stream": "stdout",
       "text": [
        " 944 c"
       ]
      },
      {
       "output_type": "stream",
       "stream": "stdout",
       "text": [
        " d"
       ]
      },
      {
       "output_type": "stream",
       "stream": "stdout",
       "text": [
        " a g"
       ]
      },
      {
       "output_type": "stream",
       "stream": "stdout",
       "text": [
        " 945 c"
       ]
      },
      {
       "output_type": "stream",
       "stream": "stdout",
       "text": [
        " d"
       ]
      },
      {
       "output_type": "stream",
       "stream": "stdout",
       "text": [
        " a g"
       ]
      },
      {
       "output_type": "stream",
       "stream": "stdout",
       "text": [
        " 946 c"
       ]
      },
      {
       "output_type": "stream",
       "stream": "stdout",
       "text": [
        " d"
       ]
      },
      {
       "output_type": "stream",
       "stream": "stdout",
       "text": [
        " a g"
       ]
      },
      {
       "output_type": "stream",
       "stream": "stdout",
       "text": [
        " 947 c"
       ]
      },
      {
       "output_type": "stream",
       "stream": "stdout",
       "text": [
        " d"
       ]
      },
      {
       "output_type": "stream",
       "stream": "stdout",
       "text": [
        " a g"
       ]
      },
      {
       "output_type": "stream",
       "stream": "stdout",
       "text": [
        " 948 c"
       ]
      },
      {
       "output_type": "stream",
       "stream": "stdout",
       "text": [
        " d"
       ]
      },
      {
       "output_type": "stream",
       "stream": "stdout",
       "text": [
        " a g"
       ]
      },
      {
       "output_type": "stream",
       "stream": "stdout",
       "text": [
        " 949 c"
       ]
      },
      {
       "output_type": "stream",
       "stream": "stdout",
       "text": [
        " d"
       ]
      },
      {
       "output_type": "stream",
       "stream": "stdout",
       "text": [
        " a g"
       ]
      },
      {
       "output_type": "stream",
       "stream": "stdout",
       "text": [
        " 950 c"
       ]
      },
      {
       "output_type": "stream",
       "stream": "stdout",
       "text": [
        " d"
       ]
      },
      {
       "output_type": "stream",
       "stream": "stdout",
       "text": [
        " a g"
       ]
      },
      {
       "output_type": "stream",
       "stream": "stdout",
       "text": [
        " 951 c"
       ]
      },
      {
       "output_type": "stream",
       "stream": "stdout",
       "text": [
        " d"
       ]
      },
      {
       "output_type": "stream",
       "stream": "stdout",
       "text": [
        " a g"
       ]
      },
      {
       "output_type": "stream",
       "stream": "stdout",
       "text": [
        " 952 c"
       ]
      },
      {
       "output_type": "stream",
       "stream": "stdout",
       "text": [
        " d"
       ]
      },
      {
       "output_type": "stream",
       "stream": "stdout",
       "text": [
        " a g"
       ]
      },
      {
       "output_type": "stream",
       "stream": "stdout",
       "text": [
        " 953 c"
       ]
      },
      {
       "output_type": "stream",
       "stream": "stdout",
       "text": [
        " d"
       ]
      },
      {
       "output_type": "stream",
       "stream": "stdout",
       "text": [
        " a g"
       ]
      },
      {
       "output_type": "stream",
       "stream": "stdout",
       "text": [
        " 954 c"
       ]
      },
      {
       "output_type": "stream",
       "stream": "stdout",
       "text": [
        " d"
       ]
      },
      {
       "output_type": "stream",
       "stream": "stdout",
       "text": [
        " a g"
       ]
      },
      {
       "output_type": "stream",
       "stream": "stdout",
       "text": [
        " 955 c"
       ]
      },
      {
       "output_type": "stream",
       "stream": "stdout",
       "text": [
        " d"
       ]
      },
      {
       "output_type": "stream",
       "stream": "stdout",
       "text": [
        " a g"
       ]
      },
      {
       "output_type": "stream",
       "stream": "stdout",
       "text": [
        " 956 c"
       ]
      },
      {
       "output_type": "stream",
       "stream": "stdout",
       "text": [
        " d"
       ]
      },
      {
       "output_type": "stream",
       "stream": "stdout",
       "text": [
        " a g"
       ]
      },
      {
       "output_type": "stream",
       "stream": "stdout",
       "text": [
        " 957 c"
       ]
      },
      {
       "output_type": "stream",
       "stream": "stdout",
       "text": [
        " d"
       ]
      },
      {
       "output_type": "stream",
       "stream": "stdout",
       "text": [
        " a g"
       ]
      },
      {
       "output_type": "stream",
       "stream": "stdout",
       "text": [
        " 958 c"
       ]
      },
      {
       "output_type": "stream",
       "stream": "stdout",
       "text": [
        " d"
       ]
      },
      {
       "output_type": "stream",
       "stream": "stdout",
       "text": [
        " a g"
       ]
      },
      {
       "output_type": "stream",
       "stream": "stdout",
       "text": [
        " 959 c"
       ]
      },
      {
       "output_type": "stream",
       "stream": "stdout",
       "text": [
        " d"
       ]
      },
      {
       "output_type": "stream",
       "stream": "stdout",
       "text": [
        " a g"
       ]
      },
      {
       "output_type": "stream",
       "stream": "stdout",
       "text": [
        " 960 c"
       ]
      },
      {
       "output_type": "stream",
       "stream": "stdout",
       "text": [
        " d"
       ]
      },
      {
       "output_type": "stream",
       "stream": "stdout",
       "text": [
        " a g"
       ]
      },
      {
       "output_type": "stream",
       "stream": "stdout",
       "text": [
        " 961 c"
       ]
      },
      {
       "output_type": "stream",
       "stream": "stdout",
       "text": [
        " d"
       ]
      },
      {
       "output_type": "stream",
       "stream": "stdout",
       "text": [
        " a g"
       ]
      },
      {
       "output_type": "stream",
       "stream": "stdout",
       "text": [
        " 962 c"
       ]
      },
      {
       "output_type": "stream",
       "stream": "stdout",
       "text": [
        " d"
       ]
      },
      {
       "output_type": "stream",
       "stream": "stdout",
       "text": [
        " a g"
       ]
      },
      {
       "output_type": "stream",
       "stream": "stdout",
       "text": [
        " 963 c"
       ]
      },
      {
       "output_type": "stream",
       "stream": "stdout",
       "text": [
        " d"
       ]
      },
      {
       "output_type": "stream",
       "stream": "stdout",
       "text": [
        " a g"
       ]
      },
      {
       "output_type": "stream",
       "stream": "stdout",
       "text": [
        " 964 c"
       ]
      },
      {
       "output_type": "stream",
       "stream": "stdout",
       "text": [
        " d"
       ]
      },
      {
       "output_type": "stream",
       "stream": "stdout",
       "text": [
        " a g"
       ]
      },
      {
       "output_type": "stream",
       "stream": "stdout",
       "text": [
        " 965 c"
       ]
      },
      {
       "output_type": "stream",
       "stream": "stdout",
       "text": [
        " d"
       ]
      },
      {
       "output_type": "stream",
       "stream": "stdout",
       "text": [
        " a g"
       ]
      },
      {
       "output_type": "stream",
       "stream": "stdout",
       "text": [
        " 966 c"
       ]
      },
      {
       "output_type": "stream",
       "stream": "stdout",
       "text": [
        " d"
       ]
      },
      {
       "output_type": "stream",
       "stream": "stdout",
       "text": [
        " a g"
       ]
      },
      {
       "output_type": "stream",
       "stream": "stdout",
       "text": [
        " 967 c"
       ]
      },
      {
       "output_type": "stream",
       "stream": "stdout",
       "text": [
        " d"
       ]
      },
      {
       "output_type": "stream",
       "stream": "stdout",
       "text": [
        " a g"
       ]
      },
      {
       "output_type": "stream",
       "stream": "stdout",
       "text": [
        " 968 c"
       ]
      },
      {
       "output_type": "stream",
       "stream": "stdout",
       "text": [
        " d"
       ]
      },
      {
       "output_type": "stream",
       "stream": "stdout",
       "text": [
        " a g"
       ]
      },
      {
       "output_type": "stream",
       "stream": "stdout",
       "text": [
        " 969 c"
       ]
      },
      {
       "output_type": "stream",
       "stream": "stdout",
       "text": [
        " d"
       ]
      },
      {
       "output_type": "stream",
       "stream": "stdout",
       "text": [
        " a g"
       ]
      },
      {
       "output_type": "stream",
       "stream": "stdout",
       "text": [
        " 970 c"
       ]
      },
      {
       "output_type": "stream",
       "stream": "stdout",
       "text": [
        " d"
       ]
      },
      {
       "output_type": "stream",
       "stream": "stdout",
       "text": [
        " a g"
       ]
      },
      {
       "output_type": "stream",
       "stream": "stdout",
       "text": [
        " 971 c"
       ]
      },
      {
       "output_type": "stream",
       "stream": "stdout",
       "text": [
        " d"
       ]
      },
      {
       "output_type": "stream",
       "stream": "stdout",
       "text": [
        " a g"
       ]
      },
      {
       "output_type": "stream",
       "stream": "stdout",
       "text": [
        " 972 c"
       ]
      },
      {
       "output_type": "stream",
       "stream": "stdout",
       "text": [
        " d"
       ]
      },
      {
       "output_type": "stream",
       "stream": "stdout",
       "text": [
        " a g"
       ]
      },
      {
       "output_type": "stream",
       "stream": "stdout",
       "text": [
        " 973 c"
       ]
      },
      {
       "output_type": "stream",
       "stream": "stdout",
       "text": [
        " d"
       ]
      },
      {
       "output_type": "stream",
       "stream": "stdout",
       "text": [
        " a g"
       ]
      },
      {
       "output_type": "stream",
       "stream": "stdout",
       "text": [
        " 974 c"
       ]
      },
      {
       "output_type": "stream",
       "stream": "stdout",
       "text": [
        " d"
       ]
      },
      {
       "output_type": "stream",
       "stream": "stdout",
       "text": [
        " a g"
       ]
      },
      {
       "output_type": "stream",
       "stream": "stdout",
       "text": [
        " 975 c"
       ]
      },
      {
       "output_type": "stream",
       "stream": "stdout",
       "text": [
        " d"
       ]
      },
      {
       "output_type": "stream",
       "stream": "stdout",
       "text": [
        " a g"
       ]
      },
      {
       "output_type": "stream",
       "stream": "stdout",
       "text": [
        " 976 c"
       ]
      },
      {
       "output_type": "stream",
       "stream": "stdout",
       "text": [
        " d"
       ]
      },
      {
       "output_type": "stream",
       "stream": "stdout",
       "text": [
        " a g"
       ]
      },
      {
       "output_type": "stream",
       "stream": "stdout",
       "text": [
        " 977 c"
       ]
      },
      {
       "output_type": "stream",
       "stream": "stdout",
       "text": [
        " d"
       ]
      },
      {
       "output_type": "stream",
       "stream": "stdout",
       "text": [
        " a g"
       ]
      },
      {
       "output_type": "stream",
       "stream": "stdout",
       "text": [
        " 978 c"
       ]
      },
      {
       "output_type": "stream",
       "stream": "stdout",
       "text": [
        " d"
       ]
      },
      {
       "output_type": "stream",
       "stream": "stdout",
       "text": [
        " a g"
       ]
      },
      {
       "output_type": "stream",
       "stream": "stdout",
       "text": [
        " 979 c"
       ]
      },
      {
       "output_type": "stream",
       "stream": "stdout",
       "text": [
        " d"
       ]
      },
      {
       "output_type": "stream",
       "stream": "stdout",
       "text": [
        " a g"
       ]
      },
      {
       "output_type": "stream",
       "stream": "stdout",
       "text": [
        " 980 c"
       ]
      },
      {
       "output_type": "stream",
       "stream": "stdout",
       "text": [
        " d"
       ]
      },
      {
       "output_type": "stream",
       "stream": "stdout",
       "text": [
        " a g"
       ]
      },
      {
       "output_type": "stream",
       "stream": "stdout",
       "text": [
        " 981 c"
       ]
      },
      {
       "output_type": "stream",
       "stream": "stdout",
       "text": [
        " d"
       ]
      },
      {
       "output_type": "stream",
       "stream": "stdout",
       "text": [
        " a g"
       ]
      },
      {
       "output_type": "stream",
       "stream": "stdout",
       "text": [
        " 982 c"
       ]
      },
      {
       "output_type": "stream",
       "stream": "stdout",
       "text": [
        " d"
       ]
      },
      {
       "output_type": "stream",
       "stream": "stdout",
       "text": [
        " a g"
       ]
      },
      {
       "output_type": "stream",
       "stream": "stdout",
       "text": [
        " 983 c"
       ]
      },
      {
       "output_type": "stream",
       "stream": "stdout",
       "text": [
        " d"
       ]
      },
      {
       "output_type": "stream",
       "stream": "stdout",
       "text": [
        " a g"
       ]
      },
      {
       "output_type": "stream",
       "stream": "stdout",
       "text": [
        " 984 c"
       ]
      },
      {
       "output_type": "stream",
       "stream": "stdout",
       "text": [
        " d"
       ]
      },
      {
       "output_type": "stream",
       "stream": "stdout",
       "text": [
        " a g"
       ]
      },
      {
       "output_type": "stream",
       "stream": "stdout",
       "text": [
        " 985 c"
       ]
      },
      {
       "output_type": "stream",
       "stream": "stdout",
       "text": [
        " d"
       ]
      },
      {
       "output_type": "stream",
       "stream": "stdout",
       "text": [
        " a g"
       ]
      },
      {
       "output_type": "stream",
       "stream": "stdout",
       "text": [
        " 986 c"
       ]
      },
      {
       "output_type": "stream",
       "stream": "stdout",
       "text": [
        " d"
       ]
      },
      {
       "output_type": "stream",
       "stream": "stdout",
       "text": [
        " a g"
       ]
      },
      {
       "output_type": "stream",
       "stream": "stdout",
       "text": [
        " 987 c"
       ]
      },
      {
       "output_type": "stream",
       "stream": "stdout",
       "text": [
        " d"
       ]
      },
      {
       "output_type": "stream",
       "stream": "stdout",
       "text": [
        " a g"
       ]
      },
      {
       "output_type": "stream",
       "stream": "stdout",
       "text": [
        " 988 c"
       ]
      },
      {
       "output_type": "stream",
       "stream": "stdout",
       "text": [
        " d"
       ]
      },
      {
       "output_type": "stream",
       "stream": "stdout",
       "text": [
        " a g"
       ]
      },
      {
       "output_type": "stream",
       "stream": "stdout",
       "text": [
        " 989 c"
       ]
      },
      {
       "output_type": "stream",
       "stream": "stdout",
       "text": [
        " d"
       ]
      },
      {
       "output_type": "stream",
       "stream": "stdout",
       "text": [
        " a g"
       ]
      },
      {
       "output_type": "stream",
       "stream": "stdout",
       "text": [
        " 990 c"
       ]
      },
      {
       "output_type": "stream",
       "stream": "stdout",
       "text": [
        " d"
       ]
      },
      {
       "output_type": "stream",
       "stream": "stdout",
       "text": [
        " a g"
       ]
      },
      {
       "output_type": "stream",
       "stream": "stdout",
       "text": [
        " 991 c"
       ]
      },
      {
       "output_type": "stream",
       "stream": "stdout",
       "text": [
        " d"
       ]
      },
      {
       "output_type": "stream",
       "stream": "stdout",
       "text": [
        " a g"
       ]
      },
      {
       "output_type": "stream",
       "stream": "stdout",
       "text": [
        " 992 c"
       ]
      },
      {
       "output_type": "stream",
       "stream": "stdout",
       "text": [
        " d"
       ]
      },
      {
       "output_type": "stream",
       "stream": "stdout",
       "text": [
        " a g"
       ]
      },
      {
       "output_type": "stream",
       "stream": "stdout",
       "text": [
        " 993 c"
       ]
      },
      {
       "output_type": "stream",
       "stream": "stdout",
       "text": [
        " d"
       ]
      },
      {
       "output_type": "stream",
       "stream": "stdout",
       "text": [
        " a g"
       ]
      },
      {
       "output_type": "stream",
       "stream": "stdout",
       "text": [
        " 994 c"
       ]
      },
      {
       "output_type": "stream",
       "stream": "stdout",
       "text": [
        " d"
       ]
      },
      {
       "output_type": "stream",
       "stream": "stdout",
       "text": [
        " a g"
       ]
      },
      {
       "output_type": "stream",
       "stream": "stdout",
       "text": [
        " 995 c"
       ]
      },
      {
       "output_type": "stream",
       "stream": "stdout",
       "text": [
        " d"
       ]
      },
      {
       "output_type": "stream",
       "stream": "stdout",
       "text": [
        " a g"
       ]
      },
      {
       "output_type": "stream",
       "stream": "stdout",
       "text": [
        " 996 c"
       ]
      },
      {
       "output_type": "stream",
       "stream": "stdout",
       "text": [
        " d"
       ]
      },
      {
       "output_type": "stream",
       "stream": "stdout",
       "text": [
        " a g"
       ]
      },
      {
       "output_type": "stream",
       "stream": "stdout",
       "text": [
        " 997 c"
       ]
      },
      {
       "output_type": "stream",
       "stream": "stdout",
       "text": [
        " d"
       ]
      },
      {
       "output_type": "stream",
       "stream": "stdout",
       "text": [
        " a g"
       ]
      },
      {
       "output_type": "stream",
       "stream": "stdout",
       "text": [
        " 998 c"
       ]
      },
      {
       "output_type": "stream",
       "stream": "stdout",
       "text": [
        " d"
       ]
      },
      {
       "output_type": "stream",
       "stream": "stdout",
       "text": [
        " a g"
       ]
      },
      {
       "output_type": "stream",
       "stream": "stdout",
       "text": [
        " 999 "
       ]
      },
      {
       "metadata": {},
       "output_type": "pyout",
       "prompt_number": 18,
       "text": [
        "[<matplotlib.lines.Line2D at 0x7ff964de3a90>]"
       ]
      }
     ],
     "prompt_number": 18
    },
    {
     "cell_type": "code",
     "collapsed": false,
     "input": [
      "plot(clustCoeff)\n"
     ],
     "language": "python",
     "metadata": {},
     "outputs": [
      {
       "metadata": {},
       "output_type": "pyout",
       "prompt_number": 19,
       "text": [
        "[<matplotlib.lines.Line2D at 0x7ff964db7eb8>]"
       ]
      }
     ],
     "prompt_number": 19
    },
    {
     "cell_type": "code",
     "collapsed": false,
     "input": [
      "plot(degeneracy)\n"
     ],
     "language": "python",
     "metadata": {},
     "outputs": [
      {
       "metadata": {},
       "output_type": "pyout",
       "prompt_number": 20,
       "text": [
        "[<matplotlib.lines.Line2D at 0x7ff964d95668>]"
       ]
      }
     ],
     "prompt_number": 20
    },
    {
     "cell_type": "code",
     "collapsed": false,
     "input": [
      "plot(degreeAss)\n"
     ],
     "language": "python",
     "metadata": {},
     "outputs": [
      {
       "metadata": {},
       "output_type": "pyout",
       "prompt_number": 21,
       "text": [
        "[<matplotlib.lines.Line2D at 0x7ff964ced940>]"
       ]
      }
     ],
     "prompt_number": 21
    },
    {
     "cell_type": "code",
     "collapsed": false,
     "input": [
      "plot(powerLawExponents)"
     ],
     "language": "python",
     "metadata": {},
     "outputs": [
      {
       "metadata": {},
       "output_type": "pyout",
       "prompt_number": 22,
       "text": [
        "[<matplotlib.lines.Line2D at 0x7ff964cc6c88>]"
       ]
      }
     ],
     "prompt_number": 22
    },
    {
     "cell_type": "code",
     "collapsed": false,
     "input": [
      "plot(avgDegrees)"
     ],
     "language": "python",
     "metadata": {},
     "outputs": [
      {
       "metadata": {},
       "output_type": "pyout",
       "prompt_number": 24,
       "text": [
        "[<matplotlib.lines.Line2D at 0x7ff964c00be0>]"
       ]
      }
     ],
     "prompt_number": 24
    },
    {
     "cell_type": "code",
     "collapsed": false,
     "input": [
      "transposedDegrees = [(p - 89)/-70 for p in avgDegrees]\n",
      "plot(transposedDegrees)\n",
      "plot(degreeAss)"
     ],
     "language": "python",
     "metadata": {},
     "outputs": [
      {
       "metadata": {},
       "output_type": "pyout",
       "prompt_number": 44,
       "text": [
        "[<matplotlib.lines.Line2D at 0x7ff9644facc0>]"
       ]
      }
     ],
     "prompt_number": 44
    },
    {
     "cell_type": "code",
     "collapsed": false,
     "input": [],
     "language": "python",
     "metadata": {},
     "outputs": []
    }
   ],
   "metadata": {}
  }
 ]
}
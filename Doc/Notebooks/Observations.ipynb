{
 "metadata": {
  "name": "",
  "signature": "sha256:c9483264870301ca76d248cbf6231017f3c47ad99c301fd6fcac0e10fa25439d"
 },
 "nbformat": 3,
 "nbformat_minor": 0,
 "worksheets": [
  {
   "cells": [
    {
     "cell_type": "code",
     "collapsed": false,
     "input": [
      "from networkit import *\n",
      "import sqlite3\n",
      "import re"
     ],
     "language": "python",
     "metadata": {},
     "outputs": [],
     "prompt_number": 61
    },
    {
     "cell_type": "code",
     "collapsed": false,
     "input": [
      "gc = gephi.streaming.GephiStreamingClient()"
     ],
     "language": "python",
     "metadata": {},
     "outputs": [],
     "prompt_number": 62
    },
    {
     "cell_type": "code",
     "collapsed": false,
     "input": [
      "import importlib.machinery\n",
      "loader = importlib.machinery.SourceFileLoader(\"bbalgorithms\", \"../../scripts/BackboneEvaluation/bbalgorithms.py\")\n",
      "bbalgorithms = loader.load_module()"
     ],
     "language": "python",
     "metadata": {},
     "outputs": [],
     "prompt_number": 63
    },
    {
     "cell_type": "code",
     "collapsed": false,
     "input": [
      "sqliteFile = '../../scripts/BackboneEvaluation/output/backbones.db'"
     ],
     "language": "python",
     "metadata": {},
     "outputs": [],
     "prompt_number": 64
    },
    {
     "cell_type": "code",
     "collapsed": false,
     "input": [
      "%run 'BackboneStatisticsTools.ipynb'\n",
      "bbTools = BBDatabaseTools(sqliteFile)"
     ],
     "language": "python",
     "metadata": {},
     "outputs": [],
     "prompt_number": 65
    },
    {
     "cell_type": "heading",
     "level": 2,
     "metadata": {},
     "source": [
      "Community structure"
     ]
    },
    {
     "cell_type": "code",
     "collapsed": false,
     "input": [
      "G = readGraph('/home/gerd/workspace/NetworKit-glindner/scripts/BackboneEvaluation/input/LFR-1000.graph', Format.METIS)\n",
      "G.indexEdges()\n",
      "#gc.exportGraph(G)"
     ],
     "language": "python",
     "metadata": {},
     "outputs": [],
     "prompt_number": 21
    },
    {
     "cell_type": "code",
     "collapsed": false,
     "input": [
      "cAlgo = community.PLM(refine=False, par='none')\n",
      "c1 = community.detectCommunities(G, cAlgo)\n",
      "c2 = community.detectCommunities(G, cAlgo)"
     ],
     "language": "python",
     "metadata": {},
     "outputs": [
      {
       "output_type": "stream",
       "stream": "stdout",
       "text": [
        "PLM(none,,parallel coarsening) detected communities in 0.02972722053527832 [s]\n",
        "solution properties:\n",
        "-------------------  --------\n",
        "# communities        19\n",
        "min community size   23\n",
        "max community size   93\n",
        "avg. community size  52.6316\n",
        "modularity            0.63886\n",
        "-------------------  --------\n",
        "PLM(none,,parallel coarsening) detected communities in 0.0210721492767334 [s]\n",
        "solution properties:\n",
        "-------------------  --------\n",
        "# communities        19\n",
        "min community size   23\n",
        "max community size   93\n",
        "avg. community size  52.6316\n",
        "modularity            0.63886\n",
        "-------------------  --------\n"
       ]
      }
     ],
     "prompt_number": 26
    },
    {
     "cell_type": "code",
     "collapsed": false,
     "input": [
      "gc.exportNodeValues(G, c1, \"communities\")"
     ],
     "language": "python",
     "metadata": {},
     "outputs": [],
     "prompt_number": 6
    },
    {
     "cell_type": "code",
     "collapsed": false,
     "input": [
      "_randMeasure = community.GraphStructuralRandMeasure()\n",
      "randMeasure = _randMeasure.getDissimilarity(G, c1, c2)\n",
      "print(randMeasure)\n",
      "_nmi = community.NMIDistance()\n",
      "nmi = _nmi.getDissimilarity(G, c1, c2)\n",
      "print(nmi)"
     ],
     "language": "python",
     "metadata": {},
     "outputs": [
      {
       "output_type": "stream",
       "stream": "stdout",
       "text": [
        "0.0\n",
        "0.0\n"
       ]
      }
     ],
     "prompt_number": 27
    },
    {
     "cell_type": "heading",
     "level": 6,
     "metadata": {},
     "source": [
      "High nmi values already for 0.9-backbones?"
     ]
    },
    {
     "cell_type": "code",
     "collapsed": false,
     "input": [
      "randAttributizer = backbones.RandomAttributizer(1.0)\n",
      "randAttribute = randAttributizer.getAttribute(G, [0] * G.numberOfEdges())\n",
      "gfilter = backbones.GlobalThresholdFilter(0.9, False)\n",
      "B = gfilter.calculate(G, randAttribute)"
     ],
     "language": "python",
     "metadata": {},
     "outputs": [],
     "prompt_number": 8
    },
    {
     "cell_type": "code",
     "collapsed": false,
     "input": [
      "cB = community.detectCommunities(B, cAlgo)"
     ],
     "language": "python",
     "metadata": {},
     "outputs": [
      {
       "output_type": "stream",
       "stream": "stdout",
       "text": [
        "PLM(none,,parallel coarsening) detected communities in 2.071225881576538 [s]\n",
        "solution properties:\n",
        "-------------------  -----------\n",
        "# communities          54\n",
        "min community size      1\n",
        "max community size   2204\n",
        "avg. community size   158.852\n",
        "modularity              0.410557\n",
        "-------------------  -----------\n"
       ]
      }
     ],
     "prompt_number": 15
    },
    {
     "cell_type": "code",
     "collapsed": false,
     "input": [
      "randMeasure = _randMeasure.getDissimilarity(G, c1, cB)\n",
      "print(randMeasure)"
     ],
     "language": "python",
     "metadata": {},
     "outputs": [
      {
       "output_type": "stream",
       "stream": "stdout",
       "text": [
        "0.18846960167714877\n"
       ]
      }
     ],
     "prompt_number": 16
    },
    {
     "cell_type": "code",
     "collapsed": false,
     "input": [
      "nmi = _nmi.getDissimilarity(G, c1, cB)\n",
      "print(nmi)"
     ],
     "language": "python",
     "metadata": {},
     "outputs": [
      {
       "output_type": "stream",
       "stream": "stdout",
       "text": [
        "0.36082085524401264\n"
       ]
      }
     ],
     "prompt_number": 19
    },
    {
     "cell_type": "heading",
     "level": 6,
     "metadata": {},
     "source": [
      "Why does LocalSimilarity kick ass on LFR? (comparison to random edge sampling)\n",
      "\n",
      "\n",
      "And why does TopDegree perform well in terms of community structure?"
     ]
    },
    {
     "cell_type": "code",
     "collapsed": false,
     "input": [
      "def exportGephiBackboneAttributes(graphname, G, algorithms, edgeratio):\n",
      "    for algorithm in algorithms:\n",
      "        B = bbTools.getBackbone(graphname, G, algorithm, edgeratio)\n",
      "        gba = bbTools.getGephiBackboneAttribute(G, B)\n",
      "        gc.exportEdgeValues(G, gba, algorithm.getShortName())"
     ],
     "language": "python",
     "metadata": {},
     "outputs": [],
     "prompt_number": 69
    },
    {
     "cell_type": "code",
     "collapsed": false,
     "input": [
      "G = readGraph('/home/gerd/workspace/NetworKit-glindner/scripts/BackboneEvaluation/input/LFR-1000.graph', Format.METIS)\n",
      "G.indexEdges()\n",
      "gc.exportGraph(G)"
     ],
     "language": "python",
     "metadata": {},
     "outputs": [],
     "prompt_number": 70
    },
    {
     "cell_type": "code",
     "collapsed": false,
     "input": [
      "#Communities\n",
      "cAlgo = community.PLM(refine=False, par='none')\n",
      "c = community.detectCommunities(G, cAlgo)\n",
      "gc.exportNodeValues(G, c, \"communities\")"
     ],
     "language": "python",
     "metadata": {},
     "outputs": [
      {
       "output_type": "stream",
       "stream": "stdout",
       "text": [
        "PLM(none,,parallel coarsening) detected communities in 0.09951138496398926 [s]\n",
        "solution properties:\n",
        "-------------------  --------\n",
        "# communities        19\n",
        "min community size   23\n",
        "max community size   93\n",
        "avg. community size  52.6316\n",
        "modularity            0.63886\n",
        "-------------------  --------\n"
       ]
      }
     ],
     "prompt_number": 71
    },
    {
     "cell_type": "code",
     "collapsed": false,
     "input": [
      "algorithms = [\n",
      "    bbalgorithms.bb_LocalSimilarityBackbone(),\n",
      "    bbalgorithms.bb_RandomBackbone(\"1\"),\n",
      "    bbalgorithms.bb_SimmelianBackboneNonParametric(),\n",
      "    #bbalgorithms.bb_ForestFire(\"1\", 0.15, 5)\n",
      "    bbalgorithms.bb_Test(\"TD\", 0.0)\n",
      "]\n",
      "\n",
      "exportGephiBackboneAttributes('LFR-1000', G, algorithms, 0.2)"
     ],
     "language": "python",
     "metadata": {},
     "outputs": [],
     "prompt_number": 72
    },
    {
     "cell_type": "code",
     "collapsed": false,
     "input": [
      "B = bbTools.getBackbone('LFR-1000', G, bbalgorithms.bb_Test(\"TD\", 0.0), 0.2)\n",
      "size = list(map(lambda node: max(B.degree(node) * 0.4, 4), G.nodes()))\n",
      "gc.exportNodeValues(G, size, 'size')\n",
      "#Communities\n",
      "c = community.detectCommunities(B, cAlgo)\n",
      "gc.exportNodeValues(B, c, \"communitiesB\")"
     ],
     "language": "python",
     "metadata": {},
     "outputs": [
      {
       "output_type": "stream",
       "stream": "stdout",
       "text": [
        "PLM(none,,parallel coarsening) detected communities in 0.006900310516357422 [s]\n",
        "solution properties:\n",
        "-------------------  ----------\n",
        "# communities         17\n",
        "min community size    29\n",
        "max community size   103\n",
        "avg. community size   58.8235\n",
        "modularity             0.686157\n",
        "-------------------  ----------\n"
       ]
      }
     ],
     "prompt_number": 74
    },
    {
     "cell_type": "code",
     "collapsed": false,
     "input": [],
     "language": "python",
     "metadata": {},
     "outputs": []
    },
    {
     "cell_type": "heading",
     "level": 6,
     "metadata": {},
     "source": [
      "Why does ccGlobal increase, then decrease in most cases for LS?"
     ]
    },
    {
     "cell_type": "code",
     "collapsed": false,
     "input": [
      "G = readGraph('/home/gerd/workspace/NetworKit-glindner/scripts/BackboneEvaluation/input/LFR-1000.graph', Format.METIS)\n",
      "G.indexEdges()\n",
      "gc.exportGraph(G)"
     ],
     "language": "python",
     "metadata": {},
     "outputs": [],
     "prompt_number": 21
    },
    {
     "cell_type": "code",
     "collapsed": false,
     "input": [
      "attributizer_ls = backbones.LocalSimilarityAttributizer()\n",
      "attribute_ls = attributizer_ls.getAttribute(G, [])\n",
      "gc.exportEdgeValues(G, attribute_ls, 'ls')"
     ],
     "language": "python",
     "metadata": {},
     "outputs": [],
     "prompt_number": 22
    },
    {
     "cell_type": "code",
     "collapsed": false,
     "input": [
      "attributizer_t = backbones.ChibaNishizekiTriangleCounter()\n",
      "attribute_t = attributizer_t.getAttribute(G)\n",
      "gc.exportEdgeValues(G, attribute_t, 't')"
     ],
     "language": "python",
     "metadata": {},
     "outputs": [],
     "prompt_number": 23
    },
    {
     "cell_type": "code",
     "collapsed": false,
     "input": [
      "#I'd like to know how many of the edges removed were intra- and how many inter-cluster edges....\n",
      "def getIntraInter(graph, backbone):\n",
      "    cAlgo = community.PLM(refine=False, par='none')\n",
      "    cgraph = community.detectCommunities(graph, cAlgo)\n",
      "    \n",
      "    edgesRemoved = set(graph.edges()) - set(backbone.edges())\n",
      "    intraRemoved = 0\n",
      "    interRemoved = 0\n",
      "    for (u, v) in edgesRemoved:\n",
      "        if cgraph.inSameSubset(u, v):\n",
      "            intraRemoved += 1\n",
      "        else:\n",
      "            interRemoved += 1\n",
      "    return intraRemoved, interRemoved\n",
      "    "
     ],
     "language": "python",
     "metadata": {},
     "outputs": [],
     "prompt_number": 26
    },
    {
     "cell_type": "code",
     "collapsed": false,
     "input": [
      "print(getIntraInter(G, getBackbone('LFR-1000', G, bbalgorithms.bb_LocalSimilarityBackbone(), 0.1)))"
     ],
     "language": "python",
     "metadata": {},
     "outputs": [
      {
       "output_type": "stream",
       "stream": "stdout",
       "text": [
        "PLM(none,,parallel coarsening) detected communities in 0.03802776336669922 [s]\n",
        "solution properties:\n",
        "-------------------  --------\n",
        "# communities        19\n",
        "min community size   23\n",
        "max community size   93\n",
        "avg. community size  52.6316\n",
        "modularity            0.63886\n",
        "-------------------  --------\n",
        "(5857, 2923)\n"
       ]
      }
     ],
     "prompt_number": 61
    },
    {
     "cell_type": "markdown",
     "metadata": {},
     "source": [
      "--> seems like that is the point where intra-cluster-edges start to be removed."
     ]
    },
    {
     "cell_type": "heading",
     "level": 6,
     "metadata": {},
     "source": [
      "Why does Multiscale perform that well on KitEmail?"
     ]
    },
    {
     "cell_type": "code",
     "collapsed": false,
     "input": [
      "G = readGraph('/home/gerd/workspace/NetworKit-glindner/scripts/BackboneEvaluation/input/kitEmail.graphml', Format.GraphML)\n",
      "G.indexEdges()\n",
      "gc.exportGraph(G)"
     ],
     "language": "python",
     "metadata": {},
     "outputs": [
      {
       "output_type": "stream",
       "stream": "stdout",
       "text": [
        "identified graph as weighted\n"
       ]
      }
     ],
     "prompt_number": 67
    },
    {
     "cell_type": "code",
     "collapsed": false,
     "input": [
      "attributizer_ms = backbones.MultiscaleAttributizer()\n",
      "attribute_ms = attributizer_ms.getAttribute(G, [])\n",
      "gc.exportEdgeValues(G, attribute_ms, 'ms')"
     ],
     "language": "python",
     "metadata": {},
     "outputs": [],
     "prompt_number": 68
    },
    {
     "cell_type": "code",
     "collapsed": false,
     "input": [
      "attributizer_t = backbones.ChibaNishizekiTriangleCounter()\n",
      "attribute_t = attributizer_t.getAttribute(G)\n",
      "gc.exportEdgeValues(G, attribute_t, 't')"
     ],
     "language": "python",
     "metadata": {},
     "outputs": [],
     "prompt_number": 69
    },
    {
     "cell_type": "markdown",
     "metadata": {},
     "source": [
      "---> i have no idea yet"
     ]
    },
    {
     "cell_type": "heading",
     "level": 6,
     "metadata": {},
     "source": [
      "Diameter visualization (TopDegree, US Aviation)"
     ]
    },
    {
     "cell_type": "code",
     "collapsed": false,
     "input": [
      "def getAttributeFromCsv(G, filename, keyfield, field):\n",
      "    attribute = [0] * G.upperNodeIdBound()\n",
      "    with open(filename, 'rt', encoding=\"utf8\") as f:\n",
      "        reader = csv.DictReader(f)\n",
      "        for row in reader:\n",
      "            nodeId = int(row[keyfield])\n",
      "            attribute[nodeId] = row[field]\n",
      "    return attribute"
     ],
     "language": "python",
     "metadata": {},
     "outputs": [],
     "prompt_number": 6
    },
    {
     "cell_type": "code",
     "collapsed": false,
     "input": [
      "G = readGraph('/home/gerd/workspace/NetworKit-glindner/scripts/BackboneEvaluation/input/us-aviation-t100-2013.graphml', Format.GraphML)\n",
      "G.indexEdges()\n",
      "gc.exportGraph(G)"
     ],
     "language": "python",
     "metadata": {},
     "outputs": [
      {
       "output_type": "stream",
       "stream": "stdout",
       "text": [
        "identified graph as weighted\n"
       ]
      }
     ],
     "prompt_number": 7
    },
    {
     "cell_type": "code",
     "collapsed": false,
     "input": [
      "path = '/home/gerd/workspace/ComplexNetworkBackbones/Networks/US_Aviation_T100_2013/nodesGeocoded.csv'\n",
      "longitude = getAttributeFromCsv(G, path, 'Id', 'Longitude')\n",
      "latitude = getAttributeFromCsv(G, path, 'Id', 'Latitude')\n",
      "name = getAttributeFromCsv(G, path, 'Id', 'Label')\n",
      "gc.exportNodeValues(G, longitude, \"y\")\n",
      "gc.exportNodeValues(G, latitude, \"x\")\n",
      "gc.exportNodeValues(G, name, \"Name\")"
     ],
     "language": "python",
     "metadata": {},
     "outputs": [],
     "prompt_number": 8
    },
    {
     "cell_type": "code",
     "collapsed": false,
     "input": [
      "B = bbTools.getBackbone('USAviation', G, bbalgorithms.bb_Random(\"1\"), 0.01)\n",
      "print(B.numberOfEdges(), \",\", G.numberOfEdges())\n",
      "attribute_td = bbTools.getGephiBackboneAttribute(G, B)\n",
      "gc.exportEdgeValues(G, attribute_td, 'td')"
     ],
     "language": "python",
     "metadata": {},
     "outputs": [
      {
       "output_type": "stream",
       "stream": "stdout",
       "text": [
        "129 , 13713\n"
       ]
      }
     ],
     "prompt_number": 11
    },
    {
     "cell_type": "code",
     "collapsed": false,
     "input": [
      "attribute_node_degree = list(map(lambda x: G.degree(x) * 0.05, G.nodes()))\n",
      "nodesWithDegrees = [(node, G.degree(node)) for node in G.nodes()]\n",
      "nodesWithDegrees.sort(key=lambda x: x[1], reverse=True)\n",
      "\n",
      "ratio = 0.05\n",
      "label = [''] * G.upperNodeIdBound()\n",
      "size = [0] * G.upperNodeIdBound()\n",
      "for i in range(0, math.ceil(ratio * G.numberOfNodes())):\n",
      "    node = nodesWithDegrees[i][0]\n",
      "    label[node] = name[node]\n",
      "    size[node] = attribute_node_degree[node]\n",
      "\n",
      "gc.exportNodeValues(G, label, 'Label')\n",
      "gc.exportNodeValues(G, size, 'size')"
     ],
     "language": "python",
     "metadata": {},
     "outputs": [],
     "prompt_number": 12
    },
    {
     "cell_type": "heading",
     "level": 6,
     "metadata": {},
     "source": [
      "Visualization of diameter and shortests paths"
     ]
    },
    {
     "cell_type": "markdown",
     "metadata": {},
     "source": [
      "why does the diameter increase for Random, why for LS?"
     ]
    },
    {
     "cell_type": "code",
     "collapsed": false,
     "input": [
      "G = readGraph('/home/gerd/workspace/NetworKit-glindner/scripts/BackboneEvaluation/input/jazz.graph', Format.METIS)\n",
      "G.indexEdges()\n",
      "gc.exportGraph(G)"
     ],
     "language": "python",
     "metadata": {},
     "outputs": [],
     "prompt_number": 17
    },
    {
     "cell_type": "code",
     "collapsed": false,
     "input": [
      "size = list(map(lambda node: G.degree(node) * 0.2, G.nodes()))\n",
      "gc.exportNodeValues(G, size, 'size')"
     ],
     "language": "python",
     "metadata": {},
     "outputs": [],
     "prompt_number": 18
    },
    {
     "cell_type": "code",
     "collapsed": false,
     "input": [
      "def getLongestPathFromGraph(_graph):\n",
      "    lcc = workflows.extractLargestComponent(_graph)\n",
      "    longestPathLength = 0\n",
      "    longestPath = None\n",
      "    for node in lcc.nodes():\n",
      "        dijkstra = graph.Dijkstra(lcc, 0, True, False)\n",
      "        dijkstra.run()\n",
      "        for node2 in lcc.nodes():\n",
      "            currentPath = dijkstra.getPath(node2)\n",
      "            if len(currentPath) > longestPathLength:\n",
      "                longestPathLength = len(currentPath)\n",
      "                longestPath = currentPath\n",
      "        del dijkstra\n",
      "    return longestPath"
     ],
     "language": "python",
     "metadata": {},
     "outputs": [],
     "prompt_number": 19
    },
    {
     "cell_type": "code",
     "collapsed": false,
     "input": [
      "def getAttributeFromPath(_graph, _path):\n",
      "    pattribute = [0] * _graph.upperEdgeIdBound()\n",
      "    for i in range(0, len(_path) - 1):\n",
      "        pattribute[_graph.edgeId(_path[i], _path[i+1])] = 1\n",
      "    return pattribute"
     ],
     "language": "python",
     "metadata": {},
     "outputs": [],
     "prompt_number": 9
    },
    {
     "cell_type": "code",
     "collapsed": false,
     "input": [
      "def visualizeDiameterInBackbone(G, B):\n",
      "    attribute = bbTools.getGephiBackboneAttribute(G, B)\n",
      "    gc.exportEdgeValues(G, attribute, \"backbone\")\n",
      "    longestPath = getLongestPathFromGraph(B)\n",
      "    \n",
      "    cr = list(map(lambda node: 1.0 if node in longestPath else 0.35, G.nodes()))\n",
      "    cg = list(map(lambda node: 0.0 if node in longestPath else 0.35, G.nodes()))\n",
      "    cb = list(map(lambda node: 0.0 if node in longestPath else 0.35, G.nodes()))\n",
      "    gc.exportNodeValues(G, cr, 'r')\n",
      "    gc.exportNodeValues(G, cg, 'g')\n",
      "    gc.exportNodeValues(G, cb, 'b')\n",
      "    \n",
      "    print(longestPath)\n",
      "    pattribute = getAttributeFromPath(G, longestPath)\n",
      "    wattribute = list(map(lambda x: 5 if x == 1 else 1, pattribute))\n",
      "    gc.exportEdgeValues(G, pattribute, \"path\")\n",
      "    gc.exportEdgeValues(G, wattribute, \"weight\")"
     ],
     "language": "python",
     "metadata": {},
     "outputs": [],
     "prompt_number": 10
    },
    {
     "cell_type": "code",
     "collapsed": false,
     "input": [
      "#Local Similarity\n",
      "B = bbTools.getBackbone('Jazz', G, bbalgorithms.bb_LocalSimilarity(), 0.1)\n",
      "visualizeDiameterInBackbone(G, B)\n",
      "properties.Diameter.exactDiameter(B)"
     ],
     "language": "python",
     "metadata": {},
     "outputs": [
      {
       "output_type": "stream",
       "stream": "stdout",
       "text": [
        "[0, 103, 73, 102, 86, 160, 48, 56, 195, 55, 17, 87, 72, 139, 25, 172, 168, 3]\n"
       ]
      },
      {
       "metadata": {},
       "output_type": "pyout",
       "prompt_number": 20,
       "text": [
        "21"
       ]
      }
     ],
     "prompt_number": 20
    },
    {
     "cell_type": "code",
     "collapsed": false,
     "input": [
      "#Local Degree\n",
      "B = bbTools.getBackbone('Jazz', G, bbalgorithms.bb_LocalDegree(), 0.1)\n",
      "visualizeDiameterInBackbone(G, B)\n",
      "properties.Diameter.exactDiameter(B)"
     ],
     "language": "python",
     "metadata": {},
     "outputs": [
      {
       "output_type": "stream",
       "stream": "stdout",
       "text": [
        "[0, 59, 69, 166, 114, 156, 5]\n"
       ]
      },
      {
       "metadata": {},
       "output_type": "pyout",
       "prompt_number": 21,
       "text": [
        "8"
       ]
      }
     ],
     "prompt_number": 21
    },
    {
     "cell_type": "code",
     "collapsed": false,
     "input": [
      "#Simmelian Multiscale\n",
      "B = bbTools.getBackbone('Jazz', G, bbalgorithms.bb_SimmelianMultiscale(), 0.1)\n",
      "visualizeDiameterInBackbone(G, B)\n",
      "properties.Diameter.exactDiameter(B)"
     ],
     "language": "python",
     "metadata": {},
     "outputs": [
      {
       "output_type": "stream",
       "stream": "stdout",
       "text": [
        "[0, 59, 135, 4]\n"
       ]
      },
      {
       "metadata": {},
       "output_type": "pyout",
       "prompt_number": 22,
       "text": [
        "3"
       ]
      }
     ],
     "prompt_number": 22
    },
    {
     "cell_type": "heading",
     "level": 6,
     "metadata": {},
     "source": [
      "Why does the diameter decrease only on PGP and Karate, and increase on all others?"
     ]
    },
    {
     "cell_type": "code",
     "collapsed": false,
     "input": [
      "G = readGraph('/home/gerd/workspace/NetworKit-glindner/scripts/BackboneEvaluation/input/PGPgiantcompo.graph', Format.METIS)\n",
      "G.indexEdges()\n",
      "gc.exportGraph(G)"
     ],
     "language": "python",
     "metadata": {},
     "outputs": [],
     "prompt_number": 82
    },
    {
     "cell_type": "code",
     "collapsed": false,
     "input": [
      "B = getBackbone('PGP', G, bbalgorithms.bb_SimmelianBackboneParametric(10), 0.2)"
     ],
     "language": "python",
     "metadata": {},
     "outputs": [],
     "prompt_number": 83
    },
    {
     "cell_type": "code",
     "collapsed": false,
     "input": [
      "attr_sbp = getGephiBackboneAttribute(G, B)\n",
      "gc.exportEdgeValues(G, attr_sbp, \"sbp\")"
     ],
     "language": "python",
     "metadata": {},
     "outputs": [],
     "prompt_number": 84
    },
    {
     "cell_type": "markdown",
     "metadata": {},
     "source": [
      "---> because of the small size, and the few edges (?)"
     ]
    },
    {
     "cell_type": "heading",
     "level": 6,
     "metadata": {},
     "source": [
      "Degree distributions"
     ]
    },
    {
     "cell_type": "code",
     "collapsed": false,
     "input": [
      "def compareDegreeDistributions(graphname, G, algorithmEdgeRatioPairs, title):\n",
      "    for (algorithm, er) in algorithmEdgeRatioPairs:\n",
      "        B = bbTools.getBackbone(graphname, G, algorithm, er)\n",
      "        dd = properties.degreeDistribution(B)\n",
      "        plt.plot(dd, label=(algorithm.getShortName() + \" \" + str(er)))\n",
      "\n",
      "    plt.xscale(\"log\")\n",
      "    plt.xlabel(\"degree\")\n",
      "    plt.yscale(\"log\")\n",
      "    plt.ylabel(\"number of nodes\")\n",
      "    plt.title(graphname)\n",
      "\n",
      "    #plt.legend(bbox_to_anchor=(1.05, 1), loc=2, borderaxespad=0.)\n",
      "    plt.legend()\n",
      "\n",
      "    plt.savefig('/home/gerd/workspace/ComplexNetworkBackbones/figures/dd_' + re.sub(r'\\W+', '_', title) + '.pdf', bbox_inches='tight')\n",
      "    plt.show()"
     ],
     "language": "python",
     "metadata": {},
     "outputs": [],
     "prompt_number": 20
    },
    {
     "cell_type": "code",
     "collapsed": false,
     "input": [
      "G1 = readGraph('/home/gerd/workspace/NetworKit-glindner/scripts/BackboneEvaluation/input/Yale4.graphml', Format.GraphML)\n",
      "G1.indexEdges()\n",
      "G2 = readGraph('/home/gerd/workspace/NetworKit-glindner/scripts/BackboneEvaluation/input/bter-graph-cc0.7-small.graph', Format.EdgeListCommaOne)\n",
      "G2.indexEdges()\n",
      "G3 = readGraph('/home/gerd/workspace/NetworKit-glindner/scripts/BackboneEvaluation/input/us-aviation-t100-2013.graphml', Format.GraphML)\n",
      "G3.indexEdges()"
     ],
     "language": "python",
     "metadata": {},
     "outputs": [
      {
       "output_type": "stream",
       "stream": "stdout",
       "text": [
        "identified graph as weighted\n"
       ]
      }
     ],
     "prompt_number": 29
    },
    {
     "cell_type": "code",
     "collapsed": false,
     "input": [
      "_algosRandom = [(bbalgorithms.bb_Original(), 1.0), (bbalgorithms.bb_Random(\"\"), 0.5), (bbalgorithms.bb_Random(\"\"), 0.2), (bbalgorithms.bb_Random(\"\"), 0.1)]\n",
      "_algosLocalDegree = [(bbalgorithms.bb_Original(), 1.0), (bbalgorithms.bb_LocalDegree(), 0.5), (bbalgorithms.bb_LocalDegree(), 0.2), (bbalgorithms.bb_LocalDegree(), 0.1)]"
     ],
     "language": "python",
     "metadata": {},
     "outputs": [],
     "prompt_number": 14
    },
    {
     "cell_type": "code",
     "collapsed": false,
     "input": [
      "compareDegreeDistributions('Yale4', G1, _algosRandom, 'degree distributions Yale Random')\n",
      "compareDegreeDistributions('Yale4', G1, _algosLocalDegree, 'degree distributions Yale Local Degree')"
     ],
     "language": "python",
     "metadata": {},
     "outputs": [
      {
       "metadata": {},
       "output_type": "display_data",
       "png": "[encoded data removed]",
       "text": [
        "<matplotlib.figure.Figure at 0x7f7d0d08f390>"
       ]
      },
      {
       "metadata": {},
       "output_type": "display_data",
       "png": "[encoded data removed]",
       "text": [
        "<matplotlib.figure.Figure at 0x7f7d0cda2f28>"
       ]
      }
     ],
     "prompt_number": 21
    },
    {
     "cell_type": "code",
     "collapsed": false,
     "input": [
      "compareDegreeDistributions('BTER', G2, _algosRandom, 'degree distributions BTER Random')\n",
      "compareDegreeDistributions('BTER', G2, _algosLocalDegree, 'degree distributions BTER Local Degree')"
     ],
     "language": "python",
     "metadata": {},
     "outputs": [
      {
       "metadata": {},
       "output_type": "display_data",
       "png": "[encoded data removed]",
       "text": [
        "<matplotlib.figure.Figure at 0x7f7d0d284940>"
       ]
      },
      {
       "metadata": {},
       "output_type": "display_data",
       "png": "[encoded data removed]",
       "text": [
        "<matplotlib.figure.Figure at 0x7f7d0c4047b8>"
       ]
      }
     ],
     "prompt_number": 24
    },
    {
     "cell_type": "code",
     "collapsed": false,
     "input": [
      "compareDegreeDistributions('USAviation', G3, _algosRandom, 'degree distributions USAviation Random')\n",
      "compareDegreeDistributions('USAviation', G3, _algosLocalDegree, 'degree distributions USAviation Local Degree')"
     ],
     "language": "python",
     "metadata": {},
     "outputs": [
      {
       "metadata": {},
       "output_type": "display_data",
       "png": "[encoded data removed]",
       "text": [
        "<matplotlib.figure.Figure at 0x7f7d0cbde518>"
       ]
      },
      {
       "metadata": {},
       "output_type": "display_data",
       "png": "[encoded data removed]",
       "text": [
        "<matplotlib.figure.Figure at 0x7f7d0d1fa898>"
       ]
      }
     ],
     "prompt_number": 30
    },
    {
     "cell_type": "heading",
     "level": 6,
     "metadata": {},
     "source": [
      "a figure illustrating heavy tailed distributions"
     ]
    },
    {
     "cell_type": "code",
     "collapsed": false,
     "input": [
      "#G8 = readGraph('/home/gerd/workspace/NetworKit-glindner/scripts/BackboneEvaluation/input/Yale4.graphml', Format.GraphML)\n",
      "#dd = properties.degreeDistribution(G8)\n",
      "\n",
      "x = range(1, 500)\n",
      "y = list(map(lambda k: 100 * pow(e, -0.01*k), x))\n",
      "z = list(map(lambda k: 100* pow(k, -0.4), x))\n",
      "#y = x\n",
      "\n",
      "rc('text', usetex=True)\n",
      "\n",
      "#plt.plot(dd, label=\"LFR-1000\")\n",
      "plt.plot(x, y, label=r\"$k \\sim e^{-\\lambda d}$\" )\n",
      "plt.plot(x, z, '--', label=r\"$k \\sim d^{-\\gamma}$\")\n",
      "\n",
      "#plt.xscale(\"log\")\n",
      "plt.xlabel(\"degree $d$\")\n",
      "#plt.yscale(\"log\")\n",
      "plt.ylabel(\"number of nodes $k$\")\n",
      "plt.title(\"Degree distribution\")\n",
      "\n",
      "plt.legend()\n",
      "\n",
      "plt.savefig('/home/gerd/workspace/ComplexNetworkBackbones/figures/heavy_tailed_illustration.pdf', bbox_inches='tight')\n",
      "plt.show()"
     ],
     "language": "python",
     "metadata": {},
     "outputs": [
      {
       "metadata": {},
       "output_type": "display_data",
       "png": "[encoded data removed]",
       "text": [
        "<matplotlib.figure.Figure at 0x7f8d10844080>"
       ]
      }
     ],
     "prompt_number": 84
    },
    {
     "cell_type": "heading",
     "level": 6,
     "metadata": {},
     "source": [
      "Why is betweenness centrality not preserved at all on so many graphs?"
     ]
    },
    {
     "cell_type": "code",
     "collapsed": false,
     "input": [
      "G = readGraph('/home/gerd/workspace/NetworKit-glindner/scripts/BackboneEvaluation/input/LFR-1000.graph', Format.METIS)\n",
      "G.indexEdges()"
     ],
     "language": "python",
     "metadata": {},
     "outputs": [],
     "prompt_number": 34
    },
    {
     "cell_type": "code",
     "collapsed": false,
     "input": [
      "def getBetweennessHubs(graph, topCount=10):\n",
      "    bc = centrality.ApproxBetweenness(graph, epsilon=0.075, delta=0.075, diameterSamples=0)\n",
      "    bc.run()\n",
      "    ranking = bc.ranking()\n",
      "    ranking.sort(key=lambda x: (x[1] if not math.isnan(x[1]) else 0), reverse=True) #Sort by centrality score\n",
      "    ranking = ranking[:topCount]\n",
      "    print(ranking)\n",
      "    return list(map(lambda x: x[0], ranking))"
     ],
     "language": "python",
     "metadata": {},
     "outputs": [],
     "prompt_number": 40
    },
    {
     "cell_type": "code",
     "collapsed": false,
     "input": [
      "B = getBackbone('LFR-1000', G, bbalgorithms.bb_LocalSimilarityBackbone(), 0.9)\n",
      "_topCount = math.ceil(G.numberOfNodes() * 0.01)\n",
      "c1 = getBetweennessHubs(G, topCount=_topCount)\n",
      "c2 = getBetweennessHubs(B, topCount=_topCount)\n",
      "print(c1)\n",
      "print(c2)\n",
      "jac = len(set(c1) & set(c2)) / len(set(c1) | set(c2))\n",
      "print(jac)"
     ],
     "language": "python",
     "metadata": {},
     "outputs": [
      {
       "output_type": "stream",
       "stream": "stdout",
       "text": [
        "[(997, 0.02444987775061125), (995, 0.019559902200488997), (994, 0.017114914425427872), (981, 0.017114914425427872), (983, 0.01466992665036675), (903, 0.014669926650366748), (998, 0.014669926650366748), (984, 0.014669926650366748), (940, 0.012224938875305624), (919, 0.012224938875305624)]\n",
        "[(862, 0.019559902200489), (941, 0.019559902200488997), (993, 0.017114914425427875), (947, 0.01466992665036675), (911, 0.01466992665036675), (979, 0.01466992665036675), (996, 0.014669926650366748), (961, 0.014669926650366748), (971, 0.014669926650366748), (989, 0.014669926650366748)]\n",
        "[997, 995, 994, 981, 983, 903, 998, 984, 940, 919]\n",
        "[862, 941, 993, 947, 911, 979, 996, 961, 971, 989]\n",
        "0.0\n"
       ]
      }
     ],
     "prompt_number": 41
    },
    {
     "cell_type": "heading",
     "level": 6,
     "metadata": {},
     "source": [
      "Why is Simmelian Multiscale so good at preserving Betweenness ans PageRank centrality?"
     ]
    },
    {
     "cell_type": "markdown",
     "metadata": {},
     "source": [
      "Lets examine this on the bter graph."
     ]
    },
    {
     "cell_type": "code",
     "collapsed": false,
     "input": [
      "G = readGraph('/home/gerd/workspace/NetworKit-glindner/scripts/BackboneEvaluation/input/Caltech36.graphml', Format.GraphML)\n",
      "#G = workflows.extractLargestComponent(__G)\n",
      "G.indexEdges()"
     ],
     "language": "python",
     "metadata": {},
     "outputs": [],
     "prompt_number": 31
    },
    {
     "cell_type": "code",
     "collapsed": false,
     "input": [
      "gc.exportGraph(G)"
     ],
     "language": "python",
     "metadata": {},
     "outputs": [],
     "prompt_number": 32
    },
    {
     "cell_type": "code",
     "collapsed": false,
     "input": [
      "cAlgo = community.PLM(refine=False, par='none')\n",
      "c = community.detectCommunities(G, cAlgo)\n",
      "gc.exportNodeValues(G, c, 'community')"
     ],
     "language": "python",
     "metadata": {},
     "outputs": [
      {
       "output_type": "stream",
       "stream": "stdout",
       "text": [
        "PLM(none,,parallel coarsening) detected communities in 0.06394457817077637 [s]\n",
        "solution properties:\n",
        "-------------------  ---------\n",
        "# communities         11\n",
        "min community size     2\n",
        "max community size   157\n",
        "avg. community size   69.9091\n",
        "modularity             0.39809\n",
        "-------------------  ---------\n"
       ]
      }
     ],
     "prompt_number": 33
    },
    {
     "cell_type": "code",
     "collapsed": false,
     "input": [
      "def getBetweennessHubs(G, ratio=0.01):\n",
      "    #bc = centrality.PageRank(G, damp=0.95)\n",
      "    bc = centrality.Betweenness(G)\n",
      "    bc.run()\n",
      "    ranking = bc.ranking()\n",
      "    ranking.sort(key=lambda x: (x[1] if not math.isnan(x[1]) else 0), reverse=True) #Sort by centrality score\n",
      "    topCount = math.ceil(G.numberOfNodes() * ratio)\n",
      "    ranking = ranking[:topCount]\n",
      "    return ranking"
     ],
     "language": "python",
     "metadata": {},
     "outputs": [],
     "prompt_number": 34
    },
    {
     "cell_type": "code",
     "collapsed": false,
     "input": [
      "hubsNonNormalized = getBetweennessHubs(G, ratio=0.05)\n",
      "centralityAttribute = [0] * G.upperNodeIdBound()\n",
      "\n",
      "#Color 'em\n",
      "color_r = [0.3] * G.upperNodeIdBound()\n",
      "color_g = [0.3] * G.upperNodeIdBound()\n",
      "color_b = [0.3] * G.upperNodeIdBound()\n",
      "\n",
      "#Normalize centrality\n",
      "maxCentrality = max(map(lambda x: x[1], hubsNonNormalized))\n",
      "hubsNormalized = [(x, y / maxCentrality) for (x,y) in hubsNonNormalized]\n",
      "#print(hubsNormalized)\n",
      "sizeAttribute = [5] * G.numberOfNodes()\n",
      "for (mynode, mycentrality) in hubsNormalized:\n",
      "    centralityAttribute[mynode] = mycentrality\n",
      "    sizeAttribute[mynode] = mycentrality * 30.0\n",
      "    color_r[mynode] = 1.0\n",
      "    \n",
      "gc.exportNodeValues(G, sizeAttribute, 'size')\n",
      "gc.exportNodeValues(G, color_r, 'r')\n",
      "gc.exportNodeValues(G, color_g, 'g')\n",
      "gc.exportNodeValues(G, color_b, 'b')"
     ],
     "language": "python",
     "metadata": {},
     "outputs": [],
     "prompt_number": 48
    },
    {
     "cell_type": "code",
     "collapsed": false,
     "input": [
      "B = bbTools.getBackbone('Caltech36', G, bbalgorithms.bb_Random(\"\"), 0.1)\n",
      "a_r = bbTools.getGephiBackboneAttribute(G, B)\n",
      "gc.exportEdgeValues(G, a_r, 'random')"
     ],
     "language": "python",
     "metadata": {},
     "outputs": [],
     "prompt_number": 41
    },
    {
     "cell_type": "code",
     "collapsed": false,
     "input": [
      "B = bbTools.getBackbone('Caltech36', G, bbalgorithms.bb_SimmelianMultiscale(), 0.1)\n",
      "a_sm = bbTools.getGephiBackboneAttribute(G, B)\n",
      "gc.exportEdgeValues(G, a_sm, 'sm')"
     ],
     "language": "python",
     "metadata": {},
     "outputs": [],
     "prompt_number": 42
    },
    {
     "cell_type": "code",
     "collapsed": false,
     "input": [
      "B = bbTools.getBackbone('Caltech36', G, bbalgorithms.bb_LocalSimilarity(), 0.1)\n",
      "a_ls = bbTools.getGephiBackboneAttribute(G, B)\n",
      "gc.exportEdgeValues(G, a_ls, 'ls')"
     ],
     "language": "python",
     "metadata": {},
     "outputs": [],
     "prompt_number": 44
    },
    {
     "cell_type": "code",
     "collapsed": false,
     "input": [
      "B = bbTools.getBackbone('Caltech36', G, bbalgorithms.bb_LocalDegree(), 0.1)\n",
      "a_ld = bbTools.getGephiBackboneAttribute(G, B)\n",
      "gc.exportEdgeValues(G, a_ld, 'ld')"
     ],
     "language": "python",
     "metadata": {},
     "outputs": [],
     "prompt_number": 45
    },
    {
     "cell_type": "heading",
     "level": 6,
     "metadata": {},
     "source": [
      "Lets do a visual comparison of all backbones on a small graph!"
     ]
    },
    {
     "cell_type": "code",
     "collapsed": false,
     "input": [
      "bbTools = BBDatabaseTools('../../scripts/BackboneEvaluation/output/backbones.db')"
     ],
     "language": "python",
     "metadata": {},
     "outputs": [],
     "prompt_number": 79
    },
    {
     "cell_type": "code",
     "collapsed": false,
     "input": [
      "G = readGraph('/home/gerd/workspace/NetworKit-glindner/input/jazz.graph', Format.METIS)\n",
      "G.indexEdges()\n",
      "gc.exportGraph(G)"
     ],
     "language": "python",
     "metadata": {},
     "outputs": [],
     "prompt_number": 80
    },
    {
     "cell_type": "code",
     "collapsed": false,
     "input": [
      "nodeSize = [3] * G.upperNodeIdBound()\n",
      "gc.exportNodeValues(G, nodeSize, 'size')"
     ],
     "language": "python",
     "metadata": {},
     "outputs": [],
     "prompt_number": 81
    },
    {
     "cell_type": "code",
     "collapsed": false,
     "input": [
      "myalgorithms = [('random', bbalgorithms.bb_Random(\"\")), ('ls', bbalgorithms.bb_LocalSimilarity()), ('ld', bbalgorithms.bb_LocalDegree()), ('snp', bbalgorithms.bb_SimmelianBackboneNonParametric()), ('sp', bbalgorithms.bb_SimmelianBackboneParametric(10)), ('sm', bbalgorithms.bb_SimmelianMultiscale()), ('ff', bbalgorithms.bb_ForestFire(\"\", 0.15, 5))]\n",
      "for (abbr, alg) in myalgorithms:\n",
      "    attr = alg.getAttribute(G)\n",
      "    bestparam = float(bbTools.getBestParameter(alg.getShortName(), 'Jazz', 0.2))\n",
      "    B = alg.getBackboneFromAttribute(G, attr, bestparam)\n",
      "    gattr = bbTools.getGephiBackboneAttribute(G, B)\n",
      "    gc.exportEdgeValues(G, gattr, abbr)\n"
     ],
     "language": "python",
     "metadata": {},
     "outputs": [],
     "prompt_number": 82
    },
    {
     "cell_type": "heading",
     "level": 6,
     "metadata": {},
     "source": [
      "Why the heck does nmi increase that quickly, actually?"
     ]
    },
    {
     "cell_type": "code",
     "collapsed": false,
     "input": [
      "bbTools = BBDatabaseTools('../../scripts/BackboneEvaluation/output/backbones.db')"
     ],
     "language": "python",
     "metadata": {},
     "outputs": [],
     "prompt_number": 24
    },
    {
     "cell_type": "code",
     "collapsed": false,
     "input": [
      "G = readGraph('/home/gerd/workspace/NetworKit-glindner/scripts/BackboneEvaluation/input/LFR-1000.graph', Format.METIS)\n",
      "G.indexEdges()\n",
      "gc.exportGraph(G)"
     ],
     "language": "python",
     "metadata": {},
     "outputs": [],
     "prompt_number": 36
    },
    {
     "cell_type": "code",
     "collapsed": false,
     "input": [
      "cAlgo = community.PLM(refine=False, par='none')\n",
      "c = community.detectCommunities(G, cAlgo)\n",
      "gc.exportNodeValues(G, c, 'community')"
     ],
     "language": "python",
     "metadata": {},
     "outputs": [
      {
       "output_type": "stream",
       "stream": "stdout",
       "text": [
        "PLM(none,,parallel coarsening) detected communities in 0.07519388198852539 [s]\n",
        "solution properties:\n",
        "-------------------  --------\n",
        "# communities        19\n",
        "min community size   23\n",
        "max community size   93\n",
        "avg. community size  52.6316\n",
        "modularity            0.63886\n",
        "-------------------  --------\n"
       ]
      }
     ],
     "prompt_number": 37
    },
    {
     "cell_type": "code",
     "collapsed": false,
     "input": [
      "B = bbTools.getBackbone('LFR-1000', G, bbalgorithms.bb_Test(\"TD\", 0.0), 0.2)\n",
      "a = bbTools.getGephiBackboneAttribute(G, B)\n",
      "gc.exportEdgeValues(G, a, 'backbone')"
     ],
     "language": "python",
     "metadata": {},
     "outputs": [],
     "prompt_number": 39
    },
    {
     "cell_type": "code",
     "collapsed": false,
     "input": [
      "c = community.detectCommunities(B, cAlgo)\n",
      "gc.exportNodeValues(G, c, 'communityB')"
     ],
     "language": "python",
     "metadata": {},
     "outputs": [
      {
       "output_type": "stream",
       "stream": "stdout",
       "text": [
        "PLM(none,,parallel coarsening) detected communities in 0.043487548828125 [s]\n",
        "solution properties:\n",
        "-------------------  ----------\n",
        "# communities         17\n",
        "min community size    29\n",
        "max community size   103\n",
        "avg. community size   58.8235\n",
        "modularity             0.686325\n",
        "-------------------  ----------\n"
       ]
      }
     ],
     "prompt_number": 40
    },
    {
     "cell_type": "code",
     "collapsed": false,
     "input": [
      "B = bbTools.getBackbone('LFR-1000', G, bbalgorithms.bb_RandomBackbone(\"1\"), 0.2)\n",
      "a = bbTools.getGephiBackboneAttribute(G, B)\n",
      "gc.exportEdgeValues(G, a, 'backboneR')"
     ],
     "language": "python",
     "metadata": {},
     "outputs": [],
     "prompt_number": 41
    },
    {
     "cell_type": "code",
     "collapsed": false,
     "input": [
      "c = community.detectCommunities(B, cAlgo)\n",
      "gc.exportNodeValues(G, c, 'communityR')"
     ],
     "language": "python",
     "metadata": {},
     "outputs": [
      {
       "output_type": "stream",
       "stream": "stdout",
       "text": [
        "PLM(none,,parallel coarsening) detected communities in 0.09598827362060547 [s]\n",
        "solution properties:\n",
        "-------------------  --------\n",
        "# communities        54\n",
        "min community size    1\n",
        "max community size   81\n",
        "avg. community size  18.5185\n",
        "modularity            0.62203\n",
        "-------------------  --------\n"
       ]
      }
     ],
     "prompt_number": 42
    },
    {
     "cell_type": "heading",
     "level": 6,
     "metadata": {},
     "source": [
      "How can the size of the largest connected community increase in some cases with decreasing edge ratio?"
     ]
    },
    {
     "cell_type": "code",
     "collapsed": false,
     "input": [
      "G = readGraph('/home/gerd/workspace/NetworKit-glindner/scripts/BackboneEvaluation/input/LFR-1000.graph', Format.METIS)\n",
      "G.indexEdges()"
     ],
     "language": "python",
     "metadata": {},
     "outputs": [],
     "prompt_number": 6
    },
    {
     "cell_type": "code",
     "collapsed": false,
     "input": [],
     "language": "python",
     "metadata": {},
     "outputs": [
      {
       "metadata": {},
       "output_type": "pyout",
       "prompt_number": 7,
       "text": [
        "4"
       ]
      }
     ],
     "prompt_number": 7
    },
    {
     "cell_type": "heading",
     "level": 6,
     "metadata": {},
     "source": [
      "Why doest Local Degree succeed at preserving the average local clustering coefficient?"
     ]
    },
    {
     "cell_type": "code",
     "collapsed": false,
     "input": [],
     "language": "python",
     "metadata": {},
     "outputs": []
    }
   ],
   "metadata": {}
  }
 ]
}
{
 "metadata": {
  "name": "",
  "signature": "sha256:b054e142cbc56bd6c37f8a89b5709efada013286409dbc3f8a6c223d0dafb661"
 },
 "nbformat": 3,
 "nbformat_minor": 0,
 "worksheets": [
  {
   "cells": [
    {
     "cell_type": "code",
     "collapsed": false,
     "input": [
      "from NetworKit import *"
     ],
     "language": "python",
     "metadata": {},
     "outputs": [],
     "prompt_number": 46
    },
    {
     "cell_type": "code",
     "collapsed": false,
     "input": [
      "G = readGraph(\"../../../ComplexNetworkBackbones/evaluation/input/Caltech36.graphml\", Format.GraphML)"
     ],
     "language": "python",
     "metadata": {},
     "outputs": [],
     "prompt_number": 47
    },
    {
     "cell_type": "code",
     "collapsed": false,
     "input": [
      "targetEdges = 0.8\n",
      "maxSteps = 10\n",
      "print(\"Target reduction: \", G.numberOfEdges(), \" --> \", G.numberOfEdges() * targetEdges)\n",
      "print(\"(using a maximum of \", maxSteps, \" steps)\")"
     ],
     "language": "python",
     "metadata": {},
     "outputs": [
      {
       "output_type": "stream",
       "stream": "stdout",
       "text": [
        "Target reduction:  16656  -->  13324.800000000001\n",
        "(using a maximum of  10  steps)\n"
       ]
      }
     ],
     "prompt_number": 48
    },
    {
     "cell_type": "code",
     "collapsed": false,
     "input": [
      "#We will now try to find a fitting parameter using binary search.\n",
      "lowerBound = 0.0\n",
      "upperBound = 1.0\n",
      "estimation = 0.0\n",
      "\n",
      "minDistance = 1.0\n",
      "bestParameter = 0.0\n",
      "\n",
      "for i in range(0, maxSteps):\n",
      "    estimation = (lowerBound + upperBound) / 2.0\n",
      "    algorithm = backbones.SimmelianBackboneNonParametric(estimation)\n",
      "    backbone = algorithm.calculate(G)\n",
      "    currentEdges = backbone.numberOfEdges() / G.numberOfEdges()\n",
      "    \n",
      "    print (\"Current edges: \", currentEdges)\n",
      "    \n",
      "    distance = abs(currentEdges - targetEdges)\n",
      "    if distance < minDistance:\n",
      "        minDistance = distance\n",
      "        bestParameter = estimation\n",
      "    \n",
      "    if currentEdges < targetEdges:\n",
      "        upperBound = estimation\n",
      "    elif currentEdges > targetEdges:\n",
      "        lowerBound = estimation\n",
      "    else:\n",
      "        break"
     ],
     "language": "python",
     "metadata": {},
     "outputs": [
      {
       "output_type": "stream",
       "stream": "stdout",
       "text": [
        "Current edges:  0.35866954851104704\n",
        "Current edges: "
       ]
      },
      {
       "output_type": "stream",
       "stream": "stdout",
       "text": [
        " 0.5890369836695485\n",
        "Current edges: "
       ]
      },
      {
       "output_type": "stream",
       "stream": "stdout",
       "text": [
        " 0.8236071085494716\n",
        "Current edges: "
       ]
      },
      {
       "output_type": "stream",
       "stream": "stdout",
       "text": [
        " 0.6805955811719501\n",
        "Current edges: "
       ]
      },
      {
       "output_type": "stream",
       "stream": "stdout",
       "text": [
        " 0.7420148895292987\n",
        "Current edges: "
       ]
      },
      {
       "output_type": "stream",
       "stream": "stdout",
       "text": [
        " 0.7837415946205571\n",
        "Current edges: "
       ]
      },
      {
       "output_type": "stream",
       "stream": "stdout",
       "text": [
        " 0.8017531219980788\n",
        "Current edges: "
       ]
      },
      {
       "output_type": "stream",
       "stream": "stdout",
       "text": [
        " 0.7918467819404419\n",
        "Current edges: "
       ]
      },
      {
       "output_type": "stream",
       "stream": "stdout",
       "text": [
        " 0.7971902017291066\n",
        "Current edges: "
       ]
      },
      {
       "output_type": "stream",
       "stream": "stdout",
       "text": [
        " 0.7990513928914506\n"
       ]
      }
     ],
     "prompt_number": 49
    },
    {
     "cell_type": "code",
     "collapsed": false,
     "input": [
      "print(\"Best found estimation parameter: \", bestParameter)\n",
      "print(\"Kept edges: \", currentEdges, \" (target: \", targetEdges, \")\")"
     ],
     "language": "python",
     "metadata": {},
     "outputs": [
      {
       "output_type": "stream",
       "stream": "stdout",
       "text": [
        "Best found estimation parameter:  0.1337890625\n",
        "Kept edges:  0.7990513928914506  (target:  0.8 )\n"
       ]
      }
     ],
     "prompt_number": 6
    },
    {
     "cell_type": "heading",
     "level": 6,
     "metadata": {},
     "source": [
      "Actual implementation"
     ]
    },
    {
     "cell_type": "code",
     "collapsed": false,
     "input": [
      "def parameterizeUsingDouble(algorithmString, targetEdgePercentage, \n",
      "                            lowerBound, upperBound, maxSteps, increasing):\n",
      "    print(\"Parameterizing \", algorithmString, \" ...\")\n",
      "    estimation = lowerBound\n",
      "    bestParameter = lowerBound\n",
      "    minDistance = upperBound\n",
      "\n",
      "    for i in range(0, maxSteps):\n",
      "        estimation = (lowerBound + upperBound) / 2.0\n",
      "        algorithm = eval(algorithmString.replace(\"[0,1]\", str(estimation)))\n",
      "        backbone = algorithm.calculate(G)\n",
      "        currentEdgePercentage = backbone.numberOfEdges() / G.numberOfEdges()\n",
      "    \n",
      "        print (\"Est:\", str(estimation), \"ep: \", currentEdgePercentage, \", tep: \", targetEdgePercentage)\n",
      "    \n",
      "        distance = abs(currentEdgePercentage - targetEdgePercentage)\n",
      "        if distance < minDistance:\n",
      "            minDistance = distance\n",
      "            bestParameter = estimation\n",
      "    \n",
      "        #\"Exact\" hit?\n",
      "        if abs(currentEdgePercentage - targetEdgePercentage) < 1e-7:\n",
      "            break;\n",
      "    \n",
      "        increase = (currentEdgePercentage < targetEdgePercentage) \n",
      "        if not increasing:\n",
      "            increase = not increase\n",
      "            \n",
      "        if increase:\n",
      "            lowerBound = estimation\n",
      "        else:\n",
      "            upperBound = estimation\n",
      "            \n",
      "    return algorithmString.replace(\"[0,1]\", str(bestParameter))"
     ],
     "language": "python",
     "metadata": {},
     "outputs": [],
     "prompt_number": 65
    },
    {
     "cell_type": "code",
     "collapsed": false,
     "input": [
      "def parameterizeUsingInteger(algorithmString, targetEdgePercentage, \n",
      "                             lowerBound, upperBound, increasing):\n",
      "    print(\"Parameterizing \", algorithmString, \" ...\")\n",
      "    bestParameter = lowerBound\n",
      "    bestPercentage = 0.0\n",
      "    minDistance = 100.0\n",
      "    \n",
      "    for i in range(lowerBound, upperBound + 1):\n",
      "        algorithm = eval(algorithmString.replace(\"{0-10}\", str(i)))\n",
      "        backbone = algorithm.calculate(G)\n",
      "        currentEdgePercentage = backbone.numberOfEdges() / G.numberOfEdges()\n",
      "        \n",
      "        print (\"Current ep: \", currentEdgePercentage, \", target ep: \", targetEdgePercentage)\n",
      "    \n",
      "        distance = abs(currentEdgePercentage - targetEdgePercentage)\n",
      "        if distance < minDistance:\n",
      "            minDistance = distance\n",
      "            bestParameter = i\n",
      "            bestPercentage = currentEdgePercentage\n",
      "    \n",
      "    print(\"Best fit for parameter: \", bestParameter, \" ep: \", bestPercentage, \", tep: \", targetEdgePercentage)\n",
      "    return algorithmString.replace(\"{0-10}\", str(bestParameter))"
     ],
     "language": "python",
     "metadata": {},
     "outputs": [],
     "prompt_number": 110
    },
    {
     "cell_type": "code",
     "collapsed": false,
     "input": [
      "#Target edge percentages:\n",
      "targetEdgePercentages = [0.01, 0.02, 0.1, 0.5, 0.75, 0.9]\n",
      "\n",
      "#The algorithms to evaluate. [0,1]: floating point range, {0-10}: integer range.\n",
      "#Part two of the tuples indicates whether the number of kept edges increases with increasing parameter.\n",
      "inputAlgorithms = [(\"backbones.SimmelianBackboneNonParametric([0,1])\", False),\n",
      "              (\"backbones.SimmelianMultiscaleBackbone([0,1])\", True),\n",
      "              (\"backbones.LocalSimilarityBackbone([0,1])\", False),\n",
      "              (\"backbones.SimmelianBackboneParametric(10, {0-10})\", False)]\n",
      "\n",
      "# TODO: Actually use those interval limits given in the input strings... :D"
     ],
     "language": "python",
     "metadata": {},
     "outputs": [],
     "prompt_number": 114
    },
    {
     "cell_type": "code",
     "collapsed": false,
     "input": [
      "#Find suitable parameters for each pair of (algorithm, target edge percentage)\n",
      "outputAlgorithms = []\n",
      "for (iAlg, increasing) in inputAlgorithms:\n",
      "    print(iAlg)\n",
      "    for targetEp in targetEdgePercentages:\n",
      "        if \"[0,1]\" in iAlg:\n",
      "            outputAlgorithm = parameterizeUsingDouble(iAlg, targetEp, 0.0, 1.0, 10, increasing)\n",
      "        elif \"{0-10}\" in iAlg:\n",
      "            outputAlgorithm = parameterizeUsingInteger(iAlg, targetEp, 0, 10, increasing)\n",
      "        else:\n",
      "            outputAlgorithm = None\n",
      "        outputAlgorithms.append(outputAlgorithm)"
     ],
     "language": "python",
     "metadata": {},
     "outputs": [
      {
       "output_type": "stream",
       "stream": "stdout",
       "text": [
        "backbones.SimmelianBackboneNonParametric([0,1])\n",
        "Parameterizing  backbones.SimmelianBackboneNonParametric([0,1])  ...\n",
        "Est:"
       ]
      },
      {
       "output_type": "stream",
       "stream": "stdout",
       "text": [
        " 0.5 ep:  0.35866954851104704 , tep:  0.01\n",
        "Est:"
       ]
      },
      {
       "output_type": "stream",
       "stream": "stdout",
       "text": [
        " 0.75 ep:  0.18509846301633046 , tep:  0.01\n",
        "Est:"
       ]
      },
      {
       "output_type": "stream",
       "stream": "stdout",
       "text": [
        " 0.875 ep:  0.15411863592699326 , tep:  0.01\n",
        "Est:"
       ]
      },
      {
       "output_type": "stream",
       "stream": "stdout",
       "text": [
        " 0.9375 ep:  0.14943563880883765 , tep:  0.01\n",
        "Est:"
       ]
      },
      {
       "output_type": "stream",
       "stream": "stdout",
       "text": [
        " 0.96875 ep:  0.1491954851104707 , tep:  0.01\n",
        "Est:"
       ]
      },
      {
       "output_type": "stream",
       "stream": "stdout",
       "text": [
        " 0.984375 ep:  0.1491954851104707 , tep:  0.01\n",
        "Est:"
       ]
      },
      {
       "output_type": "stream",
       "stream": "stdout",
       "text": [
        " 0.9921875 ep:  0.1491954851104707 , tep:  0.01\n",
        "Est:"
       ]
      },
      {
       "output_type": "stream",
       "stream": "stdout",
       "text": [
        " 0.99609375 ep:  0.1491954851104707 , tep:  0.01\n",
        "Est:"
       ]
      },
      {
       "output_type": "stream",
       "stream": "stdout",
       "text": [
        " 0.998046875 ep:  0.1491954851104707 , tep:  0.01\n",
        "Est:"
       ]
      },
      {
       "output_type": "stream",
       "stream": "stdout",
       "text": [
        " 0.9990234375 ep:  0.1491954851104707 , tep:  0.01\n",
        "Parameterizing  backbones.SimmelianBackboneNonParametric([0,1])  ...\n",
        "Est:"
       ]
      },
      {
       "output_type": "stream",
       "stream": "stdout",
       "text": [
        " 0.5 ep:  0.35866954851104704 , tep:  0.02\n",
        "Est:"
       ]
      },
      {
       "output_type": "stream",
       "stream": "stdout",
       "text": [
        " 0.75 ep:  0.18509846301633046 , tep:  0.02\n",
        "Est:"
       ]
      },
      {
       "output_type": "stream",
       "stream": "stdout",
       "text": [
        " 0.875 ep:  0.15411863592699326 , tep:  0.02\n",
        "Est:"
       ]
      },
      {
       "output_type": "stream",
       "stream": "stdout",
       "text": [
        " 0.9375 ep:  0.14943563880883765 , tep:  0.02\n",
        "Est:"
       ]
      },
      {
       "output_type": "stream",
       "stream": "stdout",
       "text": [
        " 0.96875 ep:  0.1491954851104707 , tep:  0.02\n",
        "Est:"
       ]
      },
      {
       "output_type": "stream",
       "stream": "stdout",
       "text": [
        " 0.984375 ep:  0.1491954851104707 , tep:  0.02\n",
        "Est:"
       ]
      },
      {
       "output_type": "stream",
       "stream": "stdout",
       "text": [
        " 0.9921875 ep:  0.1491954851104707 , tep:  0.02\n",
        "Est:"
       ]
      },
      {
       "output_type": "stream",
       "stream": "stdout",
       "text": [
        " 0.99609375 ep:  0.1491954851104707 , tep:  0.02\n",
        "Est:"
       ]
      },
      {
       "output_type": "stream",
       "stream": "stdout",
       "text": [
        " 0.998046875 ep:  0.1491954851104707 , tep:  0.02\n",
        "Est:"
       ]
      },
      {
       "output_type": "stream",
       "stream": "stdout",
       "text": [
        " 0.9990234375 ep:  0.1491954851104707 , tep:  0.02\n",
        "Parameterizing  backbones.SimmelianBackboneNonParametric([0,1])  ...\n",
        "Est:"
       ]
      },
      {
       "output_type": "stream",
       "stream": "stdout",
       "text": [
        " 0.5 ep:  0.35866954851104704 , tep:  0.1\n",
        "Est:"
       ]
      },
      {
       "output_type": "stream",
       "stream": "stdout",
       "text": [
        " 0.75 ep:  0.18509846301633046 , tep:  0.1\n",
        "Est:"
       ]
      },
      {
       "output_type": "stream",
       "stream": "stdout",
       "text": [
        " 0.875 ep:  0.15411863592699326 , tep:  0.1\n",
        "Est:"
       ]
      },
      {
       "output_type": "stream",
       "stream": "stdout",
       "text": [
        " 0.9375 ep:  0.14943563880883765 , tep:  0.1\n",
        "Est:"
       ]
      },
      {
       "output_type": "stream",
       "stream": "stdout",
       "text": [
        " 0.96875 ep:  0.1491954851104707 , tep:  0.1\n",
        "Est:"
       ]
      },
      {
       "output_type": "stream",
       "stream": "stdout",
       "text": [
        " 0.984375 ep:  0.1491954851104707 , tep:  0.1\n",
        "Est:"
       ]
      },
      {
       "output_type": "stream",
       "stream": "stdout",
       "text": [
        " 0.9921875 ep:  0.1491954851104707 , tep:  0.1\n",
        "Est:"
       ]
      },
      {
       "output_type": "stream",
       "stream": "stdout",
       "text": [
        " 0.99609375 ep:  0.1491954851104707 , tep:  0.1\n",
        "Est:"
       ]
      },
      {
       "output_type": "stream",
       "stream": "stdout",
       "text": [
        " 0.998046875 ep:  0.1491954851104707 , tep:  0.1\n",
        "Est:"
       ]
      },
      {
       "output_type": "stream",
       "stream": "stdout",
       "text": [
        " 0.9990234375 ep:  0.1491954851104707 , tep:  0.1\n",
        "Parameterizing  backbones.SimmelianBackboneNonParametric([0,1])  ...\n",
        "Est:"
       ]
      },
      {
       "output_type": "stream",
       "stream": "stdout",
       "text": [
        " 0.5 ep:  0.35866954851104704 , tep:  0.5\n",
        "Est:"
       ]
      },
      {
       "output_type": "stream",
       "stream": "stdout",
       "text": [
        " 0.25 ep:  0.5890369836695485 , tep:  0.5\n",
        "Est:"
       ]
      },
      {
       "output_type": "stream",
       "stream": "stdout",
       "text": [
        " 0.375 ep:  0.44116234390009607 , tep:  0.5\n",
        "Est:"
       ]
      },
      {
       "output_type": "stream",
       "stream": "stdout",
       "text": [
        " 0.3125 ep:  0.5138088376560999 , tep:  0.5\n",
        "Est:"
       ]
      },
      {
       "output_type": "stream",
       "stream": "stdout",
       "text": [
        " 0.34375 ep:  0.4606147934678194 , tep:  0.5\n",
        "Est:"
       ]
      },
      {
       "output_type": "stream",
       "stream": "stdout",
       "text": [
        " 0.328125 ep:  0.5044428434197886 , tep:  0.5\n",
        "Est:"
       ]
      },
      {
       "output_type": "stream",
       "stream": "stdout",
       "text": [
        " 0.3359375 ep:  0.46301633045148893 , tep:  0.5\n",
        "Est:"
       ]
      },
      {
       "output_type": "stream",
       "stream": "stdout",
       "text": [
        " 0.33203125 ep:  0.5037223823246878 , tep:  0.5\n",
        "Est:"
       ]
      },
      {
       "output_type": "stream",
       "stream": "stdout",
       "text": [
        " 0.333984375 ep:  0.46301633045148893 , tep:  0.5\n",
        "Est:"
       ]
      },
      {
       "output_type": "stream",
       "stream": "stdout",
       "text": [
        " 0.3330078125 ep:  0.5037223823246878 , tep:  0.5\n",
        "Parameterizing  backbones.SimmelianBackboneNonParametric([0,1])  ...\n",
        "Est:"
       ]
      },
      {
       "output_type": "stream",
       "stream": "stdout",
       "text": [
        " 0.5 ep:  0.35866954851104704 , tep:  0.75\n",
        "Est:"
       ]
      },
      {
       "output_type": "stream",
       "stream": "stdout",
       "text": [
        " 0.25 ep:  0.5890369836695485 , tep:  0.75\n",
        "Est:"
       ]
      },
      {
       "output_type": "stream",
       "stream": "stdout",
       "text": [
        " 0.125 ep:  0.8236071085494716 , tep:  0.75\n",
        "Est:"
       ]
      },
      {
       "output_type": "stream",
       "stream": "stdout",
       "text": [
        " 0.1875 ep:  0.6805955811719501 , tep:  0.75\n",
        "Est:"
       ]
      },
      {
       "output_type": "stream",
       "stream": "stdout",
       "text": [
        " 0.15625 ep:  0.7420148895292987 , tep:  0.75\n",
        "Est:"
       ]
      },
      {
       "output_type": "stream",
       "stream": "stdout",
       "text": [
        " 0.140625 ep:  0.7837415946205571 , tep:  0.75\n",
        "Est:"
       ]
      },
      {
       "output_type": "stream",
       "stream": "stdout",
       "text": [
        " 0.1484375 ep:  0.7587055715658021 , tep:  0.75\n",
        "Est:"
       ]
      },
      {
       "output_type": "stream",
       "stream": "stdout",
       "text": [
        " 0.15234375 ep:  0.7507204610951008 , tep:  0.75\n",
        "Est:"
       ]
      },
      {
       "output_type": "stream",
       "stream": "stdout",
       "text": [
        " 0.154296875 ep:  0.7450768491834774 , tep:  0.75\n",
        "Est:"
       ]
      },
      {
       "output_type": "stream",
       "stream": "stdout",
       "text": [
        " 0.1533203125 ep:  0.7492795389048992 , tep:  0.75\n",
        "Parameterizing  backbones.SimmelianBackboneNonParametric([0,1])  ...\n",
        "Est:"
       ]
      },
      {
       "output_type": "stream",
       "stream": "stdout",
       "text": [
        " 0.5 ep:  0.35866954851104704 , tep:  0.9\n",
        "Est:"
       ]
      },
      {
       "output_type": "stream",
       "stream": "stdout",
       "text": [
        " 0.25 ep:  0.5890369836695485 , tep:  0.9\n",
        "Est:"
       ]
      },
      {
       "output_type": "stream",
       "stream": "stdout",
       "text": [
        " 0.125 ep:  0.8236071085494716 , tep:  0.9\n",
        "Est:"
       ]
      },
      {
       "output_type": "stream",
       "stream": "stdout",
       "text": [
        " 0.0625 ep:  0.9547910662824207 , tep:  0.9\n",
        "Est:"
       ]
      },
      {
       "output_type": "stream",
       "stream": "stdout",
       "text": [
        " 0.09375 ep:  0.8955331412103746 , tep:  0.9\n",
        "Est:"
       ]
      },
      {
       "output_type": "stream",
       "stream": "stdout",
       "text": [
        " 0.078125 ep:  0.9271733909702209 , tep:  0.9\n",
        "Est:"
       ]
      },
      {
       "output_type": "stream",
       "stream": "stdout",
       "text": [
        " 0.0859375 ep:  0.9113832853025937 , tep:  0.9\n",
        "Est:"
       ]
      },
      {
       "output_type": "stream",
       "stream": "stdout",
       "text": [
        " 0.08984375 ep:  0.9035782901056676 , tep:  0.9\n",
        "Est:"
       ]
      },
      {
       "output_type": "stream",
       "stream": "stdout",
       "text": [
        " 0.091796875 ep:  0.8982949087415946 , tep:  0.9\n",
        "Est:"
       ]
      },
      {
       "output_type": "stream",
       "stream": "stdout",
       "text": [
        " 0.0908203125 ep:  0.9026176753121998 , tep:  0.9\n",
        "backbones.SimmelianMultiscaleBackbone([0,1])\n",
        "Parameterizing  backbones.SimmelianMultiscaleBackbone([0,1])  ...\n",
        "Est: 0.5 ep:  0.9998799231508165 , tep:  0.01\n",
        "Est:"
       ]
      },
      {
       "output_type": "stream",
       "stream": "stdout",
       "text": [
        " 0.25 ep:  0.0 , tep:  0.01\n",
        "Est: 0.375 ep:  0.9815682036503363 , tep:  0.01\n",
        "Est:"
       ]
      },
      {
       "output_type": "stream",
       "stream": "stdout",
       "text": [
        " 0.3125 ep:  0.0 , tep:  0.01\n",
        "Est: 0.34375 ep:  0.0 , tep:  0.01\n",
        "Est:"
       ]
      },
      {
       "output_type": "stream",
       "stream": "stdout",
       "text": [
        " 0.359375 ep:  0.0 , tep:  0.01\n",
        "Est: 0.3671875 ep:  0.0 , tep:  0.01\n",
        "Est:"
       ]
      },
      {
       "output_type": "stream",
       "stream": "stdout",
       "text": [
        " 0.37109375 ep:  0.8426993275696446 , tep:  0.01\n",
        "Est: 0.369140625 ep:  0.14187079731027857 , tep:  0.01\n",
        "Est:"
       ]
      },
      {
       "output_type": "stream",
       "stream": "stdout",
       "text": [
        " 0.3681640625 ep:  0.0 , tep:  0.01\n",
        "Parameterizing  backbones.SimmelianMultiscaleBackbone([0,1])  ...\n",
        "Est: 0.5 ep:  0.9998799231508165 , tep:  0.02\n",
        "Est:"
       ]
      },
      {
       "output_type": "stream",
       "stream": "stdout",
       "text": [
        " 0.25 ep:  0.0 , tep:  0.02\n",
        "Est: 0.375 ep:  0.9815682036503363 , tep:  0.02\n",
        "Est:"
       ]
      },
      {
       "output_type": "stream",
       "stream": "stdout",
       "text": [
        " 0.3125 ep:  0.0 , tep:  0.02\n",
        "Est: 0.34375 ep:  0.0 , tep:  0.02\n",
        "Est:"
       ]
      },
      {
       "output_type": "stream",
       "stream": "stdout",
       "text": [
        " 0.359375 ep:  0.0 , tep:  0.02\n",
        "Est: 0.3671875 ep:  0.0 , tep:  0.02\n",
        "Est:"
       ]
      },
      {
       "output_type": "stream",
       "stream": "stdout",
       "text": [
        " 0.37109375 ep:  0.8426993275696446 , tep:  0.02\n",
        "Est: 0.369140625 ep:  0.14187079731027857 , tep:  0.02\n",
        "Est:"
       ]
      },
      {
       "output_type": "stream",
       "stream": "stdout",
       "text": [
        " 0.3681640625 ep:  0.0 , tep:  0.02\n",
        "Parameterizing  backbones.SimmelianMultiscaleBackbone([0,1])  ...\n",
        "Est: 0.5 ep:  0.9998799231508165 , tep:  0.1\n",
        "Est:"
       ]
      },
      {
       "output_type": "stream",
       "stream": "stdout",
       "text": [
        " 0.25 ep:  0.0 , tep:  0.1\n",
        "Est: 0.375 ep:  0.9815682036503363 , tep:  0.1\n",
        "Est:"
       ]
      },
      {
       "output_type": "stream",
       "stream": "stdout",
       "text": [
        " 0.3125 ep:  0.0 , tep:  0.1\n",
        "Est: 0.34375 ep:  0.0 , tep:  0.1\n",
        "Est:"
       ]
      },
      {
       "output_type": "stream",
       "stream": "stdout",
       "text": [
        " 0.359375 ep:  0.0 , tep:  0.1\n",
        "Est: 0.3671875 ep:  0.0 , tep:  0.1\n",
        "Est:"
       ]
      },
      {
       "output_type": "stream",
       "stream": "stdout",
       "text": [
        " 0.37109375 ep:  0.8426993275696446 , tep:  0.1\n",
        "Est: 0.369140625 ep:  0.14187079731027857 , tep:  0.1\n",
        "Est:"
       ]
      },
      {
       "output_type": "stream",
       "stream": "stdout",
       "text": [
        " 0.3681640625 ep:  0.0 , tep:  0.1\n",
        "Parameterizing  backbones.SimmelianMultiscaleBackbone([0,1])  ...\n",
        "Est:"
       ]
      },
      {
       "output_type": "stream",
       "stream": "stdout",
       "text": [
        " 0.5 ep:  0.9998799231508165 , tep:  0.5\n",
        "Est:"
       ]
      },
      {
       "output_type": "stream",
       "stream": "stdout",
       "text": [
        " 0.25 ep:  0.0 , tep:  0.5\n",
        "Est: 0.375 ep:  0.9815682036503363 , tep:  0.5\n",
        "Est:"
       ]
      },
      {
       "output_type": "stream",
       "stream": "stdout",
       "text": [
        " 0.3125 ep:  0.0 , tep:  0.5\n",
        "Est: 0.34375 ep:  0.0 , tep:  0.5\n",
        "Est:"
       ]
      },
      {
       "output_type": "stream",
       "stream": "stdout",
       "text": [
        " 0.359375 ep:  0.0 , tep:  0.5\n",
        "Est: 0.3671875 ep:  0.0 , tep:  0.5\n",
        "Est:"
       ]
      },
      {
       "output_type": "stream",
       "stream": "stdout",
       "text": [
        " 0.37109375 ep:  0.8426993275696446 , tep:  0.5\n",
        "Est: 0.369140625 ep:  0.14187079731027857 , tep:  0.5\n",
        "Est:"
       ]
      },
      {
       "output_type": "stream",
       "stream": "stdout",
       "text": [
        " 0.3701171875 ep:  0.5881364073006724 , tep:  0.5\n",
        "Parameterizing  backbones.SimmelianMultiscaleBackbone([0,1])  ...\n",
        "Est: 0.5 ep:  0.9998799231508165 , tep:  0.75\n",
        "Est:"
       ]
      },
      {
       "output_type": "stream",
       "stream": "stdout",
       "text": [
        " 0.25 ep:  0.0 , tep:  0.75\n",
        "Est: 0.375 ep:  0.9815682036503363 , tep:  0.75\n",
        "Est:"
       ]
      },
      {
       "output_type": "stream",
       "stream": "stdout",
       "text": [
        " 0.3125 ep:  0.0 , tep:  0.75\n",
        "Est: 0.34375 ep:  0.0 , tep:  0.75\n",
        "Est:"
       ]
      },
      {
       "output_type": "stream",
       "stream": "stdout",
       "text": [
        " 0.359375 ep:  0.0 , tep:  0.75\n",
        "Est: 0.3671875 ep:  0.0 , tep:  0.75\n",
        "Est:"
       ]
      },
      {
       "output_type": "stream",
       "stream": "stdout",
       "text": [
        " 0.37109375 ep:  0.8426993275696446 , tep:  0.75\n",
        "Est: 0.369140625 ep:  0.14187079731027857 , tep:  0.75\n",
        "Est:"
       ]
      },
      {
       "output_type": "stream",
       "stream": "stdout",
       "text": [
        " 0.3701171875 ep:  0.5881364073006724 , tep:  0.75\n",
        "Parameterizing  backbones.SimmelianMultiscaleBackbone([0,1])  ...\n",
        "Est: 0.5 ep:  0.9998799231508165 , tep:  0.9\n",
        "Est:"
       ]
      },
      {
       "output_type": "stream",
       "stream": "stdout",
       "text": [
        " 0.25 ep:  0.0 , tep:  0.9\n",
        "Est: 0.375 ep:  0.9815682036503363 , tep:  0.9\n",
        "Est:"
       ]
      },
      {
       "output_type": "stream",
       "stream": "stdout",
       "text": [
        " 0.3125 ep:  0.0 , tep:  0.9\n",
        "Est: 0.34375 ep:  0.0 , tep:  0.9\n",
        "Est:"
       ]
      },
      {
       "output_type": "stream",
       "stream": "stdout",
       "text": [
        " 0.359375 ep:  0.0 , tep:  0.9\n",
        "Est: 0.3671875 ep:  0.0 , tep:  0.9\n",
        "Est:"
       ]
      },
      {
       "output_type": "stream",
       "stream": "stdout",
       "text": [
        " 0.37109375 ep:  0.8426993275696446 , tep:  0.9\n",
        "Est: 0.373046875 ep:  0.9621157540826129 , tep:  0.9\n",
        "Est:"
       ]
      },
      {
       "output_type": "stream",
       "stream": "stdout",
       "text": [
        " 0.3720703125 ep:  0.9279538904899135 , tep:  0.9\n",
        "backbones.LocalSimilarityBackbone([0,1])\n",
        "Parameterizing  backbones.LocalSimilarityBackbone([0,1])  ...\n",
        "Est:"
       ]
      },
      {
       "output_type": "stream",
       "stream": "stdout",
       "text": [
        " 0.5 ep:  0.8232468780019212 , tep:  0.01\n",
        "Est:"
       ]
      },
      {
       "output_type": "stream",
       "stream": "stdout",
       "text": [
        " 0.75 ep:  0.5489913544668588 , tep:  0.01\n",
        "Est:"
       ]
      },
      {
       "output_type": "stream",
       "stream": "stdout",
       "text": [
        " 0.875 ep:  0.2929875120076849 , tep:  0.01\n",
        "Est:"
       ]
      },
      {
       "output_type": "stream",
       "stream": "stdout",
       "text": [
        " 0.9375 ep:  0.1403698366954851 , tep:  0.01\n",
        "Est:"
       ]
      },
      {
       "output_type": "stream",
       "stream": "stdout",
       "text": [
        " 0.96875 ep:  0.06790345821325648 , tep:  0.01\n",
        "Est:"
       ]
      },
      {
       "output_type": "stream",
       "stream": "stdout",
       "text": [
        " 0.984375 ep:  0.032780979827089336 , tep:  0.01\n",
        "Est:"
       ]
      },
      {
       "output_type": "stream",
       "stream": "stdout",
       "text": [
        " 0.9921875 ep:  0.017411143131604228 , tep:  0.01\n",
        "Est:"
       ]
      },
      {
       "output_type": "stream",
       "stream": "stdout",
       "text": [
        " 0.99609375 ep:  0.01074687800192123 , tep:  0.01\n",
        "Est:"
       ]
      },
      {
       "output_type": "stream",
       "stream": "stdout",
       "text": [
        " 0.998046875 ep:  0.008225264169068203 , tep:  0.01\n",
        "Est:"
       ]
      },
      {
       "output_type": "stream",
       "stream": "stdout",
       "text": [
        " 0.9970703125 ep:  0.009426032660902977 , tep:  0.01\n",
        "Parameterizing  backbones.LocalSimilarityBackbone([0,1])  ...\n",
        "Est:"
       ]
      },
      {
       "output_type": "stream",
       "stream": "stdout",
       "text": [
        " 0.5 ep:  0.8232468780019212 , tep:  0.02\n",
        "Est:"
       ]
      },
      {
       "output_type": "stream",
       "stream": "stdout",
       "text": [
        " 0.75 ep:  0.5489913544668588 , tep:  0.02\n",
        "Est:"
       ]
      },
      {
       "output_type": "stream",
       "stream": "stdout",
       "text": [
        " 0.875 ep:  0.2929875120076849 , tep:  0.02\n",
        "Est:"
       ]
      },
      {
       "output_type": "stream",
       "stream": "stdout",
       "text": [
        " 0.9375 ep:  0.1403698366954851 , tep:  0.02\n",
        "Est:"
       ]
      },
      {
       "output_type": "stream",
       "stream": "stdout",
       "text": [
        " 0.96875 ep:  0.06790345821325648 , tep:  0.02\n",
        "Est:"
       ]
      },
      {
       "output_type": "stream",
       "stream": "stdout",
       "text": [
        " 0.984375 ep:  0.032780979827089336 , tep:  0.02\n",
        "Est:"
       ]
      },
      {
       "output_type": "stream",
       "stream": "stdout",
       "text": [
        " 0.9921875 ep:  0.017411143131604228 , tep:  0.02\n",
        "Est:"
       ]
      },
      {
       "output_type": "stream",
       "stream": "stdout",
       "text": [
        " 0.98828125 ep:  0.025576368876080693 , tep:  0.02\n",
        "Est:"
       ]
      },
      {
       "output_type": "stream",
       "stream": "stdout",
       "text": [
        " 0.990234375 ep:  0.021373679154658983 , tep:  0.02\n",
        "Est:"
       ]
      },
      {
       "output_type": "stream",
       "stream": "stdout",
       "text": [
        " 0.9912109375 ep:  0.019392411143131606 , tep:  0.02\n",
        "Parameterizing  backbones.LocalSimilarityBackbone([0,1])  ...\n",
        "Est:"
       ]
      },
      {
       "output_type": "stream",
       "stream": "stdout",
       "text": [
        " 0.5 ep:  0.8232468780019212 , tep:  0.1\n",
        "Est:"
       ]
      },
      {
       "output_type": "stream",
       "stream": "stdout",
       "text": [
        " 0.75 ep:  0.5489913544668588 , tep:  0.1\n",
        "Est:"
       ]
      },
      {
       "output_type": "stream",
       "stream": "stdout",
       "text": [
        " 0.875 ep:  0.2929875120076849 , tep:  0.1\n",
        "Est:"
       ]
      },
      {
       "output_type": "stream",
       "stream": "stdout",
       "text": [
        " 0.9375 ep:  0.1403698366954851 , tep:  0.1\n",
        "Est:"
       ]
      },
      {
       "output_type": "stream",
       "stream": "stdout",
       "text": [
        " 0.96875 ep:  0.06790345821325648 , tep:  0.1\n",
        "Est:"
       ]
      },
      {
       "output_type": "stream",
       "stream": "stdout",
       "text": [
        " 0.953125 ep:  0.10278578290105668 , tep:  0.1\n",
        "Est:"
       ]
      },
      {
       "output_type": "stream",
       "stream": "stdout",
       "text": [
        " 0.9609375 ep:  0.08519452449567723 , tep:  0.1\n",
        "Est:"
       ]
      },
      {
       "output_type": "stream",
       "stream": "stdout",
       "text": [
        " 0.95703125 ep:  0.09402017291066282 , tep:  0.1\n",
        "Est:"
       ]
      },
      {
       "output_type": "stream",
       "stream": "stdout",
       "text": [
        " 0.955078125 ep:  0.09858309317963497 , tep:  0.1\n",
        "Est:"
       ]
      },
      {
       "output_type": "stream",
       "stream": "stdout",
       "text": [
        " 0.9541015625 ep:  0.10116474543707973 , tep:  0.1\n",
        "Parameterizing  backbones.LocalSimilarityBackbone([0,1])  ...\n",
        "Est:"
       ]
      },
      {
       "output_type": "stream",
       "stream": "stdout",
       "text": [
        " 0.5 ep:  0.8232468780019212 , tep:  0.5\n",
        "Est:"
       ]
      },
      {
       "output_type": "stream",
       "stream": "stdout",
       "text": [
        " 0.75 ep:  0.5489913544668588 , tep:  0.5\n",
        "Est:"
       ]
      },
      {
       "output_type": "stream",
       "stream": "stdout",
       "text": [
        " 0.875 ep:  0.2929875120076849 , tep:  0.5\n",
        "Est:"
       ]
      },
      {
       "output_type": "stream",
       "stream": "stdout",
       "text": [
        " 0.8125 ep:  0.43371757925072046 , tep:  0.5\n",
        "Est:"
       ]
      },
      {
       "output_type": "stream",
       "stream": "stdout",
       "text": [
        " 0.78125 ep:  0.49483669548511044 , tep:  0.5\n",
        "Est:"
       ]
      },
      {
       "output_type": "stream",
       "stream": "stdout",
       "text": [
        " 0.765625 ep:  0.5217939481268011 , tep:  0.5\n",
        "Est:"
       ]
      },
      {
       "output_type": "stream",
       "stream": "stdout",
       "text": [
        " 0.7734375 ep:  0.5090057636887608 , tep:  0.5\n",
        "Est:"
       ]
      },
      {
       "output_type": "stream",
       "stream": "stdout",
       "text": [
        " 0.77734375 ep:  0.5019812680115274 , tep:  0.5\n",
        "Est:"
       ]
      },
      {
       "output_type": "stream",
       "stream": "stdout",
       "text": [
        " 0.779296875 ep:  0.49765850144092216 , tep:  0.5\n",
        "Est:"
       ]
      },
      {
       "output_type": "stream",
       "stream": "stdout",
       "text": [
        " 0.7783203125 ep:  0.49975984630163306 , tep:  0.5\n",
        "Parameterizing  backbones.LocalSimilarityBackbone([0,1])  ...\n",
        "Est:"
       ]
      },
      {
       "output_type": "stream",
       "stream": "stdout",
       "text": [
        " 0.5 ep:  0.8232468780019212 , tep:  0.75\n",
        "Est:"
       ]
      },
      {
       "output_type": "stream",
       "stream": "stdout",
       "text": [
        " 0.75 ep:  0.5489913544668588 , tep:  0.75\n",
        "Est:"
       ]
      },
      {
       "output_type": "stream",
       "stream": "stdout",
       "text": [
        " 0.625 ep:  0.7168587896253602 , tep:  0.75\n",
        "Est:"
       ]
      },
      {
       "output_type": "stream",
       "stream": "stdout",
       "text": [
        " 0.5625 ep:  0.7751560999039385 , tep:  0.75\n",
        "Est:"
       ]
      },
      {
       "output_type": "stream",
       "stream": "stdout",
       "text": [
        " 0.59375 ep:  0.7487992315081652 , tep:  0.75\n",
        "Est:"
       ]
      },
      {
       "output_type": "stream",
       "stream": "stdout",
       "text": [
        " 0.578125 ep:  0.7623679154658982 , tep:  0.75\n",
        "Est:"
       ]
      },
      {
       "output_type": "stream",
       "stream": "stdout",
       "text": [
        " 0.5859375 ep:  0.7552233429394812 , tep:  0.75\n",
        "Est:"
       ]
      },
      {
       "output_type": "stream",
       "stream": "stdout",
       "text": [
        " 0.58984375 ep:  0.7521613832853026 , tep:  0.75\n",
        "Est:"
       ]
      },
      {
       "output_type": "stream",
       "stream": "stdout",
       "text": [
        " 0.591796875 ep:  0.7502401536983669 , tep:  0.75\n",
        "Est:"
       ]
      },
      {
       "output_type": "stream",
       "stream": "stdout",
       "text": [
        " 0.5927734375 ep:  0.7494596541786743 , tep:  0.75\n",
        "Parameterizing  backbones.LocalSimilarityBackbone([0,1])  ...\n",
        "Est:"
       ]
      },
      {
       "output_type": "stream",
       "stream": "stdout",
       "text": [
        " 0.5 ep:  0.8232468780019212 , tep:  0.9\n",
        "Est:"
       ]
      },
      {
       "output_type": "stream",
       "stream": "stdout",
       "text": [
        " 0.25 ep:  0.9334173871277618 , tep:  0.9\n",
        "Est:"
       ]
      },
      {
       "output_type": "stream",
       "stream": "stdout",
       "text": [
        " 0.375 ep:  0.8873078770413064 , tep:  0.9\n",
        "Est:"
       ]
      },
      {
       "output_type": "stream",
       "stream": "stdout",
       "text": [
        " 0.3125 ep:  0.9127041306436119 , tep:  0.9\n",
        "Est:"
       ]
      },
      {
       "output_type": "stream",
       "stream": "stdout",
       "text": [
        " 0.34375 ep:  0.9008165225744477 , tep:  0.9\n",
        "Est:"
       ]
      },
      {
       "output_type": "stream",
       "stream": "stdout",
       "text": [
        " 0.359375 ep:  0.8946325648414986 , tep:  0.9\n",
        "Est:"
       ]
      },
      {
       "output_type": "stream",
       "stream": "stdout",
       "text": [
        " 0.3515625 ep:  0.8976945244956772 , tep:  0.9\n",
        "Est:"
       ]
      },
      {
       "output_type": "stream",
       "stream": "stdout",
       "text": [
        " 0.34765625 ep:  0.8991954851104706 , tep:  0.9\n",
        "Est:"
       ]
      },
      {
       "output_type": "stream",
       "stream": "stdout",
       "text": [
        " 0.345703125 ep:  0.8999759846301633 , tep:  0.9\n",
        "Est:"
       ]
      },
      {
       "output_type": "stream",
       "stream": "stdout",
       "text": [
        " 0.3447265625 ep:  0.9003962536023055 , tep:  0.9\n",
        "backbones.SimmelianBackboneParametric(10, {0-10})\n",
        "Parameterizing  backbones.SimmelianBackboneParametric(10, {0-10})  ...\n",
        "Current ep: "
       ]
      },
      {
       "output_type": "stream",
       "stream": "stdout",
       "text": [
        " 1.0 , target ep:  0.01\n",
        "Current ep: "
       ]
      },
      {
       "output_type": "stream",
       "stream": "stdout",
       "text": [
        " 0.8273294908741594 , target ep:  0.01\n",
        "Current ep: "
       ]
      },
      {
       "output_type": "stream",
       "stream": "stdout",
       "text": [
        " 0.6709293948126801 , target ep:  0.01\n",
        "Current ep: "
       ]
      },
      {
       "output_type": "stream",
       "stream": "stdout",
       "text": [
        " 0.543888088376561 , target ep:  0.01\n",
        "Current ep: "
       ]
      },
      {
       "output_type": "stream",
       "stream": "stdout",
       "text": [
        " 0.43011527377521613 , target ep:  0.01\n",
        "Current ep: "
       ]
      },
      {
       "output_type": "stream",
       "stream": "stdout",
       "text": [
        " 0.3325528338136407 , target ep:  0.01\n",
        "Current ep: "
       ]
      },
      {
       "output_type": "stream",
       "stream": "stdout",
       "text": [
        " 0.2357708933717579 , target ep:  0.01\n",
        "Current ep: "
       ]
      },
      {
       "output_type": "stream",
       "stream": "stdout",
       "text": [
        " 0.1434317963496638 , target ep:  0.01\n",
        "Current ep: "
       ]
      },
      {
       "output_type": "stream",
       "stream": "stdout",
       "text": [
        " 0.07012487992315082 , target ep:  0.01\n",
        "Current ep: "
       ]
      },
      {
       "output_type": "stream",
       "stream": "stdout",
       "text": [
        " 0.023114793467819403 , target ep:  0.01\n",
        "Current ep: "
       ]
      },
      {
       "output_type": "stream",
       "stream": "stdout",
       "text": [
        " 0.004562920268972142 , target ep:  0.01\n",
        "Best fit for parameter:  10  ep:  0.004562920268972142 , tep:  0.01\n",
        "Parameterizing  backbones.SimmelianBackboneParametric(10, {0-10})  ...\n",
        "Current ep: "
       ]
      },
      {
       "output_type": "stream",
       "stream": "stdout",
       "text": [
        " 1.0 , target ep:  0.02\n",
        "Current ep: "
       ]
      },
      {
       "output_type": "stream",
       "stream": "stdout",
       "text": [
        " 0.8273294908741594 , target ep:  0.02\n",
        "Current ep: "
       ]
      },
      {
       "output_type": "stream",
       "stream": "stdout",
       "text": [
        " 0.6709293948126801 , target ep:  0.02\n",
        "Current ep: "
       ]
      },
      {
       "output_type": "stream",
       "stream": "stdout",
       "text": [
        " 0.543888088376561 , target ep:  0.02\n",
        "Current ep: "
       ]
      },
      {
       "output_type": "stream",
       "stream": "stdout",
       "text": [
        " 0.43011527377521613 , target ep:  0.02\n",
        "Current ep: "
       ]
      },
      {
       "output_type": "stream",
       "stream": "stdout",
       "text": [
        " 0.3325528338136407 , target ep:  0.02\n",
        "Current ep: "
       ]
      },
      {
       "output_type": "stream",
       "stream": "stdout",
       "text": [
        " 0.2357708933717579 , target ep:  0.02\n",
        "Current ep: "
       ]
      },
      {
       "output_type": "stream",
       "stream": "stdout",
       "text": [
        " 0.1434317963496638 , target ep:  0.02\n",
        "Current ep: "
       ]
      },
      {
       "output_type": "stream",
       "stream": "stdout",
       "text": [
        " 0.07012487992315082 , target ep:  0.02\n",
        "Current ep: "
       ]
      },
      {
       "output_type": "stream",
       "stream": "stdout",
       "text": [
        " 0.023114793467819403 , target ep:  0.02\n",
        "Current ep: "
       ]
      },
      {
       "output_type": "stream",
       "stream": "stdout",
       "text": [
        " 0.004562920268972142 , target ep:  0.02\n",
        "Best fit for parameter:  9  ep:  0.023114793467819403 , tep:  0.02\n",
        "Parameterizing  backbones.SimmelianBackboneParametric(10, {0-10})  ...\n",
        "Current ep: "
       ]
      },
      {
       "output_type": "stream",
       "stream": "stdout",
       "text": [
        " 1.0 , target ep:  0.1\n",
        "Current ep: "
       ]
      },
      {
       "output_type": "stream",
       "stream": "stdout",
       "text": [
        " 0.8273294908741594 , target ep:  0.1\n",
        "Current ep: "
       ]
      },
      {
       "output_type": "stream",
       "stream": "stdout",
       "text": [
        " 0.6709293948126801 , target ep:  0.1\n",
        "Current ep: "
       ]
      },
      {
       "output_type": "stream",
       "stream": "stdout",
       "text": [
        " 0.543888088376561 , target ep:  0.1\n",
        "Current ep: "
       ]
      },
      {
       "output_type": "stream",
       "stream": "stdout",
       "text": [
        " 0.43011527377521613 , target ep:  0.1\n",
        "Current ep: "
       ]
      },
      {
       "output_type": "stream",
       "stream": "stdout",
       "text": [
        " 0.3325528338136407 , target ep:  0.1\n",
        "Current ep: "
       ]
      },
      {
       "output_type": "stream",
       "stream": "stdout",
       "text": [
        " 0.2357708933717579 , target ep:  0.1\n",
        "Current ep: "
       ]
      },
      {
       "output_type": "stream",
       "stream": "stdout",
       "text": [
        " 0.1434317963496638 , target ep:  0.1\n",
        "Current ep: "
       ]
      },
      {
       "output_type": "stream",
       "stream": "stdout",
       "text": [
        " 0.07012487992315082 , target ep:  0.1\n",
        "Current ep: "
       ]
      },
      {
       "output_type": "stream",
       "stream": "stdout",
       "text": [
        " 0.023114793467819403 , target ep:  0.1\n",
        "Current ep: "
       ]
      },
      {
       "output_type": "stream",
       "stream": "stdout",
       "text": [
        " 0.004562920268972142 , target ep:  0.1\n",
        "Best fit for parameter:  8  ep:  0.07012487992315082 , tep:  0.1\n",
        "Parameterizing  backbones.SimmelianBackboneParametric(10, {0-10})  ...\n",
        "Current ep: "
       ]
      },
      {
       "output_type": "stream",
       "stream": "stdout",
       "text": [
        " 1.0 , target ep:  0.5\n",
        "Current ep: "
       ]
      },
      {
       "output_type": "stream",
       "stream": "stdout",
       "text": [
        " 0.8273294908741594 , target ep:  0.5\n",
        "Current ep: "
       ]
      },
      {
       "output_type": "stream",
       "stream": "stdout",
       "text": [
        " 0.6709293948126801 , target ep:  0.5\n",
        "Current ep: "
       ]
      },
      {
       "output_type": "stream",
       "stream": "stdout",
       "text": [
        " 0.543888088376561 , target ep:  0.5\n",
        "Current ep: "
       ]
      },
      {
       "output_type": "stream",
       "stream": "stdout",
       "text": [
        " 0.43011527377521613 , target ep:  0.5\n",
        "Current ep: "
       ]
      },
      {
       "output_type": "stream",
       "stream": "stdout",
       "text": [
        " 0.3325528338136407 , target ep:  0.5\n",
        "Current ep: "
       ]
      },
      {
       "output_type": "stream",
       "stream": "stdout",
       "text": [
        " 0.2357708933717579 , target ep:  0.5\n",
        "Current ep: "
       ]
      },
      {
       "output_type": "stream",
       "stream": "stdout",
       "text": [
        " 0.1434317963496638 , target ep:  0.5\n",
        "Current ep: "
       ]
      },
      {
       "output_type": "stream",
       "stream": "stdout",
       "text": [
        " 0.07012487992315082 , target ep:  0.5\n",
        "Current ep: "
       ]
      },
      {
       "output_type": "stream",
       "stream": "stdout",
       "text": [
        " 0.023114793467819403 , target ep:  0.5\n",
        "Current ep: "
       ]
      },
      {
       "output_type": "stream",
       "stream": "stdout",
       "text": [
        " 0.004562920268972142 , target ep:  0.5\n",
        "Best fit for parameter:  3  ep:  0.543888088376561 , tep:  0.5\n",
        "Parameterizing  backbones.SimmelianBackboneParametric(10, {0-10})  ...\n",
        "Current ep: "
       ]
      },
      {
       "output_type": "stream",
       "stream": "stdout",
       "text": [
        " 1.0 , target ep:  0.75\n",
        "Current ep: "
       ]
      },
      {
       "output_type": "stream",
       "stream": "stdout",
       "text": [
        " 0.8273294908741594 , target ep:  0.75\n",
        "Current ep: "
       ]
      },
      {
       "output_type": "stream",
       "stream": "stdout",
       "text": [
        " 0.6709293948126801 , target ep:  0.75\n",
        "Current ep: "
       ]
      },
      {
       "output_type": "stream",
       "stream": "stdout",
       "text": [
        " 0.543888088376561 , target ep:  0.75\n",
        "Current ep: "
       ]
      },
      {
       "output_type": "stream",
       "stream": "stdout",
       "text": [
        " 0.43011527377521613 , target ep:  0.75\n",
        "Current ep: "
       ]
      },
      {
       "output_type": "stream",
       "stream": "stdout",
       "text": [
        " 0.3325528338136407 , target ep:  0.75\n",
        "Current ep: "
       ]
      },
      {
       "output_type": "stream",
       "stream": "stdout",
       "text": [
        " 0.2357708933717579 , target ep:  0.75\n",
        "Current ep: "
       ]
      },
      {
       "output_type": "stream",
       "stream": "stdout",
       "text": [
        " 0.1434317963496638 , target ep:  0.75\n",
        "Current ep: "
       ]
      },
      {
       "output_type": "stream",
       "stream": "stdout",
       "text": [
        " 0.07012487992315082 , target ep:  0.75\n",
        "Current ep: "
       ]
      },
      {
       "output_type": "stream",
       "stream": "stdout",
       "text": [
        " 0.023114793467819403 , target ep:  0.75\n",
        "Current ep: "
       ]
      },
      {
       "output_type": "stream",
       "stream": "stdout",
       "text": [
        " 0.004562920268972142 , target ep:  0.75\n",
        "Best fit for parameter:  1  ep:  0.8273294908741594 , tep:  0.75\n",
        "Parameterizing  backbones.SimmelianBackboneParametric(10, {0-10})  ...\n",
        "Current ep: "
       ]
      },
      {
       "output_type": "stream",
       "stream": "stdout",
       "text": [
        " 1.0 , target ep:  0.9\n",
        "Current ep: "
       ]
      },
      {
       "output_type": "stream",
       "stream": "stdout",
       "text": [
        " 0.8273294908741594 , target ep:  0.9\n",
        "Current ep: "
       ]
      },
      {
       "output_type": "stream",
       "stream": "stdout",
       "text": [
        " 0.6709293948126801 , target ep:  0.9\n",
        "Current ep: "
       ]
      },
      {
       "output_type": "stream",
       "stream": "stdout",
       "text": [
        " 0.543888088376561 , target ep:  0.9\n",
        "Current ep: "
       ]
      },
      {
       "output_type": "stream",
       "stream": "stdout",
       "text": [
        " 0.43011527377521613 , target ep:  0.9\n",
        "Current ep: "
       ]
      },
      {
       "output_type": "stream",
       "stream": "stdout",
       "text": [
        " 0.3325528338136407 , target ep:  0.9\n",
        "Current ep: "
       ]
      },
      {
       "output_type": "stream",
       "stream": "stdout",
       "text": [
        " 0.2357708933717579 , target ep:  0.9\n",
        "Current ep: "
       ]
      },
      {
       "output_type": "stream",
       "stream": "stdout",
       "text": [
        " 0.1434317963496638 , target ep:  0.9\n",
        "Current ep: "
       ]
      },
      {
       "output_type": "stream",
       "stream": "stdout",
       "text": [
        " 0.07012487992315082 , target ep:  0.9\n",
        "Current ep: "
       ]
      },
      {
       "output_type": "stream",
       "stream": "stdout",
       "text": [
        " 0.023114793467819403 , target ep:  0.9\n",
        "Current ep: "
       ]
      },
      {
       "output_type": "stream",
       "stream": "stdout",
       "text": [
        " 0.004562920268972142 , target ep:  0.9\n",
        "Best fit for parameter:  1  ep:  0.8273294908741594 , tep:  0.9\n"
       ]
      }
     ],
     "prompt_number": 115
    },
    {
     "cell_type": "code",
     "collapsed": false,
     "input": [
      "#Output\n",
      "for outputAlgorithm in outputAlgorithms:\n",
      "    print(outputAlgorithm)"
     ],
     "language": "python",
     "metadata": {},
     "outputs": [
      {
       "output_type": "stream",
       "stream": "stdout",
       "text": [
        "backbones.SimmelianBackboneParametric(10, 1)\n"
       ]
      }
     ],
     "prompt_number": 113
    },
    {
     "cell_type": "code",
     "collapsed": false,
     "input": [],
     "language": "python",
     "metadata": {},
     "outputs": []
    }
   ],
   "metadata": {}
  }
 ]
}
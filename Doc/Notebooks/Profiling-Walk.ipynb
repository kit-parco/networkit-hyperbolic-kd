{
 "cells": [
  {
   "cell_type": "code",
   "execution_count": 7,
   "metadata": {
    "collapsed": false
   },
   "outputs": [],
   "source": [
    "from networkit import *"
   ]
  },
  {
   "cell_type": "code",
   "execution_count": 8,
   "metadata": {
    "collapsed": true
   },
   "outputs": [],
   "source": [
    "%matplotlib inline"
   ]
  },
  {
   "cell_type": "code",
   "execution_count": 9,
   "metadata": {
    "collapsed": false
   },
   "outputs": [
    {
     "data": {
      "text/plain": [
       "(True, 0, 'log.txt')"
      ]
     },
     "execution_count": 9,
     "metadata": {},
     "output_type": "execute_result"
    }
   ],
   "source": [
    "profiling.Profile.setVerbose(\n",
    "    verbose = True,\n",
    "    level = 0,\n",
    "    filename = \"log.txt\"\n",
    ")\n",
    "profiling.Profile.getVerbose()"
   ]
  },
  {
   "cell_type": "code",
   "execution_count": 10,
   "metadata": {
    "collapsed": false
   },
   "outputs": [
    {
     "data": {
      "text/plain": [
       "4"
      ]
     },
     "execution_count": 10,
     "metadata": {},
     "output_type": "execute_result"
    }
   ],
   "source": [
    "#profiling.Profile.setParallel(4)\n",
    "profiling.Profile.getParallel()"
   ]
  },
  {
   "cell_type": "code",
   "execution_count": 11,
   "metadata": {
    "collapsed": false
   },
   "outputs": [],
   "source": [
    "config = profiling.Profile.createConfig()\n",
    "#config.setProperty(\"Diameter\")\n",
    "#config.setMeasure(\"Centrality.Degree\")\n",
    "#config.setMeasure(\"Centrality.Katz\")\n",
    "#config.setMeasureCorrelation(\"Spearman\")"
   ]
  },
  {
   "cell_type": "markdown",
   "metadata": {},
   "source": [
    "!!!\n",
    "Beware: \"Input Directory\" == \"Output Directory\"\n",
    "!!!"
   ]
  },
  {
   "cell_type": "code",
   "execution_count": 12,
   "metadata": {
    "collapsed": false
   },
   "outputs": [
    {
     "name": "stdout",
     "output_type": "stream",
     "text": [
      "[ /Users/cls/workspace/Data/Graphs/ProfileTest//astro-ph.METIS.graph ]\n",
      "Diameter: 0.00 s\n",
      "\n",
      "\n",
      "\n",
      "\n",
      "total time (measures + stats + correlations): 0.00 s\n",
      "total speed: 60687775.0 edges/s\n",
      "\n",
      "\n",
      "[ /Users/cls/workspace/Data/Graphs/ProfileTest//fb-American75.EdgeListTabZero.graph ]\n",
      "Diameter: 0.01 s\n",
      "\n",
      "\n",
      "\n",
      "\n",
      "total time (measures + stats + correlations): 0.01 s\n",
      "total speed: 17601569.3 edges/s\n",
      "\n",
      "\n"
     ]
    }
   ],
   "source": [
    "profiling.Profile.walk(\"/Users/cls/workspace/Data/Graphs/ProfileTest/\", config=config);"
   ]
  },
  {
   "cell_type": "code",
   "execution_count": null,
   "metadata": {
    "collapsed": true
   },
   "outputs": [],
   "source": []
  },
  {
   "cell_type": "code",
   "execution_count": null,
   "metadata": {
    "collapsed": false
   },
   "outputs": [],
   "source": []
  }
 ],
 "metadata": {
  "kernelspec": {
   "display_name": "Python 3",
   "language": "python",
   "name": "python3"
  },
  "language_info": {
   "codemirror_mode": {
    "name": "ipython",
    "version": 3
   },
   "file_extension": ".py",
   "mimetype": "text/x-python",
   "name": "python",
   "nbconvert_exporter": "python",
   "pygments_lexer": "ipython3",
   "version": "3.4.3"
  }
 },
 "nbformat": 4,
 "nbformat_minor": 0
}

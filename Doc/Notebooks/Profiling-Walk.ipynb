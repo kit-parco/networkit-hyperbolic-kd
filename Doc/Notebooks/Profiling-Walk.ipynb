{
 "cells": [
  {
   "cell_type": "code",
   "execution_count": 36,
   "metadata": {
    "collapsed": false
   },
   "outputs": [],
   "source": [
    "from networkit import *"
   ]
  },
  {
   "cell_type": "code",
   "execution_count": 37,
   "metadata": {
    "collapsed": true
   },
   "outputs": [],
   "source": [
    "%matplotlib inline"
   ]
  },
  {
   "cell_type": "code",
   "execution_count": 38,
   "metadata": {
    "collapsed": true
   },
   "outputs": [],
   "source": [
    "green = (0.015, 0.644, 0.175)\n",
    "red = (0.501, 0, 0)"
   ]
  },
  {
   "cell_type": "code",
   "execution_count": 39,
   "metadata": {
    "collapsed": false
   },
   "outputs": [
    {
     "data": {
      "text/plain": [
       "(True, 2, 'log.txt')"
      ]
     },
     "execution_count": 39,
     "metadata": {},
     "output_type": "execute_result"
    }
   ],
   "source": [
    "profiling.Profile.setVerbose(\n",
    "    verbose = True,\n",
    "    level = 2,\n",
    "    filename = \"log.txt\"\n",
    ")\n",
    "profiling.Profile.getVerbose()"
   ]
  },
  {
   "cell_type": "code",
   "execution_count": 40,
   "metadata": {
    "collapsed": false
   },
   "outputs": [
    {
     "data": {
      "text/plain": [
       "4"
      ]
     },
     "execution_count": 40,
     "metadata": {},
     "output_type": "execute_result"
    }
   ],
   "source": [
    "#profiling.Profile.setParallel(4)\n",
    "profiling.Profile.getParallel()"
   ]
  },
  {
   "cell_type": "code",
   "execution_count": 41,
   "metadata": {
    "collapsed": false
   },
   "outputs": [],
   "source": [
    "config = profiling.Config.createConfig()\n",
    "#config.setProperty(\"Diameter\")\n",
    "#config.setMeasure(\"Centrality.Degree\")\n",
    "#config.setMeasure(\"Centrality.Katz\")\n",
    "#config.setMeasureCorrelation(\"Spearman\")"
   ]
  },
  {
   "cell_type": "code",
   "execution_count": 42,
   "metadata": {
    "collapsed": false
   },
   "outputs": [
    {
     "name": "stdout",
     "output_type": "stream",
     "text": [
      "astro-ph.METIS.graph                 \u001b[31mfb-American75.EdgeListTabZero.graph\u001b[m\u001b[m*\r\n"
     ]
    }
   ],
   "source": [
    "ls /Users/cls/workspace/Data/Graphs/ProfileTest/"
   ]
  },
  {
   "cell_type": "code",
   "execution_count": 43,
   "metadata": {
    "collapsed": false
   },
   "outputs": [
    {
     "name": "stdout",
     "output_type": "stream",
     "text": [
      "at astro-ph.METIS.graph\n",
      "[ /Users/cls/workspace/Data/Graphs/ProfileTest//astro-ph.METIS.graph ]\n",
      "Diameter: 0.02 s\n",
      "\n",
      "Centrality.Degree: 0.00 s\n",
      "    Sort: 0.00 s\n",
      "    Rank: 0.13 s\n",
      "    Assortativity: 0.00 s\n",
      "    Centralization: 0.00 s\n",
      "Centrality.CoreDecomposition: 0.01 s\n",
      "    Sort: 0.00 s\n",
      "    Rank: 0.04 s\n",
      "    Assortativity: 0.00 s\n",
      "    Centralization: 0.00 s\n",
      "Centrality.ClusteringCoefficient: 0.02 s\n",
      "    Sort: 0.00 s\n",
      "    Rank: 0.28 s\n",
      "    Assortativity: 0.00 s\n",
      "    Centralization: 0.00 s\n",
      "Centrality.PageRank: 0.09 s\n",
      "    Sort: 0.00 s\n",
      "    Rank: 0.05 s\n",
      "    Assortativity: 0.00 s\n",
      "    Centralization: 0.00 s\n",
      "Centrality.Katz: 0.03 s\n",
      "    Sort: 0.01 s\n",
      "    Rank: 0.05 s\n",
      "    Assortativity: 0.00 s\n",
      "    Centralization: Centrality.centralization not properly defined for Centrality.Katz. 0.00 s\n",
      "Centrality.Betweenness: 0.30 s\n",
      "    Sort: 0.01 s\n",
      "    Rank: 0.05 s\n",
      "    Assortativity: 0.00 s\n",
      "    Centralization: Centrality.centralization not properly defined for Centrality.Betweenness. 0.00 s\n",
      "Centrality.Closeness: 0.30 s\n",
      "    Sort: 0.01 s\n",
      "    Rank: 0.04 s\n",
      "    Assortativity: 0.00 s\n",
      "    Centralization: 0.00 s\n",
      "Partition.Communities: 0.32 s\n",
      "    Sort: 0.00 s\n",
      "    Rank: 0.00 s\n",
      "Partition.ConnectedComponents: 0.01 s\n",
      "    Sort: 0.00 s\n",
      "    Rank: 0.00 s\n",
      "Partition.CoreDecomposition: 0.01 s\n",
      "    Sort: 0.00 s\n",
      "    Rank: 0.00 s\n",
      "\n",
      "Stat: Centrality.Degree\n",
      "Stat: Centrality.CoreDecomposition\n",
      "Stat: Centrality.ClusteringCoefficient\n",
      "Stat: Centrality.PageRank\n",
      "Stat: Centrality.Katz\n",
      "Stat: Centrality.Betweenness\n",
      "Stat: Centrality.Closeness\n",
      "Stat: Partition.Communities\n",
      "Stat: Partition.ConnectedComponents\n",
      "Stat: Partition.CoreDecomposition\n",
      "Correlation: Centrality.Degree <-> Centrality.CoreDecomposition\n",
      "Plot.Scatter: Centrality.Degree\n",
      "Correlation: Centrality.CoreDecomposition <-> Centrality.ClusteringCoefficient\n",
      "Plot.Scatter: Centrality.CoreDecomposition\n",
      "Correlation: Centrality.Degree <-> Centrality.ClusteringCoefficient\n",
      "Plot.Scatter: Centrality.Degree\n",
      "Correlation: Centrality.CoreDecomposition <-> Centrality.PageRank\n",
      "Plot.Scatter: Centrality.CoreDecomposition\n",
      "Correlation: Centrality.ClusteringCoefficient <-> Centrality.PageRank\n",
      "Plot.Scatter: Centrality.ClusteringCoefficient\n",
      "Correlation: Centrality.Degree <-> Centrality.PageRank\n",
      "Plot.Scatter: Centrality.Degree\n",
      "Correlation: Centrality.CoreDecomposition <-> Centrality.Katz\n",
      "Plot.Scatter: Centrality.CoreDecomposition\n",
      "Correlation: Centrality.PageRank <-> Centrality.Katz\n",
      "Plot.Scatter: Centrality.PageRank\n",
      "Correlation: Centrality.ClusteringCoefficient <-> Centrality.Katz\n",
      "Plot.Scatter: Centrality.ClusteringCoefficient\n",
      "Correlation: Centrality.Degree <-> Centrality.Katz\n",
      "Plot.Scatter: Centrality.Degree\n",
      "Correlation: Centrality.CoreDecomposition <-> Centrality.Betweenness\n",
      "Plot.Scatter: Centrality.CoreDecomposition\n",
      "Correlation: Centrality.PageRank <-> Centrality.Betweenness\n",
      "Plot.Scatter: Centrality.PageRank\n",
      "Correlation: Centrality.ClusteringCoefficient <-> Centrality.Betweenness\n",
      "Plot.Scatter: Centrality.ClusteringCoefficient\n",
      "Correlation: Centrality.Katz <-> Centrality.Betweenness\n",
      "Plot.Scatter: Centrality.Katz\n",
      "Correlation: Centrality.Degree <-> Centrality.Betweenness\n",
      "Plot.Scatter: Centrality.Degree\n",
      "Correlation: Centrality.Betweenness <-> Centrality.Closeness\n",
      "Plot.Scatter: Centrality.Betweenness\n",
      "Correlation: Centrality.PageRank <-> Centrality.Closeness\n",
      "Plot.Scatter: Centrality.PageRank\n",
      "Correlation: Centrality.ClusteringCoefficient <-> Centrality.Closeness\n",
      "Plot.Scatter: Centrality.ClusteringCoefficient\n",
      "Correlation: Centrality.Katz <-> Centrality.Closeness\n",
      "Plot.Scatter: Centrality.Katz\n",
      "Correlation: Centrality.CoreDecomposition <-> Centrality.Closeness\n",
      "Plot.Scatter: Centrality.CoreDecomposition\n",
      "Correlation: Centrality.Degree <-> Centrality.Closeness\n",
      "Plot.Scatter: Centrality.Degree\n",
      "\n",
      "total time (measures + stats + correlations): 21.89 s\n",
      "total speed: 5539.4 edges/s\n",
      "\n",
      "\n",
      "skipping fb-American75.EdgeListTabZero.graph as it does not match filePattern\n",
      "CPU times: user 35.5 s, sys: 886 ms, total: 36.4 s\n",
      "Wall time: 35.7 s\n"
     ]
    }
   ],
   "source": [
    "%time profiling.Profile.walk(inputDir=\"/Users/cls/workspace/Data/Graphs/ProfileTest/\", graphFormat=Format.METIS, filePattern=\"*.METIS.graph\", outputDir=\"/Users/cls/Downloads/Profile/\", config=profiling.Config.createConfig(\"complete\"), outputType=\"HTML\", color=green);"
   ]
  },
  {
   "cell_type": "code",
   "execution_count": null,
   "metadata": {
    "collapsed": true
   },
   "outputs": [],
   "source": []
  },
  {
   "cell_type": "code",
   "execution_count": null,
   "metadata": {
    "collapsed": false
   },
   "outputs": [],
   "source": []
  }
 ],
 "metadata": {
  "kernelspec": {
   "display_name": "Python 3",
   "language": "python",
   "name": "python3"
  },
  "language_info": {
   "codemirror_mode": {
    "name": "ipython",
    "version": 3
   },
   "file_extension": ".py",
   "mimetype": "text/x-python",
   "name": "python",
   "nbconvert_exporter": "python",
   "pygments_lexer": "ipython3",
   "version": "3.4.3"
  }
 },
 "nbformat": 4,
 "nbformat_minor": 0
}

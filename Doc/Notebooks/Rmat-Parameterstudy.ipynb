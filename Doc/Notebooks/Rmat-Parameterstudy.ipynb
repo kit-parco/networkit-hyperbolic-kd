{
 "metadata": {
  "name": ""
 },
 "nbformat": 3,
 "nbformat_minor": 0,
 "worksheets": [
  {
   "cells": [
    {
     "cell_type": "code",
     "collapsed": false,
     "input": [
      "from networkit import *\n",
      "import time\n",
      "import json\n",
      "import random\n",
      "setLogLevel(\"DEBUG\")\n",
      "\n",
      "cost = []\n",
      "numberOfEdges = []\n",
      "powerLaw = []\n",
      "diameters = []\n",
      "clustCoeff = []\n",
      "degeneracy = []\n",
      "degreeAss = []\n",
      "avgcomm = []\n",
      "modularity = []\n",
      "powerLawExponents = []"
     ],
     "language": "python",
     "metadata": {},
     "outputs": [],
     "prompt_number": 1
    },
    {
     "cell_type": "code",
     "collapsed": false,
     "input": [
      "maglist = []#list(range(4,6))\n",
      "for i in range(0,100):\n",
      "    maglist.append(6)\n",
      "degreelist = [1]#range(1,3)\n",
      "stamp = time.time()"
     ],
     "language": "python",
     "metadata": {},
     "outputs": [],
     "prompt_number": 2
    },
    {
     "cell_type": "code",
     "collapsed": false,
     "input": [
      "for magnitude in maglist:\n",
      "    n = 2**(3*magnitude)# 10**magnitude\n",
      "    for degmag in degreelist:\n",
      "        #initiallist = range(degree, n)\n",
      "        #for n0 in initiallist:\n",
      "        degree = (10**degmag)\n",
      "        a = random.random()\n",
      "        b = random.random()*min(a,1-a)\n",
      "        c = random.random()*min(a,1-(a+b))\n",
      "        d = 1-(a+b+c)\n",
      "        print(n, \" nodes, average degree \", degree, \" and {0:.2f}, {1:.2f}, {2:.2f}, {3:.2f}\".format(a,b,c,d),flush=True)\n",
      "        start = time.time()\n",
      "        G = generators.RmatGenerator(3*magnitude,degree/2, a,b,c,d).generate()\n",
      "        end = time.time()\n",
      "        print(\"Completed in {0:.1f} seconds\".format(end - start),flush=True)\n",
      "        fit = properties.powerLawFit(G)\n",
      "        print('f',end=' ')\n",
      "        m = G.numberOfEdges()\n",
      "        diameter = properties.Diameter.estimatedDiameterRange(G)[1]\n",
      "        clusteringCoefficient = properties.clustering(G)\n",
      "        print('c',end=' ')\n",
      "        degen = properties.degeneracy(G)\n",
      "        print('d',end=' ')\n",
      "        degAss = properties.degreeAssortativity(G)\n",
      "        print('a',end=' ')\n",
      "        gamma = properties.powerLawExponent(G)\n",
      "        print('g',end=' ')\n",
      "        plm = community.PLM()\n",
      "        coms = plm.run(G)\n",
      "        communities = coms.numberOfSubsets()\n",
      "        mod = community.Modularity().getQuality(coms, G)\n",
      "\n",
      "                \n",
      "        cost.append(end - start)\n",
      "        numberOfEdges.append(m)\n",
      "        powerLaw.append(fit[1])\n",
      "        diameters.append(diameter)\n",
      "        clustCoeff.append(clusteringCoefficient)\n",
      "        degeneracy.append(degen)\n",
      "        degreeAss.append(degAss)\n",
      "        powerLawExponents.append(gamma)\n",
      "        avgcomm.append(n/communities)\n",
      "        modularity.append(mod)"
     ],
     "language": "python",
     "metadata": {},
     "outputs": [
      {
       "output_type": "stream",
       "stream": "stdout",
       "text": [
        "262144  nodes, average degree  10  and 0.77, 0.11, 0.08, 0.04\n"
       ]
      },
      {
       "output_type": "stream",
       "stream": "stdout",
       "text": [
        "Completed in 1.1 seconds\n"
       ]
      },
      {
       "output_type": "stream",
       "stream": "stdout",
       "text": [
        "f c"
       ]
      },
      {
       "output_type": "stream",
       "stream": "stdout",
       "text": [
        " d"
       ]
      },
      {
       "output_type": "stream",
       "stream": "stdout",
       "text": [
        " a"
       ]
      },
      {
       "output_type": "stream",
       "stream": "stdout",
       "text": [
        " g"
       ]
      },
      {
       "output_type": "stream",
       "stream": "stdout",
       "text": [
        " 262144"
       ]
      },
      {
       "output_type": "stream",
       "stream": "stdout",
       "text": [
        "  nodes, average degree  10  and 0.04, 0.02, 0.03, 0.91\n"
       ]
      },
      {
       "output_type": "stream",
       "stream": "stdout",
       "text": [
        "Completed in 0.5 seconds\n"
       ]
      },
      {
       "output_type": "stream",
       "stream": "stdout",
       "text": [
        "f c"
       ]
      },
      {
       "output_type": "stream",
       "stream": "stdout",
       "text": [
        " d"
       ]
      },
      {
       "output_type": "stream",
       "stream": "stdout",
       "text": [
        " a g"
       ]
      },
      {
       "output_type": "stream",
       "stream": "stdout",
       "text": [
        " 262144"
       ]
      },
      {
       "output_type": "stream",
       "stream": "stdout",
       "text": [
        "  nodes, average degree  10  and 0.16, 0.13, 0.04, 0.67\n"
       ]
      },
      {
       "output_type": "stream",
       "stream": "stdout",
       "text": [
        "Completed in 1.0 seconds\n"
       ]
      },
      {
       "output_type": "stream",
       "stream": "stdout",
       "text": [
        "f c"
       ]
      },
      {
       "output_type": "stream",
       "stream": "stdout",
       "text": [
        " d"
       ]
      },
      {
       "output_type": "stream",
       "stream": "stdout",
       "text": [
        " a"
       ]
      },
      {
       "output_type": "stream",
       "stream": "stdout",
       "text": [
        " g"
       ]
      },
      {
       "output_type": "stream",
       "stream": "stdout",
       "text": [
        " 262144"
       ]
      },
      {
       "output_type": "stream",
       "stream": "stdout",
       "text": [
        "  nodes, average degree  10  and 0.85, 0.08, 0.01, 0.06\n"
       ]
      },
      {
       "output_type": "stream",
       "stream": "stdout",
       "text": [
        "Completed in 0.7 seconds\n"
       ]
      },
      {
       "output_type": "stream",
       "stream": "stdout",
       "text": [
        "f c"
       ]
      },
      {
       "output_type": "stream",
       "stream": "stdout",
       "text": [
        " d"
       ]
      },
      {
       "output_type": "stream",
       "stream": "stdout",
       "text": [
        " a"
       ]
      },
      {
       "output_type": "stream",
       "stream": "stdout",
       "text": [
        " g"
       ]
      },
      {
       "output_type": "stream",
       "stream": "stdout",
       "text": [
        " 262144"
       ]
      },
      {
       "output_type": "stream",
       "stream": "stdout",
       "text": [
        "  nodes, average degree  10  and 0.88, 0.11, 0.01, 0.00\n"
       ]
      },
      {
       "output_type": "stream",
       "stream": "stdout",
       "text": [
        "Completed in 0.9 seconds\n"
       ]
      },
      {
       "output_type": "stream",
       "stream": "stdout",
       "text": [
        "f c"
       ]
      },
      {
       "output_type": "stream",
       "stream": "stdout",
       "text": [
        " d"
       ]
      },
      {
       "output_type": "stream",
       "stream": "stdout",
       "text": [
        " a"
       ]
      },
      {
       "output_type": "stream",
       "stream": "stdout",
       "text": [
        " g"
       ]
      },
      {
       "output_type": "stream",
       "stream": "stdout",
       "text": [
        " 262144"
       ]
      },
      {
       "output_type": "stream",
       "stream": "stdout",
       "text": [
        "  nodes, average degree  10  and 0.44, 0.06, 0.08, 0.42\n"
       ]
      },
      {
       "output_type": "stream",
       "stream": "stdout",
       "text": [
        "Completed in 1.1 seconds\n"
       ]
      },
      {
       "output_type": "stream",
       "stream": "stdout",
       "text": [
        "f c"
       ]
      },
      {
       "output_type": "stream",
       "stream": "stdout",
       "text": [
        " d"
       ]
      },
      {
       "output_type": "stream",
       "stream": "stdout",
       "text": [
        " a"
       ]
      },
      {
       "output_type": "stream",
       "stream": "stdout",
       "text": [
        " g"
       ]
      },
      {
       "output_type": "stream",
       "stream": "stdout",
       "text": [
        " 262144"
       ]
      },
      {
       "output_type": "stream",
       "stream": "stdout",
       "text": [
        "  nodes, average degree  10  and 0.46, 0.15, 0.38, 0.02\n"
       ]
      },
      {
       "output_type": "stream",
       "stream": "stdout",
       "text": [
        "Completed in 1.2 seconds\n"
       ]
      },
      {
       "output_type": "stream",
       "stream": "stdout",
       "text": [
        "f c"
       ]
      },
      {
       "output_type": "stream",
       "stream": "stdout",
       "text": [
        " d"
       ]
      },
      {
       "output_type": "stream",
       "stream": "stdout",
       "text": [
        " a"
       ]
      },
      {
       "output_type": "stream",
       "stream": "stdout",
       "text": [
        " g"
       ]
      },
      {
       "output_type": "stream",
       "stream": "stdout",
       "text": [
        " 262144"
       ]
      },
      {
       "output_type": "stream",
       "stream": "stdout",
       "text": [
        "  nodes, average degree  10  and 0.43, 0.08, 0.23, 0.27\n"
       ]
      },
      {
       "output_type": "stream",
       "stream": "stdout",
       "text": [
        "Completed in 1.2 seconds\n"
       ]
      },
      {
       "output_type": "stream",
       "stream": "stdout",
       "text": [
        "f c"
       ]
      },
      {
       "output_type": "stream",
       "stream": "stdout",
       "text": [
        " d"
       ]
      },
      {
       "output_type": "stream",
       "stream": "stdout",
       "text": [
        " a"
       ]
      },
      {
       "output_type": "stream",
       "stream": "stdout",
       "text": [
        " g"
       ]
      },
      {
       "output_type": "stream",
       "stream": "stdout",
       "text": [
        " 262144"
       ]
      },
      {
       "output_type": "stream",
       "stream": "stdout",
       "text": [
        "  nodes, average degree  10  and 0.92, 0.04, 0.03, 0.01\n"
       ]
      },
      {
       "output_type": "stream",
       "stream": "stdout",
       "text": [
        "Completed in 0.6 seconds\n"
       ]
      },
      {
       "output_type": "stream",
       "stream": "stdout",
       "text": [
        "f c"
       ]
      },
      {
       "output_type": "stream",
       "stream": "stdout",
       "text": [
        " d a"
       ]
      },
      {
       "output_type": "stream",
       "stream": "stdout",
       "text": [
        " g"
       ]
      },
      {
       "output_type": "stream",
       "stream": "stdout",
       "text": [
        " 262144"
       ]
      },
      {
       "output_type": "stream",
       "stream": "stdout",
       "text": [
        "  nodes, average degree  10  and 0.28, 0.11, 0.06, 0.56\n"
       ]
      },
      {
       "output_type": "stream",
       "stream": "stdout",
       "text": [
        "Completed in 1.1 seconds\n"
       ]
      },
      {
       "output_type": "stream",
       "stream": "stdout",
       "text": [
        "f c"
       ]
      },
      {
       "output_type": "stream",
       "stream": "stdout",
       "text": [
        " d"
       ]
      },
      {
       "output_type": "stream",
       "stream": "stdout",
       "text": [
        " a"
       ]
      },
      {
       "output_type": "stream",
       "stream": "stdout",
       "text": [
        " g"
       ]
      },
      {
       "output_type": "stream",
       "stream": "stdout",
       "text": [
        " 262144"
       ]
      },
      {
       "output_type": "stream",
       "stream": "stdout",
       "text": [
        "  nodes, average degree  10  and 0.34, 0.18, 0.27, 0.21\n"
       ]
      },
      {
       "output_type": "stream",
       "stream": "stdout",
       "text": [
        "Completed in 1.3 seconds\n"
       ]
      },
      {
       "output_type": "stream",
       "stream": "stdout",
       "text": [
        "f c"
       ]
      },
      {
       "output_type": "stream",
       "stream": "stdout",
       "text": [
        " d"
       ]
      },
      {
       "output_type": "stream",
       "stream": "stdout",
       "text": [
        " a"
       ]
      },
      {
       "output_type": "stream",
       "stream": "stdout",
       "text": [
        " g"
       ]
      },
      {
       "output_type": "stream",
       "stream": "stdout",
       "text": [
        " 262144"
       ]
      },
      {
       "output_type": "stream",
       "stream": "stdout",
       "text": [
        "  nodes, average degree  10  and 0.10, 0.02, 0.05, 0.83\n"
       ]
      },
      {
       "output_type": "stream",
       "stream": "stdout",
       "text": [
        "Completed in 0.8 seconds\n"
       ]
      },
      {
       "output_type": "stream",
       "stream": "stdout",
       "text": [
        "f c"
       ]
      },
      {
       "output_type": "stream",
       "stream": "stdout",
       "text": [
        " d"
       ]
      },
      {
       "output_type": "stream",
       "stream": "stdout",
       "text": [
        " a"
       ]
      },
      {
       "output_type": "stream",
       "stream": "stdout",
       "text": [
        " g"
       ]
      },
      {
       "output_type": "stream",
       "stream": "stdout",
       "text": [
        " 262144"
       ]
      },
      {
       "output_type": "stream",
       "stream": "stdout",
       "text": [
        "  nodes, average degree  10  and 0.21, 0.10, 0.07, 0.62\n"
       ]
      },
      {
       "output_type": "stream",
       "stream": "stdout",
       "text": [
        "Completed in 1.1 seconds\n"
       ]
      },
      {
       "output_type": "stream",
       "stream": "stdout",
       "text": [
        "f c"
       ]
      },
      {
       "output_type": "stream",
       "stream": "stdout",
       "text": [
        " d"
       ]
      },
      {
       "output_type": "stream",
       "stream": "stdout",
       "text": [
        " a"
       ]
      },
      {
       "output_type": "stream",
       "stream": "stdout",
       "text": [
        " g"
       ]
      },
      {
       "output_type": "stream",
       "stream": "stdout",
       "text": [
        " 262144"
       ]
      },
      {
       "output_type": "stream",
       "stream": "stdout",
       "text": [
        "  nodes, average degree  10  and 0.37, 0.00, 0.11, 0.52\n"
       ]
      },
      {
       "output_type": "stream",
       "stream": "stdout",
       "text": [
        "Completed in 1.2 seconds\n"
       ]
      },
      {
       "output_type": "stream",
       "stream": "stdout",
       "text": [
        "f c"
       ]
      },
      {
       "output_type": "stream",
       "stream": "stdout",
       "text": [
        " d"
       ]
      },
      {
       "output_type": "stream",
       "stream": "stdout",
       "text": [
        " a"
       ]
      },
      {
       "output_type": "stream",
       "stream": "stdout",
       "text": [
        " g"
       ]
      },
      {
       "output_type": "stream",
       "stream": "stdout",
       "text": [
        " 262144"
       ]
      },
      {
       "output_type": "stream",
       "stream": "stdout",
       "text": [
        "  nodes, average degree  10  and 0.03, 0.00, 0.00, 0.96\n"
       ]
      },
      {
       "output_type": "stream",
       "stream": "stdout",
       "text": [
        "Completed in 0.5 seconds\n"
       ]
      },
      {
       "output_type": "stream",
       "stream": "stdout",
       "text": [
        "f c"
       ]
      },
      {
       "output_type": "stream",
       "stream": "stdout",
       "text": [
        " d a g"
       ]
      },
      {
       "output_type": "stream",
       "stream": "stdout",
       "text": [
        " 262144"
       ]
      },
      {
       "output_type": "stream",
       "stream": "stdout",
       "text": [
        "  nodes, average degree  10  and 0.69, 0.19, 0.05, 0.07\n"
       ]
      },
      {
       "output_type": "stream",
       "stream": "stdout",
       "text": [
        "Completed in 2.0 seconds\n"
       ]
      },
      {
       "output_type": "stream",
       "stream": "stdout",
       "text": [
        "f c"
       ]
      },
      {
       "output_type": "stream",
       "stream": "stdout",
       "text": [
        " d"
       ]
      },
      {
       "output_type": "stream",
       "stream": "stdout",
       "text": [
        " a"
       ]
      },
      {
       "output_type": "stream",
       "stream": "stdout",
       "text": [
        " g"
       ]
      },
      {
       "output_type": "stream",
       "stream": "stdout",
       "text": [
        " 262144"
       ]
      },
      {
       "output_type": "stream",
       "stream": "stdout",
       "text": [
        "  nodes, average degree  10  and 0.14, 0.12, 0.09, 0.65\n"
       ]
      },
      {
       "output_type": "stream",
       "stream": "stdout",
       "text": [
        "Completed in 1.1 seconds\n"
       ]
      },
      {
       "output_type": "stream",
       "stream": "stdout",
       "text": [
        "f c"
       ]
      },
      {
       "output_type": "stream",
       "stream": "stdout",
       "text": [
        " d"
       ]
      },
      {
       "output_type": "stream",
       "stream": "stdout",
       "text": [
        " a"
       ]
      },
      {
       "output_type": "stream",
       "stream": "stdout",
       "text": [
        " g"
       ]
      },
      {
       "output_type": "stream",
       "stream": "stdout",
       "text": [
        " 262144"
       ]
      },
      {
       "output_type": "stream",
       "stream": "stdout",
       "text": [
        "  nodes, average degree  10  and 0.69, 0.30, 0.00, 0.01\n"
       ]
      },
      {
       "output_type": "stream",
       "stream": "stdout",
       "text": [
        "Completed in 18.4 seconds\n"
       ]
      },
      {
       "output_type": "stream",
       "stream": "stdout",
       "text": [
        "f c"
       ]
      },
      {
       "output_type": "stream",
       "stream": "stdout",
       "text": [
        " d"
       ]
      },
      {
       "output_type": "stream",
       "stream": "stdout",
       "text": [
        " a"
       ]
      },
      {
       "output_type": "stream",
       "stream": "stdout",
       "text": [
        " g"
       ]
      },
      {
       "output_type": "stream",
       "stream": "stdout",
       "text": [
        " 262144"
       ]
      },
      {
       "output_type": "stream",
       "stream": "stdout",
       "text": [
        "  nodes, average degree  10  and 0.97, 0.01, 0.01, 0.00\n"
       ]
      },
      {
       "output_type": "stream",
       "stream": "stdout",
       "text": [
        "Completed in 0.5 seconds\n"
       ]
      },
      {
       "output_type": "stream",
       "stream": "stdout",
       "text": [
        "f c"
       ]
      },
      {
       "output_type": "stream",
       "stream": "stdout",
       "text": [
        " d a g"
       ]
      },
      {
       "output_type": "stream",
       "stream": "stdout",
       "text": [
        " 262144"
       ]
      },
      {
       "output_type": "stream",
       "stream": "stdout",
       "text": [
        "  nodes, average degree  10  and 0.25, 0.24, 0.00, 0.51\n"
       ]
      },
      {
       "output_type": "stream",
       "stream": "stdout",
       "text": [
        "Completed in 1.1 seconds\n"
       ]
      },
      {
       "output_type": "stream",
       "stream": "stdout",
       "text": [
        "f c"
       ]
      },
      {
       "output_type": "stream",
       "stream": "stdout",
       "text": [
        " d"
       ]
      },
      {
       "output_type": "stream",
       "stream": "stdout",
       "text": [
        " a"
       ]
      },
      {
       "output_type": "stream",
       "stream": "stdout",
       "text": [
        " g"
       ]
      },
      {
       "output_type": "stream",
       "stream": "stdout",
       "text": [
        " 262144"
       ]
      },
      {
       "output_type": "stream",
       "stream": "stdout",
       "text": [
        "  nodes, average degree  10  and 0.95, 0.01, 0.02, 0.02\n"
       ]
      },
      {
       "output_type": "stream",
       "stream": "stdout",
       "text": [
        "Completed in 0.5 seconds\n"
       ]
      },
      {
       "output_type": "stream",
       "stream": "stdout",
       "text": [
        "f c"
       ]
      },
      {
       "output_type": "stream",
       "stream": "stdout",
       "text": [
        " d a g"
       ]
      },
      {
       "output_type": "stream",
       "stream": "stdout",
       "text": [
        " 262144"
       ]
      },
      {
       "output_type": "stream",
       "stream": "stdout",
       "text": [
        "  nodes, average degree  10  and 0.08, 0.01, 0.07, 0.85\n"
       ]
      },
      {
       "output_type": "stream",
       "stream": "stdout",
       "text": [
        "Completed in 0.6 seconds\n"
       ]
      },
      {
       "output_type": "stream",
       "stream": "stdout",
       "text": [
        "f c"
       ]
      },
      {
       "output_type": "stream",
       "stream": "stdout",
       "text": [
        " d"
       ]
      },
      {
       "output_type": "stream",
       "stream": "stdout",
       "text": [
        " a"
       ]
      },
      {
       "output_type": "stream",
       "stream": "stdout",
       "text": [
        " g"
       ]
      },
      {
       "output_type": "stream",
       "stream": "stdout",
       "text": [
        " 262144"
       ]
      },
      {
       "output_type": "stream",
       "stream": "stdout",
       "text": [
        "  nodes, average degree  10  and 0.42, 0.24, 0.22, 0.12\n"
       ]
      },
      {
       "output_type": "stream",
       "stream": "stdout",
       "text": [
        "Completed in 1.1 seconds\n"
       ]
      },
      {
       "output_type": "stream",
       "stream": "stdout",
       "text": [
        "f c"
       ]
      },
      {
       "output_type": "stream",
       "stream": "stdout",
       "text": [
        " d"
       ]
      },
      {
       "output_type": "stream",
       "stream": "stdout",
       "text": [
        " a"
       ]
      },
      {
       "output_type": "stream",
       "stream": "stdout",
       "text": [
        " g"
       ]
      },
      {
       "output_type": "stream",
       "stream": "stdout",
       "text": [
        " 262144"
       ]
      },
      {
       "output_type": "stream",
       "stream": "stdout",
       "text": [
        "  nodes, average degree  10  and 0.95, 0.02, 0.02, 0.01\n"
       ]
      },
      {
       "output_type": "stream",
       "stream": "stdout",
       "text": [
        "Completed in 0.5 seconds\n"
       ]
      },
      {
       "output_type": "stream",
       "stream": "stdout",
       "text": [
        "f c"
       ]
      },
      {
       "output_type": "stream",
       "stream": "stdout",
       "text": [
        " d a g"
       ]
      },
      {
       "output_type": "stream",
       "stream": "stdout",
       "text": [
        " 262144"
       ]
      },
      {
       "output_type": "stream",
       "stream": "stdout",
       "text": [
        "  nodes, average degree  10  and 0.56, 0.10, 0.29, 0.05\n"
       ]
      },
      {
       "output_type": "stream",
       "stream": "stdout",
       "text": [
        "Completed in 1.5 seconds\n"
       ]
      },
      {
       "output_type": "stream",
       "stream": "stdout",
       "text": [
        "f c"
       ]
      },
      {
       "output_type": "stream",
       "stream": "stdout",
       "text": [
        " d"
       ]
      },
      {
       "output_type": "stream",
       "stream": "stdout",
       "text": [
        " a"
       ]
      },
      {
       "output_type": "stream",
       "stream": "stdout",
       "text": [
        " g"
       ]
      },
      {
       "output_type": "stream",
       "stream": "stdout",
       "text": [
        " 262144"
       ]
      },
      {
       "output_type": "stream",
       "stream": "stdout",
       "text": [
        "  nodes, average degree  10  and 0.01, 0.01, 0.01, 0.97\n"
       ]
      },
      {
       "output_type": "stream",
       "stream": "stdout",
       "text": [
        "Completed in 0.5 seconds\n"
       ]
      },
      {
       "output_type": "stream",
       "stream": "stdout",
       "text": [
        "f c"
       ]
      },
      {
       "output_type": "stream",
       "stream": "stdout",
       "text": [
        " d a g"
       ]
      },
      {
       "output_type": "stream",
       "stream": "stdout",
       "text": [
        " 262144"
       ]
      },
      {
       "output_type": "stream",
       "stream": "stdout",
       "text": [
        "  nodes, average degree  10  and 0.42, 0.11, 0.13, 0.34\n"
       ]
      },
      {
       "output_type": "stream",
       "stream": "stdout",
       "text": [
        "Completed in 1.2 seconds\n"
       ]
      },
      {
       "output_type": "stream",
       "stream": "stdout",
       "text": [
        "f c"
       ]
      },
      {
       "output_type": "stream",
       "stream": "stdout",
       "text": [
        " d"
       ]
      },
      {
       "output_type": "stream",
       "stream": "stdout",
       "text": [
        " a"
       ]
      },
      {
       "output_type": "stream",
       "stream": "stdout",
       "text": [
        " g"
       ]
      },
      {
       "output_type": "stream",
       "stream": "stdout",
       "text": [
        " 262144"
       ]
      },
      {
       "output_type": "stream",
       "stream": "stdout",
       "text": [
        "  nodes, average degree  10  and 0.58, 0.33, 0.07, 0.02\n"
       ]
      },
      {
       "output_type": "stream",
       "stream": "stdout",
       "text": [
        "Completed in 9.4 seconds\n"
       ]
      },
      {
       "output_type": "stream",
       "stream": "stdout",
       "text": [
        "f c"
       ]
      },
      {
       "output_type": "stream",
       "stream": "stdout",
       "text": [
        " d"
       ]
      },
      {
       "output_type": "stream",
       "stream": "stdout",
       "text": [
        " a"
       ]
      },
      {
       "output_type": "stream",
       "stream": "stdout",
       "text": [
        " g"
       ]
      },
      {
       "output_type": "stream",
       "stream": "stdout",
       "text": [
        " 262144"
       ]
      },
      {
       "output_type": "stream",
       "stream": "stdout",
       "text": [
        "  nodes, average degree  10  and 0.15, 0.11, 0.11, 0.62\n"
       ]
      },
      {
       "output_type": "stream",
       "stream": "stdout",
       "text": [
        "Completed in 1.2 seconds\n"
       ]
      },
      {
       "output_type": "stream",
       "stream": "stdout",
       "text": [
        "f c"
       ]
      },
      {
       "output_type": "stream",
       "stream": "stdout",
       "text": [
        " d"
       ]
      },
      {
       "output_type": "stream",
       "stream": "stdout",
       "text": [
        " a"
       ]
      },
      {
       "output_type": "stream",
       "stream": "stdout",
       "text": [
        " g"
       ]
      },
      {
       "output_type": "stream",
       "stream": "stdout",
       "text": [
        " 262144"
       ]
      },
      {
       "output_type": "stream",
       "stream": "stdout",
       "text": [
        "  nodes, average degree  10  and 0.45, 0.04, 0.40, 0.12\n"
       ]
      },
      {
       "output_type": "stream",
       "stream": "stdout",
       "text": [
        "Completed in 1.2 seconds\n"
       ]
      },
      {
       "output_type": "stream",
       "stream": "stdout",
       "text": [
        "f c"
       ]
      },
      {
       "output_type": "stream",
       "stream": "stdout",
       "text": [
        " d"
       ]
      },
      {
       "output_type": "stream",
       "stream": "stdout",
       "text": [
        " a"
       ]
      },
      {
       "output_type": "stream",
       "stream": "stdout",
       "text": [
        " g"
       ]
      },
      {
       "output_type": "stream",
       "stream": "stdout",
       "text": [
        " 262144"
       ]
      },
      {
       "output_type": "stream",
       "stream": "stdout",
       "text": [
        "  nodes, average degree  10  and 0.65, 0.33, 0.01, 0.01\n"
       ]
      },
      {
       "output_type": "stream",
       "stream": "stdout",
       "text": [
        "Completed in 19.9 seconds\n"
       ]
      },
      {
       "output_type": "stream",
       "stream": "stdout",
       "text": [
        "f c"
       ]
      },
      {
       "output_type": "stream",
       "stream": "stdout",
       "text": [
        " d"
       ]
      },
      {
       "output_type": "stream",
       "stream": "stdout",
       "text": [
        " a"
       ]
      },
      {
       "output_type": "stream",
       "stream": "stdout",
       "text": [
        " g"
       ]
      },
      {
       "output_type": "stream",
       "stream": "stdout",
       "text": [
        " 262144"
       ]
      },
      {
       "output_type": "stream",
       "stream": "stdout",
       "text": [
        "  nodes, average degree  10  and 0.87, 0.04, 0.01, 0.08\n"
       ]
      },
      {
       "output_type": "stream",
       "stream": "stdout",
       "text": [
        "Completed in 0.7 seconds\n"
       ]
      },
      {
       "output_type": "stream",
       "stream": "stdout",
       "text": [
        "f c"
       ]
      },
      {
       "output_type": "stream",
       "stream": "stdout",
       "text": [
        " d"
       ]
      },
      {
       "output_type": "stream",
       "stream": "stdout",
       "text": [
        " a"
       ]
      },
      {
       "output_type": "stream",
       "stream": "stdout",
       "text": [
        " g"
       ]
      },
      {
       "output_type": "stream",
       "stream": "stdout",
       "text": [
        " 262144"
       ]
      },
      {
       "output_type": "stream",
       "stream": "stdout",
       "text": [
        "  nodes, average degree  10  and 0.43, 0.23, 0.00, 0.33\n"
       ]
      },
      {
       "output_type": "stream",
       "stream": "stdout",
       "text": [
        "Completed in 1.3 seconds\n"
       ]
      },
      {
       "output_type": "stream",
       "stream": "stdout",
       "text": [
        "f c"
       ]
      },
      {
       "output_type": "stream",
       "stream": "stdout",
       "text": [
        " d"
       ]
      },
      {
       "output_type": "stream",
       "stream": "stdout",
       "text": [
        " a"
       ]
      },
      {
       "output_type": "stream",
       "stream": "stdout",
       "text": [
        " g"
       ]
      },
      {
       "output_type": "stream",
       "stream": "stdout",
       "text": [
        " 262144"
       ]
      },
      {
       "output_type": "stream",
       "stream": "stdout",
       "text": [
        "  nodes, average degree  10  and 0.56, 0.07, 0.10, 0.27\n"
       ]
      },
      {
       "output_type": "stream",
       "stream": "stdout",
       "text": [
        "Completed in 2.3 seconds\n"
       ]
      },
      {
       "output_type": "stream",
       "stream": "stdout",
       "text": [
        "f c"
       ]
      },
      {
       "output_type": "stream",
       "stream": "stdout",
       "text": [
        " d"
       ]
      },
      {
       "output_type": "stream",
       "stream": "stdout",
       "text": [
        " a"
       ]
      },
      {
       "output_type": "stream",
       "stream": "stdout",
       "text": [
        " g"
       ]
      },
      {
       "output_type": "stream",
       "stream": "stdout",
       "text": [
        " 262144"
       ]
      },
      {
       "output_type": "stream",
       "stream": "stdout",
       "text": [
        "  nodes, average degree  10  and 0.82, 0.05, 0.06, 0.07\n"
       ]
      },
      {
       "output_type": "stream",
       "stream": "stdout",
       "text": [
        "Completed in 0.9 seconds\n"
       ]
      },
      {
       "output_type": "stream",
       "stream": "stdout",
       "text": [
        "f c"
       ]
      },
      {
       "output_type": "stream",
       "stream": "stdout",
       "text": [
        " d"
       ]
      },
      {
       "output_type": "stream",
       "stream": "stdout",
       "text": [
        " a"
       ]
      },
      {
       "output_type": "stream",
       "stream": "stdout",
       "text": [
        " g"
       ]
      },
      {
       "output_type": "stream",
       "stream": "stdout",
       "text": [
        " 262144"
       ]
      },
      {
       "output_type": "stream",
       "stream": "stdout",
       "text": [
        "  nodes, average degree  10  and 0.25, 0.14, 0.13, 0.49\n"
       ]
      },
      {
       "output_type": "stream",
       "stream": "stdout",
       "text": [
        "Completed in 1.4 seconds\n"
       ]
      },
      {
       "output_type": "stream",
       "stream": "stdout",
       "text": [
        "f c"
       ]
      },
      {
       "output_type": "stream",
       "stream": "stdout",
       "text": [
        " d"
       ]
      },
      {
       "output_type": "stream",
       "stream": "stdout",
       "text": [
        " a"
       ]
      },
      {
       "output_type": "stream",
       "stream": "stdout",
       "text": [
        " g"
       ]
      },
      {
       "output_type": "stream",
       "stream": "stdout",
       "text": [
        " 262144"
       ]
      },
      {
       "output_type": "stream",
       "stream": "stdout",
       "text": [
        "  nodes, average degree  10  and 0.27, 0.22, 0.20, 0.31\n"
       ]
      },
      {
       "output_type": "stream",
       "stream": "stdout",
       "text": [
        "Completed in 1.4 seconds\n"
       ]
      },
      {
       "ename": "KeyboardInterrupt",
       "evalue": "",
       "output_type": "pyerr",
       "traceback": [
        "\u001b[0;31m---------------------------------------------------------------------------\u001b[0m\n\u001b[0;31mKeyboardInterrupt\u001b[0m                         Traceback (most recent call last)",
        "\u001b[0;32m<ipython-input-3-3465d2624b5a>\u001b[0m in \u001b[0;36m<module>\u001b[0;34m()\u001b[0m\n\u001b[1;32m     17\u001b[0m         \u001b[0mprint\u001b[0m\u001b[0;34m(\u001b[0m\u001b[0;34m'f'\u001b[0m\u001b[0;34m,\u001b[0m\u001b[0mend\u001b[0m\u001b[0;34m=\u001b[0m\u001b[0;34m' '\u001b[0m\u001b[0;34m)\u001b[0m\u001b[0;34m\u001b[0m\u001b[0m\n\u001b[1;32m     18\u001b[0m         \u001b[0mm\u001b[0m \u001b[0;34m=\u001b[0m \u001b[0mG\u001b[0m\u001b[0;34m.\u001b[0m\u001b[0mnumberOfEdges\u001b[0m\u001b[0;34m(\u001b[0m\u001b[0;34m)\u001b[0m\u001b[0;34m\u001b[0m\u001b[0m\n\u001b[0;32m---> 19\u001b[0;31m         \u001b[0mdiameter\u001b[0m \u001b[0;34m=\u001b[0m \u001b[0mproperties\u001b[0m\u001b[0;34m.\u001b[0m\u001b[0mDiameter\u001b[0m\u001b[0;34m.\u001b[0m\u001b[0mestimatedDiameterRange\u001b[0m\u001b[0;34m(\u001b[0m\u001b[0mG\u001b[0m\u001b[0;34m)\u001b[0m\u001b[0;34m[\u001b[0m\u001b[0;36m1\u001b[0m\u001b[0;34m]\u001b[0m\u001b[0;34m\u001b[0m\u001b[0m\n\u001b[0m\u001b[1;32m     20\u001b[0m         \u001b[0mclusteringCoefficient\u001b[0m \u001b[0;34m=\u001b[0m \u001b[0mproperties\u001b[0m\u001b[0;34m.\u001b[0m\u001b[0mclustering\u001b[0m\u001b[0;34m(\u001b[0m\u001b[0mG\u001b[0m\u001b[0;34m)\u001b[0m\u001b[0;34m\u001b[0m\u001b[0m\n\u001b[1;32m     21\u001b[0m         \u001b[0mprint\u001b[0m\u001b[0;34m(\u001b[0m\u001b[0;34m'c'\u001b[0m\u001b[0;34m,\u001b[0m\u001b[0mend\u001b[0m\u001b[0;34m=\u001b[0m\u001b[0;34m' '\u001b[0m\u001b[0;34m)\u001b[0m\u001b[0;34m\u001b[0m\u001b[0m\n",
        "\u001b[0;31mKeyboardInterrupt\u001b[0m: "
       ]
      },
      {
       "output_type": "stream",
       "stream": "stdout",
       "text": [
        "f "
       ]
      }
     ],
     "prompt_number": 3
    },
    {
     "cell_type": "code",
     "collapsed": false,
     "input": [
      "from pylab import *\n"
     ],
     "language": "python",
     "metadata": {},
     "outputs": []
    },
    {
     "cell_type": "code",
     "collapsed": false,
     "input": [
      "plot(cost)"
     ],
     "language": "python",
     "metadata": {},
     "outputs": [
      {
       "metadata": {},
       "output_type": "pyout",
       "prompt_number": 12,
       "text": [
        "[<matplotlib.lines.Line2D at 0x7f10e3eb7e10>]"
       ]
      },
      {
       "metadata": {},
       "output_type": "display_data",
       "png": "[encoded data removed]",
       "text": [
        "<matplotlib.figure.Figure at 0x7f10e57ad3c8>"
       ]
      }
     ],
     "prompt_number": 12
    },
    {
     "cell_type": "code",
     "collapsed": false,
     "input": [
      "plot(numberOfEdges)"
     ],
     "language": "python",
     "metadata": {},
     "outputs": [
      {
       "metadata": {},
       "output_type": "pyout",
       "prompt_number": 13,
       "text": [
        "[<matplotlib.lines.Line2D at 0x7f10e3e1c0f0>]"
       ]
      },
      {
       "metadata": {},
       "output_type": "display_data",
       "png": "[encoded data removed]",
       "text": [
        "<matplotlib.figure.Figure at 0x7f10e3e4fa58>"
       ]
      }
     ],
     "prompt_number": 13
    },
    {
     "cell_type": "code",
     "collapsed": false,
     "input": [
      "plot([cost[i] / numberOfEdges[i] for i in range(0,len(cost))])"
     ],
     "language": "python",
     "metadata": {},
     "outputs": [
      {
       "metadata": {},
       "output_type": "pyout",
       "prompt_number": 14,
       "text": [
        "[<matplotlib.lines.Line2D at 0x7f10e3df6d68>]"
       ]
      },
      {
       "metadata": {},
       "output_type": "display_data",
       "png": "[encoded data removed]",
       "text": [
        "<matplotlib.figure.Figure at 0x7f10e3e32160>"
       ]
      }
     ],
     "prompt_number": 14
    },
    {
     "cell_type": "code",
     "collapsed": false,
     "input": [
      "plot(powerLaw)"
     ],
     "language": "python",
     "metadata": {},
     "outputs": [
      {
       "metadata": {},
       "output_type": "pyout",
       "prompt_number": 15,
       "text": [
        "[<matplotlib.lines.Line2D at 0x7f10e3d51908>]"
       ]
      },
      {
       "metadata": {},
       "output_type": "display_data",
       "png": "[encoded data removed]",
       "text": [
        "<matplotlib.figure.Figure at 0x7f10e3e2f780>"
       ]
      }
     ],
     "prompt_number": 15
    },
    {
     "cell_type": "code",
     "collapsed": false,
     "input": [
      "plot(powerLawExponents)"
     ],
     "language": "python",
     "metadata": {},
     "outputs": [
      {
       "metadata": {},
       "output_type": "pyout",
       "prompt_number": 16,
       "text": [
        "[<matplotlib.lines.Line2D at 0x7f10e3d2f6a0>]"
       ]
      },
      {
       "metadata": {},
       "output_type": "display_data",
       "png": "[encoded data removed]",
       "text": [
        "<matplotlib.figure.Figure at 0x7f10e3d6fbe0>"
       ]
      }
     ],
     "prompt_number": 16
    },
    {
     "cell_type": "code",
     "collapsed": false,
     "input": [
      "plot(diameters)"
     ],
     "language": "python",
     "metadata": {},
     "outputs": [
      {
       "metadata": {},
       "output_type": "pyout",
       "prompt_number": 17,
       "text": [
        "[<matplotlib.lines.Line2D at 0x7f10e3c85a90>]"
       ]
      },
      {
       "metadata": {},
       "output_type": "display_data",
       "png": "[encoded data removed]",
       "text": [
        "<matplotlib.figure.Figure at 0x7f10e5793710>"
       ]
      }
     ],
     "prompt_number": 17
    },
    {
     "cell_type": "code",
     "collapsed": false,
     "input": [
      "plot(clustCoeff)"
     ],
     "language": "python",
     "metadata": {},
     "outputs": [
      {
       "metadata": {},
       "output_type": "pyout",
       "prompt_number": 18,
       "text": [
        "[<matplotlib.lines.Line2D at 0x7f10e3c5eda0>]"
       ]
      },
      {
       "metadata": {},
       "output_type": "display_data",
       "png": "[encoded data removed]",
       "text": [
        "<matplotlib.figure.Figure at 0x7f10e3d5e668>"
       ]
      }
     ],
     "prompt_number": 18
    },
    {
     "cell_type": "code",
     "collapsed": false,
     "input": [
      "plot(degreeAss)"
     ],
     "language": "python",
     "metadata": {},
     "outputs": [
      {
       "metadata": {},
       "output_type": "pyout",
       "prompt_number": 19,
       "text": [
        "[<matplotlib.lines.Line2D at 0x7f10e3c36978>]"
       ]
      },
      {
       "metadata": {},
       "output_type": "display_data",
       "png": "[encoded data removed]",
       "text": [
        "<matplotlib.figure.Figure at 0x7f10e3ebdcf8>"
       ]
      }
     ],
     "prompt_number": 19
    },
    {
     "cell_type": "code",
     "collapsed": false,
     "input": [],
     "language": "python",
     "metadata": {},
     "outputs": [],
     "prompt_number": 22
    },
    {
     "cell_type": "code",
     "collapsed": false,
     "input": [],
     "language": "python",
     "metadata": {},
     "outputs": []
    }
   ],
   "metadata": {}
  }
 ]
}
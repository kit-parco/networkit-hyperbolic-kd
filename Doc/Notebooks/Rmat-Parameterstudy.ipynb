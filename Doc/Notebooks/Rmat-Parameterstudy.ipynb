{
 "metadata": {
  "name": ""
 },
 "nbformat": 3,
 "nbformat_minor": 0,
 "worksheets": [
  {
   "cells": [
    {
     "cell_type": "code",
     "collapsed": false,
     "input": [
      "from networkit import *\n",
      "import time\n",
      "import json\n",
      "import random\n",
      "setLogLevel(\"DEBUG\")\n",
      "\n",
      "cost = []\n",
      "numberOfEdges = []\n",
      "powerLaw = []\n",
      "diameters = []\n",
      "clustCoeff = []\n",
      "degeneracy = []\n",
      "degreeAss = []\n",
      "powerLawExponents = []"
     ],
     "language": "python",
     "metadata": {},
     "outputs": [],
     "prompt_number": 1
    },
    {
     "cell_type": "code",
     "collapsed": false,
     "input": [
      "maglist = []#list(range(4,6))\n",
      "for i in range(0,100):\n",
      "    maglist.append(5)\n",
      "degreelist = [1]#range(1,3)\n",
      "stamp = time.time()"
     ],
     "language": "python",
     "metadata": {},
     "outputs": [],
     "prompt_number": 2
    },
    {
     "cell_type": "code",
     "collapsed": false,
     "input": [
      "for magnitude in maglist:\n",
      "    n = 2**(3*magnitude)# 10**magnitude\n",
      "    for degmag in degreelist:\n",
      "        #initiallist = range(degree, n)\n",
      "        #for n0 in initiallist:\n",
      "        degree = (10**degmag)\n",
      "        a = random.random()\n",
      "        b = random.random()\n",
      "        c = random.random()\n",
      "        d = random.random()\n",
      "        print(n, \" nodes, average degree \", degree, \" and {0:.2f}, {1:.2f}, {2:.2f}, {3:.2f}\".format(a,b,c,d),flush=True)\n",
      "        start = time.time()\n",
      "        G = generators.RmatGenerator(3*magnitude,degree/2, a,b,c,d).generate()\n",
      "        end = time.time()\n",
      "        print(\"Completed in {0:.1f} seconds\".format(end - start),flush=True)\n",
      "        fit = properties.powerLawFit(G)\n",
      "        print('f',end=' ')\n",
      "        m = G.numberOfEdges()\n",
      "        diameter = properties.Diameter.estimatedDiameterRange(G)[1]\n",
      "        clusteringCoefficient = properties.clustering(G)\n",
      "        print('c',end=' ')\n",
      "        degen = properties.degeneracy(G)\n",
      "        print('d',end=' ')\n",
      "        degAss = properties.degreeAssortativity(G)\n",
      "        print('a',end=' ')\n",
      "        gamma = properties.powerLawExponent(G)\n",
      "        print('g',end=' ')\n",
      "                \n",
      "        cost.append(end - start)\n",
      "        numberOfEdges.append(m)\n",
      "        powerLaw.append(fit[1])\n",
      "        diameters.append(diameter)\n",
      "        clustCoeff.append(clusteringCoefficient)\n",
      "        degeneracy.append(degen)\n",
      "        degreeAss.append(degAss)\n",
      "        powerLawExponents.append(gamma)"
     ],
     "language": "python",
     "metadata": {},
     "outputs": [
      {
       "output_type": "stream",
       "stream": "stdout",
       "text": [
        "32768  nodes, average degree  10  and 0.48, 0.33, 0.28, 0.25\n"
       ]
      },
      {
       "output_type": "stream",
       "stream": "stdout",
       "text": [
        "Completed in 0.1 seconds\n"
       ]
      },
      {
       "output_type": "stream",
       "stream": "stdout",
       "text": [
        "Calculating best minimal value for power law fit\n",
        "f c"
       ]
      },
      {
       "output_type": "stream",
       "stream": "stdout",
       "text": [
        " d"
       ]
      },
      {
       "output_type": "stream",
       "stream": "stdout",
       "text": [
        " a"
       ]
      },
      {
       "output_type": "stream",
       "stream": "stdout",
       "text": [
        " Calculating best minimal value for power law fit\n",
        "g 32768  nodes, average degree  10  and 0.87, 0.44, 0.88, 0.79\n"
       ]
      },
      {
       "output_type": "stream",
       "stream": "stdout",
       "text": [
        "Completed in 0.1 seconds\n"
       ]
      },
      {
       "output_type": "stream",
       "stream": "stdout",
       "text": [
        "Calculating best minimal value for power law fit\n",
        "f c"
       ]
      },
      {
       "output_type": "stream",
       "stream": "stdout",
       "text": [
        " d a Calculating best minimal value for power law fit\n",
        "g 32768  nodes, average degree  10  and 0.41, 0.74, 0.80, 0.61\n"
       ]
      },
      {
       "output_type": "stream",
       "stream": "stdout",
       "text": [
        "Completed in 0.7 seconds\n"
       ]
      },
      {
       "output_type": "stream",
       "stream": "stdout",
       "text": [
        "Calculating best minimal value for power law fit\n",
        "f c"
       ]
      },
      {
       "output_type": "stream",
       "stream": "stdout",
       "text": [
        " d"
       ]
      },
      {
       "output_type": "stream",
       "stream": "stdout",
       "text": [
        " a"
       ]
      },
      {
       "output_type": "stream",
       "stream": "stdout",
       "text": [
        " Calculating best minimal value for power law fit\n",
        "g 32768  nodes, average degree  10  and 0.25, 0.64, 0.85, 0.16\n"
       ]
      },
      {
       "output_type": "stream",
       "stream": "stdout",
       "text": [
        "Completed in 0.1 seconds\n"
       ]
      },
      {
       "output_type": "stream",
       "stream": "stdout",
       "text": [
        "Calculating best minimal value for power law fit\n",
        "f c"
       ]
      },
      {
       "output_type": "stream",
       "stream": "stdout",
       "text": [
        " d"
       ]
      },
      {
       "output_type": "stream",
       "stream": "stdout",
       "text": [
        " a"
       ]
      },
      {
       "output_type": "stream",
       "stream": "stdout",
       "text": [
        " Calculating best minimal value for power law fit\n",
        "g 32768  nodes, average degree  10  and 0.73, 0.37, 0.91, 0.70\n"
       ]
      },
      {
       "output_type": "stream",
       "stream": "stdout",
       "text": [
        "Completed in 0.3 seconds\n"
       ]
      },
      {
       "output_type": "stream",
       "stream": "stdout",
       "text": [
        "Calculating best minimal value for power law fit\n",
        "f c"
       ]
      },
      {
       "output_type": "stream",
       "stream": "stdout",
       "text": [
        " d"
       ]
      },
      {
       "output_type": "stream",
       "stream": "stdout",
       "text": [
        " a"
       ]
      },
      {
       "output_type": "stream",
       "stream": "stdout",
       "text": [
        " Calculating best minimal value for power law fit\n",
        "g 32768  nodes, average degree  10  and 0.24, 0.32, 0.85, 0.82\n"
       ]
      },
      {
       "output_type": "stream",
       "stream": "stdout",
       "text": [
        "Completed in 0.1 seconds\n"
       ]
      },
      {
       "output_type": "stream",
       "stream": "stdout",
       "text": [
        "Calculating best minimal value for power law fit\n",
        "f c"
       ]
      },
      {
       "output_type": "stream",
       "stream": "stdout",
       "text": [
        " d"
       ]
      },
      {
       "output_type": "stream",
       "stream": "stdout",
       "text": [
        " a Calculating best minimal value for power law fit\n",
        "g 32768  nodes, average degree  10  and 0.85, 0.65, 0.53, 0.29\n"
       ]
      },
      {
       "output_type": "stream",
       "stream": "stdout",
       "text": [
        "Completed in 0.1 seconds\n"
       ]
      },
      {
       "output_type": "stream",
       "stream": "stdout",
       "text": [
        "Calculating best minimal value for power law fit\n",
        "f c"
       ]
      },
      {
       "output_type": "stream",
       "stream": "stdout",
       "text": [
        " d a"
       ]
      },
      {
       "output_type": "stream",
       "stream": "stdout",
       "text": [
        " Calculating best minimal value for power law fit\n",
        "g 32768  nodes, average degree  10  and 0.56, 1.00, 0.98, 0.99\n"
       ]
      },
      {
       "output_type": "stream",
       "stream": "stdout",
       "text": [
        "Completed in 0.8 seconds\n"
       ]
      },
      {
       "output_type": "stream",
       "stream": "stdout",
       "text": [
        "Calculating best minimal value for power law fit\n",
        "f c"
       ]
      },
      {
       "output_type": "stream",
       "stream": "stdout",
       "text": [
        " d"
       ]
      },
      {
       "output_type": "stream",
       "stream": "stdout",
       "text": [
        " a"
       ]
      },
      {
       "output_type": "stream",
       "stream": "stdout",
       "text": [
        " Calculating best minimal value for power law fit\n",
        "g 32768  nodes, average degree  10  and 0.16, 0.30, 0.72, 0.11\n"
       ]
      },
      {
       "output_type": "stream",
       "stream": "stdout",
       "text": [
        "Completed in 0.1 seconds\n"
       ]
      },
      {
       "output_type": "stream",
       "stream": "stdout",
       "text": [
        "Calculating best minimal value for power law fit\n",
        "f c"
       ]
      },
      {
       "output_type": "stream",
       "stream": "stdout",
       "text": [
        " d"
       ]
      },
      {
       "output_type": "stream",
       "stream": "stdout",
       "text": [
        " a Calculating best minimal value for power law fit\n",
        "g 32768  nodes, average degree  10  and 0.50, 0.49, 0.36, 0.56\n"
       ]
      },
      {
       "output_type": "stream",
       "stream": "stdout",
       "text": [
        "Completed in 0.8 seconds\n"
       ]
      },
      {
       "output_type": "stream",
       "stream": "stdout",
       "text": [
        "Calculating best minimal value for power law fit\n",
        "f c"
       ]
      },
      {
       "output_type": "stream",
       "stream": "stdout",
       "text": [
        " d"
       ]
      },
      {
       "output_type": "stream",
       "stream": "stdout",
       "text": [
        " a"
       ]
      },
      {
       "output_type": "stream",
       "stream": "stdout",
       "text": [
        " Calculating best minimal value for power law fit\n",
        "g 32768  nodes, average degree  10  and 0.62, 0.57, 0.46, 0.77\n"
       ]
      },
      {
       "output_type": "stream",
       "stream": "stdout",
       "text": [
        "Completed in 0.6 seconds\n"
       ]
      },
      {
       "output_type": "stream",
       "stream": "stdout",
       "text": [
        "Calculating best minimal value for power law fit\n",
        "f c"
       ]
      },
      {
       "output_type": "stream",
       "stream": "stdout",
       "text": [
        " d"
       ]
      },
      {
       "output_type": "stream",
       "stream": "stdout",
       "text": [
        " a"
       ]
      },
      {
       "output_type": "stream",
       "stream": "stdout",
       "text": [
        " Calculating best minimal value for power law fit\n",
        "g 32768  nodes, average degree  10  and 0.11, 0.12, 0.97, 0.92\n"
       ]
      },
      {
       "output_type": "stream",
       "stream": "stdout",
       "text": [
        "Completed in 0.1 seconds\n"
       ]
      },
      {
       "output_type": "stream",
       "stream": "stdout",
       "text": [
        "Calculating best minimal value for power law fit\n",
        "f c"
       ]
      },
      {
       "output_type": "stream",
       "stream": "stdout",
       "text": [
        " d a Calculating best minimal value for power law fit\n",
        "g"
       ]
      },
      {
       "output_type": "stream",
       "stream": "stdout",
       "text": [
        " 32768  nodes, average degree  10  and 0.04, 0.70, 0.33, 0.81\n"
       ]
      },
      {
       "output_type": "stream",
       "stream": "stdout",
       "text": [
        "Completed in 0.1 seconds\n"
       ]
      },
      {
       "output_type": "stream",
       "stream": "stdout",
       "text": [
        "Calculating best minimal value for power law fit\n",
        "f c d"
       ]
      },
      {
       "output_type": "stream",
       "stream": "stdout",
       "text": [
        " a Calculating best minimal value for power law fit\n",
        "g 32768  nodes, average degree  10  and 0.34, 0.04, 0.42, 0.48\n"
       ]
      },
      {
       "output_type": "stream",
       "stream": "stdout",
       "text": [
        "Completed in 0.1 seconds\n"
       ]
      },
      {
       "output_type": "stream",
       "stream": "stdout",
       "text": [
        "Calculating best minimal value for power law fit\n",
        "f c"
       ]
      },
      {
       "output_type": "stream",
       "stream": "stdout",
       "text": [
        " d"
       ]
      },
      {
       "output_type": "stream",
       "stream": "stdout",
       "text": [
        " a Calculating best minimal value for power law fit\n",
        "g"
       ]
      },
      {
       "output_type": "stream",
       "stream": "stdout",
       "text": [
        " 32768  nodes, average degree  10  and 0.37, 0.85, 0.84, 0.92\n"
       ]
      },
      {
       "output_type": "stream",
       "stream": "stdout",
       "text": [
        "Completed in 0.6 seconds\n"
       ]
      },
      {
       "output_type": "stream",
       "stream": "stdout",
       "text": [
        "Calculating best minimal value for power law fit\n",
        "f c"
       ]
      },
      {
       "output_type": "stream",
       "stream": "stdout",
       "text": [
        " d"
       ]
      },
      {
       "output_type": "stream",
       "stream": "stdout",
       "text": [
        " a"
       ]
      },
      {
       "output_type": "stream",
       "stream": "stdout",
       "text": [
        " Calculating best minimal value for power law fit\n",
        "g 32768  nodes, average degree  10  and 0.39, 0.53, 0.11, 0.68\n"
       ]
      },
      {
       "output_type": "stream",
       "stream": "stdout",
       "text": [
        "Completed in 0.3 seconds\n"
       ]
      },
      {
       "output_type": "stream",
       "stream": "stdout",
       "text": [
        "Calculating best minimal value for power law fit\n",
        "f c"
       ]
      },
      {
       "output_type": "stream",
       "stream": "stdout",
       "text": [
        " d"
       ]
      },
      {
       "output_type": "stream",
       "stream": "stdout",
       "text": [
        " a"
       ]
      },
      {
       "output_type": "stream",
       "stream": "stdout",
       "text": [
        " Calculating best minimal value for power law fit\n",
        "g 32768  nodes, average degree  10  and 0.21, 0.74, 0.59, 0.05\n"
       ]
      },
      {
       "output_type": "stream",
       "stream": "stdout",
       "text": [
        "Completed in 0.1 seconds\n"
       ]
      },
      {
       "output_type": "stream",
       "stream": "stdout",
       "text": [
        "Calculating best minimal value for power law fit\n",
        "f c"
       ]
      },
      {
       "output_type": "stream",
       "stream": "stdout",
       "text": [
        " d"
       ]
      },
      {
       "output_type": "stream",
       "stream": "stdout",
       "text": [
        " a"
       ]
      },
      {
       "output_type": "stream",
       "stream": "stdout",
       "text": [
        " Calculating best minimal value for power law fit\n",
        "g 32768  nodes, average degree  10  and 0.39, 0.40, 0.17, 0.61\n"
       ]
      },
      {
       "output_type": "stream",
       "stream": "stdout",
       "text": [
        "Completed in 0.1 seconds\n"
       ]
      },
      {
       "output_type": "stream",
       "stream": "stdout",
       "text": [
        "Calculating best minimal value for power law fit\n",
        "f c"
       ]
      },
      {
       "output_type": "stream",
       "stream": "stdout",
       "text": [
        " d"
       ]
      },
      {
       "output_type": "stream",
       "stream": "stdout",
       "text": [
        " a"
       ]
      },
      {
       "output_type": "stream",
       "stream": "stdout",
       "text": [
        " Calculating best minimal value for power law fit\n",
        "g 32768  nodes, average degree  10  and 0.50, 0.41, 0.56, 0.13\n"
       ]
      },
      {
       "output_type": "stream",
       "stream": "stdout",
       "text": [
        "Completed in 0.3 seconds\n"
       ]
      },
      {
       "output_type": "stream",
       "stream": "stdout",
       "text": [
        "Calculating best minimal value for power law fit\n",
        "f c"
       ]
      },
      {
       "output_type": "stream",
       "stream": "stdout",
       "text": [
        " d"
       ]
      },
      {
       "output_type": "stream",
       "stream": "stdout",
       "text": [
        " a"
       ]
      },
      {
       "output_type": "stream",
       "stream": "stdout",
       "text": [
        " Calculating best minimal value for power law fit\n",
        "g 32768  nodes, average degree  10  and 0.79, 0.44, 0.57, 0.44\n"
       ]
      },
      {
       "output_type": "stream",
       "stream": "stdout",
       "text": [
        "Completed in 0.2 seconds\n"
       ]
      },
      {
       "output_type": "stream",
       "stream": "stdout",
       "text": [
        "Calculating best minimal value for power law fit\n",
        "f c"
       ]
      },
      {
       "output_type": "stream",
       "stream": "stdout",
       "text": [
        " d a"
       ]
      },
      {
       "output_type": "stream",
       "stream": "stdout",
       "text": [
        " Calculating best minimal value for power law fit\n",
        "g 32768  nodes, average degree  10  and 0.19, 0.71, 0.84, 0.63\n"
       ]
      },
      {
       "output_type": "stream",
       "stream": "stdout",
       "text": [
        "Completed in 0.1 seconds\n"
       ]
      },
      {
       "output_type": "stream",
       "stream": "stdout",
       "text": [
        "Calculating best minimal value for power law fit\n",
        "f c"
       ]
      },
      {
       "output_type": "stream",
       "stream": "stdout",
       "text": [
        " d a"
       ]
      },
      {
       "output_type": "stream",
       "stream": "stdout",
       "text": [
        " Calculating best minimal value for power law fit\n",
        "g 32768  nodes, average degree  10  and 0.43, 0.43, 0.24, 0.92\n"
       ]
      },
      {
       "output_type": "stream",
       "stream": "stdout",
       "text": [
        "Completed in 0.2 seconds\n"
       ]
      },
      {
       "output_type": "stream",
       "stream": "stdout",
       "text": [
        "Calculating best minimal value for power law fit\n",
        "f c"
       ]
      },
      {
       "output_type": "stream",
       "stream": "stdout",
       "text": [
        " d"
       ]
      },
      {
       "output_type": "stream",
       "stream": "stdout",
       "text": [
        " a"
       ]
      },
      {
       "output_type": "stream",
       "stream": "stdout",
       "text": [
        " Calculating best minimal value for power law fit\n",
        "g 32768  nodes, average degree  10  and 0.71, 0.67, 0.21, 0.59\n"
       ]
      },
      {
       "output_type": "stream",
       "stream": "stdout",
       "text": [
        "Completed in 0.3 seconds\n"
       ]
      },
      {
       "output_type": "stream",
       "stream": "stdout",
       "text": [
        "Calculating best minimal value for power law fit\n",
        "f c"
       ]
      },
      {
       "output_type": "stream",
       "stream": "stdout",
       "text": [
        " d"
       ]
      },
      {
       "output_type": "stream",
       "stream": "stdout",
       "text": [
        " a"
       ]
      },
      {
       "output_type": "stream",
       "stream": "stdout",
       "text": [
        " Calculating best minimal value for power law fit\n",
        "g 32768  nodes, average degree  10  and 0.79, 0.83, 0.87, 0.53\n"
       ]
      },
      {
       "output_type": "stream",
       "stream": "stdout",
       "text": [
        "Completed in 0.2 seconds\n"
       ]
      },
      {
       "output_type": "stream",
       "stream": "stdout",
       "text": [
        "Calculating best minimal value for power law fit\n",
        "f c"
       ]
      },
      {
       "output_type": "stream",
       "stream": "stdout",
       "text": [
        " d a"
       ]
      },
      {
       "output_type": "stream",
       "stream": "stdout",
       "text": [
        " Calculating best minimal value for power law fit\n",
        "g 32768  nodes, average degree  10  and 0.76, 0.24, 0.52, 0.85\n"
       ]
      },
      {
       "output_type": "stream",
       "stream": "stdout",
       "text": [
        "Completed in 0.2 seconds\n"
       ]
      },
      {
       "output_type": "stream",
       "stream": "stdout",
       "text": [
        "Calculating best minimal value for power law fit\n",
        "f c"
       ]
      },
      {
       "output_type": "stream",
       "stream": "stdout",
       "text": [
        " d a"
       ]
      },
      {
       "output_type": "stream",
       "stream": "stdout",
       "text": [
        " Calculating best minimal value for power law fit\n",
        "g 32768  nodes, average degree  10  and 0.89, 0.00, 0.19, 0.44\n"
       ]
      },
      {
       "output_type": "stream",
       "stream": "stdout",
       "text": [
        "Completed in 0.1 seconds\n"
       ]
      },
      {
       "output_type": "stream",
       "stream": "stdout",
       "text": [
        "Calculating best minimal value for power law fit\n",
        "f c"
       ]
      },
      {
       "output_type": "stream",
       "stream": "stdout",
       "text": [
        " d a Calculating best minimal value for power law fit\n",
        "g 32768  nodes, average degree  10  and 0.90, 0.03, 0.12, 0.50\n"
       ]
      },
      {
       "output_type": "stream",
       "stream": "stdout",
       "text": [
        "Completed in 0.0 seconds\n"
       ]
      },
      {
       "output_type": "stream",
       "stream": "stdout",
       "text": [
        "Calculating best minimal value for power law fit\n",
        "f c"
       ]
      },
      {
       "output_type": "stream",
       "stream": "stdout",
       "text": [
        " d a Calculating best minimal value for power law fit\n",
        "g 32768  nodes, average degree  10  and 0.81, 0.15, 0.35, 0.81\n"
       ]
      },
      {
       "output_type": "stream",
       "stream": "stdout",
       "text": [
        "Completed in 0.1 seconds\n"
       ]
      },
      {
       "output_type": "stream",
       "stream": "stdout",
       "text": [
        "Calculating best minimal value for power law fit\n",
        "f c"
       ]
      },
      {
       "output_type": "stream",
       "stream": "stdout",
       "text": [
        " d a"
       ]
      },
      {
       "output_type": "stream",
       "stream": "stdout",
       "text": [
        " Calculating best minimal value for power law fit\n",
        "g 32768  nodes, average degree  10  and 0.40, 0.72, 0.67, 0.16\n"
       ]
      },
      {
       "output_type": "stream",
       "stream": "stdout",
       "text": [
        "Completed in 0.7 seconds\n"
       ]
      },
      {
       "output_type": "stream",
       "stream": "stdout",
       "text": [
        "Calculating best minimal value for power law fit\n",
        "f c"
       ]
      },
      {
       "output_type": "stream",
       "stream": "stdout",
       "text": [
        " d"
       ]
      },
      {
       "output_type": "stream",
       "stream": "stdout",
       "text": [
        " a"
       ]
      },
      {
       "output_type": "stream",
       "stream": "stdout",
       "text": [
        " Calculating best minimal value for power law fit\n",
        "g 32768  nodes, average degree  10  and 0.22, 0.84, 0.65, 0.85\n"
       ]
      },
      {
       "output_type": "stream",
       "stream": "stdout",
       "text": [
        "Completed in 0.2 seconds\n"
       ]
      },
      {
       "output_type": "stream",
       "stream": "stdout",
       "text": [
        "Calculating best minimal value for power law fit\n",
        "f c"
       ]
      },
      {
       "output_type": "stream",
       "stream": "stdout",
       "text": [
        " d a"
       ]
      },
      {
       "output_type": "stream",
       "stream": "stdout",
       "text": [
        " Calculating best minimal value for power law fit\n",
        "g 32768  nodes, average degree  10  and 0.53, 0.65, 0.02, 0.72\n"
       ]
      },
      {
       "output_type": "stream",
       "stream": "stdout",
       "text": [
        "Completed in 0.8 seconds\n"
       ]
      },
      {
       "output_type": "stream",
       "stream": "stdout",
       "text": [
        "Calculating best minimal value for power law fit\n",
        "f c"
       ]
      },
      {
       "output_type": "stream",
       "stream": "stdout",
       "text": [
        " d"
       ]
      },
      {
       "output_type": "stream",
       "stream": "stdout",
       "text": [
        " a"
       ]
      },
      {
       "output_type": "stream",
       "stream": "stdout",
       "text": [
        " Calculating best minimal value for power law fit\n",
        "g 32768  nodes, average degree  10  and 0.68, 0.13, 0.64, 0.59\n"
       ]
      },
      {
       "output_type": "stream",
       "stream": "stdout",
       "text": [
        "Completed in 0.1 seconds\n"
       ]
      },
      {
       "output_type": "stream",
       "stream": "stdout",
       "text": [
        "Calculating best minimal value for power law fit\n",
        "f c"
       ]
      },
      {
       "output_type": "stream",
       "stream": "stdout",
       "text": [
        " d a"
       ]
      },
      {
       "output_type": "stream",
       "stream": "stdout",
       "text": [
        " Calculating best minimal value for power law fit\n",
        "g 32768  nodes, average degree  10  and 0.45, 0.76, 0.46, 0.98\n"
       ]
      },
      {
       "output_type": "stream",
       "stream": "stdout",
       "text": [
        "Completed in 0.8 seconds\n"
       ]
      },
      {
       "output_type": "stream",
       "stream": "stdout",
       "text": [
        "Calculating best minimal value for power law fit\n",
        "f c"
       ]
      },
      {
       "output_type": "stream",
       "stream": "stdout",
       "text": [
        " d"
       ]
      },
      {
       "output_type": "stream",
       "stream": "stdout",
       "text": [
        " a"
       ]
      },
      {
       "output_type": "stream",
       "stream": "stdout",
       "text": [
        " Calculating best minimal value for power law fit\n",
        "g 32768  nodes, average degree  10  and 0.08, 0.70, 0.16, 0.35\n"
       ]
      },
      {
       "output_type": "stream",
       "stream": "stdout",
       "text": [
        "Completed in 0.1 seconds\n"
       ]
      },
      {
       "output_type": "stream",
       "stream": "stdout",
       "text": [
        "Calculating best minimal value for power law fit\n",
        "f c d"
       ]
      },
      {
       "output_type": "stream",
       "stream": "stdout",
       "text": [
        " a Calculating best minimal value for power law fit\n",
        "g 32768  nodes, average degree  10  and 0.22, 0.82, 0.64, 0.07\n"
       ]
      },
      {
       "output_type": "stream",
       "stream": "stdout",
       "text": [
        "Completed in 0.2 seconds\n"
       ]
      },
      {
       "output_type": "stream",
       "stream": "stdout",
       "text": [
        "Calculating best minimal value for power law fit\n",
        "f c"
       ]
      },
      {
       "output_type": "stream",
       "stream": "stdout",
       "text": [
        " d a"
       ]
      },
      {
       "output_type": "stream",
       "stream": "stdout",
       "text": [
        " Calculating best minimal value for power law fit\n",
        "g 32768  nodes, average degree  10  and 0.32, 0.73, 0.37, 0.34\n"
       ]
      },
      {
       "output_type": "stream",
       "stream": "stdout",
       "text": [
        "Completed in 0.4 seconds\n"
       ]
      },
      {
       "output_type": "stream",
       "stream": "stdout",
       "text": [
        "Calculating best minimal value for power law fit\n",
        "f c"
       ]
      },
      {
       "output_type": "stream",
       "stream": "stdout",
       "text": [
        " d"
       ]
      },
      {
       "output_type": "stream",
       "stream": "stdout",
       "text": [
        " a"
       ]
      },
      {
       "output_type": "stream",
       "stream": "stdout",
       "text": [
        " Calculating best minimal value for power law fit\n",
        "g 32768  nodes, average degree  10  and 0.49, 0.71, 0.13, 0.95\n"
       ]
      },
      {
       "output_type": "stream",
       "stream": "stdout",
       "text": [
        "Completed in 0.9 seconds\n"
       ]
      },
      {
       "output_type": "stream",
       "stream": "stdout",
       "text": [
        "Calculating best minimal value for power law fit\n",
        "f c"
       ]
      },
      {
       "output_type": "stream",
       "stream": "stdout",
       "text": [
        " d"
       ]
      },
      {
       "output_type": "stream",
       "stream": "stdout",
       "text": [
        " a"
       ]
      },
      {
       "output_type": "stream",
       "stream": "stdout",
       "text": [
        " Calculating best minimal value for power law fit\n",
        "g 32768  nodes, average degree  10  and 0.93, 0.83, 0.37, 0.69\n"
       ]
      },
      {
       "output_type": "stream",
       "stream": "stdout",
       "text": [
        "Completed in 0.1 seconds\n"
       ]
      },
      {
       "output_type": "stream",
       "stream": "stdout",
       "text": [
        "Calculating best minimal value for power law fit\n",
        "f c"
       ]
      },
      {
       "output_type": "stream",
       "stream": "stdout",
       "text": [
        " d a Calculating best minimal value for power law fit\n",
        "g 32768  nodes, average degree  10  and 0.40, 0.25, 0.08, 0.41\n"
       ]
      },
      {
       "output_type": "stream",
       "stream": "stdout",
       "text": [
        "Completed in 0.1 seconds\n"
       ]
      },
      {
       "output_type": "stream",
       "stream": "stdout",
       "text": [
        "Calculating best minimal value for power law fit\n",
        "f c"
       ]
      },
      {
       "output_type": "stream",
       "stream": "stdout",
       "text": [
        " d a"
       ]
      },
      {
       "output_type": "stream",
       "stream": "stdout",
       "text": [
        " Calculating best minimal value for power law fit\n",
        "g 32768  nodes, average degree  10  and 0.10, 0.32, 0.92, 0.26\n"
       ]
      },
      {
       "output_type": "stream",
       "stream": "stdout",
       "text": [
        "Completed in 0.1 seconds\n"
       ]
      },
      {
       "output_type": "stream",
       "stream": "stdout",
       "text": [
        "Calculating best minimal value for power law fit\n",
        "f c d"
       ]
      },
      {
       "output_type": "stream",
       "stream": "stdout",
       "text": [
        " a Calculating best minimal value for power law fit\n",
        "g 32768  nodes, average degree  10  and 0.97, 0.48, 0.89, 0.98\n"
       ]
      },
      {
       "output_type": "stream",
       "stream": "stdout",
       "text": [
        "Completed in 0.0 seconds\n"
       ]
      },
      {
       "output_type": "stream",
       "stream": "stdout",
       "text": [
        "Calculating best minimal value for power law fit\n",
        "f c"
       ]
      },
      {
       "output_type": "stream",
       "stream": "stdout",
       "text": [
        " d a Calculating best minimal value for power law fit\n",
        "g 32768  nodes, average degree  10  and 0.38, 0.27, 0.82, 0.88\n"
       ]
      },
      {
       "output_type": "stream",
       "stream": "stdout",
       "text": [
        "Completed in 0.1 seconds\n"
       ]
      },
      {
       "output_type": "stream",
       "stream": "stdout",
       "text": [
        "Calculating best minimal value for power law fit\n",
        "f c"
       ]
      },
      {
       "output_type": "stream",
       "stream": "stdout",
       "text": [
        " d a"
       ]
      },
      {
       "output_type": "stream",
       "stream": "stdout",
       "text": [
        " Calculating best minimal value for power law fit\n",
        "g 32768  nodes, average degree  10  and 0.23, 0.52, 0.60, 0.42\n"
       ]
      },
      {
       "output_type": "stream",
       "stream": "stdout",
       "text": [
        "Completed in 0.1 seconds\n"
       ]
      },
      {
       "output_type": "stream",
       "stream": "stdout",
       "text": [
        "Calculating best minimal value for power law fit\n",
        "f c"
       ]
      },
      {
       "output_type": "stream",
       "stream": "stdout",
       "text": [
        " d"
       ]
      },
      {
       "output_type": "stream",
       "stream": "stdout",
       "text": [
        " a Calculating best minimal value for power law fit\n",
        "g 32768  nodes, average degree  10  and 0.73, 0.02, 0.20, 0.73\n"
       ]
      },
      {
       "output_type": "stream",
       "stream": "stdout",
       "text": [
        "Completed in 0.1 seconds\n"
       ]
      },
      {
       "output_type": "stream",
       "stream": "stdout",
       "text": [
        "Calculating best minimal value for power law fit\n",
        "f c"
       ]
      },
      {
       "output_type": "stream",
       "stream": "stdout",
       "text": [
        " d a"
       ]
      },
      {
       "output_type": "stream",
       "stream": "stdout",
       "text": [
        " Calculating best minimal value for power law fit\n",
        "g 32768  nodes, average degree  10  and 0.55, 0.94, 0.82, 0.22\n"
       ]
      },
      {
       "output_type": "stream",
       "stream": "stdout",
       "text": [
        "Completed in 0.8 seconds\n"
       ]
      },
      {
       "output_type": "stream",
       "stream": "stdout",
       "text": [
        "Calculating best minimal value for power law fit\n",
        "f c"
       ]
      },
      {
       "output_type": "stream",
       "stream": "stdout",
       "text": [
        " d"
       ]
      },
      {
       "output_type": "stream",
       "stream": "stdout",
       "text": [
        " a"
       ]
      },
      {
       "output_type": "stream",
       "stream": "stdout",
       "text": [
        " Calculating best minimal value for power law fit\n",
        "g 32768  nodes, average degree  10  and 0.08, 0.03, 0.99, 0.89\n"
       ]
      },
      {
       "output_type": "stream",
       "stream": "stdout",
       "text": [
        "Completed in 0.1 seconds\n"
       ]
      },
      {
       "output_type": "stream",
       "stream": "stdout",
       "text": [
        "Calculating best minimal value for power law fit\n",
        "f c"
       ]
      },
      {
       "output_type": "stream",
       "stream": "stdout",
       "text": [
        " d a Calculating best minimal value for power law fit\n",
        "g 32768  nodes, average degree  10  and 0.39, 0.04, 0.07, 0.68\n"
       ]
      },
      {
       "output_type": "stream",
       "stream": "stdout",
       "text": [
        "Completed in 0.1 seconds\n"
       ]
      },
      {
       "output_type": "stream",
       "stream": "stdout",
       "text": [
        "Calculating best minimal value for power law fit\n",
        "f c d"
       ]
      },
      {
       "output_type": "stream",
       "stream": "stdout",
       "text": [
        " a Calculating best minimal value for power law fit\n",
        "g 32768  nodes, average degree  10  and 0.09, 0.57, 0.17, 0.88\n"
       ]
      },
      {
       "output_type": "stream",
       "stream": "stdout",
       "text": [
        "Completed in 0.1 seconds\n"
       ]
      },
      {
       "output_type": "stream",
       "stream": "stdout",
       "text": [
        "Calculating best minimal value for power law fit\n",
        "f c d"
       ]
      },
      {
       "output_type": "stream",
       "stream": "stdout",
       "text": [
        " a Calculating best minimal value for power law fit\n",
        "g 32768  nodes, average degree  10  and 0.01, 0.12, 0.50, 0.85\n"
       ]
      },
      {
       "output_type": "stream",
       "stream": "stdout",
       "text": [
        "Completed in 0.2 seconds\n"
       ]
      },
      {
       "output_type": "stream",
       "stream": "stdout",
       "text": [
        "Calculating best minimal value for power law fit\n",
        "f c"
       ]
      },
      {
       "output_type": "stream",
       "stream": "stdout",
       "text": [
        " d"
       ]
      },
      {
       "output_type": "stream",
       "stream": "stdout",
       "text": [
        " a"
       ]
      },
      {
       "output_type": "stream",
       "stream": "stdout",
       "text": [
        " Calculating best minimal value for power law fit\n",
        "g 32768  nodes, average degree  10  and 0.82, 0.97, 0.33, 0.64\n"
       ]
      },
      {
       "output_type": "stream",
       "stream": "stdout",
       "text": [
        "Completed in 0.1 seconds\n"
       ]
      },
      {
       "output_type": "stream",
       "stream": "stdout",
       "text": [
        "Calculating best minimal value for power law fit\n",
        "f c"
       ]
      },
      {
       "output_type": "stream",
       "stream": "stdout",
       "text": [
        " d a"
       ]
      },
      {
       "output_type": "stream",
       "stream": "stdout",
       "text": [
        " Calculating best minimal value for power law fit\n",
        "g 32768  nodes, average degree  10  and 0.12, 0.20, 0.90, 0.56\n"
       ]
      },
      {
       "output_type": "stream",
       "stream": "stdout",
       "text": [
        "Completed in 0.1 seconds\n"
       ]
      },
      {
       "output_type": "stream",
       "stream": "stdout",
       "text": [
        "Calculating best minimal value for power law fit\n",
        "f c d"
       ]
      },
      {
       "output_type": "stream",
       "stream": "stdout",
       "text": [
        " a Calculating best minimal value for power law fit\n",
        "g 32768  nodes, average degree  10  and 0.77, 0.85, 0.51, 0.30\n"
       ]
      },
      {
       "output_type": "stream",
       "stream": "stdout",
       "text": [
        "Completed in 0.2 seconds\n"
       ]
      },
      {
       "output_type": "stream",
       "stream": "stdout",
       "text": [
        "Calculating best minimal value for power law fit\n",
        "f c"
       ]
      },
      {
       "output_type": "stream",
       "stream": "stdout",
       "text": [
        " d a"
       ]
      },
      {
       "output_type": "stream",
       "stream": "stdout",
       "text": [
        " Calculating best minimal value for power law fit\n",
        "g 32768  nodes, average degree  10  and 0.37, 0.41, 0.67, 0.40\n"
       ]
      },
      {
       "output_type": "stream",
       "stream": "stdout",
       "text": [
        "Completed in 0.1 seconds\n"
       ]
      },
      {
       "output_type": "stream",
       "stream": "stdout",
       "text": [
        "Calculating best minimal value for power law fit\n",
        "f c"
       ]
      },
      {
       "output_type": "stream",
       "stream": "stdout",
       "text": [
        " d"
       ]
      },
      {
       "output_type": "stream",
       "stream": "stdout",
       "text": [
        " a"
       ]
      },
      {
       "output_type": "stream",
       "stream": "stdout",
       "text": [
        " Calculating best minimal value for power law fit\n",
        "g 32768  nodes, average degree  10  and 0.70, 0.32, 0.11, 0.05\n"
       ]
      },
      {
       "output_type": "stream",
       "stream": "stdout",
       "text": [
        "Completed in 0.3 seconds\n"
       ]
      },
      {
       "output_type": "stream",
       "stream": "stdout",
       "text": [
        "Calculating best minimal value for power law fit\n",
        "f c"
       ]
      },
      {
       "output_type": "stream",
       "stream": "stdout",
       "text": [
        " d"
       ]
      },
      {
       "output_type": "stream",
       "stream": "stdout",
       "text": [
        " a"
       ]
      },
      {
       "output_type": "stream",
       "stream": "stdout",
       "text": [
        " Calculating best minimal value for power law fit\n",
        "g 32768  nodes, average degree  10  and 0.54, 0.41, 0.01, 0.71\n"
       ]
      },
      {
       "output_type": "stream",
       "stream": "stdout",
       "text": [
        "Completed in 0.5 seconds\n"
       ]
      },
      {
       "output_type": "stream",
       "stream": "stdout",
       "text": [
        "Calculating best minimal value for power law fit\n",
        "f c"
       ]
      },
      {
       "output_type": "stream",
       "stream": "stdout",
       "text": [
        " d"
       ]
      },
      {
       "output_type": "stream",
       "stream": "stdout",
       "text": [
        " a"
       ]
      },
      {
       "output_type": "stream",
       "stream": "stdout",
       "text": [
        " Calculating best minimal value for power law fit\n",
        "g 32768  nodes, average degree  10  and 0.29, 0.48, 0.50, 0.62\n"
       ]
      },
      {
       "output_type": "stream",
       "stream": "stdout",
       "text": [
        "Completed in 0.1 seconds\n"
       ]
      },
      {
       "output_type": "stream",
       "stream": "stdout",
       "text": [
        "Calculating best minimal value for power law fit\n",
        "f c"
       ]
      },
      {
       "output_type": "stream",
       "stream": "stdout",
       "text": [
        " d"
       ]
      },
      {
       "output_type": "stream",
       "stream": "stdout",
       "text": [
        " a Calculating best minimal value for power law fit\n",
        "g"
       ]
      },
      {
       "output_type": "stream",
       "stream": "stdout",
       "text": [
        " 32768  nodes, average degree  10  and 0.98, 0.74, 0.89, 0.70\n"
       ]
      },
      {
       "output_type": "stream",
       "stream": "stdout",
       "text": [
        "Completed in 0.0 seconds\n"
       ]
      },
      {
       "output_type": "stream",
       "stream": "stdout",
       "text": [
        "Calculating best minimal value for power law fit\n",
        "f c"
       ]
      },
      {
       "output_type": "stream",
       "stream": "stdout",
       "text": [
        " d a Calculating best minimal value for power law fit\n",
        "g 32768  nodes, average degree  10  and 0.66, 1.00, 0.55, 0.47\n"
       ]
      },
      {
       "output_type": "stream",
       "stream": "stdout",
       "text": [
        "Completed in 0.5 seconds\n"
       ]
      },
      {
       "output_type": "stream",
       "stream": "stdout",
       "text": [
        "Calculating best minimal value for power law fit\n",
        "f c"
       ]
      },
      {
       "output_type": "stream",
       "stream": "stdout",
       "text": [
        " d"
       ]
      },
      {
       "output_type": "stream",
       "stream": "stdout",
       "text": [
        " a"
       ]
      },
      {
       "output_type": "stream",
       "stream": "stdout",
       "text": [
        " Calculating best minimal value for power law fit\n",
        "g 32768  nodes, average degree  10  and 0.11, 0.45, 0.78, 0.83\n"
       ]
      },
      {
       "output_type": "stream",
       "stream": "stdout",
       "text": [
        "Completed in 0.1 seconds\n"
       ]
      },
      {
       "output_type": "stream",
       "stream": "stdout",
       "text": [
        "Calculating best minimal value for power law fit\n",
        "f c"
       ]
      },
      {
       "output_type": "stream",
       "stream": "stdout",
       "text": [
        " d a"
       ]
      },
      {
       "output_type": "stream",
       "stream": "stdout",
       "text": [
        " Calculating best minimal value for power law fit\n",
        "g 32768  nodes, average degree  10  and 0.92, 0.09, 0.98, 0.34\n"
       ]
      },
      {
       "output_type": "stream",
       "stream": "stdout",
       "text": [
        "Completed in 0.1 seconds\n"
       ]
      },
      {
       "output_type": "stream",
       "stream": "stdout",
       "text": [
        "Calculating best minimal value for power law fit\n",
        "f c"
       ]
      },
      {
       "output_type": "stream",
       "stream": "stdout",
       "text": [
        " d a Calculating best minimal value for power law fit\n",
        "g 32768  nodes, average degree  10  and 0.16, 0.94, 0.92, 0.19\n"
       ]
      },
      {
       "output_type": "stream",
       "stream": "stdout",
       "text": [
        "Completed in 0.1 seconds\n"
       ]
      },
      {
       "output_type": "stream",
       "stream": "stdout",
       "text": [
        "Calculating best minimal value for power law fit\n",
        "f c"
       ]
      },
      {
       "output_type": "stream",
       "stream": "stdout",
       "text": [
        " d a"
       ]
      },
      {
       "output_type": "stream",
       "stream": "stdout",
       "text": [
        " Calculating best minimal value for power law fit\n",
        "g 32768  nodes, average degree  10  and 0.76, 0.49, 0.71, 0.40\n"
       ]
      },
      {
       "output_type": "stream",
       "stream": "stdout",
       "text": [
        "Completed in 0.3 seconds\n"
       ]
      },
      {
       "output_type": "stream",
       "stream": "stdout",
       "text": [
        "Calculating best minimal value for power law fit\n",
        "f c"
       ]
      },
      {
       "output_type": "stream",
       "stream": "stdout",
       "text": [
        " d"
       ]
      },
      {
       "output_type": "stream",
       "stream": "stdout",
       "text": [
        " a"
       ]
      },
      {
       "output_type": "stream",
       "stream": "stdout",
       "text": [
        " Calculating best minimal value for power law fit\n",
        "g 32768  nodes, average degree  10  and 0.95, 0.13, 0.20, 0.71\n"
       ]
      },
      {
       "output_type": "stream",
       "stream": "stdout",
       "text": [
        "Completed in 0.0 seconds\n"
       ]
      },
      {
       "output_type": "stream",
       "stream": "stdout",
       "text": [
        "Calculating best minimal value for power law fit\n",
        "f c"
       ]
      },
      {
       "output_type": "stream",
       "stream": "stdout",
       "text": [
        " d a Calculating best minimal value for power law fit\n",
        "g 32768  nodes, average degree  10  and 0.97, 0.67, 0.27, 0.60\n"
       ]
      },
      {
       "output_type": "stream",
       "stream": "stdout",
       "text": [
        "Completed in 0.0 seconds\n"
       ]
      },
      {
       "output_type": "stream",
       "stream": "stdout",
       "text": [
        "Calculating best minimal value for power law fit\n",
        "f c"
       ]
      },
      {
       "output_type": "stream",
       "stream": "stdout",
       "text": [
        " d a Calculating best minimal value for power law fit\n",
        "g 32768  nodes, average degree  10  and 0.31, 0.32, 0.39, 0.33\n"
       ]
      },
      {
       "output_type": "stream",
       "stream": "stdout",
       "text": [
        "Completed in 0.1 seconds\n"
       ]
      },
      {
       "output_type": "stream",
       "stream": "stdout",
       "text": [
        "Calculating best minimal value for power law fit\n",
        "f c"
       ]
      },
      {
       "output_type": "stream",
       "stream": "stdout",
       "text": [
        " d a"
       ]
      },
      {
       "output_type": "stream",
       "stream": "stdout",
       "text": [
        " Calculating best minimal value for power law fit\n",
        "g 32768  nodes, average degree  10  and 0.79, 0.75, 0.73, 0.50\n"
       ]
      },
      {
       "output_type": "stream",
       "stream": "stdout",
       "text": [
        "Completed in 0.2 seconds\n"
       ]
      },
      {
       "output_type": "stream",
       "stream": "stdout",
       "text": [
        "Calculating best minimal value for power law fit\n",
        "f c"
       ]
      },
      {
       "output_type": "stream",
       "stream": "stdout",
       "text": [
        " d a"
       ]
      },
      {
       "output_type": "stream",
       "stream": "stdout",
       "text": [
        " Calculating best minimal value for power law fit\n",
        "g 32768  nodes, average degree  10  and 0.69, 0.44, 0.48, 0.27\n"
       ]
      },
      {
       "output_type": "stream",
       "stream": "stdout",
       "text": [
        "Completed in 0.4 seconds\n"
       ]
      },
      {
       "output_type": "stream",
       "stream": "stdout",
       "text": [
        "Calculating best minimal value for power law fit\n",
        "f c"
       ]
      },
      {
       "output_type": "stream",
       "stream": "stdout",
       "text": [
        " d"
       ]
      },
      {
       "output_type": "stream",
       "stream": "stdout",
       "text": [
        " a"
       ]
      },
      {
       "output_type": "stream",
       "stream": "stdout",
       "text": [
        " Calculating best minimal value for power law fit\n",
        "g 32768  nodes, average degree  10  and 0.19, 0.11, 0.46, 0.40\n"
       ]
      },
      {
       "output_type": "stream",
       "stream": "stdout",
       "text": [
        "Completed in 0.1 seconds\n"
       ]
      },
      {
       "output_type": "stream",
       "stream": "stdout",
       "text": [
        "Calculating best minimal value for power law fit\n",
        "f c"
       ]
      },
      {
       "output_type": "stream",
       "stream": "stdout",
       "text": [
        " d a"
       ]
      },
      {
       "output_type": "stream",
       "stream": "stdout",
       "text": [
        " Calculating best minimal value for power law fit\n",
        "g 32768  nodes, average degree  10  and 0.67, 0.56, 0.50, 0.69\n"
       ]
      },
      {
       "output_type": "stream",
       "stream": "stdout",
       "text": [
        "Completed in 0.4 seconds\n"
       ]
      },
      {
       "output_type": "stream",
       "stream": "stdout",
       "text": [
        "Calculating best minimal value for power law fit\n",
        "f c"
       ]
      },
      {
       "output_type": "stream",
       "stream": "stdout",
       "text": [
        " d"
       ]
      },
      {
       "output_type": "stream",
       "stream": "stdout",
       "text": [
        " a"
       ]
      },
      {
       "output_type": "stream",
       "stream": "stdout",
       "text": [
        " Calculating best minimal value for power law fit\n",
        "g 32768  nodes, average degree  10  and 0.45, 0.76, 0.77, 0.97\n"
       ]
      },
      {
       "output_type": "stream",
       "stream": "stdout",
       "text": [
        "Completed in 1.0 seconds\n"
       ]
      },
      {
       "output_type": "stream",
       "stream": "stdout",
       "text": [
        "Calculating best minimal value for power law fit\n",
        "f c"
       ]
      },
      {
       "output_type": "stream",
       "stream": "stdout",
       "text": [
        " d"
       ]
      },
      {
       "output_type": "stream",
       "stream": "stdout",
       "text": [
        " a"
       ]
      },
      {
       "output_type": "stream",
       "stream": "stdout",
       "text": [
        " Calculating best minimal value for power law fit\n",
        "g 32768  nodes, average degree  10  and 0.08, 0.08, 0.19, 0.31\n"
       ]
      },
      {
       "output_type": "stream",
       "stream": "stdout",
       "text": [
        "Completed in 0.1 seconds\n"
       ]
      },
      {
       "output_type": "stream",
       "stream": "stdout",
       "text": [
        "Calculating best minimal value for power law fit\n",
        "f c d"
       ]
      },
      {
       "output_type": "stream",
       "stream": "stdout",
       "text": [
        " a"
       ]
      },
      {
       "output_type": "stream",
       "stream": "stdout",
       "text": [
        " Calculating best minimal value for power law fit\n",
        "g 32768  nodes, average degree  10  and 0.26, 0.25, 0.79, 0.98\n"
       ]
      },
      {
       "output_type": "stream",
       "stream": "stdout",
       "text": [
        "Completed in 0.1 seconds\n"
       ]
      },
      {
       "output_type": "stream",
       "stream": "stdout",
       "text": [
        "Calculating best minimal value for power law fit\n",
        "f c"
       ]
      },
      {
       "output_type": "stream",
       "stream": "stdout",
       "text": [
        " d a"
       ]
      },
      {
       "output_type": "stream",
       "stream": "stdout",
       "text": [
        " Calculating best minimal value for power law fit\n",
        "g 32768  nodes, average degree  10  and 0.21, 0.25, 0.35, 0.35\n"
       ]
      },
      {
       "output_type": "stream",
       "stream": "stdout",
       "text": [
        "Completed in 0.1 seconds\n"
       ]
      },
      {
       "output_type": "stream",
       "stream": "stdout",
       "text": [
        "Calculating best minimal value for power law fit\n",
        "f c"
       ]
      },
      {
       "output_type": "stream",
       "stream": "stdout",
       "text": [
        " d"
       ]
      },
      {
       "output_type": "stream",
       "stream": "stdout",
       "text": [
        " a Calculating best minimal value for power law fit\n",
        "g 32768  nodes, average degree  10  and 0.18, 0.27, 0.89, 0.11\n"
       ]
      },
      {
       "output_type": "stream",
       "stream": "stdout",
       "text": [
        "Completed in 0.1 seconds\n"
       ]
      },
      {
       "output_type": "stream",
       "stream": "stdout",
       "text": [
        "Calculating best minimal value for power law fit\n",
        "f c"
       ]
      },
      {
       "output_type": "stream",
       "stream": "stdout",
       "text": [
        " d"
       ]
      },
      {
       "output_type": "stream",
       "stream": "stdout",
       "text": [
        " a Calculating best minimal value for power law fit\n",
        "g"
       ]
      },
      {
       "output_type": "stream",
       "stream": "stdout",
       "text": [
        " 32768  nodes, average degree  10  and 0.13, 0.99, 0.90, 0.73\n"
       ]
      },
      {
       "output_type": "stream",
       "stream": "stdout",
       "text": [
        "Completed in 0.1 seconds\n"
       ]
      },
      {
       "output_type": "stream",
       "stream": "stdout",
       "text": [
        "Calculating best minimal value for power law fit\n",
        "f c"
       ]
      },
      {
       "output_type": "stream",
       "stream": "stdout",
       "text": [
        " d a Calculating best minimal value for power law fit\n",
        "g 32768  nodes, average degree  10  and 0.12, 0.88, 0.57, 0.50\n"
       ]
      },
      {
       "output_type": "stream",
       "stream": "stdout",
       "text": [
        "Completed in 0.1 seconds\n"
       ]
      },
      {
       "output_type": "stream",
       "stream": "stdout",
       "text": [
        "Calculating best minimal value for power law fit\n",
        "f c"
       ]
      },
      {
       "output_type": "stream",
       "stream": "stdout",
       "text": [
        " d a Calculating best minimal value for power law fit\n",
        "g 32768  nodes, average degree  10  and 0.92, 0.73, 0.21, 0.13\n"
       ]
      },
      {
       "output_type": "stream",
       "stream": "stdout",
       "text": [
        "Completed in 0.0 seconds\n"
       ]
      },
      {
       "output_type": "stream",
       "stream": "stdout",
       "text": [
        "Calculating best minimal value for power law fit\n",
        "f c"
       ]
      },
      {
       "output_type": "stream",
       "stream": "stdout",
       "text": [
        " d a Calculating best minimal value for power law fit\n",
        "g 32768  nodes, average degree  10  and 0.97, 0.71, 0.15, 0.78\n"
       ]
      },
      {
       "output_type": "stream",
       "stream": "stdout",
       "text": [
        "Completed in 0.0 seconds\n"
       ]
      },
      {
       "output_type": "stream",
       "stream": "stdout",
       "text": [
        "Calculating best minimal value for power law fit\n",
        "f c"
       ]
      },
      {
       "output_type": "stream",
       "stream": "stdout",
       "text": [
        " d a Calculating best minimal value for power law fit\n",
        "g 32768  nodes, average degree  10  and 0.35, 0.96, 0.61, 0.96\n"
       ]
      },
      {
       "output_type": "stream",
       "stream": "stdout",
       "text": [
        "Completed in 0.5 seconds\n"
       ]
      },
      {
       "output_type": "stream",
       "stream": "stdout",
       "text": [
        "Calculating best minimal value for power law fit\n",
        "f c"
       ]
      },
      {
       "output_type": "stream",
       "stream": "stdout",
       "text": [
        " d"
       ]
      },
      {
       "output_type": "stream",
       "stream": "stdout",
       "text": [
        " a"
       ]
      },
      {
       "output_type": "stream",
       "stream": "stdout",
       "text": [
        " Calculating best minimal value for power law fit\n",
        "g 32768  nodes, average degree  10  and 0.75, 0.38, 0.65, 0.16\n"
       ]
      },
      {
       "output_type": "stream",
       "stream": "stdout",
       "text": [
        "Completed in 0.2 seconds\n"
       ]
      },
      {
       "output_type": "stream",
       "stream": "stdout",
       "text": [
        "Calculating best minimal value for power law fit\n",
        "f c"
       ]
      },
      {
       "output_type": "stream",
       "stream": "stdout",
       "text": [
        " d"
       ]
      },
      {
       "output_type": "stream",
       "stream": "stdout",
       "text": [
        " a"
       ]
      },
      {
       "output_type": "stream",
       "stream": "stdout",
       "text": [
        " Calculating best minimal value for power law fit\n",
        "g 32768  nodes, average degree  10  and 0.25, 0.50, 0.38, 0.95\n"
       ]
      },
      {
       "output_type": "stream",
       "stream": "stdout",
       "text": [
        "Completed in 0.1 seconds\n"
       ]
      },
      {
       "output_type": "stream",
       "stream": "stdout",
       "text": [
        "Calculating best minimal value for power law fit\n",
        "f c"
       ]
      },
      {
       "output_type": "stream",
       "stream": "stdout",
       "text": [
        " d a"
       ]
      },
      {
       "output_type": "stream",
       "stream": "stdout",
       "text": [
        " Calculating best minimal value for power law fit\n",
        "g 32768  nodes, average degree  10  and 0.34, 0.79, 0.65, 0.17\n"
       ]
      },
      {
       "output_type": "stream",
       "stream": "stdout",
       "text": [
        "Completed in 0.5 seconds\n"
       ]
      },
      {
       "output_type": "stream",
       "stream": "stdout",
       "text": [
        "Calculating best minimal value for power law fit\n",
        "f c"
       ]
      },
      {
       "output_type": "stream",
       "stream": "stdout",
       "text": [
        " d"
       ]
      },
      {
       "output_type": "stream",
       "stream": "stdout",
       "text": [
        " a"
       ]
      },
      {
       "output_type": "stream",
       "stream": "stdout",
       "text": [
        " Calculating best minimal value for power law fit\n",
        "g 32768  nodes, average degree  10  and 0.43, 0.39, 0.33, 0.61\n"
       ]
      },
      {
       "output_type": "stream",
       "stream": "stdout",
       "text": [
        "Completed in 0.1 seconds\n"
       ]
      },
      {
       "output_type": "stream",
       "stream": "stdout",
       "text": [
        "Calculating best minimal value for power law fit\n",
        "f c"
       ]
      },
      {
       "output_type": "stream",
       "stream": "stdout",
       "text": [
        " d"
       ]
      },
      {
       "output_type": "stream",
       "stream": "stdout",
       "text": [
        " a"
       ]
      },
      {
       "output_type": "stream",
       "stream": "stdout",
       "text": [
        " Calculating best minimal value for power law fit\n",
        "g 32768  nodes, average degree  10  and 0.45, 0.55, 0.48, 0.18\n"
       ]
      },
      {
       "output_type": "stream",
       "stream": "stdout",
       "text": [
        "Completed in 0.9 seconds\n"
       ]
      },
      {
       "output_type": "stream",
       "stream": "stdout",
       "text": [
        "Calculating best minimal value for power law fit\n",
        "f c"
       ]
      },
      {
       "output_type": "stream",
       "stream": "stdout",
       "text": [
        " d"
       ]
      },
      {
       "output_type": "stream",
       "stream": "stdout",
       "text": [
        " a"
       ]
      },
      {
       "output_type": "stream",
       "stream": "stdout",
       "text": [
        " Calculating best minimal value for power law fit\n",
        "g 32768  nodes, average degree  10  and 0.37, 0.38, 0.40, 0.87\n"
       ]
      },
      {
       "output_type": "stream",
       "stream": "stdout",
       "text": [
        "Completed in 0.1 seconds\n"
       ]
      },
      {
       "output_type": "stream",
       "stream": "stdout",
       "text": [
        "Calculating best minimal value for power law fit\n",
        "f c"
       ]
      },
      {
       "output_type": "stream",
       "stream": "stdout",
       "text": [
        " d a"
       ]
      },
      {
       "output_type": "stream",
       "stream": "stdout",
       "text": [
        " Calculating best minimal value for power law fit\n",
        "g 32768  nodes, average degree  10  and 0.29, 0.26, 0.29, 0.83\n"
       ]
      },
      {
       "output_type": "stream",
       "stream": "stdout",
       "text": [
        "Completed in 0.1 seconds\n"
       ]
      },
      {
       "output_type": "stream",
       "stream": "stdout",
       "text": [
        "Calculating best minimal value for power law fit\n",
        "f c"
       ]
      },
      {
       "output_type": "stream",
       "stream": "stdout",
       "text": [
        " d"
       ]
      },
      {
       "output_type": "stream",
       "stream": "stdout",
       "text": [
        " a Calculating best minimal value for power law fit\n",
        "g 32768  nodes, average degree  10  and 0.29, 0.94, 0.56, 0.97\n"
       ]
      },
      {
       "output_type": "stream",
       "stream": "stdout",
       "text": [
        "Completed in 0.3 seconds\n"
       ]
      },
      {
       "output_type": "stream",
       "stream": "stdout",
       "text": [
        "Calculating best minimal value for power law fit\n",
        "f c"
       ]
      },
      {
       "output_type": "stream",
       "stream": "stdout",
       "text": [
        " d"
       ]
      },
      {
       "output_type": "stream",
       "stream": "stdout",
       "text": [
        " a"
       ]
      },
      {
       "output_type": "stream",
       "stream": "stdout",
       "text": [
        " Calculating best minimal value for power law fit\n",
        "g 32768  nodes, average degree  10  and 0.92, 0.22, 0.59, 0.09\n"
       ]
      },
      {
       "output_type": "stream",
       "stream": "stdout",
       "text": [
        "Completed in 0.1 seconds\n"
       ]
      },
      {
       "output_type": "stream",
       "stream": "stdout",
       "text": [
        "Calculating best minimal value for power law fit\n",
        "f c"
       ]
      },
      {
       "output_type": "stream",
       "stream": "stdout",
       "text": [
        " d a Calculating best minimal value for power law fit\n",
        "g 32768  nodes, average degree  10  and 0.13, 0.47, 0.88, 0.68\n"
       ]
      },
      {
       "output_type": "stream",
       "stream": "stdout",
       "text": [
        "Completed in 0.2 seconds\n"
       ]
      },
      {
       "output_type": "stream",
       "stream": "stdout",
       "text": [
        "Calculating best minimal value for power law fit\n",
        "f c"
       ]
      },
      {
       "output_type": "stream",
       "stream": "stdout",
       "text": [
        " d a"
       ]
      },
      {
       "output_type": "stream",
       "stream": "stdout",
       "text": [
        " Calculating best minimal value for power law fit\n",
        "g 32768  nodes, average degree  10  and 0.24, 0.72, 0.94, 0.38\n"
       ]
      },
      {
       "output_type": "stream",
       "stream": "stdout",
       "text": [
        "Completed in 0.2 seconds\n"
       ]
      },
      {
       "output_type": "stream",
       "stream": "stdout",
       "text": [
        "Calculating best minimal value for power law fit\n",
        "f c"
       ]
      },
      {
       "output_type": "stream",
       "stream": "stdout",
       "text": [
        " d"
       ]
      },
      {
       "output_type": "stream",
       "stream": "stdout",
       "text": [
        " a"
       ]
      },
      {
       "output_type": "stream",
       "stream": "stdout",
       "text": [
        " Calculating best minimal value for power law fit\n",
        "g 32768  nodes, average degree  10  and 0.62, 0.19, 0.10, 0.21\n"
       ]
      },
      {
       "output_type": "stream",
       "stream": "stdout",
       "text": [
        "Completed in 0.1 seconds\n"
       ]
      },
      {
       "output_type": "stream",
       "stream": "stdout",
       "text": [
        "Calculating best minimal value for power law fit\n",
        "f c"
       ]
      },
      {
       "output_type": "stream",
       "stream": "stdout",
       "text": [
        " d a"
       ]
      },
      {
       "output_type": "stream",
       "stream": "stdout",
       "text": [
        " Calculating best minimal value for power law fit\n",
        "g 32768  nodes, average degree  10  and 0.09, 0.73, 0.14, 0.30\n"
       ]
      },
      {
       "output_type": "stream",
       "stream": "stdout",
       "text": [
        "Completed in 0.1 seconds\n"
       ]
      },
      {
       "output_type": "stream",
       "stream": "stdout",
       "text": [
        "Calculating best minimal value for power law fit\n",
        "f c"
       ]
      },
      {
       "output_type": "stream",
       "stream": "stdout",
       "text": [
        " d a"
       ]
      },
      {
       "output_type": "stream",
       "stream": "stdout",
       "text": [
        " Calculating best minimal value for power law fit\n",
        "g 32768  nodes, average degree  10  and 0.87, 0.62, 0.52, 0.45\n"
       ]
      },
      {
       "output_type": "stream",
       "stream": "stdout",
       "text": [
        "Completed in 0.1 seconds\n"
       ]
      },
      {
       "output_type": "stream",
       "stream": "stdout",
       "text": [
        "Calculating best minimal value for power law fit\n",
        "f c"
       ]
      },
      {
       "output_type": "stream",
       "stream": "stdout",
       "text": [
        " d a Calculating best minimal value for power law fit\n",
        "g 32768  nodes, average degree  10  and 0.86, 0.22, 0.82, 0.37\n"
       ]
      },
      {
       "output_type": "stream",
       "stream": "stdout",
       "text": [
        "Completed in 0.1 seconds\n"
       ]
      },
      {
       "output_type": "stream",
       "stream": "stdout",
       "text": [
        "Calculating best minimal value for power law fit\n",
        "f c"
       ]
      },
      {
       "output_type": "stream",
       "stream": "stdout",
       "text": [
        " d a Calculating best minimal value for power law fit\n",
        "g 32768  nodes, average degree  10  and 0.82, 0.15, 0.96, 0.72\n"
       ]
      },
      {
       "output_type": "stream",
       "stream": "stdout",
       "text": [
        "Completed in 0.1 seconds\n"
       ]
      },
      {
       "output_type": "stream",
       "stream": "stdout",
       "text": [
        "Calculating best minimal value for power law fit\n",
        "f c"
       ]
      },
      {
       "output_type": "stream",
       "stream": "stdout",
       "text": [
        " d a"
       ]
      },
      {
       "output_type": "stream",
       "stream": "stdout",
       "text": [
        " Calculating best minimal value for power law fit\n",
        "g 32768  nodes, average degree  10  and 0.63, 0.85, 0.55, 0.01\n"
       ]
      },
      {
       "output_type": "stream",
       "stream": "stdout",
       "text": [
        "Completed in 0.7 seconds\n"
       ]
      },
      {
       "output_type": "stream",
       "stream": "stdout",
       "text": [
        "Calculating best minimal value for power law fit\n",
        "f c"
       ]
      },
      {
       "output_type": "stream",
       "stream": "stdout",
       "text": [
        " d"
       ]
      },
      {
       "output_type": "stream",
       "stream": "stdout",
       "text": [
        " a"
       ]
      },
      {
       "output_type": "stream",
       "stream": "stdout",
       "text": [
        " Calculating best minimal value for power law fit\n",
        "g 32768  nodes, average degree  10  and 0.69, 0.50, 0.12, 0.62\n"
       ]
      },
      {
       "output_type": "stream",
       "stream": "stdout",
       "text": [
        "Completed in 0.4 seconds\n"
       ]
      },
      {
       "output_type": "stream",
       "stream": "stdout",
       "text": [
        "Calculating best minimal value for power law fit\n",
        "f c"
       ]
      },
      {
       "output_type": "stream",
       "stream": "stdout",
       "text": [
        " d"
       ]
      },
      {
       "output_type": "stream",
       "stream": "stdout",
       "text": [
        " a"
       ]
      },
      {
       "output_type": "stream",
       "stream": "stdout",
       "text": [
        " Calculating best minimal value for power law fit\n",
        "g 32768  nodes, average degree  10  and 0.54, 0.82, 0.25, 0.69\n"
       ]
      },
      {
       "output_type": "stream",
       "stream": "stdout",
       "text": [
        "Completed in 0.9 seconds\n"
       ]
      },
      {
       "output_type": "stream",
       "stream": "stdout",
       "text": [
        "Calculating best minimal value for power law fit\n",
        "f c"
       ]
      },
      {
       "output_type": "stream",
       "stream": "stdout",
       "text": [
        " d"
       ]
      },
      {
       "output_type": "stream",
       "stream": "stdout",
       "text": [
        " a"
       ]
      },
      {
       "output_type": "stream",
       "stream": "stdout",
       "text": [
        " Calculating best minimal value for power law fit\n",
        "g 32768  nodes, average degree  10  and 0.85, 0.85, 0.08, 0.41\n"
       ]
      },
      {
       "output_type": "stream",
       "stream": "stdout",
       "text": [
        "Completed in 0.1 seconds\n"
       ]
      },
      {
       "output_type": "stream",
       "stream": "stdout",
       "text": [
        "Calculating best minimal value for power law fit\n",
        "f c"
       ]
      },
      {
       "output_type": "stream",
       "stream": "stdout",
       "text": [
        " d a"
       ]
      },
      {
       "output_type": "stream",
       "stream": "stdout",
       "text": [
        " Calculating best minimal value for power law fit\n",
        "g 32768  nodes, average degree  10  and 0.13, 0.19, 0.31, 0.57\n"
       ]
      },
      {
       "output_type": "stream",
       "stream": "stdout",
       "text": [
        "Completed in 0.1 seconds\n"
       ]
      },
      {
       "output_type": "stream",
       "stream": "stdout",
       "text": [
        "Calculating best minimal value for power law fit\n",
        "f c"
       ]
      },
      {
       "output_type": "stream",
       "stream": "stdout",
       "text": [
        " d a"
       ]
      },
      {
       "output_type": "stream",
       "stream": "stdout",
       "text": [
        " Calculating best minimal value for power law fit\n",
        "g "
       ]
      }
     ],
     "prompt_number": 3
    },
    {
     "cell_type": "code",
     "collapsed": false,
     "input": [
      "from pylab import *\n"
     ],
     "language": "python",
     "metadata": {},
     "outputs": [],
     "prompt_number": 4
    },
    {
     "cell_type": "code",
     "collapsed": false,
     "input": [
      "plot(cost)"
     ],
     "language": "python",
     "metadata": {},
     "outputs": [
      {
       "metadata": {},
       "output_type": "pyout",
       "prompt_number": 5,
       "text": [
        "[<matplotlib.lines.Line2D at 0x7f67ab1999b0>]"
       ]
      },
      {
       "metadata": {},
       "output_type": "display_data",
       "png": "[encoded data removed]",
       "text": [
        "<matplotlib.figure.Figure at 0x7f67ab219f28>"
       ]
      }
     ],
     "prompt_number": 5
    },
    {
     "cell_type": "code",
     "collapsed": false,
     "input": [
      "plot(numberOfEdges)"
     ],
     "language": "python",
     "metadata": {},
     "outputs": [
      {
       "metadata": {},
       "output_type": "pyout",
       "prompt_number": 6,
       "text": [
        "[<matplotlib.lines.Line2D at 0x7f67ab0699b0>]"
       ]
      },
      {
       "metadata": {},
       "output_type": "display_data",
       "png": "[encoded data removed]",
       "text": [
        "<matplotlib.figure.Figure at 0x7f67ab16bc18>"
       ]
      }
     ],
     "prompt_number": 6
    },
    {
     "cell_type": "code",
     "collapsed": false,
     "input": [
      "plot([cost[i] / numberOfEdges[i] for i in range(0,len(cost))])"
     ],
     "language": "python",
     "metadata": {},
     "outputs": [
      {
       "metadata": {},
       "output_type": "pyout",
       "prompt_number": 7,
       "text": [
        "[<matplotlib.lines.Line2D at 0x7f67aafd09b0>]"
       ]
      },
      {
       "metadata": {},
       "output_type": "display_data",
       "png": "[encoded data removed]",
       "text": [
        "<matplotlib.figure.Figure at 0x7f67ab046198>"
       ]
      }
     ],
     "prompt_number": 7
    },
    {
     "cell_type": "code",
     "collapsed": false,
     "input": [
      "plot(powerLaw)"
     ],
     "language": "python",
     "metadata": {},
     "outputs": [
      {
       "metadata": {},
       "output_type": "pyout",
       "prompt_number": 8,
       "text": [
        "[<matplotlib.lines.Line2D at 0x7f67aafab358>]"
       ]
      },
      {
       "metadata": {},
       "output_type": "display_data",
       "png": "[encoded data removed]",
       "text": [
        "<matplotlib.figure.Figure at 0x7f67ab14ef28>"
       ]
      }
     ],
     "prompt_number": 8
    },
    {
     "cell_type": "code",
     "collapsed": false,
     "input": [
      "plot(powerLawExponents)"
     ],
     "language": "python",
     "metadata": {},
     "outputs": [
      {
       "metadata": {},
       "output_type": "pyout",
       "prompt_number": 9,
       "text": [
        "[<matplotlib.lines.Line2D at 0x7f67aaf06dd8>]"
       ]
      },
      {
       "metadata": {},
       "output_type": "display_data",
       "png": "[encoded data removed]",
       "text": [
        "<matplotlib.figure.Figure at 0x7f67ab1b7630>"
       ]
      }
     ],
     "prompt_number": 9
    },
    {
     "cell_type": "code",
     "collapsed": false,
     "input": [
      "plot(diameters)"
     ],
     "language": "python",
     "metadata": {},
     "outputs": [
      {
       "metadata": {},
       "output_type": "pyout",
       "prompt_number": 10,
       "text": [
        "[<matplotlib.lines.Line2D at 0x7f67aaee6ac8>]"
       ]
      },
      {
       "metadata": {},
       "output_type": "display_data",
       "png": "[encoded data removed]",
       "text": [
        "<matplotlib.figure.Figure at 0x7f67ab069ba8>"
       ]
      }
     ],
     "prompt_number": 10
    },
    {
     "cell_type": "code",
     "collapsed": false,
     "input": [
      "plot(clustCoeff)"
     ],
     "language": "python",
     "metadata": {},
     "outputs": [
      {
       "metadata": {},
       "output_type": "pyout",
       "prompt_number": 11,
       "text": [
        "[<matplotlib.lines.Line2D at 0x7f67aae3f630>]"
       ]
      },
      {
       "metadata": {},
       "output_type": "display_data",
       "png": "[encoded data removed]",
       "text": [
        "<matplotlib.figure.Figure at 0x7f67ab046080>"
       ]
      }
     ],
     "prompt_number": 11
    },
    {
     "cell_type": "code",
     "collapsed": false,
     "input": [
      "plot(degreeAss)"
     ],
     "language": "python",
     "metadata": {},
     "outputs": [
      {
       "metadata": {},
       "output_type": "pyout",
       "prompt_number": 12,
       "text": [
        "[<matplotlib.lines.Line2D at 0x7f67aae19240>]"
       ]
      },
      {
       "metadata": {},
       "output_type": "display_data",
       "png": "[encoded data removed]",
       "text": [
        "<matplotlib.figure.Figure at 0x7f67ab0480b8>"
       ]
      }
     ],
     "prompt_number": 12
    },
    {
     "cell_type": "code",
     "collapsed": false,
     "input": [],
     "language": "python",
     "metadata": {},
     "outputs": [],
     "prompt_number": 22
    },
    {
     "cell_type": "code",
     "collapsed": false,
     "input": [],
     "language": "python",
     "metadata": {},
     "outputs": []
    }
   ],
   "metadata": {}
  }
 ]
}
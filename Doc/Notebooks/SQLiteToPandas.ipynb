{
 "cells": [
  {
   "cell_type": "code",
   "execution_count": 2,
   "metadata": {
    "collapsed": false
   },
   "outputs": [],
   "source": [
    "import sqlite3\n",
    "import pandas as pd\n",
    "import math\n",
    "import numpy as np\n",
    "from scipy.interpolate import interp1d"
   ]
  },
  {
   "cell_type": "code",
   "execution_count": 3,
   "metadata": {
    "collapsed": false
   },
   "outputs": [],
   "source": [
    "con = sqlite3.connect(\"/home/gerd/workspace/NetworKit-glindner/scripts/SparsificationEvaluation/output/backbones_paper_rc1.db\")\n",
    "df = pd.read_sql(\"SELECT * from data\", con)\n",
    "\n",
    "myProperties = [\n",
    "\"nmi\",\n",
    "\"randMeasure\",\n",
    "\"minCommunitySize\",\n",
    "\"maxCommunitySize\",\n",
    "\"avgCommunitySize\",\n",
    "\"numCommunities\",\n",
    "\"modularity\",\n",
    "\n",
    "\"ccGlobal\",\n",
    "\"ccAvgLocal\",\n",
    "\"cc_spearman_p\",\n",
    "\"cc_spearman_rho\",\n",
    "\"cc_ks_d\",\n",
    "\"cc_ks_p\",\n",
    "\"cc_perDegree_ks_d\",\n",
    "\"cc_perDegree_ks_p\",\n",
    "\"cc_normalizedAbsDiff\",\n",
    "\"cc_relRankError\",\n",
    "\n",
    "\"diameter\",\n",
    "\n",
    "\"dd_spearman_rho\",\n",
    "\"dd_spearman_p\",\n",
    "\"dd_powerLawFit\",\n",
    "\"dd_relRankError\",\n",
    "\"dd_ks_d\",\n",
    "\"dd_ks_p\",\n",
    "\"dd_distCoefficient\",\n",
    "\"dd_normalizedAbsDiff\",\n",
    "\n",
    "\"pagerank_spearman_rho\",\n",
    "\"pagerank_spearman_p\",\n",
    "\"pagerank_relRankError\",\n",
    "\n",
    "\"wcc_nmi\",\n",
    "\"wcc_count\",\n",
    "\"wcc_sizes_ks\",\n",
    "\"wcc_sizes_p\",\n",
    "\n",
    "\"edgeRatio\",\n",
    "\"nodeRatio\",\n",
    "\"numEdges\",\n",
    "\"numNodes\"\n",
    "\"parameter\",\n",
    "\"rt_backbone\",\n",
    "\"rt_attribute\",\n",
    "\"evalExpr\"\n",
    "]"
   ]
  },
  {
   "cell_type": "code",
   "execution_count": 4,
   "metadata": {
    "collapsed": false
   },
   "outputs": [],
   "source": [
    "#Prepare empty dataframe\n",
    "myColumns = [\"property, algorithm, graph, targetEdgeRatio\"].append(myProperties)\n",
    "df = pd.DataFrame(index=[], columns=myColumns)\n",
    "\n",
    "#Expand dataframe\n",
    "c = con.cursor()\n",
    "indexMap = {}\n",
    "currentIndex = 1\n",
    "c.execute(\"SELECT algorithm, graph, targetEdgeRatio FROM data GROUP BY algorithm, graph, targetEdgeRatio\")\n",
    "data = c.fetchall()\n",
    "for row in data:\n",
    "    cAlgorithm = row[0]\n",
    "    cGraph = row[1]\n",
    "    cTER = row[2]\n",
    "    df.loc[currentIndex, \"algorithm\"] = cAlgorithm\n",
    "    df.loc[currentIndex, \"graph\"] = cGraph\n",
    "    df.loc[currentIndex, \"targetEdgeRatio\"] = cTER\n",
    "    indexMap[(cAlgorithm, cGraph, cTER)] = currentIndex\n",
    "    currentIndex = currentIndex + 1"
   ]
  },
  {
   "cell_type": "code",
   "execution_count": 42,
   "metadata": {
    "collapsed": false
   },
   "outputs": [
    {
     "name": "stdout",
     "output_type": "stream",
     "text": [
      "Processing row  0 ...\n",
      "Processing row  10000 ...\n",
      "Processing row  20000 ...\n",
      "Processing row  30000 ...\n",
      "Processing row  40000 ...\n",
      "Processing row  50000 ...\n",
      "Processing row  60000 ...\n",
      "Processing row  70000 ...\n",
      "Processing row  80000 ...\n",
      "Processing row  90000 ...\n",
      "Processing row  100000 ...\n",
      "Processing row  110000 ...\n",
      "Processing row  120000 ...\n",
      "Processing row  130000 ...\n",
      "Processing row  140000 ...\n",
      "Processing row  150000 ...\n",
      "Processing row  160000 ...\n",
      "Processing row  170000 ...\n",
      "Processing row  180000 ...\n",
      "Processing row  190000 ...\n",
      "Processing row  200000 ...\n",
      "Processing row  210000 ...\n",
      "Processing row  220000 ...\n",
      "Processing row  230000 ...\n",
      "Processing row  240000 ...\n",
      "Processing row  250000 ...\n",
      "Processing row  260000 ...\n",
      "Processing row  270000 ...\n",
      "Processing row  280000 ...\n",
      "Processing row  290000 ...\n",
      "Processing row  300000 ...\n",
      "Processing row  310000 ...\n",
      "Processing row  320000 ...\n",
      "Processing row  330000 ...\n",
      "Processing row  340000 ...\n",
      "Processing row  350000 ...\n",
      "Processing row  360000 ...\n",
      "Processing row  370000 ...\n",
      "Processing row  380000 ...\n",
      "Processing row  390000 ...\n",
      "Processing row  400000 ...\n",
      "Processing row  410000 ...\n",
      "Processing row  420000 ...\n",
      "Processing row  430000 ...\n",
      "Processing row  440000 ...\n"
     ]
    }
   ],
   "source": [
    "#Fill dataframe\n",
    "c.execute(\"SELECT algorithm, graph, targetEdgeRatio, property, value FROM data\")\n",
    "data = c.fetchall()\n",
    "currentRow = 0\n",
    "for row in data:\n",
    "    if currentRow % 10000 == 0:\n",
    "        print(\"Processing row \", currentRow, \"...\")\n",
    "    cAlgorithm = row[0]\n",
    "    cGraph = row[1]\n",
    "    cTER = row[2]\n",
    "    cProperty = row[3]\n",
    "    cValue = row[4]\n",
    "    index = indexMap[(cAlgorithm, cGraph, cTER)]\n",
    "    df.loc[index, cProperty] = cValue\n",
    "    currentRow = currentRow + 1"
   ]
  },
  {
   "cell_type": "code",
   "execution_count": 43,
   "metadata": {
    "collapsed": false
   },
   "outputs": [],
   "source": [
    "df.to_csv(\"/home/gerd/workspace/NetworKit-glindner/scripts/SparsificationEvaluation/output/backbones_paper_rc1_pandas.csv\")"
   ]
  },
  {
   "cell_type": "code",
   "execution_count": null,
   "metadata": {
    "collapsed": false
   },
   "outputs": [],
   "source": []
  },
  {
   "cell_type": "markdown",
   "metadata": {},
   "source": [
    "###### Averaging..."
   ]
  },
  {
   "cell_type": "code",
   "execution_count": 3,
   "metadata": {
    "collapsed": false
   },
   "outputs": [],
   "source": [
    "df = pd.read_csv(\"/home/gerd/workspace/NetworKit-glindner/scripts/SparsificationEvaluation/output/backbones_paper_rc1_pandas.csv\")"
   ]
  },
  {
   "cell_type": "code",
   "execution_count": 8,
   "metadata": {
    "collapsed": false
   },
   "outputs": [],
   "source": [
    "ters = [0.01, 0.02, 0.05, 0.1, 0.15, 0.2, 0.3, 0.4, 0.5, 0.6, 0.7, 0.8, 0.9, 1.0]\n",
    "algorithms = [\"Original\", \"Simmelian Parametric\", \"Local Similarity\", \"Simmelian Multiscale\", \"Random\", \"Local Degree\", \"ForestFire\", \"Degree Multiscale max\", \"Multiscale\"]\n",
    "graphGroupAll = [\"Karate\",\"USAviation\",\"KitEmail\",\"LFR-1000\",\"PGP\",\"BTER\",\"ErdosRenyi\",\"Jazz\",\"HepTh\",\"HepPh\",\"Epinions\",\"AS\",\"eu-2005\",\"in-2004\",\"test.fiber.small\",\"fb-American75\",\"fb-Caltech36\",\"fb-Haverford76\",\"fb-Santa74\",\"fb-UC33\",\"fb-UMass92\",\"fb-WashU32\",\"fb-_Amherst41\",\"fb-Carnegie49\",\"fb-Howard90\",\"fb-Northeastern19\",\"fb-Simmons81\",\"fb-UC61\",\"fb-UNC28\",\"fb-Wellesley22\",\"fb-Auburn71\",\"fb-Colgate88\",\"fb-Indiana69\",\"fb-Northwestern25\",\"fb-Smith60\",\"fb-UC64\",\"fb-UPenn7\",\"fb-Wesleyan43\",\"fb-Baylor93\",\"fb-Columbia2\",\"fb-JMU79\",\"fb-NYU9\",\"fb-Stanford3\",\"fb-UCF52\",\"fb-USC35\",\"fb-William77\",\"fb-BC17\",\"fb-Cornell5\",\"fb-Lehigh96\",\"fb-Oberlin44\",\"fb-Swarthmore42\",\"fb-UChicago30\",\"fb-USF51\",\"fb-Williams40\",\"fb-Berkeley13\",\"fb-Dartmouth6\",\"fb-Maine59\",\"fb-Oklahoma97\",\"fb-Syracuse56\",\"fb-UCLA26\",\"fb-USFCA72\",\"fb-Wisconsin87\",\"fb-Bingham82\",\"fb-Duke14\",\"fb-Maryland58\",\"fb-Temple83\",\"fb-UConn91\",\"fb-Yale4\",\"fb-Bowdoin47\",\"fb-Emory27\",\"fb-Mich67\",\"fb-Pepperdine86\",\"fb-Tennessee95\",\"fb-UCSB37\",\"fb-Vanderbilt48\",\"fb-Brandeis99\",\"fb-FSU53\",\"fb-Michigan23\",\"fb-Princeton12\",\"fb-Texas80\",\"fb-UCSC68\",\"fb-Vassar85\",\"fb-Brown11\",\"fb-Georgetown15\",\"fb-Middlebury45\",\"fb-Reed98\",\"fb-Texas84\",\"fb-UCSD34\",\"fb-Vermont70\",\"fb-BU10\",\"fb-GWU54\",\"fb-Mississippi66\",\"fb-Rice31\",\"fb-Trinity100\",\"fb-UF21\",\"fb-Villanova62\",\"fb-Bucknell39\",\"fb-Hamilton46\",\"fb-MIT8\",\"fb-Rochester38\",\"fb-Tufts18\",\"fb-UGA50\",\"fb-Virginia63\",\"fb-Cal65\",\"fb-Harvard1\",\"fb-MSU24\",\"fb-Rutgers89\",\"fb-Tulane29\",\"fb-UIllinois20\",\"fb-Wake73\"]\n",
    "graphGroupFacebook = [\"fb-American75\",\"fb-Auburn71\",\"fb-BC17\",\"fb-BU10\",\"fb-Baylor93\",\"fb-Berkeley13\",\"fb-Bingham82\",\"fb-Bowdoin47\",\"fb-Brandeis99\",\"fb-Brown11\",\"fb-Bucknell39\",\"fb-Cal65\",\"fb-Caltech36\",\"fb-Carnegie49\",\"fb-Colgate88\",\"fb-Columbia2\",\"fb-Cornell5\",\"fb-Dartmouth6\",\"fb-Duke14\",\"fb-Emory27\",\"fb-FSU53\",\"fb-GWU54\",\"fb-Georgetown15\",\"fb-Hamilton46\",\"fb-Harvard1\",\"fb-Haverford76\",\"fb-Howard90\",\"fb-Indiana69\",\"fb-JMU79\",\"fb-Lehigh96\",\"fb-MIT8\",\"fb-MSU24\",\"fb-Maine59\",\"fb-Maryland58\",\"fb-Mich67\",\"fb-Michigan23\",\"fb-Middlebury45\",\"fb-Mississippi66\",\"fb-NYU9\",\"fb-Northeastern19\",\"fb-Northwestern25\",\"fb-Oberlin44\",\"fb-Oklahoma97\",\"fb-Pepperdine86\",\"fb-Princeton12\",\"fb-Reed98\",\"fb-Rice31\",\"fb-Rochester38\",\"fb-Rutgers89\",\"fb-Santa74\",\"fb-Simmons81\",\"fb-Smith60\",\"fb-Stanford3\",\"fb-Swarthmore42\",\"fb-Syracuse56\",\"fb-Temple83\",\"fb-Tennessee95\",\"fb-Texas80\",\"fb-Texas84\",\"fb-Trinity100\",\"fb-Tufts18\",\"fb-Tulane29\",\"fb-UC33\",\"fb-UC61\",\"fb-UC64\",\"fb-UCF52\",\"fb-UCLA26\",\"fb-UCSB37\",\"fb-UCSC68\",\"fb-UCSD34\",\"fb-UChicago30\",\"fb-UConn91\",\"fb-UF21\",\"fb-UGA50\",\"fb-UIllinois20\",\"fb-UMass92\",\"fb-UNC28\",\"fb-UPenn7\",\"fb-USC35\",\"fb-USF51\",\"fb-USFCA72\",\"fb-Vanderbilt48\",\"fb-Vassar85\",\"fb-Vermont70\",\"fb-Villanova62\",\"fb-Virginia63\",\"fb-Wake73\",\"fb-WashU32\",\"fb-Wellesley22\",\"fb-Wesleyan43\",\"fb-William77\", \"fb-Williams40\", \"fb-Wisconsin87\", \"fb-Yale4\", \"fb-_Amherst41\"]"
   ]
  },
  {
   "cell_type": "code",
   "execution_count": 9,
   "metadata": {
    "collapsed": false
   },
   "outputs": [],
   "source": [
    "averageableProperties = [\n",
    "#community\n",
    "\"randMeasure\", \"nmi\", \"ccAvgLocal\", \"modularity\", \"numCommunities\", \"numCommunitiesSim\",\n",
    "#degree distribution\n",
    "\"dd_spearman_rho\", \"dd_ks_d\", \"dd_relRankError\",\n",
    "#clustering coefficient\n",
    "\"ccGlobal\", \"ccAvgLocal\", \"cc_ks_d\", \"cc_perDegree_ks_d\", \"cc_spearman_rho\", \"cc_normalizedAbsDiff\",\n",
    "#weakly connected components\n",
    "\"wcc_nmi\", \"wcc_sizes_ks\",\n",
    "#pagerank\n",
    "\"pagerank_spearman_rho\",\n",
    "#diameter\n",
    "\"diameter\"]"
   ]
  },
  {
   "cell_type": "code",
   "execution_count": 10,
   "metadata": {
    "collapsed": false
   },
   "outputs": [],
   "source": [
    "def getInterpolation(prop, algorithm, graph):\n",
    "    df2 = df[(df.graph==graph) & (df.algorithm==algorithm)].sort([\"edgeRatio\"])\n",
    "    edgeRatios = df2['edgeRatio']\n",
    "    values = df2[prop]\n",
    "    \n",
    "    if algorithm == 'Original':\n",
    "        return lambda x: values\n",
    "    \n",
    "    if len(edgeRatios) == 0 or len(values) == 0:\n",
    "        return lambda x: exec('raise(ValueError(\"Missing data\"))')\n",
    "    \n",
    "    if len(edgeRatios) < 2 or len(values) < 2:\n",
    "        raise ValueError(\"arrays must have at least 2 entries.\", prop,algorithm,graph)\n",
    "    \n",
    "    return interp1d(edgeRatios, values, kind='linear')"
   ]
  },
  {
   "cell_type": "code",
   "execution_count": 11,
   "metadata": {
    "collapsed": false
   },
   "outputs": [],
   "source": [
    "def aggregate(graphsToAggregate):\n",
    "    rows = {}\n",
    "    for algorithm in algorithms:        \n",
    "        for prop in averageableProperties:\n",
    "            functions_ratioToPropertyValue = []\n",
    "            for graph in graphsToAggregate:\n",
    "                functions_ratioToPropertyValue.append(getInterpolation(prop, algorithm, graph))\n",
    "            \n",
    "            for ratio in ters:\n",
    "                myValues = []\n",
    "                for interpFunction in functions_ratioToPropertyValue:\n",
    "                    try:\n",
    "                        interpolatedValue = float(interpFunction(ratio))\n",
    "                        myValues.append(interpolatedValue)\n",
    "                    except ValueError:\n",
    "                        pass \n",
    "                \n",
    "                if len(myValues) > 0 and (algorithm != 'Original' or ratio==1.0):\n",
    "                    avgValue = np.average(myValues)\n",
    "                    if not (algorithm, ratio) in rows:\n",
    "                        rows[(algorithm, ratio)] = {}\n",
    "                    rows[(algorithm, ratio)][prop] = avgValue\n",
    "    return rows"
   ]
  },
  {
   "cell_type": "code",
   "execution_count": 12,
   "metadata": {
    "collapsed": false
   },
   "outputs": [],
   "source": [
    "def getRowDictionaries(aggregationResult, groupName):\n",
    "    dictionaries = []\n",
    "    for (algorithm, ratio) in aggregationResult:\n",
    "        myDict = aggregationResult[(algorithm, ratio)]\n",
    "        myDict['algorithm'] = algorithm\n",
    "        myDict['targetEdgeRatio'] = ratio\n",
    "        myDict['edgeRatio'] = ratio\n",
    "        myDict['graph'] = groupName\n",
    "        dictionaries.append(myDict)\n",
    "    return dictionaries"
   ]
  },
  {
   "cell_type": "code",
   "execution_count": 14,
   "metadata": {
    "collapsed": false
   },
   "outputs": [],
   "source": [
    "aggregationResult = aggregate(graphGroupFacebook)\n",
    "rowDictionaries = getRowDictionaries(aggregationResult, 'fb')\n",
    "df = pd.concat([df, pd.DataFrame(rowDictionaries)])"
   ]
  },
  {
   "cell_type": "code",
   "execution_count": 15,
   "metadata": {
    "collapsed": false
   },
   "outputs": [],
   "source": [
    "aggregationResult = aggregate(graphGroupAll)\n",
    "rowDictionaries = getRowDictionaries(aggregationResult, 'all')\n",
    "df = pd.concat([df, pd.DataFrame(rowDictionaries)])"
   ]
  },
  {
   "cell_type": "code",
   "execution_count": 16,
   "metadata": {
    "collapsed": false
   },
   "outputs": [],
   "source": [
    "df.to_csv(\"/home/gerd/workspace/NetworKit-glindner/scripts/SparsificationEvaluation/output/backbones_paper_rc3_pandas.csv\")"
   ]
  },
  {
   "cell_type": "markdown",
   "metadata": {
    "collapsed": false
   },
   "source": [
    "## Calulate a normalized distance measure for the number of communities"
   ]
  },
  {
   "cell_type": "code",
   "execution_count": 7,
   "metadata": {
    "collapsed": false
   },
   "outputs": [
    {
     "data": {
      "text/plain": [
       "4970    0.000007\n",
       "4971    0.000007\n",
       "4972    0.000529\n",
       "4973    0.071621\n",
       "4974    0.123575\n",
       "4975    0.177769\n",
       "4976    0.194687\n",
       "4977    0.255729\n",
       "4978    0.280067\n",
       "4979    0.280067\n",
       "4980    0.306721\n",
       "4981    0.306721\n",
       "4982    0.306721\n",
       "4983    0.367879\n",
       "Name: numCommunitiesSim, dtype: float64"
      ]
     },
     "execution_count": 7,
     "metadata": {},
     "output_type": "execute_result"
    }
   ],
   "source": [
    "df[(df.graph=='fb-Caltech36') & (df.algorithm=='Local Similarity')][\"numCommunitiesSim\"]"
   ]
  },
  {
   "cell_type": "code",
   "execution_count": 13,
   "metadata": {
    "collapsed": false
   },
   "outputs": [],
   "source": [
    "for graph in graphGroupAll:\n",
    "    originalCommunityCount = float(df[(df.graph=='fb-Caltech36') & (df.algorithm=='Original')][\"numCommunities\"])\n",
    "    \n",
    "    df['numCommunitiesSim'] = df['numCommunities'].map(lambda communityCount: originalCommunityCount/communityCount)"
   ]
  },
  {
   "cell_type": "code",
   "execution_count": 60,
   "metadata": {
    "collapsed": true
   },
   "outputs": [],
   "source": [
    "df.to_csv(\"/home/gerd/workspace/NetworKit-glindner/scripts/SparsificationEvaluation/output/backbones_paper_rc2_pandas.csv\")"
   ]
  },
  {
   "cell_type": "code",
   "execution_count": null,
   "metadata": {
    "collapsed": true
   },
   "outputs": [],
   "source": []
  }
 ],
 "metadata": {
  "kernelspec": {
   "display_name": "Python 3",
   "language": "python",
   "name": "python3"
  },
  "language_info": {
   "codemirror_mode": {
    "name": "ipython",
    "version": 3
   },
   "file_extension": ".py",
   "mimetype": "text/x-python",
   "name": "python",
   "nbconvert_exporter": "python",
   "pygments_lexer": "ipython3",
   "version": "3.4.3"
  }
 },
 "nbformat": 4,
 "nbformat_minor": 0
}

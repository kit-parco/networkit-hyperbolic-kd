{
 "cells": [
  {
   "cell_type": "code",
   "execution_count": 1,
   "metadata": {
    "collapsed": false
   },
   "outputs": [],
   "source": [
    "from networkit import *"
   ]
  },
  {
   "cell_type": "markdown",
   "metadata": {},
   "source": [
    "All considered sparsification algorithm implementations rely on edge scores, so do not forget to call indexEdges() on the graph you want to work on."
   ]
  },
  {
   "cell_type": "code",
   "execution_count": 4,
   "metadata": {
    "collapsed": false
   },
   "outputs": [
    {
     "data": {
      "text/plain": [
       "(198, 2742)"
      ]
     },
     "execution_count": 4,
     "metadata": {},
     "output_type": "execute_result"
    }
   ],
   "source": [
    "G = readGraph(\"../../input/jazz.graph\", Format.METIS)\n",
    "G.indexEdges()\n",
    "G.size()"
   ]
  },
  {
   "cell_type": "markdown",
   "metadata": {},
   "source": [
    "Sparsification algorithms that leave the set of nodes intact can be split up into edge score calculation and a global filtering step. All backbone algorithm implementations in the backbones-module are based on that insight. The module provides both low-level scores and filters and high-level convenience classes which can be identified by the suffix 'Backbone'."
   ]
  },
  {
   "cell_type": "markdown",
   "metadata": {},
   "source": [
    "### Example 1: Simple calculation of a sparsified graph"
   ]
  },
  {
   "cell_type": "code",
   "execution_count": 5,
   "metadata": {
    "collapsed": false
   },
   "outputs": [],
   "source": [
    "sparsificationAlgorithm = sparsification.LocalDegreeSparsifier()"
   ]
  },
  {
   "cell_type": "markdown",
   "metadata": {},
   "source": [
    "In the following code piece, we need to specify a parameter value, which indirectly influences the size of the resulting graph."
   ]
  },
  {
   "cell_type": "code",
   "execution_count": 6,
   "metadata": {
    "collapsed": false
   },
   "outputs": [
    {
     "data": {
      "text/plain": [
       "(198, 850)"
      ]
     },
     "execution_count": 6,
     "metadata": {},
     "output_type": "execute_result"
    }
   ],
   "source": [
    "S = sparsificationAlgorithm.getSparsifiedGraph(G, 0.5)\n",
    "S.size()"
   ]
  },
  {
   "cell_type": "markdown",
   "metadata": {},
   "source": [
    "In order to obtain a reduced graph of a specific size, we can use the following convenience function which applies an appropriate parameterization algorithm to obtain a parameter value first:"
   ]
  },
  {
   "cell_type": "code",
   "execution_count": 7,
   "metadata": {
    "collapsed": false
   },
   "outputs": [
    {
     "data": {
      "text/plain": [
       "(198, 1372)"
      ]
     },
     "execution_count": 7,
     "metadata": {},
     "output_type": "execute_result"
    }
   ],
   "source": [
    "S = sparsificationAlgorithm.getSparsifiedGraphOfSize(G, 0.5)\n",
    "S.size()"
   ]
  },
  {
   "cell_type": "markdown",
   "metadata": {},
   "source": [
    "Note that pre-calculated edge scores can be passed to these functions as well in order to avoid unnecessary recalculations."
   ]
  },
  {
   "cell_type": "markdown",
   "metadata": {},
   "source": [
    "### Example 2: Exporting a sparsification score to Gephi"
   ]
  },
  {
   "cell_type": "markdown",
   "metadata": {},
   "source": [
    "In order to filter edges within Gephi, we need to calculate the edge score:"
   ]
  },
  {
   "cell_type": "code",
   "execution_count": 8,
   "metadata": {
    "collapsed": false
   },
   "outputs": [],
   "source": [
    "sparsificationAlgorithm = sparsification.LocalDegreeSparsifier()\n",
    "edgeScores = sparsificationAlgorithm.scores(G)"
   ]
  },
  {
   "cell_type": "markdown",
   "metadata": {},
   "source": [
    "We can now export it to Gephi (start the Gephi Streaming Master server first):"
   ]
  },
  {
   "cell_type": "code",
   "execution_count": 9,
   "metadata": {
    "collapsed": false
   },
   "outputs": [],
   "source": [
    "gephiClient = gephi.streaming.GephiStreamingClient()\n",
    "gephiClient.exportGraph(G)\n",
    "gephiClient.exportEdgeValues(G, edgeScores, 'myAttribute')"
   ]
  },
  {
   "cell_type": "markdown",
   "metadata": {},
   "source": [
    "### Example 3: Listing of all implemented sparsification definitions"
   ]
  },
  {
   "cell_type": "code",
   "execution_count": 10,
   "metadata": {
    "collapsed": false
   },
   "outputs": [],
   "source": [
    "sAlgorithms = [\n",
    "    (sparsification.ForestFireSparsifier(0.15, 5), 'Forest Fire'),\n",
    "    (sparsification.LocalDegreeSparsifier(), 'Local Degree'),\n",
    "    (sparsification.LocalSimilaritySparsifier(), 'Local Similarity'),\n",
    "    (sparsification.MultiscaleSparsifier(), 'Multiscale'),\n",
    "    (sparsification.RandomEdgeSparsifier(), 'RandomEdge'),\n",
    "    (sparsification.RandomNodeEdgeSparsifier(), 'RandomNodeEdge'),\n",
    "    (sparsification.SimmelianSparsifierNonParametric(), 'Simmelian NonParametric'),\n",
    "    (sparsification.SimmelianSparsifierParametric(10), 'Simmelian Parametric'),\n",
    "    (sparsification.QuadrilateralSimmelianSparsifier(), 'Simmelian Quadrangle'),\n",
    "    (sparsification.SCANSparsifier(), 'SCAN'),\n",
    "]"
   ]
  },
  {
   "cell_type": "markdown",
   "metadata": {},
   "source": [
    "Let's calculate an edge score for each of these definitions and export them all to Gephi:"
   ]
  },
  {
   "cell_type": "code",
   "execution_count": 11,
   "metadata": {
    "collapsed": false
   },
   "outputs": [],
   "source": [
    "gephiClient = gephi.streaming.GephiStreamingClient()\n",
    "gephiClient.clearGraph()\n",
    "gephiClient.exportGraph(G)\n",
    "for (algorithm, name) in sAlgorithms:\n",
    "    edgeScores = algorithm.scores(G)\n",
    "    linearEdgeScores = sparsification.getRankAttribute(edgeScores)\n",
    "    gephiClient.exportEdgeValues(G, linearEdgeScores, name)"
   ]
  },
  {
   "cell_type": "markdown",
   "metadata": {},
   "source": [
    "For visualization purposes, let's also calculate and export the community structure:"
   ]
  },
  {
   "cell_type": "code",
   "execution_count": 12,
   "metadata": {
    "collapsed": false
   },
   "outputs": [
    {
     "name": "stdout",
     "output_type": "stream",
     "text": [
      "PLM(none,pc) detected communities in 0.021265268325805664 [s]\n",
      "solution properties:\n",
      "-------------------  --------\n",
      "# communities         4\n",
      "min community size   21\n",
      "max community size   60\n",
      "avg. community size  49.5\n",
      "modularity            0.44308\n",
      "-------------------  --------\n"
     ]
    }
   ],
   "source": [
    "c = community.detectCommunities(G, community.PLM(G, refine=False, par='none'))\n",
    "gephiClient.exportNodeValues(G, c, 'community')"
   ]
  },
  {
   "cell_type": "markdown",
   "metadata": {},
   "source": [
    "### Example 4: Using scores, filters, and parameterization"
   ]
  },
  {
   "cell_type": "markdown",
   "metadata": {},
   "source": [
    "In the following example, we illustrate possible usage of a sparsification score, a filter and a parameterization algorithm. Note that any of these might be exchanged."
   ]
  },
  {
   "cell_type": "code",
   "execution_count": 13,
   "metadata": {
    "collapsed": false
   },
   "outputs": [
    {
     "data": {
      "text/plain": [
       "(198, 1911)"
      ]
     },
     "execution_count": 13,
     "metadata": {},
     "output_type": "execute_result"
    }
   ],
   "source": [
    "#Score calculation\n",
    "sparsificationAlgorithm = sparsification.LocalDegreeSparsifier()\n",
    "edgeScores = sparsificationAlgorithm.scores(G)\n",
    "\n",
    "#Parameterization using binary search with up to 20 steps. The parameter value is in [0,1] and the size of the graph increases with increasing parameter value.\n",
    "parameterization = sparsification.BinarySearchParameterization(True, 0.0, 1.0, 20)\n",
    "parameter = parameterization.parameterize(sparsificationAlgorithm, G, edgeScores, 0.3) # We'd like to keep ~30% of edges\n",
    "\n",
    "#Global filtering\n",
    "globalFilter = sparsification.GlobalThresholdFilter(G, edgeScores, parameter, False) #Keep all edges with an edge attribute value below the given parameter\n",
    "B = globalFilter.calculate()\n",
    "B.size()"
   ]
  },
  {
   "cell_type": "markdown",
   "metadata": {},
   "source": [
    "### Example 5: Using linearized scores with Gephi"
   ]
  },
  {
   "cell_type": "markdown",
   "metadata": {},
   "source": [
    "An example where it might be desireable to work with 'linear' edge score is Filtering in Gephi. By 'linear' we mean that a value close to the mean value should yield a graph with about 50% of edges. The sparsification module offers a convenience function that offers this functionality and that can be applied to both node and edge scores."
   ]
  },
  {
   "cell_type": "code",
   "execution_count": 14,
   "metadata": {
    "collapsed": false
   },
   "outputs": [],
   "source": [
    "sparsificationAlgorithm = sparsification.LocalSimilaritySparsifier()\n",
    "edgeScores = sparsificationAlgorithm.scores(G)\n",
    "linearScores = sparsification.getRankAttribute(edgeScores)\n",
    "gephiClient.exportEdgeValues(G, edgeScores, 'rank')"
   ]
  }
 ],
 "metadata": {
  "kernelspec": {
   "display_name": "Python 3",
   "language": "python",
   "name": "python3"
  },
  "language_info": {
   "codemirror_mode": {
    "name": "ipython",
    "version": 3
   },
   "file_extension": ".py",
   "mimetype": "text/x-python",
   "name": "python",
   "nbconvert_exporter": "python",
   "pygments_lexer": "ipython3",
   "version": "3.4.3"
  }
 },
 "nbformat": 4,
 "nbformat_minor": 0
}

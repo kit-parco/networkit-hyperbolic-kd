{
 "cells": [
  {
   "cell_type": "code",
   "execution_count": 1,
   "metadata": {
    "collapsed": false
   },
   "outputs": [],
   "source": [
    "from networkit import *"
   ]
  },
  {
   "cell_type": "markdown",
   "metadata": {},
   "source": [
    "All considered sparsification algorithm implementations rely on edge attributes, so do not forget to call indexEdges() on the graph you want to work on."
   ]
  },
  {
   "cell_type": "code",
   "execution_count": 2,
   "metadata": {
    "collapsed": false
   },
   "outputs": [
    {
     "data": {
      "text/plain": [
       "(769, 16656)"
      ]
     },
     "execution_count": 2,
     "metadata": {},
     "output_type": "execute_result"
    }
   ],
   "source": [
    "G = readGraph(\"/home/gerd/workspace/Papers/Sparsification/asonam_talk/notebooks/Caltech36.graphml\", Format.GraphML)\n",
    "G.indexEdges()\n",
    "G.size()"
   ]
  },
  {
   "cell_type": "markdown",
   "metadata": {},
   "source": [
    "Sparsification algorithms that leave the set of nodes intact can be split up into edge attribute calculation and a global filtering step. All backbone algorithm implementations in the backbones-module are based on that insight. The module provides both low-level  attributizers and filters and high-level convenience classes which can be identified by the suffix 'Backbone'."
   ]
  },
  {
   "cell_type": "markdown",
   "metadata": {},
   "source": [
    "### Example 1: Simple calculation of a sparsified graph"
   ]
  },
  {
   "cell_type": "code",
   "execution_count": 3,
   "metadata": {
    "collapsed": false
   },
   "outputs": [],
   "source": [
    "sparsificationAlgorithm = sparsification.LocalDegreeSparsifier()"
   ]
  },
  {
   "cell_type": "markdown",
   "metadata": {},
   "source": [
    "In the following code piece, we need to specify a parameter value, which indirectly influences the size of the resulting graph."
   ]
  },
  {
   "cell_type": "code",
   "execution_count": 5,
   "metadata": {
    "collapsed": false
   },
   "outputs": [
    {
     "data": {
      "text/plain": [
       "(769, 4048)"
      ]
     },
     "execution_count": 5,
     "metadata": {},
     "output_type": "execute_result"
    }
   ],
   "source": [
    "S = sparsificationAlgorithm.getSparsifiedGraph(G, 0.5)\n",
    "S.size()"
   ]
  },
  {
   "cell_type": "markdown",
   "metadata": {},
   "source": [
    "In order to obtain a reduced graph of a specific size, we can use the following convenience function which applies an appropriate parameterization algorithm to obtain a parameter value first:"
   ]
  },
  {
   "cell_type": "code",
   "execution_count": 7,
   "metadata": {
    "collapsed": false
   },
   "outputs": [
    {
     "data": {
      "text/plain": [
       "(769, 8330)"
      ]
     },
     "execution_count": 7,
     "metadata": {},
     "output_type": "execute_result"
    }
   ],
   "source": [
    "S = sparsificationAlgorithm.getSparsifiedGraphOfSize(G, 0.5)\n",
    "S.size()"
   ]
  },
  {
   "cell_type": "markdown",
   "metadata": {},
   "source": [
    "Note that pre-calculated edge attributes can be passed to these functions as well in order to avoid unnecessary recalculations."
   ]
  },
  {
   "cell_type": "markdown",
   "metadata": {},
   "source": [
    "### Example 2: Exporting a sparsification attribute to Gephi"
   ]
  },
  {
   "cell_type": "markdown",
   "metadata": {},
   "source": [
    "In order to filter edges within Gephi, we need to calculate the edge attribute:"
   ]
  },
  {
   "cell_type": "code",
   "execution_count": 8,
   "metadata": {
    "collapsed": false
   },
   "outputs": [],
   "source": [
    "sparsificationAlgorithm = sparsification.LocalDegreeBackbone()\n",
    "edgeAttribute = sparsificationAlgorithm.getAttribute(G)"
   ]
  },
  {
   "cell_type": "markdown",
   "metadata": {},
   "source": [
    "We can now export it to Gephi (start the Gephi Streaming Master server first):"
   ]
  },
  {
   "cell_type": "code",
   "execution_count": 4,
   "metadata": {
    "collapsed": false
   },
   "outputs": [],
   "source": [
    "gephiClient = gephi.streaming.GephiStreamingClient()\n",
    "gephiClient.exportGraph(G)\n",
    "gephiClient.exportEdgeValues(G, edgeAttribute, 'myAttribute')"
   ]
  },
  {
   "cell_type": "markdown",
   "metadata": {},
   "source": [
    "### Example 3: Listing of all implemented sparsification definitions"
   ]
  },
  {
   "cell_type": "markdown",
   "metadata": {},
   "source": [
    "Note that it is important to consider, how the respective edge attributes are to be interpreted (are those edges with attribute values below or above a certain threshold to be kept in the graph?). A convention to reduce confusion might be introduced here in the future."
   ]
  },
  {
   "cell_type": "code",
   "execution_count": 3,
   "metadata": {
    "collapsed": false
   },
   "outputs": [],
   "source": [
    "sAlgorithms = [\n",
    "    (sparsification.ForestFireBackbone(0.15, 5), 'Forest Fire'),\n",
    "    (sparsification.LocalDegreeBackbone(), 'Local Degree'),\n",
    "    (sparsification.LocalSimilarityBackbone(), 'Local Similarity'),\n",
    "    (sparsification.MultiscaleBackbone(), 'Multiscale'),\n",
    "    (sparsification.RandomEdgeBackbone(), 'RandomEdge'),\n",
    "    (sparsification.RandomNodeEdgeBackbone(), 'RandomNodeEdge'),\n",
    "    (sparsification.SimmelianBackboneNonParametric(), 'Simmelian NonParametric'),\n",
    "    (sparsification.SimmelianBackboneParametric(10), 'Simmelian Parametric'),\n",
    "    (sparsification.SimmelianQuadrangleBackbone(), 'Simmelian Quadrangle'),\n",
    "    (sparsification.SCANBackbone(), 'SCAN'),\n",
    "]"
   ]
  },
  {
   "cell_type": "markdown",
   "metadata": {},
   "source": [
    "Let's calculate an edge attribute for each of these definitions and export them all to Gephi:"
   ]
  },
  {
   "cell_type": "code",
   "execution_count": 4,
   "metadata": {
    "collapsed": false
   },
   "outputs": [],
   "source": [
    "gephiClient = gephi.streaming.GephiStreamingClient()\n",
    "gephiClient.clearGraph()\n",
    "gephiClient.exportGraph(G)\n",
    "for (algorithm, name) in sAlgorithms:\n",
    "    edgeAttribute = algorithm.getAttribute(G)\n",
    "    rankAttribute = sparsification.getRankAttribute(edgeAttribute)\n",
    "    gephiClient.exportEdgeValues(G, rankAttribute, name)"
   ]
  },
  {
   "cell_type": "markdown",
   "metadata": {},
   "source": [
    "For visualization purposes, let's also calculate and export the community structure:"
   ]
  },
  {
   "cell_type": "code",
   "execution_count": 5,
   "metadata": {
    "collapsed": false
   },
   "outputs": [
    {
     "name": "stdout",
     "output_type": "stream",
     "text": [
      "PLM(none,pc) detected communities in 0.07216715812683105 [s]\n",
      "solution properties:\n",
      "-------------------  ----------\n",
      "# communities         11\n",
      "min community size     2\n",
      "max community size   159\n",
      "avg. community size   69.9091\n",
      "modularity             0.398057\n",
      "-------------------  ----------\n"
     ]
    }
   ],
   "source": [
    "c = community.detectCommunities(G, community.PLM(G, refine=False, par='none'))\n",
    "gephiClient.exportNodeValues(G, c, 'community')"
   ]
  },
  {
   "cell_type": "markdown",
   "metadata": {},
   "source": [
    "### Example 4: Using attributes, filters, and parameterization"
   ]
  },
  {
   "cell_type": "markdown",
   "metadata": {},
   "source": [
    "In the following example, we illustrate possible usage of an attributizer, a filter and a parameterization algorithm. Note that any of these might be exchanged."
   ]
  },
  {
   "cell_type": "code",
   "execution_count": 48,
   "metadata": {
    "collapsed": false
   },
   "outputs": [
    {
     "data": {
      "text/plain": [
       "(769, 4998)"
      ]
     },
     "execution_count": 48,
     "metadata": {},
     "output_type": "execute_result"
    }
   ],
   "source": [
    "#Attribute calculation\n",
    "sparsificationAlgorithm = sparsification.LocalDegreeBackbone()\n",
    "attribute = sparsificationAlgorithm.getAttribute(G)\n",
    "\n",
    "#Parameterization using binary search with up to 20 steps. The parameter value is in [0,1] and the size of the graph increases with increasing parameter value.\n",
    "parameterization = sparsification.BinarySearchParameterization(True, 0.0, 1.0, 20)\n",
    "parameter = parameterization.parameterize(sparsificationAlgorithm, G, attribute, 0.3) # We'd like to keep ~30% of edges\n",
    "\n",
    "#Global filtering\n",
    "globalFilter = sparsification.GlobalThresholdFilter(G, attribute, parameter, False) #Keep all edges with an edge attribute value below the given parameter\n",
    "B = globalFilter.calculate()\n",
    "properties.size(B)"
   ]
  },
  {
   "cell_type": "markdown",
   "metadata": {},
   "source": [
    "### Example 5: Using rank attributes with Gephi"
   ]
  },
  {
   "cell_type": "markdown",
   "metadata": {},
   "source": [
    "An example where it might be desireable to work with 'linear' edge attributes is Filtering in Gephi. By 'linear' we mean that a value close to the mean value should yield a graph with about 50% of edges. The sparsification module offers a convenience function that offers this functionality and that can be applied to both node and edge attributes."
   ]
  },
  {
   "cell_type": "code",
   "execution_count": 49,
   "metadata": {
    "collapsed": false
   },
   "outputs": [],
   "source": [
    "sparsificationAlgorithm = sparsification.LocalSimilarityBackbone()\n",
    "attribute = sparsificationAlgorithm.getAttribute(G)\n",
    "rankAttribute = sparsification.getRankAttribute(attribute)\n",
    "gephiClient.exportEdgeValues(G, rankAttribute, 'rank')"
   ]
  }
 ],
 "metadata": {
  "kernelspec": {
   "display_name": "Python 3",
   "language": "python",
   "name": "python3"
  },
  "language_info": {
   "codemirror_mode": {
    "name": "ipython",
    "version": 3
   },
   "file_extension": ".py",
   "mimetype": "text/x-python",
   "name": "python",
   "nbconvert_exporter": "python",
   "pygments_lexer": "ipython3",
   "version": "3.4.3"
  }
 },
 "nbformat": 4,
 "nbformat_minor": 0
}

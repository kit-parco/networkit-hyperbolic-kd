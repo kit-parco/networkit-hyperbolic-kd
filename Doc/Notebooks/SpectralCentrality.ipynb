{
 "metadata": {
  "name": ""
 },
 "nbformat": 3,
 "nbformat_minor": 0,
 "worksheets": [
  {
   "cells": [
    {
     "cell_type": "markdown",
     "metadata": {},
     "source": [
      "Centrality\n",
      "==========\n",
      "\n",
      "This evaluates the Eigenvector Centrality and PageRank implemented in Python against C++-native EVZ and PageRank. The Python implementation uses SciPy (and thus ARPACK) to compute the eigenvectors, while the C++ method implements a power iteration method itself."
     ]
    },
    {
     "cell_type": "code",
     "collapsed": false,
     "input": [
      "import NetworKit"
     ],
     "language": "python",
     "metadata": {},
     "outputs": [],
     "prompt_number": 15
    },
    {
     "cell_type": "code",
     "collapsed": false,
     "input": [
      "G = NetworKit.graphio.readGraph(\"../../input/celegans_metabolic.graph\")"
     ],
     "language": "python",
     "metadata": {},
     "outputs": [],
     "prompt_number": 16
    },
    {
     "cell_type": "markdown",
     "metadata": {},
     "source": [
      "First, we just compute the Python EVZ and display a sample. The \"scores()\" method returns a list of centrality scores in order of the vertices. Thus, what you see below are the (normalized, see the respective argument) centrality scores for G.nodes()[0], G.nodes()[1], ... "
     ]
    },
    {
     "cell_type": "code",
     "collapsed": false,
     "input": [
      "evzSciPy = NetworKit.centrality.SciPyEVZ(G, normalized=True)\n",
      "evzSciPy.run()\n",
      "evzSciPy.scores()[:10]"
     ],
     "language": "python",
     "metadata": {},
     "outputs": [
      {
       "metadata": {},
       "output_type": "pyout",
       "prompt_number": 17,
       "text": [
        "[0.038890947542671389,\n",
        " 0.025204387816348917,\n",
        " 0.030099862584687765,\n",
        " 0.02300806619788465,\n",
        " 0.015014306929265284,\n",
        " 0.047450338825435624,\n",
        " 0.038773798008193916,\n",
        " 0.00018201165419890047,\n",
        " 0.0043027361546468367,\n",
        " 0.019820501996514448]"
       ]
      }
     ],
     "prompt_number": 17
    },
    {
     "cell_type": "markdown",
     "metadata": {},
     "source": [
      "We now take a look at the 10 most central vertices according to the four heuristics. Here, the centrality algorithms offer the ranking() method that returns a list of (vertex, centrality) ordered by centrality."
     ]
    },
    {
     "cell_type": "code",
     "collapsed": false,
     "input": [
      "evzSciPy.ranking()[:10]"
     ],
     "language": "python",
     "metadata": {},
     "outputs": [
      {
       "metadata": {},
       "output_type": "pyout",
       "prompt_number": 18,
       "text": [
        "[(185, 0.37998920394223173),\n",
        " (146, 0.25589844844192616),\n",
        " (407, 0.25299992743917193),\n",
        " (144, 0.21952034822779018),\n",
        " (204, 0.18014173124747007),\n",
        " (230, 0.17037022146635705),\n",
        " (226, 0.15343976623211911),\n",
        " (227, 0.15343976623211911),\n",
        " (152, 0.15256017345576336),\n",
        " (425, 0.13620265458341302)]"
       ]
      }
     ],
     "prompt_number": 18
    },
    {
     "cell_type": "markdown",
     "metadata": {},
     "source": [
      "Compute the EVZ using the C++ backend and also display the 10 most important vertices, just as above. This should hopefully look similar...\n",
      "\n",
      "*Please note*: The normalization argument may not be passed as a named argument to the C++-backed centrality measures. This is due to some limitation in the C++ wrapping code."
     ]
    },
    {
     "cell_type": "code",
     "collapsed": false,
     "input": [
      "evz = NetworKit.centrality.EigenvectorCentrality(G, True)\n",
      "evz.run()\n",
      "evz.ranking()[:10]"
     ],
     "language": "python",
     "metadata": {},
     "outputs": [
      {
       "metadata": {},
       "output_type": "pyout",
       "prompt_number": 19,
       "text": [
        "[(185, 0.3586787763956071),\n",
        " (407, 0.24208076432106193),\n",
        " (146, 0.23956989544776158),\n",
        " (144, 0.20553600559712543),\n",
        " (204, 0.177385111798723),\n",
        " (230, 0.16792666595381622),\n",
        " (152, 0.15483296954748946),\n",
        " (227, 0.14911143557087225),\n",
        " (226, 0.14911143557087225),\n",
        " (425, 0.13360064298606755)]"
       ]
      }
     ],
     "prompt_number": 19
    },
    {
     "cell_type": "markdown",
     "metadata": {},
     "source": [
      "Now, let's take a look at the PageRank. First, compute the PageRank using the C++ backend and display the 10 most important vertices. The second argument to the algorithm is the dampening factor, i.e. the probability that a random walk just stops at a vertex and instead teleports to some other vertex."
     ]
    },
    {
     "cell_type": "code",
     "collapsed": false,
     "input": [
      "pageRank = NetworKit.centrality.PageRank(G, 0.95, True)\n",
      "pageRank.run()\n",
      "pageRank.ranking()[:10]"
     ],
     "language": "python",
     "metadata": {},
     "outputs": [
      {
       "metadata": {},
       "output_type": "pyout",
       "prompt_number": 20,
       "text": [
        "[(185, 0.08967935808573081),\n",
        " (146, 0.03629366353976929),\n",
        " (144, 0.031391049006808995),\n",
        " (407, 0.029966678067660846),\n",
        " (227, 0.02119029305575018),\n",
        " (226, 0.02119029305575018),\n",
        " (425, 0.01990720675472069),\n",
        " (152, 0.017614662527267698),\n",
        " (230, 0.016888616220117534),\n",
        " (228, 0.016241705781972086)]"
       ]
      }
     ],
     "prompt_number": 20
    },
    {
     "cell_type": "markdown",
     "metadata": {},
     "source": [
      "Same in Python..."
     ]
    },
    {
     "cell_type": "code",
     "collapsed": false,
     "input": [
      "SciPyPageRank = NetworKit.centrality.SciPyPageRank(G, 0.95, normalized=True)\n",
      "SciPyPageRank.run()\n",
      "SciPyPageRank.ranking()[:10]"
     ],
     "language": "python",
     "metadata": {},
     "outputs": [
      {
       "metadata": {},
       "output_type": "pyout",
       "prompt_number": 21,
       "text": [
        "[(185, 0.054780413341042854),\n",
        " (146, 0.029871799604127159),\n",
        " (407, 0.025638731142372653),\n",
        " (144, 0.025090969454838147),\n",
        " (226, 0.01914040024980283),\n",
        " (227, 0.018912862029472285),\n",
        " (152, 0.018855229032163981),\n",
        " (229, 0.01487848130291471),\n",
        " (230, 0.014777270360179907),\n",
        " (204, 0.014549801887864406)]"
       ]
      }
     ],
     "prompt_number": 21
    },
    {
     "cell_type": "markdown",
     "metadata": {},
     "source": [
      "If everything went well, these should look similar, too."
     ]
    },
    {
     "cell_type": "markdown",
     "metadata": {},
     "source": [
      "Finally, we take a look at the relative differences between the computed centralities for the vertices:"
     ]
    },
    {
     "cell_type": "code",
     "collapsed": false,
     "input": [
      "differences = [(max(x[0], x[1]) / min(x[0], x[1])) - 1 for x in zip(evz.scores(), evzSciPy.scores())]\n",
      "print(\"Average relative difference: {}\".format(sum(differences) / len(differences)))\n",
      "print(\"Maximum relative difference: {}\".format(max(differences)))"
     ],
     "language": "python",
     "metadata": {},
     "outputs": [
      {
       "output_type": "stream",
       "stream": "stdout",
       "text": [
        "Average relative difference: 0.08411651551542029\n",
        "Maximum relative difference: 1.3555889061632898\n"
       ]
      }
     ],
     "prompt_number": 22
    },
    {
     "cell_type": "code",
     "collapsed": false,
     "input": [],
     "language": "python",
     "metadata": {},
     "outputs": [],
     "prompt_number": 22
    },
    {
     "cell_type": "code",
     "collapsed": false,
     "input": [],
     "language": "python",
     "metadata": {},
     "outputs": [],
     "prompt_number": 22
    },
    {
     "cell_type": "code",
     "collapsed": false,
     "input": [],
     "language": "python",
     "metadata": {},
     "outputs": [],
     "prompt_number": 22
    }
   ],
   "metadata": {}
  }
 ]
}
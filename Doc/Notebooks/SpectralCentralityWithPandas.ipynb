{
 "metadata": {
  "name": ""
 },
 "nbformat": 3,
 "nbformat_minor": 0,
 "worksheets": [
  {
   "cells": [
    {
     "cell_type": "markdown",
     "metadata": {},
     "source": [
      "Centrality\n",
      "==========\n",
      "\n",
      "This evaluates the Eigenvector Centrality and PageRank implemented in Python against C++-native EVZ and PageRank. The Python implementation uses SciPy (and thus ARPACK) to compute the eigenvectors, while the C++ method implements a power iteration method itself.\n",
      "\n",
      "**Please note**: This notebook requires the pandas package. If you do not have it installed, you can use the \"Centrality\" notebook instead - but this one will look *much* nicer, so install pandas. ;)"
     ]
    },
    {
     "cell_type": "code",
     "collapsed": false,
     "input": [
      "import NetworKit\n",
      "import pandas as pd\n",
      "import random as rd"
     ],
     "language": "python",
     "metadata": {},
     "outputs": [],
     "prompt_number": 8
    },
    {
     "cell_type": "code",
     "collapsed": false,
     "input": [
      "G = NetworKit.graphio.readGraph(\"../../input/celegans_metabolic.graph\")"
     ],
     "language": "python",
     "metadata": {},
     "outputs": [],
     "prompt_number": 9
    },
    {
     "cell_type": "markdown",
     "metadata": {},
     "source": [
      "First, we just compute the Python EVZ and display a sample. The \"scores()\" method returns a list of centrality scores in order of the vertices. Thus, what you see below are the (normalized, see the respective argument) centrality scores for G.nodes()[0], G.nodes()[1], ... "
     ]
    },
    {
     "cell_type": "code",
     "collapsed": false,
     "input": [
      "evzSciPy = NetworKit.centrality.SciPyEVZ(G, normalized=True)\n",
      "evzSciPy.run()\n",
      "scoresTableEVZ = pd.DataFrame({\"Python EVZ\": evzSciPy.scores()[:10]})\n",
      "scoresTableEVZ"
     ],
     "language": "python",
     "metadata": {},
     "outputs": [
      {
       "html": [
        "<div style=\"max-height:1000px;max-width:1500px;overflow:auto;\">\n",
        "<table border=\"1\" class=\"dataframe\">\n",
        "  <thead>\n",
        "    <tr style=\"text-align: right;\">\n",
        "      <th></th>\n",
        "      <th>Python EVZ</th>\n",
        "    </tr>\n",
        "  </thead>\n",
        "  <tbody>\n",
        "    <tr>\n",
        "      <th>0</th>\n",
        "      <td> 0.038891</td>\n",
        "    </tr>\n",
        "    <tr>\n",
        "      <th>1</th>\n",
        "      <td> 0.025204</td>\n",
        "    </tr>\n",
        "    <tr>\n",
        "      <th>2</th>\n",
        "      <td> 0.030100</td>\n",
        "    </tr>\n",
        "    <tr>\n",
        "      <th>3</th>\n",
        "      <td> 0.023008</td>\n",
        "    </tr>\n",
        "    <tr>\n",
        "      <th>4</th>\n",
        "      <td> 0.015014</td>\n",
        "    </tr>\n",
        "    <tr>\n",
        "      <th>5</th>\n",
        "      <td> 0.047450</td>\n",
        "    </tr>\n",
        "    <tr>\n",
        "      <th>6</th>\n",
        "      <td> 0.038774</td>\n",
        "    </tr>\n",
        "    <tr>\n",
        "      <th>7</th>\n",
        "      <td> 0.000182</td>\n",
        "    </tr>\n",
        "    <tr>\n",
        "      <th>8</th>\n",
        "      <td> 0.004303</td>\n",
        "    </tr>\n",
        "    <tr>\n",
        "      <th>9</th>\n",
        "      <td> 0.019821</td>\n",
        "    </tr>\n",
        "  </tbody>\n",
        "</table>\n",
        "</div>"
       ],
       "metadata": {},
       "output_type": "pyout",
       "prompt_number": 10,
       "text": [
        "   Python EVZ\n",
        "0    0.038891\n",
        "1    0.025204\n",
        "2    0.030100\n",
        "3    0.023008\n",
        "4    0.015014\n",
        "5    0.047450\n",
        "6    0.038774\n",
        "7    0.000182\n",
        "8    0.004303\n",
        "9    0.019821"
       ]
      }
     ],
     "prompt_number": 10
    },
    {
     "cell_type": "markdown",
     "metadata": {},
     "source": [
      "We now take a look at the 10 most central vertices according to the four heuristics. Here, the centrality algorithms offer the ranking() method that returns a list of (vertex, centrality) ordered by centrality. We first compute the remaining values..."
     ]
    },
    {
     "cell_type": "code",
     "collapsed": false,
     "input": [
      "evz = NetworKit.centrality.EigenvectorCentrality(G, True)\n",
      "evz.run()\n",
      "\n",
      "pageRank = NetworKit.centrality.PageRank(G, 0.95)\n",
      "pageRank.run()\n",
      "\n",
      "pageRankSciPy = NetworKit.centrality.SciPyPageRank(G, 0.95, normalized=True)\n",
      "pageRankSciPy.run()"
     ],
     "language": "python",
     "metadata": {},
     "outputs": [],
     "prompt_number": 11
    },
    {
     "cell_type": "markdown",
     "metadata": {},
     "source": [
      "... then display it. What you will see is a list of the 10 most important vertices and their respective centralities according to the C++ / Python version of eigenvector centrality:"
     ]
    },
    {
     "cell_type": "code",
     "collapsed": false,
     "input": [
      "rankTableEVZ = pd.DataFrame({\"Python EVZ\": evzSciPy.ranking()[:10], \"C++ EVZ\": evz.ranking()[:10]})\n",
      "rankTableEVZ"
     ],
     "language": "python",
     "metadata": {},
     "outputs": [
      {
       "html": [
        "<div style=\"max-height:1000px;max-width:1500px;overflow:auto;\">\n",
        "<table border=\"1\" class=\"dataframe\">\n",
        "  <thead>\n",
        "    <tr style=\"text-align: right;\">\n",
        "      <th></th>\n",
        "      <th>C++ EVZ</th>\n",
        "      <th>Python EVZ</th>\n",
        "    </tr>\n",
        "  </thead>\n",
        "  <tbody>\n",
        "    <tr>\n",
        "      <th>0</th>\n",
        "      <td>  (185, 0.3586787763956071)</td>\n",
        "      <td> (185, 0.379989203942)</td>\n",
        "    </tr>\n",
        "    <tr>\n",
        "      <th>1</th>\n",
        "      <td> (407, 0.24208076432106193)</td>\n",
        "      <td> (146, 0.255898448442)</td>\n",
        "    </tr>\n",
        "    <tr>\n",
        "      <th>2</th>\n",
        "      <td> (146, 0.23956989544776158)</td>\n",
        "      <td> (407, 0.252999927439)</td>\n",
        "    </tr>\n",
        "    <tr>\n",
        "      <th>3</th>\n",
        "      <td> (144, 0.20553600559712543)</td>\n",
        "      <td> (144, 0.219520348228)</td>\n",
        "    </tr>\n",
        "    <tr>\n",
        "      <th>4</th>\n",
        "      <td>   (204, 0.177385111798723)</td>\n",
        "      <td> (204, 0.180141731247)</td>\n",
        "    </tr>\n",
        "    <tr>\n",
        "      <th>5</th>\n",
        "      <td> (230, 0.16792666595381622)</td>\n",
        "      <td> (230, 0.170370221466)</td>\n",
        "    </tr>\n",
        "    <tr>\n",
        "      <th>6</th>\n",
        "      <td> (152, 0.15483296954748946)</td>\n",
        "      <td> (226, 0.153439766232)</td>\n",
        "    </tr>\n",
        "    <tr>\n",
        "      <th>7</th>\n",
        "      <td> (227, 0.14911143557087225)</td>\n",
        "      <td> (227, 0.153439766232)</td>\n",
        "    </tr>\n",
        "    <tr>\n",
        "      <th>8</th>\n",
        "      <td> (226, 0.14911143557087225)</td>\n",
        "      <td> (152, 0.152560173456)</td>\n",
        "    </tr>\n",
        "    <tr>\n",
        "      <th>9</th>\n",
        "      <td> (425, 0.13360064298606755)</td>\n",
        "      <td> (425, 0.136202654583)</td>\n",
        "    </tr>\n",
        "  </tbody>\n",
        "</table>\n",
        "</div>"
       ],
       "metadata": {},
       "output_type": "pyout",
       "prompt_number": 12,
       "text": [
        "                      C++ EVZ             Python EVZ\n",
        "0   (185, 0.3586787763956071)  (185, 0.379989203942)\n",
        "1  (407, 0.24208076432106193)  (146, 0.255898448442)\n",
        "2  (146, 0.23956989544776158)  (407, 0.252999927439)\n",
        "3  (144, 0.20553600559712543)  (144, 0.219520348228)\n",
        "4    (204, 0.177385111798723)  (204, 0.180141731247)\n",
        "5  (230, 0.16792666595381622)  (230, 0.170370221466)\n",
        "6  (152, 0.15483296954748946)  (226, 0.153439766232)\n",
        "7  (227, 0.14911143557087225)  (227, 0.153439766232)\n",
        "8  (226, 0.14911143557087225)  (152, 0.152560173456)\n",
        "9  (425, 0.13360064298606755)  (425, 0.136202654583)"
       ]
      }
     ],
     "prompt_number": 12
    },
    {
     "cell_type": "markdown",
     "metadata": {},
     "source": [
      "If everything went well, this should look at least similar. Now we do the same for the PageRank instead of EVZ:"
     ]
    },
    {
     "cell_type": "code",
     "collapsed": false,
     "input": [
      "rankTablePR = pd.DataFrame({\"Python PageRank\": pageRankSciPy.ranking()[:10], \"C++ PageRank\": pageRank.ranking()[:10]})\n",
      "rankTablePR"
     ],
     "language": "python",
     "metadata": {},
     "outputs": [
      {
       "html": [
        "<div style=\"max-height:1000px;max-width:1500px;overflow:auto;\">\n",
        "<table border=\"1\" class=\"dataframe\">\n",
        "  <thead>\n",
        "    <tr style=\"text-align: right;\">\n",
        "      <th></th>\n",
        "      <th>C++ PageRank</th>\n",
        "      <th>Python PageRank</th>\n",
        "    </tr>\n",
        "  </thead>\n",
        "  <tbody>\n",
        "    <tr>\n",
        "      <th>0</th>\n",
        "      <td> (185, 0.057548689143122875)</td>\n",
        "      <td> (185, 0.0569761023152)</td>\n",
        "    </tr>\n",
        "    <tr>\n",
        "      <th>1</th>\n",
        "      <td>  (146, 0.02874524532245119)</td>\n",
        "      <td>  (146, 0.029930292902)</td>\n",
        "    </tr>\n",
        "    <tr>\n",
        "      <th>2</th>\n",
        "      <td>  (407, 0.02528870954478069)</td>\n",
        "      <td> (407, 0.0265736334414)</td>\n",
        "    </tr>\n",
        "    <tr>\n",
        "      <th>3</th>\n",
        "      <td>  (144, 0.02435921673354546)</td>\n",
        "      <td>  (144, 0.025430294678)</td>\n",
        "    </tr>\n",
        "    <tr>\n",
        "      <th>4</th>\n",
        "      <td> (226, 0.017416341016188205)</td>\n",
        "      <td> (226, 0.0182512318608)</td>\n",
        "    </tr>\n",
        "    <tr>\n",
        "      <th>5</th>\n",
        "      <td> (227, 0.017416341016188205)</td>\n",
        "      <td> (227, 0.0180643783643)</td>\n",
        "    </tr>\n",
        "    <tr>\n",
        "      <th>6</th>\n",
        "      <td> (152, 0.015082439274723199)</td>\n",
        "      <td> (152, 0.0155190199417)</td>\n",
        "    </tr>\n",
        "    <tr>\n",
        "      <th>7</th>\n",
        "      <td> (425, 0.014952542568116085)</td>\n",
        "      <td> (425, 0.0155140956156)</td>\n",
        "    </tr>\n",
        "    <tr>\n",
        "      <th>8</th>\n",
        "      <td> (204, 0.014704749200614793)</td>\n",
        "      <td> (204, 0.0152943723885)</td>\n",
        "    </tr>\n",
        "    <tr>\n",
        "      <th>9</th>\n",
        "      <td> (230, 0.014234930427413514)</td>\n",
        "      <td> (230, 0.0143970233572)</td>\n",
        "    </tr>\n",
        "  </tbody>\n",
        "</table>\n",
        "</div>"
       ],
       "metadata": {},
       "output_type": "pyout",
       "prompt_number": 13,
       "text": [
        "                  C++ PageRank         Python PageRank\n",
        "0  (185, 0.057548689143122875)  (185, 0.0569761023152)\n",
        "1   (146, 0.02874524532245119)   (146, 0.029930292902)\n",
        "2   (407, 0.02528870954478069)  (407, 0.0265736334414)\n",
        "3   (144, 0.02435921673354546)   (144, 0.025430294678)\n",
        "4  (226, 0.017416341016188205)  (226, 0.0182512318608)\n",
        "5  (227, 0.017416341016188205)  (227, 0.0180643783643)\n",
        "6  (152, 0.015082439274723199)  (152, 0.0155190199417)\n",
        "7  (425, 0.014952542568116085)  (425, 0.0155140956156)\n",
        "8  (204, 0.014704749200614793)  (204, 0.0152943723885)\n",
        "9  (230, 0.014234930427413514)  (230, 0.0143970233572)"
       ]
      }
     ],
     "prompt_number": 13
    },
    {
     "cell_type": "markdown",
     "metadata": {},
     "source": [
      "If everything went well, these should look similar, too."
     ]
    },
    {
     "cell_type": "markdown",
     "metadata": {},
     "source": [
      "To make sure that not just the top scoring vertices are comparable in both implementations, here are 10 randomly selected vertices in comparison:"
     ]
    },
    {
     "cell_type": "code",
     "collapsed": false,
     "input": [
      "vertices = rd.sample(G.nodes(), 10)\n",
      "randTableEVZ = pd.DataFrame({\"Python EVZ\": evzSciPy.scores(), \"C++ EVZ\": evz.scores()})\n",
      "randTableEVZ.loc[vertices]"
     ],
     "language": "python",
     "metadata": {},
     "outputs": [
      {
       "html": [
        "<div style=\"max-height:1000px;max-width:1500px;overflow:auto;\">\n",
        "<table border=\"1\" class=\"dataframe\">\n",
        "  <thead>\n",
        "    <tr style=\"text-align: right;\">\n",
        "      <th></th>\n",
        "      <th>C++ EVZ</th>\n",
        "      <th>Python EVZ</th>\n",
        "    </tr>\n",
        "  </thead>\n",
        "  <tbody>\n",
        "    <tr>\n",
        "      <th>176</th>\n",
        "      <td> 0.011059</td>\n",
        "      <td> 0.010574</td>\n",
        "    </tr>\n",
        "    <tr>\n",
        "      <th>132</th>\n",
        "      <td> 0.025643</td>\n",
        "      <td> 0.025086</td>\n",
        "    </tr>\n",
        "    <tr>\n",
        "      <th>54 </th>\n",
        "      <td> 0.007948</td>\n",
        "      <td> 0.007970</td>\n",
        "    </tr>\n",
        "    <tr>\n",
        "      <th>158</th>\n",
        "      <td> 0.053888</td>\n",
        "      <td> 0.051367</td>\n",
        "    </tr>\n",
        "    <tr>\n",
        "      <th>43 </th>\n",
        "      <td> 0.024558</td>\n",
        "      <td> 0.023160</td>\n",
        "    </tr>\n",
        "    <tr>\n",
        "      <th>348</th>\n",
        "      <td> 0.043816</td>\n",
        "      <td> 0.042881</td>\n",
        "    </tr>\n",
        "    <tr>\n",
        "      <th>131</th>\n",
        "      <td> 0.024375</td>\n",
        "      <td> 0.022909</td>\n",
        "    </tr>\n",
        "    <tr>\n",
        "      <th>224</th>\n",
        "      <td> 0.000085</td>\n",
        "      <td> 0.000036</td>\n",
        "    </tr>\n",
        "    <tr>\n",
        "      <th>231</th>\n",
        "      <td> 0.000813</td>\n",
        "      <td> 0.000867</td>\n",
        "    </tr>\n",
        "    <tr>\n",
        "      <th>5  </th>\n",
        "      <td> 0.047535</td>\n",
        "      <td> 0.047450</td>\n",
        "    </tr>\n",
        "  </tbody>\n",
        "</table>\n",
        "</div>"
       ],
       "metadata": {},
       "output_type": "pyout",
       "prompt_number": 14,
       "text": [
        "      C++ EVZ  Python EVZ\n",
        "176  0.011059    0.010574\n",
        "132  0.025643    0.025086\n",
        "54   0.007948    0.007970\n",
        "158  0.053888    0.051367\n",
        "43   0.024558    0.023160\n",
        "348  0.043816    0.042881\n",
        "131  0.024375    0.022909\n",
        "224  0.000085    0.000036\n",
        "231  0.000813    0.000867\n",
        "5    0.047535    0.047450"
       ]
      }
     ],
     "prompt_number": 14
    },
    {
     "cell_type": "markdown",
     "metadata": {},
     "source": [
      "Finally, we take a look at the relative differences between the computed centralities for the vertices:"
     ]
    },
    {
     "cell_type": "code",
     "collapsed": false,
     "input": [
      "differences = [(max(x[0], x[1]) / min(x[0], x[1])) - 1 for x in zip(evz.scores(), evzSciPy.scores())]\n",
      "print(\"Average relative difference: {}\".format(sum(differences) / len(differences)))\n",
      "print(\"Maximum relative difference: {}\".format(max(differences)))"
     ],
     "language": "python",
     "metadata": {},
     "outputs": [
      {
       "output_type": "stream",
       "stream": "stdout",
       "text": [
        "Average relative difference: 0.08411651551542072\n",
        "Maximum relative difference: 1.355588906162672\n"
       ]
      }
     ],
     "prompt_number": 15
    },
    {
     "cell_type": "code",
     "collapsed": false,
     "input": [],
     "language": "python",
     "metadata": {},
     "outputs": [],
     "prompt_number": 15
    },
    {
     "cell_type": "code",
     "collapsed": false,
     "input": [],
     "language": "python",
     "metadata": {},
     "outputs": [],
     "prompt_number": 15
    },
    {
     "cell_type": "code",
     "collapsed": false,
     "input": [],
     "language": "python",
     "metadata": {},
     "outputs": [],
     "prompt_number": 15
    },
    {
     "cell_type": "code",
     "collapsed": false,
     "input": [],
     "language": "python",
     "metadata": {},
     "outputs": [],
     "prompt_number": 15
    }
   ],
   "metadata": {}
  }
 ]
}
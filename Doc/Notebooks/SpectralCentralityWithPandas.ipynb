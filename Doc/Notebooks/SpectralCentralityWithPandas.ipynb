{
 "metadata": {
  "name": "",
  "signature": "sha256:7d62640ad308509fe4be438769955cecb5b197d59372abcf8bb63a184ee2bd8a"
 },
 "nbformat": 3,
 "nbformat_minor": 0,
 "worksheets": [
  {
   "cells": [
    {
     "cell_type": "markdown",
     "metadata": {},
     "source": [
      "Centrality\n",
      "==========\n",
      "\n",
      "This evaluates the Eigenvector Centrality and PageRank implemented in Python against C++-native EVZ and PageRank. The Python implementation uses SciPy (and thus ARPACK) to compute the eigenvectors, while the C++ method implements a power iteration method itself.\n",
      "\n",
      "**Please note**: This notebook requires the pandas package. If you do not have it installed, you can use the \"Centrality\" notebook instead - but this one will look *much* nicer, so install pandas. ;)"
     ]
    },
    {
     "cell_type": "code",
     "collapsed": false,
     "input": [
      "import NetworKit\n",
      "import pandas as pd\n",
      "import random as rd"
     ],
     "language": "python",
     "metadata": {},
     "outputs": [],
     "prompt_number": 1
    },
    {
     "cell_type": "code",
     "collapsed": false,
     "input": [
      "G = NetworKit.graphio.readGraph(\"../../input/celegans_metabolic.graph\")"
     ],
     "language": "python",
     "metadata": {},
     "outputs": [],
     "prompt_number": 2
    },
    {
     "cell_type": "markdown",
     "metadata": {},
     "source": [
      "First, we just compute the Python EVZ and display a sample. The \"scores()\" method returns a list of centrality scores in order of the vertices. Thus, what you see below are the (normalized, see the respective argument) centrality scores for G.nodes()[0], G.nodes()[1], ... "
     ]
    },
    {
     "cell_type": "code",
     "collapsed": false,
     "input": [
      "evzNative = NetworKit.centrality.PythonNativeEVZ(G, normalized=True)\n",
      "evzNative.run()\n",
      "scoresTableEVZ = pd.DataFrame({\"Python EVZ\": evzNative.scores()[:10]})\n",
      "scoresTableEVZ"
     ],
     "language": "python",
     "metadata": {},
     "outputs": [
      {
       "html": [
        "<div style=\"max-height:1000px;max-width:1500px;overflow:auto;\">\n",
        "<table border=\"1\" class=\"dataframe\">\n",
        "  <thead>\n",
        "    <tr style=\"text-align: right;\">\n",
        "      <th></th>\n",
        "      <th>Python EVZ</th>\n",
        "    </tr>\n",
        "  </thead>\n",
        "  <tbody>\n",
        "    <tr>\n",
        "      <th>0</th>\n",
        "      <td> 0.038891</td>\n",
        "    </tr>\n",
        "    <tr>\n",
        "      <th>1</th>\n",
        "      <td> 0.025204</td>\n",
        "    </tr>\n",
        "    <tr>\n",
        "      <th>2</th>\n",
        "      <td> 0.030100</td>\n",
        "    </tr>\n",
        "    <tr>\n",
        "      <th>3</th>\n",
        "      <td> 0.023008</td>\n",
        "    </tr>\n",
        "    <tr>\n",
        "      <th>4</th>\n",
        "      <td> 0.015014</td>\n",
        "    </tr>\n",
        "    <tr>\n",
        "      <th>5</th>\n",
        "      <td> 0.047450</td>\n",
        "    </tr>\n",
        "    <tr>\n",
        "      <th>6</th>\n",
        "      <td> 0.038774</td>\n",
        "    </tr>\n",
        "    <tr>\n",
        "      <th>7</th>\n",
        "      <td> 0.000182</td>\n",
        "    </tr>\n",
        "    <tr>\n",
        "      <th>8</th>\n",
        "      <td> 0.004303</td>\n",
        "    </tr>\n",
        "    <tr>\n",
        "      <th>9</th>\n",
        "      <td> 0.019821</td>\n",
        "    </tr>\n",
        "  </tbody>\n",
        "</table>\n",
        "</div>"
       ],
       "metadata": {},
       "output_type": "pyout",
       "prompt_number": 3,
       "text": [
        "   Python EVZ\n",
        "0    0.038891\n",
        "1    0.025204\n",
        "2    0.030100\n",
        "3    0.023008\n",
        "4    0.015014\n",
        "5    0.047450\n",
        "6    0.038774\n",
        "7    0.000182\n",
        "8    0.004303\n",
        "9    0.019821"
       ]
      }
     ],
     "prompt_number": 3
    },
    {
     "cell_type": "markdown",
     "metadata": {},
     "source": [
      "We now take a look at the 10 most central vertices according to the four heuristics. Here, the centrality algorithms offer the ranking() method that returns a list of (vertex, centrality) ordered by centrality. We first compute the remaining values..."
     ]
    },
    {
     "cell_type": "code",
     "collapsed": false,
     "input": [
      "evz = NetworKit.centrality.EigenvectorCentrality(G, True)\n",
      "evz.run()\n",
      "\n",
      "pageRank = NetworKit.centrality.PageRank(G, 0.95)\n",
      "pageRank.run()\n",
      "\n",
      "pageRankNative = NetworKit.centrality.PythonNativePageRank(G, 0.95, normalized=True)\n",
      "pageRankNative.run()"
     ],
     "language": "python",
     "metadata": {},
     "outputs": [],
     "prompt_number": 4
    },
    {
     "cell_type": "markdown",
     "metadata": {},
     "source": [
      "... then display it. What you will see is a list of the 10 most important vertices and their respective centralities according to the C++ / Python version of eigenvector centrality:"
     ]
    },
    {
     "cell_type": "code",
     "collapsed": false,
     "input": [
      "rankTableEVZ = pd.DataFrame({\"Python EVZ\": evzNative.ranking()[:10], \"C++ EVZ\": evz.ranking()[:10]})\n",
      "rankTableEVZ"
     ],
     "language": "python",
     "metadata": {},
     "outputs": [
      {
       "html": [
        "<div style=\"max-height:1000px;max-width:1500px;overflow:auto;\">\n",
        "<table border=\"1\" class=\"dataframe\">\n",
        "  <thead>\n",
        "    <tr style=\"text-align: right;\">\n",
        "      <th></th>\n",
        "      <th>C++ EVZ</th>\n",
        "      <th>Python EVZ</th>\n",
        "    </tr>\n",
        "  </thead>\n",
        "  <tbody>\n",
        "    <tr>\n",
        "      <th>0</th>\n",
        "      <td>  (185, 0.3586787763956071)</td>\n",
        "      <td> (185, 0.379989203942)</td>\n",
        "    </tr>\n",
        "    <tr>\n",
        "      <th>1</th>\n",
        "      <td> (407, 0.24208076432106193)</td>\n",
        "      <td> (146, 0.255898448442)</td>\n",
        "    </tr>\n",
        "    <tr>\n",
        "      <th>2</th>\n",
        "      <td> (146, 0.23956989544776158)</td>\n",
        "      <td> (407, 0.252999927439)</td>\n",
        "    </tr>\n",
        "    <tr>\n",
        "      <th>3</th>\n",
        "      <td> (144, 0.20553600559712543)</td>\n",
        "      <td> (144, 0.219520348228)</td>\n",
        "    </tr>\n",
        "    <tr>\n",
        "      <th>4</th>\n",
        "      <td>   (204, 0.177385111798723)</td>\n",
        "      <td> (204, 0.180141731247)</td>\n",
        "    </tr>\n",
        "    <tr>\n",
        "      <th>5</th>\n",
        "      <td> (230, 0.16792666595381622)</td>\n",
        "      <td> (230, 0.170370221466)</td>\n",
        "    </tr>\n",
        "    <tr>\n",
        "      <th>6</th>\n",
        "      <td> (152, 0.15483296954748946)</td>\n",
        "      <td> (227, 0.153439766232)</td>\n",
        "    </tr>\n",
        "    <tr>\n",
        "      <th>7</th>\n",
        "      <td> (226, 0.14911143557087225)</td>\n",
        "      <td> (226, 0.153439766232)</td>\n",
        "    </tr>\n",
        "    <tr>\n",
        "      <th>8</th>\n",
        "      <td> (227, 0.14911143557087225)</td>\n",
        "      <td> (152, 0.152560173456)</td>\n",
        "    </tr>\n",
        "    <tr>\n",
        "      <th>9</th>\n",
        "      <td> (425, 0.13360064298606755)</td>\n",
        "      <td> (425, 0.136202654583)</td>\n",
        "    </tr>\n",
        "  </tbody>\n",
        "</table>\n",
        "</div>"
       ],
       "metadata": {},
       "output_type": "pyout",
       "prompt_number": 5,
       "text": [
        "                      C++ EVZ             Python EVZ\n",
        "0   (185, 0.3586787763956071)  (185, 0.379989203942)\n",
        "1  (407, 0.24208076432106193)  (146, 0.255898448442)\n",
        "2  (146, 0.23956989544776158)  (407, 0.252999927439)\n",
        "3  (144, 0.20553600559712543)  (144, 0.219520348228)\n",
        "4    (204, 0.177385111798723)  (204, 0.180141731247)\n",
        "5  (230, 0.16792666595381622)  (230, 0.170370221466)\n",
        "6  (152, 0.15483296954748946)  (227, 0.153439766232)\n",
        "7  (226, 0.14911143557087225)  (226, 0.153439766232)\n",
        "8  (227, 0.14911143557087225)  (152, 0.152560173456)\n",
        "9  (425, 0.13360064298606755)  (425, 0.136202654583)"
       ]
      }
     ],
     "prompt_number": 5
    },
    {
     "cell_type": "markdown",
     "metadata": {},
     "source": [
      "If everything went well, this should look at least similar. Now we do the same for the PageRank instead of EVZ:"
     ]
    },
    {
     "cell_type": "code",
     "collapsed": false,
     "input": [
      "rankTablePR = pd.DataFrame({\"Python PageRank\": pageRankNative.ranking()[:10], \"C++ PageRank\": pageRank.ranking()[:10]})\n",
      "rankTablePR"
     ],
     "language": "python",
     "metadata": {},
     "outputs": [
      {
       "html": [
        "<div style=\"max-height:1000px;max-width:1500px;overflow:auto;\">\n",
        "<table border=\"1\" class=\"dataframe\">\n",
        "  <thead>\n",
        "    <tr style=\"text-align: right;\">\n",
        "      <th></th>\n",
        "      <th>C++ PageRank</th>\n",
        "      <th>Python PageRank</th>\n",
        "    </tr>\n",
        "  </thead>\n",
        "  <tbody>\n",
        "    <tr>\n",
        "      <th>0</th>\n",
        "      <td>  (185, 0.05754868914312287)</td>\n",
        "      <td> (185, 0.0547993917697)</td>\n",
        "    </tr>\n",
        "    <tr>\n",
        "      <th>1</th>\n",
        "      <td> (146, 0.028745245322451186)</td>\n",
        "      <td> (146, 0.0218050992014)</td>\n",
        "    </tr>\n",
        "    <tr>\n",
        "      <th>2</th>\n",
        "      <td> (407, 0.025288709544780685)</td>\n",
        "      <td> (351, 0.0204455164246)</td>\n",
        "    </tr>\n",
        "    <tr>\n",
        "      <th>3</th>\n",
        "      <td> (144, 0.024359216733545457)</td>\n",
        "      <td> (407, 0.0202868266975)</td>\n",
        "    </tr>\n",
        "    <tr>\n",
        "      <th>4</th>\n",
        "      <td> (227, 0.017416341016188205)</td>\n",
        "      <td> (144, 0.0178571479313)</td>\n",
        "    </tr>\n",
        "    <tr>\n",
        "      <th>5</th>\n",
        "      <td> (226, 0.017416341016188205)</td>\n",
        "      <td> (227, 0.0176295002476)</td>\n",
        "    </tr>\n",
        "    <tr>\n",
        "      <th>6</th>\n",
        "      <td> (152, 0.015082439274723197)</td>\n",
        "      <td> (226, 0.0173608622942)</td>\n",
        "    </tr>\n",
        "    <tr>\n",
        "      <th>7</th>\n",
        "      <td> (425, 0.014952542568116083)</td>\n",
        "      <td> (154, 0.0162640635081)</td>\n",
        "    </tr>\n",
        "    <tr>\n",
        "      <th>8</th>\n",
        "      <td> (204, 0.014704749200614792)</td>\n",
        "      <td> (152, 0.0139968728127)</td>\n",
        "    </tr>\n",
        "    <tr>\n",
        "      <th>9</th>\n",
        "      <td> (230, 0.014234930427413512)</td>\n",
        "      <td> (425, 0.0128311548432)</td>\n",
        "    </tr>\n",
        "  </tbody>\n",
        "</table>\n",
        "</div>"
       ],
       "metadata": {},
       "output_type": "pyout",
       "prompt_number": 6,
       "text": [
        "                  C++ PageRank         Python PageRank\n",
        "0   (185, 0.05754868914312287)  (185, 0.0547993917697)\n",
        "1  (146, 0.028745245322451186)  (146, 0.0218050992014)\n",
        "2  (407, 0.025288709544780685)  (351, 0.0204455164246)\n",
        "3  (144, 0.024359216733545457)  (407, 0.0202868266975)\n",
        "4  (227, 0.017416341016188205)  (144, 0.0178571479313)\n",
        "5  (226, 0.017416341016188205)  (227, 0.0176295002476)\n",
        "6  (152, 0.015082439274723197)  (226, 0.0173608622942)\n",
        "7  (425, 0.014952542568116083)  (154, 0.0162640635081)\n",
        "8  (204, 0.014704749200614792)  (152, 0.0139968728127)\n",
        "9  (230, 0.014234930427413512)  (425, 0.0128311548432)"
       ]
      }
     ],
     "prompt_number": 6
    },
    {
     "cell_type": "markdown",
     "metadata": {},
     "source": [
      "If everything went well, these should look similar, too."
     ]
    },
    {
     "cell_type": "markdown",
     "metadata": {},
     "source": [
      "To make sure that not just the top scoring vertices are comparable in both implementations, here are 10 randomly selected vertices in comparison:"
     ]
    },
    {
     "cell_type": "code",
     "collapsed": false,
     "input": [
      "vertices = rd.sample(G.nodes(), 10)\n",
      "randTableEVZ = pd.DataFrame({\"Python EVZ\": evzNative.scores(), \"C++ EVZ\": evz.scores()})\n",
      "randTableEVZ.loc[vertices]"
     ],
     "language": "python",
     "metadata": {},
     "outputs": [
      {
       "html": [
        "<div style=\"max-height:1000px;max-width:1500px;overflow:auto;\">\n",
        "<table border=\"1\" class=\"dataframe\">\n",
        "  <thead>\n",
        "    <tr style=\"text-align: right;\">\n",
        "      <th></th>\n",
        "      <th>C++ EVZ</th>\n",
        "      <th>Python EVZ</th>\n",
        "    </tr>\n",
        "  </thead>\n",
        "  <tbody>\n",
        "    <tr>\n",
        "      <th>169</th>\n",
        "      <td> 0.007079</td>\n",
        "      <td> 0.007489</td>\n",
        "    </tr>\n",
        "    <tr>\n",
        "      <th>18 </th>\n",
        "      <td> 0.000578</td>\n",
        "      <td> 0.000346</td>\n",
        "    </tr>\n",
        "    <tr>\n",
        "      <th>149</th>\n",
        "      <td> 0.013043</td>\n",
        "      <td> 0.013612</td>\n",
        "    </tr>\n",
        "    <tr>\n",
        "      <th>23 </th>\n",
        "      <td> 0.030709</td>\n",
        "      <td> 0.027701</td>\n",
        "    </tr>\n",
        "    <tr>\n",
        "      <th>49 </th>\n",
        "      <td> 0.031003</td>\n",
        "      <td> 0.028107</td>\n",
        "    </tr>\n",
        "    <tr>\n",
        "      <th>331</th>\n",
        "      <td> 0.025713</td>\n",
        "      <td> 0.025491</td>\n",
        "    </tr>\n",
        "    <tr>\n",
        "      <th>107</th>\n",
        "      <td> 0.045839</td>\n",
        "      <td> 0.043881</td>\n",
        "    </tr>\n",
        "    <tr>\n",
        "      <th>341</th>\n",
        "      <td> 0.056948</td>\n",
        "      <td> 0.054055</td>\n",
        "    </tr>\n",
        "    <tr>\n",
        "      <th>79 </th>\n",
        "      <td> 0.033108</td>\n",
        "      <td> 0.030437</td>\n",
        "    </tr>\n",
        "    <tr>\n",
        "      <th>15 </th>\n",
        "      <td> 0.004110</td>\n",
        "      <td> 0.004300</td>\n",
        "    </tr>\n",
        "  </tbody>\n",
        "</table>\n",
        "</div>"
       ],
       "metadata": {},
       "output_type": "pyout",
       "prompt_number": 7,
       "text": [
        "      C++ EVZ  Python EVZ\n",
        "169  0.007079    0.007489\n",
        "18   0.000578    0.000346\n",
        "149  0.013043    0.013612\n",
        "23   0.030709    0.027701\n",
        "49   0.031003    0.028107\n",
        "331  0.025713    0.025491\n",
        "107  0.045839    0.043881\n",
        "341  0.056948    0.054055\n",
        "79   0.033108    0.030437\n",
        "15   0.004110    0.004300"
       ]
      }
     ],
     "prompt_number": 7
    },
    {
     "cell_type": "markdown",
     "metadata": {},
     "source": [
      "Finally, we take a look at the relative differences between the computed centralities for the vertices:"
     ]
    },
    {
     "cell_type": "code",
     "collapsed": false,
     "input": [
      "differences = [(max(x[0], x[1]) / min(x[0], x[1])) - 1 for x in zip(evz.scores(), evzNative.scores())]\n",
      "print(\"Average relative difference: {}\".format(sum(differences) / len(differences)))\n",
      "print(\"Maximum relative difference: {}\".format(max(differences)))"
     ],
     "language": "python",
     "metadata": {},
     "outputs": [
      {
       "output_type": "stream",
       "stream": "stdout",
       "text": [
        "Average relative difference: 0.08411651551542246\n",
        "Maximum relative difference: 1.3555889061636175\n"
       ]
      }
     ],
     "prompt_number": 8
    },
    {
     "cell_type": "code",
     "collapsed": false,
     "input": [],
     "language": "python",
     "metadata": {},
     "outputs": [],
     "prompt_number": 8
    },
    {
     "cell_type": "code",
     "collapsed": false,
     "input": [],
     "language": "python",
     "metadata": {},
     "outputs": [],
     "prompt_number": 8
    },
    {
     "cell_type": "code",
     "collapsed": false,
     "input": [],
     "language": "python",
     "metadata": {},
     "outputs": [],
     "prompt_number": 8
    },
    {
     "cell_type": "code",
     "collapsed": false,
     "input": [],
     "language": "python",
     "metadata": {},
     "outputs": [],
     "prompt_number": 8
    }
   ],
   "metadata": {}
  }
 ]
}
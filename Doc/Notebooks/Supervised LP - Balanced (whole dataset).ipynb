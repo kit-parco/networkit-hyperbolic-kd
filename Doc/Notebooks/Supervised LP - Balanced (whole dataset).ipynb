{
 "cells": [
  {
   "cell_type": "code",
   "execution_count": 1,
   "metadata": {
    "collapsed": false
   },
   "outputs": [
    {
     "name": "stdout",
     "output_type": "stream",
     "text": [
      "WARNING: module 'seaborn' is not installed, plotting functionality will be limited\n",
      "No module named 'seaborn'\n"
     ]
    }
   ],
   "source": [
    "from networkit import *\n",
    "%matplotlib inline\n",
    "import matplotlib.pyplot as plt\n",
    "import time\n",
    "from sklearn import *\n",
    "import numpy as np\n",
    "import random\n",
    "from cython import *\n",
    "from math import isnan"
   ]
  },
  {
   "cell_type": "code",
   "execution_count": 2,
   "metadata": {
    "collapsed": false
   },
   "outputs": [
    {
     "name": "stdout",
     "output_type": "stream",
     "text": [
      "/home/xza/Thesis/NetworKit-Esders\n"
     ]
    }
   ],
   "source": [
    "cd ~/Thesis/NetworKit-Esders"
   ]
  },
  {
   "cell_type": "code",
   "execution_count": 621,
   "metadata": {
    "collapsed": true
   },
   "outputs": [],
   "source": [
    "def drawROC(indexName, predictions):\n",
    "    X, Y = roc.getCurve(predictions)\n",
    "    plt.suptitle(indexName, fontsize=14, fontweight=\"bold\")\n",
    "    plt.xticks([z / 10 for z in range(11)])\n",
    "    plt.yticks([z / 10 for z in range(11)])\n",
    "    plt.xlabel(\"False positive rate\")\n",
    "    plt.ylabel(\"True positive rate\")\n",
    "    plt.axis([0, 1, 0, 1])\n",
    "    curve, = plt.plot(X, Y, label=indexName)\n",
    "    plt.plot([0, 1], [0, 1], ls='--')\n",
    "    plt.legend(handles=[curve], loc=4)\n",
    "def drawPR(indexName, predictions):\n",
    "    X, Y = pr.getCurve(predictions)\n",
    "    plt.suptitle(indexName, fontsize=14, fontweight=\"bold\")\n",
    "    plt.xticks([z / 10 for z in range(11)])\n",
    "    plt.yticks([z / 10 for z in range(11)])\n",
    "    plt.xlabel(\"Recall\")\n",
    "    plt.ylabel(\"Precision\")\n",
    "    plt.axis([0, 1, 0, 1])\n",
    "    curve, = plt.plot(X, Y, label=indexName)\n",
    "    plt.legend(handles=[curve])\n",
    "def drawROCs(supTitle, **args):\n",
    "    predictions = args[\"predictions\"]\n",
    "    indexNames = args[\"indexNames\"]\n",
    "    plt.suptitle(supTitle, fontsize=14, fontweight=\"bold\")\n",
    "    plt.xticks([z / 10 for z in range(11)])\n",
    "    plt.yticks([z / 10 for z in range(11)])\n",
    "    plt.xlabel(\"False positive rate\")\n",
    "    plt.ylabel(\"True positive rate\")\n",
    "    plt.axis([0, 1, 0, 1])\n",
    "    plt.plot([0, 1], [0, 1], '#aaaaaa', ls='--')\n",
    "    handles = []\n",
    "    for i in range(0, len(indexNames)):\n",
    "        X, Y = roc.getCurve(predictions[i])\n",
    "        curve, = plt.plot(X, Y, label=indexNames[i])\n",
    "        handles.append(curve)\n",
    "    plt.legend(handles=handles, loc=4, fontsize=10)"
   ]
  },
  {
   "cell_type": "code",
   "execution_count": 675,
   "metadata": {
    "collapsed": false
   },
   "outputs": [
    {
     "data": {
      "text/plain": [
       "93497"
      ]
     },
     "execution_count": 675,
     "metadata": {},
     "output_type": "execute_result"
    }
   ],
   "source": [
    "#testGraph, trainingGraph = linkprediction.readGraph(\"input/out.youtube-u-growth\", 0.01)\n",
    "testGraph = readGraph(\"input/CA-CondMat_tab-sep.edgelist\", Format.EdgeListTabOne)\n",
    "testGraph.numberOfEdges()"
   ]
  },
  {
   "cell_type": "code",
   "execution_count": 676,
   "metadata": {
    "collapsed": true
   },
   "outputs": [],
   "source": [
    "roc = linkprediction.ROCMetric(testGraph)\n",
    "pr = linkprediction.PrecisionRecallMetric(testGraph)"
   ]
  },
  {
   "cell_type": "code",
   "execution_count": 709,
   "metadata": {
    "collapsed": false
   },
   "outputs": [
    {
     "data": {
      "text/plain": [
       "83497"
      ]
     },
     "execution_count": 709,
     "metadata": {},
     "output_type": "execute_result"
    }
   ],
   "source": [
    "trainingGraph = linkprediction.TrainingGraphSampler.byCount(testGraph, testGraph.numberOfEdges() - 10000)\n",
    "trainingGraph.numberOfEdges()"
   ]
  },
  {
   "cell_type": "code",
   "execution_count": 710,
   "metadata": {
    "collapsed": false
   },
   "outputs": [
    {
     "data": {
      "text/plain": [
       "58497"
      ]
     },
     "execution_count": 710,
     "metadata": {},
     "output_type": "execute_result"
    }
   ],
   "source": [
    "featureGraph = linkprediction.TrainingGraphSampler.byCount(trainingGraph, trainingGraph.numberOfEdges() - 25000)\n",
    "featureGraph.numberOfEdges()"
   ]
  },
  {
   "cell_type": "code",
   "execution_count": 711,
   "metadata": {
    "collapsed": true
   },
   "outputs": [],
   "source": [
    "featureKatzIndex = linkprediction.KatzIndex(featureGraph, 5, 0.005)\n",
    "featureCommonNeighborsIndex = linkprediction.CommonNeighborsIndex(featureGraph)\n",
    "featureJaccardIndex = linkprediction.JaccardIndex(featureGraph)\n",
    "featurePreferentialAttachmentIndex = linkprediction.PreferentialAttachmentIndex(featureGraph)\n",
    "featureAdamicAdarIndex = linkprediction.AdamicAdarIndex(featureGraph)\n",
    "featureUDegreeIndex = linkprediction.UDegreeIndex(featureGraph)\n",
    "featureVDegreeIndex = linkprediction.VDegreeIndex(featureGraph)\n",
    "featureAlgebraicDistanceIndex = linkprediction.AlgebraicDistanceIndex(featureGraph, 5, 15)\n",
    "featureAlgebraicDistanceIndex.preprocess()\n",
    "featureReversedNeighborhoodDistanceIndex = linkprediction.ReversedNeighborhoodDistanceIndex(featureGraph)\n",
    "featureTotalNeighborsIndex = linkprediction.TotalNeighborsIndex(featureGraph)\n",
    "featureNeighborsMeasureIndex = linkprediction.NeighborsMeasureIndex(featureGraph)\n",
    "featureSameCommunityIndex = linkprediction.SameCommunityIndex(featureGraph)\n",
    "featureAdjustedRandIndex = linkprediction.AdjustedRandIndex(featureGraph)\n",
    "featureResourceAllocationIndex = linkprediction.ResourceAllocationIndex(featureGraph)\n",
    "\n",
    "katzIndex = linkprediction.KatzIndex(trainingGraph, 5, 0.005)\n",
    "commonNeighborsIndex = linkprediction.CommonNeighborsIndex(trainingGraph)\n",
    "jaccardIndex = linkprediction.JaccardIndex(trainingGraph)\n",
    "preferentialAttachmentIndex = linkprediction.PreferentialAttachmentIndex(trainingGraph)\n",
    "adamicAdarIndex = linkprediction.AdamicAdarIndex(trainingGraph)\n",
    "uDegreeIndex = linkprediction.UDegreeIndex(trainingGraph)\n",
    "vDegreeIndex = linkprediction.VDegreeIndex(trainingGraph)\n",
    "algebraicDistanceIndex = linkprediction.AlgebraicDistanceIndex(trainingGraph, 5, 15)\n",
    "algebraicDistanceIndex.preprocess()\n",
    "reversedNeighborhoodDistanceIndex = linkprediction.ReversedNeighborhoodDistanceIndex(trainingGraph)\n",
    "totalNeighborsIndex = linkprediction.TotalNeighborsIndex(trainingGraph)\n",
    "neighborsMeasureIndex = linkprediction.NeighborsMeasureIndex(trainingGraph)\n",
    "sameCommunityIndex = linkprediction.SameCommunityIndex(trainingGraph)\n",
    "adjustedRandIndex = linkprediction.AdjustedRandIndex(trainingGraph)\n",
    "resourceAllocationIndex = linkprediction.ResourceAllocationIndex(trainingGraph)"
   ]
  },
  {
   "cell_type": "code",
   "execution_count": 712,
   "metadata": {
    "collapsed": true
   },
   "outputs": [],
   "source": [
    "featureLinkPredictors = (featureCommonNeighborsIndex, featureJaccardIndex, featureAdamicAdarIndex, featurePreferentialAttachmentIndex, featureUDegreeIndex, featureVDegreeIndex, featureReversedNeighborhoodDistanceIndex, featureAlgebraicDistanceIndex, featureTotalNeighborsIndex, featureNeighborsMeasureIndex, featureSameCommunityIndex, featureResourceAllocationIndex, featureAdjustedRandIndex)\n",
    "linkPredictors = (commonNeighborsIndex, jaccardIndex, adamicAdarIndex, preferentialAttachmentIndex, uDegreeIndex, vDegreeIndex, reversedNeighborhoodDistanceIndex, algebraicDistanceIndex, totalNeighborsIndex, neighborsMeasureIndex, sameCommunityIndex, resourceAllocationIndex, adjustedRandIndex)"
   ]
  },
  {
   "cell_type": "code",
   "execution_count": 713,
   "metadata": {
    "collapsed": false
   },
   "outputs": [
    {
     "data": {
      "text/plain": [
       "25000"
      ]
     },
     "execution_count": 713,
     "metadata": {},
     "output_type": "execute_result"
    }
   ],
   "source": [
    "# Positives\n",
    "featureGraphEdges = featureGraph.edges()\n",
    "deltaFeatureTrainGraph = Graph(trainingGraph)\n",
    "for e in featureGraphEdges:\n",
    "    deltaFeatureTrainGraph.removeEdge(e[0], e[1])\n",
    "deltaTrainEdges = deltaFeatureTrainGraph.edges()\n",
    "positives = deltaTrainEdges\n",
    "len(positives)"
   ]
  },
  {
   "cell_type": "code",
   "execution_count": 714,
   "metadata": {
    "collapsed": false
   },
   "outputs": [
    {
     "data": {
      "text/plain": [
       "25000"
      ]
     },
     "execution_count": 714,
     "metadata": {},
     "output_type": "execute_result"
    }
   ],
   "source": [
    "# Negatives: Drawn at random\n",
    "negatives = set()\n",
    "while len(negatives) < 25000:\n",
    "    r1 = trainingGraph.randomNode()\n",
    "    r2 = trainingGraph.randomNode()\n",
    "    if not trainingGraph.hasEdge(r1, r2):\n",
    "        negatives.add((r1, r2) if r1 < r2 else (r2, r1))\n",
    "negatives = list(negatives)\n",
    "len(negatives)"
   ]
  },
  {
   "cell_type": "code",
   "execution_count": 715,
   "metadata": {
    "collapsed": false
   },
   "outputs": [
    {
     "data": {
      "text/plain": [
       "25000"
      ]
     },
     "execution_count": 715,
     "metadata": {},
     "output_type": "execute_result"
    }
   ],
   "source": [
    "# Negatives: Drawn at 2-hop distance\n",
    "negatives = []\n",
    "# Just enough so that we can extract 25k negatives\n",
    "twoHops = linkprediction.MissingLinksFinder(featureGraph).findRandomly(2, 50000)\n",
    "i = 0\n",
    "while (len(negatives) < 25000):\n",
    "    e = twoHops[i]\n",
    "    if not trainingGraph.hasEdge(e[0], e[1]):\n",
    "        negatives.append(e)\n",
    "    i += 1\n",
    "len(negatives)"
   ]
  },
  {
   "cell_type": "code",
   "execution_count": 716,
   "metadata": {
    "collapsed": false
   },
   "outputs": [
    {
     "name": "stdout",
     "output_type": "stream",
     "text": [
      "Found 50000 training pairs\n"
     ]
    }
   ],
   "source": [
    "nodePairsTrain = negatives + positives\n",
    "nodePairsTrain.sort()\n",
    "print(\"Found\", len(nodePairsTrain), \"training pairs\")"
   ]
  },
  {
   "cell_type": "code",
   "execution_count": 717,
   "metadata": {
    "collapsed": false
   },
   "outputs": [
    {
     "name": "stdout",
     "output_type": "stream",
     "text": [
      "Found 971158 testing pairs\n"
     ]
    }
   ],
   "source": [
    "nodePairsTest = linkprediction.MissingLinksFinder(trainingGraph).findAll(2)\n",
    "print(\"Found\", len(nodePairsTest), \"testing pairs\")"
   ]
  },
  {
   "cell_type": "code",
   "execution_count": 718,
   "metadata": {
    "collapsed": true
   },
   "outputs": [],
   "source": [
    "labelTrain = linkprediction.getClasses(nodePairsTrain, trainingGraph)\n",
    "featureTrain = linkprediction.getSamples(nodePairsTrain, *featureLinkPredictors)"
   ]
  },
  {
   "cell_type": "code",
   "execution_count": 719,
   "metadata": {
    "collapsed": false
   },
   "outputs": [
    {
     "name": "stdout",
     "output_type": "stream",
     "text": [
      "971158 / 7549 positive instances in test\n"
     ]
    }
   ],
   "source": [
    "labelTest = linkprediction.getClasses(nodePairsTest, testGraph)\n",
    "featureTest = linkprediction.getSamples(nodePairsTest, *linkPredictors)\n",
    "print(len(labelTest), \"/\", sum(labelTest), \"positive instances in test\")"
   ]
  },
  {
   "cell_type": "code",
   "execution_count": 720,
   "metadata": {
    "collapsed": false
   },
   "outputs": [],
   "source": [
    "i = 0\n",
    "j = 0\n",
    "for x in featureTrain:\n",
    "    j = 0\n",
    "    for y in x:\n",
    "        if isnan(y):\n",
    "            print(i, j)\n",
    "        j += 1\n",
    "    i += 1"
   ]
  },
  {
   "cell_type": "code",
   "execution_count": 721,
   "metadata": {
    "collapsed": false
   },
   "outputs": [
    {
     "data": {
      "text/plain": [
       "BaggingClassifier(base_estimator=DecisionTreeClassifier(class_weight=None, criterion='gini', max_depth=None,\n",
       "            max_features=None, max_leaf_nodes=None, min_samples_leaf=1,\n",
       "            min_samples_split=2, min_weight_fraction_leaf=0.0,\n",
       "            random_state=None, splitter='best'),\n",
       "         bootstrap=True, bootstrap_features=False, max_features=0.2,\n",
       "         max_samples=1.0, n_estimators=10, n_jobs=-1, oob_score=False,\n",
       "         random_state=None, verbose=0)"
      ]
     },
     "execution_count": 721,
     "metadata": {},
     "output_type": "execute_result"
    }
   ],
   "source": [
    "dtc = ensemble.BaggingClassifier(tree.DecisionTreeClassifier(), max_features=0.2, n_jobs=-1)\n",
    "#dtc = ensemble.AdaBoostClassifier()\n",
    "dtc.fit(featureTrain, labelTrain)"
   ]
  },
  {
   "cell_type": "code",
   "execution_count": 722,
   "metadata": {
    "collapsed": true
   },
   "outputs": [],
   "source": [
    "supPreds = dtc.predict_proba(featureTest)\n",
    "predLabelTest = [pred[1] for pred in supPreds]"
   ]
  },
  {
   "cell_type": "code",
   "execution_count": 725,
   "metadata": {
    "collapsed": false
   },
   "outputs": [
    {
     "data": {
      "text/plain": [
       "<matplotlib.legend.Legend at 0x7f1e5693ee48>"
      ]
     },
     "execution_count": 725,
     "metadata": {},
     "output_type": "execute_result"
    },
    {
     "data": {
      "image/png": "[encoded data removed]",
      "text/plain": [
       "<matplotlib.figure.Figure at 0x7f1e50c10940>"
      ]
     },
     "metadata": {},
     "output_type": "display_data"
    }
   ],
   "source": [
    "fpr, tpr, thresholds = metrics.roc_curve(labelTest, predLabelTest)\n",
    "plt.suptitle(\"J48 (CN + AA)\", fontsize=14, fontweight=\"bold\")\n",
    "plt.xticks([z / 10 for z in range(11)])\n",
    "plt.yticks([z / 10 for z in range(11)])\n",
    "plt.xlabel(\"False positive rate\")\n",
    "plt.ylabel(\"True positive rate\")\n",
    "plt.axis([0, 1, 0, 1])\n",
    "j48, = plt.plot(fpr, tpr, label=\"J48\")\n",
    "plt.plot([0, 1], [0, 1], ls='--')\n",
    "plt.legend(handles=[j48], loc=4)"
   ]
  },
  {
   "cell_type": "code",
   "execution_count": 724,
   "metadata": {
    "collapsed": false
   },
   "outputs": [
    {
     "data": {
      "text/plain": [
       "0.88667165354624133"
      ]
     },
     "execution_count": 724,
     "metadata": {},
     "output_type": "execute_result"
    }
   ],
   "source": [
    "metrics.roc_auc_score(labelTest, predLabelTest)"
   ]
  },
  {
   "cell_type": "code",
   "execution_count": null,
   "metadata": {
    "collapsed": true
   },
   "outputs": [],
   "source": []
  }
 ],
 "metadata": {
  "kernelspec": {
   "display_name": "Python 3",
   "language": "python",
   "name": "python3"
  },
  "language_info": {
   "codemirror_mode": {
    "name": "ipython",
    "version": 3
   },
   "file_extension": ".py",
   "mimetype": "text/x-python",
   "name": "python",
   "nbconvert_exporter": "python",
   "pygments_lexer": "ipython3",
   "version": "3.4.0"
  }
 },
 "nbformat": 4,
 "nbformat_minor": 0
}

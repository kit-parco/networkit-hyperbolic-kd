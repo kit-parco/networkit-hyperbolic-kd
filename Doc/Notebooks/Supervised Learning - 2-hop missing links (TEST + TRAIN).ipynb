{
 "cells": [
  {
   "cell_type": "code",
   "execution_count": 11,
   "metadata": {
    "collapsed": false
   },
   "outputs": [],
   "source": [
    "from networkit import *\n",
    "%matplotlib inline\n",
    "import matplotlib.pyplot as plt\n",
    "import time\n",
    "from sklearn import *\n",
    "import numpy as np\n",
    "import random\n",
    "from cython import *"
   ]
  },
  {
   "cell_type": "code",
   "execution_count": 12,
   "metadata": {
    "collapsed": false
   },
   "outputs": [
    {
     "name": "stdout",
     "output_type": "stream",
     "text": [
      "/home/xza/Thesis/NetworKit-Esders\n"
     ]
    }
   ],
   "source": [
    "cd ~/Thesis/NetworKit-Esders"
   ]
  },
  {
   "cell_type": "code",
   "execution_count": 13,
   "metadata": {
    "collapsed": true
   },
   "outputs": [],
   "source": [
    "def drawROC(indexName, predictions):\n",
    "    X, Y = roc.getCurve(predictions)\n",
    "    plt.suptitle(indexName, fontsize=14, fontweight=\"bold\")\n",
    "    plt.xticks([z / 10 for z in range(11)])\n",
    "    plt.yticks([z / 10 for z in range(11)])\n",
    "    plt.xlabel(\"False positive rate\")\n",
    "    plt.ylabel(\"True positive rate\")\n",
    "    plt.axis([0, 1, 0, 1])\n",
    "    curve, = plt.plot(X, Y, label=indexName)\n",
    "    plt.plot([0, 1], [0, 1], ls='--')\n",
    "    plt.legend(handles=[curve], loc=4)\n",
    "def drawPR(indexName, predictions):\n",
    "    X, Y = pr.getCurve(predictions)\n",
    "    plt.suptitle(indexName, fontsize=14, fontweight=\"bold\")\n",
    "    plt.xticks([z / 10 for z in range(11)])\n",
    "    plt.yticks([z / 10 for z in range(11)])\n",
    "    plt.xlabel(\"Recall\")\n",
    "    plt.ylabel(\"Precision\")\n",
    "    plt.axis([0, 1, 0, 1])\n",
    "    curve, = plt.plot(X, Y, label=indexName)\n",
    "    plt.legend(handles=[curve])\n",
    "def drawROCs(supTitle, **args):\n",
    "    predictions = args[\"predictions\"]\n",
    "    indexNames = args[\"indexNames\"]\n",
    "    plt.suptitle(supTitle, fontsize=14, fontweight=\"bold\")\n",
    "    plt.xticks([z / 10 for z in range(11)])\n",
    "    plt.yticks([z / 10 for z in range(11)])\n",
    "    plt.xlabel(\"False positive rate\")\n",
    "    plt.ylabel(\"True positive rate\")\n",
    "    plt.axis([0, 1, 0, 1])\n",
    "    plt.plot([0, 1], [0, 1], '#aaaaaa', ls='--')\n",
    "    handles = []\n",
    "    for i in range(0, len(indexNames)):\n",
    "        X, Y = roc.getCurve(predictions[i])\n",
    "        curve, = plt.plot(X, Y, label=indexNames[i])\n",
    "        handles.append(curve)\n",
    "    plt.legend(handles=handles, loc=4, fontsize=10)"
   ]
  },
  {
   "cell_type": "code",
   "execution_count": 14,
   "metadata": {
    "collapsed": true
   },
   "outputs": [],
   "source": [
    "#testGraph, trainingGraph = linkprediction.readGraph(\"input/out.facebook-wosn-links\", 0.1)\n",
    "testGraph = readGraph(\"input/CA-CondMat_tab-sep.edgelist\", Format.EdgeListTabOne)"
   ]
  },
  {
   "cell_type": "code",
   "execution_count": 15,
   "metadata": {
    "collapsed": true
   },
   "outputs": [],
   "source": [
    "roc = linkprediction.ROCMetric(testGraph)\n",
    "pr = linkprediction.PrecisionRecallMetric(testGraph)"
   ]
  },
  {
   "cell_type": "markdown",
   "metadata": {},
   "source": [
    "Wir wählen jetzt x% der Kanten als Trainings-Set."
   ]
  },
  {
   "cell_type": "code",
   "execution_count": 16,
   "metadata": {
    "collapsed": true
   },
   "outputs": [],
   "source": [
    "trainingGraph = linkprediction.TrainingGraphSampler.byPercentage(testGraph, 0.9)"
   ]
  },
  {
   "cell_type": "code",
   "execution_count": 17,
   "metadata": {
    "collapsed": false
   },
   "outputs": [],
   "source": [
    "featureGraph = linkprediction.TrainingGraphSampler.byPercentage(trainingGraph, 0.9)"
   ]
  },
  {
   "cell_type": "code",
   "execution_count": 18,
   "metadata": {
    "collapsed": false
   },
   "outputs": [],
   "source": [
    "nodePairsTest = linkprediction.MissingLinksFinder(trainingGraph).findAll(2)\n",
    "nodePairsTrain = linkprediction.MissingLinksFinder(featureGraph).findAll(2)"
   ]
  },
  {
   "cell_type": "code",
   "execution_count": 21,
   "metadata": {
    "collapsed": false
   },
   "outputs": [],
   "source": [
    "featureKatzIndex = linkprediction.KatzIndex(featureGraph, 5, 0.005)\n",
    "featureCommonNeighborsIndex = linkprediction.CommonNeighborsIndex(featureGraph)\n",
    "featureJaccardIndex = linkprediction.JaccardIndex(featureGraph)\n",
    "featurePreferentialAttachmentIndex = linkprediction.PreferentialAttachmentIndex(featureGraph)\n",
    "featureAdamicAdarIndex = linkprediction.AdamicAdarIndex(featureGraph)\n",
    "featureUDegreeIndex = linkprediction.UDegreeIndex(featureGraph)\n",
    "featureVDegreeIndex = linkprediction.VDegreeIndex(featureGraph)\n",
    "featureAlgebraicDistanceIndex = linkprediction.AlgebraicDistanceIndex(featureGraph, 5, 10)\n",
    "featureAlgebraicDistanceIndex.preprocess()\n",
    "featureReversedNeighborhoodDistanceIndex = linkprediction.ReversedNeighborhoodDistanceIndex(featureGraph)\n",
    "featureTotalNeighborsIndex = linkprediction.TotalNeighborsIndex(featureGraph)\n",
    "featureNeighborsMeasureIndex = linkprediction.NeighborsMeasureIndex(featureGraph)\n",
    "featureSameCommunityIndex = linkprediction.SameCommunityIndex(featureGraph)\n",
    "featureAdjustedRandIndex = linkprediction.AdjustedRandIndex(featureGraph)\n",
    "featureResourceAllocationIndex = linkprediction.ResourceAllocationIndex(featureGraph)\n",
    "\n",
    "katzIndex = linkprediction.KatzIndex(trainingGraph, 5, 0.005)\n",
    "commonNeighborsIndex = linkprediction.CommonNeighborsIndex(trainingGraph)\n",
    "jaccardIndex = linkprediction.JaccardIndex(trainingGraph)\n",
    "preferentialAttachmentIndex = linkprediction.PreferentialAttachmentIndex(trainingGraph)\n",
    "adamicAdarIndex = linkprediction.AdamicAdarIndex(trainingGraph)\n",
    "uDegreeIndex = linkprediction.UDegreeIndex(trainingGraph)\n",
    "vDegreeIndex = linkprediction.VDegreeIndex(trainingGraph)\n",
    "algebraicDistanceIndex = linkprediction.AlgebraicDistanceIndex(trainingGraph, 5, 10)\n",
    "algebraicDistanceIndex.preprocess()\n",
    "reversedNeighborhoodDistanceIndex = linkprediction.ReversedNeighborhoodDistanceIndex(trainingGraph)\n",
    "totalNeighborsIndex = linkprediction.TotalNeighborsIndex(trainingGraph)\n",
    "neighborsMeasureIndex = linkprediction.NeighborsMeasureIndex(trainingGraph)\n",
    "sameCommunityIndex = linkprediction.SameCommunityIndex(trainingGraph)\n",
    "adjustedRandIndex = linkprediction.AdjustedRandIndex(trainingGraph)\n",
    "resourceAllocationIndex = linkprediction.ResourceAllocationIndex(trainingGraph)"
   ]
  },
  {
   "cell_type": "code",
   "execution_count": 22,
   "metadata": {
    "collapsed": false
   },
   "outputs": [],
   "source": [
    "featureLinkPredictors = (featureCommonNeighborsIndex, featureJaccardIndex, featureAdamicAdarIndex, featurePreferentialAttachmentIndex, featureUDegreeIndex, featureVDegreeIndex, featureAlgebraicDistanceIndex, featureReversedNeighborhoodDistanceIndex, featureTotalNeighborsIndex, featureNeighborsMeasureIndex, featureSameCommunityIndex, featureResourceAllocationIndex, featureAdjustedRandIndex)\n",
    "linkPredictors = (commonNeighborsIndex, jaccardIndex, adamicAdarIndex, preferentialAttachmentIndex, uDegreeIndex, vDegreeIndex, algebraicDistanceIndex, reversedNeighborhoodDistanceIndex, totalNeighborsIndex, neighborsMeasureIndex, sameCommunityIndex, resourceAllocationIndex, adjustedRandIndex)"
   ]
  },
  {
   "cell_type": "code",
   "execution_count": 23,
   "metadata": {
    "collapsed": true
   },
   "outputs": [],
   "source": [
    "labelTrain = linkprediction.getClasses(nodePairsTrain, trainingGraph)\n",
    "featureTrain = linkprediction.getSamples(nodePairsTrain, *featureLinkPredictors)\n",
    "\n",
    "labelTest = linkprediction.getClasses(nodePairsTest, testGraph)\n",
    "featureTest = linkprediction.getSamples(nodePairsTest, *linkPredictors)"
   ]
  },
  {
   "cell_type": "code",
   "execution_count": 34,
   "metadata": {
    "collapsed": false
   },
   "outputs": [],
   "source": [
    "#dtc = ensemble.BaggingClassifier(n_estimators=25, max_features=0.2, n_jobs=-1)\n",
    "dtc = ensemble.AdaBoostClassifier(n_estimators=100)\n",
    "#dtc = ensemble.RandomForestClassifier()"
   ]
  },
  {
   "cell_type": "code",
   "execution_count": 35,
   "metadata": {
    "collapsed": false
   },
   "outputs": [
    {
     "data": {
      "text/plain": [
       "AdaBoostClassifier(algorithm='SAMME.R', base_estimator=None,\n",
       "          learning_rate=1.0, n_estimators=100, random_state=None)"
      ]
     },
     "execution_count": 35,
     "metadata": {},
     "output_type": "execute_result"
    }
   ],
   "source": [
    "dtc.fit(featureTrain, labelTrain)"
   ]
  },
  {
   "cell_type": "code",
   "execution_count": 27,
   "metadata": {
    "collapsed": false
   },
   "outputs": [],
   "source": [
    "supPreds = dtc.predict_proba(featureTest)\n",
    "predLabelTest = [pred[1] for pred in supPreds]"
   ]
  },
  {
   "cell_type": "code",
   "execution_count": 28,
   "metadata": {
    "collapsed": true
   },
   "outputs": [],
   "source": [
    "#predLabelTest = dtc.predict(featureTest)"
   ]
  },
  {
   "cell_type": "code",
   "execution_count": 29,
   "metadata": {
    "collapsed": false
   },
   "outputs": [
    {
     "data": {
      "text/plain": [
       "<matplotlib.legend.Legend at 0x7fa526de7160>"
      ]
     },
     "execution_count": 29,
     "metadata": {},
     "output_type": "execute_result"
    },
    {
     "data": {
      "image/png": "[encoded data removed]",
      "text/plain": [
       "<matplotlib.figure.Figure at 0x7fa4ef6b24e0>"
      ]
     },
     "metadata": {},
     "output_type": "display_data"
    }
   ],
   "source": [
    "fpr, tpr, thresholds = metrics.roc_curve(labelTest, predLabelTest)\n",
    "plt.suptitle(\"J48 (CN + AA)\", fontsize=14, fontweight=\"bold\")\n",
    "plt.xticks([z / 10 for z in range(11)])\n",
    "plt.yticks([z / 10 for z in range(11)])\n",
    "plt.xlabel(\"False positive rate\")\n",
    "plt.ylabel(\"True positive rate\")\n",
    "plt.axis([0, 1, 0, 1])\n",
    "j48, = plt.plot(fpr, tpr, label=\"J48\")\n",
    "plt.plot([0, 1], [0, 1], ls='--')\n",
    "plt.legend(handles=[j48], loc=4)"
   ]
  },
  {
   "cell_type": "code",
   "execution_count": 30,
   "metadata": {
    "collapsed": false
   },
   "outputs": [
    {
     "data": {
      "text/plain": [
       "0.94499794427612782"
      ]
     },
     "execution_count": 30,
     "metadata": {},
     "output_type": "execute_result"
    }
   ],
   "source": [
    "metrics.roc_auc_score(labelTest, predLabelTest)"
   ]
  },
  {
   "cell_type": "code",
   "execution_count": 31,
   "metadata": {
    "collapsed": false
   },
   "outputs": [
    {
     "name": "stdout",
     "output_type": "stream",
     "text": [
      "1.268984079360962 seconds\n"
     ]
    }
   ],
   "source": [
    "startTime = time.time()\n",
    "predictions = jaccardIndex.runOnParallel(nodePairsTest)\n",
    "print(\"%s seconds\" % (time.time() - startTime))"
   ]
  },
  {
   "cell_type": "code",
   "execution_count": 32,
   "metadata": {
    "collapsed": false
   },
   "outputs": [
    {
     "data": {
      "image/png": "[encoded data removed]",
      "text/plain": [
       "<matplotlib.figure.Figure at 0x7fa5321aa208>"
      ]
     },
     "metadata": {},
     "output_type": "display_data"
    }
   ],
   "source": [
    "drawROC(\"Jaccard Index\", predictions)"
   ]
  },
  {
   "cell_type": "code",
   "execution_count": 33,
   "metadata": {
    "collapsed": false
   },
   "outputs": [
    {
     "data": {
      "text/plain": [
       "0.8927751293002756"
      ]
     },
     "execution_count": 33,
     "metadata": {},
     "output_type": "execute_result"
    }
   ],
   "source": [
    "roc.getAreaUnderCurve()"
   ]
  },
  {
   "cell_type": "code",
   "execution_count": null,
   "metadata": {
    "collapsed": true
   },
   "outputs": [],
   "source": []
  }
 ],
 "metadata": {
  "kernelspec": {
   "display_name": "Python 3",
   "language": "python",
   "name": "python3"
  },
  "language_info": {
   "codemirror_mode": {
    "name": "ipython",
    "version": 3
   },
   "file_extension": ".py",
   "mimetype": "text/x-python",
   "name": "python",
   "nbconvert_exporter": "python",
   "pygments_lexer": "ipython3",
   "version": "3.4.0"
  }
 },
 "nbformat": 4,
 "nbformat_minor": 0
}

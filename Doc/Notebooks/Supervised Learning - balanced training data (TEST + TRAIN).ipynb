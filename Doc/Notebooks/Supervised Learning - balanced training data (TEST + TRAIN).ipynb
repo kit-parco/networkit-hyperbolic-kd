{
 "cells": [
  {
   "cell_type": "code",
   "execution_count": 1,
   "metadata": {
    "collapsed": false,
    "scrolled": true
   },
   "outputs": [
    {
     "name": "stdout",
     "output_type": "stream",
     "text": [
      "WARNING: module 'seaborn' is not installed, plotting functionality will be limited\n",
      "No module named 'seaborn'\n"
     ]
    }
   ],
   "source": [
    "from networkit import *\n",
    "%matplotlib inline\n",
    "import matplotlib.pyplot as plt\n",
    "import time\n",
    "from sklearn import *\n",
    "import numpy as np\n",
    "import random\n",
    "from cython import *\n",
    "from math import isnan"
   ]
  },
  {
   "cell_type": "code",
   "execution_count": 2,
   "metadata": {
    "collapsed": false,
    "scrolled": true
   },
   "outputs": [
    {
     "name": "stdout",
     "output_type": "stream",
     "text": [
      "/home/xza/Thesis/NetworKit-Esders\n"
     ]
    }
   ],
   "source": [
    "cd ~/Thesis/NetworKit-Esders"
   ]
  },
  {
   "cell_type": "code",
   "execution_count": 3,
   "metadata": {
    "collapsed": true,
    "scrolled": true
   },
   "outputs": [],
   "source": [
    "def drawROC(indexName, predictions):\n",
    "    X, Y = roc.getCurve(predictions)\n",
    "    plt.suptitle(indexName, fontsize=14, fontweight=\"bold\")\n",
    "    plt.xticks([z / 10 for z in range(11)])\n",
    "    plt.yticks([z / 10 for z in range(11)])\n",
    "    plt.xlabel(\"False positive rate\")\n",
    "    plt.ylabel(\"True positive rate\")\n",
    "    plt.axis([0, 1, 0, 1])\n",
    "    curve, = plt.plot(X, Y, label=indexName)\n",
    "    plt.plot([0, 1], [0, 1], ls='--')\n",
    "    plt.legend(handles=[curve], loc=4)\n",
    "def drawPR(indexName, predictions):\n",
    "    X, Y = pr.getCurve(predictions)\n",
    "    plt.suptitle(indexName, fontsize=14, fontweight=\"bold\")\n",
    "    plt.xticks([z / 10 for z in range(11)])\n",
    "    plt.yticks([z / 10 for z in range(11)])\n",
    "    plt.xlabel(\"Recall\")\n",
    "    plt.ylabel(\"Precision\")\n",
    "    plt.axis([0, 1, 0, 1])\n",
    "    curve, = plt.plot(X, Y, label=indexName)\n",
    "    plt.legend(handles=[curve])\n",
    "def drawROCs(supTitle, **args):\n",
    "    predictions = args[\"predictions\"]\n",
    "    indexNames = args[\"indexNames\"]\n",
    "    plt.suptitle(supTitle, fontsize=14, fontweight=\"bold\")\n",
    "    plt.xticks([z / 10 for z in range(11)])\n",
    "    plt.yticks([z / 10 for z in range(11)])\n",
    "    plt.xlabel(\"False positive rate\")\n",
    "    plt.ylabel(\"True positive rate\")\n",
    "    plt.axis([0, 1, 0, 1])\n",
    "    plt.plot([0, 1], [0, 1], '#aaaaaa', ls='--')\n",
    "    handles = []\n",
    "    for i in range(0, len(indexNames)):\n",
    "        X, Y = roc.getCurve(predictions[i])\n",
    "        curve, = plt.plot(X, Y, label=indexNames[i])\n",
    "        handles.append(curve)\n",
    "    plt.legend(handles=handles, loc=4, fontsize=10)"
   ]
  },
  {
   "cell_type": "code",
   "execution_count": 4,
   "metadata": {
    "collapsed": false,
    "scrolled": true
   },
   "outputs": [
    {
     "data": {
      "text/plain": [
       "93497"
      ]
     },
     "execution_count": 4,
     "metadata": {},
     "output_type": "execute_result"
    }
   ],
   "source": [
    "#testGraph, trainingGraph = linkprediction.readGraph(\"input/out.youtube-u-growth\", 0.01)\n",
    "testGraph = readGraph(\"input/CA-CondMat_tab-sep.edgelist\", Format.EdgeListTabOne)\n",
    "testGraph.numberOfEdges()"
   ]
  },
  {
   "cell_type": "code",
   "execution_count": 5,
   "metadata": {
    "collapsed": true,
    "scrolled": true
   },
   "outputs": [],
   "source": [
    "roc = linkprediction.ROCMetric(testGraph)\n",
    "pr = linkprediction.PrecisionRecallMetric(testGraph)"
   ]
  },
  {
   "cell_type": "code",
   "execution_count": 6,
   "metadata": {
    "collapsed": false,
    "scrolled": true
   },
   "outputs": [
    {
     "data": {
      "text/plain": [
       "84147"
      ]
     },
     "execution_count": 6,
     "metadata": {},
     "output_type": "execute_result"
    }
   ],
   "source": [
    "trainingGraph = linkprediction.TrainingGraphSampler.byPercentage(testGraph, 0.9)\n",
    "trainingGraph.numberOfEdges()"
   ]
  },
  {
   "cell_type": "code",
   "execution_count": 7,
   "metadata": {
    "collapsed": false,
    "scrolled": true
   },
   "outputs": [
    {
     "data": {
      "text/plain": [
       "59147"
      ]
     },
     "execution_count": 7,
     "metadata": {},
     "output_type": "execute_result"
    }
   ],
   "source": [
    "featureGraph = linkprediction.TrainingGraphSampler.byCount(trainingGraph, trainingGraph.numberOfEdges() - 25000)\n",
    "featureGraph.numberOfEdges()"
   ]
  },
  {
   "cell_type": "code",
   "execution_count": 8,
   "metadata": {
    "collapsed": false,
    "scrolled": true
   },
   "outputs": [],
   "source": [
    "featureKatzIndex = linkprediction.KatzIndex(featureGraph, 5, 0.005)\n",
    "featureCommonNeighborsIndex = linkprediction.CommonNeighborsIndex(featureGraph)\n",
    "featureJaccardIndex = linkprediction.JaccardIndex(featureGraph)\n",
    "featurePreferentialAttachmentIndex = linkprediction.PreferentialAttachmentIndex(featureGraph)\n",
    "featureAdamicAdarIndex = linkprediction.AdamicAdarIndex(featureGraph)\n",
    "featureUDegreeIndex = linkprediction.UDegreeIndex(featureGraph)\n",
    "featureVDegreeIndex = linkprediction.VDegreeIndex(featureGraph)\n",
    "featureAlgebraicDistanceIndex = linkprediction.AlgebraicDistanceIndex(featureGraph, 5, 15)\n",
    "featureAlgebraicDistanceIndex.preprocess()\n",
    "featureNeighborhoodDistanceIndex = linkprediction.NeighborhoodDistanceIndex(featureGraph)\n",
    "featureTotalNeighborsIndex = linkprediction.TotalNeighborsIndex(featureGraph)\n",
    "featureNeighborsMeasureIndex = linkprediction.NeighborsMeasureIndex(featureGraph)\n",
    "featureSameCommunityIndex = linkprediction.SameCommunityIndex(featureGraph)\n",
    "featureAdjustedRandIndex = linkprediction.AdjustedRandIndex(featureGraph)\n",
    "featureResourceAllocationIndex = linkprediction.ResourceAllocationIndex(featureGraph)\n",
    "\n",
    "katzIndex = linkprediction.KatzIndex(trainingGraph, 5, 0.005)\n",
    "commonNeighborsIndex = linkprediction.CommonNeighborsIndex(trainingGraph)\n",
    "jaccardIndex = linkprediction.JaccardIndex(trainingGraph)\n",
    "preferentialAttachmentIndex = linkprediction.PreferentialAttachmentIndex(trainingGraph)\n",
    "adamicAdarIndex = linkprediction.AdamicAdarIndex(trainingGraph)\n",
    "uDegreeIndex = linkprediction.UDegreeIndex(trainingGraph)\n",
    "vDegreeIndex = linkprediction.VDegreeIndex(trainingGraph)\n",
    "algebraicDistanceIndex = linkprediction.AlgebraicDistanceIndex(trainingGraph, 5, 15)\n",
    "algebraicDistanceIndex.preprocess()\n",
    "neighborhoodDistanceIndex = linkprediction.NeighborhoodDistanceIndex(trainingGraph)\n",
    "totalNeighborsIndex = linkprediction.TotalNeighborsIndex(trainingGraph)\n",
    "neighborsMeasureIndex = linkprediction.NeighborsMeasureIndex(trainingGraph)\n",
    "sameCommunityIndex = linkprediction.SameCommunityIndex(trainingGraph)\n",
    "adjustedRandIndex = linkprediction.AdjustedRandIndex(trainingGraph)\n",
    "resourceAllocationIndex = linkprediction.ResourceAllocationIndex(trainingGraph)"
   ]
  },
  {
   "cell_type": "code",
   "execution_count": 9,
   "metadata": {
    "collapsed": false,
    "scrolled": true
   },
   "outputs": [],
   "source": [
    "featureLinkPredictors = (featureCommonNeighborsIndex, featureJaccardIndex, featureAdamicAdarIndex, featurePreferentialAttachmentIndex, featureUDegreeIndex, featureVDegreeIndex, featureNeighborhoodDistanceIndex, featureAlgebraicDistanceIndex, featureTotalNeighborsIndex, featureNeighborsMeasureIndex, featureSameCommunityIndex, featureResourceAllocationIndex, featureAdjustedRandIndex)\n",
    "linkPredictors = (commonNeighborsIndex, jaccardIndex, adamicAdarIndex, preferentialAttachmentIndex, uDegreeIndex, vDegreeIndex, neighborhoodDistanceIndex, algebraicDistanceIndex, totalNeighborsIndex, neighborsMeasureIndex, sameCommunityIndex, resourceAllocationIndex, adjustedRandIndex)"
   ]
  },
  {
   "cell_type": "code",
   "execution_count": 10,
   "metadata": {
    "collapsed": false,
    "scrolled": true
   },
   "outputs": [],
   "source": [
    "nodePairsTest = linkprediction.MissingLinksFinder(trainingGraph).findAll(2)\n",
    "twoHopInFeature = linkprediction.MissingLinksFinder(featureGraph).findAll(2)"
   ]
  },
  {
   "cell_type": "code",
   "execution_count": 33,
   "metadata": {
    "collapsed": false,
    "scrolled": true
   },
   "outputs": [],
   "source": [
    "# Undersample the negatives from the randomly drawn 2-hop links in FEATURE, until len(pos) = len(neg)\n",
    "labels = linkprediction.getClasses(twoHopInFeature, trainingGraph)\n",
    "random.shuffle(twoHopInFeature)\n",
    "\n",
    "negativesNeeded = sum(labels)\n",
    "positives = []\n",
    "negatives = []\n",
    "i = 0\n",
    "j = 0\n",
    "num = len(twoHopInFeature)\n",
    "for i in range(0, num):\n",
    "    e = twoHopInFeature[i]\n",
    "    if (len(negatives) < negativesNeeded) and not (trainingGraph.hasEdge(e[0], e[1]) or trainingGraph.hasEdge(e[1], e[0])):\n",
    "        negatives.append(e)\n",
    "    elif trainingGraph.hasEdge(e[0], e[1]):\n",
    "        positives.append(e)\n",
    "nodePairsTrain = negatives + positives\n",
    "nodePairsTrain.sort()"
   ]
  },
  {
   "cell_type": "code",
   "execution_count": 34,
   "metadata": {
    "collapsed": false,
    "scrolled": true
   },
   "outputs": [],
   "source": [
    "#trainingGraphEdges = trainingGraph.edges()\n",
    "\n",
    "#deltaTrainingTestGraph = Graph(testGraph)\n",
    "#for x in trainingGraphEdges:\n",
    "#    deltaTrainingTestGraph.removeEdge(x[0], x[1])\n",
    "#deltaTestEdges = deltaTrainingTestGraph.edges()\n",
    "#len(deltaTestEdges)"
   ]
  },
  {
   "cell_type": "code",
   "execution_count": 35,
   "metadata": {
    "collapsed": false,
    "scrolled": true
   },
   "outputs": [],
   "source": [
    "#testPositives = deltaTestEdges\n",
    "#testNegatives = []\n",
    "#i = 0\n",
    "#while len(testNegatives) < len(testPositives):\n",
    "#    e = nodePairsTest[i]\n",
    "#    if not (testGraph.hasEdge(e[0], e[1]) or testGraph.hasEdge(e[1], e[0])):\n",
    "#        testNegatives.append(e)\n",
    "#    i += 1\n",
    "#nodePairsTest = testNegatives + testPositives\n",
    "#random.shuffle(nodePairsTrain)\n",
    "#len(nodePairsTest)"
   ]
  },
  {
   "cell_type": "code",
   "execution_count": 36,
   "metadata": {
    "collapsed": false,
    "scrolled": true
   },
   "outputs": [],
   "source": [
    "labelTrain = linkprediction.getClasses(nodePairsTrain, trainingGraph)\n",
    "featureTrain = linkprediction.getSamples(nodePairsTrain, *featureLinkPredictors)"
   ]
  },
  {
   "cell_type": "code",
   "execution_count": 28,
   "metadata": {
    "collapsed": true,
    "scrolled": true
   },
   "outputs": [],
   "source": [
    "labelTest = linkprediction.getClasses(nodePairsTest, testGraph)\n",
    "featureTest = linkprediction.getSamples(nodePairsTest, *linkPredictors)"
   ]
  },
  {
   "cell_type": "code",
   "execution_count": 29,
   "metadata": {
    "collapsed": false,
    "scrolled": true
   },
   "outputs": [],
   "source": [
    "i = 0\n",
    "j = 0\n",
    "for x in featureTrain:\n",
    "    j = 0\n",
    "    for y in x:\n",
    "        if isnan(y):\n",
    "            print(i, j)\n",
    "        j += 1\n",
    "    i += 1"
   ]
  },
  {
   "cell_type": "code",
   "execution_count": 30,
   "metadata": {
    "collapsed": false,
    "scrolled": true
   },
   "outputs": [
    {
     "data": {
      "text/plain": [
       "BaggingClassifier(base_estimator=DecisionTreeClassifier(class_weight=None, criterion='gini', max_depth=None,\n",
       "            max_features=None, max_leaf_nodes=None, min_samples_leaf=1,\n",
       "            min_samples_split=2, min_weight_fraction_leaf=0.0,\n",
       "            random_state=None, splitter='best'),\n",
       "         bootstrap=True, bootstrap_features=False, max_features=0.5,\n",
       "         max_samples=1.0, n_estimators=10, n_jobs=-1, oob_score=False,\n",
       "         random_state=None, verbose=0)"
      ]
     },
     "execution_count": 30,
     "metadata": {},
     "output_type": "execute_result"
    }
   ],
   "source": [
    "dtc = ensemble.BaggingClassifier(tree.DecisionTreeClassifier(), max_features=0.5, n_jobs=-1)\n",
    "#dtc = ensemble.AdaBoostClassifier()\n",
    "dtc.fit(featureTrain, labelTrain)"
   ]
  },
  {
   "cell_type": "code",
   "execution_count": 31,
   "metadata": {
    "collapsed": true,
    "scrolled": true
   },
   "outputs": [],
   "source": [
    "supPreds = dtc.predict_proba(featureTest)\n",
    "predLabelTest = [pred[1] for pred in supPreds]"
   ]
  },
  {
   "cell_type": "code",
   "execution_count": 32,
   "metadata": {
    "collapsed": false,
    "scrolled": true
   },
   "outputs": [
    {
     "data": {
      "text/plain": [
       "<matplotlib.legend.Legend at 0x7f91b310ac88>"
      ]
     },
     "execution_count": 32,
     "metadata": {},
     "output_type": "execute_result"
    },
    {
     "data": {
      "image/png": "[encoded data removed]",
      "text/plain": [
       "<matplotlib.figure.Figure at 0x7f91d0765978>"
      ]
     },
     "metadata": {},
     "output_type": "display_data"
    }
   ],
   "source": [
    "fpr, tpr, thresholds = metrics.roc_curve(labelTest, predLabelTest)\n",
    "plt.suptitle(\"J48 (CN + AA)\", fontsize=14, fontweight=\"bold\")\n",
    "plt.xticks([z / 10 for z in range(11)])\n",
    "plt.yticks([z / 10 for z in range(11)])\n",
    "plt.xlabel(\"False positive rate\")\n",
    "plt.ylabel(\"True positive rate\")\n",
    "plt.axis([0, 1, 0, 1])\n",
    "j48, = plt.plot(fpr, tpr, label=\"J48\")\n",
    "plt.plot([0, 1], [0, 1], ls='--')\n",
    "plt.legend(handles=[j48], loc=4)"
   ]
  },
  {
   "cell_type": "code",
   "execution_count": 23,
   "metadata": {
    "collapsed": false,
    "scrolled": true
   },
   "outputs": [
    {
     "data": {
      "text/plain": [
       "0.95752688518446061"
      ]
     },
     "execution_count": 23,
     "metadata": {},
     "output_type": "execute_result"
    }
   ],
   "source": [
    "metrics.roc_auc_score(labelTest, predLabelTest)"
   ]
  },
  {
   "cell_type": "code",
   "execution_count": 33,
   "metadata": {
    "collapsed": false,
    "scrolled": true
   },
   "outputs": [
    {
     "data": {
      "text/plain": [
       "300000"
      ]
     },
     "execution_count": 33,
     "metadata": {},
     "output_type": "execute_result"
    }
   ],
   "source": [
    "len(labelTest)"
   ]
  },
  {
   "cell_type": "code",
   "execution_count": 34,
   "metadata": {
    "collapsed": false,
    "scrolled": true
   },
   "outputs": [
    {
     "name": "stdout",
     "output_type": "stream",
     "text": [
      "4.976963996887207 seconds\n"
     ]
    }
   ],
   "source": [
    "startTime = time.time()\n",
    "predictions = commonNeighborsIndex.runOnParallel(nodePairsTest)\n",
    "print(\"%s seconds\" % (time.time() - startTime))"
   ]
  },
  {
   "cell_type": "code",
   "execution_count": 35,
   "metadata": {
    "collapsed": false,
    "scrolled": true
   },
   "outputs": [
    {
     "data": {
      "image/png": "[encoded data removed]",
      "text/plain": [
       "<matplotlib.figure.Figure at 0x7f582e62fb00>"
      ]
     },
     "metadata": {},
     "output_type": "display_data"
    }
   ],
   "source": [
    "drawROC(\"Common Neighbors Index\", predictions)"
   ]
  },
  {
   "cell_type": "code",
   "execution_count": 36,
   "metadata": {
    "collapsed": false,
    "scrolled": true
   },
   "outputs": [
    {
     "name": "stdout",
     "output_type": "stream",
     "text": [
      "10.22396969795227 seconds\n"
     ]
    }
   ],
   "source": [
    "startTime = time.time()\n",
    "predictions = jaccardIndex.runOnParallel(nodePairsTest)\n",
    "print(\"%s seconds\" % (time.time() - startTime))"
   ]
  },
  {
   "cell_type": "code",
   "execution_count": 37,
   "metadata": {
    "collapsed": false,
    "scrolled": true
   },
   "outputs": [
    {
     "data": {
      "image/png": "[encoded data removed]",
      "text/plain": [
       "<matplotlib.figure.Figure at 0x7f57c62e06d8>"
      ]
     },
     "metadata": {},
     "output_type": "display_data"
    }
   ],
   "source": [
    "drawROC(\"Jaccard Index\", predictions)"
   ]
  },
  {
   "cell_type": "code",
   "execution_count": 38,
   "metadata": {
    "collapsed": false,
    "scrolled": true
   },
   "outputs": [
    {
     "data": {
      "text/plain": [
       "0.6218713329578963"
      ]
     },
     "execution_count": 38,
     "metadata": {},
     "output_type": "execute_result"
    }
   ],
   "source": [
    "roc.getAreaUnderCurve()"
   ]
  },
  {
   "cell_type": "code",
   "execution_count": null,
   "metadata": {
    "collapsed": true,
    "scrolled": true
   },
   "outputs": [],
   "source": []
  }
 ],
 "metadata": {
  "kernelspec": {
   "display_name": "Python 3",
   "language": "python",
   "name": "python3"
  },
  "language_info": {
   "codemirror_mode": {
    "name": "ipython",
    "version": 3
   },
   "file_extension": ".py",
   "mimetype": "text/x-python",
   "name": "python",
   "nbconvert_exporter": "python",
   "pygments_lexer": "ipython3",
   "version": "3.4.0"
  }
 },
 "nbformat": 4,
 "nbformat_minor": 0
}

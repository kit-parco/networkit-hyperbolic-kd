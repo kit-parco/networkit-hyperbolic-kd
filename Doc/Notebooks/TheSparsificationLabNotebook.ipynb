{
 "metadata": {
  "name": "",
  "signature": "sha256:a2db66323216676b6047c47c24cfd41a6724cdf51138692b285e696dbe6d3520"
 },
 "nbformat": 3,
 "nbformat_minor": 0,
 "worksheets": [
  {
   "cells": [
    {
     "cell_type": "heading",
     "level": 1,
     "metadata": {},
     "source": [
      "The Sparsification Lab Notebook"
     ]
    },
    {
     "cell_type": "heading",
     "level": 4,
     "metadata": {},
     "source": [
      "Imports"
     ]
    },
    {
     "cell_type": "code",
     "collapsed": false,
     "input": [
      "from networkit import *\n",
      "import matplotlib.pyplot as plt\n",
      "import pandas as pd\n",
      "import seaborn as sns\n",
      "import numpy as np\n",
      "import pickle\n",
      "from scipy import stats"
     ],
     "language": "python",
     "metadata": {},
     "outputs": [
      {
       "output_type": "stream",
       "stream": "stdout",
       "text": [
        "Update to Python >=3.4 recommended - support for < 3.4 may be discontinued in the future\n"
       ]
      }
     ],
     "prompt_number": 1
    },
    {
     "cell_type": "code",
     "collapsed": false,
     "input": [
      "%matplotlib inline"
     ],
     "language": "python",
     "metadata": {},
     "outputs": [],
     "prompt_number": 2
    },
    {
     "cell_type": "heading",
     "level": 4,
     "metadata": {},
     "source": [
      "Helper Functions"
     ]
    },
    {
     "cell_type": "code",
     "collapsed": false,
     "input": [
      "loglevel = 0\n",
      "\n",
      "def info(message):\n",
      "    \"\"\"print status message \"\"\"\n",
      "    if loglevel >= 0:\n",
      "        print(message); sys.stdout.flush()\n",
      "        \n",
      "def debug(message):\n",
      "    \"\"\"print status message \"\"\"\n",
      "    if loglevel >= 1:\n",
      "        print(message); sys.stdout.flush()"
     ],
     "language": "python",
     "metadata": {},
     "outputs": [],
     "prompt_number": 3
    },
    {
     "cell_type": "code",
     "collapsed": false,
     "input": [
      "def calcEdgeScores(G, methods):\n",
      "    \"\"\" Calculates edge scores for given methods and returns a DataFrame \"\"\"\n",
      "    data = {}\n",
      "    for (methodName, (methodClass, kwargs)) in methods.items():\n",
      "        if \"G\" in kwargs:\n",
      "            kwargs[\"G\"] = G\n",
      "        debug(methodClass)\n",
      "        method = methodClass(**kwargs)\n",
      "        debug(\"calculating {0}{1}\".format(methodName, kwargs)); sys.stdout.flush()\n",
      "        data[methodName] = method.getAttribute(G)\n",
      "    return pd.DataFrame(data)"
     ],
     "language": "python",
     "metadata": {},
     "outputs": [],
     "prompt_number": 4
    },
    {
     "cell_type": "heading",
     "level": 4,
     "metadata": {},
     "source": [
      "Plotting Functions"
     ]
    },
    {
     "cell_type": "code",
     "collapsed": false,
     "input": [
      "def plotScoreCorrelations(attributeData, figsize=(8,8), method=\"spearman\"):\n",
      "    \"\"\" Draws a seaborn correlation matrix plot \"\"\"\n",
      "    cmap = sns.diverging_palette(220, 20, as_cmap=True)\n",
      "    f, ax = plt.subplots(figsize=figsize)\n",
      "    info(\"correlating\")\n",
      "    sns.corrplot(attributeData, cmap=cmap, method=method)\n",
      "    f.tight_layout()"
     ],
     "language": "python",
     "metadata": {},
     "outputs": [],
     "prompt_number": 5
    },
    {
     "cell_type": "code",
     "collapsed": false,
     "input": [
      "def plotScoreDistributions(G, methods, attributeData):\n",
      "    \"\"\" Scatterplots distribution of scores \"\"\"\n",
      "    for (methodName, _) in methods.items():\n",
      "        plt.figure(figsize=(6,2))\n",
      "        plt.xlim((0,G.numberOfEdges()))\n",
      "        plt.scatter(np.arange(0, G.numberOfEdges()), attributeData[methodName], s=0.1)\n",
      "        plt.xlabel(methodName)"
     ],
     "language": "python",
     "metadata": {},
     "outputs": [],
     "prompt_number": 6
    },
    {
     "cell_type": "code",
     "collapsed": false,
     "input": [
      "# I stole this code out of seaborn and hacked it\n",
      "\n",
      "def symmatplot(mat, p_mat=None, names=None, cmap=\"Greys\", cmap_range=None,\n",
      "               cbar=True, annot=True, diag_names=True, ax=None, **kwargs):\n",
      "    \"\"\"Plot a symmetric matrix with colormap and statistic values.\"\"\"\n",
      "    \n",
      "    def sig_stars(p):\n",
      "        \"\"\"Return a R-style significance string corresponding to p values.\"\"\"\n",
      "        if p < 0.001:\n",
      "            return \"***\"\n",
      "        elif p < 0.01:\n",
      "            return \"**\"\n",
      "        elif p < 0.05:\n",
      "            return \"*\"\n",
      "        elif p < 0.1:\n",
      "            return \".\"\n",
      "        return \"\"\n",
      "    \n",
      "    if ax is None:\n",
      "        ax = plt.gca()\n",
      "\n",
      "    nvars = len(mat)\n",
      "    if isinstance(mat, pd.DataFrame):\n",
      "        plotmat = mat.values.copy()\n",
      "        mat = mat.values\n",
      "    else:\n",
      "        plotmat = mat.copy()\n",
      "    plotmat[np.triu_indices(nvars)] = np.nan\n",
      "\n",
      "    if cmap_range is None:\n",
      "        vmax = np.nanmax(plotmat) * 1.15\n",
      "        vmin = np.nanmin(plotmat) * 1.15\n",
      "    elif len(cmap_range) == 2:\n",
      "        vmin, vmax = cmap_range\n",
      "    else:\n",
      "        raise ValueError(\"cmap_range argument not understood\")\n",
      "\n",
      "    mat_img = ax.matshow(plotmat, cmap=cmap, vmin=vmin, vmax=vmax, **kwargs)\n",
      "\n",
      "    if cbar:\n",
      "        plt.colorbar(mat_img, shrink=.75)\n",
      "\n",
      "    if p_mat is None:\n",
      "        p_mat = np.ones((nvars, nvars))\n",
      "\n",
      "    if annot:\n",
      "        for i, j in zip(*np.triu_indices(nvars, 1)):\n",
      "            val = mat[i, j]\n",
      "            stars = sig_stars(p_mat[i, j])\n",
      "            ax.text(j, i, \"\\n%.2g\\n%s\" % (val, stars),\n",
      "                    fontdict=dict(ha=\"center\", va=\"center\"))\n",
      "    else:\n",
      "        fill = np.ones_like(plotmat)\n",
      "        fill[np.tril_indices_from(fill, -1)] = np.nan\n",
      "        ax.matshow(fill, cmap=\"Greys\", vmin=0, vmax=0, zorder=2)\n",
      "\n",
      "    if names is None:\n",
      "        names = [\"var%d\" % i for i in range(nvars)]\n",
      "\n",
      "    if diag_names:\n",
      "        for i, name in enumerate(names):\n",
      "            ax.text(i, i, name, fontdict=dict(ha=\"center\", va=\"center\",\n",
      "                                              weight=\"bold\", rotation=45))\n",
      "        ax.set_xticklabels(())\n",
      "        ax.set_yticklabels(())\n",
      "    else:\n",
      "        ax.xaxis.set_ticks_position(\"bottom\")\n",
      "        xnames = names if annot else names[:-1]\n",
      "        ax.set_xticklabels(xnames, rotation=90)\n",
      "        ynames = names if annot else names[1:]\n",
      "        ax.set_yticklabels(ynames)\n",
      "\n",
      "    minor_ticks = np.linspace(-.5, nvars - 1.5, nvars)\n",
      "    ax.set_xticks(minor_ticks, True)\n",
      "    ax.set_yticks(minor_ticks, True)\n",
      "    major_ticks = np.linspace(0, nvars - 1, nvars)\n",
      "    xticks = major_ticks if annot else major_ticks[:-1]\n",
      "    ax.set_xticks(xticks)\n",
      "    yticks = major_ticks if annot else major_ticks[1:]\n",
      "    ax.set_yticks(yticks)\n",
      "    ax.grid(False, which=\"major\")\n",
      "    ax.grid(True, which=\"minor\", linestyle=\"-\")\n",
      "\n",
      "    return ax\n",
      "\n",
      "\n",
      "def aggregateCorrPlot(corrmat, names=None, annot=True, sig_stars=True, sig_tail=\"both\",\n",
      "             sig_corr=True, cmap=None, cmap_range=None, cbar=True,\n",
      "             diag_names=True, method=None, ax=None, **kwargs):\n",
      "    \"\"\"Plot a correlation matrix with colormap and r values.\n",
      "\n",
      "    Parameters\n",
      "    ----------\n",
      "    corrmat : DataFrame\n",
      "        correlation matrix\n",
      "    names : sequence of strings\n",
      "        Names to associate with variables if `data` is not a DataFrame.\n",
      "    annot : bool\n",
      "        Whether to annotate the upper triangle with correlation coefficients.\n",
      "    sig_stars : bool\n",
      "        If True, get significance with permutation test and denote with stars.\n",
      "    sig_tail : both | upper | lower\n",
      "        Direction for significance test. Also controls the default colorbar.\n",
      "    sig_corr : bool\n",
      "        If True, use FWE-corrected p values for the sig stars.\n",
      "    cmap : colormap\n",
      "        Colormap name as string or colormap object.\n",
      "    cmap_range : None, \"full\", (low, high)\n",
      "        Either truncate colormap at (-max(abs(r)), max(abs(r))), use the\n",
      "        full range (-1, 1), or specify (min, max) values for the colormap.\n",
      "    cbar : bool\n",
      "        If true, plot the colorbar legend.\n",
      "    method: None (pearson) | kendall | spearman\n",
      "        Correlation method to compute pairwise correlations. Methods other\n",
      "        than the default pearson correlation will not have a significance\n",
      "        computed.\n",
      "    ax : matplotlib axis\n",
      "        Axis to draw plot in.\n",
      "    kwargs : other keyword arguments\n",
      "        Passed to ax.matshow()\n",
      "\n",
      "    Returns\n",
      "    -------\n",
      "    ax : matplotlib axis\n",
      "        Axis object with plot.\n",
      "\n",
      "    \"\"\"\n",
      "    \n",
      "\n",
      "    # Pandas will drop non-numeric columns; let's keep track of that operation\n",
      "    names = corrmat.columns\n",
      "    #data = data[names]\n",
      "\n",
      "    # Get p values with a permutation test\n",
      "    #if annot and sig_stars and method is None:\n",
      "     #   p_mat = algo.randomize_corrmat(data.values.T, sig_tail, sig_corr)\n",
      "    #else:\n",
      "    p_mat = None\n",
      "\n",
      "    # Sort out the color range\n",
      "    if cmap_range is None:\n",
      "        triu = np.triu_indices(len(corrmat), 1)\n",
      "        vmax = min(1, np.max(np.abs(corrmat.values[triu])) * 1.15)\n",
      "        vmin = -vmax\n",
      "        if sig_tail == \"both\":\n",
      "            cmap_range = vmin, vmax\n",
      "        elif sig_tail == \"upper\":\n",
      "            cmap_range = 0, vmax\n",
      "        elif sig_tail == \"lower\":\n",
      "            cmap_range = vmin, 0\n",
      "    elif cmap_range == \"full\":\n",
      "        cmap_range = (-1, 1)\n",
      "\n",
      "    # Find a colormapping, somewhat intelligently\n",
      "    if cmap is None:\n",
      "        if min(cmap_range) >= 0:\n",
      "            cmap = \"OrRd\"\n",
      "        elif max(cmap_range) <= 0:\n",
      "            cmap = \"PuBu_r\"\n",
      "        else:\n",
      "            cmap = \"coolwarm\"\n",
      "    if cmap == \"jet\":\n",
      "        # Paternalism\n",
      "        raise ValueError(\"Never use the 'jet' colormap!\")\n",
      "\n",
      "    # Plot using the more general symmatplot function\n",
      "    ax = symmatplot(corrmat, p_mat, names, cmap, cmap_range,\n",
      "                    cbar, annot, diag_names, ax, **kwargs)\n",
      "\n",
      "    return ax"
     ],
     "language": "python",
     "metadata": {},
     "outputs": [],
     "prompt_number": 7
    },
    {
     "cell_type": "code",
     "collapsed": false,
     "input": [
      "def showCorrelationMatrix(corrMat):\n",
      "    f, ax = plt.subplots(figsize=(8,8))\n",
      "    aggregateCorrPlot(corrMat, cmap=sns.diverging_palette(220, 20, as_cmap=True))\n",
      "    f.tight_layout()"
     ],
     "language": "python",
     "metadata": {},
     "outputs": [],
     "prompt_number": 8
    },
    {
     "cell_type": "heading",
     "level": 4,
     "metadata": {},
     "source": [
      "Sparsification Methods"
     ]
    },
    {
     "cell_type": "code",
     "collapsed": false,
     "input": [
      "# short name -> class, constructor kwargs\n",
      "methods = {\"Random\": (sparsification.RandomBackbone, {}),\n",
      "            \"SimmelianNP\" : (sparsification.SimmelianBackboneNonParametric, {}),\n",
      "            \"SimmelianP\" : (sparsification.SimmelianBackboneParametric, {\"maxRank\": 10}),\n",
      "            \"SimmelianMS\" : (sparsification.SimmelianMultiscaleBackbone, {}),\n",
      "            \"ForestFire03\" : (sparsification.ForestFireBackbone, {\"burnProbability\": 0.3, \"targetBurntRatio\" : 5.0}),\n",
      "            \"ForestFire05\" : (sparsification.ForestFireBackbone, {\"burnProbability\": 0.5, \"targetBurntRatio\" : 5.0}),\n",
      "            \"ForestFire07\" : (sparsification.ForestFireBackbone, {\"burnProbability\": 0.7, \"targetBurntRatio\" : 5.0}),\n",
      "            \"LocalSim\" : (sparsification.LocalSimilarityBackbone, {}),\n",
      "            \"LocalDegree\" : (sparsification.LocalDegreeBackbone, {}),\n",
      "            \"Modularity\" : (sparsification.ModularityPartitionAttributizer, {}),\n",
      "            #\"Const\" : (sparsification.ConstantAttributizer, {\"constValue\" : 1.0}),\n",
      "            \"Triangles\" : (sparsification.TriangleBackbone, {})\n",
      "            } "
     ],
     "language": "python",
     "metadata": {},
     "outputs": [],
     "prompt_number": 9
    },
    {
     "cell_type": "heading",
     "level": 2,
     "metadata": {},
     "source": [
      "Correlation of Edge Scores"
     ]
    },
    {
     "cell_type": "heading",
     "level": 3,
     "metadata": {},
     "source": [
      "aggregate over multiple networks"
     ]
    },
    {
     "cell_type": "code",
     "collapsed": false,
     "input": [
      "# change to your folder"
     ],
     "language": "python",
     "metadata": {},
     "outputs": [],
     "prompt_number": 10
    },
    {
     "cell_type": "code",
     "collapsed": false,
     "input": [
      "cd /home/i11/staudt/Graphs/Collections/Sparsification/"
     ],
     "language": "python",
     "metadata": {},
     "outputs": [
      {
       "output_type": "stream",
       "stream": "stdout",
       "text": [
        "/amd.home/algoDaten/staudt/Graphs/Collections/Sparsification\n"
       ]
      }
     ],
     "prompt_number": 11
    },
    {
     "cell_type": "code",
     "collapsed": false,
     "input": [
      "fbGraphPaths = !ls Facebook/*.edgelist\n",
      "webGraphPaths = !ls Web/*.metis.graph\n",
      "asGraphPaths = !ls AS/*.txt"
     ],
     "language": "python",
     "metadata": {},
     "outputs": [],
     "prompt_number": 12
    },
    {
     "cell_type": "code",
     "collapsed": false,
     "input": [
      "def readGraphSet(paths, fileFormat, limit=None):\n",
      "    \"\"\" reads and prepares graphs from a list of paths\"\"\"\n",
      "    if limit:\n",
      "        paths = paths[:limit]\n",
      "    graphs = [readGraph(path, fileFormat) for path in paths]\n",
      "    for G in graphs:\n",
      "        G.indexEdges()\n",
      "    graphs.sort(key=lambda G: G.numberOfEdges())\n",
      "    return graphs\n"
     ],
     "language": "python",
     "metadata": {},
     "outputs": [],
     "prompt_number": 14
    },
    {
     "cell_type": "code",
     "collapsed": false,
     "input": [
      "def aggregateEdgeScoreCorrelations(graphs, methods):\n",
      "    \"\"\" aggregate edge score correlation coefficients over multiple graphs and methods\"\"\"\n",
      "    nGraphs = len(graphs)\n",
      "    corrMat = None\n",
      "    for G in graphs:\n",
      "        info(\"{0} {1}\".format(G, properties.size(G)))\n",
      "        edgeScores = calcEdgeScores(G, methods)\n",
      "        if corrMat is not None:\n",
      "            corrMat = edgeScores.corr(method=\"spearman\") + corrMat\n",
      "        else:\n",
      "            corrMat = edgeScores.corr(method=\"spearman\")\n",
      "    corrMat = corrMat / nGraphs\n",
      "    info(\"done\")\n",
      "    return corrMat"
     ],
     "language": "python",
     "metadata": {},
     "outputs": [],
     "prompt_number": 15
    },
    {
     "cell_type": "heading",
     "level": 4,
     "metadata": {},
     "source": [
      "reading graphs"
     ]
    },
    {
     "cell_type": "code",
     "collapsed": false,
     "input": [
      "%time asGraphs = readGraphSet(asGraphPaths, Format.EdgeListTabOne, limit=None)"
     ],
     "language": "python",
     "metadata": {},
     "outputs": [
      {
       "output_type": "stream",
       "stream": "stdout",
       "text": [
        "CPU times: user 1min, sys: 1.17 s, total: 1min 1s\n",
        "Wall time: 12.9 s\n"
       ]
      }
     ]
    },
    {
     "cell_type": "code",
     "collapsed": false,
     "input": [
      "%time fbGraphs = readGraphSet(fbGraphPaths, Format.EdgeListTabZero, limit=None)"
     ],
     "language": "python",
     "metadata": {},
     "outputs": []
    },
    {
     "cell_type": "code",
     "collapsed": false,
     "input": [
      "%time webGraphs = readGraphSet(webGraphPaths, Format.METIS, limit=3)"
     ],
     "language": "python",
     "metadata": {},
     "outputs": []
    },
    {
     "cell_type": "heading",
     "level": 4,
     "metadata": {},
     "source": [
      "calculation of correlations"
     ]
    },
    {
     "cell_type": "code",
     "collapsed": false,
     "input": [
      "%time corrAs = aggregateEdgeScoreCorrelations(asGraphs, methods)"
     ],
     "language": "python",
     "metadata": {},
     "outputs": []
    },
    {
     "cell_type": "code",
     "collapsed": false,
     "input": [
      "showCorrelationMatrix(corrAs)"
     ],
     "language": "python",
     "metadata": {},
     "outputs": []
    },
    {
     "cell_type": "code",
     "collapsed": false,
     "input": [
      "%time corrFb = aggregateEdgeScoreCorrelations(fbGraphs, methods)"
     ],
     "language": "python",
     "metadata": {},
     "outputs": []
    },
    {
     "cell_type": "code",
     "collapsed": false,
     "input": [
      "showCorrelationMatrix(corrFb)"
     ],
     "language": "python",
     "metadata": {},
     "outputs": []
    },
    {
     "cell_type": "code",
     "collapsed": false,
     "input": [
      "%time corrWeb = aggregateEdgeScoreCorrelations(webGraphs, methods)"
     ],
     "language": "python",
     "metadata": {},
     "outputs": []
    },
    {
     "cell_type": "code",
     "collapsed": false,
     "input": [
      "showCorrelationMatrix(corrWeb)"
     ],
     "language": "python",
     "metadata": {},
     "outputs": []
    },
    {
     "cell_type": "heading",
     "level": 2,
     "metadata": {},
     "source": [
      "Algorithm Speedups"
     ]
    },
    {
     "cell_type": "heading",
     "level": 3,
     "metadata": {},
     "source": [
      "Are betweenness scores preserved when sparsifying with LocalDegree?"
     ]
    },
    {
     "cell_type": "code",
     "collapsed": false,
     "input": [
      "G = readGraph(\"Facebook/fb-Caltech36.edgelist\", Format.EdgeListTabZero)\n",
      "G.indexEdges()"
     ],
     "language": "python",
     "metadata": {},
     "outputs": []
    },
    {
     "cell_type": "code",
     "collapsed": false,
     "input": [
      "properties.size(G)"
     ],
     "language": "python",
     "metadata": {},
     "outputs": []
    },
    {
     "cell_type": "code",
     "collapsed": false,
     "input": [
      "bc = centrality.Betweenness(G, normalized=True)\n",
      "bc.run()"
     ],
     "language": "python",
     "metadata": {},
     "outputs": []
    },
    {
     "cell_type": "code",
     "collapsed": false,
     "input": [
      "bc.ranking()[:10]"
     ],
     "language": "python",
     "metadata": {},
     "outputs": []
    },
    {
     "cell_type": "code",
     "collapsed": false,
     "input": [
      "localDegree = sparsification.LocalDegreeBackbone()\n",
      "rand = sparsification.RandomBackbone()"
     ],
     "language": "python",
     "metadata": {},
     "outputs": []
    },
    {
     "cell_type": "code",
     "collapsed": false,
     "input": [
      "edgeRatio = 0.1\n",
      "Gs = localDegree.getSparsifiedGraph(G, localDegree.getParameter(G, edgeRatio))\n",
      "Gr = rand.getSparsifiedGraph(G, rand.getParameter(G, edgeRatio))"
     ],
     "language": "python",
     "metadata": {},
     "outputs": []
    },
    {
     "cell_type": "code",
     "collapsed": false,
     "input": [
      "print(properties.size(G))\n",
      "print(properties.size(Gs))\n",
      "print(properties.size(Gr))"
     ],
     "language": "python",
     "metadata": {},
     "outputs": []
    },
    {
     "cell_type": "code",
     "collapsed": false,
     "input": [
      "bcLocalDegree = centrality.Betweenness(Gs, normalized=True)"
     ],
     "language": "python",
     "metadata": {},
     "outputs": []
    },
    {
     "cell_type": "code",
     "collapsed": false,
     "input": [
      "bcLocalDegree.run()"
     ],
     "language": "python",
     "metadata": {},
     "outputs": []
    },
    {
     "cell_type": "code",
     "collapsed": false,
     "input": [
      "bcRandom = centrality.Betweenness(Gr, normalized=True)\n",
      "bcRandom.run()"
     ],
     "language": "python",
     "metadata": {},
     "outputs": []
    },
    {
     "cell_type": "code",
     "collapsed": false,
     "input": [
      "plt.plot(centrality.relativeRankError(bc.ranking(), bcRandom.ranking()))"
     ],
     "language": "python",
     "metadata": {},
     "outputs": []
    },
    {
     "cell_type": "code",
     "collapsed": false,
     "input": [
      "plt.plot(centrality.relativeRankError(bc.ranking(), bcLocalDegree.ranking()))"
     ],
     "language": "python",
     "metadata": {},
     "outputs": []
    },
    {
     "cell_type": "code",
     "collapsed": false,
     "input": [
      "stats.gmean(centrality.relativeRankError(bc.ranking(), bcLocalDegree.ranking()))"
     ],
     "language": "python",
     "metadata": {},
     "outputs": []
    },
    {
     "cell_type": "code",
     "collapsed": false,
     "input": [
      "stats.gmean(centrality.relativeRankError(bc.ranking(), bcRandom.ranking()))"
     ],
     "language": "python",
     "metadata": {},
     "outputs": []
    },
    {
     "cell_type": "code",
     "collapsed": false,
     "input": [],
     "language": "python",
     "metadata": {},
     "outputs": []
    }
   ],
   "metadata": {}
  }
 ]
}
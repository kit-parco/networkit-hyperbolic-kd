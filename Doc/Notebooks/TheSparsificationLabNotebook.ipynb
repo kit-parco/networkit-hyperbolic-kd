{
 "metadata": {
  "name": "",
  "signature": "sha256:1c92b20897b96036d6c2e510d88ddcf60ed7dd96cfe0cbcf8ac4d52730644ef9"
 },
 "nbformat": 3,
 "nbformat_minor": 0,
 "worksheets": [
  {
   "cells": [
    {
     "cell_type": "heading",
     "level": 1,
     "metadata": {},
     "source": [
      "The Sparsification Lab Notebook"
     ]
    },
    {
     "cell_type": "heading",
     "level": 4,
     "metadata": {},
     "source": [
      "Imports"
     ]
    },
    {
     "cell_type": "code",
     "collapsed": false,
     "input": [
      "from networkit import *\n",
      "import matplotlib.pyplot as plt\n",
      "import pandas as pd\n",
      "import seaborn as sns\n",
      "import numpy as np\n",
      "import pickle"
     ],
     "language": "python",
     "metadata": {},
     "outputs": [],
     "prompt_number": 15
    },
    {
     "cell_type": "code",
     "collapsed": false,
     "input": [
      "%matplotlib inline"
     ],
     "language": "python",
     "metadata": {},
     "outputs": [],
     "prompt_number": 16
    },
    {
     "cell_type": "heading",
     "level": 4,
     "metadata": {},
     "source": [
      "Helper Functions"
     ]
    },
    {
     "cell_type": "code",
     "collapsed": false,
     "input": [
      "def calcEdgeAttributes(G, methods):\n",
      "    \"\"\" Calculates edge scores for given methods and returns a DataFrame \"\"\"\n",
      "    data = {}\n",
      "    for (methodName, (methodClass, args)) in methods.items():\n",
      "        method = methodClass(*args)\n",
      "        print(\"calculating {0}{1}\".format(methodName, args)); sys.stdout.flush()\n",
      "        data[methodName] = method.getAttribute(G)\n",
      "    return pd.DataFrame(data)"
     ],
     "language": "python",
     "metadata": {},
     "outputs": [],
     "prompt_number": 17
    },
    {
     "cell_type": "code",
     "collapsed": false,
     "input": [
      "def status(message):\n",
      "    \"\"\"print status message \"\"\"\n",
      "    print(message); sys.stdout.flush()"
     ],
     "language": "python",
     "metadata": {},
     "outputs": [],
     "prompt_number": 18
    },
    {
     "cell_type": "heading",
     "level": 4,
     "metadata": {},
     "source": [
      "Plotting Functions"
     ]
    },
    {
     "cell_type": "code",
     "collapsed": false,
     "input": [
      "def plotScoreCorrelations(attributeData, figsize=(8,8), method=\"pearson\"):\n",
      "    \"\"\" Draws a seaborn correlation matrix plot \"\"\"\n",
      "    cmap = sns.diverging_palette(220, 20, as_cmap=True)\n",
      "    f, ax = plt.subplots(figsize=figsize)\n",
      "    status(\"correlating\")\n",
      "    sns.corrplot(attributeData, cmap=cmap, method=method)\n",
      "    f.tight_layout()"
     ],
     "language": "python",
     "metadata": {},
     "outputs": [],
     "prompt_number": 19
    },
    {
     "cell_type": "code",
     "collapsed": false,
     "input": [
      "def plotScoreDistributions(G, methods):\n",
      "    \"\"\" Scatterplots distribution of scores \"\"\"\n",
      "    for (methodName, _) in methods.items():\n",
      "        plt.figure(figsize=(6,2))\n",
      "        plt.xlim((0,G.numberOfEdges()))\n",
      "        plt.scatter(np.arange(0, G.numberOfEdges()), attrData[methodName], s=0.1)\n",
      "        plt.xlabel(methodName)"
     ],
     "language": "python",
     "metadata": {},
     "outputs": [],
     "prompt_number": 20
    },
    {
     "cell_type": "heading",
     "level": 4,
     "metadata": {},
     "source": [
      "Sparsification Methods"
     ]
    },
    {
     "cell_type": "code",
     "collapsed": false,
     "input": [
      "# short name -> class, constructor kwargs\n",
      "methods = {\"Random\": (sparsification.RandomBackbone, {}),\n",
      "            \"SimmelianNP\" : (sparsification.SimmelianBackboneNonParametric, {}),\n",
      "            \"SimmelianP\" : (sparsification.SimmelianBackboneParametric, {}),\n",
      "            \"SimmelianMS\" : (sparsification.SimmelianMultiscaleBackbone, {}),\n",
      "            \"ForestFire\" : (sparsification.ForestFireBackbone, {}),\n",
      "            \"LocalSim\" : (sparsification.LocalSimilarityBackbone, {}),\n",
      "            \"LocalDegree\" : (sparsification.LocalDegreeBackbone, {}),\n",
      "            \"Modularity\" : (sparsification.ModularityPartitionAttributizer, {})\n",
      "            } "
     ],
     "language": "python",
     "metadata": {},
     "outputs": [],
     "prompt_number": 21
    },
    {
     "cell_type": "heading",
     "level": 4,
     "metadata": {},
     "source": [
      "The Network Collection"
     ]
    },
    {
     "cell_type": "code",
     "collapsed": false,
     "input": [
      "cd ~/Graphs/Collections"
     ],
     "language": "python",
     "metadata": {},
     "outputs": [
      {
       "output_type": "stream",
       "stream": "stdout",
       "text": [
        "[Errno 2] No such file or directory: '/Users/cls/Graphs/Collections'\n",
        "/Users/cls/workspace/NetworKit-glindner/Doc/Notebooks\n"
       ]
      }
     ],
     "prompt_number": 22
    },
    {
     "cell_type": "heading",
     "level": 4,
     "metadata": {},
     "source": [
      "Precalculation of Edge Scores"
     ]
    },
    {
     "cell_type": "heading",
     "level": 4,
     "metadata": {},
     "source": [
      "Correlation of Edge Scores"
     ]
    },
    {
     "cell_type": "heading",
     "level": 4,
     "metadata": {},
     "source": [
      "Conservation Measures"
     ]
    },
    {
     "cell_type": "code",
     "collapsed": false,
     "input": [],
     "language": "python",
     "metadata": {},
     "outputs": [],
     "prompt_number": 21
    }
   ],
   "metadata": {}
  }
 ]
}
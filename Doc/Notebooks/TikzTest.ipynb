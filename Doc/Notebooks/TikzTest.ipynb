{
 "metadata": {
  "name": ""
 },
 "nbformat": 3,
 "nbformat_minor": 0,
 "worksheets": [
  {
   "cells": [
    {
     "cell_type": "code",
     "collapsed": false,
     "input": [
      "from networkit import *\n",
      "import time\n",
      "setLogLevel(\"DEBUG\")"
     ],
     "language": "python",
     "metadata": {},
     "outputs": [],
     "prompt_number": 25
    },
    {
     "cell_type": "code",
     "collapsed": false,
     "input": [
      "gen = generators.DynamicHyperbolicGenerator(20,1,1,1,1,0,0.04)#200,10, 5, 25)#"
     ],
     "language": "python",
     "metadata": {},
     "outputs": [],
     "prompt_number": 26
    },
    {
     "cell_type": "code",
     "collapsed": false,
     "input": [
      "G = gen.getGraph()\n",
      "G.initCoordinates()"
     ],
     "language": "python",
     "metadata": {},
     "outputs": [],
     "prompt_number": 27
    },
    {
     "cell_type": "code",
     "collapsed": false,
     "input": [
      "client = gephi.streaming.GephiStreamingClient()\n",
      "client.clearGraph()"
     ],
     "language": "python",
     "metadata": {},
     "outputs": [
      {
       "output_type": "stream",
       "stream": "stdout",
       "text": [
        "Could not connect to the gephi streaming plugin. Did you start the streaming master server in gephi?\n"
       ]
      }
     ],
     "prompt_number": 28
    },
    {
     "cell_type": "code",
     "collapsed": false,
     "input": [
      "client.exportGraph(G)\n",
      "updater = dynamic.GraphUpdater(G)\n",
      "scale = 200\n",
      "coords = gen.getCoordinates()\n",
      "f = open('graphtikz.tex', 'w')\n",
      "for j in range(0, len(coords)):\n",
      "    f.write('\\\\node at (' + str(coords[j][0]) + ',' + str(coords[j][1]) + ') [shape=circle,fill=black] (n' + str(j) + ') {};\\n')\n",
      "    G.setCoordinate(j, (scale*coords[j][0], scale*coords[j][1]))\n",
      "client.exportCoordinates(G)\n",
      "\n",
      "for edge in G.edges():\n",
      "    f.write('\\draw (n' + str(edge[0])  + ') -- (n' + str(edge[1]) + ');\\n')\n",
      "f.close()"
     ],
     "language": "python",
     "metadata": {},
     "outputs": [
      {
       "output_type": "stream",
       "stream": "stdout",
       "text": [
        "Could not connect to the gephi streaming plugin. Did you start the streaming master server in gephi?\n",
        "Could not connect to the gephi streaming plugin. Did you start the streaming master server in gephi?\n",
        "Could not connect to the gephi streaming plugin. Did you start the streaming master server in gephi?\n",
        "Could not connect to the gephi streaming plugin. Did you start the streaming master server in gephi?\n"
       ]
      }
     ],
     "prompt_number": 29
    },
    {
     "cell_type": "code",
     "collapsed": false,
     "input": [],
     "language": "python",
     "metadata": {},
     "outputs": []
    }
   ],
   "metadata": {}
  }
 ]
}
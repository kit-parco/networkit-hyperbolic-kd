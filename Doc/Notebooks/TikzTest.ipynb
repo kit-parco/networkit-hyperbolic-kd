{
 "metadata": {
  "name": ""
 },
 "nbformat": 3,
 "nbformat_minor": 0,
 "worksheets": [
  {
   "cells": [
    {
     "cell_type": "code",
     "collapsed": false,
     "input": [
      "from networkit import *\n",
      "import time\n",
      "import math\n",
      "import json\n",
      "setLogLevel(\"DEBUG\")"
     ],
     "language": "python",
     "metadata": {},
     "outputs": [],
     "prompt_number": 5
    },
    {
     "cell_type": "code",
     "collapsed": false,
     "input": [
      "stretch = 4\n",
      "n = 500\n",
      "alpha = 0.8\n",
      "factor = 2\n",
      "gen = generators.DynamicHyperbolicGenerator(n,factor,alpha,stretch,1,0,0.04)#200,10, 5, 25)#"
     ],
     "language": "python",
     "metadata": {},
     "outputs": [],
     "prompt_number": 86
    },
    {
     "cell_type": "code",
     "collapsed": false,
     "input": [
      "G = gen.getGraph()\n",
      "G.initCoordinates()"
     ],
     "language": "python",
     "metadata": {},
     "outputs": [],
     "prompt_number": 87
    },
    {
     "cell_type": "code",
     "collapsed": false,
     "input": [
      "client = gephi.streaming.GephiStreamingClient()\n",
      "client.clearGraph()"
     ],
     "language": "python",
     "metadata": {},
     "outputs": [
      {
       "output_type": "stream",
       "stream": "stdout",
       "text": [
        "Could not connect to the gephi streaming plugin. Did you start the streaming master server in gephi?\n"
       ]
      }
     ],
     "prompt_number": 88
    },
    {
     "cell_type": "code",
     "collapsed": false,
     "input": [
      "degreelist = [G.degree(v) for v in G.nodes()]\n",
      "markednode = degreelist.index(sorted(degreelist)[n-10])\n",
      "client.exportGraph(G)\n",
      "updater = dynamic.GraphUpdater(G)\n",
      "scale = 200\n",
      "minsize= 3\n",
      "useHyperbolic = False\n",
      "if useHyperbolic:\n",
      "    coords = gen.getHyperbolicCoordinates()\n",
      "    tscale= 0.75\n",
      "else:\n",
      "    coords = gen.getCoordinates()\n",
      "    tscale=4\n",
      "f = open('graphtikz.tex', 'w')\n",
      "f.write('\\documentclass[a4paper,10pt]{article}\\n\\\\usepackage[utf8]{inputenc}\\n\\\\usepackage{tikz}\\n\\\\usepackage{amsmath}\\n')\n",
      "f.write('\\\\usetikzlibrary{backgrounds}\\n')\n",
      "f.write('\\\\begin{document}\\n')\n",
      "f.write('\\\\definecolor{markedcolor}{RGB}{0,161,221}\\n')\n",
      "f.write('\\\\tikzstyle{normaledge}=[draw,thin,color=black!30!white]\\n')\n",
      "f.write('\\\\tikzstyle{markededge}=[draw,color=markedcolor]\\n')\n",
      "f.write('\\\\tikzstyle{vertex}=[circle,inner sep = 0, minimum size = '+str(minsize)+',fill=black]\\n')\n",
      "f.write('\\\\tikzstyle{markedCenter}=[circle,inner sep = 0, minimum size = '+str(2*minsize)+',fill=markedcolor]\\n')\n",
      "f.write('\\\\tikzstyle{markedNeighbour}=[circle,inner sep = 0, minimum size = '+str(minsize)+',fill=markedcolor]\\n')\n",
      "f.write('\\\\begin{tikzpicture}[scale='+str(tscale)+']\\n')\n",
      "\n",
      "#paint circle\n",
      "if useHyperbolic == False:\n",
      "    f.write('\\\\begin{scope}[on background layer]\\n')\n",
      "    \n",
      "    r_a = math.hypot(coords[markednode][0], coords[markednode][1])\n",
      "    R = stretch*math.acosh(n/(2*math.pi)+1)\n",
      "    radius = R*factor\n",
      "    print(\"R:\",R)\n",
      "    print(\"radius:\",radius)\n",
      "    r_c2 = (2*r_a)/((1-r_a*r_a)*(math.cosh(radius)-1+2/(1-r_a*r_a)))\n",
      "    euRadius2 = pow(r_c2*r_c2 - (2*r_a*r_a - (1-r_a*r_a)*(math.cosh(radius)-1))/((1-r_a*r_a)*(math.cosh(radius)-1+2/(1-r_a*r_a))),0.5)\n",
      "    print(\"pR:\",euRadius2)\n",
      "    print(\"pC:\",r_c2)\n",
      "    maxReachEuclid=euRadius2-r_c2\n",
      "    print(\"maxReachEuclid:\",maxReachEuclid)\n",
      "    maxReachHyperbolic=math.acosh(1+2*(maxReachEuclid*maxReachEuclid)/(1-(maxReachEuclid*maxReachEuclid)))\n",
      "    print(\"maxReachHyperbolic:\",maxReachHyperbolic)\n",
      "    \n",
      "    x = coords[markednode][0] * (r_c2/r_a);\n",
      "    y = coords[markednode][1] * (r_c2/r_a);\n",
      "    coordinatestring = '({:f},{:f})'.format(x,y)\n",
      "    f.write('\\\\path [fill=blue!10!white] ' + coordinatestring + ' circle [radius='+str(euRadius2)+'];\\n')\n",
      "    f.write('\\\\draw ' + coordinatestring + ' node [color=blue!80!white] {X};\\n')\n",
      "    f.write('\\\\end{scope}\\n')\n",
      "    \n",
      "    #draw QuadTree grid\n",
      "    hyperbolicOuter = R\n",
      "    for i in range(0,6):\n",
      "        hyperbolicMiddle = math.acosh((math.cosh(hyperbolicOuter) + math.cosh(0))/2)\n",
      "        ch = math.cosh(hyperbolicMiddle)\n",
      "        gridline = math.sqrt((ch-1)/(ch+1))\n",
      "        \n",
      "        f.write('\\\\draw [thin,color=red,style=dotted] (0,0) circle [radius='+str(gridline)+'];\\n')\n",
      "        hyperbolicOuter = hyperbolicMiddle\n",
      "    \n",
      "    phi = 0\n",
      "    for i in range(0,16):\n",
      "        f.write('\\\\draw [thin,color=red,style=dotted] (0,0) -- ('+str(phi)+':1);\\n')\n",
      "        phi += 360/16\n",
      "    \n",
      "#draw nodes\n",
      "for j in range(0, len(coords)):\n",
      "    coordinatestring = '({:f},{:f})'.format(coords[j][0], coords[j][1])\n",
      "    f.write('\\\\node at ' + coordinatestring)\n",
      "    if j == markednode:\n",
      "        f.write(' [markedCenter] ')\n",
      "    elif G.hasEdge(j, markednode):\n",
      "        f.write(' [markedNeighbour] ')\n",
      "    else:\n",
      "        f.write(' [vertex] ')\n",
      "    f.write('(n' + str(j) + ') {};\\n')\n",
      "    G.setCoordinate(j, (scale*coords[j][0], scale*coords[j][1]))\n",
      "client.exportCoordinates(G)\n",
      "\n",
      "#draw unrelated edges\n",
      "f.write('\\\\begin{scope}[on background layer]\\n')\n",
      "for edge in G.edges():\n",
      "    if edge[0] != markednode and edge[1] != markednode:\n",
      "        f.write('\\draw [normaledge] (n' + str(edge[0])  + ') edge (n' + str(edge[1]) + ');\\n') \n",
      "\n",
      "f.write('\\\\end{scope}\\n')\n",
      "\n",
      "#draw highlighted edges\n",
      "for v in G.neighbors(markednode):\n",
      "     f.write('\\draw [markededge] (n' + str(v)  + ') edge (n' + str(markednode) + ');\\n') \n",
      "\n",
      "\n",
      "f.write('\\\\end{tikzpicture}')\n",
      "f.write('\\\\end{document}')\n",
      "f.close()"
     ],
     "language": "python",
     "metadata": {},
     "outputs": [
      {
       "output_type": "stream",
       "stream": "stdout",
       "text": [
        "Could not connect to the gephi streaming plugin. Did you start the streaming master server in gephi?\n",
        "R: 20.329311099248564\n",
        "radius: 40.65862219849713\n",
        "pR: 0.9999999999581096\n",
        "pC: 4.1890332673595624e-11\n",
        "maxReachEuclid: 0.9999999999162192\n",
        "maxReachHyperbolic: 23.89596490826897\n",
        "Could not connect to the gephi streaming plugin. Did you start the streaming master server in gephi?\n",
        "Could not connect to the gephi streaming plugin. Did you start the streaming master server in gephi?\n",
        "Could not connect to the gephi streaming plugin. Did you start the streaming master server in gephi?\n"
       ]
      }
     ],
     "prompt_number": 89
    },
    {
     "cell_type": "code",
     "collapsed": false,
     "input": [
      "for i in range(0,50):\n",
      "    print(i, \":\", math.acosh(math.cosh(i)*math.cosh(i)-math.sinh(i)*math.sinh(i)*cos(math.pi)))"
     ],
     "language": "python",
     "metadata": {},
     "outputs": [
      {
       "output_type": "stream",
       "stream": "stdout",
       "text": [
        "0 : 0.0\n",
        "1 : 2.0\n",
        "2 : 4.0\n",
        "3 : 6.0\n",
        "4 : 8.0\n",
        "5 : 10.0\n",
        "6 : 12.0\n",
        "7 : 14.0\n",
        "8 : 16.0\n",
        "9 : 18.0\n",
        "10 : 20.0\n",
        "11 : 22.0\n",
        "12 : 24.0\n",
        "13 : 25.999999999999996\n",
        "14 : 28.0\n",
        "15 : 30.0\n",
        "16 : 31.999999999999996\n",
        "17 : 34.0\n",
        "18 : 36.0\n",
        "19 : 38.0\n",
        "20 : 40.0\n",
        "21 : 42.0\n",
        "22 : 44.0\n",
        "23 : 46.0\n",
        "24 : 48.0\n",
        "25 : 50.0\n",
        "26 : 52.0\n",
        "27 : 54.0\n",
        "28 : 56.0\n",
        "29 : 58.0\n",
        "30 : 60.0\n",
        "31 : 62.0\n",
        "32 : 64.0\n",
        "33 : 66.0\n",
        "34 : 68.0\n",
        "35 : 70.0\n",
        "36 : 72.0\n",
        "37 : 74.0\n",
        "38 : 76.0\n",
        "39 : 78.0\n",
        "40 : 80.0\n",
        "41 : 82.0\n",
        "42 : 84.0\n",
        "43 : 86.0\n",
        "44 : 88.0\n",
        "45 : 90.0\n",
        "46 : 92.0\n",
        "47 : 94.0\n",
        "48 : 96.0\n",
        "49 : 98.0\n"
       ]
      }
     ],
     "prompt_number": 90
    },
    {
     "cell_type": "code",
     "collapsed": false,
     "input": [
      "G.numberOfEdges()/G.numberOfNodes()"
     ],
     "language": "python",
     "metadata": {},
     "outputs": [
      {
       "metadata": {},
       "output_type": "pyout",
       "prompt_number": 91,
       "text": [
        "237.164"
       ]
      }
     ],
     "prompt_number": 91
    },
    {
     "cell_type": "code",
     "collapsed": false,
     "input": [
      "math.log(1-maxReachEuclid)\n",
      "#math.log(1-euRadius2)"
     ],
     "language": "python",
     "metadata": {},
     "outputs": [
      {
       "metadata": {},
       "output_type": "pyout",
       "prompt_number": 98,
       "text": [
        "-23.202817727792805"
       ]
      }
     ],
     "prompt_number": 98
    },
    {
     "cell_type": "code",
     "collapsed": false,
     "input": [],
     "language": "python",
     "metadata": {},
     "outputs": []
    },
    {
     "cell_type": "code",
     "collapsed": false,
     "input": [
      "hyperbolicMiddle = math.acosh((math.cosh(R) + math.cosh(0))/2)"
     ],
     "language": "python",
     "metadata": {},
     "outputs": [],
     "prompt_number": 36
    },
    {
     "cell_type": "code",
     "collapsed": false,
     "input": [],
     "language": "python",
     "metadata": {},
     "outputs": [
      {
       "metadata": {},
       "output_type": "pyout",
       "prompt_number": 38,
       "text": [
        "0.9757767228391624"
       ]
      }
     ],
     "prompt_number": 38
    },
    {
     "cell_type": "code",
     "collapsed": false,
     "input": [],
     "language": "python",
     "metadata": {},
     "outputs": []
    }
   ],
   "metadata": {}
  }
 ]
}
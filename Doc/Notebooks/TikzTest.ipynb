{
 "metadata": {
  "name": ""
 },
 "nbformat": 3,
 "nbformat_minor": 0,
 "worksheets": [
  {
   "cells": [
    {
     "cell_type": "code",
     "collapsed": false,
     "input": [
      "from networkit import *\n",
      "import time\n",
      "import math\n",
      "import json\n",
      "setLogLevel(\"DEBUG\")"
     ],
     "language": "python",
     "metadata": {},
     "outputs": [],
     "prompt_number": 7
    },
    {
     "cell_type": "code",
     "collapsed": false,
     "input": [
      "stretch = 2\n",
      "n = 500\n",
      "alpha = 0.8\n",
      "factor = 1\n",
      "gen = generators.DynamicHyperbolicGenerator(n,factor,alpha,stretch,1,0,0.04)#200,10, 5, 25)#"
     ],
     "language": "python",
     "metadata": {},
     "outputs": [],
     "prompt_number": 2
    },
    {
     "cell_type": "code",
     "collapsed": false,
     "input": [
      "G = gen.getGraph()\n",
      "G.initCoordinates()"
     ],
     "language": "python",
     "metadata": {},
     "outputs": [],
     "prompt_number": 3
    },
    {
     "cell_type": "code",
     "collapsed": false,
     "input": [
      "client = gephi.streaming.GephiStreamingClient()\n",
      "client.clearGraph()"
     ],
     "language": "python",
     "metadata": {},
     "outputs": [
      {
       "output_type": "stream",
       "stream": "stdout",
       "text": [
        "Could not connect to the gephi streaming plugin. Did you start the streaming master server in gephi?\n"
       ]
      }
     ],
     "prompt_number": 4
    },
    {
     "cell_type": "code",
     "collapsed": false,
     "input": [
      "degreelist = [G.degree(v) for v in G.nodes()]\n",
      "markednode = degreelist.index(sorted(degreelist)[n-10])\n",
      "client.exportGraph(G)\n",
      "updater = dynamic.GraphUpdater(G)\n",
      "scale = 200\n",
      "minsize= 3\n",
      "useHyperbolic = True\n",
      "if useHyperbolic:\n",
      "    coords = gen.getHyperbolicCoordinates()\n",
      "    tscale= 0.75\n",
      "else:\n",
      "    coords = gen.getCoordinates()\n",
      "    tscale=4\n",
      "f = open('graphtikz.tex', 'w')\n",
      "f.write('\\documentclass[a4paper,10pt]{article}\\n\\\\usepackage[utf8]{inputenc}\\n\\\\usepackage{tikz}\\n\\\\usepackage{amsmath}\\n')\n",
      "f.write('\\\\usetikzlibrary{backgrounds}\\n')\n",
      "f.write('\\\\begin{document}\\n')\n",
      "f.write('\\\\definecolor{markedcolor}{RGB}{0,161,221}\\n')\n",
      "f.write('\\\\tikzstyle{normaledge}=[draw,thin,color=black!30!white]\\n')\n",
      "f.write('\\\\tikzstyle{markededge}=[draw,color=markedcolor]\\n')\n",
      "f.write('\\\\tikzstyle{vertex}=[circle,inner sep = 0, minimum size = '+str(minsize)+',fill=black]\\n')\n",
      "f.write('\\\\tikzstyle{markedCenter}=[circle,inner sep = 0, minimum size = '+str(2*minsize)+',fill=markedcolor]\\n')\n",
      "f.write('\\\\tikzstyle{markedNeighbour}=[circle,inner sep = 0, minimum size = '+str(minsize)+',fill=markedcolor]\\n')\n",
      "f.write('\\\\begin{tikzpicture}[scale='+str(tscale)+']\\n')\n",
      "\n",
      "#paint circle\n",
      "if useHyperbolic == False:\n",
      "    f.write('\\\\begin{scope}[on background layer]\\n')\n",
      "    \n",
      "    r_a = math.hypot(coords[markednode][0], coords[markednode][1])\n",
      "    R = stretch*math.acosh(n/(2*math.pi)+1)\n",
      "    radius = R*factor\n",
      "    \n",
      "    r_c2 = (2*r_a)/((1-r_a*r_a)*(math.cosh(radius)-1+2/(1-r_a*r_a)))\n",
      "    euRadius2 = pow(r_c2*r_c2 - (2*r_a*r_a - (1-r_a*r_a)*(math.cosh(radius)-1))/((1-r_a*r_a)*(math.cosh(radius)-1+2/(1-r_a*r_a))),0.5)\n",
      "    \n",
      "    x = coords[markednode][0] * (r_c2/r_a);\n",
      "    y = coords[markednode][1] * (r_c2/r_a);\n",
      "    coordinatestring = '({:f},{:f})'.format(x,y)\n",
      "    f.write('\\\\path [fill=blue!10!white] ' + coordinatestring + ' circle [radius='+str(euRadius2)+'];\\n')\n",
      "    f.write('\\\\draw ' + coordinatestring + ' node [color=blue!80!white] {X};\\n')\n",
      "    f.write('\\\\end{scope}\\n')\n",
      "    \n",
      "    #draw QuadTree grid\n",
      "    hyperbolicOuter = R\n",
      "    for i in range(0,6):\n",
      "        hyperbolicMiddle = math.acosh((math.cosh(hyperbolicOuter) + math.cosh(0))/2)\n",
      "        ch = math.cosh(hyperbolicMiddle)\n",
      "        gridline = math.sqrt((ch-1)/(ch+1))\n",
      "        \n",
      "        f.write('\\\\draw [thin,color=red,style=dotted] (0,0) circle [radius='+str(gridline)+'];\\n')\n",
      "        hyperbolicOuter = hyperbolicMiddle\n",
      "    \n",
      "    phi = 0\n",
      "    for i in range(0,16):\n",
      "        f.write('\\\\draw [thin,color=red,style=dotted] (0,0) -- ('+str(phi)+':1);\\n')\n",
      "        phi += 360/16\n",
      "    \n",
      "#draw nodes\n",
      "for j in range(0, len(coords)):\n",
      "    coordinatestring = '({:f},{:f})'.format(coords[j][0], coords[j][1])\n",
      "    f.write('\\\\node at ' + coordinatestring)\n",
      "    if j == markednode:\n",
      "        f.write(' [markedCenter] ')\n",
      "    elif G.hasEdge(j, markednode):\n",
      "        f.write(' [markedNeighbour] ')\n",
      "    else:\n",
      "        f.write(' [vertex] ')\n",
      "    f.write('(n' + str(j) + ') {};\\n')\n",
      "    G.setCoordinate(j, (scale*coords[j][0], scale*coords[j][1]))\n",
      "client.exportCoordinates(G)\n",
      "\n",
      "#draw unrelated edges\n",
      "f.write('\\\\begin{scope}[on background layer]\\n')\n",
      "for edge in G.edges():\n",
      "    if edge[0] != markednode and edge[1] != markednode:\n",
      "        f.write('\\draw [normaledge] (n' + str(edge[0])  + ') edge (n' + str(edge[1]) + ');\\n') \n",
      "\n",
      "f.write('\\\\end{scope}\\n')\n",
      "\n",
      "#draw highlighted edges\n",
      "for v in G.neighbors(markednode):\n",
      "     f.write('\\draw [markededge] (n' + str(v)  + ') edge (n' + str(markednode) + ');\\n') \n",
      "\n",
      "\n",
      "f.write('\\\\end{tikzpicture}')\n",
      "f.write('\\\\end{document}')\n",
      "f.close()"
     ],
     "language": "python",
     "metadata": {},
     "outputs": [
      {
       "output_type": "stream",
       "stream": "stdout",
       "text": [
        "Could not connect to the gephi streaming plugin. Did you start the streaming master server in gephi?\n",
        "Could not connect to the gephi streaming plugin. Did you start the streaming master server in gephi?\n",
        "Could not connect to the gephi streaming plugin. Did you start the streaming master server in gephi?\n",
        "Could not connect to the gephi streaming plugin. Did you start the streaming master server in gephi?\n"
       ]
      }
     ],
     "prompt_number": 6
    },
    {
     "cell_type": "code",
     "collapsed": false,
     "input": [],
     "language": "python",
     "metadata": {},
     "outputs": [],
     "prompt_number": 33
    },
    {
     "cell_type": "code",
     "collapsed": false,
     "input": [
      "graphio.writeGraph(G, '../../output/papergraph2.metis')"
     ],
     "language": "python",
     "metadata": {},
     "outputs": [],
     "prompt_number": 34
    },
    {
     "cell_type": "code",
     "collapsed": false,
     "input": [
      "f = open('coorddump2.json', 'w')\n",
      "json.dump(coords, f)"
     ],
     "language": "python",
     "metadata": {},
     "outputs": [],
     "prompt_number": 53
    },
    {
     "cell_type": "code",
     "collapsed": false,
     "input": [],
     "language": "python",
     "metadata": {},
     "outputs": []
    },
    {
     "cell_type": "code",
     "collapsed": false,
     "input": [
      "hyperbolicMiddle = math.acosh((math.cosh(R) + math.cosh(0))/2)"
     ],
     "language": "python",
     "metadata": {},
     "outputs": [],
     "prompt_number": 36
    },
    {
     "cell_type": "code",
     "collapsed": false,
     "input": [],
     "language": "python",
     "metadata": {},
     "outputs": [
      {
       "metadata": {},
       "output_type": "pyout",
       "prompt_number": 38,
       "text": [
        "0.9757767228391624"
       ]
      }
     ],
     "prompt_number": 38
    },
    {
     "cell_type": "code",
     "collapsed": false,
     "input": [],
     "language": "python",
     "metadata": {},
     "outputs": []
    }
   ],
   "metadata": {}
  }
 ]
}
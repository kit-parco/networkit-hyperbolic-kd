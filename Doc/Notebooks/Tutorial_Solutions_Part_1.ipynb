{
 "metadata": {
  "name": "",
  "signature": "sha256:f48be118379fa377c9e38d91e5cebec1308739eafd3931e5c24badb6898e5277"
 },
 "nbformat": 3,
 "nbformat_minor": 0,
 "worksheets": [
  {
   "cells": [
    {
     "cell_type": "markdown",
     "metadata": {},
     "source": [
      "# Solutions to\n",
      "# Tutorial \"Algorithmic Methods for Network Analysis with NetworKit\" (Part 1)\n",
      "Welcome to the hands-on session of our tutorial! This tutorial is based on the user guide of NetworKit, our network analysis software. You will learn in this tutorial how to use NetworKit for fundamental tasks in network analysis.\n",
      "\n",
      "NetworKit can run in your browser (thanks to IPython notebooks) and is still very fast (thanks to C++ code in the background). It is easy to mix text with code and solutions in this environment. Thus, you should be able to obtain your results in a convenient and quick manner. This is not only true for the rather small graphs we use for this tutorial, but for larger instances in production runs as well. In particular you can mix text, code, plots and other rich media in this environment. Since this allows a simplified execution and interpretation of experiments, the interactive approach followed by NetworKit can simplify the cyclic algorithm engineering process significantly (without compromising algorithm performance).\n",
      "\n",
      "## Preparation\n",
      "Let's start by making NetworKit available in your session. Click into the cell below and hit space-return or click the \"Play\" button or select \"Cell -> Run\" in the menu."
     ]
    },
    {
     "cell_type": "code",
     "collapsed": false,
     "input": [
      "from networkit import *"
     ],
     "language": "python",
     "metadata": {},
     "outputs": [],
     "prompt_number": 31
    },
    {
     "cell_type": "markdown",
     "metadata": {},
     "source": [
      "In case a Python warning appears that recommends an update to Python 3.4, simply ignore it for this tutorial. Python 3.3 works just as fine for our purposes.\n",
      "\n",
      "IPython lets us use familiar shell commands in a Python interpreter. Use one of them now to change into the main directory of your NetworKit installation:"
     ]
    },
    {
     "cell_type": "code",
     "collapsed": false,
     "input": [
      "cd ~/workspace/NetworKit"
     ],
     "language": "python",
     "metadata": {},
     "outputs": [
      {
       "output_type": "stream",
       "stream": "stdout",
       "text": [
        "/Users/cls/workspace/NetworKit\n"
       ]
      }
     ],
     "prompt_number": 32
    },
    {
     "cell_type": "markdown",
     "metadata": {},
     "source": [
      "## Reading Graphs\n",
      "Let us start by reading a network from a file on disk: [PGPgiantcompo.graph](http://www.cc.gatech.edu/dimacs10/archive/data/clustering/PGPgiantcompo.graph.bz2). NetworKit supports a number of popular file formats. There is a convenient function in the top namespace which reads a graph from a file:"
     ]
    },
    {
     "cell_type": "code",
     "collapsed": false,
     "input": [
      "G = readGraph(\"input/PGPgiantcompo.graph\", Format.METIS)"
     ],
     "language": "python",
     "metadata": {},
     "outputs": [],
     "prompt_number": 33
    },
    {
     "cell_type": "markdown",
     "metadata": {},
     "source": [
      "In the course of this tutorial, we are going to work (among others) on the `PGPgiantcompo` network, a social network/web of trust in which nodes are PGP keys and an edge represents a signature from one key on another (web of trust). It is distributed with NetworKit as a good starting point.\n",
      "\n",
      "## The Graph Object\n",
      "\n",
      "`Graph` is the central class of NetworKit. An object of this type represents an optionally weighted network. In this tutorial we work with undirected graphs, but NetworKit supports directed graphs as well.\n",
      "\n",
      "Let us inspect several of the methods which the class provides. Maybe the most basic information is the number of nodes and edges in as well as the name of the network."
     ]
    },
    {
     "cell_type": "code",
     "collapsed": false,
     "input": [
      "n = G.numberOfNodes()\n",
      "m = G.numberOfEdges()\n",
      "print(n, m)"
     ],
     "language": "python",
     "metadata": {},
     "outputs": [
      {
       "output_type": "stream",
       "stream": "stdout",
       "text": [
        "10680 24316\n"
       ]
      }
     ],
     "prompt_number": 34
    },
    {
     "cell_type": "code",
     "collapsed": false,
     "input": [
      "G.toString()"
     ],
     "language": "python",
     "metadata": {},
     "outputs": [
      {
       "metadata": {},
       "output_type": "pyout",
       "prompt_number": 35,
       "text": [
        "b'Graph(name=PGPgiantcompo, n=10680, m=24316)'"
       ]
      }
     ],
     "prompt_number": 35
    },
    {
     "cell_type": "markdown",
     "metadata": {},
     "source": [
      "NetworKit stores nodes simply as integer indices. Edges are pairs of such indices. The following prints the indices of the first ten nodes and edges, respectively."
     ]
    },
    {
     "cell_type": "code",
     "collapsed": false,
     "input": [
      "V = G.nodes()\n",
      "print(V[:10])\n",
      "E = G.edges()\n",
      "print(E[:10])"
     ],
     "language": "python",
     "metadata": {},
     "outputs": [
      {
       "output_type": "stream",
       "stream": "stdout",
       "text": [
        "[0, 1, 2, 3, 4, 5, 6, 7, 8, 9]\n",
        "[(42, 11), (101, 28), (111, 92), (128, 87), (141, 0), (165, 125), (169, 111), (176, 143), (187, 38), (192, 105)]\n"
       ]
      }
     ],
     "prompt_number": 36
    },
    {
     "cell_type": "markdown",
     "metadata": {},
     "source": [
      "Another very useful feature is to determine if an edge is present and what its weight is. In case of unweighted graphs, edges have the default weight 1."
     ]
    },
    {
     "cell_type": "code",
     "collapsed": false,
     "input": [
      "edgeExists = G.hasEdge(42,11)\n",
      "if edgeExists:\n",
      "    print(\"Weight of existing edge:\", G.weight(42,11))\n",
      "print(\"Weight of nonexisting edge:\", G.weight(42,12))"
     ],
     "language": "python",
     "metadata": {},
     "outputs": [
      {
       "output_type": "stream",
       "stream": "stdout",
       "text": [
        "Weight of existing edge: 1.0\n",
        "Weight of nonexisting edge: 0.0\n"
       ]
      }
     ],
     "prompt_number": 37
    },
    {
     "cell_type": "markdown",
     "metadata": {},
     "source": [
      "Many graph algorithms can be expressed with iterators over nodes or edges. As an example, let us iterate over the nodes to determine how many of them have more than 100 neighbors."
     ]
    },
    {
     "cell_type": "code",
     "collapsed": false,
     "input": [
      "count = 0 # counts number of nodes with more than 100 neighbors\n",
      "for v in G.nodes():\n",
      "    if G.degree(v) > 100:\n",
      "        count = count + 1\n",
      "print(\"Number of nodes with more than 100 neighbors: \", count)"
     ],
     "language": "python",
     "metadata": {},
     "outputs": [
      {
       "output_type": "stream",
       "stream": "stdout",
       "text": [
        "Number of nodes with more than 100 neighbors:  6\n"
       ]
      }
     ],
     "prompt_number": 38
    },
    {
     "cell_type": "markdown",
     "metadata": {},
     "source": [
      "## Interesting Features of a Network\n",
      "Let us become more concrete: In the talk that accompanies this tutorial you learned about basic network features. Go back to the 'Analytics' section of the slides and answer the following questions within the box below, including the code which found your answer (click on the box to enter text). If you need information on method prototypes, you have at least two options: Use the built-in code completion (tab) or the project website, which offers documentation in the form of an automatically generated reference: https://networkit.iti.kit.edu/documentation/ (Python/C++ Documentation in the left navigation bar).\n",
      "\n",
      "**After** you answered the questions, go on with Tutorial #2."
     ]
    },
    {
     "cell_type": "markdown",
     "metadata": {},
     "source": [
      "### Q&A Session #1\n",
      "1. Who (which vertex) has the least/most 'friends' and how many?\n",
      "**Answer:**\n",
      "\n",
      "2. How many neighbors does a vertex have on average?\n",
      "**Answer:** \n",
      "\n",
      "3. Does the degree distribution follow a power law?\n",
      "**Answer:** \n",
      "\n",
      "4. How often is the friend of a friend also a friend? Let's go for the average fraction here, other definitions are possible...\n",
      "**Answer:**\n",
      "\n",
      "5. How many connected components does the graph have?\n",
      "**Answer:** "
     ]
    },
    {
     "cell_type": "code",
     "collapsed": false,
     "input": [
      "# Enter code for Q&A Session #1 here\n",
      "argmin = 0\n",
      "argmax = 0\n",
      "mini = G.numberOfNodes()\n",
      "maxi = 0\n",
      "degsum = 0\n",
      "for v in G.nodes():\n",
      "    deg = G.degree(v)\n",
      "    degsum = degsum + deg\n",
      "    if deg < mini:\n",
      "        mini = deg\n",
      "        argmin = v\n",
      "    if deg > maxi:\n",
      "        maxi = deg\n",
      "        argmax = v\n",
      "\n",
      "avgdeg = degsum / G.numberOfNodes()\n",
      "\n",
      "# Answers to 1-1) and 1-2)\n",
      "print(\"1-1a) min: \", mini, \" / argmin: \", argmin)\n",
      "print(\"1-1b) max: \", maxi, \" / argmax: \", argmax)\n",
      "print(\"1-2)  avg: \", avgdeg)\n",
      "\n",
      "# Answer to 1-3)\n",
      "dd = properties.degreeDistribution(G)\n",
      "(plf, _, exponent) = properties.degreePowerLaw(G, dd)\n",
      "print(\"Power law fit? \", plf)\n",
      "if (plf == True):\n",
      "    print(\"1-3)  Exponent: \", exponent)\n",
      "    \n",
      "# Answer to 1-4)\n",
      "alcc = properties.ClusteringCoefficient.avgLocal(G)\n",
      "print(\"1-4)  Exact average local clustering coefficient: \", alcc)\n",
      "\n",
      "# Answer to 1-5)\n",
      "conncomp = properties.ConnectedComponents(G)\n",
      "conncomp.run()\n",
      "print(\"1-5)  Number of components: \", conncomp.numberOfComponents())"
     ],
     "language": "python",
     "metadata": {},
     "outputs": [
      {
       "output_type": "stream",
       "stream": "stdout",
       "text": [
        "1-1a) min:  1  / argmin:  0\n",
        "1-1b) max:  205  / argmax:  1143\n",
        "1-2)  avg:  4.5535580524344565\n",
        "Value 0 in data. Throwing out 0 values\n",
        "Calculating best minimal value for power law fit\n",
        "Power law fit?  True\n",
        "1-3)  Exponent:  1.69966855136\n",
        "1-4)  Exact average local clustering coefficient:  0.44028755162535205\n",
        "1-5)  Number of components:  1\n"
       ]
      }
     ],
     "prompt_number": 39
    },
    {
     "cell_type": "code",
     "collapsed": false,
     "input": [],
     "language": "python",
     "metadata": {},
     "outputs": [],
     "prompt_number": 39
    }
   ],
   "metadata": {}
  }
 ]
}
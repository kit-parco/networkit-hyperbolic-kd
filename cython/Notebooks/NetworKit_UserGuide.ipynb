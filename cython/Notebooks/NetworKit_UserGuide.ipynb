{
 "metadata": {
  "name": ""
 },
 "nbformat": 3,
 "nbformat_minor": 0,
 "worksheets": [
  {
   "cells": [
    {
     "cell_type": "heading",
     "level": 2,
     "metadata": {},
     "source": [
      "NetworKit User Guide"
     ]
    },
    {
     "cell_type": "heading",
     "level": 2,
     "metadata": {},
     "source": [
      "About NetworKit"
     ]
    },
    {
     "cell_type": "markdown",
     "metadata": {},
     "source": [
      "[NetworKit][networkit] is an open-source toolkit for high-performance\n",
      "network analysis. Its aim is to provide tools for the analysis of large\n",
      "networks in the size range from thousands to billions of edges. For this\n",
      "purpose, it implements efficient graph algorithms, many of them parallel to\n",
      "utilize multicore architectures. These are meant to compute standard measures\n",
      "of network analysis, such as degree sequences, clustering coefficients and\n",
      "centrality. In this respect, NetworKit is comparable\n",
      "to packages such as [NetworkX][networkx], albeit with a focus on parallelism \n",
      "and scalability. NetworKit is also a testbed for algorithm engineering and\n",
      "contains a few novel algorithms from recently published research, especially\n",
      "in the area of community detection.\n",
      "\n",
      "[networkit]: http://parco.iti.kit.edu/software/networkit.shtml \n",
      "[networkx]: http://networkx.github.com/\n",
      "\n"
     ]
    },
    {
     "cell_type": "heading",
     "level": 2,
     "metadata": {},
     "source": [
      "Introduction"
     ]
    },
    {
     "cell_type": "markdown",
     "metadata": {},
     "source": [
      "This notebook provides an interactive introduction to the features of NetworKit, consisting of text and executable code. We assume that you have read the Readme and successfully built the core library and the Python module. Code cells can be run one by one (e.g. by selecting the cell and pressing `shift+enter`), or all at once (via the `Cell->Run All` command). Try running all cells now to verify that NetworKit has been properly built and installed.\n"
     ]
    },
    {
     "cell_type": "heading",
     "level": 2,
     "metadata": {},
     "source": [
      "Preparation"
     ]
    },
    {
     "cell_type": "markdown",
     "metadata": {},
     "source": [
      "NetworKit is a hybrid built from C++ and Python code: Its core functionality is implemented in C++ for performance reasons, and then wrapped for Python using the Cython compiler. This allows us to expose high-performance parallel code as a normal Python module. On the surface, NetworKit is just that and can be imported accordingly:"
     ]
    },
    {
     "cell_type": "code",
     "collapsed": false,
     "input": [
      "from NetworKit import *"
     ],
     "language": "python",
     "metadata": {},
     "outputs": [],
     "prompt_number": 1
    },
    {
     "cell_type": "markdown",
     "metadata": {},
     "source": [
      "IPython lets us use familiar shell commands in a Python interpreter. Use one of them now to change into the directory of your NetworKit download:"
     ]
    },
    {
     "cell_type": "code",
     "collapsed": false,
     "input": [
      "cd ~/workspace/NetworKit/"
     ],
     "language": "python",
     "metadata": {},
     "outputs": [
      {
       "output_type": "stream",
       "stream": "stdout",
       "text": [
        "/Users/cls/workspace/NetworKit\n"
       ]
      }
     ],
     "prompt_number": 2
    },
    {
     "cell_type": "heading",
     "level": 2,
     "metadata": {},
     "source": [
      "Reading Graphs"
     ]
    },
    {
     "cell_type": "markdown",
     "metadata": {},
     "source": [
      "Let us start by reading a network from a file on disk: [PGPgiantcompo.graph](http://www.cc.gatech.edu/dimacs10/archive/data/clustering/PGPgiantcompo.graph.bz2). In the course of this tutorial, we are going to work on the `PGPgiantcompo` network, a social network/web of trust in which nodes are PGP keys and an edge represents a signature from one key on another. It is distributed with NetworKit as a good starting point.\n",
      "\n",
      "There is a convenient function in the top namespace which tries to guess the input format and select the appropriate reader:"
     ]
    },
    {
     "cell_type": "code",
     "collapsed": false,
     "input": [
      "G = readGraph(\"input/PGPgiantcompo.graph\")"
     ],
     "language": "python",
     "metadata": {},
     "outputs": [],
     "prompt_number": 3
    },
    {
     "cell_type": "markdown",
     "metadata": {},
     "source": [
      "There is a large variety of formats for storing graph data in files. For NetworKit, the currently best supported format is the [METIS adjacency format](http://people.sc.fsu.edu/~jburkardt/data/metis_graph/metis_graph.html). Various example graphs in this format can be found [here](http://www.cc.gatech.edu/dimacs10/downloads.shtml).  The `readGraph` function tries to be an intelligent wrapper for various reader classes. In this example, it uses the `METISGraphReader` which is located in the `graphio` submodule, alongside other readers. These classes can also be used explicitly:\n"
     ]
    },
    {
     "cell_type": "code",
     "collapsed": false,
     "input": [
      "graphio.METISGraphReader().read(\"input/PGPgiantcompo.graph\")"
     ],
     "language": "python",
     "metadata": {},
     "outputs": [
      {
       "metadata": {},
       "output_type": "pyout",
       "prompt_number": 4,
       "text": [
        "<_NetworKit.Graph at 0x107f04e00>"
       ]
      }
     ],
     "prompt_number": 4
    },
    {
     "cell_type": "heading",
     "level": 2,
     "metadata": {},
     "source": [
      "The Graph Object"
     ]
    },
    {
     "cell_type": "markdown",
     "metadata": {},
     "source": [
      "`Graph` is the central class of NetworKit. An object of this type represents an undirected, optionally weighted network. Let us inspect several of the methods which the class provides."
     ]
    },
    {
     "cell_type": "code",
     "collapsed": false,
     "input": [
      "n = G.numberOfNodes()\n",
      "m = G.numberOfEdges()\n",
      "print(n, m)"
     ],
     "language": "python",
     "metadata": {},
     "outputs": [
      {
       "output_type": "stream",
       "stream": "stdout",
       "text": [
        "10680 24316\n"
       ]
      }
     ],
     "prompt_number": 5
    },
    {
     "cell_type": "code",
     "collapsed": false,
     "input": [
      "G.toString()"
     ],
     "language": "python",
     "metadata": {},
     "outputs": [
      {
       "metadata": {},
       "output_type": "pyout",
       "prompt_number": 6,
       "text": [
        "b'Graph(name=PGPgiantcompo, n=10680, m=24316)'"
       ]
      }
     ],
     "prompt_number": 6
    },
    {
     "cell_type": "markdown",
     "metadata": {},
     "source": [
      "Nodes are simply integer indices, and edges are pairs of such indices."
     ]
    },
    {
     "cell_type": "code",
     "collapsed": false,
     "input": [
      "V = G.nodes()\n",
      "print(V[:10])\n",
      "E = G.edges()\n",
      "print(E[:10])"
     ],
     "language": "python",
     "metadata": {},
     "outputs": [
      {
       "output_type": "stream",
       "stream": "stdout",
       "text": [
        "[0, 1, 2, 3, 4, 5, 6, 7, 8, 9]\n",
        "[(42, 11), (101, 28), (111, 92), (128, 87), (141, 0), (165, 125), (169, 111), (176, 143), (187, 38), (192, 105)]\n"
       ]
      }
     ],
     "prompt_number": 7
    },
    {
     "cell_type": "code",
     "collapsed": false,
     "input": [
      "G.hasEdge(42,11)"
     ],
     "language": "python",
     "metadata": {},
     "outputs": [
      {
       "metadata": {},
       "output_type": "pyout",
       "prompt_number": 8,
       "text": [
        "True"
       ]
      }
     ],
     "prompt_number": 8
    },
    {
     "cell_type": "markdown",
     "metadata": {},
     "source": [
      "This network is unweighted, meaning that each edge has the default weight of 1."
     ]
    },
    {
     "cell_type": "code",
     "collapsed": false,
     "input": [
      "G.weight(42,11)"
     ],
     "language": "python",
     "metadata": {},
     "outputs": [
      {
       "metadata": {},
       "output_type": "pyout",
       "prompt_number": 9,
       "text": [
        "1.0"
       ]
      }
     ],
     "prompt_number": 9
    },
    {
     "cell_type": "heading",
     "level": 2,
     "metadata": {},
     "source": [
      "Drawing Graphs"
     ]
    },
    {
     "cell_type": "heading",
     "level": 2,
     "metadata": {},
     "source": [
      "Basic Properties of a Network"
     ]
    },
    {
     "cell_type": "markdown",
     "metadata": {},
     "source": [
      "We now demonstrate the `properties` module, which contains tools that will give you an overview of standard properties of a network.\n",
      "\n",
      "For a quick overview of the most frequently used properties, call the following function:"
     ]
    },
    {
     "cell_type": "code",
     "collapsed": false,
     "input": [
      "properties.overview(G)"
     ],
     "language": "python",
     "metadata": {},
     "outputs": [
      {
       "output_type": "stream",
       "stream": "stdout",
       "text": [
        "\n",
        "Network Properties\n",
        "==================\n",
        "Basic Properties\n",
        "--------------  ------------\n",
        "nodes (n)       10680\n",
        "edges (m)       24316\n",
        "min. degree         1\n",
        "max. degree       205\n",
        "avg. degree         4.55356\n",
        "isolated nodes      0\n",
        "self-loops          0\n",
        "density             0.000426\n",
        "--------------  ------------\n",
        "Path Structure\n",
        "-------------------------  -----\n",
        "connected components           1\n",
        "size of largest component  10680\n",
        "diameter\n",
        "avg. eccentricity\n",
        "-------------------------  -----\n",
        "Miscellaneous\n",
        "--------------------  ------------\n",
        "degree assortativity      0.238211\n",
        "cliques               13814\n",
        "--------------------  ------------\n",
        "Community Structure\n",
        "---------------------------------  -----------  --------\n",
        "avg. local clustering coefficient               0.265945\n",
        "PLP community detection\n",
        "                                   communities  951\n",
        "                                   modularity   0.802600\n",
        "PLM community detection\n",
        "                                   communities  95\n",
        "                                   modularity   0.880245\n",
        "---------------------------------  -----------  --------\n",
        "Degree Distribution\n",
        "-------------------\n",
        "0-   :  \u2587\u2587\u2587\u2587\u2587\u2587\u2587\u2587\u2587\u2587\u2587\u2587\u2587\u2587\u2587\u2587\u2587\u2587\u2587\u2587\u2587\u2587\u2587\u2587\u2587\u2587\u2587\u2587\u2587\u2587\u2587\u2587\u2587\u2587\u2587\u2587\u2587\u2587\u2587\u2587\u2587\u2587\u2587\u2587\u2587\u2587\u2587\u2587\u2587\u25879394.00\n",
        "9-   :  \u2587\u2587\u2587\u2587 781.00\n",
        "18-  :  \u2587 240.00\n",
        "27-  :  | 101.00\n",
        "36-  :  |  91.00\n",
        "45-  :  |  28.00\n",
        "54-  :  |  17.00\n",
        "63-  :  |  12.00\n",
        "72-  :  |   5.00\n",
        "81-  :  |   3.00\n",
        "90-  :  |   2.00\n",
        "99-  :  |   1.00\n",
        "108- :  |   2.00\n",
        "117- :  |   0.00\n",
        "126- :  |   1.00\n",
        "135- :  |   0.00\n",
        "144- :  |   0.00\n",
        "153- :  |   0.00\n",
        "162- :  |   1.00\n",
        "171- :  |   0.00\n",
        "180- :  |   0.00\n",
        "189- :  |   0.00\n",
        "198- :  |   1.00\n",
        "207- :  |   0.00\n",
        "216- :  |   0.00\n",
        "\n"
       ]
      }
     ],
     "prompt_number": 10
    },
    {
     "cell_type": "markdown",
     "metadata": {},
     "source": [
      "Some values are missing because it was decided that calculation would take too long for this particular graph. We are working on adding efficient algorithms so that even large networks can be profiled in seconds."
     ]
    },
    {
     "cell_type": "heading",
     "level": 3,
     "metadata": {},
     "source": [
      "Connected Components"
     ]
    },
    {
     "cell_type": "markdown",
     "metadata": {},
     "source": [
      "A connected component is a set of nodes in which each pair of nodes is connected by a path. The following function determines the connected components of a graph and returns the number of components as well as a map from component index to component size:"
     ]
    },
    {
     "cell_type": "code",
     "collapsed": false,
     "input": [
      "properties.components(G)"
     ],
     "language": "python",
     "metadata": {},
     "outputs": [
      {
       "metadata": {},
       "output_type": "pyout",
       "prompt_number": 11,
       "text": [
        "(1, {0: 10680})"
       ]
      }
     ],
     "prompt_number": 11
    },
    {
     "cell_type": "markdown",
     "metadata": {},
     "source": [
      "For more fine-grained access, one can use the connected component algorithm class directly, i.e. the wrapper around the underlying C++ implementation. This is a recurring pattern throughout NetworKit."
     ]
    },
    {
     "cell_type": "code",
     "collapsed": false,
     "input": [
      "cc = properties.ConnectedComponents()\n",
      "cc.run(G)\n",
      "print(\"number of components \", cc.numberOfComponents())\n",
      "v = 0\n",
      "print(\"component of node \", v , \": \" , cc.componentOfNode(0))\n",
      "print(\"map of component sizes: \", cc.getComponentSizes())"
     ],
     "language": "python",
     "metadata": {},
     "outputs": [
      {
       "output_type": "stream",
       "stream": "stdout",
       "text": [
        "number of components  1\n",
        "component of node  0 :  0\n",
        "map of component sizes:  {0: 10680}\n"
       ]
      }
     ],
     "prompt_number": 12
    },
    {
     "cell_type": "heading",
     "level": 3,
     "metadata": {},
     "source": [
      "Degree Distribution"
     ]
    },
    {
     "cell_type": "markdown",
     "metadata": {},
     "source": [
      "Node degree, the number of edges connected to a node, is one of the most studied properties of networks. Types of networks are often characterized in terms of their distribution of node degrees. We obtain and visualize the degree distribution of our example network as follows.  "
     ]
    },
    {
     "cell_type": "code",
     "collapsed": false,
     "input": [
      "dd = properties.degreeDistribution(G)\n",
      "xscale(\"log\")\n",
      "xlabel(\"degree\")\n",
      "yscale(\"log\")\n",
      "ylabel(\"number of nodes\")\n",
      "plot(dd)"
     ],
     "language": "python",
     "metadata": {},
     "outputs": [
      {
       "metadata": {},
       "output_type": "pyout",
       "prompt_number": 13,
       "text": [
        "[<matplotlib.lines.Line2D at 0x108c2d810>]"
       ]
      },
      {
       "metadata": {},
       "output_type": "display_data",
       "png": "[encoded data removed]",
       "text": [
        "<matplotlib.figure.Figure at 0x1083ba350>"
       ]
      }
     ],
     "prompt_number": 13
    },
    {
     "cell_type": "markdown",
     "metadata": {},
     "source": [
      "We choose a logarithmic scale on both axes because a *powerlaw degree distribution*, a characteristic feature of complex networks, would show up as a straight line from the top left to the bottom right on such a plot. As we see, the degree distribution of the `PGPgiantcompo` network is definitely skewed, with few high-degree nodes and many low-degree nodes. But does the distribution actually obey a power law? In order to study this, we need to apply the powerlaw module."
     ]
    },
    {
     "cell_type": "code",
     "collapsed": false,
     "input": [
      "fit = properties.powerlaw.Fit(dd)"
     ],
     "language": "python",
     "metadata": {},
     "outputs": [
      {
       "output_type": "stream",
       "stream": "stdout",
       "text": [
        "Value 0 in data. Throwing out 0 values\n",
        "Calculating best minimal value for power law fit\n"
       ]
      }
     ],
     "prompt_number": 14
    },
    {
     "cell_type": "code",
     "collapsed": false,
     "input": [
      "fit.sigma"
     ],
     "language": "python",
     "metadata": {},
     "outputs": [
      {
       "metadata": {},
       "output_type": "pyout",
       "prompt_number": 15,
       "text": [
        "0.1605149741774588"
       ]
      }
     ],
     "prompt_number": 15
    },
    {
     "cell_type": "markdown",
     "metadata": {},
     "source": [
      "We use the `powerlaw` module to test whether a powerlaw is a better fit to the degree distribution than other candidate distributions. From the documentation of the module:\n",
      "\n",
      "\"`R` is the loglikelihood ratio between the two candidate distributions. This number will be positive\n",
      "if the data is more likely in the first distribution, and negative if the data is more likely in the second\n",
      "distribution. The exponential distribution is the absolute minimum alternative candidate for evaluating the heavy- tailedness of the distribution. The reason is definitional: the typical quantitative definition of a \u201dheavy- tail\u201d is that it is not exponentially bounded. Thus if a power law is not a better fit than an exponential distribution (as in the above example) there is scarce ground for considering the distribution to be heavy-tailed at all, let alone a power law.\""
     ]
    },
    {
     "cell_type": "code",
     "collapsed": false,
     "input": [
      "R, p = fit.distribution_compare(\"power_law\", \"exponential\", normalized_ratio=True)\n",
      "print(R, p)"
     ],
     "language": "python",
     "metadata": {},
     "outputs": [
      {
       "output_type": "stream",
       "stream": "stdout",
       "text": [
        "2.10114439172 0.0356282930896\n"
       ]
      }
     ],
     "prompt_number": 16
    },
    {
     "cell_type": "markdown",
     "metadata": {},
     "source": [
      "Supposing that a powerlaw is a good fit for the degree distribution, a characteristic attribute of the network is the exponent of the distribution:"
     ]
    },
    {
     "cell_type": "code",
     "collapsed": false,
     "input": [
      "properties.powerLawExponent(G)"
     ],
     "language": "python",
     "metadata": {},
     "outputs": [
      {
       "output_type": "stream",
       "stream": "stdout",
       "text": [
        "Value 0 in data. Throwing out 0 values\n",
        "Calculating best minimal value for power law fit\n"
       ]
      },
      {
       "metadata": {},
       "output_type": "pyout",
       "prompt_number": 17,
       "text": [
        "1.6996685513645837"
       ]
      }
     ],
     "prompt_number": 17
    },
    {
     "cell_type": "heading",
     "level": 3,
     "metadata": {},
     "source": [
      "Transitivity"
     ]
    },
    {
     "cell_type": "markdown",
     "metadata": {},
     "source": [
      "In the most general sense, transitivity measures quantify how likely it is that the relations out of which the network is built are transitive. The clustering coefficient is the most prominent of such measures. We need to distinguish between global and local clustering coefficient: The global clustering coefficient for a network gives the fraction of closed triads. The local clustering coefficient focuses on a single node and counts how many of the possible edges between neighbors of the node exist. The average of this value over all nodes is a good indicator for the degreee of transitivity and the presence of community structures in a network, and this is what the following function returns:"
     ]
    },
    {
     "cell_type": "code",
     "collapsed": false,
     "input": [
      "properties.clustering(G)"
     ],
     "language": "python",
     "metadata": {},
     "outputs": [
      {
       "metadata": {},
       "output_type": "pyout",
       "prompt_number": 18,
       "text": [
        "0.2659452243010436"
       ]
      }
     ],
     "prompt_number": 18
    },
    {
     "cell_type": "heading",
     "level": 3,
     "metadata": {},
     "source": [
      "Core Decomposition"
     ]
    },
    {
     "cell_type": "heading",
     "level": 2,
     "metadata": {},
     "source": [
      "Community Detection"
     ]
    },
    {
     "cell_type": "markdown",
     "metadata": {},
     "source": [
      "This section demonstrates the community detection capabilities of NetworKit. Community detection is concerned with identifying groups of nodes which are significantly more densely connected to eachother than to the rest of the network."
     ]
    },
    {
     "cell_type": "markdown",
     "metadata": {},
     "source": [
      "Code concerned with community detection is contained in the `community` module. The module provides a top-level function to quickly perform community detection with a suitable algorithm and print some stats about the result."
     ]
    },
    {
     "cell_type": "code",
     "collapsed": false,
     "input": [
      "community.detectCommunities(G)"
     ],
     "language": "python",
     "metadata": {},
     "outputs": [
      {
       "output_type": "stream",
       "stream": "stdout",
       "text": [
        "PLM2(balanced,) detected communities in 0.04379677772521973 [s]\n",
        "solution properties:\n",
        "-------------------  ----------\n",
        "# communities        102\n",
        "min community size     6\n",
        "max community size   667\n",
        "avg. community size  104.706\n",
        "imbalance              6.35238\n",
        "modularity             0.883445\n",
        "-------------------  ----------\n"
       ]
      },
      {
       "metadata": {},
       "output_type": "pyout",
       "prompt_number": 19,
       "text": [
        "<_NetworKit.Clustering at 0x108951cf0>"
       ]
      }
     ],
     "prompt_number": 19
    },
    {
     "cell_type": "markdown",
     "metadata": {},
     "source": [
      "The function prints some statistics and returns the partition object representing the communities in the network as an assignment of node to community label. Let's capture this result of the last function call."
     ]
    },
    {
     "cell_type": "code",
     "collapsed": false,
     "input": [
      "communities = _"
     ],
     "language": "python",
     "metadata": {},
     "outputs": [],
     "prompt_number": 20
    },
    {
     "cell_type": "markdown",
     "metadata": {},
     "source": [
      "*Modularity* is the primary measure for the quality of a community detection solution. The value is in the range `[-0.5,1]` and usually depends both on the performance of the algorithm and the presence of distinctive community structures in the network."
     ]
    },
    {
     "cell_type": "code",
     "collapsed": false,
     "input": [
      "community.Modularity().getQuality(communities, G)"
     ],
     "language": "python",
     "metadata": {},
     "outputs": [
      {
       "metadata": {},
       "output_type": "pyout",
       "prompt_number": 21,
       "text": [
        "0.8834451766645675"
       ]
      }
     ],
     "prompt_number": 21
    },
    {
     "cell_type": "heading",
     "level": 3,
     "metadata": {},
     "source": [
      "Choice of Algorithm"
     ]
    },
    {
     "cell_type": "markdown",
     "metadata": {},
     "source": [
      "The community detection function used a good default choice for an algorithm: *PLM*, our parallel implementation of the well-known Louvain method. It yields a high-quality solution at reasonably fast running times. Let us now apply a variation of this algorithm."
     ]
    },
    {
     "cell_type": "code",
     "collapsed": false,
     "input": [
      "community.detectCommunities(G, algo=community.PLM2())"
     ],
     "language": "python",
     "metadata": {},
     "outputs": [
      {
       "output_type": "stream",
       "stream": "stdout",
       "text": [
        "PLM2(balanced,refinement) detected communities in 0.05304598808288574 [s]\n",
        "solution properties:\n",
        "-------------------  ----------\n",
        "# communities         97\n",
        "min community size     6\n",
        "max community size   676\n",
        "avg. community size  110.103\n",
        "imbalance              6.09009\n",
        "modularity             0.883998\n",
        "-------------------  ----------\n"
       ]
      },
      {
       "metadata": {},
       "output_type": "pyout",
       "prompt_number": 34,
       "text": [
        "<_NetworKit.Clustering at 0x108c72270>"
       ]
      }
     ],
     "prompt_number": 34
    },
    {
     "cell_type": "markdown",
     "metadata": {},
     "source": [
      "We have switched on refinement, and we can see how modularity is slightly improved. For a small network like this, this takes only marginally longer."
     ]
    },
    {
     "cell_type": "heading",
     "level": 3,
     "metadata": {},
     "source": [
      "Visualizing the Result"
     ]
    },
    {
     "cell_type": "markdown",
     "metadata": {},
     "source": [
      "We can easily plot the distribution of community sizes as follows. While the distribution is skewed, it does not seem to fit a power-law, as shown by a log-log plot."
     ]
    },
    {
     "cell_type": "code",
     "collapsed": false,
     "input": [
      "sizes = communities.clusterSizes()\n",
      "sizes.sort(reverse=True)\n",
      "ax1 = subplot(2,1,1)\n",
      "ax1.set_ylabel(\"size\")\n",
      "ax1.plot(sizes)\n",
      "\n",
      "ax2 = subplot(2,1,2)\n",
      "ax2.set_xscale(\"log\")\n",
      "ax2.set_yscale(\"log\")\n",
      "ax2.set_ylabel(\"size\")\n",
      "ax2.plot(sizes)"
     ],
     "language": "python",
     "metadata": {},
     "outputs": [
      {
       "metadata": {},
       "output_type": "pyout",
       "prompt_number": 23,
       "text": [
        "[<matplotlib.lines.Line2D at 0x108ca3690>]"
       ]
      },
      {
       "metadata": {},
       "output_type": "display_data",
       "png": "[encoded data removed]",
       "text": [
        "<matplotlib.figure.Figure at 0x108f20d90>"
       ]
      }
     ],
     "prompt_number": 23
    },
    {
     "cell_type": "markdown",
     "metadata": {},
     "source": [
      "The visualization module provides a function which draws the community graph for a community detection solution: Communities are contracted into single nodes whose size corresponds to the community size."
     ]
    },
    {
     "cell_type": "code",
     "collapsed": false,
     "input": [
      "viztasks.drawCommunityGraph(G, communities)"
     ],
     "language": "python",
     "metadata": {},
     "outputs": [
      {
       "metadata": {},
       "output_type": "display_data",
       "png": "[encoded data removed]",
       "text": [
        "<matplotlib.figure.Figure at 0x1065a4f90>"
       ]
      }
     ],
     "prompt_number": 24
    },
    {
     "cell_type": "heading",
     "level": 2,
     "metadata": {},
     "source": [
      "Centrality"
     ]
    },
    {
     "cell_type": "markdown",
     "metadata": {},
     "source": [
      "[Centrality](http://en.wikipedia.org/wiki/Centrality) measures the relative importance of a node within a graph."
     ]
    },
    {
     "cell_type": "heading",
     "level": 2,
     "metadata": {},
     "source": [
      "NetworkX Compatibility"
     ]
    },
    {
     "cell_type": "markdown",
     "metadata": {},
     "source": [
      "[NetworkX](http://en.wikipedia.org/wiki/Centrality) is a popular Python package for network analysis. It is currently much richer in features than NetworKit, but unlike NetworkX, NetworKit is able to process graphs with millions to billions of edges. To let both packages complement eachother, and to enable the adaptation of existing NetworkX-based code, we support the conversion of the respective graph data structures."
     ]
    },
    {
     "cell_type": "code",
     "collapsed": false,
     "input": [
      "import networkx as nx\n",
      "nxG = nk2nx(G) # convert from NetworKit.Graph to networkx.Graph\n",
      "print(nx.degree_assortativity_coefficient(nxG))"
     ],
     "language": "python",
     "metadata": {},
     "outputs": [
      {
       "output_type": "stream",
       "stream": "stdout",
       "text": [
        "0.238211371708\n"
       ]
      }
     ],
     "prompt_number": 25
    },
    {
     "cell_type": "code",
     "collapsed": false,
     "input": [
      "nxG = nx.generators.watts_strogatz_graph(42, 2, 0.01)\n",
      "nkG = nx2nk(nxG)\n",
      "viztasks.drawGraph(nkG)"
     ],
     "language": "python",
     "metadata": {},
     "outputs": [
      {
       "metadata": {},
       "output_type": "display_data",
       "png": "[encoded data removed]",
       "text": [
        "<matplotlib.figure.Figure at 0x108ca3850>"
       ]
      }
     ],
     "prompt_number": 26
    },
    {
     "cell_type": "heading",
     "level": 2,
     "metadata": {},
     "source": [
      "Generating Graphs"
     ]
    },
    {
     "cell_type": "markdown",
     "metadata": {},
     "source": [
      "An important subfield of network science is the design and analysis of generative models. A variety of generative models have been proposed with the aim of reproducing one or several of the properties we find in real-world complex networks. NetworKit includes generator algorithms for several of them."
     ]
    },
    {
     "cell_type": "markdown",
     "metadata": {},
     "source": [
      "The **Erd\u00f6s-Renyi model** is the most basic random graph model, in which each edge exists with the same uniform probability. NetworKit provides an efficient generator:"
     ]
    },
    {
     "cell_type": "code",
     "collapsed": false,
     "input": [
      "ERG = generators.ErdosRenyiGenerator(1000, 0.1).generate()"
     ],
     "language": "python",
     "metadata": {},
     "outputs": [],
     "prompt_number": 27
    },
    {
     "cell_type": "code",
     "collapsed": false,
     "input": [
      "properties.overview(ERG)"
     ],
     "language": "python",
     "metadata": {},
     "outputs": [
      {
       "output_type": "stream",
       "stream": "stdout",
       "text": [
        "\n",
        "Network Properties\n",
        "==================\n",
        "Basic Properties\n",
        "--------------  -----------\n",
        "nodes (n)        1000\n",
        "edges (m)       50010\n",
        "min. degree        74\n",
        "max. degree       134\n",
        "avg. degree       100.02\n",
        "isolated nodes      0\n",
        "self-loops          0\n",
        "density             0.10012\n",
        "--------------  -----------\n",
        "Path Structure\n",
        "-------------------------  ----\n",
        "connected components          1\n",
        "size of largest component  1000\n",
        "diameter\n",
        "avg. eccentricity\n",
        "-------------------------  ----\n",
        "Miscellaneous\n",
        "--------------------  -------------\n",
        "degree assortativity      -0.002088\n",
        "cliques               100006\n",
        "--------------------  -------------\n",
        "Community Structure\n",
        "---------------------------------  -----------  --------\n",
        "avg. local clustering coefficient               0.100096\n",
        "PLP community detection\n",
        "                                   communities  1\n",
        "                                   modularity\n",
        "PLM community detection\n",
        "                                   communities  4\n",
        "                                   modularity   0.051101\n",
        "---------------------------------  -----------  --------\n",
        "Degree Distribution\n",
        "-------------------\n",
        "0-   :  |   0.00\n",
        "6-   :  |   0.00\n",
        "12-  :  |   0.00\n",
        "18-  :  |   0.00\n",
        "24-  :  |   0.00\n",
        "30-  :  |   0.00\n",
        "36-  :  |   0.00\n",
        "42-  :  |   0.00\n",
        "48-  :  |   0.00\n",
        "54-  :  |   0.00\n",
        "60-  :  |   0.00\n",
        "66-  :  |   0.00\n",
        "72-  :  \u2587   6.00\n",
        "78-  :  \u2587\u2587\u2587\u2587\u2587\u2587\u2587\u2587  40.00\n",
        "84-  :  \u2587\u2587\u2587\u2587\u2587\u2587\u2587\u2587\u2587\u2587\u2587\u2587\u2587\u2587\u2587\u2587\u2587\u2587\u2587  97.00\n",
        "90-  :  \u2587\u2587\u2587\u2587\u2587\u2587\u2587\u2587\u2587\u2587\u2587\u2587\u2587\u2587\u2587\u2587\u2587\u2587\u2587\u2587\u2587\u2587\u2587\u2587\u2587\u2587\u2587\u2587\u2587\u2587\u2587\u2587\u2587\u2587\u2587\u2587\u2587 185.00\n",
        "96-  :  \u2587\u2587\u2587\u2587\u2587\u2587\u2587\u2587\u2587\u2587\u2587\u2587\u2587\u2587\u2587\u2587\u2587\u2587\u2587\u2587\u2587\u2587\u2587\u2587\u2587\u2587\u2587\u2587\u2587\u2587\u2587\u2587\u2587\u2587\u2587\u2587\u2587\u2587\u2587\u2587\u2587\u2587\u2587\u2587\u2587\u2587\u2587\u2587\u2587 245.00\n",
        "102- :  \u2587\u2587\u2587\u2587\u2587\u2587\u2587\u2587\u2587\u2587\u2587\u2587\u2587\u2587\u2587\u2587\u2587\u2587\u2587\u2587\u2587\u2587\u2587\u2587\u2587\u2587\u2587\u2587\u2587\u2587\u2587\u2587\u2587\u2587\u2587\u2587\u2587\u2587\u2587\u2587\u2587\u2587 206.00\n",
        "108- :  \u2587\u2587\u2587\u2587\u2587\u2587\u2587\u2587\u2587\u2587\u2587\u2587\u2587\u2587\u2587\u2587\u2587\u2587\u2587\u2587\u2587\u2587\u2587\u2587\u2587\u2587\u2587\u2587 141.00\n",
        "114- :  \u2587\u2587\u2587\u2587\u2587\u2587\u2587\u2587\u2587\u2587\u2587  54.00\n",
        "120- :  \u2587\u2587\u2587  19.00\n",
        "126- :  \u2587   5.00\n",
        "132- :  |   2.00\n",
        "138- :  |   0.00\n",
        "144- :  |   0.00\n",
        "\n"
       ]
      }
     ],
     "prompt_number": 28
    },
    {
     "cell_type": "heading",
     "level": 2,
     "metadata": {},
     "source": [
      "Settings"
     ]
    },
    {
     "cell_type": "markdown",
     "metadata": {},
     "source": [
      "In this section we discuss global settings."
     ]
    },
    {
     "cell_type": "heading",
     "level": 3,
     "metadata": {},
     "source": [
      "Logging"
     ]
    },
    {
     "cell_type": "heading",
     "level": 3,
     "metadata": {},
     "source": [
      "Parallelism"
     ]
    },
    {
     "cell_type": "code",
     "collapsed": false,
     "input": [],
     "language": "python",
     "metadata": {},
     "outputs": [],
     "prompt_number": 28
    }
   ],
   "metadata": {}
  }
 ]
}
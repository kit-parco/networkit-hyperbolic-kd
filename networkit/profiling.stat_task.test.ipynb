{
 "metadata": {
  "name": "",
  "signature": "sha256:1c88e1272b374a15d7d569b83b02ef098346870cbb0f8354baf80d19895174dc"
 },
 "nbformat": 3,
 "nbformat_minor": 0,
 "worksheets": [
  {
   "cells": [
    {
     "cell_type": "code",
     "collapsed": false,
     "input": [
      "from networkit import * "
     ],
     "language": "python",
     "metadata": {},
     "outputs": [
      {
       "html": [
        "\n",
        "\t\t<script type=\"text/javascript\">\n",
        "\t\t<!--\n",
        "\t\t\t\n",
        "\t\t{\n",
        "\t\t\tvar element = document.getElementById('NetworKit_script');\n",
        "\t\t\tif (element) {\n",
        "\t\t\t\telement.parentNode.removeChild(element);\n",
        "\t\t\t}\n",
        "\t\t\telement = document.createElement('script');\n",
        "\t\t\telement.type = 'text/javascript';\n",
        "\t\t\telement.innerHTML = '/* file: profiling.js author: Mark Erb This file contains all JavaScript scripts for the profiling layout The data will be automatically embedded as singelton into the original IPython Layout html > head > script id=\"NetworKit_script\" In addition a function for hiding the Overlay is defined in \"profiling.py\" To prevent conflicts with the IPython Notebook, prove that every function begins with \"NetworKit_\". */ /* Markup the data from \"profiling.profile.html\" Arguments: id: ID of the \"NetworKit_Page\" to markup */ function NetworKit_pageEmbed(id) { var elements = document.getElementById(id).getElementsByClassName(\"Plot\"); var i, j; for (i=0; i<elements.length; i++) { elements[i].id = id + \"_Plot_\" + i; var data = elements[i].getAttribute(\"data-image\").split(\"|\"); elements[i].removeAttribute(\"data-image\"); var content = \"<div class=\\\\\"Image\\\\\" id=\\\\\"\" + elements[i].id + \"_Image\\\\\">\" + \" <div class=\\\\\"Title\\\\\">\" + elements[i].title + \"</div>\" + \"</div>\"; elements[i].innerHTML = content; elements[i].setAttribute(\"data-image-index\", 0); elements[i].setAttribute(\"data-image-length\", data.length); for (j=0; j<data.length; j++) { elements[i].setAttribute(\"data-image-\" + j, data[j]); } NetworKit_plotUpdate(elements[i]); elements[i].onclick = function (e) { NetworKit_overlayShow((e.target) ? e.target : e.srcElement); } } } /* Update Thumbnails. Arguments: source: Element (class=NetworKit_Plot) to update */ function NetworKit_plotUpdate(source) { var index = source.getAttribute(\"data-image-index\"); var data = source.getAttribute(\"data-image-\" + index); var image = document.getElementById(source.id + \"_Image\"); image.style.backgroundImage = \"url(\" + data + \")\"; } /* \"Hide/show\" an element. Arguments: id: ID of the element to hide/show show: true -> show false -> hide */ function NetworKit_showElement(id, show) { var element = document.getElementById(id); element.style.display = (show) ? \"block\" : \"none\"; } /* Show Overlay. Arguments: source: element to get data for the overlay */ function NetworKit_overlayShow(source) { NetworKit_overlayUpdate(source); NetworKit_showElement(\"NetworKit_Overlay\", true); } /* Update data of overlay. Arguments: source: element to get data for the overlay */ function NetworKit_overlayUpdate(source) { document.getElementById(\"NetworKit_Overlay_Title\").innerHTML = source.title; var index = source.getAttribute(\"data-image-index\"); var data = source.getAttribute(\"data-image-\" + index); var image = document.getElementById(\"NetworKit_Overlay_Image\"); image.setAttribute(\"data-id\", source.id); image.style.backgroundImage = \"url(\" + data + \")\"; var link = document.getElementById(\"NetworKit_Overlay_Toolbar_Bottom_Save\"); link.href = data; link.download = source.title + \".svg\"; } /* Shift through the possible images of the overlay. Arguments: delta: >0 next delta-th picture <0 previous delta-th picture */ function NetworKit_overlayImageShift(delta) { var image = document.getElementById(\"NetworKit_Overlay_Image\"); var source = document.getElementById(image.getAttribute(\"data-id\")); var index = parseInt(source.getAttribute(\"data-image-index\")); var length = parseInt(source.getAttribute(\"data-image-length\")); var index = (index+delta) % length; if (index < 0) { index = length + index; } source.setAttribute(\"data-image-index\", index); NetworKit_overlayUpdate(source); }';\n",
        "\t\t\telement.setAttribute('id', 'NetworKit_script');\n",
        "\t\t\tdocument.head.appendChild(element);\n",
        "\t\t}\n",
        "\t\n",
        "\t\t\t\n",
        "\t\t{\n",
        "\t\t\tvar element = document.getElementById('NetworKit_style');\n",
        "\t\t\tif (element) {\n",
        "\t\t\t\telement.parentNode.removeChild(element);\n",
        "\t\t\t}\n",
        "\t\t\telement = document.createElement('style');\n",
        "\t\t\telement.type = 'text/css';\n",
        "\t\t\telement.innerHTML = '/* file: profiling.css author: Mark Erb This file contains all CSS rules for the profiling layout The data will be automatically embedded as singelton into the original IPython Layout html > head > style id=\"NetworKit_style\" Every rule should be hosted by one of the following terms at least: .NetworKit_Page (=> Page) #NetworKit_Overlay (=> Overlay) See the following files for possible id/class names: profiling.profile.html profiling.overlay.html profiling.js */ /* --- Page ---------------------------------------------------------------- */ .NetworKit_Page { } .NetworKit_Page:before { font-size: 22px; content: \"Network Profile\"; } .NetworKit_Page .Group { margin-top: 6px; margin-left: 10px; } .NetworKit_Page .Group:before { font-size: 18px; display: block; } .NetworKit_Page .Node_Centrality_Measures:before { content: \"Node Centrality Measures\"; } .NetworKit_Page .Test:before { content: \"Test\"; } .NetworKit_Page .Plot { display: inline-block; width: 250px; height: 210px; margin-top: 4px; margin-left: 10px; text-align: center; margin-top: 8px; cursor: pointer; } .NetworKit_Page .Plot:hover { color: #FFFFFF; background-color: #333333; } .NetworKit_Page .Plot .Title { font-weight: bold; pointer-events: none; } .NetworKit_Page .Plot .Image { background-repeat: no-repeat; background-position: center center; background-size: contain; background-position: 0em 1.4em; height: 100%; pointer-events: none; } /* --- Overlay ------------------------------------------------------------- */ #NetworKit_Overlay { left: 0px; top: 0px; display: none; position: absolute; width: 100%; height: 100%; background-color: rgba(0,0,0,0.6); z-index: 1000; } #NetworKit_Overlay_Title { position: absolute; color: white; transform: rotate(-90deg); width: 32em; height: 32em; padding-right: 0.5em; padding-top: 0.5em; text-align: right; font-size: 40px; } #NetworKit_Overlay .button { background: white; cursor: pointer; } #NetworKit_Overlay .button:before { size: 13px; display: inline-block; text-align: center; margin-top: 0.5em; margin-bottom: 0.5em; width: 1.5em; height: 1.5em; } #NetworKit_Overlay .icon-close:before { content: \"X\"; } #NetworKit_Overlay .icon-previous:before { content: \"P\"; } #NetworKit_Overlay .icon-next:before { content: \"N\"; } #NetworKit_Overlay .icon-save:before { content: \"S\"; } #NetworKit_Overlay_Toolbar_Top, #NetworKit_Overlay_Toolbar_Bottom { position: absolute; width: 40px; right: 13px; text-align: right; z-index: 1100; } #NetworKit_Overlay_Toolbar_Top { top: 0.5em; } #NetworKit_Overlay_Toolbar_Bottom { Bottom: 0.5em; } #NetworKit_Overlay_ImageContainer { position: absolute; top: 5%; left: 5%; height: 90%; width: 90%; background-repeat: no-repeat; background-position: center center; background-size: contain; } #NetworKit_Overlay_Image { height: 100%; width: 100%; background-repeat: no-repeat; background-position: center center; background-size: contain; }';\n",
        "\t\t\telement.setAttribute('id', 'NetworKit_style');\n",
        "\t\t\tdocument.head.appendChild(element);\n",
        "\t\t}\n",
        "\t\n",
        "\t\t\t\n",
        "\t\t{\n",
        "\t\t\tvar element = document.getElementById('NetworKit_Overlay');\n",
        "\t\t\tif (element) {\n",
        "\t\t\t\telement.parentNode.removeChild(element);\n",
        "\t\t\t}\n",
        "\t\t\telement = document.createElement('div');\n",
        "\t\t\telement.innerHTML = '<div id=\"NetworKit_Overlay_Toolbar_Top\"><div class=\"button icon-close\" id=\"NetworKit_Overlay_Close\" /></div><!-- file: profiling.overlay.html author: Mark Erb This file contains all content representing the overlay layout. The data will be automatically embedded as singelton into the original IPython Layout html > body > div id=#NetworKit_Overlay together with <div id=\"NetworKit_Overlay_Toolbar_Top\"> <div class=\"button icon-close\" /> </div> --> <div id=\"NetworKit_Overlay_Title\" /> <div id=\"NetworKit_Overlay_ImageContainer\"> <div id=\"NetworKit_Overlay_Image\" /> </div> <div id=\"NetworKit_Overlay_Toolbar_Bottom\"> <div class=\"button icon-previous\" onclick=\"NetworKit_overlayImageShift(-1)\" /> <div class=\"button icon-next\" onclick=\"NetworKit_overlayImageShift(1)\" /> <a id=\"NetworKit_Overlay_Toolbar_Bottom_Save\"><div class=\"button icon-save\" /></a> </div>';\n",
        "\t\t\telement.setAttribute('id', 'NetworKit_Overlay');\n",
        "\t\t\tdocument.body.appendChild(element);\n",
        "\t\t\tdocument.getElementById('NetworKit_Overlay_Close').onclick = function (e) {\n",
        "\t\t\t\tdocument.getElementById('NetworKit_Overlay').style.display = 'none';\n",
        "\t\t\t}\n",
        "\t\t}\n",
        "\t\n",
        "\t\t-->\n",
        "\t\t</script>\n",
        "\t"
       ],
       "metadata": {},
       "output_type": "display_data"
      }
     ],
     "prompt_number": 1
    },
    {
     "cell_type": "code",
     "collapsed": false,
     "input": [
      "sample = [3.9, 3.3, 4.6, 4.0, 3.8, 3.8, 3.6, 4.6, 4.0, 3.9, 3.9, 3.9, 4.1, 3.7, 3.6, 4.6, 4.0, 4.0, 3.8, 4.1]\n",
      "\n",
      "print(sample)\n",
      "print(sorted(sample))\n",
      "print(len(sample))"
     ],
     "language": "python",
     "metadata": {},
     "outputs": [
      {
       "output_type": "stream",
       "stream": "stdout",
       "text": [
        "[3.9, 3.3, 4.6, 4.0, 3.8, 3.8, 3.6, 4.6, 4.0, 3.9, 3.9, 3.9, 4.1, 3.7, 3.6, 4.6, 4.0, 4.0, 3.8, 4.1]\n",
        "[3.3, 3.6, 3.6, 3.7, 3.8, 3.8, 3.8, 3.9, 3.9, 3.9, 3.9, 4.0, 4.0, 4.0, 4.0, 4.1, 4.1, 4.6, 4.6, 4.6]\n",
        "20\n"
       ]
      }
     ],
     "prompt_number": 2
    },
    {
     "cell_type": "code",
     "collapsed": false,
     "input": [
      "task = profiling.Stat_Task(\"Test\", sample)"
     ],
     "language": "python",
     "metadata": {},
     "outputs": [],
     "prompt_number": 3
    },
    {
     "cell_type": "code",
     "collapsed": false,
     "input": [
      "stat = task.run()\n",
      "\n",
      "print(stat)\n",
      "assert(stat[\"Size\"] == 20), \"Size\"\n",
      "assert(abs(stat[\"Location\"][\"Min\"] - 3.3) < 0.001), \"Location.Min\"\n",
      "assert(abs(stat[\"Location\"][\"Max\"] - 4.6) < 0.001), \"Location.Max\"\n",
      "assert(abs(stat[\"Location\"][\"1st Quartile\"] - 3.8) < 0.001), \"1st Quartile\"\n",
      "assert(abs(stat[\"Location\"][\"Median\"] - 3.9) < 0.001), \"Median\"\n",
      "assert(abs(stat[\"Location\"][\"3rd Quartile\"] - 4.05) < 0.001), \"3rd Quartile\"\n",
      "assert(abs(stat[\"Location\"][\"Arithmetic Mean\"] - 3.96) < 0.001), \"Arithmetic Mean\"\n",
      "assert(abs(stat[\"Location\"][\"Quadratic Mean\"] - 3.973) < 0.001), \"Quadratic Mean\"\n",
      "assert(abs(stat[\"Location\"][\"Interquartile Mean\"] - 3.92) < 0.001), \"Interquartile Mean\"\n",
      "assert(abs(stat[\"Dispersion\"][\"Variance\"] - 0.112) < 0.001), \"Variance\"\n",
      "assert(abs(stat[\"Dispersion\"][\"Standard Deviation\"] - 0.335) < 0.001), \"Standard Deviation\"\n",
      "assert(abs(stat[\"Dispersion\"][\"Coefficient Of Variation\"] - 0.085) < 0.001), \"Coefficient Of Variation\"\n",
      "assert(abs(stat[\"Dispersion\"][\"Sample Range\"] - 1.3) < 0.001), \"Sample Range\"\n",
      "assert(abs(stat[\"Dispersion\"][\"Interquartile Range\"] - 0.25) < 0.001), \"Interquartile Range\"\n",
      "assert(abs(stat[\"Shape\"][\"Skewness YP\"] - 0.538) < 0.001), \"Skewness YP\"\n",
      "assert(abs(stat[\"Shape\"][\"Skewness M\"] - 0.508) < 0.001), \"Skewness M\""
     ],
     "language": "python",
     "metadata": {},
     "outputs": [
      {
       "output_type": "stream",
       "stream": "stdout",
       "text": [
        "{'Location': {'Max': 4.6, 'Interquartile Mean': 3.9200000000000004, 'Min': 3.3, '3rd Quartile': 4.05, 'Arithmetic Mean': 3.96, 'Quadratic Mean': 3.9734116323381348, 'Median': 3.9, '1st Quartile': 3.8}, 'Dispersion': {'Standard Deviation': 0.3346640106136301, 'Sample Range': 1.2999999999999998, 'Variance': 0.11199999999999992, 'Coefficient Of Variation': 0.08451111379132073, 'Interquartile Range': 0.25}, 'Shape': {'Skewness YP': 0.5378528742004778, 'Skewness M': 0.5077587252868778, 'Kurtosis': -0.07420918367346863}, 'Size': 20}\n"
       ]
      }
     ],
     "prompt_number": 4
    },
    {
     "cell_type": "code",
     "collapsed": false,
     "input": [
      "import numpy as np\n",
      "import matplotlib.pyplot as plt\n",
      "\n",
      "# setup the figure and axes\n",
      "fig = plt.figure(figsize=(6,4))\n",
      "bpAx = fig.add_axes([0.2, 0.7, 0.7, 0.2])   # left, bottom, width, height:\n",
      "                                            # (adjust as necessary)\n",
      "histAx = fig.add_axes([0.2, 0.2, 0.7, 0.5]) # left specs should match and\n",
      "                                            # bottom + height on this line should\n",
      "                                            # equal bottom on bpAx line\n",
      "# plot stuff\n",
      "bp = bpAx.boxplot(sample, notch=True, vert=False)\n",
      "h = histAx.hist(sample, bins=5)\n",
      "\n",
      "# confirm that the axes line up \n",
      "xlims = np.array([bpAx.get_xlim(), histAx.get_xlim()])\n",
      "for ax in [bpAx, histAx]:\n",
      "    ax.set_xlim([xlims.min(), xlims.max()])\n",
      "\n",
      "bpAx.set_xticklabels([])  # clear out overlapping xlabels\n",
      "bpAx.set_yticks([])  # don't need that 1 tick mark\n",
      "plt.show()"
     ],
     "language": "python",
     "metadata": {},
     "outputs": [
      {
       "metadata": {},
       "output_type": "display_data",
       "png": "[encoded data removed]",
       "text": [
        "<matplotlib.figure.Figure at 0x7f5e64a75080>"
       ]
      }
     ],
     "prompt_number": 7
    }
   ],
   "metadata": {}
  }
 ]
}
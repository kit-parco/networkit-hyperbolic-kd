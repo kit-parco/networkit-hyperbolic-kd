{
 "metadata": {
  "name": ""
 },
 "nbformat": 3,
 "nbformat_minor": 0,
 "worksheets": [
  {
   "cells": [
    {
     "cell_type": "markdown",
     "metadata": {},
     "source": [
      "Centrality\n",
      "==========\n",
      "\n",
      "This evaluates the Eigenvector Centrality and PageRank implemented in Python against C++-native EVZ and PageRank. The Python implementation uses SciPy (and thus ARPACK) to compute the eigenvectors, while the C++ method implements a power iteration method itself.\n",
      "\n",
      "**Please note**: This notebook requires the pandas package. If you do not have it installed, you can use the \"Centrality\" notebook instead - but this one will look *much* nicer, so install pandas. ;)"
     ]
    },
    {
     "cell_type": "code",
     "collapsed": false,
     "input": [
      "import NetworKit\n",
      "import pandas as pd\n",
      "import random as rd"
     ],
     "language": "python",
     "metadata": {},
     "outputs": [],
     "prompt_number": 10
    },
    {
     "cell_type": "code",
     "collapsed": false,
     "input": [
      "G = NetworKit.graphio.readGraph(\"../input/celegans_metabolic.graph\")"
     ],
     "language": "python",
     "metadata": {},
     "outputs": [],
     "prompt_number": 11
    },
    {
     "cell_type": "markdown",
     "metadata": {},
     "source": [
      "First, we just compute the Python EVZ and display a sample. The \"scores()\" method returns a list of centrality scores in order of the vertices. Thus, what you see below are the (normalized, see the respective argument) centrality scores for G.nodes()[0], G.nodes()[1], ... "
     ]
    },
    {
     "cell_type": "code",
     "collapsed": false,
     "input": [
      "evzNative = NetworKit.centrality.PythonNativeEVZ(G, normalized=True)\n",
      "evzNative.run()\n",
      "scoresTableEVZ = pd.DataFrame({\"Python EVZ\": evzNative.scores()[:10]})\n",
      "scoresTableEVZ"
     ],
     "language": "python",
     "metadata": {},
     "outputs": [
      {
       "html": [
        "<div style=\"max-height:1000px;max-width:1500px;overflow:auto;\">\n",
        "<table border=\"1\" class=\"dataframe\">\n",
        "  <thead>\n",
        "    <tr style=\"text-align: right;\">\n",
        "      <th></th>\n",
        "      <th>Python EVZ</th>\n",
        "    </tr>\n",
        "  </thead>\n",
        "  <tbody>\n",
        "    <tr>\n",
        "      <th>0</th>\n",
        "      <td> 0.038891</td>\n",
        "    </tr>\n",
        "    <tr>\n",
        "      <th>1</th>\n",
        "      <td> 0.025204</td>\n",
        "    </tr>\n",
        "    <tr>\n",
        "      <th>2</th>\n",
        "      <td> 0.030100</td>\n",
        "    </tr>\n",
        "    <tr>\n",
        "      <th>3</th>\n",
        "      <td> 0.023008</td>\n",
        "    </tr>\n",
        "    <tr>\n",
        "      <th>4</th>\n",
        "      <td> 0.015014</td>\n",
        "    </tr>\n",
        "    <tr>\n",
        "      <th>5</th>\n",
        "      <td> 0.047450</td>\n",
        "    </tr>\n",
        "    <tr>\n",
        "      <th>6</th>\n",
        "      <td> 0.038774</td>\n",
        "    </tr>\n",
        "    <tr>\n",
        "      <th>7</th>\n",
        "      <td> 0.000182</td>\n",
        "    </tr>\n",
        "    <tr>\n",
        "      <th>8</th>\n",
        "      <td> 0.004303</td>\n",
        "    </tr>\n",
        "    <tr>\n",
        "      <th>9</th>\n",
        "      <td> 0.019821</td>\n",
        "    </tr>\n",
        "  </tbody>\n",
        "</table>\n",
        "</div>"
       ],
       "metadata": {},
       "output_type": "pyout",
       "prompt_number": 12,
       "text": [
        "   Python EVZ\n",
        "0    0.038891\n",
        "1    0.025204\n",
        "2    0.030100\n",
        "3    0.023008\n",
        "4    0.015014\n",
        "5    0.047450\n",
        "6    0.038774\n",
        "7    0.000182\n",
        "8    0.004303\n",
        "9    0.019821"
       ]
      }
     ],
     "prompt_number": 12
    },
    {
     "cell_type": "markdown",
     "metadata": {},
     "source": [
      "We now take a look at the 10 most central vertices according to the four heuristics. Here, the centrality algorithms offer the ranking() method that returns a list of (vertex, centrality) ordered by centrality. We first compute the remaining values..."
     ]
    },
    {
     "cell_type": "code",
     "collapsed": false,
     "input": [
      "evz = NetworKit.centrality.EigenvectorCentrality(G, True)\n",
      "evz.run()\n",
      "\n",
      "pageRank = NetworKit.centrality.PageRank(G, 0.95)\n",
      "pageRank.run()\n",
      "\n",
      "pageRankNative = NetworKit.centrality.PythonNativePageRank(G, 0.95, normalized=True)\n",
      "pageRankNative.run()"
     ],
     "language": "python",
     "metadata": {},
     "outputs": [],
     "prompt_number": 13
    },
    {
     "cell_type": "markdown",
     "metadata": {},
     "source": [
      "... then display it. What you will see is a list of the 10 most important vertices and their respective centralities according to the C++ / Python version of eigenvector centrality:"
     ]
    },
    {
     "cell_type": "code",
     "collapsed": false,
     "input": [
      "rankTableEVZ = pd.DataFrame({\"Python EVZ\": evzNative.ranking()[:10], \"C++ EVZ\": evz.ranking()[:10]})\n",
      "rankTableEVZ"
     ],
     "language": "python",
     "metadata": {},
     "outputs": [
      {
       "html": [
        "<div style=\"max-height:1000px;max-width:1500px;overflow:auto;\">\n",
        "<table border=\"1\" class=\"dataframe\">\n",
        "  <thead>\n",
        "    <tr style=\"text-align: right;\">\n",
        "      <th></th>\n",
        "      <th>C++ EVZ</th>\n",
        "      <th>Python EVZ</th>\n",
        "    </tr>\n",
        "  </thead>\n",
        "  <tbody>\n",
        "    <tr>\n",
        "      <th>0</th>\n",
        "      <td>  (185, 0.3586787763956071)</td>\n",
        "      <td> (185, 0.379989203942)</td>\n",
        "    </tr>\n",
        "    <tr>\n",
        "      <th>1</th>\n",
        "      <td>  (407, 0.2420807643210619)</td>\n",
        "      <td> (146, 0.255898448442)</td>\n",
        "    </tr>\n",
        "    <tr>\n",
        "      <th>2</th>\n",
        "      <td> (146, 0.23956989544776153)</td>\n",
        "      <td> (407, 0.252999927439)</td>\n",
        "    </tr>\n",
        "    <tr>\n",
        "      <th>3</th>\n",
        "      <td> (144, 0.20553600559712537)</td>\n",
        "      <td> (144, 0.219520348228)</td>\n",
        "    </tr>\n",
        "    <tr>\n",
        "      <th>4</th>\n",
        "      <td>   (204, 0.177385111798723)</td>\n",
        "      <td> (204, 0.180141731247)</td>\n",
        "    </tr>\n",
        "    <tr>\n",
        "      <th>5</th>\n",
        "      <td> (230, 0.16792666595381617)</td>\n",
        "      <td> (230, 0.170370221466)</td>\n",
        "    </tr>\n",
        "    <tr>\n",
        "      <th>6</th>\n",
        "      <td>  (152, 0.1548329695474894)</td>\n",
        "      <td> (226, 0.153439766232)</td>\n",
        "    </tr>\n",
        "    <tr>\n",
        "      <th>7</th>\n",
        "      <td>  (227, 0.1491114355708722)</td>\n",
        "      <td> (227, 0.153439766232)</td>\n",
        "    </tr>\n",
        "    <tr>\n",
        "      <th>8</th>\n",
        "      <td>  (226, 0.1491114355708722)</td>\n",
        "      <td> (152, 0.152560173456)</td>\n",
        "    </tr>\n",
        "    <tr>\n",
        "      <th>9</th>\n",
        "      <td> (425, 0.13360064298606755)</td>\n",
        "      <td> (425, 0.136202654583)</td>\n",
        "    </tr>\n",
        "  </tbody>\n",
        "</table>\n",
        "</div>"
       ],
       "metadata": {},
       "output_type": "pyout",
       "prompt_number": 14,
       "text": [
        "                      C++ EVZ             Python EVZ\n",
        "0   (185, 0.3586787763956071)  (185, 0.379989203942)\n",
        "1   (407, 0.2420807643210619)  (146, 0.255898448442)\n",
        "2  (146, 0.23956989544776153)  (407, 0.252999927439)\n",
        "3  (144, 0.20553600559712537)  (144, 0.219520348228)\n",
        "4    (204, 0.177385111798723)  (204, 0.180141731247)\n",
        "5  (230, 0.16792666595381617)  (230, 0.170370221466)\n",
        "6   (152, 0.1548329695474894)  (226, 0.153439766232)\n",
        "7   (227, 0.1491114355708722)  (227, 0.153439766232)\n",
        "8   (226, 0.1491114355708722)  (152, 0.152560173456)\n",
        "9  (425, 0.13360064298606755)  (425, 0.136202654583)"
       ]
      }
     ],
     "prompt_number": 14
    },
    {
     "cell_type": "markdown",
     "metadata": {},
     "source": [
      "If everything went well, this should look at least similar. Now we do the same for the PageRank instead of EVZ:"
     ]
    },
    {
     "cell_type": "code",
     "collapsed": false,
     "input": [
      "rankTablePR = pd.DataFrame({\"Python PageRank\": pageRankNative.ranking()[:10], \"C++ PageRank\": pageRank.ranking()[:10]})\n",
      "rankTablePR"
     ],
     "language": "python",
     "metadata": {},
     "outputs": [
      {
       "html": [
        "<div style=\"max-height:1000px;max-width:1500px;overflow:auto;\">\n",
        "<table border=\"1\" class=\"dataframe\">\n",
        "  <thead>\n",
        "    <tr style=\"text-align: right;\">\n",
        "      <th></th>\n",
        "      <th>C++ PageRank</th>\n",
        "      <th>Python PageRank</th>\n",
        "    </tr>\n",
        "  </thead>\n",
        "  <tbody>\n",
        "    <tr>\n",
        "      <th>0</th>\n",
        "      <td> (185, 0.057548689143122875)</td>\n",
        "      <td> (185, 0.562733076611)</td>\n",
        "    </tr>\n",
        "    <tr>\n",
        "      <th>1</th>\n",
        "      <td>  (146, 0.02874524532245119)</td>\n",
        "      <td> (146, 0.298785343709)</td>\n",
        "    </tr>\n",
        "    <tr>\n",
        "      <th>2</th>\n",
        "      <td>  (407, 0.02528870954478069)</td>\n",
        "      <td> (144, 0.256797574956)</td>\n",
        "    </tr>\n",
        "    <tr>\n",
        "      <th>3</th>\n",
        "      <td>  (144, 0.02435921673354546)</td>\n",
        "      <td> (407, 0.243189068514)</td>\n",
        "    </tr>\n",
        "    <tr>\n",
        "      <th>4</th>\n",
        "      <td> (226, 0.017416341016188205)</td>\n",
        "      <td> (227, 0.195717909276)</td>\n",
        "    </tr>\n",
        "    <tr>\n",
        "      <th>5</th>\n",
        "      <td> (227, 0.017416341016188205)</td>\n",
        "      <td> (226, 0.190980394906)</td>\n",
        "    </tr>\n",
        "    <tr>\n",
        "      <th>6</th>\n",
        "      <td> (152, 0.015082439274723199)</td>\n",
        "      <td> (204, 0.162178159119)</td>\n",
        "    </tr>\n",
        "    <tr>\n",
        "      <th>7</th>\n",
        "      <td> (425, 0.014952542568116085)</td>\n",
        "      <td> (152, 0.154677939335)</td>\n",
        "    </tr>\n",
        "    <tr>\n",
        "      <th>8</th>\n",
        "      <td> (204, 0.014704749200614793)</td>\n",
        "      <td> (425, 0.152864599797)</td>\n",
        "    </tr>\n",
        "    <tr>\n",
        "      <th>9</th>\n",
        "      <td> (230, 0.014234930427413514)</td>\n",
        "      <td> (230, 0.146798611514)</td>\n",
        "    </tr>\n",
        "  </tbody>\n",
        "</table>\n",
        "</div>"
       ],
       "metadata": {},
       "output_type": "pyout",
       "prompt_number": 15,
       "text": [
        "                  C++ PageRank        Python PageRank\n",
        "0  (185, 0.057548689143122875)  (185, 0.562733076611)\n",
        "1   (146, 0.02874524532245119)  (146, 0.298785343709)\n",
        "2   (407, 0.02528870954478069)  (144, 0.256797574956)\n",
        "3   (144, 0.02435921673354546)  (407, 0.243189068514)\n",
        "4  (226, 0.017416341016188205)  (227, 0.195717909276)\n",
        "5  (227, 0.017416341016188205)  (226, 0.190980394906)\n",
        "6  (152, 0.015082439274723199)  (204, 0.162178159119)\n",
        "7  (425, 0.014952542568116085)  (152, 0.154677939335)\n",
        "8  (204, 0.014704749200614793)  (425, 0.152864599797)\n",
        "9  (230, 0.014234930427413514)  (230, 0.146798611514)"
       ]
      }
     ],
     "prompt_number": 15
    },
    {
     "cell_type": "markdown",
     "metadata": {},
     "source": [
      "If everything went well, these should look similar, too. You might notice a rather large constant factor between the centrality values. This seems to be because of a bug in the normalization of the C++ backend. Let's take a look at the magnitudes of the vectors (which should be 1 after normalization):"
     ]
    },
    {
     "cell_type": "code",
     "collapsed": false,
     "input": [
      "mag = lambda x: math.sqrt(sum((i[1])**2 for i in x))\n",
      "print(\"C++ magnitude: {}\".format(mag(pageRank.ranking())))\n",
      "print(\"Python magnitude: {}\".format(mag(pageRankNative.ranking())))"
     ],
     "language": "python",
     "metadata": {},
     "outputs": [
      {
       "output_type": "stream",
       "stream": "stdout",
       "text": [
        "C++ magnitude: 0.09608001404919528\n",
        "Python magnitude: 0.9999999999999998\n"
       ]
      }
     ],
     "prompt_number": 16
    },
    {
     "cell_type": "markdown",
     "metadata": {},
     "source": [
      "To make sure that not just the top scoring vertices are comparable in both implementations, here are 10 randomly selected vertices in comparison:"
     ]
    },
    {
     "cell_type": "code",
     "collapsed": false,
     "input": [
      "vertices = rd.sample(G.nodes(), 10)\n",
      "randTableEVZ = pd.DataFrame({\"Python EVZ\": evzNative.scores(), \"C++ EVZ\": evz.scores()})\n",
      "randTableEVZ.loc[vertices]"
     ],
     "language": "python",
     "metadata": {},
     "outputs": [
      {
       "html": [
        "<div style=\"max-height:1000px;max-width:1500px;overflow:auto;\">\n",
        "<table border=\"1\" class=\"dataframe\">\n",
        "  <thead>\n",
        "    <tr style=\"text-align: right;\">\n",
        "      <th></th>\n",
        "      <th>C++ EVZ</th>\n",
        "      <th>Python EVZ</th>\n",
        "    </tr>\n",
        "  </thead>\n",
        "  <tbody>\n",
        "    <tr>\n",
        "      <th>411</th>\n",
        "      <td> 0.027216</td>\n",
        "      <td> 0.025780</td>\n",
        "    </tr>\n",
        "    <tr>\n",
        "      <th>156</th>\n",
        "      <td> 0.046471</td>\n",
        "      <td> 0.043589</td>\n",
        "    </tr>\n",
        "    <tr>\n",
        "      <th>255</th>\n",
        "      <td> 0.017720</td>\n",
        "      <td> 0.015704</td>\n",
        "    </tr>\n",
        "    <tr>\n",
        "      <th>314</th>\n",
        "      <td> 0.018252</td>\n",
        "      <td> 0.016308</td>\n",
        "    </tr>\n",
        "    <tr>\n",
        "      <th>104</th>\n",
        "      <td> 0.022491</td>\n",
        "      <td> 0.021625</td>\n",
        "    </tr>\n",
        "    <tr>\n",
        "      <th>274</th>\n",
        "      <td> 0.011137</td>\n",
        "      <td> 0.011553</td>\n",
        "    </tr>\n",
        "    <tr>\n",
        "      <th>364</th>\n",
        "      <td> 0.045979</td>\n",
        "      <td> 0.044784</td>\n",
        "    </tr>\n",
        "    <tr>\n",
        "      <th>259</th>\n",
        "      <td> 0.017624</td>\n",
        "      <td> 0.015632</td>\n",
        "    </tr>\n",
        "    <tr>\n",
        "      <th>392</th>\n",
        "      <td> 0.018906</td>\n",
        "      <td> 0.017157</td>\n",
        "    </tr>\n",
        "    <tr>\n",
        "      <th>433</th>\n",
        "      <td> 0.012032</td>\n",
        "      <td> 0.011658</td>\n",
        "    </tr>\n",
        "  </tbody>\n",
        "</table>\n",
        "</div>"
       ],
       "metadata": {},
       "output_type": "pyout",
       "prompt_number": 17,
       "text": [
        "      C++ EVZ  Python EVZ\n",
        "411  0.027216    0.025780\n",
        "156  0.046471    0.043589\n",
        "255  0.017720    0.015704\n",
        "314  0.018252    0.016308\n",
        "104  0.022491    0.021625\n",
        "274  0.011137    0.011553\n",
        "364  0.045979    0.044784\n",
        "259  0.017624    0.015632\n",
        "392  0.018906    0.017157\n",
        "433  0.012032    0.011658"
       ]
      }
     ],
     "prompt_number": 17
    },
    {
     "cell_type": "markdown",
     "metadata": {},
     "source": [
      "Finally, we take a look at the relative differences between the computed centralities for the vertices:"
     ]
    },
    {
     "cell_type": "code",
     "collapsed": false,
     "input": [
      "differences = [(max(x[0], x[1]) / min(x[0], x[1])) - 1 for x in zip(evz.scores(), evzNative.scores())]\n",
      "print(\"Average relative difference: {}\".format(sum(differences) / len(differences)))\n",
      "print(\"Maximum relative difference: {}\".format(max(differences)))"
     ],
     "language": "python",
     "metadata": {},
     "outputs": [
      {
       "output_type": "stream",
       "stream": "stdout",
       "text": [
        "Average relative difference: 0.08411651551541888\n",
        "Maximum relative difference: 1.3555889061619548\n"
       ]
      }
     ],
     "prompt_number": 18
    },
    {
     "cell_type": "code",
     "collapsed": false,
     "input": [],
     "language": "python",
     "metadata": {},
     "outputs": [],
     "prompt_number": 18
    }
   ],
   "metadata": {}
  }
 ]
}